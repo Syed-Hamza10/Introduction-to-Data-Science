{
 "cells": [
  {
   "cell_type": "markdown",
   "id": "d3b1242a",
   "metadata": {},
   "source": [
    "### Assignment-02 (DICTIONARY)\n",
    "- Change the notebook name with your name and Roll Number.\n",
    "- Try this as your own, no chatgpt (it's for your learning)\n",
    "- after completing the assignment, submit this book on google class room."
   ]
  },
  {
   "cell_type": "markdown",
   "id": "3079cae1",
   "metadata": {},
   "source": [
    "    Create an empty dictionary and print it.\n"
   ]
  },
  {
   "cell_type": "code",
   "execution_count": 4,
   "id": "1e0b1c0d",
   "metadata": {},
   "outputs": [
    {
     "name": "stdout",
     "output_type": "stream",
     "text": [
      "{}\n"
     ]
    }
   ],
   "source": [
    "a = {}\n",
    "type(a)\n",
    "print(a)"
   ]
  },
  {
   "cell_type": "markdown",
   "id": "c02f03e9",
   "metadata": {},
   "source": [
    "    Create a dictionary representing a person with keys such as 'name', 'age', and 'city'.\n"
   ]
  },
  {
   "cell_type": "code",
   "execution_count": 7,
   "id": "1c55f8a0",
   "metadata": {},
   "outputs": [
    {
     "data": {
      "text/plain": [
       "{'Name': 'Hamza', 'Age': 22, 'City': 'Its Lahore Bro'}"
      ]
     },
     "execution_count": 7,
     "metadata": {},
     "output_type": "execute_result"
    }
   ],
   "source": [
    "data = {'Name' : 'Hamza', \"Age\" : 22, \"City\": 'Its Lahore Bro'}\n",
    "data"
   ]
  },
  {
   "cell_type": "markdown",
   "id": "3de2a866",
   "metadata": {},
   "source": [
    "    Create a dictionary that includes keys with different data types (strings, integers)."
   ]
  },
  {
   "cell_type": "code",
   "execution_count": 8,
   "id": "89c0b2ee",
   "metadata": {},
   "outputs": [
    {
     "data": {
      "text/plain": [
       "{'Name': 'Hamza', 22: 'Age', 'City': 'Its Lahore Bro'}"
      ]
     },
     "execution_count": 8,
     "metadata": {},
     "output_type": "execute_result"
    }
   ],
   "source": [
    "data = {'Name' : 'Hamza', 22 : \"Age\", \"City\": 'Its Lahore Bro'}\n",
    "data"
   ]
  },
  {
   "cell_type": "markdown",
   "id": "41ce050c",
   "metadata": {},
   "source": [
    "Access and print the value associated with a specific key."
   ]
  },
  {
   "cell_type": "code",
   "execution_count": 9,
   "id": "ec5dbc94",
   "metadata": {},
   "outputs": [
    {
     "data": {
      "text/plain": [
       "'Hamza'"
      ]
     },
     "execution_count": 9,
     "metadata": {},
     "output_type": "execute_result"
    }
   ],
   "source": [
    "data['Name']"
   ]
  },
  {
   "cell_type": "markdown",
   "id": "b6b0c37d",
   "metadata": {},
   "source": [
    "    Use the get() method to access a value, providing a default value if the key is not present.\n"
   ]
  },
  {
   "cell_type": "code",
   "execution_count": 10,
   "id": "7aa9e88c",
   "metadata": {},
   "outputs": [
    {
     "ename": "TypeError",
     "evalue": "get expected at least 1 argument, got 0",
     "output_type": "error",
     "traceback": [
      "\u001b[1;31m---------------------------------------------------------------------------\u001b[0m",
      "\u001b[1;31mTypeError\u001b[0m                                 Traceback (most recent call last)",
      "Cell \u001b[1;32mIn[10], line 1\u001b[0m\n\u001b[1;32m----> 1\u001b[0m a\u001b[38;5;241m.\u001b[39mget()\n",
      "\u001b[1;31mTypeError\u001b[0m: get expected at least 1 argument, got 0"
     ]
    }
   ],
   "source": [
    "a.get()"
   ]
  },
  {
   "cell_type": "markdown",
   "id": "fd070da0",
   "metadata": {},
   "source": [
    "    Iterate through the keys of a dictionary and print each key."
   ]
  },
  {
   "cell_type": "code",
   "execution_count": null,
   "id": "20a421cc",
   "metadata": {},
   "outputs": [],
   "source": []
  },
  {
   "cell_type": "markdown",
   "id": "b743bd62",
   "metadata": {},
   "source": [
    "Add a new key-value pair to a dictionary."
   ]
  },
  {
   "cell_type": "code",
   "execution_count": null,
   "id": "db404144",
   "metadata": {},
   "outputs": [],
   "source": []
  },
  {
   "cell_type": "markdown",
   "id": "ef13537b",
   "metadata": {},
   "source": [
    "Modify the value associated with an existing key."
   ]
  },
  {
   "cell_type": "code",
   "execution_count": null,
   "id": "5e655290",
   "metadata": {},
   "outputs": [],
   "source": []
  },
  {
   "cell_type": "markdown",
   "id": "2ff9fb92",
   "metadata": {},
   "source": [
    "Remove a specific key-value pair from a dictionary using the pop() method.\n",
    "\n"
   ]
  },
  {
   "cell_type": "code",
   "execution_count": null,
   "id": "1bdb4169",
   "metadata": {},
   "outputs": [],
   "source": []
  },
  {
   "cell_type": "markdown",
   "id": "edc2abf7",
   "metadata": {},
   "source": [
    "    Remove a specific key-value pair from a dictionary using the del statement."
   ]
  },
  {
   "cell_type": "code",
   "execution_count": null,
   "id": "538eca73",
   "metadata": {},
   "outputs": [],
   "source": []
  },
  {
   "cell_type": "markdown",
   "id": "0f2d7e6a",
   "metadata": {},
   "source": [
    "Convert a dictionary to a list of keys."
   ]
  },
  {
   "cell_type": "code",
   "execution_count": null,
   "id": "5705250c",
   "metadata": {},
   "outputs": [],
   "source": []
  },
  {
   "cell_type": "markdown",
   "id": "1191e090",
   "metadata": {},
   "source": [
    "    Convert a dictionary to a list of values.\n"
   ]
  },
  {
   "cell_type": "code",
   "execution_count": null,
   "id": "e89b908a",
   "metadata": {},
   "outputs": [],
   "source": []
  },
  {
   "cell_type": "markdown",
   "id": "f72c7f5e",
   "metadata": {},
   "source": [
    "    Convert a list of tuples to a dictionary."
   ]
  },
  {
   "cell_type": "code",
   "execution_count": null,
   "id": "2f531bc4",
   "metadata": {},
   "outputs": [],
   "source": []
  },
  {
   "cell_type": "markdown",
   "id": "8ce9bedf",
   "metadata": {},
   "source": [
    "Use the keys() method to get a list of keys in a dictionary.\n"
   ]
  },
  {
   "cell_type": "code",
   "execution_count": null,
   "id": "7d975a45",
   "metadata": {},
   "outputs": [],
   "source": []
  },
  {
   "cell_type": "markdown",
   "id": "8adb7c9d",
   "metadata": {},
   "source": [
    "\n",
    "    Use the values() method to get a list of values in a dictionary.\n"
   ]
  },
  {
   "cell_type": "code",
   "execution_count": null,
   "id": "fb8a455c",
   "metadata": {},
   "outputs": [],
   "source": []
  },
  {
   "cell_type": "markdown",
   "id": "b4b044e4",
   "metadata": {},
   "source": [
    "    Use the items() method to get a list of key-value pairs in a dictionary."
   ]
  },
  {
   "cell_type": "code",
   "execution_count": null,
   "id": "ca390b74",
   "metadata": {},
   "outputs": [],
   "source": []
  },
  {
   "cell_type": "markdown",
   "id": "bd4eb41b",
   "metadata": {},
   "source": [
    "Check if a key is present in a dictionary using the in operator.\n",
    "\n"
   ]
  },
  {
   "cell_type": "code",
   "execution_count": null,
   "id": "39c2a92f",
   "metadata": {},
   "outputs": [],
   "source": []
  },
  {
   "cell_type": "markdown",
   "id": "ba80007f",
   "metadata": {},
   "source": [
    "    Use the setdefault() method to add a key with a default value if it doesn't exist.\n"
   ]
  },
  {
   "cell_type": "code",
   "execution_count": null,
   "id": "cc19bd44",
   "metadata": {},
   "outputs": [],
   "source": []
  },
  {
   "cell_type": "markdown",
   "id": "5dd9b173",
   "metadata": {},
   "source": [
    "    Merge two dictionaries using the update() method.\n"
   ]
  },
  {
   "cell_type": "code",
   "execution_count": null,
   "id": "05e95981",
   "metadata": {},
   "outputs": [],
   "source": []
  },
  {
   "cell_type": "markdown",
   "id": "1415c188",
   "metadata": {},
   "source": [
    "    Use the clear() method to remove all elements from a dictionary."
   ]
  },
  {
   "cell_type": "code",
   "execution_count": null,
   "id": "bdf48d4c",
   "metadata": {},
   "outputs": [],
   "source": []
  }
 ],
 "metadata": {
  "kernelspec": {
   "display_name": "Python 3 (ipykernel)",
   "language": "python",
   "name": "python3"
  },
  "language_info": {
   "codemirror_mode": {
    "name": "ipython",
    "version": 3
   },
   "file_extension": ".py",
   "mimetype": "text/x-python",
   "name": "python",
   "nbconvert_exporter": "python",
   "pygments_lexer": "ipython3",
   "version": "3.11.5"
  }
 },
 "nbformat": 4,
 "nbformat_minor": 5
}
