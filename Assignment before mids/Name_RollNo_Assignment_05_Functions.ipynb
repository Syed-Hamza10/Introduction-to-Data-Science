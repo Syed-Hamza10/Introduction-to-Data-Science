{
 "cells": [
  {
   "cell_type": "markdown",
   "id": "292d70c6",
   "metadata": {},
   "source": [
    "### Assignment-05 (Functions)\n",
    "- Change the notebook name with your name and Roll Number.\n",
    "- Try this as your own, no chatgpt (it's for your learning)\n",
    "- after completing the assignment, submit this book on google class room."
   ]
  },
  {
   "cell_type": "markdown",
   "id": "a78a8d1f",
   "metadata": {},
   "source": [
    "Write a function named add_numbers that takes two parameters and returns their sum."
   ]
  },
  {
   "cell_type": "code",
   "execution_count": 1,
   "id": "ecc43aae",
   "metadata": {},
   "outputs": [],
   "source": [
    "def add_numbers(n , m):\n",
    "    return n + m"
   ]
  },
  {
   "cell_type": "markdown",
   "id": "b8557bc1",
   "metadata": {},
   "source": [
    "Define a function calculate_area to compute the area of a rectangle given its length and width."
   ]
  },
  {
   "cell_type": "code",
   "execution_count": 2,
   "id": "5da1bce6",
   "metadata": {},
   "outputs": [],
   "source": [
    "def calculate_area(x, y):\n",
    "    return x * y"
   ]
  },
  {
   "cell_type": "markdown",
   "id": "ced07c44",
   "metadata": {},
   "source": [
    "Add a docstring to the calculate_area function explaining its purpose."
   ]
  },
  {
   "cell_type": "code",
   "execution_count": 3,
   "id": "a5a19740",
   "metadata": {},
   "outputs": [],
   "source": [
    "def calculate_area(x, y):\n",
    "    '''Calculates area of a rectangle'''\n",
    "    return x * y"
   ]
  },
  {
   "cell_type": "markdown",
   "id": "eaa57b3d",
   "metadata": {},
   "source": [
    "Create a function print_greeting that takes a name as an argument and prints a personalized greeting.\n"
   ]
  },
  {
   "cell_type": "code",
   "execution_count": 4,
   "id": "134dff75",
   "metadata": {},
   "outputs": [],
   "source": [
    "def print_greeting(name):\n",
    "    print(f'AssalamuAlaikum Warehmatullah, {name}! How are you buddy?')"
   ]
  },
  {
   "cell_type": "markdown",
   "id": "a9226488",
   "metadata": {},
   "source": [
    "Write a function is_prime that checks if a given number is prime.\n"
   ]
  },
  {
   "cell_type": "code",
   "execution_count": 9,
   "id": "787f0b36",
   "metadata": {},
   "outputs": [],
   "source": [
    "def is_prime(n):\n",
    "    count = 0\n",
    "    for i in range(1,n+1):\n",
    "        if n % i == 0:\n",
    "            count += 1\n",
    "    return True if count == 2 else False"
   ]
  },
  {
   "cell_type": "code",
   "execution_count": 16,
   "id": "5f4c206b",
   "metadata": {},
   "outputs": [
    {
     "data": {
      "text/plain": [
       "False"
      ]
     },
     "execution_count": 16,
     "metadata": {},
     "output_type": "execute_result"
    }
   ],
   "source": [
    "is_prime(6)"
   ]
  },
  {
   "cell_type": "markdown",
   "id": "9b526fa5",
   "metadata": {},
   "source": [
    "Implement a function factorial to calculate the factorial of a given number.\n"
   ]
  },
  {
   "cell_type": "code",
   "execution_count": 27,
   "id": "800a23c7",
   "metadata": {},
   "outputs": [],
   "source": [
    "def factorial_recursive(n):\n",
    "    if n == 0:\n",
    "        return 1\n",
    "    return factorial_recursive(n-1) * n"
   ]
  },
  {
   "cell_type": "code",
   "execution_count": 28,
   "id": "e383ce47",
   "metadata": {},
   "outputs": [
    {
     "data": {
      "text/plain": [
       "120"
      ]
     },
     "execution_count": 28,
     "metadata": {},
     "output_type": "execute_result"
    }
   ],
   "source": [
    "factorial_recursive(5)"
   ]
  },
  {
   "cell_type": "code",
   "execution_count": 31,
   "id": "3bf09907",
   "metadata": {},
   "outputs": [],
   "source": [
    "def factorial_iter(n):\n",
    "    count = 1\n",
    "    for i in range(1,n+1):\n",
    "        count = count * i\n",
    "    return count"
   ]
  },
  {
   "cell_type": "code",
   "execution_count": 33,
   "id": "106c1acf",
   "metadata": {},
   "outputs": [
    {
     "data": {
      "text/plain": [
       "24"
      ]
     },
     "execution_count": 33,
     "metadata": {},
     "output_type": "execute_result"
    }
   ],
   "source": [
    "factorial_iter(4)"
   ]
  },
  {
   "cell_type": "markdown",
   "id": "96ca84b5",
   "metadata": {},
   "source": [
    "Create a function print_pattern to print a specific pattern of stars."
   ]
  },
  {
   "cell_type": "code",
   "execution_count": 36,
   "id": "3239542e",
   "metadata": {},
   "outputs": [],
   "source": [
    "def print_star(n):\n",
    "    for i in range(n+1):\n",
    "        print('*' * i)"
   ]
  },
  {
   "cell_type": "code",
   "execution_count": 37,
   "id": "1759006c",
   "metadata": {},
   "outputs": [
    {
     "name": "stdout",
     "output_type": "stream",
     "text": [
      "\n",
      "*\n",
      "**\n",
      "***\n",
      "****\n",
      "*****\n"
     ]
    }
   ],
   "source": [
    "print_star(5)"
   ]
  },
  {
   "cell_type": "markdown",
   "id": "dd5ace57",
   "metadata": {},
   "source": [
    "Write a function multiply_numbers with default values for its parameters."
   ]
  },
  {
   "cell_type": "code",
   "execution_count": 38,
   "id": "9165cb2a",
   "metadata": {},
   "outputs": [],
   "source": [
    "def multiply_numbers(n = 1,m =1):\n",
    "    return n * m"
   ]
  },
  {
   "cell_type": "markdown",
   "id": "7cd00e34",
   "metadata": {},
   "source": [
    "Define a function print_info that takes a variable number of arguments and prints them.\n"
   ]
  },
  {
   "cell_type": "code",
   "execution_count": 39,
   "id": "e8b03ed1",
   "metadata": {},
   "outputs": [],
   "source": [
    "def print_variables(*args):\n",
    "    for i in args:\n",
    "        print(i, end = \"\")"
   ]
  },
  {
   "cell_type": "code",
   "execution_count": 40,
   "id": "3a6bcad4",
   "metadata": {},
   "outputs": [
    {
     "name": "stdout",
     "output_type": "stream",
     "text": [
      "12345"
     ]
    }
   ],
   "source": [
    "print_variables(1,2,3,4,5)"
   ]
  },
  {
   "cell_type": "markdown",
   "id": "21006c9c",
   "metadata": {},
   "source": [
    "Create a function power_of_two that accepts a number and returns its square.\n"
   ]
  },
  {
   "cell_type": "code",
   "execution_count": 41,
   "id": "ee003f0d",
   "metadata": {},
   "outputs": [],
   "source": [
    "def power_of_two(n ):\n",
    "    return n ** 2"
   ]
  },
  {
   "cell_type": "markdown",
   "id": "8aca7c5d",
   "metadata": {},
   "source": [
    "Define a variable inside a function and try to access it outside the function."
   ]
  },
  {
   "cell_type": "code",
   "execution_count": 42,
   "id": "1eecf2cb",
   "metadata": {
    "scrolled": true
   },
   "outputs": [
    {
     "ename": "NameError",
     "evalue": "name 'count' is not defined",
     "output_type": "error",
     "traceback": [
      "\u001b[1;31m---------------------------------------------------------------------------\u001b[0m",
      "\u001b[1;31mNameError\u001b[0m                                 Traceback (most recent call last)",
      "Cell \u001b[1;32mIn[42], line 4\u001b[0m\n\u001b[0;32m      2\u001b[0m \u001b[38;5;28;01mdef\u001b[39;00m \u001b[38;5;21mfunc\u001b[39m():\n\u001b[0;32m      3\u001b[0m     count \u001b[38;5;241m=\u001b[39m \u001b[38;5;241m0\u001b[39m\n\u001b[1;32m----> 4\u001b[0m \u001b[38;5;28mprint\u001b[39m(count)\n",
      "\u001b[1;31mNameError\u001b[0m: name 'count' is not defined"
     ]
    }
   ],
   "source": [
    "#we can't. there'll be a NameError\n",
    "def func():\n",
    "    count = 0\n",
    "print(count)"
   ]
  },
  {
   "cell_type": "markdown",
   "id": "27ef8bea",
   "metadata": {},
   "source": [
    "Write a function that uses a variable from the enclosing scope."
   ]
  },
  {
   "cell_type": "code",
   "execution_count": 44,
   "id": "cf7f3658",
   "metadata": {},
   "outputs": [
    {
     "name": "stdout",
     "output_type": "stream",
     "text": [
      "0\n"
     ]
    }
   ],
   "source": [
    "\n",
    "def func():\n",
    "    print(count)\n",
    "    def func1():\n",
    "        count = 0\n",
    "func()"
   ]
  },
  {
   "cell_type": "markdown",
   "id": "e4bc1865",
   "metadata": {},
   "source": [
    "Create a global variable and modify it inside a function."
   ]
  },
  {
   "cell_type": "code",
   "execution_count": 48,
   "id": "16466e1d",
   "metadata": {},
   "outputs": [
    {
     "ename": "UnboundLocalError",
     "evalue": "cannot access local variable 'count' where it is not associated with a value",
     "output_type": "error",
     "traceback": [
      "\u001b[1;31m---------------------------------------------------------------------------\u001b[0m",
      "\u001b[1;31mUnboundLocalError\u001b[0m                         Traceback (most recent call last)",
      "Cell \u001b[1;32mIn[48], line 6\u001b[0m\n\u001b[0;32m      4\u001b[0m     \u001b[38;5;28mprint\u001b[39m(count)\n\u001b[0;32m      5\u001b[0m     count \u001b[38;5;241m=\u001b[39m \u001b[38;5;241m0\u001b[39m\n\u001b[1;32m----> 6\u001b[0m func()\n",
      "Cell \u001b[1;32mIn[48], line 3\u001b[0m, in \u001b[0;36mfunc\u001b[1;34m()\u001b[0m\n\u001b[0;32m      2\u001b[0m \u001b[38;5;28;01mdef\u001b[39;00m \u001b[38;5;21mfunc\u001b[39m():\n\u001b[1;32m----> 3\u001b[0m     count \u001b[38;5;241m+\u001b[39m\u001b[38;5;241m=\u001b[39m \u001b[38;5;241m1\u001b[39m\n\u001b[0;32m      4\u001b[0m     \u001b[38;5;28mprint\u001b[39m(count)\n\u001b[0;32m      5\u001b[0m     count \u001b[38;5;241m=\u001b[39m \u001b[38;5;241m0\u001b[39m\n",
      "\u001b[1;31mUnboundLocalError\u001b[0m: cannot access local variable 'count' where it is not associated with a value"
     ]
    }
   ],
   "source": [
    "count = 0\n",
    "def func():\n",
    "    count += 1\n",
    "    print(count)\n",
    "func()"
   ]
  },
  {
   "cell_type": "markdown",
   "id": "05e33835",
   "metadata": {},
   "source": [
    "Write a lambda function to calculate the cube of a number."
   ]
  },
  {
   "cell_type": "code",
   "execution_count": 51,
   "id": "a1066910",
   "metadata": {},
   "outputs": [
    {
     "data": {
      "text/plain": [
       "8"
      ]
     },
     "execution_count": 51,
     "metadata": {},
     "output_type": "execute_result"
    }
   ],
   "source": [
    "a = lambda x: x**3\n",
    "a(2)"
   ]
  },
  {
   "cell_type": "markdown",
   "id": "835f805c",
   "metadata": {},
   "source": [
    "Use a lambda function as an argument with the map function."
   ]
  },
  {
   "cell_type": "code",
   "execution_count": 56,
   "id": "2c18968f",
   "metadata": {},
   "outputs": [
    {
     "name": "stdout",
     "output_type": "stream",
     "text": [
      "1\n",
      "4\n",
      "9\n",
      "16\n",
      "25\n"
     ]
    }
   ],
   "source": [
    "a = [1,2,3,4,5]\n",
    "b = map(lambda x : x **2, a)\n",
    "for i in b:\n",
    "    print(i)"
   ]
  },
  {
   "cell_type": "markdown",
   "id": "afd4b510",
   "metadata": {},
   "source": [
    "Use a lambda function with the filter function to filter even numbers from a list."
   ]
  },
  {
   "cell_type": "code",
   "execution_count": 60,
   "id": "8b02f236",
   "metadata": {},
   "outputs": [
    {
     "name": "stdout",
     "output_type": "stream",
     "text": [
      "2\n",
      "4\n"
     ]
    }
   ],
   "source": [
    "a = [1,2,3,4,5]\n",
    "b = filter(lambda x : x % 2 == 0, a)\n",
    "for i in b:\n",
    "    print(i)"
   ]
  },
  {
   "cell_type": "markdown",
   "id": "3b36cb84",
   "metadata": {},
   "source": [
    "Apply a lambda function with the reduce function to find the product of a list."
   ]
  },
  {
   "cell_type": "code",
   "execution_count": 67,
   "id": "a5d035b3",
   "metadata": {},
   "outputs": [
    {
     "data": {
      "text/plain": [
       "120"
      ]
     },
     "execution_count": 67,
     "metadata": {},
     "output_type": "execute_result"
    }
   ],
   "source": [
    "import functools as f\n",
    "a = [1,2,3,4,5]\n",
    "b = f.reduce(lambda x, y : x * y, a)\n",
    "b"
   ]
  },
  {
   "cell_type": "markdown",
   "id": "1462df0e",
   "metadata": {},
   "source": [
    "Sort a list of tuples based on the second element using a lambda function."
   ]
  },
  {
   "cell_type": "code",
   "execution_count": 68,
   "id": "74e28382",
   "metadata": {},
   "outputs": [
    {
     "data": {
      "text/plain": [
       "[(0, 0, 0), (1, 2, 3), (3, 2, 1), (7, 8, 9)]"
      ]
     },
     "execution_count": 68,
     "metadata": {},
     "output_type": "execute_result"
    }
   ],
   "source": [
    "a = [(1,2,3),(3,2,1),(7,8,9),(0,0,0)]\n",
    "sorted(a, key = lambda a : a[1])"
   ]
  },
  {
   "cell_type": "markdown",
   "id": "c0978a54",
   "metadata": {},
   "source": [
    "Demonstrate the use of the zip function with two lists."
   ]
  },
  {
   "cell_type": "code",
   "execution_count": 66,
   "id": "9d41c722",
   "metadata": {},
   "outputs": [
    {
     "name": "stdout",
     "output_type": "stream",
     "text": [
      "1 6\n",
      "2 7\n",
      "3 8\n",
      "4 9\n",
      "5 10\n"
     ]
    }
   ],
   "source": [
    "a = [1,2,3,4,5]\n",
    "b = [6,7,8,9,10,11]\n",
    "for x, y in zip(a, b):\n",
    "    print(x, y)"
   ]
  },
  {
   "cell_type": "markdown",
   "id": "00d634fa",
   "metadata": {},
   "source": [
    "Implement a generator function that generates Fibonacci numbers."
   ]
  },
  {
   "cell_type": "code",
   "execution_count": 105,
   "id": "6cd6a877",
   "metadata": {},
   "outputs": [],
   "source": [
    "def fib(limit): \n",
    "      \n",
    "    # Initialize first two Fibonacci Numbers  \n",
    "    a, b = 0, 1\n",
    "  \n",
    "    # One by one yield next Fibonacci Number \n",
    "    while a < limit: \n",
    "        yield a\n",
    "        a, b = b, a + b \n",
    "\n",
    "a = fib(5)\n",
    "    \n"
   ]
  },
  {
   "cell_type": "code",
   "execution_count": 106,
   "id": "d4061292",
   "metadata": {},
   "outputs": [
    {
     "name": "stdout",
     "output_type": "stream",
     "text": [
      "0\n"
     ]
    }
   ],
   "source": [
    "print(next(a))"
   ]
  },
  {
   "cell_type": "markdown",
   "id": "cfdbada2",
   "metadata": {},
   "source": [
    "Use a generator expression to create a sequence of squares."
   ]
  },
  {
   "cell_type": "code",
   "execution_count": 2,
   "id": "8261d6f6",
   "metadata": {},
   "outputs": [],
   "source": [
    "def sqr():\n",
    "    for i in range(1,11):\n",
    "        yield i ** 2"
   ]
  },
  {
   "cell_type": "code",
   "execution_count": 3,
   "id": "49f3ea16",
   "metadata": {},
   "outputs": [
    {
     "name": "stdout",
     "output_type": "stream",
     "text": [
      "1\n"
     ]
    }
   ],
   "source": [
    "a = sqr()\n",
    "print(next(a))"
   ]
  },
  {
   "cell_type": "markdown",
   "id": "c1732ffe",
   "metadata": {},
   "source": [
    "Write a function that uses the yield statement to produce a generator."
   ]
  },
  {
   "cell_type": "code",
   "execution_count": 113,
   "id": "77d601a1",
   "metadata": {},
   "outputs": [],
   "source": [
    "def sqr():\n",
    "    for i in range(1,11):\n",
    "        yield i ** 2"
   ]
  },
  {
   "cell_type": "markdown",
   "id": "413bf1e2",
   "metadata": {},
   "source": [
    "Explain the difference between iterators and generators in Python."
   ]
  },
  {
   "cell_type": "code",
   "execution_count": null,
   "id": "8b944f0e",
   "metadata": {},
   "outputs": [],
   "source": []
  },
  {
   "cell_type": "markdown",
   "id": "0d59b556",
   "metadata": {},
   "source": [
    "Write a Python program that includes a nested function. Inside the nested function, access a variable from the enclosing function's scope, and explain how the scope resolution works in this case."
   ]
  },
  {
   "cell_type": "code",
   "execution_count": null,
   "id": "992f17dd",
   "metadata": {},
   "outputs": [],
   "source": []
  },
  {
   "cell_type": "markdown",
   "id": "a945086c",
   "metadata": {},
   "source": [
    "Create a list of strings containing both uppercase and lowercase words. Use a lambda function with the sorted() function to sort the list in a case-insensitive manner."
   ]
  },
  {
   "cell_type": "code",
   "execution_count": null,
   "id": "d6445a64",
   "metadata": {},
   "outputs": [],
   "source": []
  },
  {
   "cell_type": "markdown",
   "id": "9b5aa572",
   "metadata": {},
   "source": [
    "Implement a generator function that yields prime numbers indefinitely. Use this generator to print the first 10 prime numbers."
   ]
  },
  {
   "cell_type": "code",
   "execution_count": null,
   "id": "86f1ead1",
   "metadata": {},
   "outputs": [],
   "source": []
  },
  {
   "cell_type": "markdown",
   "id": "e3b956a8",
   "metadata": {},
   "source": [
    "Write a decorator function that measures the execution time of another function. Apply this decorator to a function of your choice and print the execution time."
   ]
  },
  {
   "cell_type": "code",
   "execution_count": 8,
   "id": "ebbab120",
   "metadata": {},
   "outputs": [],
   "source": [
    "a = {'x' : 1, \"y\" : 2}\n",
    "b = {'y' : 3, \"z\" : 4}\n"
   ]
  },
  {
   "cell_type": "code",
   "execution_count": 19,
   "id": "6d0aac93",
   "metadata": {},
   "outputs": [
    {
     "ename": "SyntaxError",
     "evalue": "invalid syntax (4142545183.py, line 1)",
     "output_type": "error",
     "traceback": [
      "\u001b[1;36m  Cell \u001b[1;32mIn[19], line 1\u001b[1;36m\u001b[0m\n\u001b[1;33m    l = {**a, *b}\u001b[0m\n\u001b[1;37m              ^\u001b[0m\n\u001b[1;31mSyntaxError\u001b[0m\u001b[1;31m:\u001b[0m invalid syntax\n"
     ]
    }
   ],
   "source": [
    "l = {**a, **b}\n",
    "l"
   ]
  },
  {
   "cell_type": "code",
   "execution_count": 27,
   "id": "24336b2d",
   "metadata": {},
   "outputs": [
    {
     "data": {
      "text/plain": [
       "('Hello', [1, 2, 3], 'World')"
      ]
     },
     "execution_count": 27,
     "metadata": {},
     "output_type": "execute_result"
    }
   ],
   "source": [
    "a = (\"Hello\", [8, 4, 6], \"World\")\n",
    "\n",
    "a= list(a)\n",
    "a[1] = [1,2,3]\n",
    "a = tuple(a)\n",
    "a"
   ]
  },
  {
   "cell_type": "code",
   "execution_count": 40,
   "id": "5018e939",
   "metadata": {},
   "outputs": [
    {
     "data": {
      "text/plain": [
       "True"
      ]
     },
     "execution_count": 40,
     "metadata": {},
     "output_type": "execute_result"
    }
   ],
   "source": [
    "def isPrime(n):\n",
    "    count = 0\n",
    "    for i in range(1,n):\n",
    "        if n%i == 0:\n",
    "            count += 1\n",
    "    return True if count == 1 else False\n",
    "isPrime(23)"
   ]
  },
  {
   "cell_type": "code",
   "execution_count": 41,
   "id": "ca9d2e4d",
   "metadata": {},
   "outputs": [
    {
     "data": {
      "text/plain": [
       "[2, 3, 5, 7, 11]"
      ]
     },
     "execution_count": 41,
     "metadata": {},
     "output_type": "execute_result"
    }
   ],
   "source": [
    "numbers = [2, 3, 4, 5, 6, 7, 8, 9, 10, 11] \n",
    "filtered = filter(isPrime, numbers)\n",
    "list(filtered)"
   ]
  },
  {
   "cell_type": "code",
   "execution_count": 42,
   "id": "b1935ec7",
   "metadata": {},
   "outputs": [
    {
     "name": "stdout",
     "output_type": "stream",
     "text": [
      "Box1 toys: ['Car', 'Ball', ['Teddy Bear', 'Doll', 'Robot'], 'Drum']\n",
      "Box2 toys: ['Car', 'Ball', ['Teddy Bear', 'Doll', 'Robot'], 'Drum']\n",
      "Box3 toys: ['Car', 'Basketball', ['Teddy Bear', 'Doll']]\n"
     ]
    }
   ],
   "source": [
    "import copy\n",
    "class ToyBox:\n",
    "    def __init__(self, toys):\n",
    "        self.toys = toys\n",
    "\n",
    "box1 = ToyBox([\"Car\", \"Ball\", [\"Teddy Bear\", \"Doll\"]])\n",
    "box2 = copy.copy(box1)\n",
    "box3 = copy.deepcopy(box1)\n",
    "\n",
    "box2.toys.append(\"Drum\")\n",
    "box2.toys[2].append(\"Robot\")\n",
    "box3.toys[1] = \"Basketball\"\n",
    "\n",
    "print(\"Box1 toys:\", box1.toys)\n",
    "print(\"Box2 toys:\", box2.toys)\n",
    "print(\"Box3 toys:\", box3.toys)\n"
   ]
  },
  {
   "cell_type": "code",
   "execution_count": null,
   "id": "bbd4ef73",
   "metadata": {},
   "outputs": [],
   "source": []
  }
 ],
 "metadata": {
  "kernelspec": {
   "display_name": "Python 3 (ipykernel)",
   "language": "python",
   "name": "python3"
  },
  "language_info": {
   "codemirror_mode": {
    "name": "ipython",
    "version": 3
   },
   "file_extension": ".py",
   "mimetype": "text/x-python",
   "name": "python",
   "nbconvert_exporter": "python",
   "pygments_lexer": "ipython3",
   "version": "3.11.5"
  }
 },
 "nbformat": 4,
 "nbformat_minor": 5
}
