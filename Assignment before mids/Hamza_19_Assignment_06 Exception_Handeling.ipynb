{
 "cells": [
  {
   "cell_type": "markdown",
   "id": "829e5193",
   "metadata": {},
   "source": [
    "### Assignment-06 (Exceptions)\n",
    "- Change the notebook name with your name and Roll Number.\n",
    "- Try this as your own, no chatgpt (it's for your learning)\n",
    "- after completing the assignment, submit this book on google class room."
   ]
  },
  {
   "cell_type": "markdown",
   "id": "5020de16",
   "metadata": {},
   "source": [
    "Write a Python program that demonstrates a simple try-except block to handle a ZeroDivisionError."
   ]
  },
  {
   "cell_type": "code",
   "execution_count": 5,
   "id": "b2481e98",
   "metadata": {},
   "outputs": [
    {
     "name": "stdout",
     "output_type": "stream",
     "text": [
      "Can't Really\n"
     ]
    }
   ],
   "source": [
    "try:\n",
    "    5 / 0\n",
    "except ZeroDivisionError:\n",
    "    print(\"Can't Really\")"
   ]
  },
  {
   "cell_type": "markdown",
   "id": "510c0b9e",
   "metadata": {},
   "source": [
    "What is the purpose of the else clause in a try-except block? Provide an example."
   ]
  },
  {
   "cell_type": "code",
   "execution_count": 16,
   "id": "19e00491",
   "metadata": {},
   "outputs": [
    {
     "name": "stdout",
     "output_type": "stream",
     "text": [
      "0.8333333333333334\n",
      "Succesfull\n"
     ]
    }
   ],
   "source": [
    "# execute if no exception\n",
    "\n",
    "def div(a,b):\n",
    "    try:\n",
    "        print(a / b)\n",
    "    except ZeroDivisionError:\n",
    "        print(\"Can't divide by zero\")\n",
    "    else:\n",
    "        print(\"Succesfull\")\n",
    "div(5,6)"
   ]
  },
  {
   "cell_type": "markdown",
   "id": "213e8438",
   "metadata": {},
   "source": [
    "Explain the role of the finally keyword in exception handling. Write a code snippet to demonstrate its use."
   ]
  },
  {
   "cell_type": "code",
   "execution_count": 18,
   "id": "4f6335f4",
   "metadata": {},
   "outputs": [
    {
     "name": "stdout",
     "output_type": "stream",
     "text": [
      "Can't divide by zero\n",
      "Always gets executed\n"
     ]
    }
   ],
   "source": [
    "# Some code in finally .....(always executed)\n",
    "# execute if no exception\n",
    "\n",
    "def div(a,b):\n",
    "    try:\n",
    "        print(a / b)\n",
    "    except ZeroDivisionError:\n",
    "        print(\"Can't divide by zero\")\n",
    "    else:\n",
    "        print(\"Succesfull\")\n",
    "    finally:\n",
    "        print('Always gets executed')\n",
    "div(5,0)"
   ]
  },
  {
   "cell_type": "markdown",
   "id": "28a825cd",
   "metadata": {},
   "source": [
    "Write a program that uses a try-except block to handle a FileNotFoundError."
   ]
  },
  {
   "cell_type": "code",
   "execution_count": 19,
   "id": "a40b08be",
   "metadata": {},
   "outputs": [
    {
     "name": "stdout",
     "output_type": "stream",
     "text": [
      "Atleast have a file before opening it\n"
     ]
    }
   ],
   "source": [
    "try:\n",
    "    with open('file.txt') as f:\n",
    "        print(f.read())\n",
    "except FileNotFoundError:\n",
    "    print(\"Atleast have a file before opening it\")"
   ]
  },
  {
   "cell_type": "markdown",
   "id": "b518674e",
   "metadata": {},
   "source": [
    "Create a Python program that uses multiple except clauses to handle different types of exceptions."
   ]
  },
  {
   "cell_type": "code",
   "execution_count": null,
   "id": "11a3e481",
   "metadata": {},
   "outputs": [],
   "source": [
    "try:\n",
    "    x = int(input(\"Enter a number: \"))\n",
    "    result = 10 / x\n",
    "except ZeroDivisionError:\n",
    "    print(\"You cannot divide by zero.\")\n",
    "except ValueError:\n",
    "    print(\"Invalid input. Please enter a valid number.\")\n",
    "except Exception as e:\n",
    "    print(f\"An error occurred: {e}\")\n"
   ]
  },
  {
   "cell_type": "markdown",
   "id": "37c93388",
   "metadata": {},
   "source": [
    "Implement a function that raises a custom exception if a given number is negative."
   ]
  },
  {
   "cell_type": "code",
   "execution_count": 20,
   "id": "09a7a16a",
   "metadata": {},
   "outputs": [
    {
     "name": "stdout",
     "output_type": "stream",
     "text": [
      "enter a positive number0\n",
      "Write a +ve number for God's sake\n"
     ]
    }
   ],
   "source": [
    "class NegativeException(Exception):\n",
    "    pass\n",
    "\n",
    "try:\n",
    "    num = int(input(\"enter a positive number\"))\n",
    "    if num <= 0:\n",
    "        raise NegativeException\n",
    "except NegativeException:\n",
    "    print(\"Write a +ve number for God's sake\")\n",
    "    "
   ]
  },
  {
   "cell_type": "markdown",
   "id": "28762688",
   "metadata": {},
   "source": [
    "Write a function that uses the assert keyword to check if a given list is not empty."
   ]
  },
  {
   "cell_type": "code",
   "execution_count": 24,
   "id": "348bbe48",
   "metadata": {},
   "outputs": [],
   "source": [
    "def foo(a):\n",
    "    assert a!= []\n",
    "foo([1,2,3])"
   ]
  },
  {
   "cell_type": "markdown",
   "id": "f7861e8d",
   "metadata": {},
   "source": [
    "Develop a program that reads two numbers from the user and divides them. Handle different exceptions such as ZeroDivisionError and ValueError."
   ]
  },
  {
   "cell_type": "code",
   "execution_count": 25,
   "id": "ef8f7f27",
   "metadata": {},
   "outputs": [
    {
     "name": "stdout",
     "output_type": "stream",
     "text": [
      "Enter a number: 0\n",
      "Enter a number: 0\n",
      "You cannot divide by zero.\n"
     ]
    }
   ],
   "source": [
    "try:\n",
    "    x = int(input(\"Enter a number: \"))\n",
    "    y = int(input(\"Enter a number: \"))\n",
    "    result = y / x\n",
    "except ZeroDivisionError:\n",
    "    print(\"You cannot divide by zero.\")\n",
    "except ValueError:\n",
    "    print(\"Invalid input. Please enter a valid number.\")\n",
    "except Exception as e:\n",
    "    print(f\"An error occurred: {e}\")\n"
   ]
  },
  {
   "cell_type": "markdown",
   "id": "4a043e90",
   "metadata": {},
   "source": [
    "Write a function that takes a string as input and converts it to an integer. Handle the ValueError exception."
   ]
  },
  {
   "cell_type": "code",
   "execution_count": 29,
   "id": "273b88df",
   "metadata": {},
   "outputs": [
    {
     "name": "stdout",
     "output_type": "stream",
     "text": [
      "Invalid input. Please enter a valid number.\n"
     ]
    }
   ],
   "source": [
    "def foo(s):\n",
    "    try:\n",
    "        s = int(s)\n",
    "        print(s)\n",
    "    except ValueError:\n",
    "        print(\"Invalid input. Please enter a valid number.\")\n",
    "foo('asd')"
   ]
  },
  {
   "cell_type": "markdown",
   "id": "e09663a8",
   "metadata": {},
   "source": [
    "Create a program that uses the try, except, else, and finally blocks to open a file, read its contents, and print them."
   ]
  },
  {
   "cell_type": "code",
   "execution_count": 30,
   "id": "5f7daa25",
   "metadata": {},
   "outputs": [
    {
     "name": "stdout",
     "output_type": "stream",
     "text": [
      "-----\n",
      "Block Not Needed (2)\n"
     ]
    }
   ],
   "source": [
    "try:\n",
    "    with open('file.txt') as f:\n",
    "        print(f.read())\n",
    "except FileNotFoundError:\n",
    "    print('-----')\n",
    "else:\n",
    "    print(\"Block Not Needed\")\n",
    "finally:\n",
    "    print(\"Block Not Needed (2)\")"
   ]
  },
  {
   "cell_type": "markdown",
   "id": "2f976b31",
   "metadata": {},
   "source": [
    "Define a custom exception class named CustomError. Write a program that raises this exception when a certain condition is met."
   ]
  },
  {
   "cell_type": "code",
   "execution_count": 31,
   "id": "58b2c87a",
   "metadata": {},
   "outputs": [
    {
     "name": "stdout",
     "output_type": "stream",
     "text": [
      "enter a positive number0\n",
      "Write a +ve number for God's sake\n"
     ]
    }
   ],
   "source": [
    "class CustomError(Exception):\n",
    "    pass\n",
    "\n",
    "try:\n",
    "    num = int(input(\"enter a positive number\"))\n",
    "    if num <= 0:\n",
    "        raise NegativeException\n",
    "except NegativeException:\n",
    "    print(\"Write a +ve number for God's sake\")\n",
    "    "
   ]
  },
  {
   "cell_type": "markdown",
   "id": "4718ee7b",
   "metadata": {},
   "source": [
    "Implement a function that reads a file and prints its content. If the file is not found, raise a FileNotFoundError with a custom error message."
   ]
  },
  {
   "cell_type": "code",
   "execution_count": 32,
   "id": "7d65d3f0",
   "metadata": {},
   "outputs": [
    {
     "name": "stdout",
     "output_type": "stream",
     "text": [
      "Nahi hai\n"
     ]
    }
   ],
   "source": [
    "try:\n",
    "    with open('file.txt') as f:\n",
    "        print(f.read())\n",
    "except FileNotFoundError:\n",
    "    print('Nahi hai')"
   ]
  },
  {
   "cell_type": "markdown",
   "id": "368cfff7",
   "metadata": {},
   "source": [
    "Develop a program that uses the assert keyword to check if a given number is positive. If not, raise an AssertionError with a custom message."
   ]
  },
  {
   "cell_type": "code",
   "execution_count": 36,
   "id": "dffe1621",
   "metadata": {},
   "outputs": [
    {
     "name": "stdout",
     "output_type": "stream",
     "text": [
      "-12\n",
      "Custom messsage hai\n"
     ]
    }
   ],
   "source": [
    "def is_positive(n):\n",
    "    assert n > 0\n",
    "\n",
    "try:\n",
    "    n = int(input())\n",
    "    is_positive(n)\n",
    "except AssertionError as e:\n",
    "    print(\"Custom messsage hai\")"
   ]
  },
  {
   "cell_type": "markdown",
   "id": "93fd3391",
   "metadata": {},
   "source": [
    "Create a function that calculates the square root of a positive number. Handle the ValueError exception if the user enters a negative number."
   ]
  },
  {
   "cell_type": "code",
   "execution_count": 45,
   "id": "33c71719",
   "metadata": {},
   "outputs": [
    {
     "name": "stdout",
     "output_type": "stream",
     "text": [
      "25\n",
      "5.0\n"
     ]
    }
   ],
   "source": [
    "import math as m\n",
    "\n",
    "def sqrt():\n",
    "    try:\n",
    "        n = int(input())\n",
    "        if n < 0:\n",
    "            raise ValueError\n",
    "        print(m.sqrt(n))\n",
    "    except ValueError:\n",
    "        print(\"Negatives don't have square roots you fool\")\n",
    "sqrt()\n"
   ]
  },
  {
   "cell_type": "code",
   "execution_count": null,
   "id": "45036b28",
   "metadata": {},
   "outputs": [],
   "source": []
  }
 ],
 "metadata": {
  "kernelspec": {
   "display_name": "Python 3 (ipykernel)",
   "language": "python",
   "name": "python3"
  },
  "language_info": {
   "codemirror_mode": {
    "name": "ipython",
    "version": 3
   },
   "file_extension": ".py",
   "mimetype": "text/x-python",
   "name": "python",
   "nbconvert_exporter": "python",
   "pygments_lexer": "ipython3",
   "version": "3.11.5"
  }
 },
 "nbformat": 4,
 "nbformat_minor": 5
}
