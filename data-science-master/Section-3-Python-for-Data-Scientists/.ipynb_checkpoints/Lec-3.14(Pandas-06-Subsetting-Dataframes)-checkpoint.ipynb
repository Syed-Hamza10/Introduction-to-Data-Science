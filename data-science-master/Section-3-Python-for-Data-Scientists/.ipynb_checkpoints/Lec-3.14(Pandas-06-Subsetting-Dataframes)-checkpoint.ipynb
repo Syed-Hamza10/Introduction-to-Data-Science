{
 "cells": [
  {
   "cell_type": "markdown",
   "id": "4a87b5ef",
   "metadata": {},
   "source": [
    "---   \n",
    " <img align=\"left\" width=\"75\" height=\"75\"  src=\"https://upload.wikimedia.org/wikipedia/en/c/c8/University_of_the_Punjab_logo.png\"> \n",
    "\n",
    "<h1 align=\"center\">Department of Data Science</h1>\n",
    "<h1 align=\"center\">Course: Tools and Techniques for Data Science</h1>\n",
    "\n",
    "---\n",
    "<h3><div align=\"right\">Instructor: Muhammad Arif Butt, Ph.D.</div></h3>    "
   ]
  },
  {
   "cell_type": "markdown",
   "id": "ab0dc25c",
   "metadata": {},
   "source": [
    "<h1 align=\"center\">Lecture 3.14 (Pandas-06)</h1>"
   ]
  },
  {
   "cell_type": "markdown",
   "id": "19f82705",
   "metadata": {},
   "source": [
    "## _Subsetting Dataframes.ipynb_"
   ]
  },
  {
   "cell_type": "markdown",
   "id": "328bd879",
   "metadata": {},
   "source": [
    "## Motivation:\n",
    "- The ability to select specific rows and columns to access and filter data based on specific conditions are two of the key features of Pandas.\n",
    "    - **Selection** allows you to access specific rows or columns (a subset) of the data by their index and/or location in the DataFrame\n",
    "        - In large datasets, you may be required to select the first/last N records\n",
    "        - In large datasets, you may be required to select a range (n to m) of records\n",
    "        - In large datasets, you may be required to select specific columns of your interest\n",
    "        - In large datasets, you may be required to select specific range and specific columns of your interest\n",
    "    - **Filtering** allows you to access specific rows or columns (a subset) of the data based on one or more conditions\n",
    "        - In a medical dataset, you may be required to filter record of all those patients who suffer with a specific disease, or who have a specific blood group\n",
    "        - In a medical dataset, you may be required to filter pregnant women who have anemia, and compare this subset to women who don’t have anemia.\n",
    "        - In a travel dataset, you may be required to filter hotels inside Lahore city, sorted by their minimum per day cost\n",
    "        - In a client dataset, you may be required filter the clients who use a Gmail account(may require a string filter)\n",
    "        - In a client dataset, you may be required to filter the clients who belong to a specific countries (may require use of .isin() function)"
   ]
  },
  {
   "cell_type": "markdown",
   "id": "12db95e1",
   "metadata": {},
   "source": [
    "## Learning agenda of this notebook\n",
    "\n",
    "1. Selecting Rows of a dataframe?\n",
    "    - First read a dataset and get some insights bout the data\n",
    "    - Select first/last 'N' rows based on their position index\n",
    "    - Select rows in a particular range using slice object\n",
    "2. Understanding index of a dataframe\n",
    "    - What is an index?\n",
    "    - Can we change the index?\n",
    "    - Will the index be always numeric?\n",
    "    - Can we reset the index?\n",
    "3. Selecting Rows using of loc and iloc attributes\n",
    "    - Creating a basic dataframe from scratch\n",
    "    - Slicing a dataframe having positional index\n",
    "    - Slicing a dataframe having categorical variable as index\n",
    "    - Understanding label of loc and index of iloc\n",
    "    - Using list of  labels and integers with loc and iloc respectively\n",
    "    - Subsetting specific rows with specific columns with loc and iloc\n",
    "    - Selecting rows based on a condition\n",
    "    - Selecting rows based on multiple conditions\n",
    "    - Conditional selection and viewing specific columns\n",
    "4. Selecting columns of a dataframe?\n",
    "    - Select single column from a dataframe\n",
    "    - Select multiple columns from a dataframe\n",
    "    - Get the subset based on a value of a column\n",
    "5. Selecting columns of a dataframe?\n",
    "6. Selecting columns  with specific data types?\n",
    "7. Practice session on filtering data\n"
   ]
  },
  {
   "cell_type": "markdown",
   "id": "1d2bba7a",
   "metadata": {},
   "source": [
    "##  1. Read a Sample Dataframe"
   ]
  },
  {
   "cell_type": "code",
   "execution_count": null,
   "id": "3a6a3d25",
   "metadata": {},
   "outputs": [],
   "source": [
    "import numpy as np\n",
    "import pandas as pd\n",
    "df = pd.read_csv('../course-datasets/groupdata.csv')\n",
    "df.head()\n"
   ]
  },
  {
   "cell_type": "code",
   "execution_count": null,
   "id": "e67be45b",
   "metadata": {},
   "outputs": [],
   "source": [
    "df.shape"
   ]
  },
  {
   "cell_type": "code",
   "execution_count": null,
   "id": "8c00cc7d",
   "metadata": {},
   "outputs": [],
   "source": [
    "df.index"
   ]
  },
  {
   "cell_type": "code",
   "execution_count": null,
   "id": "b8a7fc1b",
   "metadata": {},
   "outputs": [],
   "source": [
    "df.columns"
   ]
  },
  {
   "cell_type": "code",
   "execution_count": null,
   "id": "899d087f",
   "metadata": {},
   "outputs": [],
   "source": [
    "df.dtypes"
   ]
  },
  {
   "cell_type": "code",
   "execution_count": null,
   "id": "1a1b03fb",
   "metadata": {},
   "outputs": [],
   "source": [
    "# If no argument is passed, this method displays descriptive statistics about the numeric columns of the dataframe\n",
    "df.describe()"
   ]
  },
  {
   "cell_type": "code",
   "execution_count": null,
   "id": "4bcc75b9",
   "metadata": {},
   "outputs": [],
   "source": [
    "#If you want to display details about the columns of a specific datatype, e.g., int64\n",
    "df.describe(include='int64')"
   ]
  },
  {
   "cell_type": "code",
   "execution_count": null,
   "id": "874152b2",
   "metadata": {},
   "outputs": [],
   "source": [
    "#If you want to display details about the columns of a specific datatype, e.g., object\n",
    "df.describe(include='object')"
   ]
  },
  {
   "cell_type": "code",
   "execution_count": null,
   "id": "81ab4b50",
   "metadata": {},
   "outputs": [],
   "source": [
    "#If you want to display details about all the columns of dataframe\n",
    "df.describe(include='all')"
   ]
  },
  {
   "cell_type": "markdown",
   "id": "7070dd76",
   "metadata": {},
   "source": [
    "<img align=\"right\" width=\"500\" height=\"500\"  src=\"images/pandas.png\"  >\n",
    "\n",
    "## 2. Understanding the two Indices of a Pandas Dataframe\n",
    "- Every dataframe object has two indices: a row indiex and a column index\n",
    "- These indices abr by default integer values (0,1,2,...) or a may be a string. Indeces must be unique, hashable and have the same length as data.\n",
    "- Pandas Dataframe object (like series), supports both **positional** (integer-based) and **labeled** (string values) indexing\n",
    "- By default, the row indices starts from 0 and ends at n-1, where n is the total number of rows in dataframe\n",
    "- By default, the column labels also starts from 0 and ends at n-1, where n is the total number of columns in dataframe\n",
    "- When we read data from csv files, normally the column labels are set as per the first row of the file, which is more meaningful\n",
    "- We can always reset both the indices of a Pandas dataframe on requirement basis.\n",
    "- Remember, as in case of series the indices of a Pandas Dataframe are also used for three purposes\n",
    "    - Identification\n",
    "    - Selection/Filtering/Subsetting\n",
    "    - Alignment\n",
    "- Before we discuss these three uses of indices, let us dig a little deeper to have a clear understanding about the indices of a Pandas Dataframe object"
   ]
  },
  {
   "cell_type": "markdown",
   "id": "0de5cdd8",
   "metadata": {},
   "source": [
    "### a. Understanding the Column Labels of a Pandas Datarame\n",
    "- Every dataframe has column labels associated with its columns\n",
    "- These by default are integer values from 0,1,2,3...\n",
    "- However, while creating a dataframe from scratch, or while reading them from a file you can set them to more meaningful string values.\n",
    "- While reading from csv file the first row in the file is taken as the column labels\n",
    "- We can change the column labels, if we want\n",
    "- Let us practically see this for better understanding"
   ]
  },
  {
   "cell_type": "code",
   "execution_count": null,
   "id": "3e29d2a9",
   "metadata": {},
   "outputs": [],
   "source": [
    "df = pd.read_csv('../course-datasets/groupdata.csv')\n",
    "df.head()"
   ]
  },
  {
   "cell_type": "code",
   "execution_count": null,
   "id": "b1224d79",
   "metadata": {},
   "outputs": [],
   "source": [
    "df = pd.read_csv('../course-datasets/groupdatawithoutcollables.csv')\n",
    "df.head()\n"
   ]
  },
  {
   "cell_type": "code",
   "execution_count": null,
   "id": "0daf15a9",
   "metadata": {},
   "outputs": [],
   "source": [
    "df = pd.read_csv('../course-datasets/groupdatawithoutcollables.csv', header=None)\n",
    "df.head()\n"
   ]
  },
  {
   "cell_type": "markdown",
   "id": "3488b6fe",
   "metadata": {},
   "source": [
    "**To read such files, you have to pass the parameter `header=None` to the `read_csv()` method as shown below**m\n",
    "**Now if you want to assign new column labels to make them more understandable, you can use the set_index() method as shown below**"
   ]
  },
  {
   "cell_type": "code",
   "execution_count": null,
   "id": "ee7c1175",
   "metadata": {},
   "outputs": [],
   "source": [
    "col_names = ['roll no', 'name', 'age', 'address', 'session', 'group', 'gender', 'subj1', 'subj2', 'scholarship']\n",
    "df.columns = col_names\n",
    "df.head()"
   ]
  },
  {
   "cell_type": "markdown",
   "id": "7d25173b",
   "metadata": {},
   "source": [
    "### b. Renaming Column Labels of a Pandas Dataframe"
   ]
  },
  {
   "cell_type": "markdown",
   "id": "90405451",
   "metadata": {},
   "source": [
    "**Option 1:** Use `df.rename()` method"
   ]
  },
  {
   "cell_type": "code",
   "execution_count": null,
   "id": "3b9506b9",
   "metadata": {},
   "outputs": [],
   "source": [
    "df.columns"
   ]
  },
  {
   "cell_type": "code",
   "execution_count": null,
   "id": "fb028747",
   "metadata": {},
   "outputs": [],
   "source": [
    "# You pass a dictionary object to the columns argument to rename() method\n",
    "# The key is the old column name, while the value is the new column name\n",
    "df.rename(columns={'roll no': 'rollno'}, inplace=True)"
   ]
  },
  {
   "cell_type": "code",
   "execution_count": null,
   "id": "2f645a4f",
   "metadata": {},
   "outputs": [],
   "source": [
    "df.columns"
   ]
  },
  {
   "cell_type": "markdown",
   "id": "0e5bf91e",
   "metadata": {},
   "source": [
    "**Option 2:** Assign a Python list having new column names of all columns to the `columns` attribute of dataframe"
   ]
  },
  {
   "cell_type": "code",
   "execution_count": null,
   "id": "6cb448a7",
   "metadata": {},
   "outputs": [],
   "source": [
    "col_names = ['col1', 'col2', 'col3', 'col4', 'col5', 'col6', 'col7', 'col8', 'col9', 'col10']\n",
    "df.columns = col_names"
   ]
  },
  {
   "cell_type": "code",
   "execution_count": null,
   "id": "a7de2784",
   "metadata": {},
   "outputs": [],
   "source": [
    "df.head()"
   ]
  },
  {
   "cell_type": "code",
   "execution_count": null,
   "id": "37720e0b",
   "metadata": {},
   "outputs": [],
   "source": [
    "# Let us reset to old values\n",
    "col_names = ['rollno', 'name', 'age', 'address', 'session', 'group', 'gender',\n",
    "       'subj1', 'subj2', 'scholarship']\n",
    "df.columns = col_names"
   ]
  },
  {
   "cell_type": "code",
   "execution_count": null,
   "id": "53371695",
   "metadata": {},
   "outputs": [],
   "source": [
    "df.head()"
   ]
  },
  {
   "cell_type": "markdown",
   "id": "9ef10018",
   "metadata": {},
   "source": [
    "**Option 3:** You can rename the Columns while reading the CSV file"
   ]
  },
  {
   "cell_type": "code",
   "execution_count": null,
   "id": "ac2db99a",
   "metadata": {},
   "outputs": [],
   "source": [
    "col_names = ['col1', 'col2', 'col3', 'col4', 'col5', 'col6', 'col7', 'col8', 'col9', 'col10']\n",
    "df = pd.read_csv('../course-datasets/groupdata.csv', names=col_names, header=0)\n",
    "df.head()"
   ]
  },
  {
   "cell_type": "markdown",
   "id": "6e13753e",
   "metadata": {},
   "source": [
    "- If there are over 100 columns in a CSV file, then the above method is quite cumbersome.\n",
    "- Remember groupdata.csv file has first column name \"roll no\"\n",
    "- Suppose we just want that all the column names having space inbetween should be replaced with an underscore\n",
    "- You can use the following trick."
   ]
  },
  {
   "cell_type": "code",
   "execution_count": null,
   "id": "0c1155e8",
   "metadata": {},
   "outputs": [],
   "source": [
    "df = pd.read_csv('../course-datasets/groupdata.csv')\n",
    "df.columns"
   ]
  },
  {
   "cell_type": "code",
   "execution_count": null,
   "id": "b71d509b",
   "metadata": {},
   "outputs": [],
   "source": [
    "df.columns = df.columns.str.replace(' ', '_')"
   ]
  },
  {
   "cell_type": "markdown",
   "id": "f3792bdb",
   "metadata": {},
   "source": [
    "All the string methods can be used with Pandas series in the following fashion:\n",
    "\n",
    "`seriesobject.str.replace()`\n",
    "\n",
    "`df.colname.str.contains('butt)`\n",
    "\n",
    "\n",
    "- For Details: https://pandas.pydata.org/pandas-docs/stable/reference/api/pandas.Series.str.replace.html?highlight=pandas%20series%20str%20replace#pandas.Series.str.replace\n"
   ]
  },
  {
   "cell_type": "code",
   "execution_count": null,
   "id": "c3b33305",
   "metadata": {},
   "outputs": [],
   "source": [
    "df.columns"
   ]
  },
  {
   "cell_type": "markdown",
   "id": "2c3c30ba",
   "metadata": {},
   "source": [
    "### c. Understanding the Row Labels of a Pandas Dataframe\n",
    "- Every dataframe has row index associated with its rows\n",
    "- These by default are integer values from 0,1,2,3...\n",
    "- However, while creating a dataframe from scratch you may set them to some meaningful string values (seldom required).\n",
    "- We have already seen this in our previous session\n",
    "- Today, we will see two methods that work on row indices of a Pandas Dataframe named `df.set_index()` and `df.reset_index()`"
   ]
  },
  {
   "cell_type": "code",
   "execution_count": null,
   "id": "7ccd48bb",
   "metadata": {},
   "outputs": [],
   "source": [
    "df.index"
   ]
  },
  {
   "cell_type": "code",
   "execution_count": null,
   "id": "b2006bc4",
   "metadata": {},
   "outputs": [],
   "source": [
    "df.head()"
   ]
  },
  {
   "cell_type": "markdown",
   "id": "34a875f9",
   "metadata": {},
   "source": [
    "**Note that the row index of this dataframe is set to default integer values of 0,1,2,3,..."
   ]
  },
  {
   "cell_type": "markdown",
   "id": "8f4e6a33",
   "metadata": {},
   "source": [
    "### d. Changing Default Row Index of a Pandas Dataframe to another Column in the Dataset using `df.set_index()`\n",
    "- We use `df.set_index()` method to change index of a dataframe to some other column\n",
    "```\n",
    "DataFrame.set_index(keys, drop=True, append=False, inplace=False, verify_integrity=False)\n",
    "```\n",
    "Where\n",
    "    - `keys` is the column label \n",
    "    - `drop=True`, to drop the column that's set as new index\n",
    "    - `append=False`, Set it to True if you want to append columns to existing index\n",
    "    - `inplace=False`, Set it to True to make changes in the original dataframe, i.e., do not create a new object\n",
    "    - `verify_integrity=False`, Check the new index for duplicates. Otherwise defer the check until necessary. Setting to False will improve the performance of this method.\n",
    "\n",
    "Returns Dataframe if `inplace=False` or None if `inplace=True`"
   ]
  },
  {
   "cell_type": "code",
   "execution_count": null,
   "id": "6c3de2ed",
   "metadata": {},
   "outputs": [],
   "source": [
    "df1 = df.set_index(keys='roll no', drop=True, inplace=False)\n",
    "df1.head()"
   ]
  },
  {
   "cell_type": "code",
   "execution_count": null,
   "id": "8d162ad3",
   "metadata": {},
   "outputs": [],
   "source": [
    "df1.index"
   ]
  },
  {
   "cell_type": "markdown",
   "id": "79628642",
   "metadata": {},
   "source": [
    "**Note that the roll no column has become the index now, it is no more data of the dataframe**"
   ]
  },
  {
   "cell_type": "markdown",
   "id": "2a2b30d2",
   "metadata": {},
   "source": [
    "### e. Set the row index to Default/Positional Values using `df.reset_index()`\n",
    "- The `df.reset_index()` method reset the index of the DataFrame, and use the default one instead.\n",
    "- If the DataFrame has a MultiIndex, this method can remove one or more\n",
    "\n",
    "```\n",
    "DataFrame.reset_index(drop=False, inplace=False)\n",
    "```\n",
    "Where\n",
    "- `drop=False`, Do not try to insert index into dataframe columns. This resets the index to the default integer index.\n",
    "- `inplace=False`,  Modify the DataFrame in place (do not create a new object).\n",
    "\n",
    "Returns Dataframe if `inplace=False` or None if `inplace=True`"
   ]
  },
  {
   "cell_type": "code",
   "execution_count": null,
   "id": "887984f1",
   "metadata": {
    "colab": {},
    "colab_type": "code",
    "id": "cZXnKiv6fWjJ"
   },
   "outputs": [],
   "source": [
    "# reset the index\n",
    "df1.reset_index(inplace=True)\n",
    "df1.head()"
   ]
  },
  {
   "cell_type": "code",
   "execution_count": null,
   "id": "4704e4f6",
   "metadata": {
    "colab": {},
    "colab_type": "code",
    "id": "054SCKpufWir",
    "outputId": "050ced56-1fa7-4c30-cbe7-f2dadbe2d710"
   },
   "outputs": [],
   "source": [
    "df1.index"
   ]
  },
  {
   "cell_type": "markdown",
   "id": "b0cf706f",
   "metadata": {},
   "source": [
    "## 3. Selecting one or more Columns of a Dataframe\n",
    "- Each column of a datafram is known as Pandas series.\n",
    "- We normally don't work on series independently, rather need to understand them as they are part of every dataframe and many dataframes return a series\n",
    "- Suppose we want to select a column of a dataframe, e.g., age or scholarship, because we may want to perform some operations on that column independently"
   ]
  },
  {
   "cell_type": "markdown",
   "id": "1c855538",
   "metadata": {},
   "source": [
    "### a. One way of doing it is using the `[]` operator and writing the column label inside it"
   ]
  },
  {
   "cell_type": "code",
   "execution_count": null,
   "id": "786fe173",
   "metadata": {},
   "outputs": [],
   "source": [
    "s1 = df['age']\n",
    "print(s1)\n",
    "type(s1)"
   ]
  },
  {
   "cell_type": "markdown",
   "id": "bcd12999",
   "metadata": {},
   "source": [
    "Since this is a series, so you can use many of the methods that you can use on Pandas Series and Dataframes, in a chained format, as shown below"
   ]
  },
  {
   "cell_type": "code",
   "execution_count": null,
   "id": "9dd6895e",
   "metadata": {},
   "outputs": [],
   "source": [
    "df['age'].head()"
   ]
  },
  {
   "cell_type": "code",
   "execution_count": null,
   "id": "07c6ee39",
   "metadata": {},
   "outputs": [],
   "source": [
    "df['roll no'].head()"
   ]
  },
  {
   "cell_type": "code",
   "execution_count": null,
   "id": "f417bcd1",
   "metadata": {},
   "outputs": [],
   "source": [
    "#To select multiple columns at once, we use double brackets and commas between column names\n",
    "#The result is a new DataFrame object with the selected columns. \n",
    "d1 = df[['gender', 'scholarship']].head()\n",
    "print(d1)\n",
    "type(d1)"
   ]
  },
  {
   "cell_type": "markdown",
   "id": "347c88f9",
   "metadata": {},
   "source": [
    "### b. Another way of doing it is using the `dot` notation followed by column label\n",
    "- Another more elegant way is to use the dot notation. This is possible because every series/column within a dataframe is also an attribute of that dataframe\n",
    "- Limitation of using dot notation is that you cannot use it if the column name has a space. Moreover, you cannot select multiple columns at the same time. (Can be done using `loc`)"
   ]
  },
  {
   "cell_type": "code",
   "execution_count": null,
   "id": "d7f9c061",
   "metadata": {},
   "outputs": [],
   "source": [
    "s1 = df.age\n",
    "s1.head()"
   ]
  },
  {
   "cell_type": "code",
   "execution_count": null,
   "id": "172c9932",
   "metadata": {},
   "outputs": [],
   "source": [
    "df.age.head()"
   ]
  },
  {
   "cell_type": "markdown",
   "id": "8e4f4e29",
   "metadata": {},
   "source": [
    "## 4. Selecting one or more Rows of a Dataframe using `[]` operator with slice operator inside\n",
    "- Selection of rows within a dataframe can be performed using slice object `[start:stop:step]`,based on row index (integer value)\n",
    "- You can slice a Dataframe object quite similar to slicing a numPy array or Python list. The differences are:\n",
    "    - When we slice a Python list we get a completely new list.\n",
    "    - When we slice a numPy array, we get a view of the original array.\n",
    "    - When we slice a dataframe, we get a new dataframe.\n",
    "    - You cannot access elements of a dataframe by a single index, as you can do in series.\n",
    "    \n",
    "- There are three arguments for slicing arrays, all are optional:\n",
    "```\n",
    "array[start:stop:step]\n",
    "```\n",
    "\n",
    "    - start: specifies from where the slicing should start, inclusive (default is 0) \n",
    "    - stop: specifies where it has to stop, exclusive (default is end of the array) \n",
    "    - step:  is by-default 1"
   ]
  },
  {
   "cell_type": "code",
   "execution_count": null,
   "id": "cae8abd8",
   "metadata": {},
   "outputs": [],
   "source": [
    "df = pd.read_csv('../course-datasets/groupdata.csv')\n",
    "df.head()"
   ]
  },
  {
   "cell_type": "code",
   "execution_count": null,
   "id": "6cd7f03a",
   "metadata": {},
   "outputs": [],
   "source": [
    "#Slice object: [start:stop:step] is an object that contains a portion of a sequence.\n",
    "df[10:]\n",
    "#Note: You cannot access elements of a dataframe by a single index or using a list as you can do in case of series"
   ]
  },
  {
   "cell_type": "code",
   "execution_count": null,
   "id": "072691e5",
   "metadata": {},
   "outputs": [],
   "source": [
    "df[:3]"
   ]
  },
  {
   "cell_type": "code",
   "execution_count": null,
   "id": "a8a281b9",
   "metadata": {},
   "outputs": [],
   "source": [
    "df[4:7]"
   ]
  },
  {
   "cell_type": "code",
   "execution_count": null,
   "id": "a1d73eb4",
   "metadata": {},
   "outputs": [],
   "source": [
    "df[::5]"
   ]
  },
  {
   "cell_type": "code",
   "execution_count": null,
   "id": "c1cbfcc0",
   "metadata": {},
   "outputs": [],
   "source": [
    "df[10:5:-1]"
   ]
  },
  {
   "cell_type": "code",
   "execution_count": null,
   "id": "097f54ff",
   "metadata": {},
   "outputs": [],
   "source": [
    "df[::-1].head()"
   ]
  },
  {
   "cell_type": "code",
   "execution_count": null,
   "id": "66c43c30",
   "metadata": {},
   "outputs": [],
   "source": [
    "df[5:10:2]"
   ]
  },
  {
   "cell_type": "markdown",
   "id": "926ae0a4",
   "metadata": {},
   "source": [
    "**Note that the output dataframe contains a subset of original dataframe. However, the index or row labels stays with the rows. It is not renumbered. So this means that every row is identified by a row label, which remain associated wih the row or record until you decide to reset the index**"
   ]
  },
  {
   "cell_type": "markdown",
   "id": "36db08b2",
   "metadata": {},
   "source": [
    "#### Resetting the Index of Subset of a Dataframe\n",
    "- When we slice data from a datafeame, the row index of resulting dataframe may not be contiguous values.\n",
    "- You can reset it using the `df.reset_index()` method as discussed above"
   ]
  },
  {
   "cell_type": "code",
   "execution_count": null,
   "id": "c5c9fba2",
   "metadata": {},
   "outputs": [],
   "source": [
    "df2 = df[5:10:2]\n",
    "df2"
   ]
  },
  {
   "cell_type": "code",
   "execution_count": null,
   "id": "9d7555f8",
   "metadata": {
    "scrolled": true
   },
   "outputs": [],
   "source": [
    "df3 = df2.reset_index()\n",
    "df3"
   ]
  },
  {
   "cell_type": "markdown",
   "id": "8a48dbb0",
   "metadata": {},
   "source": [
    "**Note that a new column is added in the dataframe, which is mostly not required. Use the `drop` paremeter to the `reset_index()` method to avoid thist**"
   ]
  },
  {
   "cell_type": "code",
   "execution_count": null,
   "id": "9f2ae7eb",
   "metadata": {},
   "outputs": [],
   "source": [
    "df4 = df2.reset_index(drop=True)\n",
    "df4"
   ]
  },
  {
   "cell_type": "markdown",
   "id": "82587a3a",
   "metadata": {},
   "source": [
    "**If you want this to take happen inplace use `inplace` parameter to the `reset_index()` method.**"
   ]
  },
  {
   "cell_type": "code",
   "execution_count": null,
   "id": "502e26b4",
   "metadata": {},
   "outputs": [],
   "source": [
    "df2.reset_index(drop=True, inplace=True)\n",
    "df2"
   ]
  },
  {
   "cell_type": "code",
   "execution_count": null,
   "id": "829a4008",
   "metadata": {},
   "outputs": [],
   "source": []
  },
  {
   "cell_type": "markdown",
   "id": "c48e2758",
   "metadata": {},
   "source": [
    ">**Although we can access rows of a dataframe using `df[]` syntax, however, `df.loc[]` and `df.iloc[]` methods provides simpler, more elegant and powerful way to select rows from a dataframe over `df[]` syntax. There is another method `df.ix`, which is a combination of above two and should be avoided due to its a bit confusing nature. Moreover, `ix` has been depricated since Pandas version 0.22. Deprecated means Pandas says that you should stop using it and in the future version this may not be available**"
   ]
  },
  {
   "cell_type": "markdown",
   "id": "d92a8982",
   "metadata": {},
   "source": [
    "## 7. Selecting rows using `loc` Method\n",
    ">- **`df.loc[]`** is for filtering rows and selecting columns by **label(s)** or a boolean array. Allowed inputs within `[]` are:\n",
    "     - A single label, e.g. ``5`` or ``'a'``, (note that ``5`` is interpreted as a *label* of the index, and **never** as an integer position along the index).\n",
    "     - A list or array of labels, e.g. `['ms07', 'ms02', 'ms08']` or `[9, 2, 7]`.\n",
    "     - A slice object with labels, e.g. ``'ms05':'ms09'``.\n",
    "     - A Boolean array (any NA values will be treated as False)\n",
    "     - **Warning:** Note that contrary to usual Python slices, **both** the start and the stop are included"
   ]
  },
  {
   "cell_type": "markdown",
   "id": "661ab234",
   "metadata": {},
   "source": [
    "### a. Use of `df.loc` to Select Rows of a Dataframe\n",
    "```\n",
    "df.loc[whatrowsIwant, whatcolumnsIwant]\n",
    "```\n",
    "- Place a collon for the column field to select all columns\n",
    "- You can use a single value, a list of multiple values, or a slice object for selecting rows. The values are treated as **labels**\n"
   ]
  },
  {
   "cell_type": "code",
   "execution_count": null,
   "id": "c8b04ce2",
   "metadata": {},
   "outputs": [],
   "source": [
    "df = pd.read_csv('../course-datasets/groupdata.csv')\n",
    "df.head()"
   ]
  },
  {
   "cell_type": "code",
   "execution_count": null,
   "id": "3d4433d2",
   "metadata": {},
   "outputs": [],
   "source": [
    "df1 = df.sort_values('scholarship')\n",
    "df1"
   ]
  },
  {
   "cell_type": "code",
   "execution_count": null,
   "id": "f43c30f2",
   "metadata": {},
   "outputs": [],
   "source": [
    "# I want row/series object with label 0 and all the columns\n",
    "df1.loc[0,:]"
   ]
  },
  {
   "cell_type": "code",
   "execution_count": null,
   "id": "458b596d",
   "metadata": {},
   "outputs": [],
   "source": [
    "# I want to select rows with label 1,2 and 4 and all the columns\n",
    "# With loc we can use list of labels, and it returns a dataframe related with the list of labels\n",
    "df1.loc[[1,2,4], :]"
   ]
  },
  {
   "cell_type": "code",
   "execution_count": null,
   "id": "3946cbd9",
   "metadata": {},
   "outputs": [],
   "source": [
    "# I want to select rows with label from 6 to 12 (both inclusive) and all the columns\n",
    "df1.loc[6:12, :]"
   ]
  },
  {
   "cell_type": "markdown",
   "id": "863aec7b",
   "metadata": {},
   "source": [
    "**In all above examples, if you omit comma and collon for the columns part, Pandas assumes it. I strongly recommend using the above style for clarity of code"
   ]
  },
  {
   "cell_type": "markdown",
   "id": "e4d7648a",
   "metadata": {},
   "source": [
    "### b. Use of `df.loc` to Select Columns of a Dataframe\n",
    "```\n",
    "df.loc[whatrowsIwant, whatcolumnsIwant]\n",
    "```\n",
    "- Place a collon for the rows field to select all rows\n",
    "- You can use a single value, a list of multiple values, or a slice object for selecting columns"
   ]
  },
  {
   "cell_type": "code",
   "execution_count": null,
   "id": "c43cd0a0",
   "metadata": {},
   "outputs": [],
   "source": [
    "df1.columns"
   ]
  },
  {
   "cell_type": "code",
   "execution_count": null,
   "id": "be0e7865",
   "metadata": {},
   "outputs": [],
   "source": [
    "df1.loc[:, 'name']"
   ]
  },
  {
   "cell_type": "code",
   "execution_count": null,
   "id": "f17045f2",
   "metadata": {},
   "outputs": [],
   "source": [
    "# With loc we can use list of labels, and it returns a dataframe related with the list of labels\n",
    "df1.loc[:, ['name', 'address', 'scholarship']]"
   ]
  },
  {
   "cell_type": "code",
   "execution_count": null,
   "id": "35222192",
   "metadata": {},
   "outputs": [],
   "source": [
    "df1.loc[:, 'name':'session']"
   ]
  },
  {
   "cell_type": "markdown",
   "id": "1c47d51c",
   "metadata": {},
   "source": [
    "### c. Use of `df.loc` to Select Rows + Columns of a Dataframe\n",
    "```\n",
    "df.loc[whatrowsIwant, whatcolumnsIwant]\n",
    "```\n",
    "- You can use a single value, a list of multiple values, or a slice object for selecting rows\n",
    "- You can use a single value, a list of multiple values, or a slice object for selecting columns"
   ]
  },
  {
   "cell_type": "code",
   "execution_count": null,
   "id": "bb9c6ba8",
   "metadata": {},
   "outputs": [],
   "source": [
    "# Apart from rows you can also get specific columns using loc\n",
    "# Suppose you want rows having index 3 and 0 and do not want all the columns rather only name and address\n",
    "\n",
    "d1 = df.loc[[3, 0], ['name', 'address']]\n",
    "d1"
   ]
  },
  {
   "cell_type": "code",
   "execution_count": null,
   "id": "05b61967",
   "metadata": {},
   "outputs": [],
   "source": [
    "df1.loc[0:2, 'age':'session']"
   ]
  },
  {
   "cell_type": "markdown",
   "id": "f45dc3cb",
   "metadata": {},
   "source": [
    "## 9. Selecting rows using `iloc` Method\n",
    ">- **`df.iloc[]`** is for filtering rows and selecting columns by **integer position** (0 to n-1) (not by row index value nor by row index label). Allowed inputs within `[]` are:\n",
    "     - A single integer, e.g. ``5`` (note that ``5`` is interpreted as an integer position along the index).\n",
    "     - A list or array of integers, e.g.  `[9, 2, 7]`.\n",
    "     - A slice object with integers, e.g. ``2:9``.\n",
    "     - A Boolean array (any NA values will be treated as False)\n",
    "     - Note that as with usual Python slices, **stop** index is not included\n",
    "     - **Note:** ``.iloc`` will raise ``IndexError`` if a requested indexer is out-of-bounds, except *slice* indexers which allow out-of-bounds indexing (this conforms with python/numpy *slice* semantics)."
   ]
  },
  {
   "cell_type": "markdown",
   "id": "7e90d578",
   "metadata": {},
   "source": [
    "### a. Use of `df.iloc` to Select Rows of a Dataframe\n",
    "```\n",
    "df.iloc[whatrowsIwant, whatcolumnsIwant]\n",
    "```\n",
    "- Place a collon for the column field to select all columns\n",
    "- You can use a single value, a list of multiple values, or a slice object for selecting rows. The values are treated as **labels**"
   ]
  },
  {
   "cell_type": "code",
   "execution_count": null,
   "id": "8df50cd2",
   "metadata": {},
   "outputs": [],
   "source": [
    "df = pd.read_csv('../course-datasets/groupdata.csv')\n",
    "df.head()"
   ]
  },
  {
   "cell_type": "code",
   "execution_count": null,
   "id": "659d0a80",
   "metadata": {},
   "outputs": [],
   "source": [
    "df1=df.sort_values('scholarship')\n",
    "df1"
   ]
  },
  {
   "cell_type": "code",
   "execution_count": null,
   "id": "f39ad79f",
   "metadata": {},
   "outputs": [],
   "source": [
    "# I want to select row with row index 0 and all the columns\n",
    "# Note it select by position\n",
    "df1.iloc[0,:]"
   ]
  },
  {
   "cell_type": "code",
   "execution_count": null,
   "id": "dc9b15be",
   "metadata": {},
   "outputs": [],
   "source": [
    "# With iloc we can use list of array of integers, and it returns a dataframe related with the list of integers\n",
    "# Note that the integer values are interpreted as row# (positional index) of the dataframe \n",
    "df1.iloc[[1,2,4], :]"
   ]
  },
  {
   "cell_type": "code",
   "execution_count": null,
   "id": "0f356dae",
   "metadata": {},
   "outputs": [],
   "source": [
    "# I want to select rows with row index at position 4 to 6 (stop value is NOT inclusive) and all the columns\n",
    "# Note it select by position\n",
    "df1.iloc[4:6, :]"
   ]
  },
  {
   "cell_type": "markdown",
   "id": "ade46ddf",
   "metadata": {},
   "source": [
    "**In all above examples, if you omit comma and collon for the columns part, Pandas assumes it. I strongly recommend using the above style for clarity of code"
   ]
  },
  {
   "cell_type": "markdown",
   "id": "4ffbf0f1",
   "metadata": {},
   "source": [
    "### b. Use of `df.iloc` to Select Columns of a Dataframe\n",
    "```\n",
    "df.iloc[whatrowsIwant, whatcolumnsIwant]\n",
    "```\n",
    "- Place a collon for the rows field to select all rows\n",
    "- You can use a single value, a list of multiple values, or a slice object for selecting columns"
   ]
  },
  {
   "cell_type": "code",
   "execution_count": null,
   "id": "987fdfcb",
   "metadata": {},
   "outputs": [],
   "source": [
    "df1.columns"
   ]
  },
  {
   "cell_type": "code",
   "execution_count": null,
   "id": "c4ea93a0",
   "metadata": {},
   "outputs": [],
   "source": [
    "# I want to select all rows and only the column at position 2\n",
    "# Note it select by position\n",
    "df1.iloc[:, 2]"
   ]
  },
  {
   "cell_type": "code",
   "execution_count": null,
   "id": "bcef93b7",
   "metadata": {},
   "outputs": [],
   "source": [
    "# I want to select all rows and the columns at position 1, 4, and 5\n",
    "# Note it select by position\n",
    "df1.iloc[:, [1,4,5]]"
   ]
  },
  {
   "cell_type": "code",
   "execution_count": null,
   "id": "9f62f365",
   "metadata": {},
   "outputs": [],
   "source": [
    "# I want to select all rows and the columns from position 2 to 5 (Note that the stop index is not inclusive)\n",
    "# Note it select by position\n",
    "df1.iloc[:, 2:5]"
   ]
  },
  {
   "cell_type": "markdown",
   "id": "c788f3a1",
   "metadata": {},
   "source": [
    "### c. Use of `df.iloc` to Select Rows + Columns of a Dataframe\n",
    "```\n",
    "df.iloc[whatrowsIwant, whatcolumnsIwant]\n",
    "```\n",
    "- You can use a single value, a list of multiple values, or a slice object for selecting rows\n",
    "- You can use a single value, a list of multiple values, or a slice object for selecting columns"
   ]
  },
  {
   "cell_type": "code",
   "execution_count": null,
   "id": "240720c4",
   "metadata": {},
   "outputs": [],
   "source": [
    "# Using df.iloc you can retrieve specific rows and specific columns\n",
    "# Suppose you want rows having index 3 and 0 and do not want all the columns rather only 1 and 5\n",
    "\n",
    "df1 = df.iloc[[3, 0], [1, 5]]\n",
    "df1"
   ]
  },
  {
   "cell_type": "code",
   "execution_count": null,
   "id": "a707b416",
   "metadata": {},
   "outputs": [],
   "source": [
    "df1.iloc[0:2, 2:4]"
   ]
  },
  {
   "cell_type": "code",
   "execution_count": null,
   "id": "965d0a75",
   "metadata": {},
   "outputs": [],
   "source": []
  },
  {
   "cell_type": "markdown",
   "id": "0e123a4b",
   "metadata": {},
   "source": [
    "## 10. Conditional Selection\n",
    "- Suppose we want to select only those rows where the age value is greater than 40\n",
    "- Suppose we want to select only those rows where the students belong to Karachi\n",
    "- Suppose we want to select only those rows having students earning scholarship value greater than 5000"
   ]
  },
  {
   "cell_type": "markdown",
   "id": "df7b948d",
   "metadata": {},
   "source": [
    "### a. Option 1:\n",
    "- Create a Python list having Boolean values of exact same length as the rows of the dataframe \n",
    "- The value in the list need to be True for the row which we want to select\n",
    "- Convert the Python list to a Pandas series\n",
    "- Finally pass that series to the dataframe"
   ]
  },
  {
   "cell_type": "code",
   "execution_count": null,
   "id": "2ac3b39e",
   "metadata": {},
   "outputs": [],
   "source": [
    "list1 = []\n",
    "for length in df.age:\n",
    "    if length > 40:\n",
    "        list1.append(True)\n",
    "    else:\n",
    "        list1.append(False)\n",
    "        \n",
    "        \n",
    "list1"
   ]
  },
  {
   "cell_type": "code",
   "execution_count": null,
   "id": "8e2229f5",
   "metadata": {},
   "outputs": [],
   "source": [
    "ser1 = pd.Series(list1)\n",
    "ser1"
   ]
  },
  {
   "cell_type": "code",
   "execution_count": null,
   "id": "b705b8ae",
   "metadata": {},
   "outputs": [],
   "source": [
    "df[ser1]"
   ]
  },
  {
   "cell_type": "markdown",
   "id": "5c503e91",
   "metadata": {},
   "source": [
    "### b. Option 2:\n",
    "- Instead of writing a loop to create a Boolean list and then series. Use appropriate comparison operator to create a series object directly.\n",
    "- Then pass that series object to the dataframe"
   ]
  },
  {
   "cell_type": "code",
   "execution_count": null,
   "id": "a13b741f",
   "metadata": {},
   "outputs": [],
   "source": [
    "ser2 = df.age > 40\n",
    "ser2"
   ]
  },
  {
   "cell_type": "code",
   "execution_count": null,
   "id": "2ff8be34",
   "metadata": {},
   "outputs": [],
   "source": [
    "df[ser1]"
   ]
  },
  {
   "cell_type": "markdown",
   "id": "924aa546",
   "metadata": {},
   "source": [
    "### c. Option 3:\n",
    "- Write the above two steps in one single statement as shown below"
   ]
  },
  {
   "cell_type": "code",
   "execution_count": null,
   "id": "70fcfd32",
   "metadata": {},
   "outputs": [],
   "source": [
    "df[df.age >40]"
   ]
  },
  {
   "cell_type": "code",
   "execution_count": null,
   "id": "c2271dd8",
   "metadata": {},
   "outputs": [],
   "source": [
    "df[df.address == 'Lahore']"
   ]
  },
  {
   "cell_type": "code",
   "execution_count": null,
   "id": "40ebccde",
   "metadata": {},
   "outputs": [],
   "source": [
    "# Since above is a dataframe, so if you want you can simply select one column as follows:\n",
    "df[df.age >40].name"
   ]
  },
  {
   "cell_type": "markdown",
   "id": "3db557d4",
   "metadata": {},
   "source": [
    "### d. Option 4:\n",
    "- Best way is to use the `loc` method."
   ]
  },
  {
   "cell_type": "code",
   "execution_count": null,
   "id": "2f5e1006",
   "metadata": {},
   "outputs": [],
   "source": [
    "df.loc[df.age > 40]"
   ]
  },
  {
   "cell_type": "code",
   "execution_count": null,
   "id": "923def2f",
   "metadata": {},
   "outputs": [],
   "source": [
    "df.loc[df.age > 40, 'name']"
   ]
  },
  {
   "cell_type": "code",
   "execution_count": null,
   "id": "3936aad0",
   "metadata": {},
   "outputs": [],
   "source": [
    "df.loc[df.age > 40, ['name', 'age']]"
   ]
  },
  {
   "cell_type": "markdown",
   "id": "481d208f",
   "metadata": {},
   "source": [
    "## 11. Conditional Selection based on  Multiple Conditions\n",
    "- Suppose we want to get all the records of the dataframe where the age value is greater than 40 and belong to Multan\n",
    "- For this use multiple conditions inside parenthesis and use logical operators (`&`, `|`) in between\n",
    "```\n",
    "df[(condition1) op (condition2) op (condition3)]\n",
    "```"
   ]
  },
  {
   "cell_type": "code",
   "execution_count": null,
   "id": "55c0a5b3",
   "metadata": {},
   "outputs": [],
   "source": [
    "df.head()"
   ]
  },
  {
   "cell_type": "code",
   "execution_count": null,
   "id": "b8a3f9d4",
   "metadata": {},
   "outputs": [],
   "source": [
    "df[(df.age > 40) & (df.address == 'Multan')]"
   ]
  },
  {
   "cell_type": "code",
   "execution_count": null,
   "id": "4821330d",
   "metadata": {},
   "outputs": [],
   "source": [
    "# Select records of group A only, who are Males\n",
    "df1 = df[(df.group == 'group A') & (df.gender == 'Male')]  \n",
    "df1"
   ]
  },
  {
   "cell_type": "code",
   "execution_count": null,
   "id": "75d9fc93",
   "metadata": {},
   "outputs": [],
   "source": [
    "# Select records who lives outside Karachi and earn a scholarship of greater than 7000, or lives in Peshawer\n",
    "out = df[(df.address != 'Karachi') & (df.scholarship > 7000) | (df.address == 'Peshawer')]\n",
    "out\n"
   ]
  },
  {
   "cell_type": "code",
   "execution_count": null,
   "id": "bbb05754",
   "metadata": {},
   "outputs": [],
   "source": [
    "# Select the records of students who belong to Lahore or Karachi\n",
    "df1 = df[(df.address == 'Sialkot') | (df.address == 'Karachi')]\n",
    "df1"
   ]
  },
  {
   "cell_type": "markdown",
   "id": "5e557480",
   "metadata": {},
   "source": [
    "**If there are many conditions connected with or operator, you can simplify it using the `series.isin()` method as shown below:**"
   ]
  },
  {
   "cell_type": "code",
   "execution_count": null,
   "id": "4f94f4c1",
   "metadata": {},
   "outputs": [],
   "source": [
    "df[df.address.isin(['Karachi', 'Peshawer', 'Islamabad'])]"
   ]
  },
  {
   "cell_type": "code",
   "execution_count": null,
   "id": "94cd9213",
   "metadata": {},
   "outputs": [],
   "source": []
  },
  {
   "cell_type": "code",
   "execution_count": null,
   "id": "5bf66dfa",
   "metadata": {},
   "outputs": [],
   "source": []
  },
  {
   "cell_type": "markdown",
   "id": "787bd353",
   "metadata": {},
   "source": [
    "## 12. Selecting columns of a specific data type\n",
    "- We can use the `select_dtypes(include=None, exclude=None)` function of dataframe, \n",
    "- Returns the subset of the dataframe's including the dtypes in include and excluding the dtypes in exclude\n",
    "- include and exclude can be scalar or list-like\n",
    "- atleast one of these parameters must be supplied"
   ]
  },
  {
   "cell_type": "code",
   "execution_count": null,
   "id": "ed488fd1",
   "metadata": {},
   "outputs": [],
   "source": [
    "# Let us first check the data types of each column\n",
    "df.dtypes"
   ]
  },
  {
   "cell_type": "code",
   "execution_count": null,
   "id": "077b0967",
   "metadata": {},
   "outputs": [],
   "source": [
    "# Select the columns with object data type (categorical variables) only`\n",
    "df.select_dtypes(include='object').head()"
   ]
  },
  {
   "cell_type": "code",
   "execution_count": null,
   "id": "5041dfd1",
   "metadata": {},
   "outputs": [],
   "source": [
    "# Select the columns with float64 datatype\n",
    "df.select_dtypes(include='float64').head()"
   ]
  },
  {
   "cell_type": "code",
   "execution_count": null,
   "id": "bd895191",
   "metadata": {},
   "outputs": [],
   "source": [
    "# Select the columns with int64 datatype\n",
    "df.select_dtypes(include=['int64', 'float64']).head()"
   ]
  },
  {
   "cell_type": "code",
   "execution_count": null,
   "id": "ddb69992",
   "metadata": {},
   "outputs": [],
   "source": []
  },
  {
   "cell_type": "code",
   "execution_count": null,
   "id": "801f455b",
   "metadata": {},
   "outputs": [],
   "source": []
  },
  {
   "cell_type": "code",
   "execution_count": null,
   "id": "f804942b",
   "metadata": {},
   "outputs": [],
   "source": []
  },
  {
   "cell_type": "code",
   "execution_count": null,
   "id": "f541d914",
   "metadata": {},
   "outputs": [],
   "source": [
    "# Practice what you have learnt in this notebook on this dataframe\n",
    "import pandas as pd\n",
    "sample_df = pd.DataFrame({\n",
    "    'name' : ['Kamal', 'Saima', 'Jamal', 'Shaikh', 'Farzana'],\n",
    "    'gender' : ['M', 'F', 'M', 'M', 'F'],\n",
    "    'grade'  : ['A', 'A', 'B', 'B', 'A'],\n",
    "    'marks'  : [ 22,  21,  12,  14,  20],\n",
    "    'id'     : ['A101', 'A102', 'A103', 'A104', 'A105'],\n",
    "    'city' : ['Lahore', 'Peshawer', 'Lahore', 'Karachi', 'Peshawer']\n",
    "})\n",
    "sample_df"
   ]
  },
  {
   "cell_type": "code",
   "execution_count": null,
   "id": "2af81011",
   "metadata": {},
   "outputs": [],
   "source": [
    "# Practice what you have learnt in this notebook on this dataframe\n",
    "import pandas as pd\n",
    "df = pd.DataFrame({\n",
    "    'artist' : ['Atif Aslam', 'Nusrat Fateh Ali', 'Ali Zaffar', 'Nazia Hassan', 'Abida Parveen', 'Rahat Fateh Ali', 'Hadiqa Kiani'],\n",
    "    'city' : ['Lahore', 'Karachi', 'Islamabad', 'Lahore', 'Peshawer', 'Quetta', 'Karachi'],\n",
    "    'album_count'  : [23, 31, 42, 38, 41, 36, 25],\n",
    "    'genre'  : ['Rock', 'Folk', 'Rock', 'Disco', 'Folk', 'Classical', 'Jaaz']\n",
    "})\n",
    "df\n"
   ]
  },
  {
   "cell_type": "markdown",
   "id": "f8b811f9",
   "metadata": {},
   "source": [
    "## 4. Deleting, and Adding  a Row in a Dataframe"
   ]
  },
  {
   "cell_type": "markdown",
   "id": "c82fbf45",
   "metadata": {},
   "source": [
    "### a. Deleting Rows from a  Dataframe\n",
    "- - To delete a row from a dataframe you can use the `df.drop()` method as used to drop a column. You just have to mention the axis argument to  0\n",
    "\n",
    "**`df.drop(listofcolnames, axis=0, inplace=True')`**"
   ]
  },
  {
   "cell_type": "code",
   "execution_count": null,
   "id": "958053c1",
   "metadata": {},
   "outputs": [],
   "source": [
    "df.shape"
   ]
  },
  {
   "cell_type": "code",
   "execution_count": null,
   "id": "bda7ce93",
   "metadata": {},
   "outputs": [],
   "source": [
    "df.drop([1,2], axis=0, inplace=True)\n",
    "df.head()"
   ]
  },
  {
   "cell_type": "code",
   "execution_count": null,
   "id": "a3d48608",
   "metadata": {},
   "outputs": [],
   "source": [
    "df.shape"
   ]
  },
  {
   "cell_type": "markdown",
   "id": "eaaf89e7",
   "metadata": {},
   "source": [
    "### b. Add a Row in a Dataframe\n",
    "- To add a new row in a dataframe, create an appropriate dataframe and then use `df.append()` method, which will return a new dataframe with the row added.\n",
    "```\n",
    "df.append(other, ignore_index=False)\n",
    "```\n",
    "**More on append in future session**"
   ]
  },
  {
   "cell_type": "code",
   "execution_count": null,
   "id": "a4af4810",
   "metadata": {},
   "outputs": [],
   "source": [
    "newdf = pd.DataFrame(data=[['MS555', 'Kakamanna', 'group D', 55.0, 55.0, 9999]],\n",
    "                     columns=['roll_no', 'name', 'group', 'subj1', 'subj2', 'scholarship'])\n",
    "newdf\n",
    "\n"
   ]
  },
  {
   "cell_type": "code",
   "execution_count": null,
   "id": "a9346787",
   "metadata": {},
   "outputs": [],
   "source": [
    "df1 = df.append(newdf, ignore_index=True)\n",
    "df1"
   ]
  },
  {
   "cell_type": "markdown",
   "id": "fac1e2db",
   "metadata": {},
   "source": [
    "**Dear students, how can we add a row in the beginning or in between instead of adding it at the end?**"
   ]
  }
 ],
 "metadata": {
  "kernelspec": {
   "display_name": "Python 3 (ipykernel)",
   "language": "python",
   "name": "python3"
  },
  "language_info": {
   "codemirror_mode": {
    "name": "ipython",
    "version": 3
   },
   "file_extension": ".py",
   "mimetype": "text/x-python",
   "name": "python",
   "nbconvert_exporter": "python",
   "pygments_lexer": "ipython3",
   "version": "3.8.10"
  }
 },
 "nbformat": 4,
 "nbformat_minor": 5
}
