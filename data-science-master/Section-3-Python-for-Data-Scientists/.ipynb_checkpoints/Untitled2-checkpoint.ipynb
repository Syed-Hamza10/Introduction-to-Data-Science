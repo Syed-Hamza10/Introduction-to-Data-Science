{
 "cells": [
  {
   "cell_type": "markdown",
   "id": "1aa23836",
   "metadata": {},
   "source": [
    "<h1 align=\"center\">Class Work</h1>"
   ]
  },
  {
   "cell_type": "markdown",
   "id": "0b211f2e",
   "metadata": {},
   "source": [
    "## Modifying Row/Column Indices/Labels\n",
    "\n",
    "**```pd.DataFrame(data, index, columns, dtype=None)```**\n",
    "\n",
    "**```pd.read_csv(fname, delimiter, header, index_col)```**\n",
    "#### a. Default Behavior\n",
    "#### b. Modifying While Creating Dataframe\n",
    "#### c. Modifying after Dataframe is Loaded with Dataset"
   ]
  },
  {
   "cell_type": "code",
   "execution_count": 15,
   "id": "1d283ede",
   "metadata": {},
   "outputs": [
    {
     "data": {
      "text/html": [
       "<div>\n",
       "<style scoped>\n",
       "    .dataframe tbody tr th:only-of-type {\n",
       "        vertical-align: middle;\n",
       "    }\n",
       "\n",
       "    .dataframe tbody tr th {\n",
       "        vertical-align: top;\n",
       "    }\n",
       "\n",
       "    .dataframe thead th {\n",
       "        text-align: right;\n",
       "    }\n",
       "</style>\n",
       "<table border=\"1\" class=\"dataframe\">\n",
       "  <thead>\n",
       "    <tr style=\"text-align: right;\">\n",
       "      <th></th>\n",
       "      <th>roll no</th>\n",
       "      <th>name</th>\n",
       "      <th>age</th>\n",
       "      <th>address</th>\n",
       "      <th>session</th>\n",
       "      <th>group</th>\n",
       "      <th>gender</th>\n",
       "      <th>subj1</th>\n",
       "      <th>subj2</th>\n",
       "      <th>scholarship</th>\n",
       "    </tr>\n",
       "  </thead>\n",
       "  <tbody>\n",
       "    <tr>\n",
       "      <th>0</th>\n",
       "      <td>MS01</td>\n",
       "      <td>Rauf</td>\n",
       "      <td>52</td>\n",
       "      <td>Lahore</td>\n",
       "      <td>MORNING</td>\n",
       "      <td>group C</td>\n",
       "      <td>Male</td>\n",
       "      <td>78.3</td>\n",
       "      <td>84.4</td>\n",
       "      <td>5000.0</td>\n",
       "    </tr>\n",
       "    <tr>\n",
       "      <th>1</th>\n",
       "      <td>MS02</td>\n",
       "      <td>Arif</td>\n",
       "      <td>51</td>\n",
       "      <td>Islamabad</td>\n",
       "      <td>AFT</td>\n",
       "      <td>group A</td>\n",
       "      <td>Male</td>\n",
       "      <td>70.5</td>\n",
       "      <td>60.5</td>\n",
       "      <td>6000.0</td>\n",
       "    </tr>\n",
       "    <tr>\n",
       "      <th>2</th>\n",
       "      <td>MS03</td>\n",
       "      <td>Shaista</td>\n",
       "      <td>35</td>\n",
       "      <td>Karachi</td>\n",
       "      <td>AFTERNOON</td>\n",
       "      <td>group B</td>\n",
       "      <td>Female</td>\n",
       "      <td>64.9</td>\n",
       "      <td>75.1</td>\n",
       "      <td>8500.0</td>\n",
       "    </tr>\n",
       "    <tr>\n",
       "      <th>3</th>\n",
       "      <td>MS04</td>\n",
       "      <td>Hadeed</td>\n",
       "      <td>20</td>\n",
       "      <td>Lahore</td>\n",
       "      <td>MOR</td>\n",
       "      <td>group A</td>\n",
       "      <td>Male</td>\n",
       "      <td>82.0</td>\n",
       "      <td>84.3</td>\n",
       "      <td>4000.0</td>\n",
       "    </tr>\n",
       "    <tr>\n",
       "      <th>4</th>\n",
       "      <td>MS05</td>\n",
       "      <td>Zara</td>\n",
       "      <td>40</td>\n",
       "      <td>Peshawer</td>\n",
       "      <td>AFT</td>\n",
       "      <td>group D</td>\n",
       "      <td>Female</td>\n",
       "      <td>65.9</td>\n",
       "      <td>72.8</td>\n",
       "      <td>3500.0</td>\n",
       "    </tr>\n",
       "  </tbody>\n",
       "</table>\n",
       "</div>"
      ],
      "text/plain": [
       "  roll no     name  age    address    session    group  gender  subj1  subj2  \\\n",
       "0    MS01     Rauf   52     Lahore    MORNING  group C    Male   78.3   84.4   \n",
       "1    MS02     Arif   51  Islamabad        AFT  group A    Male   70.5   60.5   \n",
       "2    MS03  Shaista   35    Karachi  AFTERNOON  group B  Female   64.9   75.1   \n",
       "3    MS04   Hadeed   20     Lahore        MOR  group A    Male   82.0   84.3   \n",
       "4    MS05     Zara   40   Peshawer        AFT  group D  Female   65.9   72.8   \n",
       "\n",
       "   scholarship  \n",
       "0       5000.0  \n",
       "1       6000.0  \n",
       "2       8500.0  \n",
       "3       4000.0  \n",
       "4       3500.0  "
      ]
     },
     "execution_count": 15,
     "metadata": {},
     "output_type": "execute_result"
    }
   ],
   "source": [
    "import pandas as pd\n",
    "df = pd.read_csv('datasets/groupdata.csv')\n",
    "df.head()"
   ]
  },
  {
   "cell_type": "code",
   "execution_count": 16,
   "id": "b28f0770",
   "metadata": {},
   "outputs": [
    {
     "ename": "TypeError",
     "evalue": "set_index() got an unexpected keyword argument 'key'",
     "output_type": "error",
     "traceback": [
      "\u001b[0;31m---------------------------------------------------------------------------\u001b[0m",
      "\u001b[0;31mTypeError\u001b[0m                                 Traceback (most recent call last)",
      "\u001b[0;32m/var/folders/1t/g3ylw8h50cjdqmk5d6jh1qmm0000gn/T/ipykernel_34411/2180766559.py\u001b[0m in \u001b[0;36m<module>\u001b[0;34m\u001b[0m\n\u001b[0;32m----> 1\u001b[0;31m \u001b[0mdf\u001b[0m\u001b[0;34m.\u001b[0m\u001b[0mset_index\u001b[0m\u001b[0;34m(\u001b[0m\u001b[0mkey\u001b[0m\u001b[0;34m=\u001b[0m\u001b[0;34m'roll no'\u001b[0m\u001b[0;34m)\u001b[0m\u001b[0;34m\u001b[0m\u001b[0;34m\u001b[0m\u001b[0m\n\u001b[0m",
      "\u001b[0;32m/Library/Frameworks/Python.framework/Versions/3.8/lib/python3.8/site-packages/pandas/util/_decorators.py\u001b[0m in \u001b[0;36mwrapper\u001b[0;34m(*args, **kwargs)\u001b[0m\n\u001b[1;32m    309\u001b[0m                     \u001b[0mstacklevel\u001b[0m\u001b[0;34m=\u001b[0m\u001b[0mstacklevel\u001b[0m\u001b[0;34m,\u001b[0m\u001b[0;34m\u001b[0m\u001b[0;34m\u001b[0m\u001b[0m\n\u001b[1;32m    310\u001b[0m                 )\n\u001b[0;32m--> 311\u001b[0;31m             \u001b[0;32mreturn\u001b[0m \u001b[0mfunc\u001b[0m\u001b[0;34m(\u001b[0m\u001b[0;34m*\u001b[0m\u001b[0margs\u001b[0m\u001b[0;34m,\u001b[0m \u001b[0;34m**\u001b[0m\u001b[0mkwargs\u001b[0m\u001b[0;34m)\u001b[0m\u001b[0;34m\u001b[0m\u001b[0;34m\u001b[0m\u001b[0m\n\u001b[0m\u001b[1;32m    312\u001b[0m \u001b[0;34m\u001b[0m\u001b[0m\n\u001b[1;32m    313\u001b[0m         \u001b[0;32mreturn\u001b[0m \u001b[0mwrapper\u001b[0m\u001b[0;34m\u001b[0m\u001b[0;34m\u001b[0m\u001b[0m\n",
      "\u001b[0;31mTypeError\u001b[0m: set_index() got an unexpected keyword argument 'key'"
     ]
    }
   ],
   "source": [
    "df.set_index(key='roll no')"
   ]
  },
  {
   "cell_type": "code",
   "execution_count": 13,
   "id": "2797f64d",
   "metadata": {},
   "outputs": [
    {
     "data": {
      "text/html": [
       "<div>\n",
       "<style scoped>\n",
       "    .dataframe tbody tr th:only-of-type {\n",
       "        vertical-align: middle;\n",
       "    }\n",
       "\n",
       "    .dataframe tbody tr th {\n",
       "        vertical-align: top;\n",
       "    }\n",
       "\n",
       "    .dataframe thead th {\n",
       "        text-align: right;\n",
       "    }\n",
       "</style>\n",
       "<table border=\"1\" class=\"dataframe\">\n",
       "  <thead>\n",
       "    <tr style=\"text-align: right;\">\n",
       "      <th></th>\n",
       "      <th>roll_no</th>\n",
       "      <th>name</th>\n",
       "      <th>age</th>\n",
       "      <th>address</th>\n",
       "      <th>session</th>\n",
       "      <th>group</th>\n",
       "      <th>gender</th>\n",
       "      <th>subj1</th>\n",
       "      <th>subj2</th>\n",
       "      <th>scholarship</th>\n",
       "    </tr>\n",
       "  </thead>\n",
       "  <tbody>\n",
       "    <tr>\n",
       "      <th>0</th>\n",
       "      <td>MS01</td>\n",
       "      <td>Rauf</td>\n",
       "      <td>52</td>\n",
       "      <td>Lahore</td>\n",
       "      <td>MORNING</td>\n",
       "      <td>group C</td>\n",
       "      <td>Male</td>\n",
       "      <td>78.3</td>\n",
       "      <td>84.4</td>\n",
       "      <td>5000.0</td>\n",
       "    </tr>\n",
       "    <tr>\n",
       "      <th>1</th>\n",
       "      <td>MS02</td>\n",
       "      <td>Arif</td>\n",
       "      <td>51</td>\n",
       "      <td>Islamabad</td>\n",
       "      <td>AFT</td>\n",
       "      <td>group A</td>\n",
       "      <td>Male</td>\n",
       "      <td>70.5</td>\n",
       "      <td>60.5</td>\n",
       "      <td>6000.0</td>\n",
       "    </tr>\n",
       "    <tr>\n",
       "      <th>2</th>\n",
       "      <td>MS03</td>\n",
       "      <td>Shaista</td>\n",
       "      <td>35</td>\n",
       "      <td>Karachi</td>\n",
       "      <td>AFTERNOON</td>\n",
       "      <td>group B</td>\n",
       "      <td>Female</td>\n",
       "      <td>64.9</td>\n",
       "      <td>75.1</td>\n",
       "      <td>8500.0</td>\n",
       "    </tr>\n",
       "    <tr>\n",
       "      <th>3</th>\n",
       "      <td>MS04</td>\n",
       "      <td>Hadeed</td>\n",
       "      <td>20</td>\n",
       "      <td>Lahore</td>\n",
       "      <td>MOR</td>\n",
       "      <td>group A</td>\n",
       "      <td>Male</td>\n",
       "      <td>82.0</td>\n",
       "      <td>84.3</td>\n",
       "      <td>4000.0</td>\n",
       "    </tr>\n",
       "    <tr>\n",
       "      <th>4</th>\n",
       "      <td>MS05</td>\n",
       "      <td>Zara</td>\n",
       "      <td>40</td>\n",
       "      <td>Peshawer</td>\n",
       "      <td>AFT</td>\n",
       "      <td>group D</td>\n",
       "      <td>Female</td>\n",
       "      <td>65.9</td>\n",
       "      <td>72.8</td>\n",
       "      <td>3500.0</td>\n",
       "    </tr>\n",
       "    <tr>\n",
       "      <th>5</th>\n",
       "      <td>MS06</td>\n",
       "      <td>Mohid</td>\n",
       "      <td>16</td>\n",
       "      <td>Lahore</td>\n",
       "      <td>MORNING</td>\n",
       "      <td>group C</td>\n",
       "      <td>Female</td>\n",
       "      <td>69.3</td>\n",
       "      <td>78.6</td>\n",
       "      <td>NaN</td>\n",
       "    </tr>\n",
       "    <tr>\n",
       "      <th>6</th>\n",
       "      <td>MS07</td>\n",
       "      <td>Zobia</td>\n",
       "      <td>40</td>\n",
       "      <td>Sialkot</td>\n",
       "      <td>AFT</td>\n",
       "      <td>group B</td>\n",
       "      <td>Female</td>\n",
       "      <td>90.2</td>\n",
       "      <td>NaN</td>\n",
       "      <td>4000.0</td>\n",
       "    </tr>\n",
       "    <tr>\n",
       "      <th>7</th>\n",
       "      <td>MS08</td>\n",
       "      <td>Idrees</td>\n",
       "      <td>51</td>\n",
       "      <td>Multan</td>\n",
       "      <td>MORNING</td>\n",
       "      <td>group D</td>\n",
       "      <td>Male</td>\n",
       "      <td>84.1</td>\n",
       "      <td>76.0</td>\n",
       "      <td>8000.0</td>\n",
       "    </tr>\n",
       "    <tr>\n",
       "      <th>8</th>\n",
       "      <td>MS09</td>\n",
       "      <td>Jamil</td>\n",
       "      <td>53</td>\n",
       "      <td>Karachi</td>\n",
       "      <td>AFT</td>\n",
       "      <td>group C</td>\n",
       "      <td>Male</td>\n",
       "      <td>90.5</td>\n",
       "      <td>81.3</td>\n",
       "      <td>3500.0</td>\n",
       "    </tr>\n",
       "    <tr>\n",
       "      <th>9</th>\n",
       "      <td>MS10</td>\n",
       "      <td>Shahid</td>\n",
       "      <td>38</td>\n",
       "      <td>Lahore</td>\n",
       "      <td>AFTERNOON</td>\n",
       "      <td>group D</td>\n",
       "      <td>Male</td>\n",
       "      <td>90.5</td>\n",
       "      <td>81.3</td>\n",
       "      <td>3800.0</td>\n",
       "    </tr>\n",
       "    <tr>\n",
       "      <th>10</th>\n",
       "      <td>MS11</td>\n",
       "      <td>Khurram</td>\n",
       "      <td>35</td>\n",
       "      <td>Islamabad</td>\n",
       "      <td>MOR</td>\n",
       "      <td>group B</td>\n",
       "      <td>Male</td>\n",
       "      <td>90.5</td>\n",
       "      <td>81.3</td>\n",
       "      <td>6000.0</td>\n",
       "    </tr>\n",
       "    <tr>\n",
       "      <th>11</th>\n",
       "      <td>MS12</td>\n",
       "      <td>Maaz</td>\n",
       "      <td>25</td>\n",
       "      <td>Karachi</td>\n",
       "      <td>AFTERNOON</td>\n",
       "      <td>group C</td>\n",
       "      <td>Male</td>\n",
       "      <td>90.5</td>\n",
       "      <td>81.3</td>\n",
       "      <td>NaN</td>\n",
       "    </tr>\n",
       "    <tr>\n",
       "      <th>12</th>\n",
       "      <td>MS13</td>\n",
       "      <td>Mujahid</td>\n",
       "      <td>18</td>\n",
       "      <td>Lahore</td>\n",
       "      <td>MORNING</td>\n",
       "      <td>group D</td>\n",
       "      <td>Male</td>\n",
       "      <td>NaN</td>\n",
       "      <td>76.5</td>\n",
       "      <td>7000.0</td>\n",
       "    </tr>\n",
       "    <tr>\n",
       "      <th>13</th>\n",
       "      <td>MS14</td>\n",
       "      <td>Sara</td>\n",
       "      <td>28</td>\n",
       "      <td>Multan</td>\n",
       "      <td>AFTERNOON</td>\n",
       "      <td>group A</td>\n",
       "      <td>Female</td>\n",
       "      <td>84.1</td>\n",
       "      <td>76.0</td>\n",
       "      <td>8000.0</td>\n",
       "    </tr>\n",
       "    <tr>\n",
       "      <th>14</th>\n",
       "      <td>MS15</td>\n",
       "      <td>Fatima</td>\n",
       "      <td>33</td>\n",
       "      <td>Sialkot</td>\n",
       "      <td>AFT</td>\n",
       "      <td>group C</td>\n",
       "      <td>Female</td>\n",
       "      <td>90.5</td>\n",
       "      <td>81.3</td>\n",
       "      <td>3500.0</td>\n",
       "    </tr>\n",
       "    <tr>\n",
       "      <th>15</th>\n",
       "      <td>MS16</td>\n",
       "      <td>Kakamanna</td>\n",
       "      <td>42</td>\n",
       "      <td>Multan</td>\n",
       "      <td>AFTERNOON</td>\n",
       "      <td>group A</td>\n",
       "      <td>Male</td>\n",
       "      <td>90.5</td>\n",
       "      <td>81.3</td>\n",
       "      <td>3800.0</td>\n",
       "    </tr>\n",
       "  </tbody>\n",
       "</table>\n",
       "</div>"
      ],
      "text/plain": [
       "   roll_no       name  age    address    session    group  gender  subj1  \\\n",
       "0     MS01       Rauf   52     Lahore    MORNING  group C    Male   78.3   \n",
       "1     MS02       Arif   51  Islamabad        AFT  group A    Male   70.5   \n",
       "2     MS03    Shaista   35    Karachi  AFTERNOON  group B  Female   64.9   \n",
       "3     MS04     Hadeed   20     Lahore        MOR  group A    Male   82.0   \n",
       "4     MS05       Zara   40   Peshawer        AFT  group D  Female   65.9   \n",
       "5     MS06      Mohid   16     Lahore    MORNING  group C  Female   69.3   \n",
       "6     MS07      Zobia   40    Sialkot        AFT  group B  Female   90.2   \n",
       "7     MS08     Idrees   51     Multan    MORNING  group D    Male   84.1   \n",
       "8     MS09      Jamil   53    Karachi        AFT  group C    Male   90.5   \n",
       "9     MS10     Shahid   38     Lahore  AFTERNOON  group D    Male   90.5   \n",
       "10    MS11    Khurram   35  Islamabad        MOR  group B    Male   90.5   \n",
       "11    MS12       Maaz   25    Karachi  AFTERNOON  group C    Male   90.5   \n",
       "12    MS13    Mujahid   18     Lahore    MORNING  group D    Male    NaN   \n",
       "13    MS14       Sara   28     Multan  AFTERNOON  group A  Female   84.1   \n",
       "14    MS15     Fatima   33    Sialkot        AFT  group C  Female   90.5   \n",
       "15    MS16  Kakamanna   42     Multan  AFTERNOON  group A    Male   90.5   \n",
       "\n",
       "    subj2  scholarship  \n",
       "0    84.4       5000.0  \n",
       "1    60.5       6000.0  \n",
       "2    75.1       8500.0  \n",
       "3    84.3       4000.0  \n",
       "4    72.8       3500.0  \n",
       "5    78.6          NaN  \n",
       "6     NaN       4000.0  \n",
       "7    76.0       8000.0  \n",
       "8    81.3       3500.0  \n",
       "9    81.3       3800.0  \n",
       "10   81.3       6000.0  \n",
       "11   81.3          NaN  \n",
       "12   76.5       7000.0  \n",
       "13   76.0       8000.0  \n",
       "14   81.3       3500.0  \n",
       "15   81.3       3800.0  "
      ]
     },
     "execution_count": 13,
     "metadata": {},
     "output_type": "execute_result"
    }
   ],
   "source": [
    "df"
   ]
  },
  {
   "cell_type": "code",
   "execution_count": null,
   "id": "3ec71f64",
   "metadata": {},
   "outputs": [],
   "source": []
  },
  {
   "cell_type": "code",
   "execution_count": null,
   "id": "b54295d4",
   "metadata": {},
   "outputs": [],
   "source": []
  },
  {
   "cell_type": "code",
   "execution_count": null,
   "id": "bd4f1a90",
   "metadata": {},
   "outputs": [],
   "source": []
  },
  {
   "cell_type": "code",
   "execution_count": null,
   "id": "86fe5b3e",
   "metadata": {},
   "outputs": [],
   "source": []
  },
  {
   "cell_type": "code",
   "execution_count": null,
   "id": "a27f9937",
   "metadata": {},
   "outputs": [],
   "source": []
  },
  {
   "cell_type": "markdown",
   "id": "352eea8b",
   "metadata": {},
   "source": [
    "## Modifying Data"
   ]
  },
  {
   "cell_type": "code",
   "execution_count": null,
   "id": "48625b59",
   "metadata": {},
   "outputs": [],
   "source": [
    "df = pd.read_csv('datasets/groupdata.csv')\n",
    "df.head(3)"
   ]
  },
  {
   "cell_type": "code",
   "execution_count": null,
   "id": "6fa9ec65",
   "metadata": {},
   "outputs": [],
   "source": []
  },
  {
   "cell_type": "code",
   "execution_count": null,
   "id": "41e05dd7",
   "metadata": {},
   "outputs": [],
   "source": []
  },
  {
   "cell_type": "code",
   "execution_count": null,
   "id": "5426a4cd",
   "metadata": {},
   "outputs": [],
   "source": []
  },
  {
   "cell_type": "code",
   "execution_count": null,
   "id": "af4cb375",
   "metadata": {},
   "outputs": [],
   "source": []
  },
  {
   "cell_type": "markdown",
   "id": "fdf63b8c",
   "metadata": {},
   "source": [
    "## Add a new Column in a Data Frame"
   ]
  },
  {
   "cell_type": "code",
   "execution_count": null,
   "id": "75cdd751",
   "metadata": {},
   "outputs": [],
   "source": [
    "df = pd.read_csv('datasets/groupdata.csv')\n",
    "df.head(3)"
   ]
  },
  {
   "cell_type": "code",
   "execution_count": null,
   "id": "abc2b23b",
   "metadata": {},
   "outputs": [],
   "source": []
  },
  {
   "cell_type": "code",
   "execution_count": null,
   "id": "053385d9",
   "metadata": {},
   "outputs": [],
   "source": []
  },
  {
   "cell_type": "code",
   "execution_count": null,
   "id": "f4c75d8b",
   "metadata": {},
   "outputs": [],
   "source": []
  },
  {
   "cell_type": "code",
   "execution_count": null,
   "id": "03dc4924",
   "metadata": {},
   "outputs": [],
   "source": []
  },
  {
   "cell_type": "markdown",
   "id": "c7a74fd8",
   "metadata": {},
   "source": [
    "## Add a new Row in a Data Frame"
   ]
  },
  {
   "cell_type": "code",
   "execution_count": null,
   "id": "6889dc02",
   "metadata": {},
   "outputs": [],
   "source": [
    "df = pd.read_csv('datasets/groupdata.csv')\n",
    "df.head(3)"
   ]
  },
  {
   "cell_type": "code",
   "execution_count": null,
   "id": "cc0380b0",
   "metadata": {},
   "outputs": [],
   "source": [
    "# Let us create a new dataframe having a single row\n",
    "newdf = pd.DataFrame(data=[['MS222', 100, 'Kamokey', 'AFT', 'group D', 'Male', 55.0, 55.0, 9999]],\n",
    "     columns=['roll no', 'age', 'address', 'session', 'group', 'gender','subj1', 'subj2', 'scholarship'])\n",
    "newdf"
   ]
  },
  {
   "cell_type": "code",
   "execution_count": null,
   "id": "08e5777f",
   "metadata": {},
   "outputs": [],
   "source": [
    "df = df.append(newdf , ignore_index=True)\n",
    "df.tail()"
   ]
  },
  {
   "cell_type": "markdown",
   "id": "aa455c5b",
   "metadata": {},
   "source": [
    "- Note that the due to `ignore_index=True` argument it has been assigned the next available index. Otherwise, the new row will also have row index 0.\n",
    "- Moreover, note the NaN value under the scholarship column against the new added row\n",
    "- One last thing, the `df.append()` method do not have `inplace` argument, so you always have to assign the resulting dataframe to the original `df`. "
   ]
  },
  {
   "cell_type": "code",
   "execution_count": null,
   "id": "b035eab9",
   "metadata": {},
   "outputs": [],
   "source": []
  },
  {
   "cell_type": "code",
   "execution_count": null,
   "id": "42d50e26",
   "metadata": {},
   "outputs": [],
   "source": []
  },
  {
   "cell_type": "markdown",
   "id": "d80c3808",
   "metadata": {},
   "source": [
    "## Delete a Row from a Data Frame"
   ]
  },
  {
   "cell_type": "code",
   "execution_count": null,
   "id": "614a3bd5",
   "metadata": {},
   "outputs": [],
   "source": [
    "df = pd.read_csv('datasets/groupdata.csv')\n",
    "df.head(3)"
   ]
  },
  {
   "cell_type": "code",
   "execution_count": null,
   "id": "2b7ca213",
   "metadata": {},
   "outputs": [],
   "source": []
  },
  {
   "cell_type": "code",
   "execution_count": null,
   "id": "8537ee47",
   "metadata": {},
   "outputs": [],
   "source": []
  },
  {
   "cell_type": "code",
   "execution_count": null,
   "id": "b25d1935",
   "metadata": {},
   "outputs": [],
   "source": []
  },
  {
   "cell_type": "code",
   "execution_count": null,
   "id": "c7438534",
   "metadata": {},
   "outputs": [],
   "source": []
  },
  {
   "cell_type": "markdown",
   "id": "4fa7f36c",
   "metadata": {},
   "source": [
    "## Delete a Column from a Data Frame"
   ]
  },
  {
   "cell_type": "code",
   "execution_count": null,
   "id": "49ae5dd9",
   "metadata": {},
   "outputs": [],
   "source": [
    "df = pd.read_csv('datasets/groupdata.csv')\n",
    "df.head(3)"
   ]
  },
  {
   "cell_type": "code",
   "execution_count": null,
   "id": "ea238447",
   "metadata": {},
   "outputs": [],
   "source": []
  },
  {
   "cell_type": "code",
   "execution_count": null,
   "id": "0af37d59",
   "metadata": {},
   "outputs": [],
   "source": []
  },
  {
   "cell_type": "code",
   "execution_count": null,
   "id": "ca173c7f",
   "metadata": {},
   "outputs": [],
   "source": []
  },
  {
   "cell_type": "markdown",
   "id": "4ee60bb8",
   "metadata": {},
   "source": [
    "## Use of `s.map(func)` and `s/df/apply(func)` on a Column"
   ]
  },
  {
   "cell_type": "code",
   "execution_count": null,
   "id": "ea4c6d4d",
   "metadata": {},
   "outputs": [],
   "source": [
    "df = pd.read_csv('datasets/groupdata.csv')\n",
    "df.head(3)"
   ]
  },
  {
   "cell_type": "code",
   "execution_count": null,
   "id": "3ba06df1",
   "metadata": {},
   "outputs": [],
   "source": []
  },
  {
   "cell_type": "code",
   "execution_count": null,
   "id": "1f93dacc",
   "metadata": {},
   "outputs": [],
   "source": []
  },
  {
   "cell_type": "code",
   "execution_count": null,
   "id": "9e5de625",
   "metadata": {},
   "outputs": [],
   "source": []
  },
  {
   "cell_type": "code",
   "execution_count": null,
   "id": "4e541be9",
   "metadata": {},
   "outputs": [],
   "source": []
  },
  {
   "cell_type": "markdown",
   "id": "4b86b1bc",
   "metadata": {},
   "source": [
    "## Passing a Dictionary to `s.map(dict)`"
   ]
  },
  {
   "cell_type": "code",
   "execution_count": null,
   "id": "d4dbebd4",
   "metadata": {},
   "outputs": [],
   "source": [
    "df = pd.read_csv('datasets/groupdata.csv')\n",
    "df.head(3)"
   ]
  },
  {
   "cell_type": "code",
   "execution_count": null,
   "id": "75106384",
   "metadata": {},
   "outputs": [],
   "source": []
  },
  {
   "cell_type": "code",
   "execution_count": null,
   "id": "02510cf6",
   "metadata": {},
   "outputs": [],
   "source": []
  },
  {
   "cell_type": "code",
   "execution_count": null,
   "id": "1b95a6d0",
   "metadata": {},
   "outputs": [],
   "source": []
  },
  {
   "cell_type": "code",
   "execution_count": null,
   "id": "b4e16d6b",
   "metadata": {},
   "outputs": [],
   "source": []
  },
  {
   "cell_type": "markdown",
   "id": "5993daaf",
   "metadata": {},
   "source": [
    "## Using `s.replace(dict)` instead of `s.map(dict)`"
   ]
  },
  {
   "cell_type": "code",
   "execution_count": null,
   "id": "83469700",
   "metadata": {},
   "outputs": [],
   "source": []
  },
  {
   "cell_type": "code",
   "execution_count": null,
   "id": "3e02974d",
   "metadata": {},
   "outputs": [],
   "source": []
  },
  {
   "cell_type": "code",
   "execution_count": null,
   "id": "f2a82e15",
   "metadata": {},
   "outputs": [],
   "source": []
  },
  {
   "cell_type": "code",
   "execution_count": null,
   "id": "f4623160",
   "metadata": {},
   "outputs": [],
   "source": []
  },
  {
   "cell_type": "markdown",
   "id": "ca34346c",
   "metadata": {},
   "source": [
    "## Use of `apply(func)` on a Row or Entire Dataframe"
   ]
  },
  {
   "cell_type": "markdown",
   "id": "24878188",
   "metadata": {},
   "source": [
    "**Example1**"
   ]
  },
  {
   "cell_type": "code",
   "execution_count": 3,
   "id": "49ff6265",
   "metadata": {},
   "outputs": [
    {
     "data": {
      "text/html": [
       "<div>\n",
       "<style scoped>\n",
       "    .dataframe tbody tr th:only-of-type {\n",
       "        vertical-align: middle;\n",
       "    }\n",
       "\n",
       "    .dataframe tbody tr th {\n",
       "        vertical-align: top;\n",
       "    }\n",
       "\n",
       "    .dataframe thead th {\n",
       "        text-align: right;\n",
       "    }\n",
       "</style>\n",
       "<table border=\"1\" class=\"dataframe\">\n",
       "  <thead>\n",
       "    <tr style=\"text-align: right;\">\n",
       "      <th></th>\n",
       "      <th>age</th>\n",
       "      <th>subj1</th>\n",
       "      <th>subj2</th>\n",
       "      <th>scholarship</th>\n",
       "    </tr>\n",
       "  </thead>\n",
       "  <tbody>\n",
       "    <tr>\n",
       "      <th>0</th>\n",
       "      <td>52</td>\n",
       "      <td>78.3</td>\n",
       "      <td>84.4</td>\n",
       "      <td>5000.0</td>\n",
       "    </tr>\n",
       "    <tr>\n",
       "      <th>1</th>\n",
       "      <td>51</td>\n",
       "      <td>70.5</td>\n",
       "      <td>60.5</td>\n",
       "      <td>6000.0</td>\n",
       "    </tr>\n",
       "    <tr>\n",
       "      <th>2</th>\n",
       "      <td>35</td>\n",
       "      <td>64.9</td>\n",
       "      <td>75.1</td>\n",
       "      <td>8500.0</td>\n",
       "    </tr>\n",
       "    <tr>\n",
       "      <th>3</th>\n",
       "      <td>20</td>\n",
       "      <td>82.0</td>\n",
       "      <td>84.3</td>\n",
       "      <td>4000.0</td>\n",
       "    </tr>\n",
       "    <tr>\n",
       "      <th>4</th>\n",
       "      <td>40</td>\n",
       "      <td>65.9</td>\n",
       "      <td>72.8</td>\n",
       "      <td>3500.0</td>\n",
       "    </tr>\n",
       "    <tr>\n",
       "      <th>5</th>\n",
       "      <td>16</td>\n",
       "      <td>69.3</td>\n",
       "      <td>78.6</td>\n",
       "      <td>NaN</td>\n",
       "    </tr>\n",
       "    <tr>\n",
       "      <th>6</th>\n",
       "      <td>40</td>\n",
       "      <td>90.2</td>\n",
       "      <td>NaN</td>\n",
       "      <td>4000.0</td>\n",
       "    </tr>\n",
       "    <tr>\n",
       "      <th>7</th>\n",
       "      <td>51</td>\n",
       "      <td>84.1</td>\n",
       "      <td>76.0</td>\n",
       "      <td>8000.0</td>\n",
       "    </tr>\n",
       "    <tr>\n",
       "      <th>8</th>\n",
       "      <td>53</td>\n",
       "      <td>90.5</td>\n",
       "      <td>81.3</td>\n",
       "      <td>3500.0</td>\n",
       "    </tr>\n",
       "    <tr>\n",
       "      <th>9</th>\n",
       "      <td>38</td>\n",
       "      <td>90.5</td>\n",
       "      <td>81.3</td>\n",
       "      <td>3800.0</td>\n",
       "    </tr>\n",
       "    <tr>\n",
       "      <th>10</th>\n",
       "      <td>35</td>\n",
       "      <td>90.5</td>\n",
       "      <td>81.3</td>\n",
       "      <td>6000.0</td>\n",
       "    </tr>\n",
       "    <tr>\n",
       "      <th>11</th>\n",
       "      <td>25</td>\n",
       "      <td>90.5</td>\n",
       "      <td>81.3</td>\n",
       "      <td>NaN</td>\n",
       "    </tr>\n",
       "    <tr>\n",
       "      <th>12</th>\n",
       "      <td>18</td>\n",
       "      <td>NaN</td>\n",
       "      <td>76.5</td>\n",
       "      <td>7000.0</td>\n",
       "    </tr>\n",
       "    <tr>\n",
       "      <th>13</th>\n",
       "      <td>28</td>\n",
       "      <td>84.1</td>\n",
       "      <td>76.0</td>\n",
       "      <td>8000.0</td>\n",
       "    </tr>\n",
       "    <tr>\n",
       "      <th>14</th>\n",
       "      <td>33</td>\n",
       "      <td>90.5</td>\n",
       "      <td>81.3</td>\n",
       "      <td>3500.0</td>\n",
       "    </tr>\n",
       "    <tr>\n",
       "      <th>15</th>\n",
       "      <td>42</td>\n",
       "      <td>90.5</td>\n",
       "      <td>81.3</td>\n",
       "      <td>3800.0</td>\n",
       "    </tr>\n",
       "  </tbody>\n",
       "</table>\n",
       "</div>"
      ],
      "text/plain": [
       "    age  subj1  subj2  scholarship\n",
       "0    52   78.3   84.4       5000.0\n",
       "1    51   70.5   60.5       6000.0\n",
       "2    35   64.9   75.1       8500.0\n",
       "3    20   82.0   84.3       4000.0\n",
       "4    40   65.9   72.8       3500.0\n",
       "5    16   69.3   78.6          NaN\n",
       "6    40   90.2    NaN       4000.0\n",
       "7    51   84.1   76.0       8000.0\n",
       "8    53   90.5   81.3       3500.0\n",
       "9    38   90.5   81.3       3800.0\n",
       "10   35   90.5   81.3       6000.0\n",
       "11   25   90.5   81.3          NaN\n",
       "12   18    NaN   76.5       7000.0\n",
       "13   28   84.1   76.0       8000.0\n",
       "14   33   90.5   81.3       3500.0\n",
       "15   42   90.5   81.3       3800.0"
      ]
     },
     "execution_count": 3,
     "metadata": {},
     "output_type": "execute_result"
    }
   ],
   "source": [
    "# Since we have different dtypes in each row, so let us create a dataframe having numeric columns only\n",
    "df = pd.read_csv('datasets/groupdata.csv')\n",
    "df_numeric = df.loc[:,['age','subj1','subj2','scholarship']]\n",
    "df_numeric"
   ]
  },
  {
   "cell_type": "code",
   "execution_count": null,
   "id": "3b05dace",
   "metadata": {},
   "outputs": [],
   "source": [
    "# Although not much meaningful, let us add a number to each value of the row at index 0\n",
    "df_numeric.loc[0] = df_numeric.loc[0].apply(lambda x : x+5)\n",
    "df_numeric"
   ]
  },
  {
   "cell_type": "code",
   "execution_count": null,
   "id": "9c602e02",
   "metadata": {},
   "outputs": [],
   "source": [
    "# Although not much meaningful, let us add a number to each value of the entire dataframe\n",
    "df_numeric = df_numeric.apply(lambda x : x+5)\n",
    "df_numeric"
   ]
  },
  {
   "cell_type": "code",
   "execution_count": null,
   "id": "332eb6c0",
   "metadata": {},
   "outputs": [],
   "source": []
  },
  {
   "cell_type": "code",
   "execution_count": null,
   "id": "d4ee5c89",
   "metadata": {},
   "outputs": [],
   "source": []
  },
  {
   "cell_type": "markdown",
   "id": "9666503c",
   "metadata": {},
   "source": [
    "## Use of `applymap(func)` on a Row or Entire Dataframe"
   ]
  },
  {
   "cell_type": "code",
   "execution_count": null,
   "id": "d9b444a7",
   "metadata": {},
   "outputs": [],
   "source": [
    "# Since we have different dtypes in each row, so let us create a dataframe having strings columns only\n",
    "df = pd.read_csv('datasets/groupdata.csv')\n",
    "df_string = df.loc[:,['roll no','name','address','session', 'group', 'gender']]\n",
    "df_string"
   ]
  },
  {
   "cell_type": "code",
   "execution_count": null,
   "id": "af275660",
   "metadata": {},
   "outputs": [],
   "source": [
    "df_string.applymap(str.upper)"
   ]
  },
  {
   "cell_type": "code",
   "execution_count": null,
   "id": "89a11e69",
   "metadata": {},
   "outputs": [],
   "source": [
    "df_numeric"
   ]
  },
  {
   "cell_type": "code",
   "execution_count": null,
   "id": "bd9c8be7",
   "metadata": {},
   "outputs": [],
   "source": [
    "df_numeric.applymap(lambda x: x+5)"
   ]
  },
  {
   "cell_type": "code",
   "execution_count": null,
   "id": "8700a77c",
   "metadata": {},
   "outputs": [],
   "source": []
  },
  {
   "cell_type": "code",
   "execution_count": null,
   "id": "c667d35f",
   "metadata": {},
   "outputs": [],
   "source": []
  },
  {
   "cell_type": "code",
   "execution_count": null,
   "id": "0492aae8",
   "metadata": {},
   "outputs": [],
   "source": []
  },
  {
   "cell_type": "markdown",
   "id": "5d89a7f9",
   "metadata": {},
   "source": [
    "## Sorting Dataframe using `df.sort_values()`\n",
    ">Pandas data frame has two useful functions. **`df.sort_values()`** to sort by values of one or more columns and **`df.sort_index()`** to sort by the index. Each of these functions come with numerous options, like sorting in specific order (ascending or descending), sorting in place, sorting with missing values, sorting by specific algorithm etc.\n",
    "- The `df.sort_values()` function sort by the values along either axis.\n",
    "```\n",
    "df.sort_values(by,axis=0,ascending=True,inplace=False,kind='quicksort',na_position='last',ignore_index=False)\n",
    "```\n",
    "Where,\n",
    "-  `by`: str or list of str to sort\n",
    "-  `axis`: If `axis` is 0 or 'index' then 'by' may contain index levels and/or column labels. If `axis` is 1 or 'columns' then 'by' may contain column levels and/or index labels.\n",
    "- `ascending`: if True then ascending and if False then descending\n",
    "- `inplace`:  If True, perform operation in-place.\n",
    "- `kind`: {'quicksort', 'mergesort', 'heapsort', 'stable'}, default 'quicksort'. This option is only applied when sorting on a single column or label.\n",
    "- `na_position`: If first then puts NaNs at the beginning. Default is last\n",
    "- `ignore_index`: If True, the resulting axis will be labeled 0, 1, …, n - 1. Default False"
   ]
  },
  {
   "cell_type": "code",
   "execution_count": null,
   "id": "b26bc45a",
   "metadata": {},
   "outputs": [],
   "source": [
    "import pandas as pd\n",
    "df = pd.DataFrame({\n",
    "    'roll_no': [ 102, 101, 104, 103, 105],\n",
    "    'name' : ['Kamal', 'Saima', 'Jamal', 'Shaikh', 'Farzana'],\n",
    "    'gender' : ['M', 'F', 'M', 'M', 'F'],\n",
    "    'grade'  : ['A', 'A', 'B', 'B', 'A'],\n",
    "    'marks'  : [ 21,  23,  12,  14,  20],\n",
    "    'city' : ['Lahore', 'Peshawer', 'Lahore', 'Karachi', 'Peshawer']\n",
    "})\n",
    "df"
   ]
  },
  {
   "cell_type": "markdown",
   "id": "0ca23f18",
   "metadata": {},
   "source": [
    "### a. Sorting by Single Column"
   ]
  },
  {
   "cell_type": "code",
   "execution_count": null,
   "id": "8c2ceb82",
   "metadata": {},
   "outputs": [],
   "source": [
    "# Let us sort the data by grade column\n",
    "# By default the sorting is done in ascending order and is not inplace\n",
    "df1 = df.sort_values(by=['grade'])\n",
    "df1"
   ]
  },
  {
   "cell_type": "markdown",
   "id": "aadaceac",
   "metadata": {},
   "source": [
    "- Note in above output, we have sorted the data based on the `grade` column. You can observe that some of the students with higher marks are ranked lower.\n",
    "- We want to sort the data based on both grades and marks."
   ]
  },
  {
   "cell_type": "markdown",
   "id": "dca3a055",
   "metadata": {},
   "source": [
    "### b. Sorting by Multiple Columns"
   ]
  },
  {
   "cell_type": "code",
   "execution_count": null,
   "id": "586130e6",
   "metadata": {},
   "outputs": [],
   "source": [
    "# sort the dataframe\n",
    "df2 = df.sort_values(by=['grade','marks'])\n",
    "df2"
   ]
  },
  {
   "cell_type": "markdown",
   "id": "3e4d24bd",
   "metadata": {},
   "source": [
    "- Note that the data is first sorted by grade, and then within grade it is sorted by marks\n",
    "- But still the problem is not solved. Actually we want to sort by grade in ascending order and by marks in descending order.\n"
   ]
  },
  {
   "cell_type": "code",
   "execution_count": null,
   "id": "a26aa1c0",
   "metadata": {},
   "outputs": [],
   "source": [
    "df3 = df.sort_values(by=['grade','marks'], ascending=[True,False])\n",
    "df3"
   ]
  },
  {
   "cell_type": "markdown",
   "id": "9d7bfca2",
   "metadata": {},
   "source": [
    "### c. Reset the Index (if you want)\n",
    "- After you sort your dataset, you can observe that the index is also shuffled according to the sorting. If we want to reset the index we use `reset_index()` function.\n"
   ]
  },
  {
   "cell_type": "code",
   "execution_count": null,
   "id": "a4cf9a60",
   "metadata": {},
   "outputs": [],
   "source": [
    "df3.reset_index()"
   ]
  },
  {
   "cell_type": "markdown",
   "id": "fa157337",
   "metadata": {},
   "source": [
    "- Observe that now it has created another column 'index' which is the previous index. \n",
    "- If you want to remove this just pass the parameter `drop = True` and also `inplace = True` to save the state."
   ]
  },
  {
   "cell_type": "code",
   "execution_count": null,
   "id": "92122811",
   "metadata": {},
   "outputs": [],
   "source": [
    "df3.reset_index(inplace=True, drop=True)"
   ]
  },
  {
   "cell_type": "code",
   "execution_count": null,
   "id": "be4b8bfd",
   "metadata": {},
   "outputs": [],
   "source": [
    "df3"
   ]
  },
  {
   "cell_type": "markdown",
   "id": "f3702626",
   "metadata": {},
   "source": [
    "### d. Role of NaN Values in Sorting"
   ]
  },
  {
   "cell_type": "code",
   "execution_count": null,
   "id": "e2d87fc2",
   "metadata": {},
   "outputs": [],
   "source": [
    "df = pd.read_csv('datasets/groupdata.csv')\n",
    "df"
   ]
  },
  {
   "cell_type": "code",
   "execution_count": null,
   "id": "5d098165",
   "metadata": {},
   "outputs": [],
   "source": [
    "# If there is a missing value NaN, by default it is listed at the end when using sort_values function\n",
    "# Regardless of the sorting order (Ascending or Descending)\n",
    "df.sort_values(by='scholarship')"
   ]
  },
  {
   "cell_type": "code",
   "execution_count": null,
   "id": "1261bcc6",
   "metadata": {},
   "outputs": [],
   "source": [
    "# If the argument na_position='first', it will be listed at the top.\n",
    "df.sort_values(by=['scholarship'], na_position='first')"
   ]
  },
  {
   "cell_type": "markdown",
   "id": "28f6d00a",
   "metadata": {},
   "source": [
    ">- Checkout the `df.nlargest()` method which return the first `n` rows ordered by `columns` in descending order.\n",
    ">- Checkout the `df.nsmallest()` method which return the first `n` rows ordered by `columns` in ascending order."
   ]
  },
  {
   "cell_type": "code",
   "execution_count": null,
   "id": "286843f4",
   "metadata": {},
   "outputs": [],
   "source": []
  },
  {
   "cell_type": "code",
   "execution_count": null,
   "id": "0aa9e97b",
   "metadata": {},
   "outputs": [],
   "source": []
  },
  {
   "cell_type": "code",
   "execution_count": null,
   "id": "d2f54862",
   "metadata": {},
   "outputs": [],
   "source": []
  },
  {
   "cell_type": "code",
   "execution_count": null,
   "id": "af76aee8",
   "metadata": {},
   "outputs": [],
   "source": []
  },
  {
   "cell_type": "markdown",
   "id": "19fa2853",
   "metadata": {},
   "source": [
    "##  Sorting dataframes using `df.sort_index()`\n",
    "> We have observed while using `df.sort_values()`, by default the sorting is performed in the vertical direction. If you want to sort in the row direction, we can set the`axis` argument of  `df.sort_values()` method to 1, which is by default set to zero. However, it may cause problems when a number and a string are mixed\n",
    "\n",
    "- So to sort a dataframe in the horizontal direction, we normally use **`df.sort_index()`** method.\n",
    "```\n",
    "df.sort_index(axis=0,ascending=True,inplace=False,kind='quicksort',na_position='last',ignore_index=False)\n",
    "```\n",
    "Where,\n",
    "-  `axis`: The axis along which to sort. The value 0 identifies the rows, and 1 identifies the columns. (default is 0)\n",
    "- `ascending`: If True then ascending and If False then descending\n",
    "- `inplace`:  If True, perform operation in-place.\n",
    "- `kind`: {'quicksort', 'mergesort', 'heapsort', 'stable'}, default 'quicksort'. This option is only applied when sorting on a single column or label.\n",
    "- `na_position`: If first then puts NaNs at the beginning. Default is last\n",
    "- `ignore_index`: If True, the resulting axis will be labeled 0, 1, …, n - 1. Default False"
   ]
  },
  {
   "cell_type": "code",
   "execution_count": null,
   "id": "1925f8e3",
   "metadata": {},
   "outputs": [],
   "source": [
    "# Let us create a simple data frame\n",
    "import pandas as pd\n",
    "df = pd.DataFrame({\n",
    "    'roll_no': [ 102, 101, 104, 105, 103],\n",
    "    'name' : ['Kamal', 'Saima', 'Jamal','Farzana', 'Shaikh'],\n",
    "    'gender' : ['M', 'F', 'M', 'M', 'F'],\n",
    "    'grade'  : ['A', 'A', 'B', 'B', 'A'],\n",
    "    'marks'  : [ 21,  23,  12,  14,  20],\n",
    "    'city' : ['Lahore', 'Peshawer', 'Lahore', 'Karachi', 'Peshawer']\n",
    "})\n",
    "df"
   ]
  },
  {
   "cell_type": "markdown",
   "id": "b4560468",
   "metadata": {},
   "source": [
    "### a. Sort by Column Labels\n",
    "- By passing the axis argument with a value 0 or 1, the sorting can be done on the column labels. By default, axis=0"
   ]
  },
  {
   "cell_type": "code",
   "execution_count": null,
   "id": "7f4f7e44",
   "metadata": {},
   "outputs": [],
   "source": [
    "df1 = df.sort_index(axis=1)\n",
    "df1"
   ]
  },
  {
   "cell_type": "markdown",
   "id": "eb402229",
   "metadata": {},
   "source": [
    "### b. Sort by Index\n",
    "- The first question that might come in your mind, is that why do we need to sort by index. We can see in above dataframe the row indices are in numeric order. And if the row indices are disturbed due to may be sorting by the values of some column, we can use `reset_index()` method to make the row indices again in increasing numeric order.\n",
    "<br><br>\n",
    "- To understand this, let us follow following three steps:\n",
    "    - Set the `roll_no` column as index\n",
    "    - Call `sort_index()` with axis=0\n",
    "    - Call `reset_index()`"
   ]
  },
  {
   "cell_type": "code",
   "execution_count": null,
   "id": "cf2a28ba",
   "metadata": {},
   "outputs": [],
   "source": [
    "df"
   ]
  },
  {
   "cell_type": "markdown",
   "id": "3fe78d5f",
   "metadata": {},
   "source": [
    "**Let us sort by roll_no**"
   ]
  },
  {
   "cell_type": "code",
   "execution_count": null,
   "id": "a631c972",
   "metadata": {},
   "outputs": [],
   "source": [
    "# Lets us set the roll_no column as index\n",
    "df1 = df.set_index([\"roll_no\"])\n",
    "df1"
   ]
  },
  {
   "cell_type": "markdown",
   "id": "7a463f5e",
   "metadata": {},
   "source": [
    ">Note that the implicit index collumn is dropped and the roll_no column has become the index of this dataframe."
   ]
  },
  {
   "cell_type": "code",
   "execution_count": null,
   "id": "3249becc",
   "metadata": {},
   "outputs": [],
   "source": [
    "# sort the datframe by index \n",
    "df2 = df1.sort_index(axis=0)\n",
    "df2"
   ]
  },
  {
   "cell_type": "code",
   "execution_count": null,
   "id": "5963639d",
   "metadata": {},
   "outputs": [],
   "source": [
    "# After sort you can reset the index if you want\n",
    "df3 = df2.reset_index(drop=False)\n",
    "df3"
   ]
  },
  {
   "cell_type": "code",
   "execution_count": null,
   "id": "6838c617",
   "metadata": {},
   "outputs": [],
   "source": []
  }
 ],
 "metadata": {
  "kernelspec": {
   "display_name": "Python 3 (ipykernel)",
   "language": "python",
   "name": "python3"
  },
  "language_info": {
   "codemirror_mode": {
    "name": "ipython",
    "version": 3
   },
   "file_extension": ".py",
   "mimetype": "text/x-python",
   "name": "python",
   "nbconvert_exporter": "python",
   "pygments_lexer": "ipython3",
   "version": "3.8.10"
  }
 },
 "nbformat": 4,
 "nbformat_minor": 5
}
