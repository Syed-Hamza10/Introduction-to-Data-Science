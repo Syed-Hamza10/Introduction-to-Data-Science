{
 "cells": [
  {
   "cell_type": "markdown",
   "id": "4a87b5ef",
   "metadata": {},
   "source": [
    "---   \n",
    " <img align=\"left\" width=\"75\" height=\"75\"  src=\"https://upload.wikimedia.org/wikipedia/en/c/c8/University_of_the_Punjab_logo.png\"> \n",
    "\n",
    "<h1 align=\"center\">Department of Data Science</h1>\n",
    "<h1 align=\"center\">Course: Tools and Techniques for Data Science</h1>\n",
    "\n",
    "---\n",
    "<h3><div align=\"right\">Instructor: Muhammad Arif Butt, Ph.D.</div></h3>    "
   ]
  },
  {
   "cell_type": "markdown",
   "id": "ab0dc25c",
   "metadata": {},
   "source": [
    "<h1 align=\"center\">Lecture 3.21 (Pandas-13)</h1>"
   ]
  },
  {
   "cell_type": "markdown",
   "id": "19f82705",
   "metadata": {},
   "source": [
    "## _Merging and Joining Dataframes.ipynb_"
   ]
  },
  {
   "cell_type": "markdown",
   "id": "12db95e1",
   "metadata": {},
   "source": [
    "## Learning agenda of this notebook\n",
    "\n",
    "1. Need of Merging and Types of Joins\n",
    "2. Merging DataFrames using `pd.merge()` method\n",
    "   - Perform **Inner Join** (which is default)\n",
    "   - Peform **Outer**/**Full Outer Join**\n",
    "   - Perform **Left Outer Join**\n",
    "   - Perform **Right Outer Join**\n",
    "3. Additional Parameters to `pd.merge()` Method  \n",
    "   - Use of `indicator` parameter to indicate the df to which the value belong\n",
    "   - Use of `suffixes` parameter to differentiate between common column labels\n",
    "   - Use of `validate` parameter to check for duplicate keys"
   ]
  },
  {
   "cell_type": "markdown",
   "id": "2639cab2",
   "metadata": {},
   "source": [
    "## 1. Need of Merging and Types of Joins\n",
    "- Merging or joining data is basically a concept very commonly used in relational databases. \n",
    "- Pandas have options for high-performance in-memory merging and joining using `pd.merge()` and `df.join()` methods\n",
    "- There are four basic ways to handle the join (`inner`, `left`, `right`, and `outer`), depending on which rows must retain their data."
   ]
  },
  {
   "cell_type": "markdown",
   "id": "f10baed1",
   "metadata": {},
   "source": [
    "<img align=\"right\" width=\"200\" height=\"200\"  src=\"images/merge1.png\"  >\n",
    "\n",
    "### Inner  Join:\n",
    ">It is the most common type of join you’ll be working with. It returns a dataframe with only those rows that have common characteristics.\n",
    "An inner join requires each row in the two joined dataframes to have matching column values. This is similar to the intersection of two sets."
   ]
  },
  {
   "cell_type": "markdown",
   "id": "371b1072",
   "metadata": {},
   "source": [
    "<img align=\"right\" width=\"200\" height=\"200\"  src=\"images/merge2.png\"  >\n",
    "\n",
    "### Full Outer Join:\n",
    ">Also known as Full Join, returns all those records which either have a match in the left or right dataframe. This is similar to the union of two sets."
   ]
  },
  {
   "cell_type": "markdown",
   "id": "93139d2d",
   "metadata": {},
   "source": [
    "<img align=\"right\" width=\"200\" height=\"200\"  src=\"images/merge3.png\"  >\n",
    "\n",
    "###  Left outer Join\n",
    ">Also known as Left join. It is simply performs an inner join plus all the non-matching rows of the left dataframe are taken as it is filled with NaN for columns of the right dataframe."
   ]
  },
  {
   "cell_type": "markdown",
   "id": "e1a771ef",
   "metadata": {},
   "source": [
    "<img align=\"right\" width=\"200\" height=\"200\"  src=\"images/merge4.png\"  >\n",
    "\n",
    "### Right outer Join\n",
    ">Also known as Right join. It is simply performs an inner join plus  all the non-matching rows of the right dataframe are taken as it is filled with NaN for columns of the left dataframe."
   ]
  },
  {
   "cell_type": "markdown",
   "id": "b919365a",
   "metadata": {},
   "source": [
    "## 2. Merging DataFrames using `pd.merge()` Method\n",
    "Pandas `pd.merge()` is a versatile method to perform all standard database join operations between DataFrame or named Series objects.\n",
    "\n",
    "```\n",
    "pd.merge(left, right, how=\"inner\", indicator=False, on=None, suffixes=(\"_x\", \"_y\"), validate=None)\n",
    "```\n",
    "Where,\n",
    "- **`left`:** A DataFrame or named Series object.\n",
    "- **`right`:** Another DataFrame or named Series object.\n",
    "- **`how`:** specifies the type of join {`inner`, `outer`, `left`, `right`}\n",
    "- **`indicator`:** If set to True, adds a column to the output DataFrame called _merge with information on the source of each row {`left_only` means, this element is present only in left Dataframe, `right_only` means this is present only in right dataframe, `both` means they are present in both\n",
    "- **`on`:** Column or index level names to join on. Must be found in both the left and right DataFrame and/or Series objects. \n",
    "- **`suffixes`:** A tuple of string suffixes to apply to overlapping columns. Defaults to ('_x', '_y').\n",
    "- **`validate`:** string, default None. If specified, checks if merge is of specified type.\n",
    "    - “one_to_one” or “1:1”: checks if merge keys are unique in both left and right datasets.\n",
    "    - “one_to_many” or “1:m”: checks if merge keys are unique in left dataset.\n",
    "    - “many_to_one” or “m:1”: checks if merge keys are unique in right dataset.\n",
    "    - “many_to_many” or “m:m”: allowed, but does not result in checks."
   ]
  },
  {
   "cell_type": "markdown",
   "id": "a3c6fc28",
   "metadata": {},
   "source": [
    "### Need to Merge Dataframes\n",
    "- Consider two dataframes:\n",
    "    - df1 containing temperature of different cities\n",
    "    - df2 containing humidity of those cities\n",
    "- Let us merge these two dataframes based on **cities** as their **key**\n",
    "- The merge function actually looks into the city column instead of checking indexes only and join dataframes on the basis of it"
   ]
  },
  {
   "cell_type": "code",
   "execution_count": 1,
   "id": "499071c5",
   "metadata": {},
   "outputs": [
    {
     "data": {
      "text/html": [
       "<div>\n",
       "<style scoped>\n",
       "    .dataframe tbody tr th:only-of-type {\n",
       "        vertical-align: middle;\n",
       "    }\n",
       "\n",
       "    .dataframe tbody tr th {\n",
       "        vertical-align: top;\n",
       "    }\n",
       "\n",
       "    .dataframe thead th {\n",
       "        text-align: right;\n",
       "    }\n",
       "</style>\n",
       "<table border=\"1\" class=\"dataframe\">\n",
       "  <thead>\n",
       "    <tr style=\"text-align: right;\">\n",
       "      <th></th>\n",
       "      <th>city</th>\n",
       "      <th>temperature</th>\n",
       "    </tr>\n",
       "  </thead>\n",
       "  <tbody>\n",
       "    <tr>\n",
       "      <th>0</th>\n",
       "      <td>Lahore</td>\n",
       "      <td>35</td>\n",
       "    </tr>\n",
       "    <tr>\n",
       "      <th>1</th>\n",
       "      <td>Karachi</td>\n",
       "      <td>39</td>\n",
       "    </tr>\n",
       "    <tr>\n",
       "      <th>2</th>\n",
       "      <td>Peshawer</td>\n",
       "      <td>33</td>\n",
       "    </tr>\n",
       "    <tr>\n",
       "      <th>3</th>\n",
       "      <td>Islamabad</td>\n",
       "      <td>29</td>\n",
       "    </tr>\n",
       "    <tr>\n",
       "      <th>4</th>\n",
       "      <td>Muree</td>\n",
       "      <td>15</td>\n",
       "    </tr>\n",
       "  </tbody>\n",
       "</table>\n",
       "</div>"
      ],
      "text/plain": [
       "        city  temperature\n",
       "0     Lahore           35\n",
       "1    Karachi           39\n",
       "2   Peshawer           33\n",
       "3  Islamabad           29\n",
       "4      Muree           15"
      ]
     },
     "execution_count": 1,
     "metadata": {},
     "output_type": "execute_result"
    }
   ],
   "source": [
    "# Let us create a simple data frame\n",
    "import pandas as pd\n",
    "\n",
    "df1 = pd.DataFrame({\n",
    "    'city': [ 'Lahore', 'Karachi', 'Peshawer', 'Islamabad', 'Muree'],\n",
    "    'temperature' : [35, 39, 33, 29, 15],\n",
    "})\n",
    "df1"
   ]
  },
  {
   "cell_type": "code",
   "execution_count": 2,
   "id": "9d1bbbfe",
   "metadata": {},
   "outputs": [
    {
     "data": {
      "text/html": [
       "<div>\n",
       "<style scoped>\n",
       "    .dataframe tbody tr th:only-of-type {\n",
       "        vertical-align: middle;\n",
       "    }\n",
       "\n",
       "    .dataframe tbody tr th {\n",
       "        vertical-align: top;\n",
       "    }\n",
       "\n",
       "    .dataframe thead th {\n",
       "        text-align: right;\n",
       "    }\n",
       "</style>\n",
       "<table border=\"1\" class=\"dataframe\">\n",
       "  <thead>\n",
       "    <tr style=\"text-align: right;\">\n",
       "      <th></th>\n",
       "      <th>city</th>\n",
       "      <th>humidity</th>\n",
       "    </tr>\n",
       "  </thead>\n",
       "  <tbody>\n",
       "    <tr>\n",
       "      <th>0</th>\n",
       "      <td>Lahore</td>\n",
       "      <td>76</td>\n",
       "    </tr>\n",
       "    <tr>\n",
       "      <th>1</th>\n",
       "      <td>Karachi</td>\n",
       "      <td>95</td>\n",
       "    </tr>\n",
       "    <tr>\n",
       "      <th>2</th>\n",
       "      <td>Peshawer</td>\n",
       "      <td>72</td>\n",
       "    </tr>\n",
       "    <tr>\n",
       "      <th>3</th>\n",
       "      <td>Islamabad</td>\n",
       "      <td>81</td>\n",
       "    </tr>\n",
       "    <tr>\n",
       "      <th>4</th>\n",
       "      <td>Muree</td>\n",
       "      <td>70</td>\n",
       "    </tr>\n",
       "  </tbody>\n",
       "</table>\n",
       "</div>"
      ],
      "text/plain": [
       "        city  humidity\n",
       "0     Lahore        76\n",
       "1    Karachi        95\n",
       "2   Peshawer        72\n",
       "3  Islamabad        81\n",
       "4      Muree        70"
      ]
     },
     "execution_count": 2,
     "metadata": {},
     "output_type": "execute_result"
    }
   ],
   "source": [
    "import pandas as pd\n",
    "\n",
    "df2 = pd.DataFrame({\n",
    "    'city': [ 'Lahore', 'Karachi', 'Peshawer', 'Islamabad', 'Muree'],\n",
    "    'humidity' : [76, 95, 72, 81, 70],\n",
    "})\n",
    "df2"
   ]
  },
  {
   "cell_type": "code",
   "execution_count": 3,
   "id": "04098561",
   "metadata": {},
   "outputs": [
    {
     "data": {
      "text/plain": [
       "(        city  temperature\n",
       " 0     Lahore           35\n",
       " 1    Karachi           39\n",
       " 2   Peshawer           33\n",
       " 3  Islamabad           29\n",
       " 4      Muree           15,\n",
       "         city  humidity\n",
       " 0     Lahore        76\n",
       " 1    Karachi        95\n",
       " 2   Peshawer        72\n",
       " 3  Islamabad        81\n",
       " 4      Muree        70)"
      ]
     },
     "execution_count": 3,
     "metadata": {},
     "output_type": "execute_result"
    }
   ],
   "source": [
    "df1, df2"
   ]
  },
  {
   "cell_type": "markdown",
   "id": "44687ecc",
   "metadata": {},
   "source": [
    "**Note the column `city` on which we want to perform an inner join, in the two dataframes has all cities cities in common. So the resulting dataframe has same number of rows as the two input dataframes**"
   ]
  },
  {
   "cell_type": "code",
   "execution_count": 4,
   "id": "bc46e42c",
   "metadata": {},
   "outputs": [
    {
     "data": {
      "text/html": [
       "<div>\n",
       "<style scoped>\n",
       "    .dataframe tbody tr th:only-of-type {\n",
       "        vertical-align: middle;\n",
       "    }\n",
       "\n",
       "    .dataframe tbody tr th {\n",
       "        vertical-align: top;\n",
       "    }\n",
       "\n",
       "    .dataframe thead th {\n",
       "        text-align: right;\n",
       "    }\n",
       "</style>\n",
       "<table border=\"1\" class=\"dataframe\">\n",
       "  <thead>\n",
       "    <tr style=\"text-align: right;\">\n",
       "      <th></th>\n",
       "      <th>city</th>\n",
       "      <th>temperature</th>\n",
       "      <th>humidity</th>\n",
       "    </tr>\n",
       "  </thead>\n",
       "  <tbody>\n",
       "    <tr>\n",
       "      <th>0</th>\n",
       "      <td>Lahore</td>\n",
       "      <td>35</td>\n",
       "      <td>76</td>\n",
       "    </tr>\n",
       "    <tr>\n",
       "      <th>1</th>\n",
       "      <td>Karachi</td>\n",
       "      <td>39</td>\n",
       "      <td>95</td>\n",
       "    </tr>\n",
       "    <tr>\n",
       "      <th>2</th>\n",
       "      <td>Peshawer</td>\n",
       "      <td>33</td>\n",
       "      <td>72</td>\n",
       "    </tr>\n",
       "    <tr>\n",
       "      <th>3</th>\n",
       "      <td>Islamabad</td>\n",
       "      <td>29</td>\n",
       "      <td>81</td>\n",
       "    </tr>\n",
       "    <tr>\n",
       "      <th>4</th>\n",
       "      <td>Muree</td>\n",
       "      <td>15</td>\n",
       "      <td>70</td>\n",
       "    </tr>\n",
       "  </tbody>\n",
       "</table>\n",
       "</div>"
      ],
      "text/plain": [
       "        city  temperature  humidity\n",
       "0     Lahore           35        76\n",
       "1    Karachi           39        95\n",
       "2   Peshawer           33        72\n",
       "3  Islamabad           29        81\n",
       "4      Muree           15        70"
      ]
     },
     "execution_count": 4,
     "metadata": {},
     "output_type": "execute_result"
    }
   ],
   "source": [
    "# By default the merge perform an inner join, even if we do not metion the parameter `how`\n",
    "d1 = pd.merge(df1, df2, on='city')\n",
    "d1"
   ]
  },
  {
   "cell_type": "markdown",
   "id": "6946785c",
   "metadata": {},
   "source": [
    "<img align=\"right\" width=\"200\" height=\"200\"  src=\"images/merge1.png\"  >\n",
    "\n",
    "### a. Inner  Join:\n",
    "It is the most common type of join you’ll be working with. It returns a dataframe with only those rows that have common characteristics.\n",
    "An inner join requires each row in the two joined dataframes to have matching column values. This is similar to the intersection of two sets."
   ]
  },
  {
   "cell_type": "code",
   "execution_count": 5,
   "id": "d880f298",
   "metadata": {},
   "outputs": [
    {
     "data": {
      "text/html": [
       "<div>\n",
       "<style scoped>\n",
       "    .dataframe tbody tr th:only-of-type {\n",
       "        vertical-align: middle;\n",
       "    }\n",
       "\n",
       "    .dataframe tbody tr th {\n",
       "        vertical-align: top;\n",
       "    }\n",
       "\n",
       "    .dataframe thead th {\n",
       "        text-align: right;\n",
       "    }\n",
       "</style>\n",
       "<table border=\"1\" class=\"dataframe\">\n",
       "  <thead>\n",
       "    <tr style=\"text-align: right;\">\n",
       "      <th></th>\n",
       "      <th>city</th>\n",
       "      <th>temperature</th>\n",
       "    </tr>\n",
       "  </thead>\n",
       "  <tbody>\n",
       "    <tr>\n",
       "      <th>0</th>\n",
       "      <td>Karachi</td>\n",
       "      <td>39</td>\n",
       "    </tr>\n",
       "    <tr>\n",
       "      <th>1</th>\n",
       "      <td>Peshawer</td>\n",
       "      <td>33</td>\n",
       "    </tr>\n",
       "    <tr>\n",
       "      <th>2</th>\n",
       "      <td>Islamabad</td>\n",
       "      <td>29</td>\n",
       "    </tr>\n",
       "    <tr>\n",
       "      <th>3</th>\n",
       "      <td>Muree</td>\n",
       "      <td>15</td>\n",
       "    </tr>\n",
       "  </tbody>\n",
       "</table>\n",
       "</div>"
      ],
      "text/plain": [
       "        city  temperature\n",
       "0    Karachi           39\n",
       "1   Peshawer           33\n",
       "2  Islamabad           29\n",
       "3      Muree           15"
      ]
     },
     "execution_count": 5,
     "metadata": {},
     "output_type": "execute_result"
    }
   ],
   "source": [
    "# Let us create a simple data frame\n",
    "import pandas as pd\n",
    "\n",
    "# This dataframe doesn't have entry for Lahore\n",
    "df1 = pd.DataFrame({\n",
    "    'city': ['Karachi', 'Peshawer', 'Islamabad', 'Muree'],\n",
    "    'temperature' : [39, 33, 29, 15],\n",
    "})\n",
    "df1"
   ]
  },
  {
   "cell_type": "code",
   "execution_count": 6,
   "id": "bea9cf5d",
   "metadata": {},
   "outputs": [
    {
     "data": {
      "text/html": [
       "<div>\n",
       "<style scoped>\n",
       "    .dataframe tbody tr th:only-of-type {\n",
       "        vertical-align: middle;\n",
       "    }\n",
       "\n",
       "    .dataframe tbody tr th {\n",
       "        vertical-align: top;\n",
       "    }\n",
       "\n",
       "    .dataframe thead th {\n",
       "        text-align: right;\n",
       "    }\n",
       "</style>\n",
       "<table border=\"1\" class=\"dataframe\">\n",
       "  <thead>\n",
       "    <tr style=\"text-align: right;\">\n",
       "      <th></th>\n",
       "      <th>city</th>\n",
       "      <th>humidity</th>\n",
       "    </tr>\n",
       "  </thead>\n",
       "  <tbody>\n",
       "    <tr>\n",
       "      <th>0</th>\n",
       "      <td>Lahore</td>\n",
       "      <td>76</td>\n",
       "    </tr>\n",
       "    <tr>\n",
       "      <th>1</th>\n",
       "      <td>Karachi</td>\n",
       "      <td>95</td>\n",
       "    </tr>\n",
       "    <tr>\n",
       "      <th>2</th>\n",
       "      <td>Peshawer</td>\n",
       "      <td>72</td>\n",
       "    </tr>\n",
       "    <tr>\n",
       "      <th>3</th>\n",
       "      <td>Islamabad</td>\n",
       "      <td>81</td>\n",
       "    </tr>\n",
       "    <tr>\n",
       "      <th>4</th>\n",
       "      <td>Muree</td>\n",
       "      <td>70</td>\n",
       "    </tr>\n",
       "    <tr>\n",
       "      <th>5</th>\n",
       "      <td>Multan</td>\n",
       "      <td>75</td>\n",
       "    </tr>\n",
       "  </tbody>\n",
       "</table>\n",
       "</div>"
      ],
      "text/plain": [
       "        city  humidity\n",
       "0     Lahore        76\n",
       "1    Karachi        95\n",
       "2   Peshawer        72\n",
       "3  Islamabad        81\n",
       "4      Muree        70\n",
       "5     Multan        75"
      ]
     },
     "execution_count": 6,
     "metadata": {},
     "output_type": "execute_result"
    }
   ],
   "source": [
    "import pandas as pd\n",
    "\n",
    "# This Dataframe has an extra entry for Multan\n",
    "df2 = pd.DataFrame({\n",
    "    'city': [ 'Lahore', 'Karachi', 'Peshawer', 'Islamabad', 'Muree', 'Multan'],\n",
    "    'humidity' : [76, 95, 72, 81, 70, 75],\n",
    "})\n",
    "df2"
   ]
  },
  {
   "cell_type": "code",
   "execution_count": 7,
   "id": "bc2c7f2a",
   "metadata": {},
   "outputs": [
    {
     "data": {
      "text/plain": [
       "(        city  temperature\n",
       " 0    Karachi           39\n",
       " 1   Peshawer           33\n",
       " 2  Islamabad           29\n",
       " 3      Muree           15,\n",
       "         city  humidity\n",
       " 0     Lahore        76\n",
       " 1    Karachi        95\n",
       " 2   Peshawer        72\n",
       " 3  Islamabad        81\n",
       " 4      Muree        70\n",
       " 5     Multan        75)"
      ]
     },
     "execution_count": 7,
     "metadata": {},
     "output_type": "execute_result"
    }
   ],
   "source": [
    "df1, df2"
   ]
  },
  {
   "cell_type": "markdown",
   "id": "7e1325d0",
   "metadata": {},
   "source": [
    "**Note the column `city` on which we want to perform an inner join, in the two dataframes has only four cities in common. So the resulting dataframe will have only four rows that are common in both dataframes**"
   ]
  },
  {
   "cell_type": "code",
   "execution_count": 8,
   "id": "0c2e41af",
   "metadata": {},
   "outputs": [
    {
     "data": {
      "text/html": [
       "<div>\n",
       "<style scoped>\n",
       "    .dataframe tbody tr th:only-of-type {\n",
       "        vertical-align: middle;\n",
       "    }\n",
       "\n",
       "    .dataframe tbody tr th {\n",
       "        vertical-align: top;\n",
       "    }\n",
       "\n",
       "    .dataframe thead th {\n",
       "        text-align: right;\n",
       "    }\n",
       "</style>\n",
       "<table border=\"1\" class=\"dataframe\">\n",
       "  <thead>\n",
       "    <tr style=\"text-align: right;\">\n",
       "      <th></th>\n",
       "      <th>city</th>\n",
       "      <th>temperature</th>\n",
       "      <th>humidity</th>\n",
       "    </tr>\n",
       "  </thead>\n",
       "  <tbody>\n",
       "    <tr>\n",
       "      <th>0</th>\n",
       "      <td>Karachi</td>\n",
       "      <td>39</td>\n",
       "      <td>95</td>\n",
       "    </tr>\n",
       "    <tr>\n",
       "      <th>1</th>\n",
       "      <td>Peshawer</td>\n",
       "      <td>33</td>\n",
       "      <td>72</td>\n",
       "    </tr>\n",
       "    <tr>\n",
       "      <th>2</th>\n",
       "      <td>Islamabad</td>\n",
       "      <td>29</td>\n",
       "      <td>81</td>\n",
       "    </tr>\n",
       "    <tr>\n",
       "      <th>3</th>\n",
       "      <td>Muree</td>\n",
       "      <td>15</td>\n",
       "      <td>70</td>\n",
       "    </tr>\n",
       "  </tbody>\n",
       "</table>\n",
       "</div>"
      ],
      "text/plain": [
       "        city  temperature  humidity\n",
       "0    Karachi           39        95\n",
       "1   Peshawer           33        72\n",
       "2  Islamabad           29        81\n",
       "3      Muree           15        70"
      ]
     },
     "execution_count": 8,
     "metadata": {},
     "output_type": "execute_result"
    }
   ],
   "source": [
    "# merge will perform only for those cities that are common in both, which means it by-default performs inner-join\n",
    "d1 = pd.merge(df1, df2, on='city', how = 'inner')\n",
    "d1"
   ]
  },
  {
   "cell_type": "markdown",
   "id": "965cd00c",
   "metadata": {},
   "source": [
    "<img align=\"right\" width=\"200\" height=\"200\"  src=\"images/merge2.png\"  >\n",
    "\n",
    "### b. Full Outer Join:\n",
    ">Also known as Full Join, returns all those records which either have a match in the left or right dataframe. This is similar to the union of two sets."
   ]
  },
  {
   "cell_type": "code",
   "execution_count": 9,
   "id": "ae1c49c3",
   "metadata": {},
   "outputs": [
    {
     "data": {
      "text/html": [
       "<div>\n",
       "<style scoped>\n",
       "    .dataframe tbody tr th:only-of-type {\n",
       "        vertical-align: middle;\n",
       "    }\n",
       "\n",
       "    .dataframe tbody tr th {\n",
       "        vertical-align: top;\n",
       "    }\n",
       "\n",
       "    .dataframe thead th {\n",
       "        text-align: right;\n",
       "    }\n",
       "</style>\n",
       "<table border=\"1\" class=\"dataframe\">\n",
       "  <thead>\n",
       "    <tr style=\"text-align: right;\">\n",
       "      <th></th>\n",
       "      <th>city</th>\n",
       "      <th>temperature</th>\n",
       "    </tr>\n",
       "  </thead>\n",
       "  <tbody>\n",
       "    <tr>\n",
       "      <th>0</th>\n",
       "      <td>Karachi</td>\n",
       "      <td>39</td>\n",
       "    </tr>\n",
       "    <tr>\n",
       "      <th>1</th>\n",
       "      <td>Peshawer</td>\n",
       "      <td>33</td>\n",
       "    </tr>\n",
       "    <tr>\n",
       "      <th>2</th>\n",
       "      <td>Islamabad</td>\n",
       "      <td>29</td>\n",
       "    </tr>\n",
       "    <tr>\n",
       "      <th>3</th>\n",
       "      <td>Muree</td>\n",
       "      <td>15</td>\n",
       "    </tr>\n",
       "    <tr>\n",
       "      <th>4</th>\n",
       "      <td>Sialkot</td>\n",
       "      <td>40</td>\n",
       "    </tr>\n",
       "  </tbody>\n",
       "</table>\n",
       "</div>"
      ],
      "text/plain": [
       "        city  temperature\n",
       "0    Karachi           39\n",
       "1   Peshawer           33\n",
       "2  Islamabad           29\n",
       "3      Muree           15\n",
       "4    Sialkot           40"
      ]
     },
     "execution_count": 9,
     "metadata": {},
     "output_type": "execute_result"
    }
   ],
   "source": [
    "# Let us create a simple data frame\n",
    "import pandas as pd\n",
    "\n",
    "# This dataframe has Sialkot instead of Lahore\n",
    "df1 = pd.DataFrame({\n",
    "    'city': ['Karachi', 'Peshawer', 'Islamabad', 'Muree', 'Sialkot'],\n",
    "    'temperature' : [39, 33, 29, 15, 40],\n",
    "})\n",
    "df1"
   ]
  },
  {
   "cell_type": "code",
   "execution_count": 10,
   "id": "56d45d38",
   "metadata": {},
   "outputs": [
    {
     "data": {
      "text/html": [
       "<div>\n",
       "<style scoped>\n",
       "    .dataframe tbody tr th:only-of-type {\n",
       "        vertical-align: middle;\n",
       "    }\n",
       "\n",
       "    .dataframe tbody tr th {\n",
       "        vertical-align: top;\n",
       "    }\n",
       "\n",
       "    .dataframe thead th {\n",
       "        text-align: right;\n",
       "    }\n",
       "</style>\n",
       "<table border=\"1\" class=\"dataframe\">\n",
       "  <thead>\n",
       "    <tr style=\"text-align: right;\">\n",
       "      <th></th>\n",
       "      <th>city</th>\n",
       "      <th>humidity</th>\n",
       "    </tr>\n",
       "  </thead>\n",
       "  <tbody>\n",
       "    <tr>\n",
       "      <th>0</th>\n",
       "      <td>Lahore</td>\n",
       "      <td>76</td>\n",
       "    </tr>\n",
       "    <tr>\n",
       "      <th>1</th>\n",
       "      <td>Karachi</td>\n",
       "      <td>95</td>\n",
       "    </tr>\n",
       "    <tr>\n",
       "      <th>2</th>\n",
       "      <td>Peshawer</td>\n",
       "      <td>72</td>\n",
       "    </tr>\n",
       "    <tr>\n",
       "      <th>3</th>\n",
       "      <td>Islamabad</td>\n",
       "      <td>81</td>\n",
       "    </tr>\n",
       "    <tr>\n",
       "      <th>4</th>\n",
       "      <td>Muree</td>\n",
       "      <td>70</td>\n",
       "    </tr>\n",
       "    <tr>\n",
       "      <th>5</th>\n",
       "      <td>Multan</td>\n",
       "      <td>75</td>\n",
       "    </tr>\n",
       "  </tbody>\n",
       "</table>\n",
       "</div>"
      ],
      "text/plain": [
       "        city  humidity\n",
       "0     Lahore        76\n",
       "1    Karachi        95\n",
       "2   Peshawer        72\n",
       "3  Islamabad        81\n",
       "4      Muree        70\n",
       "5     Multan        75"
      ]
     },
     "execution_count": 10,
     "metadata": {},
     "output_type": "execute_result"
    }
   ],
   "source": [
    "import pandas as pd\n",
    "\n",
    "# This Dataframe has an extra entry for Multan\n",
    "df2 = pd.DataFrame({\n",
    "    'city': [ 'Lahore', 'Karachi', 'Peshawer', 'Islamabad', 'Muree', 'Multan'],\n",
    "    'humidity' : [76, 95, 72, 81, 70, 75],\n",
    "})\n",
    "df2"
   ]
  },
  {
   "cell_type": "code",
   "execution_count": 11,
   "id": "3cb4c69f",
   "metadata": {},
   "outputs": [
    {
     "data": {
      "text/plain": [
       "(        city  temperature\n",
       " 0    Karachi           39\n",
       " 1   Peshawer           33\n",
       " 2  Islamabad           29\n",
       " 3      Muree           15\n",
       " 4    Sialkot           40,\n",
       "         city  humidity\n",
       " 0     Lahore        76\n",
       " 1    Karachi        95\n",
       " 2   Peshawer        72\n",
       " 3  Islamabad        81\n",
       " 4      Muree        70\n",
       " 5     Multan        75)"
      ]
     },
     "execution_count": 11,
     "metadata": {},
     "output_type": "execute_result"
    }
   ],
   "source": [
    "df1, df2"
   ]
  },
  {
   "cell_type": "markdown",
   "id": "015bf262",
   "metadata": {},
   "source": [
    "**Note the column `city` on which we want to perform a full outer join, in the two dataframes has a union of  seven cities. So the resulting dataframe will have seven rows**"
   ]
  },
  {
   "cell_type": "code",
   "execution_count": 12,
   "id": "ff6531e4",
   "metadata": {},
   "outputs": [
    {
     "data": {
      "text/html": [
       "<div>\n",
       "<style scoped>\n",
       "    .dataframe tbody tr th:only-of-type {\n",
       "        vertical-align: middle;\n",
       "    }\n",
       "\n",
       "    .dataframe tbody tr th {\n",
       "        vertical-align: top;\n",
       "    }\n",
       "\n",
       "    .dataframe thead th {\n",
       "        text-align: right;\n",
       "    }\n",
       "</style>\n",
       "<table border=\"1\" class=\"dataframe\">\n",
       "  <thead>\n",
       "    <tr style=\"text-align: right;\">\n",
       "      <th></th>\n",
       "      <th>city</th>\n",
       "      <th>temperature</th>\n",
       "      <th>humidity</th>\n",
       "    </tr>\n",
       "  </thead>\n",
       "  <tbody>\n",
       "    <tr>\n",
       "      <th>0</th>\n",
       "      <td>Karachi</td>\n",
       "      <td>39.0</td>\n",
       "      <td>95.0</td>\n",
       "    </tr>\n",
       "    <tr>\n",
       "      <th>1</th>\n",
       "      <td>Peshawer</td>\n",
       "      <td>33.0</td>\n",
       "      <td>72.0</td>\n",
       "    </tr>\n",
       "    <tr>\n",
       "      <th>2</th>\n",
       "      <td>Islamabad</td>\n",
       "      <td>29.0</td>\n",
       "      <td>81.0</td>\n",
       "    </tr>\n",
       "    <tr>\n",
       "      <th>3</th>\n",
       "      <td>Muree</td>\n",
       "      <td>15.0</td>\n",
       "      <td>70.0</td>\n",
       "    </tr>\n",
       "    <tr>\n",
       "      <th>4</th>\n",
       "      <td>Sialkot</td>\n",
       "      <td>40.0</td>\n",
       "      <td>NaN</td>\n",
       "    </tr>\n",
       "    <tr>\n",
       "      <th>5</th>\n",
       "      <td>Lahore</td>\n",
       "      <td>NaN</td>\n",
       "      <td>76.0</td>\n",
       "    </tr>\n",
       "    <tr>\n",
       "      <th>6</th>\n",
       "      <td>Multan</td>\n",
       "      <td>NaN</td>\n",
       "      <td>75.0</td>\n",
       "    </tr>\n",
       "  </tbody>\n",
       "</table>\n",
       "</div>"
      ],
      "text/plain": [
       "        city  temperature  humidity\n",
       "0    Karachi         39.0      95.0\n",
       "1   Peshawer         33.0      72.0\n",
       "2  Islamabad         29.0      81.0\n",
       "3      Muree         15.0      70.0\n",
       "4    Sialkot         40.0       NaN\n",
       "5     Lahore          NaN      76.0\n",
       "6     Multan          NaN      75.0"
      ]
     },
     "execution_count": 12,
     "metadata": {},
     "output_type": "execute_result"
    }
   ],
   "source": [
    "# By setting the 'how' Parameter, you can specify to perform outer join, which perform set Union\n",
    "# it lefts null values for the columns it doesn't have information\n",
    "\n",
    "# merge will perform only for those cities that are common in both, which means it by-default performs inner-join\n",
    "d2 = pd.merge(df1, df2, on='city', how='outer')\n",
    "d2"
   ]
  },
  {
   "cell_type": "markdown",
   "id": "117ae3fb",
   "metadata": {},
   "source": [
    "<img align=\"right\" width=\"200\" height=\"200\"  src=\"images/merge3.png\"  >\n",
    "\n",
    "###  c. Left outer Join\n",
    "Also known as Left join. It is simply performs an inner join plus all the non-matching rows of the left dataframe are taken as it is filled with NaN for columns of the right dataframe."
   ]
  },
  {
   "cell_type": "code",
   "execution_count": 13,
   "id": "2a77e4a1",
   "metadata": {},
   "outputs": [
    {
     "data": {
      "text/html": [
       "<div>\n",
       "<style scoped>\n",
       "    .dataframe tbody tr th:only-of-type {\n",
       "        vertical-align: middle;\n",
       "    }\n",
       "\n",
       "    .dataframe tbody tr th {\n",
       "        vertical-align: top;\n",
       "    }\n",
       "\n",
       "    .dataframe thead th {\n",
       "        text-align: right;\n",
       "    }\n",
       "</style>\n",
       "<table border=\"1\" class=\"dataframe\">\n",
       "  <thead>\n",
       "    <tr style=\"text-align: right;\">\n",
       "      <th></th>\n",
       "      <th>city</th>\n",
       "      <th>temperature</th>\n",
       "    </tr>\n",
       "  </thead>\n",
       "  <tbody>\n",
       "    <tr>\n",
       "      <th>0</th>\n",
       "      <td>Karachi</td>\n",
       "      <td>39</td>\n",
       "    </tr>\n",
       "    <tr>\n",
       "      <th>1</th>\n",
       "      <td>Peshawer</td>\n",
       "      <td>33</td>\n",
       "    </tr>\n",
       "    <tr>\n",
       "      <th>2</th>\n",
       "      <td>Islamabad</td>\n",
       "      <td>29</td>\n",
       "    </tr>\n",
       "    <tr>\n",
       "      <th>3</th>\n",
       "      <td>Muree</td>\n",
       "      <td>15</td>\n",
       "    </tr>\n",
       "    <tr>\n",
       "      <th>4</th>\n",
       "      <td>Sialkot</td>\n",
       "      <td>40</td>\n",
       "    </tr>\n",
       "  </tbody>\n",
       "</table>\n",
       "</div>"
      ],
      "text/plain": [
       "        city  temperature\n",
       "0    Karachi           39\n",
       "1   Peshawer           33\n",
       "2  Islamabad           29\n",
       "3      Muree           15\n",
       "4    Sialkot           40"
      ]
     },
     "execution_count": 13,
     "metadata": {},
     "output_type": "execute_result"
    }
   ],
   "source": [
    "# Let us create a simple data frame\n",
    "import pandas as pd\n",
    "\n",
    "# This dataframe has Sialkot instead of Lahore\n",
    "df1 = pd.DataFrame({\n",
    "    'city': ['Karachi', 'Peshawer', 'Islamabad', 'Muree', 'Sialkot'],\n",
    "    'temperature' : [39, 33, 29, 15, 40],\n",
    "})\n",
    "df1"
   ]
  },
  {
   "cell_type": "code",
   "execution_count": 14,
   "id": "a99c5976",
   "metadata": {},
   "outputs": [
    {
     "data": {
      "text/html": [
       "<div>\n",
       "<style scoped>\n",
       "    .dataframe tbody tr th:only-of-type {\n",
       "        vertical-align: middle;\n",
       "    }\n",
       "\n",
       "    .dataframe tbody tr th {\n",
       "        vertical-align: top;\n",
       "    }\n",
       "\n",
       "    .dataframe thead th {\n",
       "        text-align: right;\n",
       "    }\n",
       "</style>\n",
       "<table border=\"1\" class=\"dataframe\">\n",
       "  <thead>\n",
       "    <tr style=\"text-align: right;\">\n",
       "      <th></th>\n",
       "      <th>city</th>\n",
       "      <th>humidity</th>\n",
       "    </tr>\n",
       "  </thead>\n",
       "  <tbody>\n",
       "    <tr>\n",
       "      <th>0</th>\n",
       "      <td>Lahore</td>\n",
       "      <td>76</td>\n",
       "    </tr>\n",
       "    <tr>\n",
       "      <th>1</th>\n",
       "      <td>Karachi</td>\n",
       "      <td>95</td>\n",
       "    </tr>\n",
       "    <tr>\n",
       "      <th>2</th>\n",
       "      <td>Peshawer</td>\n",
       "      <td>72</td>\n",
       "    </tr>\n",
       "    <tr>\n",
       "      <th>3</th>\n",
       "      <td>Islamabad</td>\n",
       "      <td>81</td>\n",
       "    </tr>\n",
       "    <tr>\n",
       "      <th>4</th>\n",
       "      <td>Muree</td>\n",
       "      <td>70</td>\n",
       "    </tr>\n",
       "    <tr>\n",
       "      <th>5</th>\n",
       "      <td>Multan</td>\n",
       "      <td>75</td>\n",
       "    </tr>\n",
       "  </tbody>\n",
       "</table>\n",
       "</div>"
      ],
      "text/plain": [
       "        city  humidity\n",
       "0     Lahore        76\n",
       "1    Karachi        95\n",
       "2   Peshawer        72\n",
       "3  Islamabad        81\n",
       "4      Muree        70\n",
       "5     Multan        75"
      ]
     },
     "execution_count": 14,
     "metadata": {},
     "output_type": "execute_result"
    }
   ],
   "source": [
    "import pandas as pd\n",
    "\n",
    "# This Dataframe has an extra entry for Multan\n",
    "df2 = pd.DataFrame({\n",
    "    'city': [ 'Lahore', 'Karachi', 'Peshawer', 'Islamabad', 'Muree', 'Multan'],\n",
    "    'humidity' : [76, 95, 72, 81, 70, 75],\n",
    "})\n",
    "df2"
   ]
  },
  {
   "cell_type": "code",
   "execution_count": 15,
   "id": "3f160a8d",
   "metadata": {},
   "outputs": [
    {
     "data": {
      "text/plain": [
       "(        city  temperature\n",
       " 0    Karachi           39\n",
       " 1   Peshawer           33\n",
       " 2  Islamabad           29\n",
       " 3      Muree           15\n",
       " 4    Sialkot           40,\n",
       "         city  humidity\n",
       " 0     Lahore        76\n",
       " 1    Karachi        95\n",
       " 2   Peshawer        72\n",
       " 3  Islamabad        81\n",
       " 4      Muree        70\n",
       " 5     Multan        75)"
      ]
     },
     "execution_count": 15,
     "metadata": {},
     "output_type": "execute_result"
    }
   ],
   "source": [
    "df1, df2"
   ]
  },
  {
   "cell_type": "markdown",
   "id": "c1565198",
   "metadata": {},
   "source": [
    "**Note the column `city` on which we want to perform a left outer join, in the two dataframes has an intersection of four rows. Other than these four rows, record of city Sialkot from left dataframe will also be included in the resulting dataframe being a left outer join**"
   ]
  },
  {
   "cell_type": "code",
   "execution_count": 16,
   "id": "39e6bedf",
   "metadata": {},
   "outputs": [
    {
     "data": {
      "text/html": [
       "<div>\n",
       "<style scoped>\n",
       "    .dataframe tbody tr th:only-of-type {\n",
       "        vertical-align: middle;\n",
       "    }\n",
       "\n",
       "    .dataframe tbody tr th {\n",
       "        vertical-align: top;\n",
       "    }\n",
       "\n",
       "    .dataframe thead th {\n",
       "        text-align: right;\n",
       "    }\n",
       "</style>\n",
       "<table border=\"1\" class=\"dataframe\">\n",
       "  <thead>\n",
       "    <tr style=\"text-align: right;\">\n",
       "      <th></th>\n",
       "      <th>city</th>\n",
       "      <th>temperature</th>\n",
       "      <th>humidity</th>\n",
       "    </tr>\n",
       "  </thead>\n",
       "  <tbody>\n",
       "    <tr>\n",
       "      <th>0</th>\n",
       "      <td>Karachi</td>\n",
       "      <td>39</td>\n",
       "      <td>95.0</td>\n",
       "    </tr>\n",
       "    <tr>\n",
       "      <th>1</th>\n",
       "      <td>Peshawer</td>\n",
       "      <td>33</td>\n",
       "      <td>72.0</td>\n",
       "    </tr>\n",
       "    <tr>\n",
       "      <th>2</th>\n",
       "      <td>Islamabad</td>\n",
       "      <td>29</td>\n",
       "      <td>81.0</td>\n",
       "    </tr>\n",
       "    <tr>\n",
       "      <th>3</th>\n",
       "      <td>Muree</td>\n",
       "      <td>15</td>\n",
       "      <td>70.0</td>\n",
       "    </tr>\n",
       "    <tr>\n",
       "      <th>4</th>\n",
       "      <td>Sialkot</td>\n",
       "      <td>40</td>\n",
       "      <td>NaN</td>\n",
       "    </tr>\n",
       "  </tbody>\n",
       "</table>\n",
       "</div>"
      ],
      "text/plain": [
       "        city  temperature  humidity\n",
       "0    Karachi           39      95.0\n",
       "1   Peshawer           33      72.0\n",
       "2  Islamabad           29      81.0\n",
       "3      Muree           15      70.0\n",
       "4    Sialkot           40       NaN"
      ]
     },
     "execution_count": 16,
     "metadata": {},
     "output_type": "execute_result"
    }
   ],
   "source": [
    "# In left outer join, it takes all the rows from left dataframe and only common rows from right dataframe\n",
    "# You can specify the left outer join using 'how' parameter\n",
    "\n",
    "d3 = pd.merge(df1, df2, on='city', how='left')\n",
    "d3"
   ]
  },
  {
   "cell_type": "markdown",
   "id": "e6d366a5",
   "metadata": {},
   "source": [
    "<img align=\"right\" width=\"200\" height=\"200\"  src=\"images/merge4.png\"  >\n",
    "\n",
    "### d. Right outer Join\n",
    "Also known as Right join. It is simply performs an inner join plus  all the non-matching rows of the right dataframe are taken as it is filled with NaN for columns of the left dataframe."
   ]
  },
  {
   "cell_type": "code",
   "execution_count": 17,
   "id": "dce2e9be",
   "metadata": {},
   "outputs": [
    {
     "data": {
      "text/html": [
       "<div>\n",
       "<style scoped>\n",
       "    .dataframe tbody tr th:only-of-type {\n",
       "        vertical-align: middle;\n",
       "    }\n",
       "\n",
       "    .dataframe tbody tr th {\n",
       "        vertical-align: top;\n",
       "    }\n",
       "\n",
       "    .dataframe thead th {\n",
       "        text-align: right;\n",
       "    }\n",
       "</style>\n",
       "<table border=\"1\" class=\"dataframe\">\n",
       "  <thead>\n",
       "    <tr style=\"text-align: right;\">\n",
       "      <th></th>\n",
       "      <th>city</th>\n",
       "      <th>temperature</th>\n",
       "    </tr>\n",
       "  </thead>\n",
       "  <tbody>\n",
       "    <tr>\n",
       "      <th>0</th>\n",
       "      <td>Karachi</td>\n",
       "      <td>39</td>\n",
       "    </tr>\n",
       "    <tr>\n",
       "      <th>1</th>\n",
       "      <td>Peshawer</td>\n",
       "      <td>33</td>\n",
       "    </tr>\n",
       "    <tr>\n",
       "      <th>2</th>\n",
       "      <td>Islamabad</td>\n",
       "      <td>29</td>\n",
       "    </tr>\n",
       "    <tr>\n",
       "      <th>3</th>\n",
       "      <td>Muree</td>\n",
       "      <td>15</td>\n",
       "    </tr>\n",
       "    <tr>\n",
       "      <th>4</th>\n",
       "      <td>Sialkot</td>\n",
       "      <td>40</td>\n",
       "    </tr>\n",
       "  </tbody>\n",
       "</table>\n",
       "</div>"
      ],
      "text/plain": [
       "        city  temperature\n",
       "0    Karachi           39\n",
       "1   Peshawer           33\n",
       "2  Islamabad           29\n",
       "3      Muree           15\n",
       "4    Sialkot           40"
      ]
     },
     "execution_count": 17,
     "metadata": {},
     "output_type": "execute_result"
    }
   ],
   "source": [
    "# Let us create a simple data frame\n",
    "import pandas as pd\n",
    "\n",
    "# This dataframe has Sialkot instead of Lahore\n",
    "df1 = pd.DataFrame({\n",
    "    'city': ['Karachi', 'Peshawer', 'Islamabad', 'Muree', 'Sialkot'],\n",
    "    'temperature' : [39, 33, 29, 15, 40],\n",
    "})\n",
    "df1"
   ]
  },
  {
   "cell_type": "code",
   "execution_count": 18,
   "id": "e332bc9b",
   "metadata": {},
   "outputs": [
    {
     "data": {
      "text/html": [
       "<div>\n",
       "<style scoped>\n",
       "    .dataframe tbody tr th:only-of-type {\n",
       "        vertical-align: middle;\n",
       "    }\n",
       "\n",
       "    .dataframe tbody tr th {\n",
       "        vertical-align: top;\n",
       "    }\n",
       "\n",
       "    .dataframe thead th {\n",
       "        text-align: right;\n",
       "    }\n",
       "</style>\n",
       "<table border=\"1\" class=\"dataframe\">\n",
       "  <thead>\n",
       "    <tr style=\"text-align: right;\">\n",
       "      <th></th>\n",
       "      <th>city</th>\n",
       "      <th>humidity</th>\n",
       "    </tr>\n",
       "  </thead>\n",
       "  <tbody>\n",
       "    <tr>\n",
       "      <th>0</th>\n",
       "      <td>Lahore</td>\n",
       "      <td>76</td>\n",
       "    </tr>\n",
       "    <tr>\n",
       "      <th>1</th>\n",
       "      <td>Karachi</td>\n",
       "      <td>95</td>\n",
       "    </tr>\n",
       "    <tr>\n",
       "      <th>2</th>\n",
       "      <td>Peshawer</td>\n",
       "      <td>72</td>\n",
       "    </tr>\n",
       "    <tr>\n",
       "      <th>3</th>\n",
       "      <td>Islamabad</td>\n",
       "      <td>81</td>\n",
       "    </tr>\n",
       "    <tr>\n",
       "      <th>4</th>\n",
       "      <td>Muree</td>\n",
       "      <td>70</td>\n",
       "    </tr>\n",
       "    <tr>\n",
       "      <th>5</th>\n",
       "      <td>Multan</td>\n",
       "      <td>75</td>\n",
       "    </tr>\n",
       "  </tbody>\n",
       "</table>\n",
       "</div>"
      ],
      "text/plain": [
       "        city  humidity\n",
       "0     Lahore        76\n",
       "1    Karachi        95\n",
       "2   Peshawer        72\n",
       "3  Islamabad        81\n",
       "4      Muree        70\n",
       "5     Multan        75"
      ]
     },
     "execution_count": 18,
     "metadata": {},
     "output_type": "execute_result"
    }
   ],
   "source": [
    "import pandas as pd\n",
    "\n",
    "# This Dataframe has an extra entry for Multan\n",
    "df2 = pd.DataFrame({\n",
    "    'city': [ 'Lahore', 'Karachi', 'Peshawer', 'Islamabad', 'Muree', 'Multan'],\n",
    "    'humidity' : [76, 95, 72, 81, 70, 75],\n",
    "})\n",
    "df2"
   ]
  },
  {
   "cell_type": "code",
   "execution_count": 19,
   "id": "97c8ba08",
   "metadata": {},
   "outputs": [
    {
     "data": {
      "text/plain": [
       "(        city  temperature\n",
       " 0    Karachi           39\n",
       " 1   Peshawer           33\n",
       " 2  Islamabad           29\n",
       " 3      Muree           15\n",
       " 4    Sialkot           40,\n",
       "         city  humidity\n",
       " 0     Lahore        76\n",
       " 1    Karachi        95\n",
       " 2   Peshawer        72\n",
       " 3  Islamabad        81\n",
       " 4      Muree        70\n",
       " 5     Multan        75)"
      ]
     },
     "execution_count": 19,
     "metadata": {},
     "output_type": "execute_result"
    }
   ],
   "source": [
    "df1, df2"
   ]
  },
  {
   "cell_type": "markdown",
   "id": "7f2fad33",
   "metadata": {},
   "source": [
    "**Note the column `city` on which we want to perform a right outer join, in the two dataframes has an intersection of four rows. Other than these four rows, record of city Multan from right dataframe will also be included in the resulting dataframe being a left outer join**"
   ]
  },
  {
   "cell_type": "code",
   "execution_count": 20,
   "id": "378b81da",
   "metadata": {},
   "outputs": [
    {
     "data": {
      "text/html": [
       "<div>\n",
       "<style scoped>\n",
       "    .dataframe tbody tr th:only-of-type {\n",
       "        vertical-align: middle;\n",
       "    }\n",
       "\n",
       "    .dataframe tbody tr th {\n",
       "        vertical-align: top;\n",
       "    }\n",
       "\n",
       "    .dataframe thead th {\n",
       "        text-align: right;\n",
       "    }\n",
       "</style>\n",
       "<table border=\"1\" class=\"dataframe\">\n",
       "  <thead>\n",
       "    <tr style=\"text-align: right;\">\n",
       "      <th></th>\n",
       "      <th>city</th>\n",
       "      <th>temperature</th>\n",
       "      <th>humidity</th>\n",
       "    </tr>\n",
       "  </thead>\n",
       "  <tbody>\n",
       "    <tr>\n",
       "      <th>0</th>\n",
       "      <td>Lahore</td>\n",
       "      <td>NaN</td>\n",
       "      <td>76</td>\n",
       "    </tr>\n",
       "    <tr>\n",
       "      <th>1</th>\n",
       "      <td>Karachi</td>\n",
       "      <td>39.0</td>\n",
       "      <td>95</td>\n",
       "    </tr>\n",
       "    <tr>\n",
       "      <th>2</th>\n",
       "      <td>Peshawer</td>\n",
       "      <td>33.0</td>\n",
       "      <td>72</td>\n",
       "    </tr>\n",
       "    <tr>\n",
       "      <th>3</th>\n",
       "      <td>Islamabad</td>\n",
       "      <td>29.0</td>\n",
       "      <td>81</td>\n",
       "    </tr>\n",
       "    <tr>\n",
       "      <th>4</th>\n",
       "      <td>Muree</td>\n",
       "      <td>15.0</td>\n",
       "      <td>70</td>\n",
       "    </tr>\n",
       "    <tr>\n",
       "      <th>5</th>\n",
       "      <td>Multan</td>\n",
       "      <td>NaN</td>\n",
       "      <td>75</td>\n",
       "    </tr>\n",
       "  </tbody>\n",
       "</table>\n",
       "</div>"
      ],
      "text/plain": [
       "        city  temperature  humidity\n",
       "0     Lahore          NaN        76\n",
       "1    Karachi         39.0        95\n",
       "2   Peshawer         33.0        72\n",
       "3  Islamabad         29.0        81\n",
       "4      Muree         15.0        70\n",
       "5     Multan          NaN        75"
      ]
     },
     "execution_count": 20,
     "metadata": {},
     "output_type": "execute_result"
    }
   ],
   "source": [
    "# In Right outer join, it takes all the rows from Right dataframe and only common rows from left dataframe\n",
    "# You can specify the right outer join using 'how' parameter\n",
    "\n",
    "df3 = pd.merge(df1, df2, on='city', how='right')\n",
    "df3"
   ]
  },
  {
   "cell_type": "markdown",
   "id": "a86b2254",
   "metadata": {},
   "source": [
    "**Left and right outer join also depend on the order of Dataframes that are passed to merge() function. Let us change the order and understand this**"
   ]
  },
  {
   "cell_type": "code",
   "execution_count": 21,
   "id": "ff470642",
   "metadata": {},
   "outputs": [
    {
     "data": {
      "text/html": [
       "<div>\n",
       "<style scoped>\n",
       "    .dataframe tbody tr th:only-of-type {\n",
       "        vertical-align: middle;\n",
       "    }\n",
       "\n",
       "    .dataframe tbody tr th {\n",
       "        vertical-align: top;\n",
       "    }\n",
       "\n",
       "    .dataframe thead th {\n",
       "        text-align: right;\n",
       "    }\n",
       "</style>\n",
       "<table border=\"1\" class=\"dataframe\">\n",
       "  <thead>\n",
       "    <tr style=\"text-align: right;\">\n",
       "      <th></th>\n",
       "      <th>city</th>\n",
       "      <th>humidity</th>\n",
       "      <th>temperature</th>\n",
       "    </tr>\n",
       "  </thead>\n",
       "  <tbody>\n",
       "    <tr>\n",
       "      <th>0</th>\n",
       "      <td>Karachi</td>\n",
       "      <td>95.0</td>\n",
       "      <td>39</td>\n",
       "    </tr>\n",
       "    <tr>\n",
       "      <th>1</th>\n",
       "      <td>Peshawer</td>\n",
       "      <td>72.0</td>\n",
       "      <td>33</td>\n",
       "    </tr>\n",
       "    <tr>\n",
       "      <th>2</th>\n",
       "      <td>Islamabad</td>\n",
       "      <td>81.0</td>\n",
       "      <td>29</td>\n",
       "    </tr>\n",
       "    <tr>\n",
       "      <th>3</th>\n",
       "      <td>Muree</td>\n",
       "      <td>70.0</td>\n",
       "      <td>15</td>\n",
       "    </tr>\n",
       "    <tr>\n",
       "      <th>4</th>\n",
       "      <td>Sialkot</td>\n",
       "      <td>NaN</td>\n",
       "      <td>40</td>\n",
       "    </tr>\n",
       "  </tbody>\n",
       "</table>\n",
       "</div>"
      ],
      "text/plain": [
       "        city  humidity  temperature\n",
       "0    Karachi      95.0           39\n",
       "1   Peshawer      72.0           33\n",
       "2  Islamabad      81.0           29\n",
       "3      Muree      70.0           15\n",
       "4    Sialkot       NaN           40"
      ]
     },
     "execution_count": 21,
     "metadata": {},
     "output_type": "execute_result"
    }
   ],
   "source": [
    "df4 = pd.merge(df2, df1, on='city', how='right')\n",
    "df4"
   ]
  },
  {
   "cell_type": "markdown",
   "id": "ad5a5458",
   "metadata": {},
   "source": [
    "## 3. Additional Parameters to `pd.merge()` Method"
   ]
  },
  {
   "cell_type": "markdown",
   "id": "5fda117c",
   "metadata": {},
   "source": [
    "### Use of `indicator=True` Parameter\n",
    "- Sometimes you want to know, from which dataframe these elements are coming, you can check this by passing the `indicator=True` parameter to `pd.merge()` method. \n",
    "- This gives you an additional column in the output DataFrame called **`_merge`** with information on the source of each row \n",
    "    - `left_only` means, this element is present only in left Dataframe, \n",
    "    - `right_only` means this is present only in right dataframe, \n",
    "    - `both` means they are present in both"
   ]
  },
  {
   "cell_type": "code",
   "execution_count": 22,
   "id": "c9dbd6f5",
   "metadata": {},
   "outputs": [
    {
     "data": {
      "text/html": [
       "<div>\n",
       "<style scoped>\n",
       "    .dataframe tbody tr th:only-of-type {\n",
       "        vertical-align: middle;\n",
       "    }\n",
       "\n",
       "    .dataframe tbody tr th {\n",
       "        vertical-align: top;\n",
       "    }\n",
       "\n",
       "    .dataframe thead th {\n",
       "        text-align: right;\n",
       "    }\n",
       "</style>\n",
       "<table border=\"1\" class=\"dataframe\">\n",
       "  <thead>\n",
       "    <tr style=\"text-align: right;\">\n",
       "      <th></th>\n",
       "      <th>city</th>\n",
       "      <th>temperature</th>\n",
       "      <th>humidity</th>\n",
       "      <th>_merge</th>\n",
       "    </tr>\n",
       "  </thead>\n",
       "  <tbody>\n",
       "    <tr>\n",
       "      <th>0</th>\n",
       "      <td>Karachi</td>\n",
       "      <td>39.0</td>\n",
       "      <td>95.0</td>\n",
       "      <td>both</td>\n",
       "    </tr>\n",
       "    <tr>\n",
       "      <th>1</th>\n",
       "      <td>Peshawer</td>\n",
       "      <td>33.0</td>\n",
       "      <td>72.0</td>\n",
       "      <td>both</td>\n",
       "    </tr>\n",
       "    <tr>\n",
       "      <th>2</th>\n",
       "      <td>Islamabad</td>\n",
       "      <td>29.0</td>\n",
       "      <td>81.0</td>\n",
       "      <td>both</td>\n",
       "    </tr>\n",
       "    <tr>\n",
       "      <th>3</th>\n",
       "      <td>Muree</td>\n",
       "      <td>15.0</td>\n",
       "      <td>70.0</td>\n",
       "      <td>both</td>\n",
       "    </tr>\n",
       "    <tr>\n",
       "      <th>4</th>\n",
       "      <td>Sialkot</td>\n",
       "      <td>40.0</td>\n",
       "      <td>NaN</td>\n",
       "      <td>left_only</td>\n",
       "    </tr>\n",
       "    <tr>\n",
       "      <th>5</th>\n",
       "      <td>Lahore</td>\n",
       "      <td>NaN</td>\n",
       "      <td>76.0</td>\n",
       "      <td>right_only</td>\n",
       "    </tr>\n",
       "    <tr>\n",
       "      <th>6</th>\n",
       "      <td>Multan</td>\n",
       "      <td>NaN</td>\n",
       "      <td>75.0</td>\n",
       "      <td>right_only</td>\n",
       "    </tr>\n",
       "  </tbody>\n",
       "</table>\n",
       "</div>"
      ],
      "text/plain": [
       "        city  temperature  humidity      _merge\n",
       "0    Karachi         39.0      95.0        both\n",
       "1   Peshawer         33.0      72.0        both\n",
       "2  Islamabad         29.0      81.0        both\n",
       "3      Muree         15.0      70.0        both\n",
       "4    Sialkot         40.0       NaN   left_only\n",
       "5     Lahore          NaN      76.0  right_only\n",
       "6     Multan          NaN      75.0  right_only"
      ]
     },
     "execution_count": 22,
     "metadata": {},
     "output_type": "execute_result"
    }
   ],
   "source": [
    "df3 = pd.merge(df1, df2, on='city', how='outer', indicator=True)\n",
    "df3"
   ]
  },
  {
   "cell_type": "markdown",
   "id": "6ff418a6",
   "metadata": {},
   "source": [
    "###  Use of `suffixes` Parameter\n",
    "- When you merge dataframes having columns with same labels, other than the one on which you are joining ('city`)\n",
    "- The resulting dataframe will have appended suffixes (`_x`, `_y`) with column labels to differentiate b/w columns of both dataframes\n",
    "- For better understanding you can pass `suffixes`.....\n",
    "- Let us understand this by example"
   ]
  },
  {
   "cell_type": "code",
   "execution_count": 23,
   "id": "e367b100",
   "metadata": {},
   "outputs": [
    {
     "data": {
      "text/html": [
       "<div>\n",
       "<style scoped>\n",
       "    .dataframe tbody tr th:only-of-type {\n",
       "        vertical-align: middle;\n",
       "    }\n",
       "\n",
       "    .dataframe tbody tr th {\n",
       "        vertical-align: top;\n",
       "    }\n",
       "\n",
       "    .dataframe thead th {\n",
       "        text-align: right;\n",
       "    }\n",
       "</style>\n",
       "<table border=\"1\" class=\"dataframe\">\n",
       "  <thead>\n",
       "    <tr style=\"text-align: right;\">\n",
       "      <th></th>\n",
       "      <th>city</th>\n",
       "      <th>temperature</th>\n",
       "      <th>humidity</th>\n",
       "    </tr>\n",
       "  </thead>\n",
       "  <tbody>\n",
       "    <tr>\n",
       "      <th>0</th>\n",
       "      <td>Lahore</td>\n",
       "      <td>35</td>\n",
       "      <td>76</td>\n",
       "    </tr>\n",
       "    <tr>\n",
       "      <th>1</th>\n",
       "      <td>Karachi</td>\n",
       "      <td>39</td>\n",
       "      <td>95</td>\n",
       "    </tr>\n",
       "    <tr>\n",
       "      <th>2</th>\n",
       "      <td>Peshawer</td>\n",
       "      <td>33</td>\n",
       "      <td>72</td>\n",
       "    </tr>\n",
       "  </tbody>\n",
       "</table>\n",
       "</div>"
      ],
      "text/plain": [
       "       city  temperature  humidity\n",
       "0    Lahore           35        76\n",
       "1   Karachi           39        95\n",
       "2  Peshawer           33        72"
      ]
     },
     "execution_count": 23,
     "metadata": {},
     "output_type": "execute_result"
    }
   ],
   "source": [
    "import pandas as pd\n",
    "\n",
    "df1 = pd.DataFrame({\n",
    "    'city': [ 'Lahore', 'Karachi', 'Peshawer'],\n",
    "    'temperature' : [35, 39, 33],\n",
    "    'humidity' : [76, 95, 72]\n",
    "})\n",
    "\n",
    "df1"
   ]
  },
  {
   "cell_type": "code",
   "execution_count": 24,
   "id": "d5092f29",
   "metadata": {},
   "outputs": [
    {
     "data": {
      "text/html": [
       "<div>\n",
       "<style scoped>\n",
       "    .dataframe tbody tr th:only-of-type {\n",
       "        vertical-align: middle;\n",
       "    }\n",
       "\n",
       "    .dataframe tbody tr th {\n",
       "        vertical-align: top;\n",
       "    }\n",
       "\n",
       "    .dataframe thead th {\n",
       "        text-align: right;\n",
       "    }\n",
       "</style>\n",
       "<table border=\"1\" class=\"dataframe\">\n",
       "  <thead>\n",
       "    <tr style=\"text-align: right;\">\n",
       "      <th></th>\n",
       "      <th>city</th>\n",
       "      <th>temperature</th>\n",
       "      <th>humidity</th>\n",
       "    </tr>\n",
       "  </thead>\n",
       "  <tbody>\n",
       "    <tr>\n",
       "      <th>0</th>\n",
       "      <td>Karachi</td>\n",
       "      <td>41</td>\n",
       "      <td>88</td>\n",
       "    </tr>\n",
       "    <tr>\n",
       "      <th>1</th>\n",
       "      <td>Peshawer</td>\n",
       "      <td>44</td>\n",
       "      <td>99</td>\n",
       "    </tr>\n",
       "    <tr>\n",
       "      <th>2</th>\n",
       "      <td>Islamabad</td>\n",
       "      <td>47</td>\n",
       "      <td>79</td>\n",
       "    </tr>\n",
       "  </tbody>\n",
       "</table>\n",
       "</div>"
      ],
      "text/plain": [
       "        city  temperature  humidity\n",
       "0    Karachi           41        88\n",
       "1   Peshawer           44        99\n",
       "2  Islamabad           47        79"
      ]
     },
     "execution_count": 24,
     "metadata": {},
     "output_type": "execute_result"
    }
   ],
   "source": [
    "import pandas as pd\n",
    "df2 = pd.DataFrame({\n",
    "    'city': [ 'Karachi', 'Peshawer', 'Islamabad'],\n",
    "    'temperature' : [41, 44, 47],\n",
    "    'humidity' : [88, 99, 79]\n",
    "})\n",
    "df2"
   ]
  },
  {
   "cell_type": "code",
   "execution_count": 25,
   "id": "b729d62b",
   "metadata": {},
   "outputs": [
    {
     "data": {
      "text/html": [
       "<div>\n",
       "<style scoped>\n",
       "    .dataframe tbody tr th:only-of-type {\n",
       "        vertical-align: middle;\n",
       "    }\n",
       "\n",
       "    .dataframe tbody tr th {\n",
       "        vertical-align: top;\n",
       "    }\n",
       "\n",
       "    .dataframe thead th {\n",
       "        text-align: right;\n",
       "    }\n",
       "</style>\n",
       "<table border=\"1\" class=\"dataframe\">\n",
       "  <thead>\n",
       "    <tr style=\"text-align: right;\">\n",
       "      <th></th>\n",
       "      <th>city</th>\n",
       "      <th>temperature_x</th>\n",
       "      <th>humidity_x</th>\n",
       "      <th>temperature_y</th>\n",
       "      <th>humidity_y</th>\n",
       "    </tr>\n",
       "  </thead>\n",
       "  <tbody>\n",
       "    <tr>\n",
       "      <th>0</th>\n",
       "      <td>Karachi</td>\n",
       "      <td>39</td>\n",
       "      <td>95</td>\n",
       "      <td>41</td>\n",
       "      <td>88</td>\n",
       "    </tr>\n",
       "    <tr>\n",
       "      <th>1</th>\n",
       "      <td>Peshawer</td>\n",
       "      <td>33</td>\n",
       "      <td>72</td>\n",
       "      <td>44</td>\n",
       "      <td>99</td>\n",
       "    </tr>\n",
       "  </tbody>\n",
       "</table>\n",
       "</div>"
      ],
      "text/plain": [
       "       city  temperature_x  humidity_x  temperature_y  humidity_y\n",
       "0   Karachi             39          95             41          88\n",
       "1  Peshawer             33          72             44          99"
      ]
     },
     "execution_count": 25,
     "metadata": {},
     "output_type": "execute_result"
    }
   ],
   "source": [
    "df3 = pd.merge(df1, df2, on='city')\n",
    "df3"
   ]
  },
  {
   "cell_type": "markdown",
   "id": "5c2d02e8",
   "metadata": {},
   "source": [
    "- **You can check that merge has automatically appended suffixes with column labels to differentiate b/w columns of both dataframes**\n",
    "- **You can use the `suffixes` parameter to `pd.merge()` method to specify the suffixes other than `_x` and `_y` to something more meaningful.**"
   ]
  },
  {
   "cell_type": "code",
   "execution_count": 26,
   "id": "5861db25",
   "metadata": {},
   "outputs": [
    {
     "data": {
      "text/html": [
       "<div>\n",
       "<style scoped>\n",
       "    .dataframe tbody tr th:only-of-type {\n",
       "        vertical-align: middle;\n",
       "    }\n",
       "\n",
       "    .dataframe tbody tr th {\n",
       "        vertical-align: top;\n",
       "    }\n",
       "\n",
       "    .dataframe thead th {\n",
       "        text-align: right;\n",
       "    }\n",
       "</style>\n",
       "<table border=\"1\" class=\"dataframe\">\n",
       "  <thead>\n",
       "    <tr style=\"text-align: right;\">\n",
       "      <th></th>\n",
       "      <th>city</th>\n",
       "      <th>temperature_left</th>\n",
       "      <th>humidity_left</th>\n",
       "      <th>temperature_right</th>\n",
       "      <th>humidity_right</th>\n",
       "    </tr>\n",
       "  </thead>\n",
       "  <tbody>\n",
       "    <tr>\n",
       "      <th>0</th>\n",
       "      <td>Karachi</td>\n",
       "      <td>39</td>\n",
       "      <td>95</td>\n",
       "      <td>41</td>\n",
       "      <td>88</td>\n",
       "    </tr>\n",
       "    <tr>\n",
       "      <th>1</th>\n",
       "      <td>Peshawer</td>\n",
       "      <td>33</td>\n",
       "      <td>72</td>\n",
       "      <td>44</td>\n",
       "      <td>99</td>\n",
       "    </tr>\n",
       "  </tbody>\n",
       "</table>\n",
       "</div>"
      ],
      "text/plain": [
       "       city  temperature_left  humidity_left  temperature_right  \\\n",
       "0   Karachi                39             95                 41   \n",
       "1  Peshawer                33             72                 44   \n",
       "\n",
       "   humidity_right  \n",
       "0              88  \n",
       "1              99  "
      ]
     },
     "execution_count": 26,
     "metadata": {},
     "output_type": "execute_result"
    }
   ],
   "source": [
    "d3 = pd.merge(df1, df2, on='city', suffixes=('_left','_right'))\n",
    "d3"
   ]
  },
  {
   "cell_type": "markdown",
   "id": "40ee79f2",
   "metadata": {},
   "source": [
    "###  Use `validate` Parameter to Check for Duplicate Keys\n",
    "- We can use the `validate` parameter to the `pd.merge()` method to check for uniqueness of keys. This parameter can take following four values (default is None):\n",
    "    - “one_to_one” or “1:1”: checks if merge keys are unique in both left and right datasets.\n",
    "    - “one_to_many” or “1:m”: checks if merge keys are unique in left dataset.\n",
    "    - “many_to_one” or “m:1”: checks if merge keys are unique in right dataset.\n",
    "    - “many_to_many” or “m:m”: allowed, but does not result in checks."
   ]
  },
  {
   "cell_type": "code",
   "execution_count": 27,
   "id": "40e9ff4a",
   "metadata": {},
   "outputs": [
    {
     "data": {
      "text/html": [
       "<div>\n",
       "<style scoped>\n",
       "    .dataframe tbody tr th:only-of-type {\n",
       "        vertical-align: middle;\n",
       "    }\n",
       "\n",
       "    .dataframe tbody tr th {\n",
       "        vertical-align: top;\n",
       "    }\n",
       "\n",
       "    .dataframe thead th {\n",
       "        text-align: right;\n",
       "    }\n",
       "</style>\n",
       "<table border=\"1\" class=\"dataframe\">\n",
       "  <thead>\n",
       "    <tr style=\"text-align: right;\">\n",
       "      <th></th>\n",
       "      <th>city</th>\n",
       "      <th>temperature</th>\n",
       "    </tr>\n",
       "  </thead>\n",
       "  <tbody>\n",
       "    <tr>\n",
       "      <th>0</th>\n",
       "      <td>Lahore</td>\n",
       "      <td>35</td>\n",
       "    </tr>\n",
       "    <tr>\n",
       "      <th>1</th>\n",
       "      <td>Karachi</td>\n",
       "      <td>39</td>\n",
       "    </tr>\n",
       "    <tr>\n",
       "      <th>2</th>\n",
       "      <td>Muree</td>\n",
       "      <td>15</td>\n",
       "    </tr>\n",
       "  </tbody>\n",
       "</table>\n",
       "</div>"
      ],
      "text/plain": [
       "      city  temperature\n",
       "0   Lahore           35\n",
       "1  Karachi           39\n",
       "2    Muree           15"
      ]
     },
     "execution_count": 27,
     "metadata": {},
     "output_type": "execute_result"
    }
   ],
   "source": [
    "# We are going to merge on `city`, which is unique in this dataframe\n",
    "import pandas as pd\n",
    "df1 = pd.DataFrame({\n",
    "    'city': [ 'Lahore', 'Karachi', 'Muree'],\n",
    "    'temperature' : [35, 39, 15],\n",
    "})\n",
    "df1"
   ]
  },
  {
   "cell_type": "code",
   "execution_count": 28,
   "id": "53191111",
   "metadata": {},
   "outputs": [
    {
     "data": {
      "text/html": [
       "<div>\n",
       "<style scoped>\n",
       "    .dataframe tbody tr th:only-of-type {\n",
       "        vertical-align: middle;\n",
       "    }\n",
       "\n",
       "    .dataframe tbody tr th {\n",
       "        vertical-align: top;\n",
       "    }\n",
       "\n",
       "    .dataframe thead th {\n",
       "        text-align: right;\n",
       "    }\n",
       "</style>\n",
       "<table border=\"1\" class=\"dataframe\">\n",
       "  <thead>\n",
       "    <tr style=\"text-align: right;\">\n",
       "      <th></th>\n",
       "      <th>city</th>\n",
       "      <th>humidity</th>\n",
       "    </tr>\n",
       "  </thead>\n",
       "  <tbody>\n",
       "    <tr>\n",
       "      <th>0</th>\n",
       "      <td>Lahore</td>\n",
       "      <td>76</td>\n",
       "    </tr>\n",
       "    <tr>\n",
       "      <th>1</th>\n",
       "      <td>Karachi</td>\n",
       "      <td>95</td>\n",
       "    </tr>\n",
       "    <tr>\n",
       "      <th>2</th>\n",
       "      <td>Islamabad</td>\n",
       "      <td>72</td>\n",
       "    </tr>\n",
       "    <tr>\n",
       "      <th>3</th>\n",
       "      <td>Lahore</td>\n",
       "      <td>76</td>\n",
       "    </tr>\n",
       "  </tbody>\n",
       "</table>\n",
       "</div>"
      ],
      "text/plain": [
       "        city  humidity\n",
       "0     Lahore        76\n",
       "1    Karachi        95\n",
       "2  Islamabad        72\n",
       "3     Lahore        76"
      ]
     },
     "execution_count": 28,
     "metadata": {},
     "output_type": "execute_result"
    }
   ],
   "source": [
    "# We are going to merge on `city`, which is NOT unique in this dataframe (appearing twice)\n",
    "df2 = pd.DataFrame({\n",
    "    'city': [ 'Lahore', 'Karachi', 'Islamabad', 'Lahore'],\n",
    "    'humidity' : [76, 95, 72, 76],\n",
    "})\n",
    "df2"
   ]
  },
  {
   "cell_type": "code",
   "execution_count": 29,
   "id": "ae9bb499",
   "metadata": {},
   "outputs": [],
   "source": [
    "# one_to_one requires the merge key (city column) to be unique in both df1 and df2, if not then throw execption\n",
    "#pd.merge(df1, df2, on='city', validate='one_to_one')"
   ]
  },
  {
   "cell_type": "code",
   "execution_count": 30,
   "id": "47fd4d90",
   "metadata": {},
   "outputs": [
    {
     "data": {
      "text/html": [
       "<div>\n",
       "<style scoped>\n",
       "    .dataframe tbody tr th:only-of-type {\n",
       "        vertical-align: middle;\n",
       "    }\n",
       "\n",
       "    .dataframe tbody tr th {\n",
       "        vertical-align: top;\n",
       "    }\n",
       "\n",
       "    .dataframe thead th {\n",
       "        text-align: right;\n",
       "    }\n",
       "</style>\n",
       "<table border=\"1\" class=\"dataframe\">\n",
       "  <thead>\n",
       "    <tr style=\"text-align: right;\">\n",
       "      <th></th>\n",
       "      <th>city</th>\n",
       "      <th>temperature</th>\n",
       "      <th>humidity</th>\n",
       "    </tr>\n",
       "  </thead>\n",
       "  <tbody>\n",
       "    <tr>\n",
       "      <th>0</th>\n",
       "      <td>Lahore</td>\n",
       "      <td>35</td>\n",
       "      <td>76</td>\n",
       "    </tr>\n",
       "    <tr>\n",
       "      <th>1</th>\n",
       "      <td>Lahore</td>\n",
       "      <td>35</td>\n",
       "      <td>76</td>\n",
       "    </tr>\n",
       "    <tr>\n",
       "      <th>2</th>\n",
       "      <td>Karachi</td>\n",
       "      <td>39</td>\n",
       "      <td>95</td>\n",
       "    </tr>\n",
       "  </tbody>\n",
       "</table>\n",
       "</div>"
      ],
      "text/plain": [
       "      city  temperature  humidity\n",
       "0   Lahore           35        76\n",
       "1   Lahore           35        76\n",
       "2  Karachi           39        95"
      ]
     },
     "execution_count": 30,
     "metadata": {},
     "output_type": "execute_result"
    }
   ],
   "source": [
    "# one_to_many requires the merge key (city column) to be unique in left datyaframe df1, if not then throw execption\n",
    "pd.merge(df1, df2, on='city', validate='one_to_many')"
   ]
  },
  {
   "cell_type": "code",
   "execution_count": 31,
   "id": "588d2d3f",
   "metadata": {},
   "outputs": [],
   "source": [
    "# meny_to_one requires the merge key to be unique in right dataframe df2, if not then throw exception\n",
    "#pd.merge(df1, df2, on='city', validate='many_to_one')"
   ]
  },
  {
   "cell_type": "markdown",
   "id": "f991e0cf",
   "metadata": {},
   "source": [
    "**Students can also explore the `df.join()` method at their own, although the `pd.merge()` method is more versstile and is preferred by programmers**"
   ]
  }
 ],
 "metadata": {
  "kernelspec": {
   "display_name": "Python 3 (ipykernel)",
   "language": "python",
   "name": "python3"
  },
  "language_info": {
   "codemirror_mode": {
    "name": "ipython",
    "version": 3
   },
   "file_extension": ".py",
   "mimetype": "text/x-python",
   "name": "python",
   "nbconvert_exporter": "python",
   "pygments_lexer": "ipython3",
   "version": "3.8.10"
  }
 },
 "nbformat": 4,
 "nbformat_minor": 5
}
