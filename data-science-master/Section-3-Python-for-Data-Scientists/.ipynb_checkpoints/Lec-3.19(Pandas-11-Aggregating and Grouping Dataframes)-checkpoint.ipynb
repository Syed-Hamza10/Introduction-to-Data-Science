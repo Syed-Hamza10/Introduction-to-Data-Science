{
 "cells": [
  {
   "cell_type": "markdown",
   "id": "4a87b5ef",
   "metadata": {},
   "source": [
    "---   \n",
    " <img align=\"left\" width=\"75\" height=\"75\"  src=\"https://upload.wikimedia.org/wikipedia/en/c/c8/University_of_the_Punjab_logo.png\"> \n",
    "\n",
    "<h1 align=\"center\">Department of Data Science</h1>\n",
    "<h1 align=\"center\">Course: Tools and Techniques for Data Science</h1>\n",
    "\n",
    "---\n",
    "<h3><div align=\"right\">Instructor: Muhammad Arif Butt, Ph.D.</div></h3>    "
   ]
  },
  {
   "cell_type": "markdown",
   "id": "ab0dc25c",
   "metadata": {},
   "source": [
    "<h1 align=\"center\">Lecture 3.19 (Pandas-11)</h1>"
   ]
  },
  {
   "cell_type": "markdown",
   "id": "19f82705",
   "metadata": {},
   "source": [
    "## _Aggregating and Grouping Dataframes.ipynb_"
   ]
  },
  {
   "cell_type": "markdown",
   "id": "12db95e1",
   "metadata": {},
   "source": [
    "## Learning agenda of this notebook\n",
    "1. Common Aggregation Functions\n",
    "2. Grouping Data and Applying Aggregate Functions\n",
    "3. Use of `series.agg()` method"
   ]
  },
  {
   "cell_type": "markdown",
   "id": "1664cd8f",
   "metadata": {},
   "source": [
    "## 1. Common Aggregation Functions\n",
    "- An aggregation function is one which takes multiple individual values and returns a summary. The most common aggregation functions are a simple average or summation of values\n",
    "- The most common built in aggregation functions are basic math functions including \n",
    "   - **sum** \n",
    "   - **mean** \n",
    "   - **median** \n",
    "   - **min**, **max** \n",
    "   - **standard deviation** \n",
    "   - **variance** \n",
    "   - **product**\n"
   ]
  },
  {
   "cell_type": "code",
   "execution_count": 60,
   "id": "298d74ce",
   "metadata": {},
   "outputs": [
    {
     "data": {
      "text/html": [
       "<div>\n",
       "<style scoped>\n",
       "    .dataframe tbody tr th:only-of-type {\n",
       "        vertical-align: middle;\n",
       "    }\n",
       "\n",
       "    .dataframe tbody tr th {\n",
       "        vertical-align: top;\n",
       "    }\n",
       "\n",
       "    .dataframe thead th {\n",
       "        text-align: right;\n",
       "    }\n",
       "</style>\n",
       "<table border=\"1\" class=\"dataframe\">\n",
       "  <thead>\n",
       "    <tr style=\"text-align: right;\">\n",
       "      <th></th>\n",
       "      <th>rollno</th>\n",
       "      <th>name</th>\n",
       "      <th>gender</th>\n",
       "      <th>group</th>\n",
       "      <th>session</th>\n",
       "      <th>age</th>\n",
       "      <th>scholarship</th>\n",
       "      <th>math</th>\n",
       "      <th>english</th>\n",
       "      <th>urdu</th>\n",
       "    </tr>\n",
       "  </thead>\n",
       "  <tbody>\n",
       "    <tr>\n",
       "      <th>0</th>\n",
       "      <td>MS01</td>\n",
       "      <td>SAADIA</td>\n",
       "      <td>female</td>\n",
       "      <td>group B</td>\n",
       "      <td>MORNING</td>\n",
       "      <td>28</td>\n",
       "      <td>2562</td>\n",
       "      <td>72.0</td>\n",
       "      <td>72</td>\n",
       "      <td>74</td>\n",
       "    </tr>\n",
       "    <tr>\n",
       "      <th>1</th>\n",
       "      <td>MS02</td>\n",
       "      <td>JUMAIMA</td>\n",
       "      <td>female</td>\n",
       "      <td>group C</td>\n",
       "      <td>AFTERNOON</td>\n",
       "      <td>33</td>\n",
       "      <td>2800</td>\n",
       "      <td>69.0</td>\n",
       "      <td>90</td>\n",
       "      <td>88</td>\n",
       "    </tr>\n",
       "    <tr>\n",
       "      <th>2</th>\n",
       "      <td>MS03</td>\n",
       "      <td>ARIFA</td>\n",
       "      <td>female</td>\n",
       "      <td>NaN</td>\n",
       "      <td>EVENING</td>\n",
       "      <td>21</td>\n",
       "      <td>3500</td>\n",
       "      <td>NaN</td>\n",
       "      <td>95</td>\n",
       "      <td>93</td>\n",
       "    </tr>\n",
       "    <tr>\n",
       "      <th>3</th>\n",
       "      <td>MS04</td>\n",
       "      <td>SAADIA</td>\n",
       "      <td>male</td>\n",
       "      <td>group A</td>\n",
       "      <td>MOR</td>\n",
       "      <td>44</td>\n",
       "      <td>2000</td>\n",
       "      <td>47.0</td>\n",
       "      <td>57</td>\n",
       "      <td>44</td>\n",
       "    </tr>\n",
       "    <tr>\n",
       "      <th>4</th>\n",
       "      <td>MS05</td>\n",
       "      <td>DANISH</td>\n",
       "      <td>male</td>\n",
       "      <td>group C</td>\n",
       "      <td>AFTERNOON</td>\n",
       "      <td>54</td>\n",
       "      <td>2100</td>\n",
       "      <td>76.0</td>\n",
       "      <td>78</td>\n",
       "      <td>55</td>\n",
       "    </tr>\n",
       "  </tbody>\n",
       "</table>\n",
       "</div>"
      ],
      "text/plain": [
       "  rollno     name  gender    group    session  age  scholarship  math  \\\n",
       "0   MS01   SAADIA  female  group B    MORNING   28         2562  72.0   \n",
       "1   MS02  JUMAIMA  female  group C  AFTERNOON   33         2800  69.0   \n",
       "2   MS03    ARIFA  female      NaN    EVENING   21         3500   NaN   \n",
       "3   MS04   SAADIA    male  group A        MOR   44         2000  47.0   \n",
       "4   MS05   DANISH    male  group C  AFTERNOON   54         2100  76.0   \n",
       "\n",
       "   english  urdu  \n",
       "0       72    74  \n",
       "1       90    88  \n",
       "2       95    93  \n",
       "3       57    44  \n",
       "4       78    55  "
      ]
     },
     "execution_count": 60,
     "metadata": {},
     "output_type": "execute_result"
    }
   ],
   "source": [
    "import pandas as pd\n",
    "df = pd.read_csv('datasets/group-marks.csv')\n",
    "df.head()"
   ]
  },
  {
   "cell_type": "markdown",
   "id": "62dec7fb",
   "metadata": {},
   "source": [
    "### a. Find Maximum/Minimum/Sum Values\n",
    "- The `df.max()`, `df.min()`, `df.sum()`, and `df.cumsum()` methods are used to find the max/min/sum/summulative sum of values over the requested axis (default axis is 0), i.e., Column wise\n",
    "- These methods works regardless of data types."
   ]
  },
  {
   "cell_type": "code",
   "execution_count": 61,
   "id": "22606fba",
   "metadata": {},
   "outputs": [
    {
     "name": "stderr",
     "output_type": "stream",
     "text": [
      "/var/folders/1t/g3ylw8h50cjdqmk5d6jh1qmm0000gn/T/ipykernel_12504/2723970735.py:2: FutureWarning: Dropping of nuisance columns in DataFrame reductions (with 'numeric_only=None') is deprecated; in a future version this will raise TypeError.  Select only valid columns before calling the reduction.\n",
      "  df.min()\n"
     ]
    },
    {
     "data": {
      "text/plain": [
       "rollno             MS01\n",
       "name           ABDULLAH\n",
       "gender           female\n",
       "session             AFT\n",
       "age                  19\n",
       "scholarship        2000\n",
       "math               18.0\n",
       "english              32\n",
       "urdu                 28\n",
       "dtype: object"
      ]
     },
     "execution_count": 61,
     "metadata": {},
     "output_type": "execute_result"
    }
   ],
   "source": [
    "# The min() function return the minimum of the values over the requested axis (Default axis is 0)\n",
    "df.min()"
   ]
  },
  {
   "cell_type": "markdown",
   "id": "77bf4f1e",
   "metadata": {},
   "source": [
    "**To make these work only on numeric columns**"
   ]
  },
  {
   "cell_type": "code",
   "execution_count": 62,
   "id": "fd096150",
   "metadata": {},
   "outputs": [
    {
     "data": {
      "text/plain": [
       "age              19.0\n",
       "scholarship    2000.0\n",
       "math             18.0\n",
       "english          32.0\n",
       "urdu             28.0\n",
       "dtype: float64"
      ]
     },
     "execution_count": 62,
     "metadata": {},
     "output_type": "execute_result"
    }
   ],
   "source": [
    "# The min() function return the minimum of the values over the requested axis (Default axis is 0)\n",
    "df.min(numeric_only=True)"
   ]
  },
  {
   "cell_type": "code",
   "execution_count": 63,
   "id": "1ce6506d",
   "metadata": {},
   "outputs": [
    {
     "data": {
      "text/plain": [
       "age              54.0\n",
       "scholarship    4000.0\n",
       "math             97.0\n",
       "english          95.0\n",
       "urdu             93.0\n",
       "dtype: float64"
      ]
     },
     "execution_count": 63,
     "metadata": {},
     "output_type": "execute_result"
    }
   ],
   "source": [
    "df.max(numeric_only=True)"
   ]
  },
  {
   "cell_type": "code",
   "execution_count": 64,
   "id": "16b6d8a2",
   "metadata": {},
   "outputs": [
    {
     "data": {
      "text/plain": [
       "age              1705.0\n",
       "scholarship    143777.0\n",
       "math             2846.0\n",
       "english          3391.0\n",
       "urdu             3264.0\n",
       "dtype: float64"
      ]
     },
     "execution_count": 64,
     "metadata": {},
     "output_type": "execute_result"
    }
   ],
   "source": [
    "df.sum(numeric_only=True)"
   ]
  },
  {
   "cell_type": "markdown",
   "id": "c4dbd2d1",
   "metadata": {},
   "source": [
    "#### Suppose we want to apply aggregate function on a specific column only"
   ]
  },
  {
   "cell_type": "markdown",
   "id": "a2dbf3ae",
   "metadata": {},
   "source": [
    "**To find maximum marks in a specific subject only**"
   ]
  },
  {
   "cell_type": "code",
   "execution_count": 65,
   "id": "5bc7f734",
   "metadata": {},
   "outputs": [
    {
     "data": {
      "text/plain": [
       "97.0"
      ]
     },
     "execution_count": 65,
     "metadata": {},
     "output_type": "execute_result"
    }
   ],
   "source": [
    "df['math'].max()"
   ]
  },
  {
   "cell_type": "code",
   "execution_count": 72,
   "id": "41a925c6",
   "metadata": {},
   "outputs": [
    {
     "data": {
      "text/plain": [
       "97.0"
      ]
     },
     "execution_count": 72,
     "metadata": {},
     "output_type": "execute_result"
    }
   ],
   "source": [
    "df.math.max()"
   ]
  },
  {
   "cell_type": "markdown",
   "id": "c440a815",
   "metadata": {},
   "source": [
    "#### Similarly we can apply other aggregate functions on any column of this dataframe"
   ]
  },
  {
   "cell_type": "markdown",
   "id": "181a98b9",
   "metadata": {},
   "source": [
    "### b. Descriptive Statistical Measures\n",
    "- The `df.mean()` method return the mean of the values over the requested axis.\n",
    "- The `df.median()` method return the median of the values over the requested axis.\n",
    "- The `df.mode()` method return the mode(s) of each element along the selected axis.The mode of a set of values is the value that appears most often. It can be multiple values.\n",
    "- The `df.count()` method return the count of non-NA values over the requested axis."
   ]
  },
  {
   "cell_type": "code",
   "execution_count": 76,
   "id": "6fcd34d6",
   "metadata": {},
   "outputs": [
    {
     "data": {
      "text/plain": [
       "61.869565217391305"
      ]
     },
     "execution_count": 76,
     "metadata": {},
     "output_type": "execute_result"
    }
   ],
   "source": [
    "df.math.mean()"
   ]
  },
  {
   "cell_type": "code",
   "execution_count": 77,
   "id": "b7dfbbb6",
   "metadata": {},
   "outputs": [
    {
     "data": {
      "text/plain": [
       "64.5"
      ]
     },
     "execution_count": 77,
     "metadata": {},
     "output_type": "execute_result"
    }
   ],
   "source": [
    "df.math.median()"
   ]
  },
  {
   "cell_type": "code",
   "execution_count": 78,
   "id": "e1421e2b",
   "metadata": {},
   "outputs": [
    {
     "data": {
      "text/plain": [
       "0    69.0\n",
       "dtype: float64"
      ]
     },
     "execution_count": 78,
     "metadata": {},
     "output_type": "execute_result"
    }
   ],
   "source": [
    "df.math.mode()"
   ]
  },
  {
   "cell_type": "code",
   "execution_count": 71,
   "id": "5f4b36e0",
   "metadata": {},
   "outputs": [
    {
     "data": {
      "text/plain": [
       "rollno         50\n",
       "name           50\n",
       "gender         50\n",
       "group          47\n",
       "session        50\n",
       "age            50\n",
       "scholarship    50\n",
       "math           46\n",
       "english        50\n",
       "urdu           50\n",
       "dtype: int64"
      ]
     },
     "execution_count": 71,
     "metadata": {},
     "output_type": "execute_result"
    }
   ],
   "source": [
    "#Count the number of non-NA values\n",
    "df.count()"
   ]
  },
  {
   "cell_type": "markdown",
   "id": "7069377f",
   "metadata": {},
   "source": [
    "### c. How to compute the average marks in the subject of math for Group A students only"
   ]
  },
  {
   "cell_type": "code",
   "execution_count": 122,
   "id": "dfbfc39d",
   "metadata": {},
   "outputs": [
    {
     "data": {
      "text/html": [
       "<div>\n",
       "<style scoped>\n",
       "    .dataframe tbody tr th:only-of-type {\n",
       "        vertical-align: middle;\n",
       "    }\n",
       "\n",
       "    .dataframe tbody tr th {\n",
       "        vertical-align: top;\n",
       "    }\n",
       "\n",
       "    .dataframe thead th {\n",
       "        text-align: right;\n",
       "    }\n",
       "</style>\n",
       "<table border=\"1\" class=\"dataframe\">\n",
       "  <thead>\n",
       "    <tr style=\"text-align: right;\">\n",
       "      <th></th>\n",
       "      <th>rollno</th>\n",
       "      <th>name</th>\n",
       "      <th>gender</th>\n",
       "      <th>group</th>\n",
       "      <th>session</th>\n",
       "      <th>age</th>\n",
       "      <th>scholarship</th>\n",
       "      <th>math</th>\n",
       "      <th>english</th>\n",
       "      <th>urdu</th>\n",
       "    </tr>\n",
       "  </thead>\n",
       "  <tbody>\n",
       "    <tr>\n",
       "      <th>3</th>\n",
       "      <td>MS04</td>\n",
       "      <td>SAADIA</td>\n",
       "      <td>male</td>\n",
       "      <td>group A</td>\n",
       "      <td>MOR</td>\n",
       "      <td>44</td>\n",
       "      <td>2000</td>\n",
       "      <td>47.0</td>\n",
       "      <td>57</td>\n",
       "      <td>44</td>\n",
       "    </tr>\n",
       "    <tr>\n",
       "      <th>13</th>\n",
       "      <td>MS14</td>\n",
       "      <td>USAMA</td>\n",
       "      <td>male</td>\n",
       "      <td>group A</td>\n",
       "      <td>AFTERNOON</td>\n",
       "      <td>26</td>\n",
       "      <td>2654</td>\n",
       "      <td>78.0</td>\n",
       "      <td>72</td>\n",
       "      <td>70</td>\n",
       "    </tr>\n",
       "    <tr>\n",
       "      <th>14</th>\n",
       "      <td>MS15</td>\n",
       "      <td>NAVAIRA</td>\n",
       "      <td>female</td>\n",
       "      <td>group A</td>\n",
       "      <td>AFT</td>\n",
       "      <td>25</td>\n",
       "      <td>2137</td>\n",
       "      <td>50.0</td>\n",
       "      <td>53</td>\n",
       "      <td>58</td>\n",
       "    </tr>\n",
       "    <tr>\n",
       "      <th>25</th>\n",
       "      <td>MS26</td>\n",
       "      <td>IBRAR</td>\n",
       "      <td>male</td>\n",
       "      <td>group A</td>\n",
       "      <td>EVENING</td>\n",
       "      <td>39</td>\n",
       "      <td>3500</td>\n",
       "      <td>73.0</td>\n",
       "      <td>74</td>\n",
       "      <td>72</td>\n",
       "    </tr>\n",
       "    <tr>\n",
       "      <th>46</th>\n",
       "      <td>MS47</td>\n",
       "      <td>SABA</td>\n",
       "      <td>female</td>\n",
       "      <td>group A</td>\n",
       "      <td>EVE</td>\n",
       "      <td>36</td>\n",
       "      <td>2500</td>\n",
       "      <td>55.0</td>\n",
       "      <td>65</td>\n",
       "      <td>62</td>\n",
       "    </tr>\n",
       "  </tbody>\n",
       "</table>\n",
       "</div>"
      ],
      "text/plain": [
       "   rollno     name  gender    group    session  age  scholarship  math  \\\n",
       "3    MS04   SAADIA    male  group A        MOR   44         2000  47.0   \n",
       "13   MS14    USAMA    male  group A  AFTERNOON   26         2654  78.0   \n",
       "14   MS15  NAVAIRA  female  group A        AFT   25         2137  50.0   \n",
       "25   MS26    IBRAR    male  group A    EVENING   39         3500  73.0   \n",
       "46   MS47     SABA  female  group A        EVE   36         2500  55.0   \n",
       "\n",
       "    english  urdu  \n",
       "3        57    44  \n",
       "13       72    70  \n",
       "14       53    58  \n",
       "25       74    72  \n",
       "46       65    62  "
      ]
     },
     "execution_count": 122,
     "metadata": {},
     "output_type": "execute_result"
    }
   ],
   "source": [
    "df[df.group == 'group A']"
   ]
  },
  {
   "cell_type": "code",
   "execution_count": 123,
   "id": "ff6fbe25",
   "metadata": {},
   "outputs": [
    {
     "data": {
      "text/plain": [
       "3     47.0\n",
       "13    78.0\n",
       "14    50.0\n",
       "25    73.0\n",
       "46    55.0\n",
       "Name: math, dtype: float64"
      ]
     },
     "execution_count": 123,
     "metadata": {},
     "output_type": "execute_result"
    }
   ],
   "source": [
    "df[df.group == 'group A'].math"
   ]
  },
  {
   "cell_type": "code",
   "execution_count": 124,
   "id": "dc570d1f",
   "metadata": {},
   "outputs": [
    {
     "data": {
      "text/plain": [
       "60.6"
      ]
     },
     "execution_count": 124,
     "metadata": {},
     "output_type": "execute_result"
    }
   ],
   "source": [
    "df[df.group == 'group A'].math.mean()"
   ]
  },
  {
   "cell_type": "markdown",
   "id": "2759e979",
   "metadata": {},
   "source": [
    "**What if I want to do the same for all the groups in the dataset**\n",
    "\n",
    "**Use `df.groupby()` method**"
   ]
  },
  {
   "cell_type": "code",
   "execution_count": 125,
   "id": "fd6e13fe",
   "metadata": {},
   "outputs": [
    {
     "data": {
      "text/plain": [
       "group\n",
       "group A    60.600000\n",
       "group B    57.250000\n",
       "group C    64.769231\n",
       "group D    59.583333\n",
       "group E    89.000000\n",
       "Name: math, dtype: float64"
      ]
     },
     "execution_count": 125,
     "metadata": {},
     "output_type": "execute_result"
    }
   ],
   "source": [
    "df.groupby('group').math.mean()"
   ]
  },
  {
   "cell_type": "markdown",
   "id": "86eb47ba",
   "metadata": {},
   "source": [
    "## 2. Grouping Data and Applying Aggregation Functions\n",
    "\n",
    "<img align=\"right\" width=\"400\" height=\"600\"  src=\"images/group-by.png\"  >\n",
    "\n",
    "- The `df.groupby()` method is used to split the data into groups based on some criteria. Splitting the data into groups based on some criteria manualy will require masking, aggregation, and merging commands. The power of the GroupBy is that it abstracts away these steps: the user need not think about how the computation is done under the hood, but rather thinks about the operation as a whole.\n",
    "- Returns : It does not return a `DataFrame` rather a `DataFrameGroupBy` object, which can be thought of as a special view of the `DataFrame`, which is poised to dig into the groups but does no actual computation until the aggregation is applied.\n",
    "- To produce a result, we can apply an aggregate to this `DataFrameGroupBy` object, which will perform the appropriate apply/combine steps to produce the desired result\n"
   ]
  },
  {
   "cell_type": "markdown",
   "id": "8fbb8b53",
   "metadata": {},
   "source": [
    "- It works on a split-apply-combine strategy which is shown below using a 3-step process:\n",
    "   - **Split Step:** splits the data into groups by creating a GROUP BY object from the original DataFrame.\n",
    "   - **Apply Step:** applies an aggregate function on the individual groups.\n",
    "   - **Combine Step:** merges the results to form a new dataframe."
   ]
  },
  {
   "cell_type": "markdown",
   "id": "93f02e73",
   "metadata": {},
   "source": [
    "### a. Split the Data into Groups\n",
    "- You can groupby using 'address' or 'session' or 'gender' or a combination"
   ]
  },
  {
   "cell_type": "code",
   "execution_count": 93,
   "id": "b0ea5d79",
   "metadata": {},
   "outputs": [
    {
     "data": {
      "text/plain": [
       "<pandas.core.groupby.generic.DataFrameGroupBy object at 0x7fe92a8cd910>"
      ]
     },
     "execution_count": 93,
     "metadata": {},
     "output_type": "execute_result"
    }
   ],
   "source": [
    "g1 = df.groupby('group')\n",
    "g1"
   ]
  },
  {
   "cell_type": "markdown",
   "id": "d4c2271f",
   "metadata": {},
   "source": [
    "#### To display records of a specific group, use `get_group()` method on DataFrameGroupBy object"
   ]
  },
  {
   "cell_type": "code",
   "execution_count": 94,
   "id": "cbfa0a16",
   "metadata": {},
   "outputs": [
    {
     "data": {
      "text/html": [
       "<div>\n",
       "<style scoped>\n",
       "    .dataframe tbody tr th:only-of-type {\n",
       "        vertical-align: middle;\n",
       "    }\n",
       "\n",
       "    .dataframe tbody tr th {\n",
       "        vertical-align: top;\n",
       "    }\n",
       "\n",
       "    .dataframe thead th {\n",
       "        text-align: right;\n",
       "    }\n",
       "</style>\n",
       "<table border=\"1\" class=\"dataframe\">\n",
       "  <thead>\n",
       "    <tr style=\"text-align: right;\">\n",
       "      <th></th>\n",
       "      <th>rollno</th>\n",
       "      <th>name</th>\n",
       "      <th>gender</th>\n",
       "      <th>group</th>\n",
       "      <th>session</th>\n",
       "      <th>age</th>\n",
       "      <th>scholarship</th>\n",
       "      <th>math</th>\n",
       "      <th>english</th>\n",
       "      <th>urdu</th>\n",
       "    </tr>\n",
       "  </thead>\n",
       "  <tbody>\n",
       "    <tr>\n",
       "      <th>3</th>\n",
       "      <td>MS04</td>\n",
       "      <td>SAADIA</td>\n",
       "      <td>male</td>\n",
       "      <td>group A</td>\n",
       "      <td>MOR</td>\n",
       "      <td>44</td>\n",
       "      <td>2000</td>\n",
       "      <td>47.0</td>\n",
       "      <td>57</td>\n",
       "      <td>44</td>\n",
       "    </tr>\n",
       "    <tr>\n",
       "      <th>13</th>\n",
       "      <td>MS14</td>\n",
       "      <td>USAMA</td>\n",
       "      <td>male</td>\n",
       "      <td>group A</td>\n",
       "      <td>AFTERNOON</td>\n",
       "      <td>26</td>\n",
       "      <td>2654</td>\n",
       "      <td>78.0</td>\n",
       "      <td>72</td>\n",
       "      <td>70</td>\n",
       "    </tr>\n",
       "    <tr>\n",
       "      <th>14</th>\n",
       "      <td>MS15</td>\n",
       "      <td>NAVAIRA</td>\n",
       "      <td>female</td>\n",
       "      <td>group A</td>\n",
       "      <td>AFT</td>\n",
       "      <td>25</td>\n",
       "      <td>2137</td>\n",
       "      <td>50.0</td>\n",
       "      <td>53</td>\n",
       "      <td>58</td>\n",
       "    </tr>\n",
       "    <tr>\n",
       "      <th>25</th>\n",
       "      <td>MS26</td>\n",
       "      <td>IBRAR</td>\n",
       "      <td>male</td>\n",
       "      <td>group A</td>\n",
       "      <td>EVENING</td>\n",
       "      <td>39</td>\n",
       "      <td>3500</td>\n",
       "      <td>73.0</td>\n",
       "      <td>74</td>\n",
       "      <td>72</td>\n",
       "    </tr>\n",
       "    <tr>\n",
       "      <th>46</th>\n",
       "      <td>MS47</td>\n",
       "      <td>SABA</td>\n",
       "      <td>female</td>\n",
       "      <td>group A</td>\n",
       "      <td>EVE</td>\n",
       "      <td>36</td>\n",
       "      <td>2500</td>\n",
       "      <td>55.0</td>\n",
       "      <td>65</td>\n",
       "      <td>62</td>\n",
       "    </tr>\n",
       "  </tbody>\n",
       "</table>\n",
       "</div>"
      ],
      "text/plain": [
       "   rollno     name  gender    group    session  age  scholarship  math  \\\n",
       "3    MS04   SAADIA    male  group A        MOR   44         2000  47.0   \n",
       "13   MS14    USAMA    male  group A  AFTERNOON   26         2654  78.0   \n",
       "14   MS15  NAVAIRA  female  group A        AFT   25         2137  50.0   \n",
       "25   MS26    IBRAR    male  group A    EVENING   39         3500  73.0   \n",
       "46   MS47     SABA  female  group A        EVE   36         2500  55.0   \n",
       "\n",
       "    english  urdu  \n",
       "3        57    44  \n",
       "13       72    70  \n",
       "14       53    58  \n",
       "25       74    72  \n",
       "46       65    62  "
      ]
     },
     "execution_count": 94,
     "metadata": {},
     "output_type": "execute_result"
    }
   ],
   "source": [
    "# Display DataFrame of a specific group from groupby object by providing the specific group value\n",
    "df.groupby('group').get_group('group A')"
   ]
  },
  {
   "cell_type": "code",
   "execution_count": 95,
   "id": "374711c1",
   "metadata": {},
   "outputs": [
    {
     "data": {
      "text/html": [
       "<div>\n",
       "<style scoped>\n",
       "    .dataframe tbody tr th:only-of-type {\n",
       "        vertical-align: middle;\n",
       "    }\n",
       "\n",
       "    .dataframe tbody tr th {\n",
       "        vertical-align: top;\n",
       "    }\n",
       "\n",
       "    .dataframe thead th {\n",
       "        text-align: right;\n",
       "    }\n",
       "</style>\n",
       "<table border=\"1\" class=\"dataframe\">\n",
       "  <thead>\n",
       "    <tr style=\"text-align: right;\">\n",
       "      <th></th>\n",
       "      <th>rollno</th>\n",
       "      <th>name</th>\n",
       "      <th>gender</th>\n",
       "      <th>group</th>\n",
       "      <th>session</th>\n",
       "      <th>age</th>\n",
       "      <th>scholarship</th>\n",
       "      <th>math</th>\n",
       "      <th>english</th>\n",
       "      <th>urdu</th>\n",
       "    </tr>\n",
       "  </thead>\n",
       "  <tbody>\n",
       "    <tr>\n",
       "      <th>34</th>\n",
       "      <td>MS35</td>\n",
       "      <td>ABDULLAH</td>\n",
       "      <td>male</td>\n",
       "      <td>group E</td>\n",
       "      <td>MORNING</td>\n",
       "      <td>45</td>\n",
       "      <td>2500</td>\n",
       "      <td>97.0</td>\n",
       "      <td>87</td>\n",
       "      <td>82</td>\n",
       "    </tr>\n",
       "    <tr>\n",
       "      <th>35</th>\n",
       "      <td>MS36</td>\n",
       "      <td>OSAMA</td>\n",
       "      <td>male</td>\n",
       "      <td>group E</td>\n",
       "      <td>AFTERNOON</td>\n",
       "      <td>31</td>\n",
       "      <td>3500</td>\n",
       "      <td>81.0</td>\n",
       "      <td>81</td>\n",
       "      <td>79</td>\n",
       "    </tr>\n",
       "    <tr>\n",
       "      <th>44</th>\n",
       "      <td>MS45</td>\n",
       "      <td>ZAINAB</td>\n",
       "      <td>female</td>\n",
       "      <td>group E</td>\n",
       "      <td>MOR</td>\n",
       "      <td>28</td>\n",
       "      <td>3500</td>\n",
       "      <td>NaN</td>\n",
       "      <td>56</td>\n",
       "      <td>54</td>\n",
       "    </tr>\n",
       "  </tbody>\n",
       "</table>\n",
       "</div>"
      ],
      "text/plain": [
       "   rollno      name  gender    group    session  age  scholarship  math  \\\n",
       "34   MS35  ABDULLAH    male  group E    MORNING   45         2500  97.0   \n",
       "35   MS36     OSAMA    male  group E  AFTERNOON   31         3500  81.0   \n",
       "44   MS45    ZAINAB  female  group E        MOR   28         3500   NaN   \n",
       "\n",
       "    english  urdu  \n",
       "34       87    82  \n",
       "35       81    79  \n",
       "44       56    54  "
      ]
     },
     "execution_count": 95,
     "metadata": {},
     "output_type": "execute_result"
    }
   ],
   "source": [
    "# Display DataFrame of a specific group from groupby object by providing the specific group value\n",
    "df.groupby('group').get_group('group E')"
   ]
  },
  {
   "cell_type": "markdown",
   "id": "0d22dbad",
   "metadata": {},
   "source": [
    "#### Similarly you can use `groupby()` method on the `session` column of the dataframe as well"
   ]
  },
  {
   "cell_type": "code",
   "execution_count": 120,
   "id": "658a84e6",
   "metadata": {},
   "outputs": [
    {
     "data": {
      "text/html": [
       "<div>\n",
       "<style scoped>\n",
       "    .dataframe tbody tr th:only-of-type {\n",
       "        vertical-align: middle;\n",
       "    }\n",
       "\n",
       "    .dataframe tbody tr th {\n",
       "        vertical-align: top;\n",
       "    }\n",
       "\n",
       "    .dataframe thead th {\n",
       "        text-align: right;\n",
       "    }\n",
       "</style>\n",
       "<table border=\"1\" class=\"dataframe\">\n",
       "  <thead>\n",
       "    <tr style=\"text-align: right;\">\n",
       "      <th></th>\n",
       "      <th>rollno</th>\n",
       "      <th>name</th>\n",
       "      <th>gender</th>\n",
       "      <th>group</th>\n",
       "      <th>session</th>\n",
       "      <th>age</th>\n",
       "      <th>scholarship</th>\n",
       "      <th>math</th>\n",
       "      <th>english</th>\n",
       "      <th>urdu</th>\n",
       "    </tr>\n",
       "  </thead>\n",
       "  <tbody>\n",
       "    <tr>\n",
       "      <th>3</th>\n",
       "      <td>MS04</td>\n",
       "      <td>SAADIA</td>\n",
       "      <td>male</td>\n",
       "      <td>group A</td>\n",
       "      <td>MOR</td>\n",
       "      <td>44</td>\n",
       "      <td>2000</td>\n",
       "      <td>47.0</td>\n",
       "      <td>57</td>\n",
       "      <td>44</td>\n",
       "    </tr>\n",
       "    <tr>\n",
       "      <th>10</th>\n",
       "      <td>MS11</td>\n",
       "      <td>MUSTJAB</td>\n",
       "      <td>male</td>\n",
       "      <td>group C</td>\n",
       "      <td>MOR</td>\n",
       "      <td>46</td>\n",
       "      <td>3000</td>\n",
       "      <td>58.0</td>\n",
       "      <td>54</td>\n",
       "      <td>52</td>\n",
       "    </tr>\n",
       "    <tr>\n",
       "      <th>12</th>\n",
       "      <td>MS13</td>\n",
       "      <td>MAHOOR</td>\n",
       "      <td>female</td>\n",
       "      <td>NaN</td>\n",
       "      <td>MOR</td>\n",
       "      <td>25</td>\n",
       "      <td>2345</td>\n",
       "      <td>65.0</td>\n",
       "      <td>81</td>\n",
       "      <td>73</td>\n",
       "    </tr>\n",
       "    <tr>\n",
       "      <th>16</th>\n",
       "      <td>MS17</td>\n",
       "      <td>NOFIL</td>\n",
       "      <td>male</td>\n",
       "      <td>group C</td>\n",
       "      <td>MOR</td>\n",
       "      <td>22</td>\n",
       "      <td>3500</td>\n",
       "      <td>88.0</td>\n",
       "      <td>89</td>\n",
       "      <td>86</td>\n",
       "    </tr>\n",
       "    <tr>\n",
       "      <th>22</th>\n",
       "      <td>MS23</td>\n",
       "      <td>RAUF</td>\n",
       "      <td>male</td>\n",
       "      <td>group D</td>\n",
       "      <td>MOR</td>\n",
       "      <td>31</td>\n",
       "      <td>2500</td>\n",
       "      <td>44.0</td>\n",
       "      <td>54</td>\n",
       "      <td>53</td>\n",
       "    </tr>\n",
       "    <tr>\n",
       "      <th>29</th>\n",
       "      <td>MS30</td>\n",
       "      <td>ROSHAN</td>\n",
       "      <td>female</td>\n",
       "      <td>group D</td>\n",
       "      <td>MOR</td>\n",
       "      <td>42</td>\n",
       "      <td>3500</td>\n",
       "      <td>62.0</td>\n",
       "      <td>70</td>\n",
       "      <td>75</td>\n",
       "    </tr>\n",
       "    <tr>\n",
       "      <th>37</th>\n",
       "      <td>MS38</td>\n",
       "      <td>NASEEM</td>\n",
       "      <td>female</td>\n",
       "      <td>group D</td>\n",
       "      <td>MOR</td>\n",
       "      <td>26</td>\n",
       "      <td>2500</td>\n",
       "      <td>50.0</td>\n",
       "      <td>64</td>\n",
       "      <td>59</td>\n",
       "    </tr>\n",
       "    <tr>\n",
       "      <th>44</th>\n",
       "      <td>MS45</td>\n",
       "      <td>ZAINAB</td>\n",
       "      <td>female</td>\n",
       "      <td>group E</td>\n",
       "      <td>MOR</td>\n",
       "      <td>28</td>\n",
       "      <td>3500</td>\n",
       "      <td>NaN</td>\n",
       "      <td>56</td>\n",
       "      <td>54</td>\n",
       "    </tr>\n",
       "    <tr>\n",
       "      <th>48</th>\n",
       "      <td>MS49</td>\n",
       "      <td>FATIMA</td>\n",
       "      <td>female</td>\n",
       "      <td>group D</td>\n",
       "      <td>MOR</td>\n",
       "      <td>40</td>\n",
       "      <td>2500</td>\n",
       "      <td>57.0</td>\n",
       "      <td>74</td>\n",
       "      <td>76</td>\n",
       "    </tr>\n",
       "  </tbody>\n",
       "</table>\n",
       "</div>"
      ],
      "text/plain": [
       "   rollno     name  gender    group session  age  scholarship  math  english  \\\n",
       "3    MS04   SAADIA    male  group A     MOR   44         2000  47.0       57   \n",
       "10   MS11  MUSTJAB    male  group C     MOR   46         3000  58.0       54   \n",
       "12   MS13   MAHOOR  female      NaN     MOR   25         2345  65.0       81   \n",
       "16   MS17    NOFIL    male  group C     MOR   22         3500  88.0       89   \n",
       "22   MS23     RAUF    male  group D     MOR   31         2500  44.0       54   \n",
       "29   MS30   ROSHAN  female  group D     MOR   42         3500  62.0       70   \n",
       "37   MS38   NASEEM  female  group D     MOR   26         2500  50.0       64   \n",
       "44   MS45   ZAINAB  female  group E     MOR   28         3500   NaN       56   \n",
       "48   MS49   FATIMA  female  group D     MOR   40         2500  57.0       74   \n",
       "\n",
       "    urdu  \n",
       "3     44  \n",
       "10    52  \n",
       "12    73  \n",
       "16    86  \n",
       "22    53  \n",
       "29    75  \n",
       "37    59  \n",
       "44    54  \n",
       "48    76  "
      ]
     },
     "execution_count": 120,
     "metadata": {},
     "output_type": "execute_result"
    }
   ],
   "source": [
    "df.groupby('session').get_group('MOR')"
   ]
  },
  {
   "cell_type": "markdown",
   "id": "6b81eb53",
   "metadata": {},
   "source": [
    "#### To display indices of every group in the dataframe, use `groups` attribute of  DataFrameGroupBy object"
   ]
  },
  {
   "cell_type": "code",
   "execution_count": 96,
   "id": "1de745f0",
   "metadata": {},
   "outputs": [
    {
     "data": {
      "text/plain": [
       "{'group A': [3, 13, 14, 25, 46], 'group B': [0, 5, 6, 7, 9, 17, 21, 26, 31, 39, 42, 43, 45], 'group C': [1, 4, 10, 15, 16, 18, 19, 23, 27, 28, 40, 41, 47, 49], 'group D': [8, 11, 20, 22, 24, 29, 30, 33, 36, 37, 38, 48], 'group E': [34, 35, 44]}"
      ]
     },
     "execution_count": 96,
     "metadata": {},
     "output_type": "execute_result"
    }
   ],
   "source": [
    "# Displaying group data, i.e., group_name, row indexes corresponding to the group and their data type\n",
    "df.groupby('group').groups"
   ]
  },
  {
   "cell_type": "markdown",
   "id": "1c325989",
   "metadata": {},
   "source": [
    "#### To find the size of each group, use `size()` method"
   ]
  },
  {
   "cell_type": "code",
   "execution_count": 97,
   "id": "fb875cd9",
   "metadata": {},
   "outputs": [
    {
     "data": {
      "text/plain": [
       "group\n",
       "group A     5\n",
       "group B    13\n",
       "group C    14\n",
       "group D    12\n",
       "group E     3\n",
       "dtype: int64"
      ]
     },
     "execution_count": 97,
     "metadata": {},
     "output_type": "execute_result"
    }
   ],
   "source": [
    "#Display the size of each group\n",
    "df.groupby('group').size()"
   ]
  },
  {
   "cell_type": "markdown",
   "id": "9519e655",
   "metadata": {},
   "source": [
    "### b. Apply Aggregate Function (Apply + Combine)\n",
    "- To produce a result, we can apply an aggregate function which will perform the appropriate apply + combine steps to produce the desired result"
   ]
  },
  {
   "cell_type": "markdown",
   "id": "729e7c98",
   "metadata": {},
   "source": [
    "**Let us first apply aggregate function on a specific column of `DataFrameGroupBy` object, which is a `SeriesGroupBy` object**"
   ]
  },
  {
   "cell_type": "code",
   "execution_count": 98,
   "id": "71479b88",
   "metadata": {},
   "outputs": [
    {
     "data": {
      "text/plain": [
       "group\n",
       "group A    60.600000\n",
       "group B    57.250000\n",
       "group C    64.769231\n",
       "group D    59.583333\n",
       "group E    89.000000\n",
       "Name: math, dtype: float64"
      ]
     },
     "execution_count": 98,
     "metadata": {},
     "output_type": "execute_result"
    }
   ],
   "source": [
    "# compute mean of marks in math for each group\n",
    "df.groupby('group').math.mean()"
   ]
  },
  {
   "cell_type": "code",
   "execution_count": 104,
   "id": "58604a90",
   "metadata": {},
   "outputs": [
    {
     "data": {
      "text/plain": [
       "group\n",
       "group A    78.0\n",
       "group B    88.0\n",
       "group C    88.0\n",
       "group D    75.0\n",
       "group E    97.0\n",
       "Name: math, dtype: float64"
      ]
     },
     "execution_count": 104,
     "metadata": {},
     "output_type": "execute_result"
    }
   ],
   "source": [
    "# compute max of specific column of each group\n",
    "df.groupby('group').math.max()"
   ]
  },
  {
   "cell_type": "code",
   "execution_count": 110,
   "id": "8d23c9e6",
   "metadata": {},
   "outputs": [
    {
     "data": {
      "text/plain": [
       "group\n",
       "group A    2500.0\n",
       "group B    2800.0\n",
       "group C    3000.0\n",
       "group D    2750.0\n",
       "group E    3500.0\n",
       "Name: scholarship, dtype: float64"
      ]
     },
     "execution_count": 110,
     "metadata": {},
     "output_type": "execute_result"
    }
   ],
   "source": [
    "# compute median of specific column of each group\n",
    "df.groupby('group').scholarship.median()"
   ]
  },
  {
   "cell_type": "markdown",
   "id": "20d4f8e9",
   "metadata": {},
   "source": [
    "**Till now, we have applied aggregation function on one column only, i.e., on a `SeriesGroupBy` object.**"
   ]
  },
  {
   "cell_type": "markdown",
   "id": "d7bf20b1",
   "metadata": {},
   "source": [
    "**Let us now apply aggregate function on the entire `DataFrameGroupBy` object**"
   ]
  },
  {
   "cell_type": "code",
   "execution_count": 133,
   "id": "e5cab495",
   "metadata": {},
   "outputs": [
    {
     "data": {
      "text/html": [
       "<div>\n",
       "<style scoped>\n",
       "    .dataframe tbody tr th:only-of-type {\n",
       "        vertical-align: middle;\n",
       "    }\n",
       "\n",
       "    .dataframe tbody tr th {\n",
       "        vertical-align: top;\n",
       "    }\n",
       "\n",
       "    .dataframe thead th {\n",
       "        text-align: right;\n",
       "    }\n",
       "</style>\n",
       "<table border=\"1\" class=\"dataframe\">\n",
       "  <thead>\n",
       "    <tr style=\"text-align: right;\">\n",
       "      <th></th>\n",
       "      <th>age</th>\n",
       "      <th>scholarship</th>\n",
       "      <th>math</th>\n",
       "      <th>english</th>\n",
       "      <th>urdu</th>\n",
       "    </tr>\n",
       "    <tr>\n",
       "      <th>group</th>\n",
       "      <th></th>\n",
       "      <th></th>\n",
       "      <th></th>\n",
       "      <th></th>\n",
       "      <th></th>\n",
       "    </tr>\n",
       "  </thead>\n",
       "  <tbody>\n",
       "    <tr>\n",
       "      <th>group A</th>\n",
       "      <td>170</td>\n",
       "      <td>12791</td>\n",
       "      <td>303.0</td>\n",
       "      <td>321</td>\n",
       "      <td>306</td>\n",
       "    </tr>\n",
       "    <tr>\n",
       "      <th>group B</th>\n",
       "      <td>421</td>\n",
       "      <td>35662</td>\n",
       "      <td>687.0</td>\n",
       "      <td>812</td>\n",
       "      <td>792</td>\n",
       "    </tr>\n",
       "    <tr>\n",
       "      <th>group C</th>\n",
       "      <td>510</td>\n",
       "      <td>41667</td>\n",
       "      <td>842.0</td>\n",
       "      <td>981</td>\n",
       "      <td>942</td>\n",
       "    </tr>\n",
       "    <tr>\n",
       "      <th>group D</th>\n",
       "      <td>425</td>\n",
       "      <td>34812</td>\n",
       "      <td>715.0</td>\n",
       "      <td>805</td>\n",
       "      <td>778</td>\n",
       "    </tr>\n",
       "    <tr>\n",
       "      <th>group E</th>\n",
       "      <td>104</td>\n",
       "      <td>9500</td>\n",
       "      <td>178.0</td>\n",
       "      <td>224</td>\n",
       "      <td>215</td>\n",
       "    </tr>\n",
       "  </tbody>\n",
       "</table>\n",
       "</div>"
      ],
      "text/plain": [
       "         age  scholarship   math  english  urdu\n",
       "group                                          \n",
       "group A  170        12791  303.0      321   306\n",
       "group B  421        35662  687.0      812   792\n",
       "group C  510        41667  842.0      981   942\n",
       "group D  425        34812  715.0      805   778\n",
       "group E  104         9500  178.0      224   215"
      ]
     },
     "execution_count": 133,
     "metadata": {},
     "output_type": "execute_result"
    }
   ],
   "source": [
    "df.groupby('group').sum()"
   ]
  },
  {
   "cell_type": "code",
   "execution_count": 103,
   "id": "6a263733",
   "metadata": {},
   "outputs": [
    {
     "data": {
      "text/html": [
       "<div>\n",
       "<style scoped>\n",
       "    .dataframe tbody tr th:only-of-type {\n",
       "        vertical-align: middle;\n",
       "    }\n",
       "\n",
       "    .dataframe tbody tr th {\n",
       "        vertical-align: top;\n",
       "    }\n",
       "\n",
       "    .dataframe thead th {\n",
       "        text-align: right;\n",
       "    }\n",
       "</style>\n",
       "<table border=\"1\" class=\"dataframe\">\n",
       "  <thead>\n",
       "    <tr style=\"text-align: right;\">\n",
       "      <th></th>\n",
       "      <th>age</th>\n",
       "      <th>scholarship</th>\n",
       "      <th>math</th>\n",
       "      <th>english</th>\n",
       "      <th>urdu</th>\n",
       "    </tr>\n",
       "    <tr>\n",
       "      <th>group</th>\n",
       "      <th></th>\n",
       "      <th></th>\n",
       "      <th></th>\n",
       "      <th></th>\n",
       "      <th></th>\n",
       "    </tr>\n",
       "  </thead>\n",
       "  <tbody>\n",
       "    <tr>\n",
       "      <th>group A</th>\n",
       "      <td>34.000000</td>\n",
       "      <td>2558.200000</td>\n",
       "      <td>60.600000</td>\n",
       "      <td>64.200000</td>\n",
       "      <td>61.200000</td>\n",
       "    </tr>\n",
       "    <tr>\n",
       "      <th>group B</th>\n",
       "      <td>32.384615</td>\n",
       "      <td>2743.230769</td>\n",
       "      <td>57.250000</td>\n",
       "      <td>62.461538</td>\n",
       "      <td>60.923077</td>\n",
       "    </tr>\n",
       "    <tr>\n",
       "      <th>group C</th>\n",
       "      <td>36.428571</td>\n",
       "      <td>2976.214286</td>\n",
       "      <td>64.769231</td>\n",
       "      <td>70.071429</td>\n",
       "      <td>67.285714</td>\n",
       "    </tr>\n",
       "    <tr>\n",
       "      <th>group D</th>\n",
       "      <td>35.416667</td>\n",
       "      <td>2901.000000</td>\n",
       "      <td>59.583333</td>\n",
       "      <td>67.083333</td>\n",
       "      <td>64.833333</td>\n",
       "    </tr>\n",
       "    <tr>\n",
       "      <th>group E</th>\n",
       "      <td>34.666667</td>\n",
       "      <td>3166.666667</td>\n",
       "      <td>89.000000</td>\n",
       "      <td>74.666667</td>\n",
       "      <td>71.666667</td>\n",
       "    </tr>\n",
       "  </tbody>\n",
       "</table>\n",
       "</div>"
      ],
      "text/plain": [
       "               age  scholarship       math    english       urdu\n",
       "group                                                           \n",
       "group A  34.000000  2558.200000  60.600000  64.200000  61.200000\n",
       "group B  32.384615  2743.230769  57.250000  62.461538  60.923077\n",
       "group C  36.428571  2976.214286  64.769231  70.071429  67.285714\n",
       "group D  35.416667  2901.000000  59.583333  67.083333  64.833333\n",
       "group E  34.666667  3166.666667  89.000000  74.666667  71.666667"
      ]
     },
     "execution_count": 103,
     "metadata": {},
     "output_type": "execute_result"
    }
   ],
   "source": [
    "df.groupby('group').mean()"
   ]
  },
  {
   "cell_type": "code",
   "execution_count": 101,
   "id": "a25bd66d",
   "metadata": {},
   "outputs": [
    {
     "data": {
      "text/html": [
       "<div>\n",
       "<style scoped>\n",
       "    .dataframe tbody tr th:only-of-type {\n",
       "        vertical-align: middle;\n",
       "    }\n",
       "\n",
       "    .dataframe tbody tr th {\n",
       "        vertical-align: top;\n",
       "    }\n",
       "\n",
       "    .dataframe thead th {\n",
       "        text-align: right;\n",
       "    }\n",
       "</style>\n",
       "<table border=\"1\" class=\"dataframe\">\n",
       "  <thead>\n",
       "    <tr style=\"text-align: right;\">\n",
       "      <th></th>\n",
       "      <th>rollno</th>\n",
       "      <th>name</th>\n",
       "      <th>gender</th>\n",
       "      <th>session</th>\n",
       "      <th>age</th>\n",
       "      <th>scholarship</th>\n",
       "      <th>math</th>\n",
       "      <th>english</th>\n",
       "      <th>urdu</th>\n",
       "    </tr>\n",
       "    <tr>\n",
       "      <th>group</th>\n",
       "      <th></th>\n",
       "      <th></th>\n",
       "      <th></th>\n",
       "      <th></th>\n",
       "      <th></th>\n",
       "      <th></th>\n",
       "      <th></th>\n",
       "      <th></th>\n",
       "      <th></th>\n",
       "    </tr>\n",
       "  </thead>\n",
       "  <tbody>\n",
       "    <tr>\n",
       "      <th>group A</th>\n",
       "      <td>MS47</td>\n",
       "      <td>USAMA</td>\n",
       "      <td>male</td>\n",
       "      <td>MOR</td>\n",
       "      <td>44</td>\n",
       "      <td>3500</td>\n",
       "      <td>78.0</td>\n",
       "      <td>74</td>\n",
       "      <td>72</td>\n",
       "    </tr>\n",
       "    <tr>\n",
       "      <th>group B</th>\n",
       "      <td>MS46</td>\n",
       "      <td>USAMA</td>\n",
       "      <td>male</td>\n",
       "      <td>MORNING</td>\n",
       "      <td>47</td>\n",
       "      <td>3800</td>\n",
       "      <td>88.0</td>\n",
       "      <td>95</td>\n",
       "      <td>92</td>\n",
       "    </tr>\n",
       "    <tr>\n",
       "      <th>group C</th>\n",
       "      <td>MS50</td>\n",
       "      <td>ZAIN</td>\n",
       "      <td>male</td>\n",
       "      <td>MORNING</td>\n",
       "      <td>54</td>\n",
       "      <td>4000</td>\n",
       "      <td>88.0</td>\n",
       "      <td>90</td>\n",
       "      <td>88</td>\n",
       "    </tr>\n",
       "    <tr>\n",
       "      <th>group D</th>\n",
       "      <td>MS49</td>\n",
       "      <td>UNAIZA</td>\n",
       "      <td>male</td>\n",
       "      <td>MORNING</td>\n",
       "      <td>53</td>\n",
       "      <td>3500</td>\n",
       "      <td>75.0</td>\n",
       "      <td>90</td>\n",
       "      <td>88</td>\n",
       "    </tr>\n",
       "    <tr>\n",
       "      <th>group E</th>\n",
       "      <td>MS45</td>\n",
       "      <td>ZAINAB</td>\n",
       "      <td>male</td>\n",
       "      <td>MORNING</td>\n",
       "      <td>45</td>\n",
       "      <td>3500</td>\n",
       "      <td>97.0</td>\n",
       "      <td>87</td>\n",
       "      <td>82</td>\n",
       "    </tr>\n",
       "  </tbody>\n",
       "</table>\n",
       "</div>"
      ],
      "text/plain": [
       "        rollno    name gender  session  age  scholarship  math  english  urdu\n",
       "group                                                                        \n",
       "group A   MS47   USAMA   male      MOR   44         3500  78.0       74    72\n",
       "group B   MS46   USAMA   male  MORNING   47         3800  88.0       95    92\n",
       "group C   MS50    ZAIN   male  MORNING   54         4000  88.0       90    88\n",
       "group D   MS49  UNAIZA   male  MORNING   53         3500  75.0       90    88\n",
       "group E   MS45  ZAINAB   male  MORNING   45         3500  97.0       87    82"
      ]
     },
     "execution_count": 101,
     "metadata": {},
     "output_type": "execute_result"
    }
   ],
   "source": [
    "df.groupby('group').max()"
   ]
  },
  {
   "cell_type": "markdown",
   "id": "bac472e8",
   "metadata": {},
   "source": [
    "The `max()` and `min()` aggregate methods by default applies on numerical as well as categorical columns."
   ]
  },
  {
   "cell_type": "markdown",
   "id": "0c927a57",
   "metadata": {},
   "source": [
    "## 3. Use of `series.agg()` method\n",
    "- The `series.agg()` method allows us to specify one function or a list of functions to be applied on a Pandas series or a `SeriesGroupBy` object all at once."
   ]
  },
  {
   "cell_type": "code",
   "execution_count": 132,
   "id": "dee67e96",
   "metadata": {},
   "outputs": [
    {
     "data": {
      "text/plain": [
       "<pandas.core.groupby.generic.SeriesGroupBy object at 0x7fe92cbb1070>"
      ]
     },
     "execution_count": 132,
     "metadata": {},
     "output_type": "execute_result"
    }
   ],
   "source": [
    "df.groupby('group').math"
   ]
  },
  {
   "cell_type": "code",
   "execution_count": 130,
   "id": "4c6db47d",
   "metadata": {},
   "outputs": [
    {
     "data": {
      "text/html": [
       "<div>\n",
       "<style scoped>\n",
       "    .dataframe tbody tr th:only-of-type {\n",
       "        vertical-align: middle;\n",
       "    }\n",
       "\n",
       "    .dataframe tbody tr th {\n",
       "        vertical-align: top;\n",
       "    }\n",
       "\n",
       "    .dataframe thead th {\n",
       "        text-align: right;\n",
       "    }\n",
       "</style>\n",
       "<table border=\"1\" class=\"dataframe\">\n",
       "  <thead>\n",
       "    <tr style=\"text-align: right;\">\n",
       "      <th></th>\n",
       "      <th>count</th>\n",
       "      <th>sum</th>\n",
       "      <th>mean</th>\n",
       "    </tr>\n",
       "    <tr>\n",
       "      <th>group</th>\n",
       "      <th></th>\n",
       "      <th></th>\n",
       "      <th></th>\n",
       "    </tr>\n",
       "  </thead>\n",
       "  <tbody>\n",
       "    <tr>\n",
       "      <th>group A</th>\n",
       "      <td>5</td>\n",
       "      <td>303.0</td>\n",
       "      <td>60.600000</td>\n",
       "    </tr>\n",
       "    <tr>\n",
       "      <th>group B</th>\n",
       "      <td>12</td>\n",
       "      <td>687.0</td>\n",
       "      <td>57.250000</td>\n",
       "    </tr>\n",
       "    <tr>\n",
       "      <th>group C</th>\n",
       "      <td>13</td>\n",
       "      <td>842.0</td>\n",
       "      <td>64.769231</td>\n",
       "    </tr>\n",
       "    <tr>\n",
       "      <th>group D</th>\n",
       "      <td>12</td>\n",
       "      <td>715.0</td>\n",
       "      <td>59.583333</td>\n",
       "    </tr>\n",
       "    <tr>\n",
       "      <th>group E</th>\n",
       "      <td>2</td>\n",
       "      <td>178.0</td>\n",
       "      <td>89.000000</td>\n",
       "    </tr>\n",
       "  </tbody>\n",
       "</table>\n",
       "</div>"
      ],
      "text/plain": [
       "         count    sum       mean\n",
       "group                           \n",
       "group A      5  303.0  60.600000\n",
       "group B     12  687.0  57.250000\n",
       "group C     13  842.0  64.769231\n",
       "group D     12  715.0  59.583333\n",
       "group E      2  178.0  89.000000"
      ]
     },
     "execution_count": 130,
     "metadata": {},
     "output_type": "execute_result"
    }
   ],
   "source": [
    "df.groupby('group').math.agg(['count', 'sum', 'mean'])"
   ]
  },
  {
   "cell_type": "code",
   "execution_count": 131,
   "id": "47332b7c",
   "metadata": {},
   "outputs": [
    {
     "data": {
      "text/html": [
       "<div>\n",
       "<style scoped>\n",
       "    .dataframe tbody tr th:only-of-type {\n",
       "        vertical-align: middle;\n",
       "    }\n",
       "\n",
       "    .dataframe tbody tr th {\n",
       "        vertical-align: top;\n",
       "    }\n",
       "\n",
       "    .dataframe thead tr th {\n",
       "        text-align: left;\n",
       "    }\n",
       "\n",
       "    .dataframe thead tr:last-of-type th {\n",
       "        text-align: right;\n",
       "    }\n",
       "</style>\n",
       "<table border=\"1\" class=\"dataframe\">\n",
       "  <thead>\n",
       "    <tr>\n",
       "      <th></th>\n",
       "      <th colspan=\"3\" halign=\"left\">age</th>\n",
       "      <th colspan=\"3\" halign=\"left\">scholarship</th>\n",
       "      <th colspan=\"3\" halign=\"left\">math</th>\n",
       "      <th colspan=\"3\" halign=\"left\">english</th>\n",
       "      <th colspan=\"3\" halign=\"left\">urdu</th>\n",
       "    </tr>\n",
       "    <tr>\n",
       "      <th></th>\n",
       "      <th>count</th>\n",
       "      <th>sum</th>\n",
       "      <th>mean</th>\n",
       "      <th>count</th>\n",
       "      <th>sum</th>\n",
       "      <th>mean</th>\n",
       "      <th>count</th>\n",
       "      <th>sum</th>\n",
       "      <th>mean</th>\n",
       "      <th>count</th>\n",
       "      <th>sum</th>\n",
       "      <th>mean</th>\n",
       "      <th>count</th>\n",
       "      <th>sum</th>\n",
       "      <th>mean</th>\n",
       "    </tr>\n",
       "    <tr>\n",
       "      <th>group</th>\n",
       "      <th></th>\n",
       "      <th></th>\n",
       "      <th></th>\n",
       "      <th></th>\n",
       "      <th></th>\n",
       "      <th></th>\n",
       "      <th></th>\n",
       "      <th></th>\n",
       "      <th></th>\n",
       "      <th></th>\n",
       "      <th></th>\n",
       "      <th></th>\n",
       "      <th></th>\n",
       "      <th></th>\n",
       "      <th></th>\n",
       "    </tr>\n",
       "  </thead>\n",
       "  <tbody>\n",
       "    <tr>\n",
       "      <th>group A</th>\n",
       "      <td>5</td>\n",
       "      <td>170</td>\n",
       "      <td>34.000000</td>\n",
       "      <td>5</td>\n",
       "      <td>12791</td>\n",
       "      <td>2558.200000</td>\n",
       "      <td>5</td>\n",
       "      <td>303.0</td>\n",
       "      <td>60.600000</td>\n",
       "      <td>5</td>\n",
       "      <td>321</td>\n",
       "      <td>64.200000</td>\n",
       "      <td>5</td>\n",
       "      <td>306</td>\n",
       "      <td>61.200000</td>\n",
       "    </tr>\n",
       "    <tr>\n",
       "      <th>group B</th>\n",
       "      <td>13</td>\n",
       "      <td>421</td>\n",
       "      <td>32.384615</td>\n",
       "      <td>13</td>\n",
       "      <td>35662</td>\n",
       "      <td>2743.230769</td>\n",
       "      <td>12</td>\n",
       "      <td>687.0</td>\n",
       "      <td>57.250000</td>\n",
       "      <td>13</td>\n",
       "      <td>812</td>\n",
       "      <td>62.461538</td>\n",
       "      <td>13</td>\n",
       "      <td>792</td>\n",
       "      <td>60.923077</td>\n",
       "    </tr>\n",
       "    <tr>\n",
       "      <th>group C</th>\n",
       "      <td>14</td>\n",
       "      <td>510</td>\n",
       "      <td>36.428571</td>\n",
       "      <td>14</td>\n",
       "      <td>41667</td>\n",
       "      <td>2976.214286</td>\n",
       "      <td>13</td>\n",
       "      <td>842.0</td>\n",
       "      <td>64.769231</td>\n",
       "      <td>14</td>\n",
       "      <td>981</td>\n",
       "      <td>70.071429</td>\n",
       "      <td>14</td>\n",
       "      <td>942</td>\n",
       "      <td>67.285714</td>\n",
       "    </tr>\n",
       "    <tr>\n",
       "      <th>group D</th>\n",
       "      <td>12</td>\n",
       "      <td>425</td>\n",
       "      <td>35.416667</td>\n",
       "      <td>12</td>\n",
       "      <td>34812</td>\n",
       "      <td>2901.000000</td>\n",
       "      <td>12</td>\n",
       "      <td>715.0</td>\n",
       "      <td>59.583333</td>\n",
       "      <td>12</td>\n",
       "      <td>805</td>\n",
       "      <td>67.083333</td>\n",
       "      <td>12</td>\n",
       "      <td>778</td>\n",
       "      <td>64.833333</td>\n",
       "    </tr>\n",
       "    <tr>\n",
       "      <th>group E</th>\n",
       "      <td>3</td>\n",
       "      <td>104</td>\n",
       "      <td>34.666667</td>\n",
       "      <td>3</td>\n",
       "      <td>9500</td>\n",
       "      <td>3166.666667</td>\n",
       "      <td>2</td>\n",
       "      <td>178.0</td>\n",
       "      <td>89.000000</td>\n",
       "      <td>3</td>\n",
       "      <td>224</td>\n",
       "      <td>74.666667</td>\n",
       "      <td>3</td>\n",
       "      <td>215</td>\n",
       "      <td>71.666667</td>\n",
       "    </tr>\n",
       "  </tbody>\n",
       "</table>\n",
       "</div>"
      ],
      "text/plain": [
       "          age                 scholarship                      math         \\\n",
       "        count  sum       mean       count    sum         mean count    sum   \n",
       "group                                                                        \n",
       "group A     5  170  34.000000           5  12791  2558.200000     5  303.0   \n",
       "group B    13  421  32.384615          13  35662  2743.230769    12  687.0   \n",
       "group C    14  510  36.428571          14  41667  2976.214286    13  842.0   \n",
       "group D    12  425  35.416667          12  34812  2901.000000    12  715.0   \n",
       "group E     3  104  34.666667           3   9500  3166.666667     2  178.0   \n",
       "\n",
       "                   english                  urdu                  \n",
       "              mean   count  sum       mean count  sum       mean  \n",
       "group                                                             \n",
       "group A  60.600000       5  321  64.200000     5  306  61.200000  \n",
       "group B  57.250000      13  812  62.461538    13  792  60.923077  \n",
       "group C  64.769231      14  981  70.071429    14  942  67.285714  \n",
       "group D  59.583333      12  805  67.083333    12  778  64.833333  \n",
       "group E  89.000000       3  224  74.666667     3  215  71.666667  "
      ]
     },
     "execution_count": 131,
     "metadata": {},
     "output_type": "execute_result"
    }
   ],
   "source": [
    "df.groupby('group').agg(['count', 'sum', 'mean'])"
   ]
  },
  {
   "cell_type": "code",
   "execution_count": null,
   "id": "983a7dc0",
   "metadata": {},
   "outputs": [],
   "source": []
  }
 ],
 "metadata": {
  "kernelspec": {
   "display_name": "Python 3 (ipykernel)",
   "language": "python",
   "name": "python3"
  },
  "language_info": {
   "codemirror_mode": {
    "name": "ipython",
    "version": 3
   },
   "file_extension": ".py",
   "mimetype": "text/x-python",
   "name": "python",
   "nbconvert_exporter": "python",
   "pygments_lexer": "ipython3",
   "version": "3.8.10"
  }
 },
 "nbformat": 4,
 "nbformat_minor": 5
}
