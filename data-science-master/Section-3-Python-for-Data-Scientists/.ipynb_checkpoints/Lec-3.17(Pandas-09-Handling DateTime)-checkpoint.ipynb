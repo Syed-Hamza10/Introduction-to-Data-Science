{
 "cells": [
  {
   "cell_type": "markdown",
   "id": "4a87b5ef",
   "metadata": {},
   "source": [
    "---   \n",
    " <img align=\"left\" width=\"75\" height=\"75\"  src=\"https://upload.wikimedia.org/wikipedia/en/c/c8/University_of_the_Punjab_logo.png\"> \n",
    "\n",
    "<h1 align=\"center\">Department of Data Science</h1>\n",
    "<h1 align=\"center\">Course: Tools and Techniques for Data Science</h1>\n",
    "\n",
    "---\n",
    "<h3><div align=\"right\">Instructor: Muhammad Arif Butt, Ph.D.</div></h3>    "
   ]
  },
  {
   "cell_type": "markdown",
   "id": "ab0dc25c",
   "metadata": {},
   "source": [
    "<h1 align=\"center\">Lecture 3.17 (Pandas-09)</h1>"
   ]
  },
  {
   "cell_type": "markdown",
   "id": "19f82705",
   "metadata": {},
   "source": [
    "## _Handling DateTime.ipynb_"
   ]
  },
  {
   "cell_type": "markdown",
   "id": "12db95e1",
   "metadata": {},
   "source": [
    "## Learning agenda of this notebook\n",
    "The importance of Date and time features in Data Science can be seen in the domains of sales, marketing, finance, HR, E-commerce and many more. In order to answer following questions in data science, one needs to have a clear understanding of handling datetime in Python:\n",
    "- How the stock markets will behave tomorrow?\n",
    "- How many products will be sold in the upcoming week?\n",
    "- When is the best time to launch a new product?\n",
    "- How long before a position at the company gets filled?\n",
    "\n",
    "1. Recap of Python Modules related to date and time\n",
    "    - Python Time module\n",
    "    - Python Datetime module\n",
    "2. Overview of DateTime Series in Pandas\n",
    "    - Parsing a string column containing datetime mannually\n",
    "    - Change a string column to Datetime while Reading the CSV File\n",
    "    - Change a string column to Datetime in Dataframe using `pd.to_datetime()` method\n",
    "3. Dealing with DateTime Series in Pandas"
   ]
  },
  {
   "cell_type": "markdown",
   "id": "30308522",
   "metadata": {},
   "source": [
    "## 1. Recap of Python Modules Related to Tate and Time"
   ]
  },
  {
   "cell_type": "markdown",
   "id": "1a058d60",
   "metadata": {},
   "source": [
    "## a. Python Time Module\n",
    "- Python Time module is principally for working with UNIX time stamps; expressed as a floating point number taken to be seconds since the unix epoch (00:00:00 UTC on 1 January 1970)"
   ]
  },
  {
   "cell_type": "markdown",
   "id": "374fe5b9",
   "metadata": {},
   "source": [
    "**Use `dir()` to get the list of methods in the Python `time` module**"
   ]
  },
  {
   "cell_type": "code",
   "execution_count": null,
   "id": "64a13665",
   "metadata": {},
   "outputs": [],
   "source": [
    "import time\n",
    "print(dir(time))"
   ]
  },
  {
   "cell_type": "markdown",
   "id": "911697e9",
   "metadata": {},
   "source": [
    "**The `time.time()` method returns the current time in seconds since UNIX Epoch (00:00:00 UTC on 1 January 1970)**"
   ]
  },
  {
   "cell_type": "code",
   "execution_count": null,
   "id": "d0fa8a98",
   "metadata": {},
   "outputs": [],
   "source": [
    "seconds = time.time()\n",
    "seconds"
   ]
  },
  {
   "cell_type": "markdown",
   "id": "cb0fdd20",
   "metadata": {},
   "source": [
    "**Getting number of seconds elapsed since UNIX epoch from the command line**"
   ]
  },
  {
   "cell_type": "code",
   "execution_count": null,
   "id": "5cc8b863",
   "metadata": {},
   "outputs": [],
   "source": [
    "!date +%s"
   ]
  },
  {
   "cell_type": "markdown",
   "id": "228e51f0",
   "metadata": {},
   "source": [
    "**The `time.ctime(seconds)` function takes seconds passed since epoch as argument and returns a string representing local time**"
   ]
  },
  {
   "cell_type": "code",
   "execution_count": null,
   "id": "70d0bb12",
   "metadata": {},
   "outputs": [],
   "source": [
    "# The UNIX Epoch in system local time is five hours ahead of mid night 1st Jan 1970\n",
    "# (Coordinated Universal Time a successor to Greenwich Mean Time)\n",
    "dtg1 = time.ctime(0)\n",
    "dtg1"
   ]
  },
  {
   "cell_type": "code",
   "execution_count": null,
   "id": "3e3bb56a",
   "metadata": {},
   "outputs": [],
   "source": [
    "seconds = time.time()\n",
    "dtg2 = time.ctime(seconds)\n",
    "dtg2"
   ]
  },
  {
   "cell_type": "code",
   "execution_count": null,
   "id": "6431482c",
   "metadata": {},
   "outputs": [],
   "source": [
    "#Get time using shell command\n",
    "!date"
   ]
  },
  {
   "cell_type": "markdown",
   "id": "9445c4b5",
   "metadata": {},
   "source": [
    "## b. Python Datetime Module\n",
    "The `datetime` module can support many of the same operations as `time` module, but provides a more object oriented set of types, and also has some limited support for time zones as well."
   ]
  },
  {
   "cell_type": "code",
   "execution_count": null,
   "id": "121ebc36",
   "metadata": {
    "scrolled": true
   },
   "outputs": [],
   "source": [
    "# use dir() to get the list of complete functions in datetime module\n",
    "import datetime\n",
    "print(dir(datetime))"
   ]
  },
  {
   "cell_type": "markdown",
   "id": "5f0ab4e5",
   "metadata": {},
   "source": [
    "**(i) The `datetime.date(year, month, day)` method is used to create any random date**"
   ]
  },
  {
   "cell_type": "code",
   "execution_count": null,
   "id": "e6b3e656",
   "metadata": {},
   "outputs": [],
   "source": [
    "import datetime\n",
    "d1 = datetime.date(2021,10,9)\n",
    "print(d1)\n",
    "print(type(d1))"
   ]
  },
  {
   "cell_type": "markdown",
   "id": "09c0b7b2",
   "metadata": {},
   "source": [
    "**(ii) The `datetime.datetime(year, month, day[, hour[, minute[, second[, microsecond[,tzinfo]]]]])` method is used to create any random date, along with time**"
   ]
  },
  {
   "cell_type": "code",
   "execution_count": null,
   "id": "929a2bc2",
   "metadata": {},
   "outputs": [],
   "source": [
    "dtg = datetime.datetime(2021,12,31)\n",
    "print(dtg)\n",
    "print(type(dtg))"
   ]
  },
  {
   "cell_type": "code",
   "execution_count": null,
   "id": "dd1869b6",
   "metadata": {},
   "outputs": [],
   "source": [
    "print(datetime.datetime(2021, 12, 31, 4, 30, 54, 678))"
   ]
  },
  {
   "cell_type": "markdown",
   "id": "319fcdd5",
   "metadata": {},
   "source": [
    "**(iii) The `datetime.datetime.today()` and `datetime.datetime.now()` methods are used to fetch the current date and time**"
   ]
  },
  {
   "cell_type": "code",
   "execution_count": null,
   "id": "bcf8635c",
   "metadata": {},
   "outputs": [],
   "source": [
    "print(datetime.datetime.today())"
   ]
  },
  {
   "cell_type": "code",
   "execution_count": null,
   "id": "529f58cc",
   "metadata": {},
   "outputs": [],
   "source": [
    "print(datetime.datetime.now())"
   ]
  },
  {
   "cell_type": "markdown",
   "id": "5b197019",
   "metadata": {},
   "source": [
    "**(iv)  The `time([hour[, minute[, second[, microsecond[, tzinfo]]]]]) ` methods returns a time object. All arguments are optional**"
   ]
  },
  {
   "cell_type": "code",
   "execution_count": null,
   "id": "b4c51969",
   "metadata": {},
   "outputs": [],
   "source": [
    "t1 = datetime.time(10, 15)\n",
    "print(t1)\n",
    "print(type(t1))"
   ]
  },
  {
   "cell_type": "markdown",
   "id": "b4ddbdda",
   "metadata": {},
   "source": [
    "**(v) Let us explore some commonly used attributes related with the `<class 'datetime.time'>`.**\n",
    "- `dtg.year:` returns the year\n",
    "- `dtg.month:` returns the month\n",
    "- `dtg.day:` returns the date\n",
    "- `dtg.hour:` returns the hour\n",
    "- `dtg.min:` returns the minutes"
   ]
  },
  {
   "cell_type": "code",
   "execution_count": null,
   "id": "a9cac04f",
   "metadata": {},
   "outputs": [],
   "source": [
    "dtg = datetime.datetime(2021, 12, 31, 4, 30, 54, 678)\n",
    "print(dtg)\n",
    "print(type(dtg))\n",
    "print(dtg.month)"
   ]
  },
  {
   "cell_type": "code",
   "execution_count": null,
   "id": "cafd2bd5",
   "metadata": {},
   "outputs": [],
   "source": []
  },
  {
   "cell_type": "code",
   "execution_count": null,
   "id": "731aaae1",
   "metadata": {},
   "outputs": [],
   "source": [
    "import pandas as pd\n",
    "df = pd.read_csv(\"datasets/uforeports.csv\")\n",
    "df"
   ]
  },
  {
   "cell_type": "code",
   "execution_count": null,
   "id": "c90ba5af",
   "metadata": {},
   "outputs": [],
   "source": [
    "df.dtypes"
   ]
  },
  {
   "cell_type": "markdown",
   "id": "c377119c",
   "metadata": {},
   "source": [
    "**You can observe that the datatype of `Time` column is object, i.e., it is stored as string as `month/date/year hr:min`**"
   ]
  },
  {
   "cell_type": "markdown",
   "id": "762ab6d3",
   "metadata": {},
   "source": [
    "### b. Extract Information from  a Datetime Column Stored as String\n",
    "- Let us try to slice substrings from each element from the `Time` Series using `df.Time.str.slice(start=None, stop=None, step=None)` method"
   ]
  },
  {
   "cell_type": "code",
   "execution_count": null,
   "id": "b0003ecc",
   "metadata": {},
   "outputs": [],
   "source": [
    "df.Time.str.slice(-5,-3)"
   ]
  },
  {
   "cell_type": "code",
   "execution_count": null,
   "id": "e98ad90e",
   "metadata": {},
   "outputs": [],
   "source": [
    "df.Time.str.slice(-5,-3).astype(int)"
   ]
  },
  {
   "cell_type": "markdown",
   "id": "1902548d",
   "metadata": {},
   "source": [
    "- **So we got the hours. This is a cumbersome as well as error prone approach to extract all the components of datetime from this entire column**\n",
    "- **Let us change the `Time` column datatype to Pandas datetime**"
   ]
  },
  {
   "cell_type": "markdown",
   "id": "437cff33",
   "metadata": {},
   "source": [
    "### b. Change Datatype of `Time` Column While Reading the CSV File\n",
    "- The `pd.read_csv()` function provides with `parse_dates` parameter, which converts the specified column into `datetime64` type\n",
    "- Let us see this in practice"
   ]
  },
  {
   "cell_type": "code",
   "execution_count": null,
   "id": "7a74b6db",
   "metadata": {},
   "outputs": [],
   "source": [
    "import pandas as pd\n",
    "df = pd.read_csv(\"datasets/uforeports.csv\", parse_dates=['Time'])\n",
    "df"
   ]
  },
  {
   "cell_type": "code",
   "execution_count": null,
   "id": "971630f0",
   "metadata": {},
   "outputs": [],
   "source": [
    "df.dtypes"
   ]
  },
  {
   "cell_type": "code",
   "execution_count": null,
   "id": "d38b9fca",
   "metadata": {},
   "outputs": [],
   "source": [
    "type(df.Time[0])"
   ]
  },
  {
   "cell_type": "markdown",
   "id": "8a0db69f",
   "metadata": {},
   "source": [
    "### c. Change Datatype of `Time` Column in Dataframe using `pd.to_datetime()` method\n",
    "- If we have already read the csv file to a dataframe and want to change the `Time` column containing string data to Pandas datetime using `pd.to_datetime()` method, which convert argument to datetime\n",
    "```\n",
    "pd.to_datetime(arg)\n",
    "```\n",
    "Where arg can be int, float, str, datetime, list, tuple, 1-d array, Series, DataFrame/dict-like object to convert to a datetime.\n",
    "You can check for other arguments using help() function"
   ]
  },
  {
   "cell_type": "code",
   "execution_count": null,
   "id": "dca54f99",
   "metadata": {},
   "outputs": [],
   "source": [
    "pd.to_datetime('Feb 19, 2021')"
   ]
  },
  {
   "cell_type": "markdown",
   "id": "e12922f1",
   "metadata": {},
   "source": [
    "Note the format is `'year-month-date'`"
   ]
  },
  {
   "cell_type": "code",
   "execution_count": null,
   "id": "fe9278b2",
   "metadata": {},
   "outputs": [],
   "source": [
    "pd.to_datetime('19/02/2021')"
   ]
  },
  {
   "cell_type": "code",
   "execution_count": null,
   "id": "67c8f146",
   "metadata": {},
   "outputs": [],
   "source": [
    "pd.to_datetime('19-02-2021')"
   ]
  },
  {
   "cell_type": "code",
   "execution_count": null,
   "id": "eb0c5cff",
   "metadata": {},
   "outputs": [],
   "source": [
    "# to_datetime() function will convert all these different formats into a common format\n",
    "dates = ['2021-01-05', 'Jan 5, 2021', '01/05/2021', '2021.01.05', '2021/01/05','20210105']\n",
    "pd.to_datetime(dates)"
   ]
  },
  {
   "cell_type": "markdown",
   "id": "7f93c6a2",
   "metadata": {},
   "source": [
    "Seems to be working fine (with month in the middle). Let us try storing  6 March, 2021 as '06/03/2021'"
   ]
  },
  {
   "cell_type": "code",
   "execution_count": null,
   "id": "55610b05",
   "metadata": {},
   "outputs": [],
   "source": [
    "pd.to_datetime('06/03/2021')"
   ]
  },
  {
   "cell_type": "markdown",
   "id": "768fc152",
   "metadata": {},
   "source": [
    "**Oops!, it has interpreted it as 3 June 2021**\n",
    "You can see different datetime formates for better understanding. But for the time being use the format `month/date/year`. However, in the current scenario our dataset, the `Time` column has stored the date as string in year-month-date sequence"
   ]
  },
  {
   "cell_type": "code",
   "execution_count": null,
   "id": "241c58de",
   "metadata": {},
   "outputs": [],
   "source": [
    "# you can also passed customized format to it and generate the same format as previous using format parameter\n",
    "pd.to_datetime('2021$01$05', format='%Y$%m$%d')"
   ]
  },
  {
   "cell_type": "code",
   "execution_count": null,
   "id": "930bea1b",
   "metadata": {},
   "outputs": [],
   "source": [
    "import pandas as pd\n",
    "df = pd.read_csv(\"datasets/uforeports.csv\")\n",
    "df.head()"
   ]
  },
  {
   "cell_type": "code",
   "execution_count": null,
   "id": "c19b5083",
   "metadata": {},
   "outputs": [],
   "source": [
    "df.dtypes"
   ]
  },
  {
   "cell_type": "code",
   "execution_count": null,
   "id": "69d66ff6",
   "metadata": {},
   "outputs": [],
   "source": [
    "df['Time'] = pd.to_datetime(df.Time)"
   ]
  },
  {
   "cell_type": "code",
   "execution_count": null,
   "id": "63738acf",
   "metadata": {},
   "outputs": [],
   "source": [
    "df.head()"
   ]
  },
  {
   "cell_type": "code",
   "execution_count": null,
   "id": "23282623",
   "metadata": {},
   "outputs": [],
   "source": [
    "df.dtypes"
   ]
  },
  {
   "cell_type": "markdown",
   "id": "a331d193",
   "metadata": {},
   "source": [
    "**You can explore different attributes/methods of datetime series**\n",
    "\n",
    "`Series.dt.year`: Returns year of datetime object\n",
    "\n",
    "`Series.dt.month`: Returns year of datetime object\n",
    "\n",
    "`Series.dt.day`: Returns year of datetime object\n",
    "\n",
    "`Series.dt.hour`: Returns year of datetime object\n",
    "\n",
    "`Series.dt.minute`: Returns year of datetime object\n",
    "\n",
    "`Series.dt.dayofweek`: Returns 0-6, Sunday is taken as 0\n",
    "\n",
    "\n",
    "`Series.dt.day_name()`: Returns name of the day as string\n",
    "\n",
    "`Series.dt.month_name()`: Returns month as string\n",
    "\n",
    "For details Read: https://pandas.pydata.org/docs/reference/api/pandas.Series.dt.year.html"
   ]
  },
  {
   "cell_type": "code",
   "execution_count": null,
   "id": "66f2d4d1",
   "metadata": {},
   "outputs": [],
   "source": [
    "df.Time.dt.hour"
   ]
  },
  {
   "cell_type": "code",
   "execution_count": null,
   "id": "c7e5ce75",
   "metadata": {},
   "outputs": [],
   "source": [
    "df.Time.dt.day_name()"
   ]
  },
  {
   "cell_type": "code",
   "execution_count": null,
   "id": "6942c1e0",
   "metadata": {},
   "outputs": [],
   "source": [
    "df.Time.dt.month_name()"
   ]
  },
  {
   "cell_type": "code",
   "execution_count": null,
   "id": "acee19f4",
   "metadata": {},
   "outputs": [],
   "source": [
    "df.Time.dt.day_name()"
   ]
  },
  {
   "cell_type": "markdown",
   "id": "5d1396f3",
   "metadata": {},
   "source": [
    "## 3. Dealing with DateTime Series in Pandas"
   ]
  },
  {
   "cell_type": "code",
   "execution_count": null,
   "id": "80c0dc37",
   "metadata": {},
   "outputs": [],
   "source": [
    "import pandas as pd\n",
    "df = pd.read_csv(\"datasets/uforeports.csv\")\n",
    "df['Time'] = pd.to_datetime(df.Time)\n",
    "df"
   ]
  },
  {
   "cell_type": "markdown",
   "id": "310f2108",
   "metadata": {},
   "source": [
    "**Suppose I want to display only those UFO sightings that has been seen after 1st January 1995**"
   ]
  },
  {
   "cell_type": "code",
   "execution_count": null,
   "id": "65f6b28a",
   "metadata": {},
   "outputs": [],
   "source": [
    "# Create a datetime object to be used for comparison\n",
    "ts = pd.to_datetime('1995/03/24')\n",
    "df.loc[df.Time >= ts, :]"
   ]
  },
  {
   "cell_type": "markdown",
   "id": "b112ce4e",
   "metadata": {},
   "source": [
    "**Suppose I want to display only those UFO sightings that has been seen between 1st March 1995 and 06 March 1995**"
   ]
  },
  {
   "cell_type": "code",
   "execution_count": null,
   "id": "6033cd64",
   "metadata": {},
   "outputs": [],
   "source": [
    "# Create a datetime object to be used for comparison\n",
    "ts1 = pd.to_datetime('1995/03/1')\n",
    "ts2 = pd.to_datetime('1995/03/7')\n",
    "df.loc[(df.Time >= ts1) & (df.Time <= ts2), :]"
   ]
  },
  {
   "cell_type": "markdown",
   "id": "3f0aaef6",
   "metadata": {},
   "source": [
    "**Suppose I want to display the record of the maximum date under the `Time` column**"
   ]
  },
  {
   "cell_type": "code",
   "execution_count": null,
   "id": "2ce38867",
   "metadata": {},
   "outputs": [],
   "source": [
    "ts = df.Time.max()\n",
    "ts"
   ]
  },
  {
   "cell_type": "code",
   "execution_count": null,
   "id": "3d435c7e",
   "metadata": {},
   "outputs": [],
   "source": [
    "df.loc[df.Time == ts]"
   ]
  },
  {
   "cell_type": "markdown",
   "id": "48ffb7cc",
   "metadata": {},
   "source": [
    "**Suppose I want to display the oldest record as per the `Time` column**"
   ]
  },
  {
   "cell_type": "code",
   "execution_count": null,
   "id": "73cbb2fa",
   "metadata": {},
   "outputs": [],
   "source": [
    "ts = df.Time.min()\n",
    "ts"
   ]
  },
  {
   "cell_type": "code",
   "execution_count": null,
   "id": "56600dc9",
   "metadata": {},
   "outputs": [],
   "source": [
    "df.loc[df.Time == ts]"
   ]
  },
  {
   "cell_type": "markdown",
   "id": "20179e67",
   "metadata": {},
   "source": [
    "**Suppose I want to check out the difference between the oldest and the newest record as per the `Time` column**"
   ]
  },
  {
   "cell_type": "code",
   "execution_count": null,
   "id": "091952b7",
   "metadata": {},
   "outputs": [],
   "source": [
    "td = df.Time.max() - df.Time.min()\n",
    "print(td)\n",
    "print(type(td))"
   ]
  },
  {
   "cell_type": "markdown",
   "id": "54dad2e9",
   "metadata": {},
   "source": [
    "# Summary:\n",
    "Pandas captures 4 general time related concepts:\n",
    "- **Date times:** A specific date and time with timezone support. Similar to `datetime.datetime` from the standard library. To create this object we can use `to_datetime()` or `date_range()` methods\n",
    "- **Time deltas:** An absolute time duration. Similar to `datetime.timedelta` from the standard library. To create this object we can use `to_timedelta()` or `timedelta_range()` methods\n",
    "- **Time spans:** A span of time defined by a point in time and its associated frequency. To create this object we can use `Period()` or `period_range()` methods\n",
    "- **Date offsets:** A relative time duration that respects calendar arithmetic. To create this object we can use `DateOffset()` method"
   ]
  },
  {
   "cell_type": "markdown",
   "id": "bf1f9913",
   "metadata": {},
   "source": [
    "**Read Documentation for details:** \n",
    "https://pandas.pydata.org/docs/user_guide/timeseries.html#overview"
   ]
  },
  {
   "cell_type": "code",
   "execution_count": null,
   "id": "e6a2b12d",
   "metadata": {},
   "outputs": [],
   "source": []
  }
 ],
 "metadata": {
  "kernelspec": {
   "display_name": "Python 3 (ipykernel)",
   "language": "python",
   "name": "python3"
  },
  "language_info": {
   "codemirror_mode": {
    "name": "ipython",
    "version": 3
   },
   "file_extension": ".py",
   "mimetype": "text/x-python",
   "name": "python",
   "nbconvert_exporter": "python",
   "pygments_lexer": "ipython3",
   "version": "3.8.10"
  }
 },
 "nbformat": 4,
 "nbformat_minor": 5
}
