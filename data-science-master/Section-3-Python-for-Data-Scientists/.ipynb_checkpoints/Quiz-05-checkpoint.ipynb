{
 "cells": [
  {
   "cell_type": "markdown",
   "id": "f4d1bdea",
   "metadata": {},
   "source": [
    "<h1 align=\"center\">Quiz-05 </h1>"
   ]
  },
  {
   "cell_type": "markdown",
   "id": "3b178a0f",
   "metadata": {},
   "source": [
    "**Give the output of the following code snippets**"
   ]
  },
  {
   "cell_type": "code",
   "execution_count": 17,
   "id": "032e8a63",
   "metadata": {},
   "outputs": [
    {
     "name": "stdout",
     "output_type": "stream",
     "text": [
      "array:\n",
      " [[[1 2 3]\n",
      "  [5 6 7]]\n",
      "\n",
      " [[6 7 1]\n",
      "  [8 1 6]]\n",
      "\n",
      " [[2 8 9]\n",
      "  [3 0 4]]]\n",
      "arr.shape:  (3, 2, 3)\n",
      "arr.size:  18\n",
      "arr.itemsize:  2\n",
      "arr.nbytes:  36\n",
      "arr.strides:  (12, 6, 2)\n",
      "arr[-1][-2][-1]:  9\n",
      "arr[-2][1]:  [8 1 6]\n",
      "arr[1:2, 1:2, 1:2] =  [[[1]]]\n",
      "arr2:  [1 6 2 5 8 3 2 7 8 6 1 0 3 1 9 7 6 4]\n",
      "arr2[arr2>3 & arr2<7] =  [6 5 6 6 4]\n",
      "arr3:  [0 6 2 0 8 0 2 0 8 6 0 0 0 0 0 0 6 4]\n"
     ]
    }
   ],
   "source": [
    "import numpy as np\n",
    "mylist = [\n",
    "          [[1, 2, 3], [5, 6, 7]],\n",
    "          [[6, 7, 1], [8, 1, 6]],\n",
    "          [[2, 8, 9], [3, 0, 4]],\n",
    "         ]\n",
    "arr = np.array(mylist, dtype=np.uint16)\n",
    "print(\"array:\\n\", arr)\n",
    "print(\"arr.shape: \", arr.shape)  \n",
    "print(\"arr.size: \", arr.size)    \n",
    "print(\"arr.itemsize: \", arr.itemsize)\n",
    "print(\"arr.nbytes: \", arr.nbytes)\n",
    "print(\"arr.strides: \", arr.strides)\n",
    "print(\"arr[-1][-2][-1]: \", arr[-1][-2][-1])    \n",
    "print(\"arr[-2][1]: \", arr[-2][1]) \n",
    "print(\"arr[1:2, 1:2, 1:2] = \", arr[1:2, 1:2, 1:2])\n",
    "arr2 = np.reshape(arr, -1, order='F')\n",
    "print(\"arr2: \", arr2)\n",
    "print(\"arr2[arr2>3 & arr2<7] = \",arr2[(arr2>3) & (arr2<7)])\n",
    "arr3 = np.where(arr2 % 2 == 1, 0, arr2)\n",
    "print(\"arr3: \", arr3)"
   ]
  },
  {
   "cell_type": "code",
   "execution_count": 12,
   "id": "aba30224",
   "metadata": {},
   "outputs": [
    {
     "data": {
      "text/plain": [
       "(array([[1, 2, 3],\n",
       "        [4, 5, 6],\n",
       "        [7, 8, 9],\n",
       "        [6, 4, 9],\n",
       "        [2, 7, 3],\n",
       "        [4, 1, 5]]),\n",
       " array([[1, 2, 3, 6, 4, 9],\n",
       "        [4, 5, 6, 2, 7, 3],\n",
       "        [7, 8, 9, 4, 1, 5]]))"
      ]
     },
     "execution_count": 12,
     "metadata": {},
     "output_type": "execute_result"
    }
   ],
   "source": [
    "arr1=np.array([[1, 2, 3], [4, 5, 6], [7, 8, 9]])\n",
    "arr2=np.array([[6, 4, 9], [2, 7,3], [4, 1, 5]])\n",
    "arr3=np.append(arr1,arr2,axis=0)\n",
    "arr4=np.append(arr1,arr2,axis=1)\n",
    "arr3, arr4"
   ]
  },
  {
   "cell_type": "code",
   "execution_count": null,
   "id": "0275e8e4",
   "metadata": {},
   "outputs": [],
   "source": []
  }
 ],
 "metadata": {
  "kernelspec": {
   "display_name": "Python 3 (ipykernel)",
   "language": "python",
   "name": "python3"
  },
  "language_info": {
   "codemirror_mode": {
    "name": "ipython",
    "version": 3
   },
   "file_extension": ".py",
   "mimetype": "text/x-python",
   "name": "python",
   "nbconvert_exporter": "python",
   "pygments_lexer": "ipython3",
   "version": "3.8.10"
  }
 },
 "nbformat": 4,
 "nbformat_minor": 5
}
