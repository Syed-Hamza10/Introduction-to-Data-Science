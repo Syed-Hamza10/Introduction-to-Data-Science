{
 "cells": [
  {
   "cell_type": "markdown",
   "id": "4a87b5ef",
   "metadata": {},
   "source": [
    "---   \n",
    " <img align=\"left\" width=\"75\" height=\"75\"  src=\"https://upload.wikimedia.org/wikipedia/en/c/c8/University_of_the_Punjab_logo.png\"> \n",
    "\n",
    "<h1 align=\"center\">Department of Data Science</h1>\n",
    "<h1 align=\"center\">Course: Tools and Techniques for Data Science</h1>\n",
    "\n",
    "---\n",
    "<h3><div align=\"right\">Instructor: Muhammad Arif Butt, Ph.D.</div></h3>    "
   ]
  },
  {
   "cell_type": "markdown",
   "id": "ab0dc25c",
   "metadata": {},
   "source": [
    "<h1 align=\"center\">Lecture 3.14 (Pandas-06)</h1>"
   ]
  },
  {
   "cell_type": "markdown",
   "id": "19f82705",
   "metadata": {},
   "source": [
    "<img align=\"right\" width=\"400\" height=\"400\"  src=\"images/pandas-apps.png\"  >\n",
    "\n",
    "## _Modifying and Sorting Dataframes.ipynb_"
   ]
  },
  {
   "cell_type": "code",
   "execution_count": null,
   "id": "29077002",
   "metadata": {},
   "outputs": [],
   "source": [
    "# To install this library in Jupyter notebook\n",
    "#import sys\n",
    "#!{sys.executable} -m pip install pandas"
   ]
  },
  {
   "cell_type": "code",
   "execution_count": null,
   "id": "9c0b2727",
   "metadata": {},
   "outputs": [],
   "source": [
    "import pandas as pd\n",
    "pd.__version__ , pd.__path__"
   ]
  },
  {
   "cell_type": "code",
   "execution_count": null,
   "id": "ca007acb",
   "metadata": {},
   "outputs": [],
   "source": []
  },
  {
   "cell_type": "code",
   "execution_count": null,
   "id": "7bdeb1c8",
   "metadata": {},
   "outputs": [],
   "source": []
  },
  {
   "cell_type": "code",
   "execution_count": null,
   "id": "4456b458",
   "metadata": {},
   "outputs": [],
   "source": []
  },
  {
   "cell_type": "markdown",
   "id": "12db95e1",
   "metadata": {},
   "source": [
    "## Learning agenda of this notebook\n",
    "1. Modifying Column indices/labels/names of Dataframe\n",
    "2. Modifying Row indices of Dataframe\n",
    "3. Modifying Row(s) Data (Records) of a Dataframe\n",
    "    - Modifying a single Row\n",
    "    - Modifying multiple Rows\n",
    "        - The `df.apply()` Method\n",
    "        - The `df.map()` Method\n",
    "        - The `df.mapapply()` Method\n",
    "        - The `df.replace()` Method\n",
    "        \n",
    "4. Adding Column(s) in a Dataframe (unconditionally and conditionally)\n",
    "5. Removing Column(s) from a Dataframe (unconditionally and conditionally)\n",
    "6. Adding Row(s) in a Dataframe (unconditionally and conditionally)\n",
    "7. Removing Row(s) from a Dataframe (unconditionally and conditionally)\n",
    "8. Bonus: (Sorting)"
   ]
  },
  {
   "cell_type": "markdown",
   "id": "73464b5a",
   "metadata": {},
   "source": [
    "##  Read a Sample Dataframe"
   ]
  },
  {
   "cell_type": "code",
   "execution_count": 1,
   "id": "6914759c",
   "metadata": {},
   "outputs": [
    {
     "data": {
      "text/html": [
       "<div>\n",
       "<style scoped>\n",
       "    .dataframe tbody tr th:only-of-type {\n",
       "        vertical-align: middle;\n",
       "    }\n",
       "\n",
       "    .dataframe tbody tr th {\n",
       "        vertical-align: top;\n",
       "    }\n",
       "\n",
       "    .dataframe thead th {\n",
       "        text-align: right;\n",
       "    }\n",
       "</style>\n",
       "<table border=\"1\" class=\"dataframe\">\n",
       "  <thead>\n",
       "    <tr style=\"text-align: right;\">\n",
       "      <th></th>\n",
       "      <th>roll no</th>\n",
       "      <th>name</th>\n",
       "      <th>age</th>\n",
       "      <th>address</th>\n",
       "      <th>session</th>\n",
       "      <th>group</th>\n",
       "      <th>gender</th>\n",
       "      <th>subj1</th>\n",
       "      <th>subj2</th>\n",
       "      <th>scholarship</th>\n",
       "    </tr>\n",
       "  </thead>\n",
       "  <tbody>\n",
       "    <tr>\n",
       "      <th>0</th>\n",
       "      <td>MS01</td>\n",
       "      <td>Rauf</td>\n",
       "      <td>52</td>\n",
       "      <td>Lahore</td>\n",
       "      <td>MORNING</td>\n",
       "      <td>group C</td>\n",
       "      <td>Male</td>\n",
       "      <td>78.3</td>\n",
       "      <td>84.4</td>\n",
       "      <td>5000.0</td>\n",
       "    </tr>\n",
       "    <tr>\n",
       "      <th>1</th>\n",
       "      <td>MS02</td>\n",
       "      <td>Arif</td>\n",
       "      <td>51</td>\n",
       "      <td>Islamabad</td>\n",
       "      <td>AFT</td>\n",
       "      <td>group A</td>\n",
       "      <td>Male</td>\n",
       "      <td>70.5</td>\n",
       "      <td>60.5</td>\n",
       "      <td>6000.0</td>\n",
       "    </tr>\n",
       "    <tr>\n",
       "      <th>2</th>\n",
       "      <td>MS03</td>\n",
       "      <td>Shaista</td>\n",
       "      <td>35</td>\n",
       "      <td>Karachi</td>\n",
       "      <td>AFTERNOON</td>\n",
       "      <td>group B</td>\n",
       "      <td>Female</td>\n",
       "      <td>64.9</td>\n",
       "      <td>75.1</td>\n",
       "      <td>8500.0</td>\n",
       "    </tr>\n",
       "    <tr>\n",
       "      <th>3</th>\n",
       "      <td>MS04</td>\n",
       "      <td>Hadeed</td>\n",
       "      <td>20</td>\n",
       "      <td>Lahore</td>\n",
       "      <td>MOR</td>\n",
       "      <td>group A</td>\n",
       "      <td>Male</td>\n",
       "      <td>82.0</td>\n",
       "      <td>84.3</td>\n",
       "      <td>4000.0</td>\n",
       "    </tr>\n",
       "    <tr>\n",
       "      <th>4</th>\n",
       "      <td>MS05</td>\n",
       "      <td>Zara</td>\n",
       "      <td>40</td>\n",
       "      <td>Peshawer</td>\n",
       "      <td>AFT</td>\n",
       "      <td>group D</td>\n",
       "      <td>Female</td>\n",
       "      <td>65.9</td>\n",
       "      <td>72.8</td>\n",
       "      <td>3500.0</td>\n",
       "    </tr>\n",
       "  </tbody>\n",
       "</table>\n",
       "</div>"
      ],
      "text/plain": [
       "  roll no     name  age    address    session    group  gender  subj1  subj2  \\\n",
       "0    MS01     Rauf   52     Lahore    MORNING  group C    Male   78.3   84.4   \n",
       "1    MS02     Arif   51  Islamabad        AFT  group A    Male   70.5   60.5   \n",
       "2    MS03  Shaista   35    Karachi  AFTERNOON  group B  Female   64.9   75.1   \n",
       "3    MS04   Hadeed   20     Lahore        MOR  group A    Male   82.0   84.3   \n",
       "4    MS05     Zara   40   Peshawer        AFT  group D  Female   65.9   72.8   \n",
       "\n",
       "   scholarship  \n",
       "0       5000.0  \n",
       "1       6000.0  \n",
       "2       8500.0  \n",
       "3       4000.0  \n",
       "4       3500.0  "
      ]
     },
     "execution_count": 1,
     "metadata": {},
     "output_type": "execute_result"
    }
   ],
   "source": [
    "import pandas as pd\n",
    "df = pd.read_csv('datasets/groupdata.csv')\n",
    "df.head()"
   ]
  },
  {
   "cell_type": "code",
   "execution_count": 2,
   "id": "f48af20d",
   "metadata": {},
   "outputs": [
    {
     "data": {
      "text/plain": [
       "(16, 10)"
      ]
     },
     "execution_count": 2,
     "metadata": {},
     "output_type": "execute_result"
    }
   ],
   "source": [
    "# `shape` attribute of a dataframe object return a two value tuple containing rows and columns\n",
    "# Note the rows count does not include the column labels and column count does not include the row index\n",
    "df.shape"
   ]
  },
  {
   "cell_type": "code",
   "execution_count": 3,
   "id": "8c00cc7d",
   "metadata": {},
   "outputs": [
    {
     "data": {
      "text/plain": [
       "RangeIndex(start=0, stop=16, step=1)"
      ]
     },
     "execution_count": 3,
     "metadata": {},
     "output_type": "execute_result"
    }
   ],
   "source": [
    "# `index` attribute of a dataframe object return the list of row indices and its datatype\n",
    "df.index"
   ]
  },
  {
   "cell_type": "code",
   "execution_count": 4,
   "id": "b8a7fc1b",
   "metadata": {},
   "outputs": [
    {
     "data": {
      "text/plain": [
       "Index(['roll no', 'name', 'age', 'address', 'session', 'group', 'gender',\n",
       "       'subj1', 'subj2', 'scholarship'],\n",
       "      dtype='object')"
      ]
     },
     "execution_count": 4,
     "metadata": {},
     "output_type": "execute_result"
    }
   ],
   "source": [
    "# `columns` attribute of a dataframe object return the list of column labels and its datatype\n",
    "df.columns"
   ]
  },
  {
   "cell_type": "code",
   "execution_count": 5,
   "id": "899d087f",
   "metadata": {},
   "outputs": [
    {
     "data": {
      "text/plain": [
       "roll no         object\n",
       "name            object\n",
       "age              int64\n",
       "address         object\n",
       "session         object\n",
       "group           object\n",
       "gender          object\n",
       "subj1          float64\n",
       "subj2          float64\n",
       "scholarship    float64\n",
       "dtype: object"
      ]
     },
     "execution_count": 5,
     "metadata": {},
     "output_type": "execute_result"
    }
   ],
   "source": [
    "# `dtypes` attribute of a dataframe object return the data type of each column in the dataframe\n",
    "df.dtypes"
   ]
  },
  {
   "cell_type": "code",
   "execution_count": null,
   "id": "846b966a",
   "metadata": {},
   "outputs": [],
   "source": []
  },
  {
   "cell_type": "markdown",
   "id": "5cc6dae4",
   "metadata": {},
   "source": [
    "## 1. Modifying Column Names of a Dataframe\n",
    "- Every dataframe has column labels associated with its columns\n",
    "- These by default are integer values from 0,1,2,3...\n",
    "- However, while creating a dataframe from scratch, or while reading them from a file you can set them to more meaningful string values.\n",
    "- While reading from csv file the first row in the file is taken as the column labels\n",
    "- We can change the column labels, if we want\n",
    "- Let us practically see this for better understanding"
   ]
  },
  {
   "cell_type": "code",
   "execution_count": 9,
   "id": "81a7d7d3",
   "metadata": {},
   "outputs": [
    {
     "name": "stdout",
     "output_type": "stream",
     "text": [
      "MS01,Rauf,52,Lahore,MORNING,group C,Male,78.3,84.4,5000\r",
      "\r\n",
      "MS02,Arif,51,Islamabad,AFT,group A,Male,70.5,60.5,6000\r",
      "\r\n",
      "MS03,Shaista,35,Karachi,AFTERNOON,group B,Female,64.9,75.1,8500\r",
      "\r\n",
      "MS04,Hadeed,20,Lahore,MOR,group A,Male,82,84.3,4000\r",
      "\r\n",
      "MS05,Zara,40,Peshawer,AFT,group D,Female,65.9,72.8,3500\r",
      "\r\n",
      "MS06,Mohid,16,Lahore,MORNING,group C,Female,69.3,78.6,\r",
      "\r\n",
      "MS07,Zobia,40,Sialkot,AFT,group B,Female,90.2,,4000\r",
      "\r\n",
      "MS08,Idrees,51,Multan,MORNING,group D,Male,84.1,76,8000\r",
      "\r\n",
      "MS09,Jamil,53,Karachi,AFT,group C,Male,90.5,81.3,3500\r",
      "\r\n",
      "MS10,Shahid,38,Lahore,AFTERNOON,group D,Male,90.5,81.3,3800\r",
      "\r\n",
      "MS11,Khurram,35,Islamabad,MOR,group B,Male,90.5,81.3,6000\r",
      "\r\n",
      "MS12,Maaz,25,Karachi,AFTERNOON,group C,Male,90.5,81.3,\r",
      "\r\n",
      "MS13,Mujahid,18,Lahore,MORNING,group D,Male,,76.5,7000\r",
      "\r\n",
      "MS14,Sara,28,Multan,AFTERNOON,group A,Female,84.1,76,8000\r",
      "\r\n",
      "MS15,Fatima,33,Sialkot,AFT,group C,Female,90.5,81.3,3500\r",
      "\r\n",
      "MS16,Kakamanna,42,Multan,AFTERNOON,group A,Male,90.5,81.3,3800"
     ]
    }
   ],
   "source": [
    "! cat datasets/groupdatawithoutcollables.csv"
   ]
  },
  {
   "cell_type": "markdown",
   "id": "6a8c8924",
   "metadata": {},
   "source": [
    "### a. While Reading a Dataset in a Dataframe\n",
    "- Pass a List of column names to `names` argument of `pd.read_csv()` method"
   ]
  },
  {
   "cell_type": "code",
   "execution_count": 45,
   "id": "62b72b08",
   "metadata": {},
   "outputs": [
    {
     "data": {
      "text/html": [
       "<div>\n",
       "<style scoped>\n",
       "    .dataframe tbody tr th:only-of-type {\n",
       "        vertical-align: middle;\n",
       "    }\n",
       "\n",
       "    .dataframe tbody tr th {\n",
       "        vertical-align: top;\n",
       "    }\n",
       "\n",
       "    .dataframe thead th {\n",
       "        text-align: right;\n",
       "    }\n",
       "</style>\n",
       "<table border=\"1\" class=\"dataframe\">\n",
       "  <thead>\n",
       "    <tr style=\"text-align: right;\">\n",
       "      <th></th>\n",
       "      <th>roll no</th>\n",
       "      <th>name</th>\n",
       "      <th>age</th>\n",
       "      <th>address</th>\n",
       "      <th>session</th>\n",
       "      <th>group</th>\n",
       "      <th>gender</th>\n",
       "      <th>subj1</th>\n",
       "      <th>subj2</th>\n",
       "      <th>scholarship</th>\n",
       "    </tr>\n",
       "  </thead>\n",
       "  <tbody>\n",
       "    <tr>\n",
       "      <th>0</th>\n",
       "      <td>MS01</td>\n",
       "      <td>Rauf</td>\n",
       "      <td>52</td>\n",
       "      <td>Lahore</td>\n",
       "      <td>MORNING</td>\n",
       "      <td>group C</td>\n",
       "      <td>Male</td>\n",
       "      <td>78.3</td>\n",
       "      <td>84.4</td>\n",
       "      <td>5000.0</td>\n",
       "    </tr>\n",
       "    <tr>\n",
       "      <th>1</th>\n",
       "      <td>MS02</td>\n",
       "      <td>Arif</td>\n",
       "      <td>51</td>\n",
       "      <td>Islamabad</td>\n",
       "      <td>AFT</td>\n",
       "      <td>group A</td>\n",
       "      <td>Male</td>\n",
       "      <td>70.5</td>\n",
       "      <td>60.5</td>\n",
       "      <td>6000.0</td>\n",
       "    </tr>\n",
       "    <tr>\n",
       "      <th>2</th>\n",
       "      <td>MS03</td>\n",
       "      <td>Shaista</td>\n",
       "      <td>35</td>\n",
       "      <td>Karachi</td>\n",
       "      <td>AFTERNOON</td>\n",
       "      <td>group B</td>\n",
       "      <td>Female</td>\n",
       "      <td>64.9</td>\n",
       "      <td>75.1</td>\n",
       "      <td>8500.0</td>\n",
       "    </tr>\n",
       "  </tbody>\n",
       "</table>\n",
       "</div>"
      ],
      "text/plain": [
       "  roll no     name  age    address    session    group  gender  subj1  subj2  \\\n",
       "0    MS01     Rauf   52     Lahore    MORNING  group C    Male   78.3   84.4   \n",
       "1    MS02     Arif   51  Islamabad        AFT  group A    Male   70.5   60.5   \n",
       "2    MS03  Shaista   35    Karachi  AFTERNOON  group B  Female   64.9   75.1   \n",
       "\n",
       "   scholarship  \n",
       "0       5000.0  \n",
       "1       6000.0  \n",
       "2       8500.0  "
      ]
     },
     "execution_count": 45,
     "metadata": {},
     "output_type": "execute_result"
    }
   ],
   "source": [
    "df = pd.read_csv('datasets/groupdatawithoutcollables.csv', names = ['roll no', 'name', 'age', 'address', 'session', \n",
    "                                                                'group', 'gender','subj1', 'subj2', 'scholarship'])\n",
    "\n",
    "df.head(3)"
   ]
  },
  {
   "cell_type": "markdown",
   "id": "b77fcfe7",
   "metadata": {},
   "source": [
    "### b. After Dataframe is Loaded (Use `columns` attribute of dataframe)"
   ]
  },
  {
   "cell_type": "code",
   "execution_count": 46,
   "id": "8523eb8d",
   "metadata": {},
   "outputs": [
    {
     "data": {
      "text/html": [
       "<div>\n",
       "<style scoped>\n",
       "    .dataframe tbody tr th:only-of-type {\n",
       "        vertical-align: middle;\n",
       "    }\n",
       "\n",
       "    .dataframe tbody tr th {\n",
       "        vertical-align: top;\n",
       "    }\n",
       "\n",
       "    .dataframe thead th {\n",
       "        text-align: right;\n",
       "    }\n",
       "</style>\n",
       "<table border=\"1\" class=\"dataframe\">\n",
       "  <thead>\n",
       "    <tr style=\"text-align: right;\">\n",
       "      <th></th>\n",
       "      <th>0</th>\n",
       "      <th>1</th>\n",
       "      <th>2</th>\n",
       "      <th>3</th>\n",
       "      <th>4</th>\n",
       "      <th>5</th>\n",
       "      <th>6</th>\n",
       "      <th>7</th>\n",
       "      <th>8</th>\n",
       "      <th>9</th>\n",
       "    </tr>\n",
       "  </thead>\n",
       "  <tbody>\n",
       "    <tr>\n",
       "      <th>0</th>\n",
       "      <td>MS01</td>\n",
       "      <td>Rauf</td>\n",
       "      <td>52</td>\n",
       "      <td>Lahore</td>\n",
       "      <td>MORNING</td>\n",
       "      <td>group C</td>\n",
       "      <td>Male</td>\n",
       "      <td>78.3</td>\n",
       "      <td>84.4</td>\n",
       "      <td>5000.0</td>\n",
       "    </tr>\n",
       "    <tr>\n",
       "      <th>1</th>\n",
       "      <td>MS02</td>\n",
       "      <td>Arif</td>\n",
       "      <td>51</td>\n",
       "      <td>Islamabad</td>\n",
       "      <td>AFT</td>\n",
       "      <td>group A</td>\n",
       "      <td>Male</td>\n",
       "      <td>70.5</td>\n",
       "      <td>60.5</td>\n",
       "      <td>6000.0</td>\n",
       "    </tr>\n",
       "    <tr>\n",
       "      <th>2</th>\n",
       "      <td>MS03</td>\n",
       "      <td>Shaista</td>\n",
       "      <td>35</td>\n",
       "      <td>Karachi</td>\n",
       "      <td>AFTERNOON</td>\n",
       "      <td>group B</td>\n",
       "      <td>Female</td>\n",
       "      <td>64.9</td>\n",
       "      <td>75.1</td>\n",
       "      <td>8500.0</td>\n",
       "    </tr>\n",
       "  </tbody>\n",
       "</table>\n",
       "</div>"
      ],
      "text/plain": [
       "      0        1   2          3          4        5       6     7     8  \\\n",
       "0  MS01     Rauf  52     Lahore    MORNING  group C    Male  78.3  84.4   \n",
       "1  MS02     Arif  51  Islamabad        AFT  group A    Male  70.5  60.5   \n",
       "2  MS03  Shaista  35    Karachi  AFTERNOON  group B  Female  64.9  75.1   \n",
       "\n",
       "        9  \n",
       "0  5000.0  \n",
       "1  6000.0  \n",
       "2  8500.0  "
      ]
     },
     "execution_count": 46,
     "metadata": {},
     "output_type": "execute_result"
    }
   ],
   "source": [
    "df = pd.read_csv('datasets/groupdatawithoutcollables.csv', header = None)\n",
    "df.head(3)"
   ]
  },
  {
   "cell_type": "code",
   "execution_count": 47,
   "id": "b1f7ec9a",
   "metadata": {},
   "outputs": [
    {
     "data": {
      "text/html": [
       "<div>\n",
       "<style scoped>\n",
       "    .dataframe tbody tr th:only-of-type {\n",
       "        vertical-align: middle;\n",
       "    }\n",
       "\n",
       "    .dataframe tbody tr th {\n",
       "        vertical-align: top;\n",
       "    }\n",
       "\n",
       "    .dataframe thead th {\n",
       "        text-align: right;\n",
       "    }\n",
       "</style>\n",
       "<table border=\"1\" class=\"dataframe\">\n",
       "  <thead>\n",
       "    <tr style=\"text-align: right;\">\n",
       "      <th></th>\n",
       "      <th>roll no</th>\n",
       "      <th>name</th>\n",
       "      <th>age</th>\n",
       "      <th>address</th>\n",
       "      <th>session</th>\n",
       "      <th>group</th>\n",
       "      <th>gender</th>\n",
       "      <th>subj1</th>\n",
       "      <th>subj2</th>\n",
       "      <th>scholarship</th>\n",
       "    </tr>\n",
       "  </thead>\n",
       "  <tbody>\n",
       "    <tr>\n",
       "      <th>0</th>\n",
       "      <td>MS01</td>\n",
       "      <td>Rauf</td>\n",
       "      <td>52</td>\n",
       "      <td>Lahore</td>\n",
       "      <td>MORNING</td>\n",
       "      <td>group C</td>\n",
       "      <td>Male</td>\n",
       "      <td>78.3</td>\n",
       "      <td>84.4</td>\n",
       "      <td>5000.0</td>\n",
       "    </tr>\n",
       "    <tr>\n",
       "      <th>1</th>\n",
       "      <td>MS02</td>\n",
       "      <td>Arif</td>\n",
       "      <td>51</td>\n",
       "      <td>Islamabad</td>\n",
       "      <td>AFT</td>\n",
       "      <td>group A</td>\n",
       "      <td>Male</td>\n",
       "      <td>70.5</td>\n",
       "      <td>60.5</td>\n",
       "      <td>6000.0</td>\n",
       "    </tr>\n",
       "    <tr>\n",
       "      <th>2</th>\n",
       "      <td>MS03</td>\n",
       "      <td>Shaista</td>\n",
       "      <td>35</td>\n",
       "      <td>Karachi</td>\n",
       "      <td>AFTERNOON</td>\n",
       "      <td>group B</td>\n",
       "      <td>Female</td>\n",
       "      <td>64.9</td>\n",
       "      <td>75.1</td>\n",
       "      <td>8500.0</td>\n",
       "    </tr>\n",
       "  </tbody>\n",
       "</table>\n",
       "</div>"
      ],
      "text/plain": [
       "  roll no     name  age    address    session    group  gender  subj1  subj2  \\\n",
       "0    MS01     Rauf   52     Lahore    MORNING  group C    Male   78.3   84.4   \n",
       "1    MS02     Arif   51  Islamabad        AFT  group A    Male   70.5   60.5   \n",
       "2    MS03  Shaista   35    Karachi  AFTERNOON  group B  Female   64.9   75.1   \n",
       "\n",
       "   scholarship  \n",
       "0       5000.0  \n",
       "1       6000.0  \n",
       "2       8500.0  "
      ]
     },
     "execution_count": 47,
     "metadata": {},
     "output_type": "execute_result"
    }
   ],
   "source": [
    "df.columns = ['roll no', 'name', 'age', 'address', 'session', 'group', 'gender', 'subj1', 'subj2', 'scholarship']\n",
    "df.head(3)"
   ]
  },
  {
   "cell_type": "markdown",
   "id": "245f0d9f",
   "metadata": {},
   "source": [
    ">- Suppose we have a dataframe in which there are certain column labels having spaces in between the names.\n",
    ">- We want to rename all such columns by replacing the space character with an underscore\n",
    ">- One way to do this is call `replace()` method of String class on all the column names of dataframe"
   ]
  },
  {
   "cell_type": "code",
   "execution_count": 48,
   "id": "607b9dd0",
   "metadata": {},
   "outputs": [
    {
     "data": {
      "text/plain": [
       "Index(['roll_no', 'name', 'age', 'address', 'session', 'group', 'gender',\n",
       "       'subj1', 'subj2', 'scholarship'],\n",
       "      dtype='object')"
      ]
     },
     "execution_count": 48,
     "metadata": {},
     "output_type": "execute_result"
    }
   ],
   "source": [
    "df.columns.str.replace(' ', '_')"
   ]
  },
  {
   "cell_type": "code",
   "execution_count": 49,
   "id": "8fbbf61f",
   "metadata": {},
   "outputs": [],
   "source": [
    "df.columns = df.columns.str.replace(' ', '_')"
   ]
  },
  {
   "cell_type": "code",
   "execution_count": 50,
   "id": "7e2929b0",
   "metadata": {},
   "outputs": [
    {
     "data": {
      "text/plain": [
       "Index(['roll_no', 'name', 'age', 'address', 'session', 'group', 'gender',\n",
       "       'subj1', 'subj2', 'scholarship'],\n",
       "      dtype='object')"
      ]
     },
     "execution_count": 50,
     "metadata": {},
     "output_type": "execute_result"
    }
   ],
   "source": [
    "df.columns"
   ]
  },
  {
   "cell_type": "markdown",
   "id": "c7fc9bde",
   "metadata": {},
   "source": [
    ">- Suppose we have a dataframe in which there are column labels having names in different cases.\n",
    ">- We want to rename all such columns such that the names are all lower or all upper case.\n",
    ">- One way to do this is to generate a new list as per the requirement using List comprehension."
   ]
  },
  {
   "cell_type": "code",
   "execution_count": 51,
   "id": "fcd1431a",
   "metadata": {},
   "outputs": [
    {
     "data": {
      "text/plain": [
       "['ROLL_NO',\n",
       " 'NAME',\n",
       " 'AGE',\n",
       " 'ADDRESS',\n",
       " 'SESSION',\n",
       " 'GROUP',\n",
       " 'GENDER',\n",
       " 'SUBJ1',\n",
       " 'SUBJ2',\n",
       " 'SCHOLARSHIP']"
      ]
     },
     "execution_count": 51,
     "metadata": {},
     "output_type": "execute_result"
    }
   ],
   "source": [
    "list1 = [x.upper() for x in df.columns]\n",
    "list1"
   ]
  },
  {
   "cell_type": "code",
   "execution_count": 52,
   "id": "92b2e1a3",
   "metadata": {},
   "outputs": [
    {
     "data": {
      "text/html": [
       "<div>\n",
       "<style scoped>\n",
       "    .dataframe tbody tr th:only-of-type {\n",
       "        vertical-align: middle;\n",
       "    }\n",
       "\n",
       "    .dataframe tbody tr th {\n",
       "        vertical-align: top;\n",
       "    }\n",
       "\n",
       "    .dataframe thead th {\n",
       "        text-align: right;\n",
       "    }\n",
       "</style>\n",
       "<table border=\"1\" class=\"dataframe\">\n",
       "  <thead>\n",
       "    <tr style=\"text-align: right;\">\n",
       "      <th></th>\n",
       "      <th>ROLL_NO</th>\n",
       "      <th>NAME</th>\n",
       "      <th>AGE</th>\n",
       "      <th>ADDRESS</th>\n",
       "      <th>SESSION</th>\n",
       "      <th>GROUP</th>\n",
       "      <th>GENDER</th>\n",
       "      <th>SUBJ1</th>\n",
       "      <th>SUBJ2</th>\n",
       "      <th>SCHOLARSHIP</th>\n",
       "    </tr>\n",
       "  </thead>\n",
       "  <tbody>\n",
       "    <tr>\n",
       "      <th>0</th>\n",
       "      <td>MS01</td>\n",
       "      <td>Rauf</td>\n",
       "      <td>52</td>\n",
       "      <td>Lahore</td>\n",
       "      <td>MORNING</td>\n",
       "      <td>group C</td>\n",
       "      <td>Male</td>\n",
       "      <td>78.3</td>\n",
       "      <td>84.4</td>\n",
       "      <td>5000.0</td>\n",
       "    </tr>\n",
       "    <tr>\n",
       "      <th>1</th>\n",
       "      <td>MS02</td>\n",
       "      <td>Arif</td>\n",
       "      <td>51</td>\n",
       "      <td>Islamabad</td>\n",
       "      <td>AFT</td>\n",
       "      <td>group A</td>\n",
       "      <td>Male</td>\n",
       "      <td>70.5</td>\n",
       "      <td>60.5</td>\n",
       "      <td>6000.0</td>\n",
       "    </tr>\n",
       "    <tr>\n",
       "      <th>2</th>\n",
       "      <td>MS03</td>\n",
       "      <td>Shaista</td>\n",
       "      <td>35</td>\n",
       "      <td>Karachi</td>\n",
       "      <td>AFTERNOON</td>\n",
       "      <td>group B</td>\n",
       "      <td>Female</td>\n",
       "      <td>64.9</td>\n",
       "      <td>75.1</td>\n",
       "      <td>8500.0</td>\n",
       "    </tr>\n",
       "  </tbody>\n",
       "</table>\n",
       "</div>"
      ],
      "text/plain": [
       "  ROLL_NO     NAME  AGE    ADDRESS    SESSION    GROUP  GENDER  SUBJ1  SUBJ2  \\\n",
       "0    MS01     Rauf   52     Lahore    MORNING  group C    Male   78.3   84.4   \n",
       "1    MS02     Arif   51  Islamabad        AFT  group A    Male   70.5   60.5   \n",
       "2    MS03  Shaista   35    Karachi  AFTERNOON  group B  Female   64.9   75.1   \n",
       "\n",
       "   SCHOLARSHIP  \n",
       "0       5000.0  \n",
       "1       6000.0  \n",
       "2       8500.0  "
      ]
     },
     "execution_count": 52,
     "metadata": {},
     "output_type": "execute_result"
    }
   ],
   "source": [
    "df.columns = list1\n",
    "df.head(3)"
   ]
  },
  {
   "cell_type": "markdown",
   "id": "d5e388c9",
   "metadata": {},
   "source": [
    "### c. After Dataframe is Loaded (Use `df.rename()` method)\n",
    "- What if your dataframe has lots and lots of columns having appropriate column names, and you just want to change just one or two column names and not all of them.\n",
    "- Use `df.rename()` method to modify one or more column names to new one\n",
    "```\n",
    "df.rename(mapper, axis=None, inplace=False)\n",
    "```\n",
    "- Where,\n",
    "    - `mapper`: can be a dictionary having comma separated key:value pairs, where, key is the old column name, while the value is the new column name\n",
    "    - `axis`: If you want to change the column names use axis = 1 (column axis that moves from left to right)\n",
    "    - `inplace`: If you want this change to occur inplace make this argument True, in which case the method will return None"
   ]
  },
  {
   "cell_type": "code",
   "execution_count": 68,
   "id": "01c9b321",
   "metadata": {},
   "outputs": [
    {
     "data": {
      "text/html": [
       "<div>\n",
       "<style scoped>\n",
       "    .dataframe tbody tr th:only-of-type {\n",
       "        vertical-align: middle;\n",
       "    }\n",
       "\n",
       "    .dataframe tbody tr th {\n",
       "        vertical-align: top;\n",
       "    }\n",
       "\n",
       "    .dataframe thead th {\n",
       "        text-align: right;\n",
       "    }\n",
       "</style>\n",
       "<table border=\"1\" class=\"dataframe\">\n",
       "  <thead>\n",
       "    <tr style=\"text-align: right;\">\n",
       "      <th></th>\n",
       "      <th>roll no</th>\n",
       "      <th>name</th>\n",
       "      <th>age</th>\n",
       "      <th>address</th>\n",
       "      <th>session</th>\n",
       "      <th>group</th>\n",
       "      <th>gender</th>\n",
       "      <th>subj1</th>\n",
       "      <th>subj2</th>\n",
       "      <th>scholarship</th>\n",
       "    </tr>\n",
       "  </thead>\n",
       "  <tbody>\n",
       "    <tr>\n",
       "      <th>0</th>\n",
       "      <td>MS01</td>\n",
       "      <td>Rauf</td>\n",
       "      <td>52</td>\n",
       "      <td>Lahore</td>\n",
       "      <td>MORNING</td>\n",
       "      <td>group C</td>\n",
       "      <td>Male</td>\n",
       "      <td>78.3</td>\n",
       "      <td>84.4</td>\n",
       "      <td>5000.0</td>\n",
       "    </tr>\n",
       "    <tr>\n",
       "      <th>1</th>\n",
       "      <td>MS02</td>\n",
       "      <td>Arif</td>\n",
       "      <td>51</td>\n",
       "      <td>Islamabad</td>\n",
       "      <td>AFT</td>\n",
       "      <td>group A</td>\n",
       "      <td>Male</td>\n",
       "      <td>70.5</td>\n",
       "      <td>60.5</td>\n",
       "      <td>6000.0</td>\n",
       "    </tr>\n",
       "    <tr>\n",
       "      <th>2</th>\n",
       "      <td>MS03</td>\n",
       "      <td>Shaista</td>\n",
       "      <td>35</td>\n",
       "      <td>Karachi</td>\n",
       "      <td>AFTERNOON</td>\n",
       "      <td>group B</td>\n",
       "      <td>Female</td>\n",
       "      <td>64.9</td>\n",
       "      <td>75.1</td>\n",
       "      <td>8500.0</td>\n",
       "    </tr>\n",
       "  </tbody>\n",
       "</table>\n",
       "</div>"
      ],
      "text/plain": [
       "  roll no     name  age    address    session    group  gender  subj1  subj2  \\\n",
       "0    MS01     Rauf   52     Lahore    MORNING  group C    Male   78.3   84.4   \n",
       "1    MS02     Arif   51  Islamabad        AFT  group A    Male   70.5   60.5   \n",
       "2    MS03  Shaista   35    Karachi  AFTERNOON  group B  Female   64.9   75.1   \n",
       "\n",
       "   scholarship  \n",
       "0       5000.0  \n",
       "1       6000.0  \n",
       "2       8500.0  "
      ]
     },
     "execution_count": 68,
     "metadata": {},
     "output_type": "execute_result"
    }
   ],
   "source": [
    "df = pd.read_csv('datasets/groupdata.csv')\n",
    "df.head(3)"
   ]
  },
  {
   "cell_type": "code",
   "execution_count": 65,
   "id": "b8e0a405",
   "metadata": {},
   "outputs": [
    {
     "data": {
      "text/html": [
       "<div>\n",
       "<style scoped>\n",
       "    .dataframe tbody tr th:only-of-type {\n",
       "        vertical-align: middle;\n",
       "    }\n",
       "\n",
       "    .dataframe tbody tr th {\n",
       "        vertical-align: top;\n",
       "    }\n",
       "\n",
       "    .dataframe thead th {\n",
       "        text-align: right;\n",
       "    }\n",
       "</style>\n",
       "<table border=\"1\" class=\"dataframe\">\n",
       "  <thead>\n",
       "    <tr style=\"text-align: right;\">\n",
       "      <th></th>\n",
       "      <th>rollno</th>\n",
       "      <th>name</th>\n",
       "      <th>age</th>\n",
       "      <th>address</th>\n",
       "      <th>session</th>\n",
       "      <th>group</th>\n",
       "      <th>gender</th>\n",
       "      <th>subj1</th>\n",
       "      <th>subj2</th>\n",
       "      <th>scholarship</th>\n",
       "    </tr>\n",
       "  </thead>\n",
       "  <tbody>\n",
       "    <tr>\n",
       "      <th>0</th>\n",
       "      <td>MS01</td>\n",
       "      <td>Rauf</td>\n",
       "      <td>52</td>\n",
       "      <td>Lahore</td>\n",
       "      <td>MORNING</td>\n",
       "      <td>group C</td>\n",
       "      <td>Male</td>\n",
       "      <td>78.3</td>\n",
       "      <td>84.4</td>\n",
       "      <td>5000.0</td>\n",
       "    </tr>\n",
       "    <tr>\n",
       "      <th>1</th>\n",
       "      <td>MS02</td>\n",
       "      <td>Arif</td>\n",
       "      <td>51</td>\n",
       "      <td>Islamabad</td>\n",
       "      <td>AFT</td>\n",
       "      <td>group A</td>\n",
       "      <td>Male</td>\n",
       "      <td>70.5</td>\n",
       "      <td>60.5</td>\n",
       "      <td>6000.0</td>\n",
       "    </tr>\n",
       "    <tr>\n",
       "      <th>2</th>\n",
       "      <td>MS03</td>\n",
       "      <td>Shaista</td>\n",
       "      <td>35</td>\n",
       "      <td>Karachi</td>\n",
       "      <td>AFTERNOON</td>\n",
       "      <td>group B</td>\n",
       "      <td>Female</td>\n",
       "      <td>64.9</td>\n",
       "      <td>75.1</td>\n",
       "      <td>8500.0</td>\n",
       "    </tr>\n",
       "    <tr>\n",
       "      <th>3</th>\n",
       "      <td>MS04</td>\n",
       "      <td>Hadeed</td>\n",
       "      <td>20</td>\n",
       "      <td>Lahore</td>\n",
       "      <td>MOR</td>\n",
       "      <td>group A</td>\n",
       "      <td>Male</td>\n",
       "      <td>82.0</td>\n",
       "      <td>84.3</td>\n",
       "      <td>4000.0</td>\n",
       "    </tr>\n",
       "    <tr>\n",
       "      <th>4</th>\n",
       "      <td>MS05</td>\n",
       "      <td>Zara</td>\n",
       "      <td>40</td>\n",
       "      <td>Peshawer</td>\n",
       "      <td>AFT</td>\n",
       "      <td>group D</td>\n",
       "      <td>Female</td>\n",
       "      <td>65.9</td>\n",
       "      <td>72.8</td>\n",
       "      <td>3500.0</td>\n",
       "    </tr>\n",
       "    <tr>\n",
       "      <th>5</th>\n",
       "      <td>MS06</td>\n",
       "      <td>Mohid</td>\n",
       "      <td>16</td>\n",
       "      <td>Lahore</td>\n",
       "      <td>MORNING</td>\n",
       "      <td>group C</td>\n",
       "      <td>Female</td>\n",
       "      <td>69.3</td>\n",
       "      <td>78.6</td>\n",
       "      <td>NaN</td>\n",
       "    </tr>\n",
       "    <tr>\n",
       "      <th>6</th>\n",
       "      <td>MS07</td>\n",
       "      <td>Zobia</td>\n",
       "      <td>40</td>\n",
       "      <td>Sialkot</td>\n",
       "      <td>AFT</td>\n",
       "      <td>group B</td>\n",
       "      <td>Female</td>\n",
       "      <td>90.2</td>\n",
       "      <td>NaN</td>\n",
       "      <td>4000.0</td>\n",
       "    </tr>\n",
       "    <tr>\n",
       "      <th>7</th>\n",
       "      <td>MS08</td>\n",
       "      <td>Idrees</td>\n",
       "      <td>51</td>\n",
       "      <td>Multan</td>\n",
       "      <td>MORNING</td>\n",
       "      <td>group D</td>\n",
       "      <td>Male</td>\n",
       "      <td>84.1</td>\n",
       "      <td>76.0</td>\n",
       "      <td>8000.0</td>\n",
       "    </tr>\n",
       "    <tr>\n",
       "      <th>8</th>\n",
       "      <td>MS09</td>\n",
       "      <td>Jamil</td>\n",
       "      <td>53</td>\n",
       "      <td>Karachi</td>\n",
       "      <td>AFT</td>\n",
       "      <td>group C</td>\n",
       "      <td>Male</td>\n",
       "      <td>90.5</td>\n",
       "      <td>81.3</td>\n",
       "      <td>3500.0</td>\n",
       "    </tr>\n",
       "    <tr>\n",
       "      <th>9</th>\n",
       "      <td>MS10</td>\n",
       "      <td>Shahid</td>\n",
       "      <td>38</td>\n",
       "      <td>Lahore</td>\n",
       "      <td>AFTERNOON</td>\n",
       "      <td>group D</td>\n",
       "      <td>Male</td>\n",
       "      <td>90.5</td>\n",
       "      <td>81.3</td>\n",
       "      <td>3800.0</td>\n",
       "    </tr>\n",
       "    <tr>\n",
       "      <th>10</th>\n",
       "      <td>MS11</td>\n",
       "      <td>Khurram</td>\n",
       "      <td>35</td>\n",
       "      <td>Islamabad</td>\n",
       "      <td>MOR</td>\n",
       "      <td>group B</td>\n",
       "      <td>Male</td>\n",
       "      <td>90.5</td>\n",
       "      <td>81.3</td>\n",
       "      <td>6000.0</td>\n",
       "    </tr>\n",
       "    <tr>\n",
       "      <th>11</th>\n",
       "      <td>MS12</td>\n",
       "      <td>Maaz</td>\n",
       "      <td>25</td>\n",
       "      <td>Karachi</td>\n",
       "      <td>AFTERNOON</td>\n",
       "      <td>group C</td>\n",
       "      <td>Male</td>\n",
       "      <td>90.5</td>\n",
       "      <td>81.3</td>\n",
       "      <td>NaN</td>\n",
       "    </tr>\n",
       "    <tr>\n",
       "      <th>12</th>\n",
       "      <td>MS13</td>\n",
       "      <td>Mujahid</td>\n",
       "      <td>18</td>\n",
       "      <td>Lahore</td>\n",
       "      <td>MORNING</td>\n",
       "      <td>group D</td>\n",
       "      <td>Male</td>\n",
       "      <td>NaN</td>\n",
       "      <td>76.5</td>\n",
       "      <td>7000.0</td>\n",
       "    </tr>\n",
       "    <tr>\n",
       "      <th>13</th>\n",
       "      <td>MS14</td>\n",
       "      <td>Sara</td>\n",
       "      <td>28</td>\n",
       "      <td>Multan</td>\n",
       "      <td>AFTERNOON</td>\n",
       "      <td>group A</td>\n",
       "      <td>Female</td>\n",
       "      <td>84.1</td>\n",
       "      <td>76.0</td>\n",
       "      <td>8000.0</td>\n",
       "    </tr>\n",
       "    <tr>\n",
       "      <th>14</th>\n",
       "      <td>MS15</td>\n",
       "      <td>Fatima</td>\n",
       "      <td>33</td>\n",
       "      <td>Sialkot</td>\n",
       "      <td>AFT</td>\n",
       "      <td>group C</td>\n",
       "      <td>Female</td>\n",
       "      <td>90.5</td>\n",
       "      <td>81.3</td>\n",
       "      <td>3500.0</td>\n",
       "    </tr>\n",
       "    <tr>\n",
       "      <th>15</th>\n",
       "      <td>MS16</td>\n",
       "      <td>Kakamanna</td>\n",
       "      <td>42</td>\n",
       "      <td>Multan</td>\n",
       "      <td>AFTERNOON</td>\n",
       "      <td>group A</td>\n",
       "      <td>Male</td>\n",
       "      <td>90.5</td>\n",
       "      <td>81.3</td>\n",
       "      <td>3800.0</td>\n",
       "    </tr>\n",
       "  </tbody>\n",
       "</table>\n",
       "</div>"
      ],
      "text/plain": [
       "   rollno       name  age    address    session    group  gender  subj1  \\\n",
       "0    MS01       Rauf   52     Lahore    MORNING  group C    Male   78.3   \n",
       "1    MS02       Arif   51  Islamabad        AFT  group A    Male   70.5   \n",
       "2    MS03    Shaista   35    Karachi  AFTERNOON  group B  Female   64.9   \n",
       "3    MS04     Hadeed   20     Lahore        MOR  group A    Male   82.0   \n",
       "4    MS05       Zara   40   Peshawer        AFT  group D  Female   65.9   \n",
       "5    MS06      Mohid   16     Lahore    MORNING  group C  Female   69.3   \n",
       "6    MS07      Zobia   40    Sialkot        AFT  group B  Female   90.2   \n",
       "7    MS08     Idrees   51     Multan    MORNING  group D    Male   84.1   \n",
       "8    MS09      Jamil   53    Karachi        AFT  group C    Male   90.5   \n",
       "9    MS10     Shahid   38     Lahore  AFTERNOON  group D    Male   90.5   \n",
       "10   MS11    Khurram   35  Islamabad        MOR  group B    Male   90.5   \n",
       "11   MS12       Maaz   25    Karachi  AFTERNOON  group C    Male   90.5   \n",
       "12   MS13    Mujahid   18     Lahore    MORNING  group D    Male    NaN   \n",
       "13   MS14       Sara   28     Multan  AFTERNOON  group A  Female   84.1   \n",
       "14   MS15     Fatima   33    Sialkot        AFT  group C  Female   90.5   \n",
       "15   MS16  Kakamanna   42     Multan  AFTERNOON  group A    Male   90.5   \n",
       "\n",
       "    subj2  scholarship  \n",
       "0    84.4       5000.0  \n",
       "1    60.5       6000.0  \n",
       "2    75.1       8500.0  \n",
       "3    84.3       4000.0  \n",
       "4    72.8       3500.0  \n",
       "5    78.6          NaN  \n",
       "6     NaN       4000.0  \n",
       "7    76.0       8000.0  \n",
       "8    81.3       3500.0  \n",
       "9    81.3       3800.0  \n",
       "10   81.3       6000.0  \n",
       "11   81.3          NaN  \n",
       "12   76.5       7000.0  \n",
       "13   76.0       8000.0  \n",
       "14   81.3       3500.0  \n",
       "15   81.3       3800.0  "
      ]
     },
     "execution_count": 65,
     "metadata": {},
     "output_type": "execute_result"
    }
   ],
   "source": [
    "#Since the inplace argument is by default False, so the rename() method will return a new dataframe\n",
    "df.rename(mapper={'roll no': 'rollno'}, axis=1)"
   ]
  },
  {
   "cell_type": "code",
   "execution_count": 58,
   "id": "9e64955e",
   "metadata": {},
   "outputs": [
    {
     "data": {
      "text/plain": [
       "Index(['roll no', 'name', 'age', 'address', 'session', 'group', 'gender',\n",
       "       'subj1', 'subj2', 'scholarship'],\n",
       "      dtype='object')"
      ]
     },
     "execution_count": 58,
     "metadata": {},
     "output_type": "execute_result"
    }
   ],
   "source": [
    "df.columns"
   ]
  },
  {
   "cell_type": "code",
   "execution_count": 69,
   "id": "68b1215a",
   "metadata": {},
   "outputs": [],
   "source": [
    "#Since the inplace argument is now set to True, so the rename() method will return None\n",
    "#however, the `df` will be changed\n",
    "df.rename(mapper={'roll no': 'rollno'}, axis=1, inplace=True)"
   ]
  },
  {
   "cell_type": "code",
   "execution_count": 70,
   "id": "d517045f",
   "metadata": {},
   "outputs": [
    {
     "data": {
      "text/plain": [
       "Index(['rollno', 'name', 'age', 'address', 'session', 'group', 'gender',\n",
       "       'subj1', 'subj2', 'scholarship'],\n",
       "      dtype='object')"
      ]
     },
     "execution_count": 70,
     "metadata": {},
     "output_type": "execute_result"
    }
   ],
   "source": [
    "df.columns"
   ]
  },
  {
   "cell_type": "code",
   "execution_count": null,
   "id": "acdca369",
   "metadata": {},
   "outputs": [],
   "source": []
  },
  {
   "cell_type": "markdown",
   "id": "ca6f31e3",
   "metadata": {},
   "source": [
    "## 2. Modifying Row Indices of a Dataframe\n",
    "- Every dataframe has row index associated with every row, normally are integer values from 0,1,2,3...\n",
    "- After you have sliced a datafreame on a condition or sorted a dataframe, these row indices will be randomized.\n",
    "- We have seen in detail in our previous session the two methods namely `df.set_index()` and `df.reset_index()`, to handle this issue."
   ]
  },
  {
   "cell_type": "code",
   "execution_count": null,
   "id": "2cf5b5d7",
   "metadata": {},
   "outputs": [],
   "source": []
  },
  {
   "cell_type": "markdown",
   "id": "0d66a0b7",
   "metadata": {},
   "source": [
    "## 3. Modifying Row(s) Data (Records) of a Dataframe"
   ]
  },
  {
   "cell_type": "markdown",
   "id": "b531d773",
   "metadata": {},
   "source": [
    "### a. Modify Data of a Single Row"
   ]
  },
  {
   "cell_type": "code",
   "execution_count": 117,
   "id": "8b374f27",
   "metadata": {},
   "outputs": [
    {
     "data": {
      "text/html": [
       "<div>\n",
       "<style scoped>\n",
       "    .dataframe tbody tr th:only-of-type {\n",
       "        vertical-align: middle;\n",
       "    }\n",
       "\n",
       "    .dataframe tbody tr th {\n",
       "        vertical-align: top;\n",
       "    }\n",
       "\n",
       "    .dataframe thead th {\n",
       "        text-align: right;\n",
       "    }\n",
       "</style>\n",
       "<table border=\"1\" class=\"dataframe\">\n",
       "  <thead>\n",
       "    <tr style=\"text-align: right;\">\n",
       "      <th></th>\n",
       "      <th>roll no</th>\n",
       "      <th>name</th>\n",
       "      <th>age</th>\n",
       "      <th>address</th>\n",
       "      <th>session</th>\n",
       "      <th>group</th>\n",
       "      <th>gender</th>\n",
       "      <th>subj1</th>\n",
       "      <th>subj2</th>\n",
       "      <th>scholarship</th>\n",
       "    </tr>\n",
       "  </thead>\n",
       "  <tbody>\n",
       "    <tr>\n",
       "      <th>0</th>\n",
       "      <td>MS01</td>\n",
       "      <td>Rauf</td>\n",
       "      <td>52</td>\n",
       "      <td>Lahore</td>\n",
       "      <td>MORNING</td>\n",
       "      <td>group C</td>\n",
       "      <td>Male</td>\n",
       "      <td>78.3</td>\n",
       "      <td>84.4</td>\n",
       "      <td>5000.0</td>\n",
       "    </tr>\n",
       "    <tr>\n",
       "      <th>1</th>\n",
       "      <td>MS02</td>\n",
       "      <td>Arif</td>\n",
       "      <td>51</td>\n",
       "      <td>Islamabad</td>\n",
       "      <td>AFT</td>\n",
       "      <td>group A</td>\n",
       "      <td>Male</td>\n",
       "      <td>70.5</td>\n",
       "      <td>60.5</td>\n",
       "      <td>6000.0</td>\n",
       "    </tr>\n",
       "    <tr>\n",
       "      <th>2</th>\n",
       "      <td>MS03</td>\n",
       "      <td>Shaista</td>\n",
       "      <td>35</td>\n",
       "      <td>Karachi</td>\n",
       "      <td>AFTERNOON</td>\n",
       "      <td>group B</td>\n",
       "      <td>Female</td>\n",
       "      <td>64.9</td>\n",
       "      <td>75.1</td>\n",
       "      <td>8500.0</td>\n",
       "    </tr>\n",
       "  </tbody>\n",
       "</table>\n",
       "</div>"
      ],
      "text/plain": [
       "  roll no     name  age    address    session    group  gender  subj1  subj2  \\\n",
       "0    MS01     Rauf   52     Lahore    MORNING  group C    Male   78.3   84.4   \n",
       "1    MS02     Arif   51  Islamabad        AFT  group A    Male   70.5   60.5   \n",
       "2    MS03  Shaista   35    Karachi  AFTERNOON  group B  Female   64.9   75.1   \n",
       "\n",
       "   scholarship  \n",
       "0       5000.0  \n",
       "1       6000.0  \n",
       "2       8500.0  "
      ]
     },
     "execution_count": 117,
     "metadata": {},
     "output_type": "execute_result"
    }
   ],
   "source": [
    "df = pd.read_csv('datasets/groupdata.csv')\n",
    "df.head(3)"
   ]
  },
  {
   "cell_type": "markdown",
   "id": "c580899d",
   "metadata": {},
   "source": [
    ">Let us suppose we want to change the `subj1` and `subj2` marks of Shaista"
   ]
  },
  {
   "cell_type": "code",
   "execution_count": 118,
   "id": "4437b197",
   "metadata": {},
   "outputs": [
    {
     "data": {
      "text/plain": [
       "roll no             MS03\n",
       "name             Shaista\n",
       "age                   35\n",
       "address          Karachi\n",
       "session        AFTERNOON\n",
       "group            group B\n",
       "gender            Female\n",
       "subj1               64.9\n",
       "subj2               75.1\n",
       "scholarship       8500.0\n",
       "Name: 2, dtype: object"
      ]
     },
     "execution_count": 118,
     "metadata": {},
     "output_type": "execute_result"
    }
   ],
   "source": [
    "df.loc[2,:]"
   ]
  },
  {
   "cell_type": "code",
   "execution_count": 119,
   "id": "f80d1c9e",
   "metadata": {},
   "outputs": [
    {
     "data": {
      "text/html": [
       "<div>\n",
       "<style scoped>\n",
       "    .dataframe tbody tr th:only-of-type {\n",
       "        vertical-align: middle;\n",
       "    }\n",
       "\n",
       "    .dataframe tbody tr th {\n",
       "        vertical-align: top;\n",
       "    }\n",
       "\n",
       "    .dataframe thead th {\n",
       "        text-align: right;\n",
       "    }\n",
       "</style>\n",
       "<table border=\"1\" class=\"dataframe\">\n",
       "  <thead>\n",
       "    <tr style=\"text-align: right;\">\n",
       "      <th></th>\n",
       "      <th>roll no</th>\n",
       "      <th>name</th>\n",
       "      <th>age</th>\n",
       "      <th>address</th>\n",
       "      <th>session</th>\n",
       "      <th>group</th>\n",
       "      <th>gender</th>\n",
       "      <th>subj1</th>\n",
       "      <th>subj2</th>\n",
       "      <th>scholarship</th>\n",
       "    </tr>\n",
       "  </thead>\n",
       "  <tbody>\n",
       "    <tr>\n",
       "      <th>2</th>\n",
       "      <td>MS03</td>\n",
       "      <td>Shaista</td>\n",
       "      <td>35</td>\n",
       "      <td>Karachi</td>\n",
       "      <td>AFTERNOON</td>\n",
       "      <td>group B</td>\n",
       "      <td>Female</td>\n",
       "      <td>64.9</td>\n",
       "      <td>75.1</td>\n",
       "      <td>8500.0</td>\n",
       "    </tr>\n",
       "  </tbody>\n",
       "</table>\n",
       "</div>"
      ],
      "text/plain": [
       "  roll no     name  age  address    session    group  gender  subj1  subj2  \\\n",
       "2    MS03  Shaista   35  Karachi  AFTERNOON  group B  Female   64.9   75.1   \n",
       "\n",
       "   scholarship  \n",
       "2       8500.0  "
      ]
     },
     "execution_count": 119,
     "metadata": {},
     "output_type": "execute_result"
    }
   ],
   "source": [
    "df.loc[df.name=='Shaista', :]"
   ]
  },
  {
   "cell_type": "code",
   "execution_count": null,
   "id": "b1ffbdf9",
   "metadata": {},
   "outputs": [],
   "source": []
  },
  {
   "cell_type": "markdown",
   "id": "0b457b3b",
   "metadata": {},
   "source": [
    "**Option 1:** One way is to pass a new list of values for all the columns and assign it to the appropriate series"
   ]
  },
  {
   "cell_type": "code",
   "execution_count": 120,
   "id": "8ffa376a",
   "metadata": {},
   "outputs": [
    {
     "data": {
      "text/html": [
       "<div>\n",
       "<style scoped>\n",
       "    .dataframe tbody tr th:only-of-type {\n",
       "        vertical-align: middle;\n",
       "    }\n",
       "\n",
       "    .dataframe tbody tr th {\n",
       "        vertical-align: top;\n",
       "    }\n",
       "\n",
       "    .dataframe thead th {\n",
       "        text-align: right;\n",
       "    }\n",
       "</style>\n",
       "<table border=\"1\" class=\"dataframe\">\n",
       "  <thead>\n",
       "    <tr style=\"text-align: right;\">\n",
       "      <th></th>\n",
       "      <th>roll no</th>\n",
       "      <th>name</th>\n",
       "      <th>age</th>\n",
       "      <th>address</th>\n",
       "      <th>session</th>\n",
       "      <th>group</th>\n",
       "      <th>gender</th>\n",
       "      <th>subj1</th>\n",
       "      <th>subj2</th>\n",
       "      <th>scholarship</th>\n",
       "    </tr>\n",
       "  </thead>\n",
       "  <tbody>\n",
       "    <tr>\n",
       "      <th>0</th>\n",
       "      <td>MS01</td>\n",
       "      <td>Rauf</td>\n",
       "      <td>52</td>\n",
       "      <td>Lahore</td>\n",
       "      <td>MORNING</td>\n",
       "      <td>group C</td>\n",
       "      <td>Male</td>\n",
       "      <td>78.3</td>\n",
       "      <td>84.4</td>\n",
       "      <td>5000.0</td>\n",
       "    </tr>\n",
       "    <tr>\n",
       "      <th>1</th>\n",
       "      <td>MS02</td>\n",
       "      <td>Arif</td>\n",
       "      <td>51</td>\n",
       "      <td>Islamabad</td>\n",
       "      <td>AFT</td>\n",
       "      <td>group A</td>\n",
       "      <td>Male</td>\n",
       "      <td>70.5</td>\n",
       "      <td>60.5</td>\n",
       "      <td>6000.0</td>\n",
       "    </tr>\n",
       "    <tr>\n",
       "      <th>2</th>\n",
       "      <td>MS03</td>\n",
       "      <td>Shaista</td>\n",
       "      <td>35</td>\n",
       "      <td>Karachi</td>\n",
       "      <td>AFTERNOON</td>\n",
       "      <td>group B</td>\n",
       "      <td>Female</td>\n",
       "      <td>9.0</td>\n",
       "      <td>99.0</td>\n",
       "      <td>8500.0</td>\n",
       "    </tr>\n",
       "  </tbody>\n",
       "</table>\n",
       "</div>"
      ],
      "text/plain": [
       "  roll no     name  age    address    session    group  gender  subj1  subj2  \\\n",
       "0    MS01     Rauf   52     Lahore    MORNING  group C    Male   78.3   84.4   \n",
       "1    MS02     Arif   51  Islamabad        AFT  group A    Male   70.5   60.5   \n",
       "2    MS03  Shaista   35    Karachi  AFTERNOON  group B  Female    9.0   99.0   \n",
       "\n",
       "   scholarship  \n",
       "0       5000.0  \n",
       "1       6000.0  \n",
       "2       8500.0  "
      ]
     },
     "execution_count": 120,
     "metadata": {},
     "output_type": "execute_result"
    }
   ],
   "source": [
    "# Any of the following two LOC will work\n",
    "df.loc[df.name=='Shaista', :] = ['MS03', 'Shaista', 35, 'Karachi', 'AFTERNOON', 'group B', 'Female', 9, 99, 8500.0]\n",
    "df.loc[2,:] = ['MS03', 'Shaista', 35, 'Karachi', 'AFTERNOON', 'group B', 'Female', 9, 99, 8500.0]\n",
    "df.head(3)"
   ]
  },
  {
   "cell_type": "code",
   "execution_count": null,
   "id": "63ad2084",
   "metadata": {},
   "outputs": [],
   "source": []
  },
  {
   "cell_type": "markdown",
   "id": "da44dcc2",
   "metadata": {},
   "source": [
    "**Option 2:** A better way is to assign only those two values that we want to change instead of assigning the complete list of values in that row"
   ]
  },
  {
   "cell_type": "code",
   "execution_count": 121,
   "id": "578eb3ae",
   "metadata": {},
   "outputs": [
    {
     "data": {
      "text/plain": [
       "subj1     9.0\n",
       "subj2    99.0\n",
       "Name: 2, dtype: object"
      ]
     },
     "execution_count": 121,
     "metadata": {},
     "output_type": "execute_result"
    }
   ],
   "source": [
    "df.loc[2, ['subj1', 'subj2']] "
   ]
  },
  {
   "cell_type": "code",
   "execution_count": 122,
   "id": "9d4fdeae",
   "metadata": {},
   "outputs": [
    {
     "data": {
      "text/html": [
       "<div>\n",
       "<style scoped>\n",
       "    .dataframe tbody tr th:only-of-type {\n",
       "        vertical-align: middle;\n",
       "    }\n",
       "\n",
       "    .dataframe tbody tr th {\n",
       "        vertical-align: top;\n",
       "    }\n",
       "\n",
       "    .dataframe thead th {\n",
       "        text-align: right;\n",
       "    }\n",
       "</style>\n",
       "<table border=\"1\" class=\"dataframe\">\n",
       "  <thead>\n",
       "    <tr style=\"text-align: right;\">\n",
       "      <th></th>\n",
       "      <th>subj1</th>\n",
       "      <th>subj2</th>\n",
       "    </tr>\n",
       "  </thead>\n",
       "  <tbody>\n",
       "    <tr>\n",
       "      <th>2</th>\n",
       "      <td>9.0</td>\n",
       "      <td>99.0</td>\n",
       "    </tr>\n",
       "  </tbody>\n",
       "</table>\n",
       "</div>"
      ],
      "text/plain": [
       "   subj1  subj2\n",
       "2    9.0   99.0"
      ]
     },
     "execution_count": 122,
     "metadata": {},
     "output_type": "execute_result"
    }
   ],
   "source": [
    "df.loc[df.name=='Shaista', ['subj1', 'subj2']]"
   ]
  },
  {
   "cell_type": "code",
   "execution_count": 123,
   "id": "a134245a",
   "metadata": {},
   "outputs": [
    {
     "data": {
      "text/html": [
       "<div>\n",
       "<style scoped>\n",
       "    .dataframe tbody tr th:only-of-type {\n",
       "        vertical-align: middle;\n",
       "    }\n",
       "\n",
       "    .dataframe tbody tr th {\n",
       "        vertical-align: top;\n",
       "    }\n",
       "\n",
       "    .dataframe thead th {\n",
       "        text-align: right;\n",
       "    }\n",
       "</style>\n",
       "<table border=\"1\" class=\"dataframe\">\n",
       "  <thead>\n",
       "    <tr style=\"text-align: right;\">\n",
       "      <th></th>\n",
       "      <th>roll no</th>\n",
       "      <th>name</th>\n",
       "      <th>age</th>\n",
       "      <th>address</th>\n",
       "      <th>session</th>\n",
       "      <th>group</th>\n",
       "      <th>gender</th>\n",
       "      <th>subj1</th>\n",
       "      <th>subj2</th>\n",
       "      <th>scholarship</th>\n",
       "    </tr>\n",
       "  </thead>\n",
       "  <tbody>\n",
       "    <tr>\n",
       "      <th>0</th>\n",
       "      <td>MS01</td>\n",
       "      <td>Rauf</td>\n",
       "      <td>52</td>\n",
       "      <td>Lahore</td>\n",
       "      <td>MORNING</td>\n",
       "      <td>group C</td>\n",
       "      <td>Male</td>\n",
       "      <td>78.3</td>\n",
       "      <td>84.4</td>\n",
       "      <td>5000.0</td>\n",
       "    </tr>\n",
       "    <tr>\n",
       "      <th>1</th>\n",
       "      <td>MS02</td>\n",
       "      <td>Arif</td>\n",
       "      <td>51</td>\n",
       "      <td>Islamabad</td>\n",
       "      <td>AFT</td>\n",
       "      <td>group A</td>\n",
       "      <td>Male</td>\n",
       "      <td>70.5</td>\n",
       "      <td>60.5</td>\n",
       "      <td>6000.0</td>\n",
       "    </tr>\n",
       "    <tr>\n",
       "      <th>2</th>\n",
       "      <td>MS03</td>\n",
       "      <td>Shaista</td>\n",
       "      <td>35</td>\n",
       "      <td>Karachi</td>\n",
       "      <td>AFTERNOON</td>\n",
       "      <td>group B</td>\n",
       "      <td>Female</td>\n",
       "      <td>100.0</td>\n",
       "      <td>100.0</td>\n",
       "      <td>8500.0</td>\n",
       "    </tr>\n",
       "  </tbody>\n",
       "</table>\n",
       "</div>"
      ],
      "text/plain": [
       "  roll no     name  age    address    session    group  gender  subj1  subj2  \\\n",
       "0    MS01     Rauf   52     Lahore    MORNING  group C    Male   78.3   84.4   \n",
       "1    MS02     Arif   51  Islamabad        AFT  group A    Male   70.5   60.5   \n",
       "2    MS03  Shaista   35    Karachi  AFTERNOON  group B  Female  100.0  100.0   \n",
       "\n",
       "   scholarship  \n",
       "0       5000.0  \n",
       "1       6000.0  \n",
       "2       8500.0  "
      ]
     },
     "execution_count": 123,
     "metadata": {},
     "output_type": "execute_result"
    }
   ],
   "source": [
    "df.loc[df.name=='Shaista', ['subj1', 'subj2']] = [100, 100]\n",
    "df.loc[2, ['subj1', 'subj2']] = [100, 100]\n",
    "df.head(3)"
   ]
  },
  {
   "cell_type": "code",
   "execution_count": null,
   "id": "dca30c2e",
   "metadata": {},
   "outputs": [],
   "source": []
  },
  {
   "cell_type": "code",
   "execution_count": 124,
   "id": "36a940ed",
   "metadata": {},
   "outputs": [
    {
     "data": {
      "text/html": [
       "<div>\n",
       "<style scoped>\n",
       "    .dataframe tbody tr th:only-of-type {\n",
       "        vertical-align: middle;\n",
       "    }\n",
       "\n",
       "    .dataframe tbody tr th {\n",
       "        vertical-align: top;\n",
       "    }\n",
       "\n",
       "    .dataframe thead th {\n",
       "        text-align: right;\n",
       "    }\n",
       "</style>\n",
       "<table border=\"1\" class=\"dataframe\">\n",
       "  <thead>\n",
       "    <tr style=\"text-align: right;\">\n",
       "      <th></th>\n",
       "      <th>subj1</th>\n",
       "      <th>subj2</th>\n",
       "    </tr>\n",
       "  </thead>\n",
       "  <tbody>\n",
       "    <tr>\n",
       "      <th>2</th>\n",
       "      <td>100.0</td>\n",
       "      <td>100.0</td>\n",
       "    </tr>\n",
       "  </tbody>\n",
       "</table>\n",
       "</div>"
      ],
      "text/plain": [
       "   subj1  subj2\n",
       "2  100.0  100.0"
      ]
     },
     "execution_count": 124,
     "metadata": {},
     "output_type": "execute_result"
    }
   ],
   "source": [
    "# If you don't remember the row index, you may use the name\n",
    "df.loc[df.name=='Shaista',['subj1', 'subj2']]"
   ]
  },
  {
   "cell_type": "code",
   "execution_count": 125,
   "id": "dc9fe18c",
   "metadata": {},
   "outputs": [
    {
     "data": {
      "text/html": [
       "<div>\n",
       "<style scoped>\n",
       "    .dataframe tbody tr th:only-of-type {\n",
       "        vertical-align: middle;\n",
       "    }\n",
       "\n",
       "    .dataframe tbody tr th {\n",
       "        vertical-align: top;\n",
       "    }\n",
       "\n",
       "    .dataframe thead th {\n",
       "        text-align: right;\n",
       "    }\n",
       "</style>\n",
       "<table border=\"1\" class=\"dataframe\">\n",
       "  <thead>\n",
       "    <tr style=\"text-align: right;\">\n",
       "      <th></th>\n",
       "      <th>roll no</th>\n",
       "      <th>name</th>\n",
       "      <th>age</th>\n",
       "      <th>address</th>\n",
       "      <th>session</th>\n",
       "      <th>group</th>\n",
       "      <th>gender</th>\n",
       "      <th>subj1</th>\n",
       "      <th>subj2</th>\n",
       "      <th>scholarship</th>\n",
       "    </tr>\n",
       "  </thead>\n",
       "  <tbody>\n",
       "    <tr>\n",
       "      <th>0</th>\n",
       "      <td>MS01</td>\n",
       "      <td>Rauf</td>\n",
       "      <td>52</td>\n",
       "      <td>Lahore</td>\n",
       "      <td>MORNING</td>\n",
       "      <td>group C</td>\n",
       "      <td>Male</td>\n",
       "      <td>78.3</td>\n",
       "      <td>84.4</td>\n",
       "      <td>5000.0</td>\n",
       "    </tr>\n",
       "    <tr>\n",
       "      <th>1</th>\n",
       "      <td>MS02</td>\n",
       "      <td>Arif</td>\n",
       "      <td>51</td>\n",
       "      <td>Islamabad</td>\n",
       "      <td>AFT</td>\n",
       "      <td>group A</td>\n",
       "      <td>Male</td>\n",
       "      <td>70.5</td>\n",
       "      <td>60.5</td>\n",
       "      <td>6000.0</td>\n",
       "    </tr>\n",
       "    <tr>\n",
       "      <th>2</th>\n",
       "      <td>MS03</td>\n",
       "      <td>Shaista</td>\n",
       "      <td>35</td>\n",
       "      <td>Karachi</td>\n",
       "      <td>AFTERNOON</td>\n",
       "      <td>group B</td>\n",
       "      <td>Female</td>\n",
       "      <td>100.0</td>\n",
       "      <td>100.0</td>\n",
       "      <td>8500.0</td>\n",
       "    </tr>\n",
       "  </tbody>\n",
       "</table>\n",
       "</div>"
      ],
      "text/plain": [
       "  roll no     name  age    address    session    group  gender  subj1  subj2  \\\n",
       "0    MS01     Rauf   52     Lahore    MORNING  group C    Male   78.3   84.4   \n",
       "1    MS02     Arif   51  Islamabad        AFT  group A    Male   70.5   60.5   \n",
       "2    MS03  Shaista   35    Karachi  AFTERNOON  group B  Female  100.0  100.0   \n",
       "\n",
       "   scholarship  \n",
       "0       5000.0  \n",
       "1       6000.0  \n",
       "2       8500.0  "
      ]
     },
     "execution_count": 125,
     "metadata": {},
     "output_type": "execute_result"
    }
   ],
   "source": [
    "df.loc[df.name=='Shaista',['subj1', 'subj2']] = [100, 100]\n",
    "df.head(3)"
   ]
  },
  {
   "cell_type": "markdown",
   "id": "1614e432",
   "metadata": {},
   "source": [
    "**Note: You can also use `df.iloc[]` method instead of `df.loc[]` to change multiple or single value of a row. Other than these two you may also try using `df.at[]` method to change a single value of a row.**\n",
    "```\n",
    "df.loc[filter, 'column(s)'] = 'value(s)'\n",
    "```"
   ]
  },
  {
   "cell_type": "code",
   "execution_count": null,
   "id": "19ad884d",
   "metadata": {},
   "outputs": [],
   "source": []
  },
  {
   "cell_type": "code",
   "execution_count": null,
   "id": "c8c5c2ef",
   "metadata": {},
   "outputs": [],
   "source": []
  },
  {
   "cell_type": "code",
   "execution_count": null,
   "id": "fc0ef9db",
   "metadata": {},
   "outputs": [],
   "source": []
  },
  {
   "cell_type": "code",
   "execution_count": null,
   "id": "f5094cd8",
   "metadata": {},
   "outputs": [],
   "source": []
  },
  {
   "cell_type": "code",
   "execution_count": null,
   "id": "ef0ef64e",
   "metadata": {},
   "outputs": [],
   "source": []
  },
  {
   "cell_type": "markdown",
   "id": "22806e44",
   "metadata": {},
   "source": [
    "### b. Modify Data of Multiple Rows\n",
    "- To Modify data of multiple rows at the same time, you can use any of the four methods:\n",
    "    - `df.apply()`\n",
    "    - `df.map()`\n",
    "    - `df.applymap()`\n",
    "    - `df.replace()`"
   ]
  },
  {
   "cell_type": "markdown",
   "id": "163c7161",
   "metadata": {},
   "source": [
    "### i. The `df.apply()` Method"
   ]
  },
  {
   "cell_type": "code",
   "execution_count": null,
   "id": "8ba6146d",
   "metadata": {},
   "outputs": [],
   "source": []
  },
  {
   "cell_type": "code",
   "execution_count": null,
   "id": "d04dd0c2",
   "metadata": {},
   "outputs": [],
   "source": []
  },
  {
   "cell_type": "code",
   "execution_count": null,
   "id": "34028461",
   "metadata": {},
   "outputs": [],
   "source": []
  },
  {
   "cell_type": "markdown",
   "id": "9eb7892d",
   "metadata": {},
   "source": [
    "### ii. The `df.map()` Method"
   ]
  },
  {
   "cell_type": "code",
   "execution_count": null,
   "id": "82b66c96",
   "metadata": {},
   "outputs": [],
   "source": []
  },
  {
   "cell_type": "code",
   "execution_count": null,
   "id": "6e14f875",
   "metadata": {},
   "outputs": [],
   "source": []
  },
  {
   "cell_type": "markdown",
   "id": "1012305c",
   "metadata": {},
   "source": [
    "### iii. The `df.applymap()` Method"
   ]
  },
  {
   "cell_type": "code",
   "execution_count": null,
   "id": "57aff646",
   "metadata": {},
   "outputs": [],
   "source": []
  },
  {
   "cell_type": "code",
   "execution_count": null,
   "id": "8db37d9c",
   "metadata": {},
   "outputs": [],
   "source": []
  },
  {
   "cell_type": "markdown",
   "id": "5bc38afc",
   "metadata": {},
   "source": [
    "### iv. The `df.replace()` Method"
   ]
  },
  {
   "cell_type": "code",
   "execution_count": null,
   "id": "5c52764e",
   "metadata": {},
   "outputs": [],
   "source": []
  },
  {
   "cell_type": "markdown",
   "id": "0f1b5c02",
   "metadata": {},
   "source": [
    "## 1. How to Add/Delete a Column in a Dataframe (unconditionally)"
   ]
  },
  {
   "cell_type": "markdown",
   "id": "7b63d269",
   "metadata": {},
   "source": [
    "### a. Add a New Column to a Dataframe\n",
    "- To add a new column in a dataframe, create an appropriate series and then assign it to the dataframe\n",
    "- Every time a new series is added to a dataframe, its name automatically becomes an attribute of that dataframe.\n",
    "- It can be a series created from scratch, which can be cumbersome if the dataframe has thousands of rows.\n",
    "- Another common way to add a column is construct a series from the existing data within the dataframe\n",
    "- Let us understand this with an example"
   ]
  },
  {
   "cell_type": "code",
   "execution_count": null,
   "id": "c298a8aa",
   "metadata": {},
   "outputs": [],
   "source": [
    "df.columns"
   ]
  },
  {
   "cell_type": "code",
   "execution_count": null,
   "id": "fc5f8f87",
   "metadata": {},
   "outputs": [],
   "source": [
    "df.subj1 + df.subj2"
   ]
  },
  {
   "cell_type": "code",
   "execution_count": null,
   "id": "c7bd9466",
   "metadata": {},
   "outputs": [],
   "source": [
    "df.subj1.add(df.subj2)"
   ]
  },
  {
   "cell_type": "code",
   "execution_count": null,
   "id": "94e5cc04",
   "metadata": {},
   "outputs": [],
   "source": [
    "ser1 = df.subj1.add(df.subj2, fill_value=0)\n",
    "ser1"
   ]
  },
  {
   "cell_type": "code",
   "execution_count": null,
   "id": "e44e16a6",
   "metadata": {},
   "outputs": [],
   "source": [
    "# On the left side of assignment you must use `[]` operator, while on the right you can use dot operator as well\n",
    "df['total'] = ser1"
   ]
  },
  {
   "cell_type": "markdown",
   "id": "9e06f90b",
   "metadata": {},
   "source": [
    "Note that once, nothing appears to happen after you execute a Jupyter notebook cell, that means some processing has been done in the background. Over here, a new column has been added to the dataframe named df. Let us confirm this"
   ]
  },
  {
   "cell_type": "code",
   "execution_count": null,
   "id": "edbe41d9",
   "metadata": {},
   "outputs": [],
   "source": [
    "df.head()"
   ]
  },
  {
   "cell_type": "markdown",
   "id": "95577a45",
   "metadata": {},
   "source": [
    "**Dear students, how can we add a column in the beginning or in between instead of adding it at the end?**"
   ]
  },
  {
   "cell_type": "markdown",
   "id": "a65c85c3",
   "metadata": {},
   "source": [
    "### b. Delete a Column from a Dataframe\n",
    "- You can use any of the following ways to delete a column from a dataframe:\n",
    "    - Use `del df['colname']`, which will remove the column, but will not return it\n",
    "    - Use `df.pop('colname')` method which will remove that column as well as return the deleted column as a series\n",
    "    - Use `df.drop()` is a better method than the above two. It can delete more than one columns and is not inplace, i.e., you can use it just to check out and once you are sure you can make it inplace"
   ]
  },
  {
   "cell_type": "markdown",
   "id": "3d4cbb78",
   "metadata": {},
   "source": [
    "**Option 1: `del df['colname']`**"
   ]
  },
  {
   "cell_type": "code",
   "execution_count": null,
   "id": "0b1f41e6",
   "metadata": {},
   "outputs": [],
   "source": [
    "df.columns"
   ]
  },
  {
   "cell_type": "code",
   "execution_count": null,
   "id": "c1c82f89",
   "metadata": {},
   "outputs": [],
   "source": [
    "del df['total']"
   ]
  },
  {
   "cell_type": "code",
   "execution_count": null,
   "id": "9ee94a43",
   "metadata": {},
   "outputs": [],
   "source": [
    "df.head()"
   ]
  },
  {
   "cell_type": "markdown",
   "id": "837296e5",
   "metadata": {},
   "source": [
    "**Option 2: `df.pop('colname')`**"
   ]
  },
  {
   "cell_type": "code",
   "execution_count": null,
   "id": "6370aee5",
   "metadata": {},
   "outputs": [],
   "source": [
    "df.pop('address')"
   ]
  },
  {
   "cell_type": "code",
   "execution_count": null,
   "id": "a8adebb4",
   "metadata": {},
   "outputs": [],
   "source": [
    "df.head()"
   ]
  },
  {
   "cell_type": "markdown",
   "id": "4fba9714",
   "metadata": {},
   "source": [
    "**Option 3:**\n",
    "```\n",
    "df.drop(columns=[---],  axis=1, inplace=False)\n",
    "```\n",
    "- If you want to drop column(s), pass the names of columns to be deleted as a Python List to the `columns` parameter\n",
    "- Axis argument specifies the direction of operation\n",
    "    - `axis=1` or `axis='columns'` means column wise, in vertical direction, used to delete a column from dataframe\n",
    "- Most of Pandas methods that return a dataframe has an inplace paremeter with default value set to False. It means the operation will not effect the underlying change"
   ]
  },
  {
   "cell_type": "code",
   "execution_count": null,
   "id": "721eb597",
   "metadata": {},
   "outputs": [],
   "source": [
    "import pandas as pd\n",
    "df = pd.read_csv('../course-datasets/groupdata.csv')\n",
    "df.head()"
   ]
  },
  {
   "cell_type": "code",
   "execution_count": null,
   "id": "0edec89b",
   "metadata": {},
   "outputs": [],
   "source": [
    "# Remember axis is the direction of operation, \n",
    "df.drop(columns=['age', 'address'], axis=1)"
   ]
  },
  {
   "cell_type": "code",
   "execution_count": null,
   "id": "f24346cd",
   "metadata": {},
   "outputs": [],
   "source": [
    "df.head()"
   ]
  },
  {
   "cell_type": "code",
   "execution_count": null,
   "id": "d288077d",
   "metadata": {},
   "outputs": [],
   "source": [
    "df.drop([])"
   ]
  },
  {
   "cell_type": "markdown",
   "id": "67be32b8",
   "metadata": {},
   "source": [
    "## 2. How to Add/Delete a Row in a dataframe (unconditionally)"
   ]
  },
  {
   "cell_type": "code",
   "execution_count": null,
   "id": "0359876f",
   "metadata": {},
   "outputs": [],
   "source": [
    "import numpy as np\n",
    "import pandas as pd\n",
    "df = pd.read_csv('../course-datasets/groupdata.csv')\n",
    "df.tail()\n"
   ]
  },
  {
   "cell_type": "markdown",
   "id": "14fedb51",
   "metadata": {},
   "source": [
    "### b. Add a Row in the Dataframe\n",
    "- To add a new row in a dataframe, create an appropriate dataframe and then use `df.append()` method, which will return a new dataframe with the row added.\n",
    "```\n",
    "df.append(other, ignore_index=False)\n",
    "```\n",
    "**More on append in next session**"
   ]
  },
  {
   "cell_type": "code",
   "execution_count": null,
   "id": "0ace24b9",
   "metadata": {},
   "outputs": [],
   "source": [
    "newdf = pd.DataFrame(data=[['MS222', 'New Student', 100, 'Kamokey', 'AFT', 'group D', 'Male', 55.0, 55.0, 9999]],\n",
    "     columns=['roll no', 'name', 'age', 'address', 'session', 'group', 'gender','subj1', 'subj2', 'scholarship'])\n",
    "newdf"
   ]
  },
  {
   "cell_type": "markdown",
   "id": "ceec2cdb",
   "metadata": {},
   "source": [
    "If we try to add a row with lesser values than the number of columns in the DataFrame, it results in a ValueError,"
   ]
  },
  {
   "cell_type": "code",
   "execution_count": null,
   "id": "1d82d20b",
   "metadata": {},
   "outputs": [],
   "source": [
    "df1 = df.append(newdf, ignore_index=True)\n",
    "df1"
   ]
  },
  {
   "cell_type": "markdown",
   "id": "6319a646",
   "metadata": {},
   "source": [
    "### c. Delete a Row in the Dataframe\n",
    "- The `dr.drop()` method as used above to delete columns, can be used to delete one or more rows from a dataframe\n",
    "```\n",
    "df.drop(index=[---],  axis=0, inplace=False)\n",
    "```\n",
    "\n",
    "**`df.drop(listofcolnames, axis=0, inplace=True')`**\n",
    "\n",
    "- If you want to drop row(s) pass the row indices to be deleted as a Python List to the `index` parameter\n",
    "- Axis argument specifies the direction of operation\n",
    "    - `axis=0` or `axis='index'` means row wise, in horizontal direction, used to delete a row from dataframe\n",
    "- The default value of inplace argument in most of Pandas methods is False, meaning the method will return a new dataframe after performing the operation and the original dataframe remains unchanged\n",
    "- Most of Pandas methods taht return a datafram has an inplace paremeter with default value set to False. It means the operation will not effect the underlying change"
   ]
  },
  {
   "cell_type": "code",
   "execution_count": null,
   "id": "ba8d160d",
   "metadata": {},
   "outputs": [],
   "source": [
    "df.head()"
   ]
  },
  {
   "cell_type": "code",
   "execution_count": null,
   "id": "d1a0af57",
   "metadata": {},
   "outputs": [],
   "source": [
    "df.drop(index=[0,1], axis=0).head()"
   ]
  },
  {
   "cell_type": "markdown",
   "id": "902c85fb",
   "metadata": {},
   "source": [
    "## 3. Adding a New Column with Conditional Values"
   ]
  },
  {
   "cell_type": "markdown",
   "id": "bc74fa4d",
   "metadata": {},
   "source": [
    "**Create a Simple Dataframe**"
   ]
  },
  {
   "cell_type": "code",
   "execution_count": null,
   "id": "5efdd999",
   "metadata": {},
   "outputs": [],
   "source": [
    "import numpy as np\n",
    "import pandas as pd\n",
    "df = pd.read_csv('../course-datasets/groupdata.csv')\n",
    "df.head()\n",
    "\n",
    "df.head()\n"
   ]
  },
  {
   "cell_type": "code",
   "execution_count": null,
   "id": "5aefcb76",
   "metadata": {},
   "outputs": [],
   "source": []
  },
  {
   "cell_type": "markdown",
   "id": "9525846c",
   "metadata": {},
   "source": [
    "**Add a new column 'Grade Subj1', containing string \"Good\" if subj1>80, else \"Bad\"**"
   ]
  },
  {
   "cell_type": "code",
   "execution_count": null,
   "id": "8d203125",
   "metadata": {},
   "outputs": [],
   "source": [
    "df['Grade Subj1'] = ['Good' if i >=80 else 'Bad' for i in df.subj1]\n",
    "df"
   ]
  },
  {
   "cell_type": "markdown",
   "id": "1a32b1d3",
   "metadata": {},
   "source": [
    "**Add a new column 'Grade Subj2', containing string \"A\", \"A-\" ... based on multiple conditions of Total marks**"
   ]
  },
  {
   "cell_type": "code",
   "execution_count": null,
   "id": "c07407ff",
   "metadata": {},
   "outputs": [],
   "source": [
    "# Create a new column named 'Grade', having overall grades of the three subjects based on their total marks \n",
    "\n",
    "# Add a new column named 'Grade'\n",
    "df['Grade Subj2'] = ['A' if x >= 80 else 'B' if x >= 70 else 'C' if x>= 60 else \"Bad Grade\" for x in df.subj2]\n",
    "df"
   ]
  },
  {
   "cell_type": "code",
   "execution_count": null,
   "id": "70fbec1d",
   "metadata": {},
   "outputs": [],
   "source": []
  },
  {
   "cell_type": "code",
   "execution_count": null,
   "id": "7a44da0c",
   "metadata": {},
   "outputs": [],
   "source": []
  },
  {
   "cell_type": "markdown",
   "id": "2146aabb",
   "metadata": {},
   "source": [
    "## 4. Delete a Row Based on Specific Condition"
   ]
  },
  {
   "cell_type": "code",
   "execution_count": null,
   "id": "efca0eca",
   "metadata": {},
   "outputs": [],
   "source": [
    "df"
   ]
  },
  {
   "cell_type": "code",
   "execution_count": null,
   "id": "1734d460",
   "metadata": {},
   "outputs": [],
   "source": [
    "# Let us drop an entire row from the data frame, in which name is 'Maaz'\n",
    "# Get the indices where name == 'Maaz' using the .index function\n",
    "count = df[df['name'] == 'Hadeed'].index\n",
    "count\n"
   ]
  },
  {
   "cell_type": "code",
   "execution_count": null,
   "id": "6d63cfca",
   "metadata": {},
   "outputs": [],
   "source": [
    "# Pass those indices to the drop method to delete those rows\n",
    "df.drop(count, inplace = True)\n",
    "df"
   ]
  },
  {
   "cell_type": "markdown",
   "id": "3a057e47",
   "metadata": {},
   "source": [
    "## 6. Delete a Column  Based on Specific Condition"
   ]
  },
  {
   "cell_type": "code",
   "execution_count": null,
   "id": "a437cbdb",
   "metadata": {},
   "outputs": [],
   "source": [
    "# Let us drop a column from the data frame, if it contains more than 2 NaN values\n",
    "# It will delete the Total column\n",
    "\n",
    "df.drop(df.columns[df.apply(lambda col: col.isnull().sum() > 2)], axis=1)"
   ]
  },
  {
   "cell_type": "code",
   "execution_count": null,
   "id": "9bcc3676",
   "metadata": {},
   "outputs": [],
   "source": []
  },
  {
   "cell_type": "markdown",
   "id": "81185d7f",
   "metadata": {},
   "source": [
    "## Change Datatype of a Pandas Series"
   ]
  },
  {
   "cell_type": "markdown",
   "id": "bff3d3a0",
   "metadata": {},
   "source": [
    "### a. Changing Datatype from object to float"
   ]
  },
  {
   "cell_type": "code",
   "execution_count": null,
   "id": "1e135f0c",
   "metadata": {},
   "outputs": [],
   "source": [
    "import numpy as np\n",
    "import pandas as pd\n",
    "\n",
    "\n",
    "df = pd.read_csv('../course-datasets/chiporders.csv')\n",
    "df.head()\n"
   ]
  },
  {
   "cell_type": "code",
   "execution_count": null,
   "id": "e6d4377e",
   "metadata": {},
   "outputs": [],
   "source": [
    "df.dtypes"
   ]
  },
  {
   "cell_type": "code",
   "execution_count": null,
   "id": "64cb4509",
   "metadata": {},
   "outputs": [],
   "source": [
    "#Suppose we want to change the quantity column to float64 dtype\n",
    "import numpy as np\n",
    "df['quantity'] = df.quantity.astype(float)\n",
    "df.dtypes"
   ]
  },
  {
   "cell_type": "code",
   "execution_count": null,
   "id": "12abba3c",
   "metadata": {},
   "outputs": [],
   "source": [
    "#df['item_price'] = df.item_price.astype(float)"
   ]
  },
  {
   "cell_type": "code",
   "execution_count": null,
   "id": "f0d28758",
   "metadata": {},
   "outputs": [],
   "source": [
    "df.item_price.str.replace('$', '')\n",
    "#df['item_price'] = df.item_price.astype(float)"
   ]
  },
  {
   "cell_type": "code",
   "execution_count": null,
   "id": "e1107df4",
   "metadata": {},
   "outputs": [],
   "source": [
    "df['item_price'] = df.item_price.str.replace('$', '')\n",
    "df['item_price']"
   ]
  },
  {
   "cell_type": "code",
   "execution_count": null,
   "id": "4614d38d",
   "metadata": {},
   "outputs": [],
   "source": [
    "df['item_price'] = df.item_price.str.replace('$', '').astype(float)\n",
    "df['item_price']"
   ]
  },
  {
   "cell_type": "code",
   "execution_count": null,
   "id": "477ef683",
   "metadata": {},
   "outputs": [],
   "source": [
    "df.item_price.mean()"
   ]
  },
  {
   "cell_type": "markdown",
   "id": "6a460f30",
   "metadata": {},
   "source": [
    "### b. Changing Datatype from string to boolean"
   ]
  },
  {
   "cell_type": "code",
   "execution_count": null,
   "id": "a8d82038",
   "metadata": {},
   "outputs": [],
   "source": [
    "import numpy as np\n",
    "import pandas as pd\n",
    "df = pd.read_csv('../course-datasets/groupdata.csv')\n",
    "df.head()\n"
   ]
  },
  {
   "cell_type": "code",
   "execution_count": null,
   "id": "0006ca1c",
   "metadata": {},
   "outputs": [],
   "source": [
    "df.gender.str.contains('Male')"
   ]
  },
  {
   "cell_type": "code",
   "execution_count": null,
   "id": "bc89c98d",
   "metadata": {},
   "outputs": [],
   "source": [
    "df.gender.str.contains('Female')"
   ]
  },
  {
   "cell_type": "code",
   "execution_count": null,
   "id": "fabfdfdd",
   "metadata": {},
   "outputs": [],
   "source": [
    "df.gender.str.contains('Female').astype(int)"
   ]
  },
  {
   "cell_type": "code",
   "execution_count": null,
   "id": "da262bb7",
   "metadata": {},
   "outputs": [],
   "source": [
    "df['gender'] = df.gender.str.contains('Male').astype(int)"
   ]
  },
  {
   "cell_type": "code",
   "execution_count": null,
   "id": "efac25be",
   "metadata": {},
   "outputs": [],
   "source": [
    "df"
   ]
  },
  {
   "cell_type": "code",
   "execution_count": null,
   "id": "336da3c0",
   "metadata": {},
   "outputs": [],
   "source": []
  },
  {
   "cell_type": "code",
   "execution_count": null,
   "id": "bffa3e69",
   "metadata": {},
   "outputs": [],
   "source": []
  },
  {
   "cell_type": "code",
   "execution_count": null,
   "id": "52326d92",
   "metadata": {},
   "outputs": [],
   "source": []
  },
  {
   "cell_type": "code",
   "execution_count": null,
   "id": "7832a5b3",
   "metadata": {},
   "outputs": [],
   "source": []
  },
  {
   "cell_type": "code",
   "execution_count": null,
   "id": "b01d69da",
   "metadata": {},
   "outputs": [],
   "source": []
  },
  {
   "cell_type": "markdown",
   "id": "f8b811f9",
   "metadata": {},
   "source": [
    "## 4. Deleting, and Adding  a Row in a Dataframe"
   ]
  },
  {
   "cell_type": "markdown",
   "id": "c82fbf45",
   "metadata": {},
   "source": [
    "### a. Deleting Rows from a  Dataframe\n",
    "- - To delete a row from a dataframe you can use the `df.drop()` method as used to drop a column. You just have to mention the axis argument to  0\n",
    "\n",
    "**`df.drop(listofcolnames, axis=0, inplace=True')`**"
   ]
  },
  {
   "cell_type": "code",
   "execution_count": null,
   "id": "958053c1",
   "metadata": {},
   "outputs": [],
   "source": [
    "df.shape"
   ]
  },
  {
   "cell_type": "code",
   "execution_count": null,
   "id": "bda7ce93",
   "metadata": {},
   "outputs": [],
   "source": [
    "df.drop([1,2], axis=0, inplace=True)\n",
    "df.head()"
   ]
  },
  {
   "cell_type": "code",
   "execution_count": null,
   "id": "a3d48608",
   "metadata": {},
   "outputs": [],
   "source": [
    "df.shape"
   ]
  },
  {
   "cell_type": "markdown",
   "id": "eaaf89e7",
   "metadata": {},
   "source": [
    "### b. Add a Row in a Dataframe\n",
    "- To add a new row in a dataframe, create an appropriate dataframe and then use `df.append()` method, which will return a new dataframe with the row added.\n",
    "```\n",
    "df.append(other, ignore_index=False)\n",
    "```\n",
    "**More on append in future session**"
   ]
  },
  {
   "cell_type": "code",
   "execution_count": null,
   "id": "a4af4810",
   "metadata": {},
   "outputs": [],
   "source": [
    "newdf = pd.DataFrame(data=[['MS555', 'Kakamanna', 'group D', 55.0, 55.0, 9999]],\n",
    "                     columns=['roll_no', 'name', 'group', 'subj1', 'subj2', 'scholarship'])\n",
    "newdf\n",
    "\n"
   ]
  },
  {
   "cell_type": "code",
   "execution_count": null,
   "id": "a9346787",
   "metadata": {},
   "outputs": [],
   "source": [
    "df1 = df.append(newdf, ignore_index=True)\n",
    "df1"
   ]
  },
  {
   "cell_type": "markdown",
   "id": "fac1e2db",
   "metadata": {},
   "source": [
    "**Dear students, how can we add a row in the beginning or in between instead of adding it at the end?**"
   ]
  },
  {
   "cell_type": "code",
   "execution_count": null,
   "id": "512a794d",
   "metadata": {},
   "outputs": [],
   "source": []
  },
  {
   "cell_type": "code",
   "execution_count": null,
   "id": "fee0d2ca",
   "metadata": {},
   "outputs": [],
   "source": []
  },
  {
   "cell_type": "code",
   "execution_count": null,
   "id": "5d79d6af",
   "metadata": {},
   "outputs": [],
   "source": []
  },
  {
   "cell_type": "code",
   "execution_count": null,
   "id": "0016501d",
   "metadata": {},
   "outputs": [],
   "source": []
  },
  {
   "cell_type": "code",
   "execution_count": null,
   "id": "658ce1bb",
   "metadata": {},
   "outputs": [],
   "source": []
  },
  {
   "cell_type": "code",
   "execution_count": null,
   "id": "92824a7c",
   "metadata": {},
   "outputs": [],
   "source": []
  },
  {
   "cell_type": "code",
   "execution_count": null,
   "id": "09e95978",
   "metadata": {},
   "outputs": [],
   "source": []
  },
  {
   "cell_type": "code",
   "execution_count": null,
   "id": "ea4e5edc",
   "metadata": {},
   "outputs": [],
   "source": []
  },
  {
   "cell_type": "code",
   "execution_count": null,
   "id": "0a26c486",
   "metadata": {},
   "outputs": [],
   "source": []
  },
  {
   "cell_type": "code",
   "execution_count": null,
   "id": "5e298d66",
   "metadata": {},
   "outputs": [],
   "source": []
  },
  {
   "cell_type": "code",
   "execution_count": null,
   "id": "00679ada",
   "metadata": {},
   "outputs": [],
   "source": []
  },
  {
   "cell_type": "code",
   "execution_count": null,
   "id": "7c8799b6",
   "metadata": {},
   "outputs": [],
   "source": []
  },
  {
   "cell_type": "code",
   "execution_count": null,
   "id": "42b18ad0",
   "metadata": {},
   "outputs": [],
   "source": []
  },
  {
   "cell_type": "code",
   "execution_count": null,
   "id": "0ec336fa",
   "metadata": {},
   "outputs": [],
   "source": []
  },
  {
   "cell_type": "markdown",
   "id": "bc0c37c1",
   "metadata": {},
   "source": [
    "## Learning agenda of this notebook\n",
    "\n",
    "1. Sorting dataframes using sort_values()\n",
    "    - Creating a simple Dataframe\n",
    "    - Understanding sort_values()\n",
    "    - Sorting by Single Column\n",
    "    - Sorting by Multiple Columns\n",
    "    - Reset the Index\n",
    "    - Handle NaN Values\n",
    "2. Sorting dataframes using sort_index()\n",
    "    - Sorting by Column Label\n",
    "    - Sorting by Index\n",
    " "
   ]
  },
  {
   "cell_type": "code",
   "execution_count": null,
   "id": "6cc09a79",
   "metadata": {},
   "outputs": [],
   "source": []
  },
  {
   "cell_type": "code",
   "execution_count": null,
   "id": "49d5c1c0",
   "metadata": {},
   "outputs": [],
   "source": []
  },
  {
   "cell_type": "code",
   "execution_count": null,
   "id": "e4af67a4",
   "metadata": {},
   "outputs": [],
   "source": []
  },
  {
   "cell_type": "markdown",
   "id": "e26ad476",
   "metadata": {},
   "source": [
    "## 1. Sorting dataframes using `df.sort_values()`\n",
    "\n",
    ">Pandas data frame has two useful functions. **`df.sort_values()`** to sort by values of one or more columns and **`df.sort_index()`** to sort by the index. Each of these functions come with numerous options, like sorting in specific order (ascending or descending), sorting in place, sorting with missing values, sorting by specific algorithm etc.\n",
    "- The `df.sort_values()` function sort by the values along either axis. It returns a dataframe with sorted values or None if 'inplace=True'. Its signature is:\n",
    "```\n",
    "df.sort_values(by,axis=0,ascending=True,inplace=False,kind='quicksort',na_position='last',ignore_index=False)\n",
    "```\n",
    "Where,\n",
    "-  `by`: str or list of str to sort\n",
    "-  `axis`: If `axis` is 0 or 'index' then 'by' may contain index levels and/or column labels. If `axis` is 1 or 'columns' then 'by' may contain column levels and/or index labels.\n",
    "- `ascending`: if True then ascending and if False then descending\n",
    "- `inplace`:  If True, perform operation in-place.\n",
    "- `kind`: {'quicksort', 'mergesort', 'heapsort', 'stable'}, default 'quicksort'. This option is only applied when sorting on a single column or label.\n",
    "- `na_position`: If first then puts NaNs at the beginning. Default is last\n",
    "- `ignore_index`: If True, the resulting axis will be labeled 0, 1, …, n - 1. Default False"
   ]
  },
  {
   "cell_type": "markdown",
   "id": "536facf9",
   "metadata": {},
   "source": [
    "### a. Creating a Simple Dataframe"
   ]
  },
  {
   "cell_type": "code",
   "execution_count": null,
   "id": "b26bc45a",
   "metadata": {},
   "outputs": [],
   "source": [
    "# Let us create a simple data frame\n",
    "import pandas as pd\n",
    "df = pd.DataFrame({\n",
    "    'roll_no': [ 102, 101, 104, 103, 105],\n",
    "    'name' : ['Kamal', 'Saima', 'Jamal', 'Shaikh', 'Farzana'],\n",
    "    'gender' : ['M', 'F', 'M', 'M', 'F'],\n",
    "    'grade'  : ['A', 'A', 'B', 'B', 'A'],\n",
    "    'marks'  : [ 21,  23,  12,  14,  20],\n",
    "    'city' : ['Lahore', 'Peshawer', 'Lahore', 'Karachi', 'Peshawer']\n",
    "})\n",
    "df"
   ]
  },
  {
   "cell_type": "markdown",
   "id": "0ca23f18",
   "metadata": {},
   "source": [
    "### b. Sorting by Single Column"
   ]
  },
  {
   "cell_type": "code",
   "execution_count": null,
   "id": "8c2ceb82",
   "metadata": {},
   "outputs": [],
   "source": [
    "# Let us sort the data by grade column\n",
    "# By default the sorting is done in ascending order and is not inplace\n",
    "sorted_df = df.sort_values(by=['marks'])\n",
    "sorted_df\n"
   ]
  },
  {
   "cell_type": "code",
   "execution_count": null,
   "id": "4468aa9d",
   "metadata": {},
   "outputs": [],
   "source": [
    "# Note since the sorting is not inplace, so the original dataframe is still unsorted\n",
    "df"
   ]
  },
  {
   "cell_type": "code",
   "execution_count": null,
   "id": "ee1e607a",
   "metadata": {},
   "outputs": [],
   "source": [
    "# Let us do an in-place sort and in descending order\n",
    "df.sort_values(by=['marks'], ascending=False, inplace=True)\n",
    "df"
   ]
  },
  {
   "cell_type": "markdown",
   "id": "dca3a055",
   "metadata": {},
   "source": [
    "### c. Sorting by Multiple Columns"
   ]
  },
  {
   "cell_type": "code",
   "execution_count": null,
   "id": "e50a0e43",
   "metadata": {
    "scrolled": false
   },
   "outputs": [],
   "source": [
    "# Let us sort again in ascending order by grade\n",
    "d1 = df.sort_values(by=['grade'])\n",
    "d1"
   ]
  },
  {
   "cell_type": "markdown",
   "id": "aadaceac",
   "metadata": {},
   "source": [
    "- Note in above output, we have sorted the data based on the grade column. You can observe that some of the students with higher marks are ranked lower.\n",
    "- We want to sort the data based on both grades and marks."
   ]
  },
  {
   "cell_type": "code",
   "execution_count": null,
   "id": "586130e6",
   "metadata": {},
   "outputs": [],
   "source": [
    "# sort the dataframe\n",
    "d2 = df.sort_values(by=['grade','marks'])\n",
    "d2"
   ]
  },
  {
   "cell_type": "markdown",
   "id": "3e4d24bd",
   "metadata": {},
   "source": [
    "- Note that the data is first sorted by grade, and then within grade it is sorted by marks\n",
    "- Let us now sort by grades in ascending order and marks in descending order.\n"
   ]
  },
  {
   "cell_type": "code",
   "execution_count": null,
   "id": "a26aa1c0",
   "metadata": {},
   "outputs": [],
   "source": [
    "d3 = df.sort_values(by=['grade','marks'], ascending=[True,False])\n",
    "d3"
   ]
  },
  {
   "cell_type": "markdown",
   "id": "8422a8d4",
   "metadata": {},
   "source": [
    "- When sorting by multiple columns, `df.sort_value()` uses the first variable first and second variable next. \n",
    "- Let us understand this by switching the order of column names in the list."
   ]
  },
  {
   "cell_type": "code",
   "execution_count": null,
   "id": "6ea8954f",
   "metadata": {},
   "outputs": [],
   "source": [
    "# changed the order of columns\n",
    "# When sorting by multiple columns, pandas sort_value() uses the first variable first and second variable next. \n",
    "# Let us understand this by switching the order of column names in the list.\n",
    "d4 = df.sort_values(by=['marks','grade'])\n",
    "d4"
   ]
  },
  {
   "cell_type": "markdown",
   "id": "9d7bfca2",
   "metadata": {},
   "source": [
    "### d. Reset the Index (if you want)\n",
    "- After you sort your dataset, you can observe that the index is also shuffled according to the sorting. If we want to reset the index we use `reset_index()` function.\n"
   ]
  },
  {
   "cell_type": "code",
   "execution_count": null,
   "id": "a4cf9a60",
   "metadata": {},
   "outputs": [],
   "source": [
    "d4.reset_index()"
   ]
  },
  {
   "cell_type": "markdown",
   "id": "fa157337",
   "metadata": {},
   "source": [
    "- Observe that now it has created another column 'index' which is the previous index. \n",
    "- If you want to remove this just pass the parameter `drop = True` and also `inplace = True` to save the state."
   ]
  },
  {
   "cell_type": "code",
   "execution_count": null,
   "id": "92122811",
   "metadata": {},
   "outputs": [],
   "source": [
    "d4.reset_index(inplace=True, drop=True)\n",
    "d4"
   ]
  },
  {
   "cell_type": "markdown",
   "id": "f3702626",
   "metadata": {},
   "source": [
    "### e. Handle NaN Values"
   ]
  },
  {
   "cell_type": "code",
   "execution_count": null,
   "id": "b1830260",
   "metadata": {},
   "outputs": [],
   "source": [
    "import numpy as np\n",
    "import pandas as pd\n",
    "a2DNumPyArray =[\n",
    "           ['MS01', 'Rauf',    52, 'Lahore',    'MORNING',   'group C', 'Male',   78.3, 84.4, 5000],\n",
    "           ['MS02', 'Arif',    51, 'Islamabad', 'AFT',       'group A', 'Male',   70.5, np.nan, 6000],\n",
    "           ['MS03', 'Shaista', 35, 'Karachi',   'AFTERNOON', 'group B', 'Female', 64.9, 75.1, 8500],\n",
    "           ['MS04', 'Hadeed',  20, 'Lahore',    'MOR',       'group A', 'Male',   np.nan, 84.3, 4000],\n",
    "           ['MS05', 'Zara',    40, 'Peshawer',  'AFT',       'group D', 'Female', 65.9, 72.8, 3500],\n",
    "           ['MS06', 'Mohid',   16, 'Lahore',    'MORNING' ,  'group C', 'Female', 69.3, 78.6, np.nan],\n",
    "           ['MS07', 'Zobia',   40, 'Sialkot',   'AFT',       'group B', 'Female', 90.2, np.nan, 4000],\n",
    "           ['MS08', 'Idrees',  51, 'Multan',    'MORNING',   'group D', 'Male',   84.1, 76.0, 8000],\n",
    "           ['MS09', 'Jamil',   53, 'Karachi',   'AFT',       'group C', 'Male',   90.5, 81.3, np.nan],\n",
    "           ['MS10', 'Shahid',  38, 'Lahore',   'AFTERNOON', 'group D', 'Male',   90.5, 81.3, 3800],\n",
    "           ['MS11', 'Khurram', 35, 'Islamabad',   'MOR',       'group B', 'Male',   90.5, 81.3, 6000],\n",
    "           ['MS12', 'Maaz',    25, 'Karachi',   'AFTERNOON', 'group C', 'Male',   90.5, 81.3, np.nan],\n",
    "           ['MS13', 'Mujahid', 18, 'Lahore',    'MORNING',   'group D', 'Male',   np.nan, 76.5, 7000],\n",
    "           ['MS14', 'Sara',  28, 'Multan',    'AFTERNOON',   'group A', 'Female',   84.1, 76.0, 8000],\n",
    "           ['MS15', 'Fatima',   33, 'Sialkot',   'AFT',       'group C', 'Female',   90.5, 81.3, 3500],\n",
    "           ['MS16', 'Kakamanna',  42, 'Multan',   'AFTERNOON', 'group A', 'Male',   90.5, 81.3, 3800],\n",
    "\n",
    "      ]\n",
    "\n",
    "list1 = ['rollno', 'name', 'age', 'address', 'session', 'group', 'gender', 'subj1', 'subj2', 'scholarship']\n",
    "df = pd.DataFrame(data=a2DNumPyArray, columns=list1)\n",
    "df"
   ]
  },
  {
   "cell_type": "code",
   "execution_count": null,
   "id": "0e758268",
   "metadata": {},
   "outputs": [],
   "source": [
    "# If there is a missing value NaN, by default it is listed at the end when using sort_values function\n",
    "# Regardless of the sorting order (Ascending or Descending)\n",
    "d1 = df.sort_values(by=['scholarship'])\n",
    "d1.tail()"
   ]
  },
  {
   "cell_type": "code",
   "execution_count": null,
   "id": "de9ce14b",
   "metadata": {},
   "outputs": [],
   "source": [
    "# If the argument na_position='first', it will be listed at the top.\n",
    "d2 = df.sort_values(by=['scholarship'], na_position='first')\n",
    "d2.head()"
   ]
  },
  {
   "cell_type": "markdown",
   "id": "19fa2853",
   "metadata": {},
   "source": [
    "## 2. Sorting dataframes using `df.sort_index()`\n",
    "> We have observed while using `df.sort_values()`, by default the sorting is performed in the vertical direction. If you want to sort in the row direction, we can set the`axis` argument of  `df.sort_values()` method to 1, which is by default set to zero. However, it may cause problems when a number and a string are mixed\n",
    "\n",
    "- So to sort a dataframe in the horizontal direction, we normally use **`df.sort_index()`** method.\n",
    "```\n",
    "df.sort_index(axis=0,ascending=True,inplace=False,kind='quicksort',na_position='last',ignore_index=False)\n",
    "```\n",
    "Where,\n",
    "-  `axis`: The axis along which to sort. The value 0 identifies the rows, and 1 identifies the columns. (default is 0)\n",
    "- `ascending`: If True then ascending and If False then descending\n",
    "- `inplace`:  If True, perform operation in-place.\n",
    "- `kind`: {'quicksort', 'mergesort', 'heapsort', 'stable'}, default 'quicksort'. This option is only applied when sorting on a single column or label.\n",
    "- `na_position`: If first then puts NaNs at the beginning. Default is last\n",
    "- `ignore_index`: If True, the resulting axis will be labeled 0, 1, …, n - 1. Default False"
   ]
  },
  {
   "cell_type": "code",
   "execution_count": null,
   "id": "1925f8e3",
   "metadata": {},
   "outputs": [],
   "source": [
    "# Let us create a simple data frame\n",
    "import pandas as pd\n",
    "df = pd.DataFrame({\n",
    "    'roll_no': [ 102, 101, 104, 103, 105],\n",
    "    'name' : ['Kamal', 'Saima', 'Jamal', 'Shaikh', 'Farzana'],\n",
    "    'gender' : ['M', 'F', 'M', 'M', 'F'],\n",
    "    'grade'  : ['A', 'A', 'B', 'B', 'A'],\n",
    "    'marks'  : [ 21,  23,  12,  14,  20],\n",
    "    'city' : ['Lahore', 'Peshawer', 'Lahore', 'Karachi', 'Peshawer']\n",
    "})\n",
    "df"
   ]
  },
  {
   "cell_type": "markdown",
   "id": "b4560468",
   "metadata": {},
   "source": [
    "### a. Sort by Column Labels\n",
    "- By passing the axis argument with a value 0 or 1, the sorting can be done on the column labels. By default, axis=0"
   ]
  },
  {
   "cell_type": "code",
   "execution_count": null,
   "id": "7f4f7e44",
   "metadata": {},
   "outputs": [],
   "source": [
    "df1 = df.sort_index(axis=1)\n",
    "df1"
   ]
  },
  {
   "cell_type": "code",
   "execution_count": null,
   "id": "f9ecd10e",
   "metadata": {},
   "outputs": [],
   "source": [
    "# Let us do an in-place sort and in descending order\n",
    "df1 = df.sort_index(axis=1, ascending=False)\n",
    "df1"
   ]
  },
  {
   "cell_type": "markdown",
   "id": "eb402229",
   "metadata": {},
   "source": [
    "### b. Sort by Index\n",
    "- This will be a three step process\n",
    "    - Make the specific column as index\n",
    "    - Call sort_index() with axis=0\n",
    "    - Reset Index"
   ]
  },
  {
   "cell_type": "markdown",
   "id": "3fe78d5f",
   "metadata": {},
   "source": [
    "**Let us sort by grades**"
   ]
  },
  {
   "cell_type": "code",
   "execution_count": null,
   "id": "a631c972",
   "metadata": {},
   "outputs": [],
   "source": [
    "# Lets us set the roll_no column as index\n",
    "df1 = df.set_index([\"grade\"])\n",
    "df1"
   ]
  },
  {
   "cell_type": "code",
   "execution_count": null,
   "id": "3249becc",
   "metadata": {},
   "outputs": [],
   "source": [
    "# sort the datframe by index \n",
    "df2 = df1.sort_index(axis=0)\n",
    "df2"
   ]
  },
  {
   "cell_type": "code",
   "execution_count": null,
   "id": "5963639d",
   "metadata": {},
   "outputs": [],
   "source": [
    "# After sort you can reset the index if you want\n",
    "df2.reset_index(inplace=True, drop=False)\n",
    "df2"
   ]
  },
  {
   "cell_type": "code",
   "execution_count": null,
   "id": "6838c617",
   "metadata": {},
   "outputs": [],
   "source": []
  },
  {
   "cell_type": "code",
   "execution_count": null,
   "id": "0e679ad5",
   "metadata": {},
   "outputs": [],
   "source": []
  },
  {
   "cell_type": "code",
   "execution_count": null,
   "id": "fd6c6d1c",
   "metadata": {},
   "outputs": [],
   "source": []
  },
  {
   "cell_type": "code",
   "execution_count": null,
   "id": "d3327aac",
   "metadata": {},
   "outputs": [],
   "source": []
  },
  {
   "cell_type": "code",
   "execution_count": null,
   "id": "340d9ceb",
   "metadata": {},
   "outputs": [],
   "source": []
  },
  {
   "cell_type": "code",
   "execution_count": null,
   "id": "9a94c367",
   "metadata": {},
   "outputs": [],
   "source": []
  },
  {
   "cell_type": "code",
   "execution_count": null,
   "id": "4b0b8b63",
   "metadata": {},
   "outputs": [],
   "source": []
  },
  {
   "cell_type": "code",
   "execution_count": null,
   "id": "9d65288a",
   "metadata": {},
   "outputs": [],
   "source": []
  },
  {
   "cell_type": "code",
   "execution_count": null,
   "id": "8acbbcab",
   "metadata": {},
   "outputs": [],
   "source": []
  },
  {
   "cell_type": "code",
   "execution_count": null,
   "id": "770d5413",
   "metadata": {},
   "outputs": [],
   "source": []
  },
  {
   "cell_type": "code",
   "execution_count": null,
   "id": "13ee917c",
   "metadata": {},
   "outputs": [],
   "source": []
  },
  {
   "cell_type": "code",
   "execution_count": null,
   "id": "01774451",
   "metadata": {},
   "outputs": [],
   "source": []
  },
  {
   "cell_type": "code",
   "execution_count": null,
   "id": "b94ae184",
   "metadata": {},
   "outputs": [],
   "source": []
  }
 ],
 "metadata": {
  "kernelspec": {
   "display_name": "Python 3 (ipykernel)",
   "language": "python",
   "name": "python3"
  },
  "language_info": {
   "codemirror_mode": {
    "name": "ipython",
    "version": 3
   },
   "file_extension": ".py",
   "mimetype": "text/x-python",
   "name": "python",
   "nbconvert_exporter": "python",
   "pygments_lexer": "ipython3",
   "version": "3.8.10"
  }
 },
 "nbformat": 4,
 "nbformat_minor": 5
}
