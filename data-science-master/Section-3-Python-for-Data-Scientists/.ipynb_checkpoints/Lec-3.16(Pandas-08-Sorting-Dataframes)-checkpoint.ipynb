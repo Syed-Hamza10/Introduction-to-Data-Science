{
 "cells": [
  {
   "cell_type": "markdown",
   "id": "4a87b5ef",
   "metadata": {},
   "source": [
    "---   \n",
    " <img align=\"left\" width=\"75\" height=\"75\"  src=\"https://upload.wikimedia.org/wikipedia/en/c/c8/University_of_the_Punjab_logo.png\"> \n",
    "\n",
    "<h1 align=\"center\">Department of Data Science</h1>\n",
    "<h1 align=\"center\">Course: Tools and Techniques for Data Science</h1>\n",
    "\n",
    "---\n",
    "<h3><div align=\"right\">Instructor: Muhammad Arif Butt, Ph.D.</div></h3>    "
   ]
  },
  {
   "cell_type": "markdown",
   "id": "ab0dc25c",
   "metadata": {},
   "source": [
    "<h1 align=\"center\">Lecture 3.16 (Pandas-08)</h1>"
   ]
  },
  {
   "cell_type": "markdown",
   "id": "19f82705",
   "metadata": {},
   "source": [
    "## _Sorting Dataframes.ipynb_"
   ]
  },
  {
   "cell_type": "markdown",
   "id": "12db95e1",
   "metadata": {},
   "source": [
    "## Learning agenda of this notebook\n",
    "\n",
    "1. Sorting dataframes using sort_values()\n",
    "    - Creating a simple Dataframe\n",
    "    - Understanding sort_values()\n",
    "    - Sorting by Single Column\n",
    "    - Sorting by Multiple Columns\n",
    "    - Reset the Index\n",
    "    - Handle NaN Values\n",
    "2. Sorting dataframes using sort_index()\n",
    "    - Sorting by Column Label\n",
    "    - Sorting by Index\n",
    " "
   ]
  },
  {
   "cell_type": "markdown",
   "id": "e26ad476",
   "metadata": {},
   "source": [
    "## 1. Sorting dataframes using `df.sort_values()`\n",
    "\n",
    ">Pandas data frame has two useful functions. **`df.sort_values()`** to sort by values of one or more columns and **`df.sort_index()`** to sort by the index. Each of these functions come with numerous options, like sorting in specific order (ascending or descending), sorting in place, sorting with missing values, sorting by specific algorithm etc.\n",
    "- The `df.sort_values()` function sort by the values along either axis. It returns a dataframe with sorted values or None if 'inplace=True'. Its signature is:\n",
    "```\n",
    "df.sort_values(by,axis=0,ascending=True,inplace=False,kind='quicksort',na_position='last',ignore_index=False)\n",
    "```\n",
    "Where,\n",
    "-  `by`: str or list of str to sort\n",
    "-  `axis`: If `axis` is 0 or 'index' then 'by' may contain index levels and/or column labels. If `axis` is 1 or 'columns' then 'by' may contain column levels and/or index labels.\n",
    "- `ascending`: if True then ascending and if False then descending\n",
    "- `inplace`:  If True, perform operation in-place.\n",
    "- `kind`: {'quicksort', 'mergesort', 'heapsort', 'stable'}, default 'quicksort'. This option is only applied when sorting on a single column or label.\n",
    "- `na_position`: If first then puts NaNs at the beginning. Default is last\n",
    "- `ignore_index`: If True, the resulting axis will be labeled 0, 1, …, n - 1. Default False"
   ]
  },
  {
   "cell_type": "markdown",
   "id": "536facf9",
   "metadata": {},
   "source": [
    "### a. Creating a Simple Dataframe"
   ]
  },
  {
   "cell_type": "code",
   "execution_count": null,
   "id": "b26bc45a",
   "metadata": {},
   "outputs": [],
   "source": [
    "# Let us create a simple data frame\n",
    "import pandas as pd\n",
    "df = pd.DataFrame({\n",
    "    'roll_no': [ 102, 101, 104, 103, 105],\n",
    "    'name' : ['Kamal', 'Saima', 'Jamal', 'Shaikh', 'Farzana'],\n",
    "    'gender' : ['M', 'F', 'M', 'M', 'F'],\n",
    "    'grade'  : ['A', 'A', 'B', 'B', 'A'],\n",
    "    'marks'  : [ 21,  23,  12,  14,  20],\n",
    "    'city' : ['Lahore', 'Peshawer', 'Lahore', 'Karachi', 'Peshawer']\n",
    "})\n",
    "df"
   ]
  },
  {
   "cell_type": "markdown",
   "id": "0ca23f18",
   "metadata": {},
   "source": [
    "### b. Sorting by Single Column"
   ]
  },
  {
   "cell_type": "code",
   "execution_count": null,
   "id": "8c2ceb82",
   "metadata": {},
   "outputs": [],
   "source": [
    "# Let us sort the data by grade column\n",
    "# By default the sorting is done in ascending order and is not inplace\n",
    "sorted_df = df.sort_values(by=['marks'])\n",
    "sorted_df\n"
   ]
  },
  {
   "cell_type": "code",
   "execution_count": null,
   "id": "4468aa9d",
   "metadata": {},
   "outputs": [],
   "source": [
    "# Note since the sorting is not inplace, so the original dataframe is still unsorted\n",
    "df"
   ]
  },
  {
   "cell_type": "code",
   "execution_count": null,
   "id": "ee1e607a",
   "metadata": {},
   "outputs": [],
   "source": [
    "# Let us do an in-place sort and in descending order\n",
    "df.sort_values(by=['marks'], ascending=False, inplace=True)\n",
    "df"
   ]
  },
  {
   "cell_type": "markdown",
   "id": "dca3a055",
   "metadata": {},
   "source": [
    "### c. Sorting by Multiple Columns"
   ]
  },
  {
   "cell_type": "code",
   "execution_count": null,
   "id": "e50a0e43",
   "metadata": {
    "scrolled": false
   },
   "outputs": [],
   "source": [
    "# Let us sort again in ascending order by grade\n",
    "d1 = df.sort_values(by=['grade'])\n",
    "d1"
   ]
  },
  {
   "cell_type": "markdown",
   "id": "aadaceac",
   "metadata": {},
   "source": [
    "- Note in above output, we have sorted the data based on the grade column. You can observe that some of the students with higher marks are ranked lower.\n",
    "- We want to sort the data based on both grades and marks."
   ]
  },
  {
   "cell_type": "code",
   "execution_count": null,
   "id": "586130e6",
   "metadata": {},
   "outputs": [],
   "source": [
    "# sort the dataframe\n",
    "d2 = df.sort_values(by=['grade','marks'])\n",
    "d2"
   ]
  },
  {
   "cell_type": "markdown",
   "id": "3e4d24bd",
   "metadata": {},
   "source": [
    "- Note that the data is first sorted by grade, and then within grade it is sorted by marks\n",
    "- Let us now sort by grades in ascending order and marks in descending order.\n"
   ]
  },
  {
   "cell_type": "code",
   "execution_count": null,
   "id": "a26aa1c0",
   "metadata": {},
   "outputs": [],
   "source": [
    "d3 = df.sort_values(by=['grade','marks'], ascending=[True,False])\n",
    "d3"
   ]
  },
  {
   "cell_type": "markdown",
   "id": "8422a8d4",
   "metadata": {},
   "source": [
    "- When sorting by multiple columns, `df.sort_value()` uses the first variable first and second variable next. \n",
    "- Let us understand this by switching the order of column names in the list."
   ]
  },
  {
   "cell_type": "code",
   "execution_count": null,
   "id": "6ea8954f",
   "metadata": {},
   "outputs": [],
   "source": [
    "# changed the order of columns\n",
    "# When sorting by multiple columns, pandas sort_value() uses the first variable first and second variable next. \n",
    "# Let us understand this by switching the order of column names in the list.\n",
    "d4 = df.sort_values(by=['marks','grade'])\n",
    "d4"
   ]
  },
  {
   "cell_type": "markdown",
   "id": "9d7bfca2",
   "metadata": {},
   "source": [
    "### d. Reset the Index (if you want)\n",
    "- After you sort your dataset, you can observe that the index is also shuffled according to the sorting. If we want to reset the index we use `reset_index()` function.\n"
   ]
  },
  {
   "cell_type": "code",
   "execution_count": null,
   "id": "a4cf9a60",
   "metadata": {},
   "outputs": [],
   "source": [
    "d4.reset_index()"
   ]
  },
  {
   "cell_type": "markdown",
   "id": "fa157337",
   "metadata": {},
   "source": [
    "- Observe that now it has created another column 'index' which is the previous index. \n",
    "- If you want to remove this just pass the parameter `drop = True` and also `inplace = True` to save the state."
   ]
  },
  {
   "cell_type": "code",
   "execution_count": null,
   "id": "92122811",
   "metadata": {},
   "outputs": [],
   "source": [
    "d4.reset_index(inplace=True, drop=True)\n",
    "d4"
   ]
  },
  {
   "cell_type": "markdown",
   "id": "f3702626",
   "metadata": {},
   "source": [
    "### e. Handle NaN Values"
   ]
  },
  {
   "cell_type": "code",
   "execution_count": null,
   "id": "b1830260",
   "metadata": {},
   "outputs": [],
   "source": [
    "import numpy as np\n",
    "import pandas as pd\n",
    "a2DNumPyArray =[\n",
    "           ['MS01', 'Rauf',    52, 'Lahore',    'MORNING',   'group C', 'Male',   78.3, 84.4, 5000],\n",
    "           ['MS02', 'Arif',    51, 'Islamabad', 'AFT',       'group A', 'Male',   70.5, np.nan, 6000],\n",
    "           ['MS03', 'Shaista', 35, 'Karachi',   'AFTERNOON', 'group B', 'Female', 64.9, 75.1, 8500],\n",
    "           ['MS04', 'Hadeed',  20, 'Lahore',    'MOR',       'group A', 'Male',   np.nan, 84.3, 4000],\n",
    "           ['MS05', 'Zara',    40, 'Peshawer',  'AFT',       'group D', 'Female', 65.9, 72.8, 3500],\n",
    "           ['MS06', 'Mohid',   16, 'Lahore',    'MORNING' ,  'group C', 'Female', 69.3, 78.6, np.nan],\n",
    "           ['MS07', 'Zobia',   40, 'Sialkot',   'AFT',       'group B', 'Female', 90.2, np.nan, 4000],\n",
    "           ['MS08', 'Idrees',  51, 'Multan',    'MORNING',   'group D', 'Male',   84.1, 76.0, 8000],\n",
    "           ['MS09', 'Jamil',   53, 'Karachi',   'AFT',       'group C', 'Male',   90.5, 81.3, np.nan],\n",
    "           ['MS10', 'Shahid',  38, 'Lahore',   'AFTERNOON', 'group D', 'Male',   90.5, 81.3, 3800],\n",
    "           ['MS11', 'Khurram', 35, 'Islamabad',   'MOR',       'group B', 'Male',   90.5, 81.3, 6000],\n",
    "           ['MS12', 'Maaz',    25, 'Karachi',   'AFTERNOON', 'group C', 'Male',   90.5, 81.3, np.nan],\n",
    "           ['MS13', 'Mujahid', 18, 'Lahore',    'MORNING',   'group D', 'Male',   np.nan, 76.5, 7000],\n",
    "           ['MS14', 'Sara',  28, 'Multan',    'AFTERNOON',   'group A', 'Female',   84.1, 76.0, 8000],\n",
    "           ['MS15', 'Fatima',   33, 'Sialkot',   'AFT',       'group C', 'Female',   90.5, 81.3, 3500],\n",
    "           ['MS16', 'Kakamanna',  42, 'Multan',   'AFTERNOON', 'group A', 'Male',   90.5, 81.3, 3800],\n",
    "\n",
    "      ]\n",
    "\n",
    "list1 = ['rollno', 'name', 'age', 'address', 'session', 'group', 'gender', 'subj1', 'subj2', 'scholarship']\n",
    "df = pd.DataFrame(data=a2DNumPyArray, columns=list1)\n",
    "df"
   ]
  },
  {
   "cell_type": "code",
   "execution_count": null,
   "id": "0e758268",
   "metadata": {},
   "outputs": [],
   "source": [
    "# If there is a missing value NaN, by default it is listed at the end when using sort_values function\n",
    "# Regardless of the sorting order (Ascending or Descending)\n",
    "d1 = df.sort_values(by=['scholarship'])\n",
    "d1.tail()"
   ]
  },
  {
   "cell_type": "code",
   "execution_count": null,
   "id": "de9ce14b",
   "metadata": {},
   "outputs": [],
   "source": [
    "# If the argument na_position='first', it will be listed at the top.\n",
    "d2 = df.sort_values(by=['scholarship'], na_position='first')\n",
    "d2.head()"
   ]
  },
  {
   "cell_type": "markdown",
   "id": "19fa2853",
   "metadata": {},
   "source": [
    "## 2. Sorting dataframes using `df.sort_index()`\n",
    "> We have observed while using `df.sort_values()`, by default the sorting is performed in the vertical direction. If you want to sort in the row direction, we can set the`axis` argument of  `df.sort_values()` method to 1, which is by default set to zero. However, it may cause problems when a number and a string are mixed\n",
    "\n",
    "- So to sort a dataframe in the horizontal direction, we normally use **`df.sort_index()`** method.\n",
    "```\n",
    "df.sort_index(axis=0,ascending=True,inplace=False,kind='quicksort',na_position='last',ignore_index=False)\n",
    "```\n",
    "Where,\n",
    "-  `axis`: The axis along which to sort. The value 0 identifies the rows, and 1 identifies the columns. (default is 0)\n",
    "- `ascending`: If True then ascending and If False then descending\n",
    "- `inplace`:  If True, perform operation in-place.\n",
    "- `kind`: {'quicksort', 'mergesort', 'heapsort', 'stable'}, default 'quicksort'. This option is only applied when sorting on a single column or label.\n",
    "- `na_position`: If first then puts NaNs at the beginning. Default is last\n",
    "- `ignore_index`: If True, the resulting axis will be labeled 0, 1, …, n - 1. Default False"
   ]
  },
  {
   "cell_type": "code",
   "execution_count": null,
   "id": "1925f8e3",
   "metadata": {},
   "outputs": [],
   "source": [
    "# Let us create a simple data frame\n",
    "import pandas as pd\n",
    "df = pd.DataFrame({\n",
    "    'roll_no': [ 102, 101, 104, 103, 105],\n",
    "    'name' : ['Kamal', 'Saima', 'Jamal', 'Shaikh', 'Farzana'],\n",
    "    'gender' : ['M', 'F', 'M', 'M', 'F'],\n",
    "    'grade'  : ['A', 'A', 'B', 'B', 'A'],\n",
    "    'marks'  : [ 21,  23,  12,  14,  20],\n",
    "    'city' : ['Lahore', 'Peshawer', 'Lahore', 'Karachi', 'Peshawer']\n",
    "})\n",
    "df"
   ]
  },
  {
   "cell_type": "markdown",
   "id": "b4560468",
   "metadata": {},
   "source": [
    "### a. Sort by Column Labels\n",
    "- By passing the axis argument with a value 0 or 1, the sorting can be done on the column labels. By default, axis=0"
   ]
  },
  {
   "cell_type": "code",
   "execution_count": null,
   "id": "7f4f7e44",
   "metadata": {},
   "outputs": [],
   "source": [
    "df1 = df.sort_index(axis=1)\n",
    "df1"
   ]
  },
  {
   "cell_type": "code",
   "execution_count": null,
   "id": "f9ecd10e",
   "metadata": {},
   "outputs": [],
   "source": [
    "# Let us do an in-place sort and in descending order\n",
    "df1 = df.sort_index(axis=1, ascending=False)\n",
    "df1"
   ]
  },
  {
   "cell_type": "markdown",
   "id": "eb402229",
   "metadata": {},
   "source": [
    "### b. Sort by Index\n",
    "- This will be a three step process\n",
    "    - Make the specific column as index\n",
    "    - Call sort_index() with axis=0\n",
    "    - Reset Index"
   ]
  },
  {
   "cell_type": "markdown",
   "id": "3fe78d5f",
   "metadata": {},
   "source": [
    "**Let us sort by grades**"
   ]
  },
  {
   "cell_type": "code",
   "execution_count": null,
   "id": "a631c972",
   "metadata": {},
   "outputs": [],
   "source": [
    "# Lets us set the roll_no column as index\n",
    "df1 = df.set_index([\"grade\"])\n",
    "df1"
   ]
  },
  {
   "cell_type": "code",
   "execution_count": null,
   "id": "3249becc",
   "metadata": {},
   "outputs": [],
   "source": [
    "# sort the datframe by index \n",
    "df2 = df1.sort_index(axis=0)\n",
    "df2"
   ]
  },
  {
   "cell_type": "code",
   "execution_count": null,
   "id": "5963639d",
   "metadata": {},
   "outputs": [],
   "source": [
    "# After sort you can reset the index if you want\n",
    "df2.reset_index(inplace=True, drop=False)\n",
    "df2"
   ]
  },
  {
   "cell_type": "code",
   "execution_count": null,
   "id": "e5cc170b",
   "metadata": {},
   "outputs": [],
   "source": []
  },
  {
   "cell_type": "code",
   "execution_count": null,
   "id": "91d7afb4",
   "metadata": {},
   "outputs": [],
   "source": []
  },
  {
   "cell_type": "code",
   "execution_count": null,
   "id": "0d9d765d",
   "metadata": {},
   "outputs": [],
   "source": []
  }
 ],
 "metadata": {
  "kernelspec": {
   "display_name": "Python 3 (ipykernel)",
   "language": "python",
   "name": "python3"
  },
  "language_info": {
   "codemirror_mode": {
    "name": "ipython",
    "version": 3
   },
   "file_extension": ".py",
   "mimetype": "text/x-python",
   "name": "python",
   "nbconvert_exporter": "python",
   "pygments_lexer": "ipython3",
   "version": "3.8.10"
  }
 },
 "nbformat": 4,
 "nbformat_minor": 5
}
