{
 "cells": [
  {
   "cell_type": "markdown",
   "id": "fff56b76",
   "metadata": {},
   "source": [
    "---   \n",
    " <img align=\"left\" width=\"75\" height=\"75\"  src=\"https://upload.wikimedia.org/wikipedia/en/c/c8/University_of_the_Punjab_logo.png\"> \n",
    "\n",
    "<h1 align=\"center\">Department of Data Science</h1>\n",
    "<h1 align=\"center\">Course: Tools and Techniques for Data Science</h1>\n",
    "\n",
    "---\n",
    "<h3><div align=\"right\">Instructor: Muhammad Arif Butt, Ph.D.</div></h3>    "
   ]
  },
  {
   "cell_type": "markdown",
   "id": "05dbb7e4",
   "metadata": {},
   "source": [
    "<h1 align=\"center\">Lecture 3.21 (Data Visualization-I)</h1>"
   ]
  },
  {
   "cell_type": "markdown",
   "id": "117c331e",
   "metadata": {},
   "source": [
    "## _Data Visualization with Matplotlib_\n",
    "\n",
    "**Read Documentation for details:** \n",
    "https://matplotlib.org/stable/users/index.html"
   ]
  },
  {
   "cell_type": "markdown",
   "id": "10a00218",
   "metadata": {},
   "source": [
    "<img align=\"left\" width=\"500\" height=\"500\"  src=\"images/intromatlab.png\"  >\n",
    "<img align=\"right\" width=\"400\" height=\"500\"  src=\"images/matplotlibadvantages.png\"  >"
   ]
  },
  {
   "cell_type": "code",
   "execution_count": null,
   "id": "5c63473d",
   "metadata": {},
   "outputs": [],
   "source": []
  },
  {
   "cell_type": "code",
   "execution_count": null,
   "id": "0677fbfc",
   "metadata": {},
   "outputs": [],
   "source": []
  },
  {
   "cell_type": "markdown",
   "id": "2a1a90b7",
   "metadata": {},
   "source": [
    "## 1. Data Visualization and Matplotlib Library\n",
    "<img align=\"right\" width=\"500\" height=\"500\"  src=\"images/graphs1.png\"  >\n",
    "\n",
    ">- Data visualization is the graphic representation of data. It involves producing images that communicate relationships among the represented data to viewers. \n",
    ">- Visualizing data is an essential part of data analysis and machine learning. We'll use Python library [Matplotlib](https://matplotlib.org) to learn and apply some popular data visualization techniques. Normally the words _chart_, _plot_, and _graph_ are interchangeably in literature.\n",
    ">- Matplotlib is a low level graph plotting library in python that serves as a visualization utility. It is a very popular Python library for data visualization. It particularly comes in handy when a programmer wants to visualize the patterns in the data. \n",
    ">- Matplotlib is a 2D plotting library used for creating 2D graphs and plots, and is used as a part of the exploratory process; for example, helping identify outliers, needed data transformations, or coming up with ideas for models."
   ]
  },
  {
   "cell_type": "markdown",
   "id": "f90af046",
   "metadata": {},
   "source": [
    "## 1. Chart Chooser\n",
    "<img align=\"center\" width=\"700\" height=\"700\"  src=\"images/chart-chooser.png\"  >\n"
   ]
  },
  {
   "cell_type": "markdown",
   "id": "e42b820a",
   "metadata": {},
   "source": [
    "## Learning agenda of this notebook\n",
    "\n",
    "1. Data Visualization and Matplotlib Library\n",
    "2. How to Choose the right Chart/Graph for your Data\n",
    "3. Anatomy of a Figure\n",
    "4. Step-By-Step Working of a Line Chart\n",
    "\n",
    "\n",
    "\n",
    "5. Bar-plots\n",
    "4. Scatter-plot\n",
    "5. Histogram\n",
    "6. Working with a Built-in Dataset\n",
    "7. Pie Chart\n",
    "8. DoughNut Chart\n",
    "9. Box-plot\n",
    "10. Violin plot\n",
    "11. Heatmap\n",
    "12. 3-D Surface\n",
    "13. Plotting Time Series\n",
    "14. Stem Plot\n",
    "15. Radar Plot"
   ]
  },
  {
   "cell_type": "code",
   "execution_count": null,
   "id": "2ffb82b4",
   "metadata": {},
   "outputs": [],
   "source": []
  },
  {
   "cell_type": "code",
   "execution_count": null,
   "id": "d533666d",
   "metadata": {},
   "outputs": [],
   "source": []
  },
  {
   "cell_type": "markdown",
   "id": "e6e9f900",
   "metadata": {},
   "source": [
    "## 2. Anatomy of a Figure\n",
    ">- Matplotlib is a versatile tool that can be used to create many different plot elements. \n",
    ">- Before trying to create a plot, let’s make sure to define some basic terms first. For example the  image in front tells us some important parts of a figure.\n",
    "\n",
    "<img align=\"center\" width=\"700\" height=\"500\"  src=\"images/anotomyoffig.png\"  >"
   ]
  },
  {
   "cell_type": "markdown",
   "id": "dfd1b1d8",
   "metadata": {},
   "source": [
    "To begin, let's install the Matplotlib library. We'll use the `matplotlib.pyplot` module for basic plots like line & bar charts. It is often imported with the alias `plt`. "
   ]
  },
  {
   "cell_type": "code",
   "execution_count": null,
   "id": "7e6f955f",
   "metadata": {},
   "outputs": [],
   "source": [
    "# To install this library in Jupyter notebook\n",
    "import sys\n",
    "!{sys.executable} -m pip install matplotlib --quiet"
   ]
  },
  {
   "cell_type": "code",
   "execution_count": null,
   "id": "e99b39c5",
   "metadata": {},
   "outputs": [],
   "source": [
    "import matplotlib\n",
    "matplotlib.__version__ , matplotlib.__path__"
   ]
  },
  {
   "cell_type": "markdown",
   "id": "ca7c3f4c",
   "metadata": {},
   "source": [
    "## 2. How to Draw a Line Chart"
   ]
  },
  {
   "cell_type": "code",
   "execution_count": null,
   "id": "a743d8cb",
   "metadata": {},
   "outputs": [],
   "source": [
    "from matplotlib import pyplot as plt"
   ]
  },
  {
   "cell_type": "code",
   "execution_count": null,
   "id": "b1e59bd3",
   "metadata": {},
   "outputs": [],
   "source": [
    "chemical_exports = [0.810, 0.831, 0.895, 0.91, 0.915, 0.926, 0.945, 0.931, 0.919, 0.921, 0.920, 0.919]\n",
    "years = [2010, 2011, 2012, 2013, 2014, 2015, 2016, 2017, 2018, 2019, 2020, 2021]\n",
    "plt.plot(years, chemical_exports) \n",
    "plt.show()"
   ]
  },
  {
   "cell_type": "markdown",
   "id": "46c1e359",
   "metadata": {},
   "source": [
    "## Enhance the Graph Step by Step"
   ]
  },
  {
   "cell_type": "markdown",
   "id": "4a594f78",
   "metadata": {},
   "source": [
    "### a. Adding Chart Title"
   ]
  },
  {
   "cell_type": "code",
   "execution_count": null,
   "id": "a86c78f3",
   "metadata": {},
   "outputs": [],
   "source": [
    "chemical_exports = [0.810, 0.831, 0.895, 0.91, 0.915, 0.926, 0.945, 0.931, 0.919, 0.921, 0.920, 0.919]\n",
    "years = [2010, 2011, 2012, 2013, 2014, 2015, 2016, 2017, 2018, 2019, 2020, 2021]\n",
    "plt.plot(years, chemical_exports) \n",
    "\n",
    "plt.title(\"LCI exports in last 12 years\")\n",
    "\n",
    "plt.show()"
   ]
  },
  {
   "cell_type": "markdown",
   "id": "76f8486a",
   "metadata": {},
   "source": [
    "### b. Setting x/y-Labels"
   ]
  },
  {
   "cell_type": "code",
   "execution_count": null,
   "id": "d708211f",
   "metadata": {},
   "outputs": [],
   "source": [
    "chemical_exports = [0.810, 0.831, 0.895, 0.91, 0.915, 0.926, 0.945, 0.931, 0.919, 0.921, 0.920, 0.919]\n",
    "years = [2010, 2011, 2012, 2013, 2014, 2015, 2016, 2017, 2018, 2019, 2020, 2021]\n",
    "plt.plot(years, chemical_exports) \n",
    "plt.title(\"LCI exports in last 12 years\")\n",
    "\n",
    "plt.xlabel(\"Years\")\n",
    "plt.ylabel(\"Amount (Million Rs.)\")\n",
    "\n",
    "plt.show()"
   ]
  },
  {
   "cell_type": "markdown",
   "id": "f63201d2",
   "metadata": {},
   "source": [
    "### c. Modifying Ticks"
   ]
  },
  {
   "cell_type": "code",
   "execution_count": null,
   "id": "fff75b12",
   "metadata": {},
   "outputs": [],
   "source": [
    "import numpy as np\n",
    "chemical_exports = [0.810, 0.831, 0.895, 0.91, 0.915, 0.926, 0.945, 0.931, 0.919, 0.921, 0.920, 0.919]\n",
    "years = [2010, 2011, 2012, 2013, 2014, 2015, 2016, 2017, 2018, 2019, 2020, 2021]\n",
    "plt.plot(years, chemical_exports) \n",
    "plt.title(\"LCI exports in last 12 years\")\n",
    "\n",
    "plt.xlabel(\"Years\")\n",
    "plt.ylabel(\"Amount (Million Rs.)\")\n",
    "\n",
    "# Adding ticks\n",
    "xvals = np.arange(2011, 2022, 2)\n",
    "yvals = np.linspace(0.80, 0.98, 10)\n",
    "plt.xticks(xvals) \n",
    "plt.yticks(yvals) \n",
    "\n",
    "\n",
    "\n",
    "\n",
    "plt.show()"
   ]
  },
  {
   "cell_type": "markdown",
   "id": "2f6ec11d",
   "metadata": {},
   "source": [
    "### d. Adding Multiple Lines in a Graph"
   ]
  },
  {
   "cell_type": "code",
   "execution_count": null,
   "id": "edcac372",
   "metadata": {},
   "outputs": [],
   "source": [
    "import numpy as np\n",
    "chemical_exports = [0.810, 0.831, 0.895, 0.91, 0.915, 0.926, 0.945, 0.931, 0.919, 0.921, 0.920, 0.919]\n",
    "years = [2010, 2011, 2012, 2013, 2014, 2015, 2016, 2017, 2018, 2019, 2020, 2021]\n",
    "plt.plot(years, chemical_exports) \n",
    "\n",
    "\n",
    "medicine_exports = [0.791, 0.818, 0.832, 0.816, 0.840, 0.833, 0.835, 0.838, 0.842, 0.910, 0.930, 0.940]\n",
    "plt.plot(years, medicine_exports) \n",
    "\n",
    "\n",
    "\n",
    "plt.title(\"LCI exports in last 12 years\")\n",
    "plt.xlabel(\"Years\")\n",
    "plt.ylabel(\"Amount (Million Rs.)\")\n",
    "\n",
    "xvals = np.arange(2011, 2022, 2)\n",
    "yvals = np.linspace(0.80, 0.98, 10)\n",
    "plt.xticks(xvals) \n",
    "plt.yticks(yvals) \n",
    "\n",
    "\n",
    "\n",
    "\n",
    "plt.show()"
   ]
  },
  {
   "cell_type": "markdown",
   "id": "03388c7f",
   "metadata": {},
   "source": [
    "### e. Adding Chart Legend"
   ]
  },
  {
   "cell_type": "markdown",
   "id": "7b4c75f8",
   "metadata": {},
   "source": [
    "**Option1:**"
   ]
  },
  {
   "cell_type": "code",
   "execution_count": null,
   "id": "bc33f626",
   "metadata": {},
   "outputs": [],
   "source": [
    "chemical_exports = [0.810, 0.831, 0.895, 0.91, 0.915, 0.926, 0.945, 0.931, 0.919, 0.921, 0.920, 0.919]\n",
    "years = [2010, 2011, 2012, 2013, 2014, 2015, 2016, 2017, 2018, 2019, 2020, 2021]\n",
    "plt.plot(years, chemical_exports) \n",
    "\n",
    "\n",
    "medicine_exports = [0.791, 0.818, 0.832, 0.816, 0.840, 0.833, 0.835, 0.838, 0.842, 0.910, 0.930, 0.940]\n",
    "plt.plot(years, medicine_exports) \n",
    "\n",
    "\n",
    "\n",
    "plt.title(\"LCI exports in last 12 years\")\n",
    "plt.xlabel(\"Years\")\n",
    "plt.ylabel(\"Amount (Million Rs.)\")\n",
    "\n",
    "xvals = np.arange(2011, 2022, 2)\n",
    "yvals = np.linspace(0.80, 0.98, 10)\n",
    "plt.xticks(xvals,) \n",
    "plt.yticks(yvals) \n",
    "\n",
    "\n",
    "\n",
    "\n",
    "# Add a lagend to the graph\n",
    "plt.legend([\"Chemicals\", \"Medicines\"], loc='best')\n",
    "\n",
    "\n",
    "plt.show()"
   ]
  },
  {
   "cell_type": "markdown",
   "id": "ae3bc105",
   "metadata": {},
   "source": [
    "**Option2:**"
   ]
  },
  {
   "cell_type": "code",
   "execution_count": null,
   "id": "c30c1118",
   "metadata": {},
   "outputs": [],
   "source": [
    "chemical_exports = [0.810, 0.831, 0.895, 0.91, 0.915, 0.926, 0.945, 0.931, 0.919, 0.921, 0.920, 0.919]\n",
    "years = [2010, 2011, 2012, 2013, 2014, 2015, 2016, 2017, 2018, 2019, 2020, 2021]\n",
    "plt.plot(years, chemical_exports, label='Chemicals') \n",
    "\n",
    "\n",
    "medicine_exports = [0.791, 0.818, 0.832, 0.816, 0.840, 0.833, 0.835, 0.838, 0.842, 0.910, 0.930, 0.940]\n",
    "plt.plot(years, medicine_exports, label='Medicines') \n",
    "\n",
    "\n",
    "\n",
    "plt.title(\"LCI exports in last 12 years\")\n",
    "plt.xlabel(\"Years\")\n",
    "plt.ylabel(\"Amount (Million Rs.)\")\n",
    "\n",
    "xvals = np.arange(2011, 2022, 2)\n",
    "yvals = np.linspace(0.80, 0.98, 10)\n",
    "plt.xticks(xvals) \n",
    "plt.yticks(yvals) \n",
    "\n",
    "\n",
    "\n",
    "\n",
    "# Add a lagend to the graph\n",
    "plt.legend(loc='best')\n",
    "\n",
    "\n",
    "plt.show()"
   ]
  },
  {
   "cell_type": "code",
   "execution_count": null,
   "id": "3ce69ae1",
   "metadata": {},
   "outputs": [],
   "source": []
  },
  {
   "cell_type": "code",
   "execution_count": null,
   "id": "a0bcb665",
   "metadata": {},
   "outputs": [],
   "source": []
  },
  {
   "cell_type": "markdown",
   "id": "a16b3d1d",
   "metadata": {},
   "source": [
    "### f. Use of Markers\n",
    "- Matplotlib provides many different markers, like a circle, cross, square, diamond, etc. You can find the full list of marker types here: https://matplotlib.org/3.1.1/api/markers_api.html .\n",
    "- The `plt.plot` function supports many arguments for markers:\n",
    "    - `markersize` or `ms`: Set the size of markers\n",
    "    - `markeredgecolor` or `mec`: Set the edge color for markers\n",
    "    - `markeredgewidth` or `mew`: Set the edge width for markers\n",
    "    - `markerfacecolor` or `mfc`: Set the fill color for markers"
   ]
  },
  {
   "cell_type": "code",
   "execution_count": null,
   "id": "81cee925",
   "metadata": {},
   "outputs": [],
   "source": [
    "chemical_exports = [0.810, 0.831, 0.895, 0.91, 0.915, 0.926, 0.945, 0.931, 0.919, 0.921, 0.920, 0.919]\n",
    "years = [2010, 2011, 2012, 2013, 2014, 2015, 2016, 2017, 2018, 2019, 2020, 2021]\n",
    "plt.plot(years, chemical_exports, label='Chemicals', marker='o') \n",
    "\n",
    "\n",
    "medicine_exports = [0.791, 0.818, 0.832, 0.816, 0.840, 0.833, 0.835, 0.838, 0.842, 0.910, 0.930, 0.940]\n",
    "plt.plot(years, medicine_exports, label='Medicines', marker='x') \n",
    "\n",
    "\n",
    "\n",
    "plt.title(\"LCI exports in last 12 years\")\n",
    "plt.xlabel(\"Years\")\n",
    "plt.ylabel(\"Amount (Million Rs.)\")\n",
    "\n",
    "xvals = np.arange(2011, 2022, 2)\n",
    "yvals = np.linspace(0.80, 0.98, 10)\n",
    "plt.xticks(xvals) \n",
    "plt.yticks(yvals) \n",
    "\n",
    "\n",
    "\n",
    "\n",
    "# Add a lagend to the graph\n",
    "plt.legend(loc='best')\n",
    "\n",
    "\n",
    "plt.show()"
   ]
  },
  {
   "cell_type": "code",
   "execution_count": null,
   "id": "afda343f",
   "metadata": {},
   "outputs": [],
   "source": []
  },
  {
   "cell_type": "markdown",
   "id": "4e38184c",
   "metadata": {},
   "source": [
    "### g. Styling the Lines (Line Attributes)\n",
    "- The `plt.plot` function supports many arguments for styling lines\n",
    "    - `color` or `c`: Set the color of the line\n",
    "    - `linestyle` or `ls`: Choose between a solid or dashed line\n",
    "    - `linewidth` or `lw`: Set the width of a line\n",
    "\n",
    "\n",
    "Checkout the supported colors: https://matplotlib.org/3.1.0/tutorials/colors/colors.html\n",
    "\n",
    "Check out the documentation for `plt.plot` to learn more: [https://matplotlib.org/api/_as_gen/matplotlib.pyplot.plot.html#matplotlib.pyplot.plot]"
   ]
  },
  {
   "cell_type": "code",
   "execution_count": null,
   "id": "57c0aea8",
   "metadata": {},
   "outputs": [],
   "source": [
    "chemical_exports = [0.810, 0.831, 0.895, 0.91, 0.915, 0.926, 0.945, 0.931, 0.919, 0.921, 0.920, 0.919]\n",
    "years = [2010, 2011, 2012, 2013, 2014, 2015, 2016, 2017, 2018, 2019, 2020, 2021]\n",
    "plt.plot(years, chemical_exports, label='Chemicals', marker='o', c='b', ls='-', lw=2) \n",
    "\n",
    "\n",
    "medicine_exports = [0.791, 0.818, 0.832, 0.816, 0.840, 0.833, 0.835, 0.838, 0.842, 0.910, 0.930, 0.940]\n",
    "plt.plot(years, medicine_exports, label='Medicines', marker='x', c='r', ls=':', lw=2) \n",
    "\n",
    "\n",
    "\n",
    "plt.title(\"LCI exports in last 12 years\")\n",
    "plt.xlabel(\"Years\")\n",
    "plt.ylabel(\"Amount (Million Rs.)\")\n",
    "\n",
    "xvals = np.arange(2011, 2022, 2)\n",
    "yvals = np.linspace(0.80, 0.98, 10)\n",
    "plt.xticks(xvals, color='b') \n",
    "plt.yticks(yvals, color='b') \n",
    "\n",
    "\n",
    "\n",
    "\n",
    "# Add a lagend to the graph\n",
    "plt.legend(loc='best')\n",
    "\n",
    "\n",
    "plt.show()"
   ]
  },
  {
   "cell_type": "code",
   "execution_count": null,
   "id": "ef963d6d",
   "metadata": {},
   "outputs": [],
   "source": []
  },
  {
   "cell_type": "markdown",
   "id": "5fad5dd4",
   "metadata": {},
   "source": [
    "### h. Using Format String to Style the Lines\n",
    "**Most of the time we just want to set the marker, line style, and line color. The plt.plot() method can be passed a single string for this purpose `fmt='[marker][line][color]`**\n",
    "\n",
    "```plt.plot(years, sports_export, 'o-g')```\n",
    "\n",
    "This format string cannot be passed as named argument, rather is a positional argument after the x,y arguments to plt.plot() method"
   ]
  },
  {
   "cell_type": "code",
   "execution_count": null,
   "id": "a3232013",
   "metadata": {},
   "outputs": [],
   "source": [
    "chemical_exports = [0.810, 0.831, 0.895, 0.91, 0.915, 0.926, 0.945, 0.931, 0.919, 0.921, 0.920, 0.919]\n",
    "years = [2010, 2011, 2012, 2013, 2014, 2015, 2016, 2017, 2018, 2019, 2020, 2021]\n",
    "plt.plot(years, chemical_exports, 'o-g', label='Chemicals') \n",
    "\n",
    "\n",
    "medicine_exports = [0.791, 0.818, 0.832, 0.816, 0.840, 0.833, 0.835, 0.838, 0.842, 0.910, 0.930, 0.940]\n",
    "plt.plot(years, medicine_exports, 'x-r', label='Medicines') \n",
    "\n",
    "\n",
    "\n",
    "plt.title(\"LCI exports in last 12 years\")\n",
    "plt.xlabel(\"Years\")\n",
    "plt.ylabel(\"Amount (Million Rs.)\")\n",
    "\n",
    "xvals = np.arange(2011, 2022, 2)\n",
    "yvals = np.linspace(0.80, 0.98, 10)\n",
    "plt.xticks(xvals, color='b') \n",
    "plt.yticks(yvals, color='b') \n",
    "\n",
    "\n",
    "\n",
    "\n",
    "# Add a lagend to the graph\n",
    "plt.legend(loc='best')\n",
    "\n",
    "\n",
    "plt.show()"
   ]
  },
  {
   "cell_type": "code",
   "execution_count": null,
   "id": "6b100659",
   "metadata": {},
   "outputs": [],
   "source": []
  },
  {
   "cell_type": "code",
   "execution_count": null,
   "id": "5dd42e87",
   "metadata": {},
   "outputs": [],
   "source": []
  },
  {
   "cell_type": "markdown",
   "id": "d843efa1",
   "metadata": {},
   "source": [
    "### i. Changing Figure Size and Adding Grid"
   ]
  },
  {
   "cell_type": "code",
   "execution_count": null,
   "id": "027adfb0",
   "metadata": {},
   "outputs": [],
   "source": [
    "chemical_exports = [0.810, 0.831, 0.895, 0.91, 0.915, 0.926, 0.945, 0.931, 0.919, 0.921, 0.920, 0.919]\n",
    "years = [2010, 2011, 2012, 2013, 2014, 2015, 2016, 2017, 2018, 2019, 2020, 2021]\n",
    "\n",
    "\n",
    "\n",
    "# Setting the figure size\n",
    "plt.figure(figsize=(12, 6))\n",
    "\n",
    "\n",
    "\n",
    "plt.plot(years, chemical_exports, label='Chemicals', marker='o', c='b', ls='-', lw=2) \n",
    "\n",
    "\n",
    "medicine_exports = [0.791, 0.818, 0.832, 0.816, 0.840, 0.833, 0.835, 0.838, 0.842, 0.910, 0.930, 0.940]\n",
    "plt.plot(years, medicine_exports, label='Medicines', marker='x', c='r', ls=':', lw=2) \n",
    "\n",
    "\n",
    "plt.title(\"LCI exports in last 12 years\")\n",
    "plt.xlabel(\"Years\")\n",
    "plt.ylabel(\"Amount (Million Rs.)\")\n",
    "\n",
    "xvals = np.arange(2011, 2022, 2)\n",
    "yvals = np.linspace(0.80, 0.98, 10)\n",
    "plt.xticks(xvals, color='b') \n",
    "plt.yticks(yvals, color='b') \n",
    "\n",
    "\n",
    "plt.grid(True)\n",
    "\n",
    "# Add a lagend to the graph\n",
    "plt.legend(loc='best')\n",
    "\n",
    "plt.show()"
   ]
  },
  {
   "cell_type": "markdown",
   "id": "5a234940",
   "metadata": {},
   "source": [
    "### j. Using Annotation"
   ]
  },
  {
   "cell_type": "code",
   "execution_count": null,
   "id": "02cbd532",
   "metadata": {},
   "outputs": [],
   "source": [
    "chemical_exports = [0.810, 0.831, 0.895, 0.91, 0.915, 0.926, 0.945, 0.931, 0.919, 0.921, 0.920, 0.919]\n",
    "years = [2010, 2011, 2012, 2013, 2014, 2015, 2016, 2017, 2018, 2019, 2020, 2021]\n",
    "\n",
    "\n",
    "\n",
    "# Setting the figure size\n",
    "plt.figure(figsize=(12, 6))\n",
    "\n",
    "\n",
    "\n",
    "plt.plot(years, chemical_exports, label='Chemicals', marker='o', c='b', ls='-', lw=2) \n",
    "\n",
    "\n",
    "medicine_exports = [0.791, 0.818, 0.832, 0.816, 0.840, 0.833, 0.835, 0.838, 0.842, 0.910, 0.930, 0.940]\n",
    "plt.plot(years, medicine_exports, label='Medicines', marker='x', c='r', ls=':', lw=2) \n",
    "\n",
    "\n",
    "plt.title(\"LCI exports in last 12 years\")\n",
    "plt.xlabel(\"Years\")\n",
    "plt.ylabel(\"Amount (Million Rs.)\")\n",
    "\n",
    "xvals = np.arange(2011, 2022, 2)\n",
    "yvals = np.linspace(0.80, 0.98, 10)\n",
    "plt.xticks(xvals, color='b') \n",
    "plt.yticks(yvals, color='b') \n",
    "\n",
    "\n",
    "plt.grid(True)\n",
    "\n",
    "# Add a lagend to the graph\n",
    "plt.legend(loc='best')\n",
    "\n",
    "\n",
    "plt.annotate('Peak of Medicine Exports', xy=(2016, 0.95))\n",
    "\n",
    "plt.show()"
   ]
  },
  {
   "cell_type": "markdown",
   "id": "d7e78122",
   "metadata": {},
   "source": [
    "### k. Using Built-in Styles"
   ]
  },
  {
   "cell_type": "code",
   "execution_count": null,
   "id": "87878138",
   "metadata": {},
   "outputs": [],
   "source": [
    "plt.style.available"
   ]
  },
  {
   "cell_type": "code",
   "execution_count": null,
   "id": "6d3893fb",
   "metadata": {},
   "outputs": [],
   "source": [
    "\n",
    "chemical_exports = [0.810, 0.831, 0.895, 0.91, 0.915, 0.926, 0.945, 0.931, 0.919, 0.921, 0.920, 0.919]\n",
    "years = [2010, 2011, 2012, 2013, 2014, 2015, 2016, 2017, 2018, 2019, 2020, 2021]\n",
    "\n",
    "plt.plot(years, chemical_exports, label='Chemicals', marker='o', c='b', ls='-', lw=2) \n",
    "\n",
    "medicine_exports = [0.791, 0.818, 0.832, 0.816, 0.840, 0.833, 0.835, 0.838, 0.842, 0.910, 0.930, 0.940]\n",
    "plt.plot(years, medicine_exports, label='Medicines', marker='x', c='r', ls=':', lw=2) \n",
    "\n",
    "\n",
    "plt.title(\"LCI exports in last 12 years\")\n",
    "plt.xlabel(\"Years\")\n",
    "plt.ylabel(\"Amount (Million Rs.)\")\n",
    "\n",
    "xvals = np.arange(2011, 2022, 2)\n",
    "yvals = np.linspace(0.80, 0.98, 10)\n",
    "plt.xticks(xvals, color='b') \n",
    "plt.yticks(yvals, color='b') \n",
    "\n",
    "plt.legend(loc='best')\n",
    "\n",
    "\n",
    "plt.annotate('Peak of Medicine Exports', xy=(2016, 0.95))\n",
    "\n",
    "\n",
    "plt.style.use('fivethirtyeight')\n",
    "\n",
    "\n",
    "plt.show()"
   ]
  },
  {
   "cell_type": "code",
   "execution_count": null,
   "id": "be50762c",
   "metadata": {},
   "outputs": [],
   "source": [
    "from matplotlib import pyplot as plt\n",
    "import numpy as np"
   ]
  },
  {
   "cell_type": "code",
   "execution_count": null,
   "id": "2c06f506",
   "metadata": {},
   "outputs": [],
   "source": []
  },
  {
   "cell_type": "code",
   "execution_count": null,
   "id": "627e60ae",
   "metadata": {},
   "outputs": [],
   "source": []
  },
  {
   "cell_type": "code",
   "execution_count": null,
   "id": "c642fe8d",
   "metadata": {},
   "outputs": [],
   "source": []
  },
  {
   "cell_type": "code",
   "execution_count": null,
   "id": "366cdf70",
   "metadata": {},
   "outputs": [],
   "source": []
  },
  {
   "cell_type": "markdown",
   "id": "3f7133a1",
   "metadata": {},
   "source": [
    "### l. Saving the Graph"
   ]
  },
  {
   "cell_type": "code",
   "execution_count": null,
   "id": "985650a2",
   "metadata": {},
   "outputs": [],
   "source": [
    "chemical_exports = [0.810, 0.831, 0.895, 0.91, 0.915, 0.926, 0.945, 0.931, 0.919, 0.921, 0.920, 0.919]\n",
    "years = [2010, 2011, 2012, 2013, 2014, 2015, 2016, 2017, 2018, 2019, 2020, 2021]\n",
    "\n",
    "\n",
    "\n",
    "# Setting the figure size\n",
    "plt.figure(figsize=(12, 6))\n",
    "\n",
    "\n",
    "\n",
    "plt.plot(years, chemical_exports, label='Chemicals', marker='o', c='b', ls='-', lw=2) \n",
    "\n",
    "\n",
    "medicine_exports = [0.791, 0.818, 0.832, 0.816, 0.840, 0.833, 0.835, 0.838, 0.842, 0.910, 0.930, 0.940]\n",
    "plt.plot(years, medicine_exports, label='Medicines', marker='x', c='r', ls=':', lw=2) \n",
    "\n",
    "\n",
    "plt.title(\"LCI exports in last 12 years\")\n",
    "plt.xlabel(\"Years\")\n",
    "plt.ylabel(\"Amount (Million Rs.)\")\n",
    "\n",
    "xvals = np.arange(2011, 2022, 2)\n",
    "yvals = np.linspace(0.80, 0.98, 10)\n",
    "plt.xticks(xvals, color='b') \n",
    "plt.yticks(yvals, color='b') \n",
    "\n",
    "\n",
    "plt.grid(True)\n",
    "\n",
    "# Add a lagend to the graph\n",
    "plt.legend(loc='best')\n",
    "\n",
    "\n",
    "plt.annotate('Peak of Medicine Exports', xy=(2016, 0.95))\n",
    "\n",
    "\n",
    "plt.tight_layout()\n",
    "plt.savefig('mychart.png')\n",
    "plt.show()\n",
    "#plt.savefig('mychart.png')"
   ]
  },
  {
   "cell_type": "code",
   "execution_count": null,
   "id": "54e59300",
   "metadata": {},
   "outputs": [],
   "source": [
    "!ls -l mychart.png"
   ]
  },
  {
   "cell_type": "code",
   "execution_count": null,
   "id": "14abaaf7",
   "metadata": {},
   "outputs": [],
   "source": []
  },
  {
   "cell_type": "markdown",
   "id": "ca562ae0",
   "metadata": {},
   "source": [
    "# BONUS"
   ]
  },
  {
   "cell_type": "markdown",
   "id": "8792ca0f",
   "metadata": {},
   "source": [
    "## 4. Statefull vs Stateless Plotting"
   ]
  },
  {
   "cell_type": "markdown",
   "id": "1ba90fa9",
   "metadata": {},
   "source": [
    "### a. Statefull Way"
   ]
  },
  {
   "cell_type": "code",
   "execution_count": 17,
   "id": "5d514e37",
   "metadata": {},
   "outputs": [
    {
     "data": {
      "image/png": "[encoded data removed]",
      "text/plain": [
       "<Figure size 864x432 with 1 Axes>"
      ]
     },
     "metadata": {
      "needs_background": "light"
     },
     "output_type": "display_data"
    }
   ],
   "source": [
    "from matplotlib import pyplot as plt\n",
    "chemical_exports = [0.810, 0.831, 0.895, 0.91, 0.915, 0.926, 0.945, 0.931, 0.919, 0.921, 0.920, 0.919]\n",
    "years = [2010, 2011, 2012, 2013, 2014, 2015, 2016, 2017, 2018, 2019, 2020, 2021]\n",
    "medicine_exports = [0.791, 0.818, 0.832, 0.816, 0.840, 0.833, 0.835, 0.838, 0.842, 0.910, 0.930, 0.940]\n",
    "\n",
    "plt.figure(figsize=(12, 6))\n",
    "plt.plot(years, chemical_exports, label='Chemicals', marker='o', c='b', ls='-', lw=2) \n",
    "plt.plot(years, medicine_exports, label='Medicines', marker='x', c='r', ls=':', lw=2) \n",
    "\n",
    "plt.legend(loc='best')\n",
    "plt.title(\"LCI exports in last 12 years\")\n",
    "plt.xlabel(\"Years\")\n",
    "plt.ylabel(\"Amount (Million Rs.)\")\n",
    "plt.grid(True)\n",
    "plt.tight_layout()\n",
    "\n",
    "plt.show()"
   ]
  },
  {
   "cell_type": "markdown",
   "id": "e49cfc57",
   "metadata": {},
   "source": [
    "### b. Stateless / Object Oriented Way "
   ]
  },
  {
   "cell_type": "code",
   "execution_count": 18,
   "id": "986399bc",
   "metadata": {},
   "outputs": [
    {
     "data": {
      "image/png": "[encoded data removed]",
      "text/plain": [
       "<Figure size 432x288 with 1 Axes>"
      ]
     },
     "metadata": {
      "needs_background": "light"
     },
     "output_type": "display_data"
    }
   ],
   "source": [
    "from matplotlib import pyplot as plt\n",
    "chemical_exports = [0.810, 0.831, 0.895, 0.91, 0.915, 0.926, 0.945, 0.931, 0.919, 0.921, 0.920, 0.919]\n",
    "years = [2010, 2011, 2012, 2013, 2014, 2015, 2016, 2017, 2018, 2019, 2020, 2021]\n",
    "medicine_exports = [0.791, 0.818, 0.832, 0.816, 0.840, 0.833, 0.835, 0.838, 0.842, 0.910, 0.930, 0.940]\n",
    "\n",
    "\n",
    "fig, ax = plt.subplots()\n",
    "\n",
    "\n",
    "ax.plot(years, chemical_exports, label='Chemicals', marker='o', c='b', ls='-', lw=2) \n",
    "ax.plot(years, medicine_exports, label='Medicines', marker='x', c='r', ls=':', lw=2) \n",
    "ax.legend(loc='best')\n",
    "\n",
    "#Note the use of `set_`\n",
    "ax.set_title(\"LCI exports in last 12 years\")\n",
    "ax.set_xlabel(\"Years\")\n",
    "ax.set_ylabel(\"Amount (Million Rs.)\")\n",
    "\n",
    "\n",
    "plt.grid(True)\n",
    "plt.tight_layout()\n",
    "plt.show()"
   ]
  },
  {
   "cell_type": "markdown",
   "id": "b42048f9",
   "metadata": {},
   "source": [
    "## 2. Sub-Plots"
   ]
  },
  {
   "cell_type": "markdown",
   "id": "8d6a3f48",
   "metadata": {},
   "source": [
    "### a. One Figure Having Multiple Axes Objects using `subplots()` Method"
   ]
  },
  {
   "cell_type": "code",
   "execution_count": 19,
   "id": "8b5c2f65",
   "metadata": {},
   "outputs": [
    {
     "name": "stdout",
     "output_type": "stream",
     "text": [
      "[<AxesSubplot:> <AxesSubplot:>]\n"
     ]
    },
    {
     "data": {
      "image/png": "[encoded data removed]",
      "text/plain": [
       "<Figure size 432x288 with 2 Axes>"
      ]
     },
     "metadata": {
      "needs_background": "light"
     },
     "output_type": "display_data"
    }
   ],
   "source": [
    "fig, ax = plt.subplots(nrows=2, ncols=1)\n",
    "print(ax)"
   ]
  },
  {
   "cell_type": "code",
   "execution_count": 20,
   "id": "62fc78eb",
   "metadata": {},
   "outputs": [
    {
     "name": "stdout",
     "output_type": "stream",
     "text": [
      "[[<AxesSubplot:> <AxesSubplot:>]\n",
      " [<AxesSubplot:> <AxesSubplot:>]]\n"
     ]
    },
    {
     "data": {
      "image/png": "[encoded data removed]",
      "text/plain": [
       "<Figure size 432x288 with 4 Axes>"
      ]
     },
     "metadata": {
      "needs_background": "light"
     },
     "output_type": "display_data"
    }
   ],
   "source": [
    "fig, ax = plt.subplots(nrows=2, ncols=2)\n",
    "print(ax)"
   ]
  },
  {
   "cell_type": "code",
   "execution_count": 21,
   "id": "48b415a3",
   "metadata": {},
   "outputs": [
    {
     "name": "stdout",
     "output_type": "stream",
     "text": [
      "[<AxesSubplot:> <AxesSubplot:>]\n"
     ]
    },
    {
     "data": {
      "image/png": "[encoded data removed]",
      "text/plain": [
       "<Figure size 432x288 with 4 Axes>"
      ]
     },
     "metadata": {
      "needs_background": "light"
     },
     "output_type": "display_data"
    }
   ],
   "source": [
    "fig, (ax1, ax2) = plt.subplots(nrows=2, ncols=2)\n",
    "print(ax1)"
   ]
  },
  {
   "cell_type": "code",
   "execution_count": 22,
   "id": "3a245508",
   "metadata": {},
   "outputs": [
    {
     "data": {
      "image/png": "[encoded data removed]",
      "text/plain": [
       "<Figure size 432x288 with 2 Axes>"
      ]
     },
     "metadata": {
      "needs_background": "light"
     },
     "output_type": "display_data"
    }
   ],
   "source": [
    "from matplotlib import pyplot as plt\n",
    "chemical_exports = [0.810, 0.831, 0.895, 0.91, 0.915, 0.926, 0.945, 0.931, 0.919, 0.921, 0.920, 0.919]\n",
    "years = [2010, 2011, 2012, 2013, 2014, 2015, 2016, 2017, 2018, 2019, 2020, 2021]\n",
    "medicine_exports = [0.791, 0.818, 0.832, 0.816, 0.840, 0.833, 0.835, 0.838, 0.842, 0.910, 0.930, 0.940]\n",
    "\n",
    "\n",
    "fig, (ax1, ax2) = plt.subplots(nrows=2, ncols=1)\n",
    "\n",
    "ax1.plot(years, chemical_exports, label='Chemicals', marker='o', c='b', ls='-', lw=2) \n",
    "ax2.plot(years, medicine_exports, label='Medicines', marker='x', c='r', ls=':', lw=2) \n",
    "\n",
    "#Note the use of `set_`\n",
    "ax1.set_title(\"LCI Chemical exports in last 12 years\")\n",
    "ax1.set_xlabel(\"Years\")\n",
    "ax1.set_ylabel(\"Amount (Million Rs.)\")\n",
    "\n",
    "\n",
    "ax2.set_title(\"LCI Medicine exports in last 12 years\")\n",
    "ax2.set_xlabel(\"Years\")\n",
    "ax2.set_ylabel(\"Amount (Million Rs.)\")\n",
    "\n",
    "\n",
    "\n",
    "\n",
    "plt.tight_layout()\n",
    "plt.show()"
   ]
  },
  {
   "cell_type": "markdown",
   "id": "fbc29cc0",
   "metadata": {},
   "source": [
    "### a. Multiple Figure Objects Having Single Axes using `subplots()` Method"
   ]
  },
  {
   "cell_type": "code",
   "execution_count": 23,
   "id": "be6ed043",
   "metadata": {},
   "outputs": [
    {
     "data": {
      "image/png": "[encoded data removed]",
      "text/plain": [
       "<Figure size 432x288 with 1 Axes>"
      ]
     },
     "metadata": {
      "needs_background": "light"
     },
     "output_type": "display_data"
    },
    {
     "data": {
      "image/png": "[encoded data removed]",
      "text/plain": [
       "<Figure size 432x288 with 1 Axes>"
      ]
     },
     "metadata": {
      "needs_background": "light"
     },
     "output_type": "display_data"
    }
   ],
   "source": [
    "from matplotlib import pyplot as plt\n",
    "chemical_exports = [0.810, 0.831, 0.895, 0.91, 0.915, 0.926, 0.945, 0.931, 0.919, 0.921, 0.920, 0.919]\n",
    "years = [2010, 2011, 2012, 2013, 2014, 2015, 2016, 2017, 2018, 2019, 2020, 2021]\n",
    "medicine_exports = [0.791, 0.818, 0.832, 0.816, 0.840, 0.833, 0.835, 0.838, 0.842, 0.910, 0.930, 0.940]\n",
    "\n",
    "\n",
    "fig1, ax1 = plt.subplots()\n",
    "fig2, ax2 = plt.subplots()\n",
    "\n",
    "ax1.plot(years, chemical_exports, label='Chemicals', marker='o', c='b', ls='-', lw=2) \n",
    "ax1.set_title(\"LCI Chemical exports in last 12 years\")\n",
    "ax1.set_xlabel(\"Years\")\n",
    "ax1.set_ylabel(\"Amount (Million Rs.)\")\n",
    "\n",
    "\n",
    "ax2.plot(years, medicine_exports, label='Medicines', marker='x', c='r', ls=':', lw=2) \n",
    "ax2.set_title(\"LCI Medicine exports in last 12 years\")\n",
    "ax2.set_xlabel(\"Years\")\n",
    "ax2.set_ylabel(\"Amount (Million Rs.)\")\n",
    "\n",
    "\n",
    "\n",
    "\n",
    "plt.tight_layout()\n",
    "plt.show()"
   ]
  },
  {
   "cell_type": "code",
   "execution_count": null,
   "id": "710cb0b5",
   "metadata": {},
   "outputs": [],
   "source": []
  },
  {
   "cell_type": "code",
   "execution_count": null,
   "id": "71387a42",
   "metadata": {},
   "outputs": [],
   "source": []
  },
  {
   "cell_type": "code",
   "execution_count": null,
   "id": "32166adb",
   "metadata": {},
   "outputs": [],
   "source": []
  },
  {
   "cell_type": "code",
   "execution_count": null,
   "id": "42db3404",
   "metadata": {},
   "outputs": [],
   "source": []
  },
  {
   "cell_type": "code",
   "execution_count": null,
   "id": "f0d5bc30",
   "metadata": {},
   "outputs": [],
   "source": []
  },
  {
   "cell_type": "code",
   "execution_count": null,
   "id": "ca627715",
   "metadata": {},
   "outputs": [],
   "source": []
  },
  {
   "cell_type": "code",
   "execution_count": null,
   "id": "c869ebf1",
   "metadata": {},
   "outputs": [],
   "source": []
  },
  {
   "cell_type": "code",
   "execution_count": null,
   "id": "e308e82a",
   "metadata": {},
   "outputs": [],
   "source": []
  },
  {
   "cell_type": "code",
   "execution_count": null,
   "id": "327e779b",
   "metadata": {},
   "outputs": [],
   "source": []
  }
 ],
 "metadata": {
  "kernelspec": {
   "display_name": "Python 3 (ipykernel)",
   "language": "python",
   "name": "python3"
  },
  "language_info": {
   "codemirror_mode": {
    "name": "ipython",
    "version": 3
   },
   "file_extension": ".py",
   "mimetype": "text/x-python",
   "name": "python",
   "nbconvert_exporter": "python",
   "pygments_lexer": "ipython3",
   "version": "3.8.10"
  }
 },
 "nbformat": 4,
 "nbformat_minor": 5
}
