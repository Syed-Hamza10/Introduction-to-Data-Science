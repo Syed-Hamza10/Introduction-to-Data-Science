{
 "cells": [
  {
   "cell_type": "markdown",
   "id": "4a87b5ef",
   "metadata": {},
   "source": [
    "---   \n",
    " <img align=\"left\" width=\"75\" height=\"75\"  src=\"https://upload.wikimedia.org/wikipedia/en/c/c8/University_of_the_Punjab_logo.png\"> \n",
    "\n",
    "<h1 align=\"center\">Department of Data Science</h1>\n",
    "<h1 align=\"center\">Course: Tools and Techniques for Data Science</h1>\n",
    "\n",
    "---\n",
    "<h3><div align=\"right\">Instructor: Muhammad Arif Butt, Ph.D.</div></h3>    "
   ]
  },
  {
   "cell_type": "markdown",
   "id": "ab0dc25c",
   "metadata": {},
   "source": [
    "<h1 align=\"center\">Lecture 3.10 (Pandas-02)</h1>"
   ]
  },
  {
   "cell_type": "markdown",
   "id": "19f82705",
   "metadata": {},
   "source": [
    "## _Overview of Pandas Dataframe Data Structure.ipynb_"
   ]
  },
  {
   "cell_type": "markdown",
   "id": "4c4a18fd",
   "metadata": {},
   "source": [
    "#### Read about Pandas Data Structures: https://pandas.pydata.org/docs/user_guide/dsintro.html#dsintro"
   ]
  },
  {
   "cell_type": "markdown",
   "id": "9727124d",
   "metadata": {},
   "source": [
    "## Learning agenda of this notebook\n",
    "\n",
    "1. Overview of Pandas\n",
    "2. Creating Dataframes\n",
    "    - An empty dataframe\n",
    "    - Two-Dimensional NumPy Array\n",
    "    - Dictionary of Python Lists\n",
    "    - Dictionary of Panda Series\n",
    "3. Attributes of a Dataframe\n",
    "4. Some basic Info gathering functions\n"
   ]
  },
  {
   "cell_type": "markdown",
   "id": "24bc1f9a",
   "metadata": {},
   "source": [
    "<img align=\"right\" width=\"500\" height=\"500\"  src=\"images/pandas-apps.png\"  >\n",
    "\n",
    "## 1. Overview of Pandas\n",
    "- **Pandas** is an open-source Python library built on numPy and provides easy to use data structures and data analysis tools. PANDAS has derived its name from “PANel DAta System”. It was developed in 2008 by Wes McKinney. \n",
    "- Data Scientists use Pandas for performing following functions:\n",
    "    - Reading, Writing, Downloading files of different formats like CSV, JSON, EXCEL, HTML, etc\n",
    "    - Filtering and Modifying data based on multiple conditions\n",
    "    - Attribute Generation (e.g., ID generation) \n",
    "    - Identifying and removing null values and duplicates\n",
    "    - Imputation (replacement of missing observations by using statistical algorithms) \n",
    "    - Cutting, Splitting and Merging\n",
    "    - Sorting and aggregating\n",
    "    - Normalisation, standardisation, scaling, and pivoting\n",
    "    - Data Partitioning (create training + validation + test data set)\n",
    "- **Data Structures:**\n",
    "    - **Series:** It is a labeled one-dimensional homogeneous array containing a sequence of values of any but homogeneous data type with numeric data labels starting from zero. \n",
    "    - **Dataframe:** It is a 2-dimensional labeled data structure (like SQL table) with heterogeneously typed columns, having both a row and a column index.\n",
    "    - Both of these data structures are *value-mutable*"
   ]
  },
  {
   "cell_type": "code",
   "execution_count": null,
   "id": "c2831c56",
   "metadata": {},
   "outputs": [],
   "source": [
    "# To install this library in Jupyter notebook\n",
    "#import sys\n",
    "#!{sys.executable} -m pip install pandas"
   ]
  },
  {
   "cell_type": "code",
   "execution_count": 1,
   "id": "dba905d0",
   "metadata": {},
   "outputs": [
    {
     "data": {
      "text/plain": [
       "('1.3.4',\n",
       " ['/Library/Frameworks/Python.framework/Versions/3.8/lib/python3.8/site-packages/pandas'])"
      ]
     },
     "execution_count": 1,
     "metadata": {},
     "output_type": "execute_result"
    }
   ],
   "source": [
    "import pandas as pd\n",
    "pd.__version__ , pd.__path__"
   ]
  },
  {
   "cell_type": "markdown",
   "id": "3442b047",
   "metadata": {},
   "source": [
    "## 2. Creating a Dataframe\n",
    "<img align=\"right\" width=\"500\" height=\"500\"  src=\"images/pandas.png\"  >\n",
    "\n",
    "- DataFrame is a 2-dimensional labeled data structure (like SQL table) with heterogeneously typed columns, having both a row and a column index.\n",
    "- Pandas Dataframe vs NumPy array:\n",
    "    - A Numpy array requires homogeneous data, while a Pandas DataFrame can have heterogeneously typed columns (float, int, string, datetime, etc.).\n",
    "    - Pandas have a simpler interface for operations like file loading, plotting, selection, joining, GROUP BY, which come very handy in data-processing applications.\n",
    "    - Pandas DataFrames (with column names) make it very easy to keep track of data.\n",
    "    - Pandas is used when data is in Tabular Format, whereas Numpy is used for numeric array based data manipulation.\n",
    "\n",
    "\n",
    "- You can create a dataframe using the `pd.DataFrame()` function from a \n",
    "    - Two-Dimensional NumPy Array\n",
    "    - Dictionary of Python Lists\n",
    "    - Dictionary of Panda Series\n",
    "    - CSV, TSV, Excel files (residing on local disk or a public GitHub Gist, or from a public Google Document)\n",
    "    - Database table\n",
    "    - Web document (HTML, XML files)\n",
    "\n",
    "```\n",
    "pd.DataFrame(data, index, columns, dtype)\n",
    "\n",
    "```"
   ]
  },
  {
   "cell_type": "markdown",
   "id": "d7273559",
   "metadata": {},
   "source": [
    "### a. Creating an Empty Dataframe"
   ]
  },
  {
   "cell_type": "code",
   "execution_count": 2,
   "id": "7b9f2409",
   "metadata": {},
   "outputs": [
    {
     "name": "stdout",
     "output_type": "stream",
     "text": [
      "Empty DataFrame\n",
      "Columns: []\n",
      "Index: []\n"
     ]
    }
   ],
   "source": [
    "import pandas as pd\n",
    "\n",
    "df = pd.DataFrame()\n",
    "print(df)"
   ]
  },
  {
   "cell_type": "markdown",
   "id": "bc846b98",
   "metadata": {},
   "source": [
    "### b. Creating a Dataframe from a two-dimensional NumPy Array\n",
    "- Remember data actually need not to be labeled at all to be placed into a dataframe"
   ]
  },
  {
   "cell_type": "code",
   "execution_count": 3,
   "id": "c002856d",
   "metadata": {},
   "outputs": [
    {
     "name": "stdout",
     "output_type": "stream",
     "text": [
      "[[12 22 57 34 15]\n",
      " [27 63 30 84 73]\n",
      " [74 85 97 49 48]\n",
      " [97 27 86 88 39]\n",
      " [68 95 27 77 35]\n",
      " [96 94 47 42 72]]\n"
     ]
    },
    {
     "data": {
      "text/html": [
       "<div>\n",
       "<style scoped>\n",
       "    .dataframe tbody tr th:only-of-type {\n",
       "        vertical-align: middle;\n",
       "    }\n",
       "\n",
       "    .dataframe tbody tr th {\n",
       "        vertical-align: top;\n",
       "    }\n",
       "\n",
       "    .dataframe thead th {\n",
       "        text-align: right;\n",
       "    }\n",
       "</style>\n",
       "<table border=\"1\" class=\"dataframe\">\n",
       "  <thead>\n",
       "    <tr style=\"text-align: right;\">\n",
       "      <th></th>\n",
       "      <th>0</th>\n",
       "      <th>1</th>\n",
       "      <th>2</th>\n",
       "      <th>3</th>\n",
       "      <th>4</th>\n",
       "    </tr>\n",
       "  </thead>\n",
       "  <tbody>\n",
       "    <tr>\n",
       "      <th>0</th>\n",
       "      <td>12</td>\n",
       "      <td>22</td>\n",
       "      <td>57</td>\n",
       "      <td>34</td>\n",
       "      <td>15</td>\n",
       "    </tr>\n",
       "    <tr>\n",
       "      <th>1</th>\n",
       "      <td>27</td>\n",
       "      <td>63</td>\n",
       "      <td>30</td>\n",
       "      <td>84</td>\n",
       "      <td>73</td>\n",
       "    </tr>\n",
       "    <tr>\n",
       "      <th>2</th>\n",
       "      <td>74</td>\n",
       "      <td>85</td>\n",
       "      <td>97</td>\n",
       "      <td>49</td>\n",
       "      <td>48</td>\n",
       "    </tr>\n",
       "    <tr>\n",
       "      <th>3</th>\n",
       "      <td>97</td>\n",
       "      <td>27</td>\n",
       "      <td>86</td>\n",
       "      <td>88</td>\n",
       "      <td>39</td>\n",
       "    </tr>\n",
       "    <tr>\n",
       "      <th>4</th>\n",
       "      <td>68</td>\n",
       "      <td>95</td>\n",
       "      <td>27</td>\n",
       "      <td>77</td>\n",
       "      <td>35</td>\n",
       "    </tr>\n",
       "    <tr>\n",
       "      <th>5</th>\n",
       "      <td>96</td>\n",
       "      <td>94</td>\n",
       "      <td>47</td>\n",
       "      <td>42</td>\n",
       "      <td>72</td>\n",
       "    </tr>\n",
       "  </tbody>\n",
       "</table>\n",
       "</div>"
      ],
      "text/plain": [
       "    0   1   2   3   4\n",
       "0  12  22  57  34  15\n",
       "1  27  63  30  84  73\n",
       "2  74  85  97  49  48\n",
       "3  97  27  86  88  39\n",
       "4  68  95  27  77  35\n",
       "5  96  94  47  42  72"
      ]
     },
     "execution_count": 3,
     "metadata": {},
     "output_type": "execute_result"
    }
   ],
   "source": [
    "import pandas as pd\n",
    "import numpy as np\n",
    "\n",
    "# Create a matrix of integers between 10 and 50\n",
    "arr = np.random.randint(10,100, size= (6,5))\n",
    "print(arr)\n",
    "# Pass this 2-D NumPy array to pd.Dataframe()\n",
    "df = pd.DataFrame(data=arr)\n",
    "df"
   ]
  },
  {
   "cell_type": "markdown",
   "id": "6810f5a0",
   "metadata": {},
   "source": [
    "- **Note that both the row indices and the column labels/indices are implicitly set to numerical values from 0 to n-1, since neither of the two is provided while creating the dataframe object. They are also not considered as part of data in the dataframe**\n",
    "- **In majority of the cases the row label is left as default, i.e., 0,1,2,3.... However, the column labels are changed from 0,1,2,3,... to some meaningful values.**\n",
    "- **This is shown below:**"
   ]
  },
  {
   "cell_type": "code",
   "execution_count": 6,
   "id": "e30fb823",
   "metadata": {},
   "outputs": [
    {
     "data": {
      "text/html": [
       "<div>\n",
       "<style scoped>\n",
       "    .dataframe tbody tr th:only-of-type {\n",
       "        vertical-align: middle;\n",
       "    }\n",
       "\n",
       "    .dataframe tbody tr th {\n",
       "        vertical-align: top;\n",
       "    }\n",
       "\n",
       "    .dataframe thead th {\n",
       "        text-align: right;\n",
       "    }\n",
       "</style>\n",
       "<table border=\"1\" class=\"dataframe\">\n",
       "  <thead>\n",
       "    <tr style=\"text-align: right;\">\n",
       "      <th></th>\n",
       "      <th>Col1</th>\n",
       "      <th>Col2</th>\n",
       "      <th>Col3</th>\n",
       "      <th>Col4</th>\n",
       "      <th>Col5</th>\n",
       "    </tr>\n",
       "  </thead>\n",
       "  <tbody>\n",
       "    <tr>\n",
       "      <th>0</th>\n",
       "      <td>12</td>\n",
       "      <td>22</td>\n",
       "      <td>57</td>\n",
       "      <td>34</td>\n",
       "      <td>15</td>\n",
       "    </tr>\n",
       "    <tr>\n",
       "      <th>1</th>\n",
       "      <td>27</td>\n",
       "      <td>63</td>\n",
       "      <td>30</td>\n",
       "      <td>84</td>\n",
       "      <td>73</td>\n",
       "    </tr>\n",
       "    <tr>\n",
       "      <th>2</th>\n",
       "      <td>74</td>\n",
       "      <td>85</td>\n",
       "      <td>97</td>\n",
       "      <td>49</td>\n",
       "      <td>48</td>\n",
       "    </tr>\n",
       "    <tr>\n",
       "      <th>3</th>\n",
       "      <td>97</td>\n",
       "      <td>27</td>\n",
       "      <td>86</td>\n",
       "      <td>88</td>\n",
       "      <td>39</td>\n",
       "    </tr>\n",
       "    <tr>\n",
       "      <th>4</th>\n",
       "      <td>68</td>\n",
       "      <td>95</td>\n",
       "      <td>27</td>\n",
       "      <td>77</td>\n",
       "      <td>35</td>\n",
       "    </tr>\n",
       "    <tr>\n",
       "      <th>5</th>\n",
       "      <td>96</td>\n",
       "      <td>94</td>\n",
       "      <td>47</td>\n",
       "      <td>42</td>\n",
       "      <td>72</td>\n",
       "    </tr>\n",
       "  </tbody>\n",
       "</table>\n",
       "</div>"
      ],
      "text/plain": [
       "   Col1  Col2  Col3  Col4  Col5\n",
       "0    12    22    57    34    15\n",
       "1    27    63    30    84    73\n",
       "2    74    85    97    49    48\n",
       "3    97    27    86    88    39\n",
       "4    68    95    27    77    35\n",
       "5    96    94    47    42    72"
      ]
     },
     "execution_count": 6,
     "metadata": {},
     "output_type": "execute_result"
    }
   ],
   "source": [
    "# Let us name the column labels of our choice, while creating it\n",
    "df = pd.DataFrame(data=arr, columns=['Col1', 'Col2', 'Col3', 'Col4', 'Col5'])\n",
    "df"
   ]
  },
  {
   "cell_type": "code",
   "execution_count": 8,
   "id": "faace9e7",
   "metadata": {},
   "outputs": [
    {
     "data": {
      "text/html": [
       "<div>\n",
       "<style scoped>\n",
       "    .dataframe tbody tr th:only-of-type {\n",
       "        vertical-align: middle;\n",
       "    }\n",
       "\n",
       "    .dataframe tbody tr th {\n",
       "        vertical-align: top;\n",
       "    }\n",
       "\n",
       "    .dataframe thead th {\n",
       "        text-align: right;\n",
       "    }\n",
       "</style>\n",
       "<table border=\"1\" class=\"dataframe\">\n",
       "  <thead>\n",
       "    <tr style=\"text-align: right;\">\n",
       "      <th></th>\n",
       "      <th>0</th>\n",
       "      <th>1</th>\n",
       "      <th>2</th>\n",
       "      <th>3</th>\n",
       "      <th>4</th>\n",
       "    </tr>\n",
       "  </thead>\n",
       "  <tbody>\n",
       "    <tr>\n",
       "      <th>Row0</th>\n",
       "      <td>12</td>\n",
       "      <td>22</td>\n",
       "      <td>57</td>\n",
       "      <td>34</td>\n",
       "      <td>15</td>\n",
       "    </tr>\n",
       "    <tr>\n",
       "      <th>Row1</th>\n",
       "      <td>27</td>\n",
       "      <td>63</td>\n",
       "      <td>30</td>\n",
       "      <td>84</td>\n",
       "      <td>73</td>\n",
       "    </tr>\n",
       "    <tr>\n",
       "      <th>Row2</th>\n",
       "      <td>74</td>\n",
       "      <td>85</td>\n",
       "      <td>97</td>\n",
       "      <td>49</td>\n",
       "      <td>48</td>\n",
       "    </tr>\n",
       "    <tr>\n",
       "      <th>Row3</th>\n",
       "      <td>97</td>\n",
       "      <td>27</td>\n",
       "      <td>86</td>\n",
       "      <td>88</td>\n",
       "      <td>39</td>\n",
       "    </tr>\n",
       "    <tr>\n",
       "      <th>Row4</th>\n",
       "      <td>68</td>\n",
       "      <td>95</td>\n",
       "      <td>27</td>\n",
       "      <td>77</td>\n",
       "      <td>35</td>\n",
       "    </tr>\n",
       "    <tr>\n",
       "      <th>Row5</th>\n",
       "      <td>96</td>\n",
       "      <td>94</td>\n",
       "      <td>47</td>\n",
       "      <td>42</td>\n",
       "      <td>72</td>\n",
       "    </tr>\n",
       "  </tbody>\n",
       "</table>\n",
       "</div>"
      ],
      "text/plain": [
       "       0   1   2   3   4\n",
       "Row0  12  22  57  34  15\n",
       "Row1  27  63  30  84  73\n",
       "Row2  74  85  97  49  48\n",
       "Row3  97  27  86  88  39\n",
       "Row4  68  95  27  77  35\n",
       "Row5  96  94  47  42  72"
      ]
     },
     "execution_count": 8,
     "metadata": {},
     "output_type": "execute_result"
    }
   ],
   "source": [
    "# Let us name the row labels of our choice, while creating it\n",
    "df = pd.DataFrame(data=arr, index=['Row0', 'Row1', 'Row2', 'Row3', 'Row4', 'Row5'])\n",
    "df"
   ]
  },
  {
   "cell_type": "code",
   "execution_count": 5,
   "id": "1ea2973f",
   "metadata": {},
   "outputs": [
    {
     "data": {
      "text/html": [
       "<div>\n",
       "<style scoped>\n",
       "    .dataframe tbody tr th:only-of-type {\n",
       "        vertical-align: middle;\n",
       "    }\n",
       "\n",
       "    .dataframe tbody tr th {\n",
       "        vertical-align: top;\n",
       "    }\n",
       "\n",
       "    .dataframe thead th {\n",
       "        text-align: right;\n",
       "    }\n",
       "</style>\n",
       "<table border=\"1\" class=\"dataframe\">\n",
       "  <thead>\n",
       "    <tr style=\"text-align: right;\">\n",
       "      <th></th>\n",
       "      <th>Col0</th>\n",
       "      <th>Col1</th>\n",
       "      <th>Col2</th>\n",
       "      <th>Col3</th>\n",
       "      <th>Col4</th>\n",
       "    </tr>\n",
       "  </thead>\n",
       "  <tbody>\n",
       "    <tr>\n",
       "      <th>Row0</th>\n",
       "      <td>12</td>\n",
       "      <td>22</td>\n",
       "      <td>57</td>\n",
       "      <td>34</td>\n",
       "      <td>15</td>\n",
       "    </tr>\n",
       "    <tr>\n",
       "      <th>Row1</th>\n",
       "      <td>27</td>\n",
       "      <td>63</td>\n",
       "      <td>30</td>\n",
       "      <td>84</td>\n",
       "      <td>73</td>\n",
       "    </tr>\n",
       "    <tr>\n",
       "      <th>Row2</th>\n",
       "      <td>74</td>\n",
       "      <td>85</td>\n",
       "      <td>97</td>\n",
       "      <td>49</td>\n",
       "      <td>48</td>\n",
       "    </tr>\n",
       "    <tr>\n",
       "      <th>Row3</th>\n",
       "      <td>97</td>\n",
       "      <td>27</td>\n",
       "      <td>86</td>\n",
       "      <td>88</td>\n",
       "      <td>39</td>\n",
       "    </tr>\n",
       "    <tr>\n",
       "      <th>Row4</th>\n",
       "      <td>68</td>\n",
       "      <td>95</td>\n",
       "      <td>27</td>\n",
       "      <td>77</td>\n",
       "      <td>35</td>\n",
       "    </tr>\n",
       "    <tr>\n",
       "      <th>Row5</th>\n",
       "      <td>96</td>\n",
       "      <td>94</td>\n",
       "      <td>47</td>\n",
       "      <td>42</td>\n",
       "      <td>72</td>\n",
       "    </tr>\n",
       "  </tbody>\n",
       "</table>\n",
       "</div>"
      ],
      "text/plain": [
       "      Col0  Col1  Col2  Col3  Col4\n",
       "Row0    12    22    57    34    15\n",
       "Row1    27    63    30    84    73\n",
       "Row2    74    85    97    49    48\n",
       "Row3    97    27    86    88    39\n",
       "Row4    68    95    27    77    35\n",
       "Row5    96    94    47    42    72"
      ]
     },
     "execution_count": 5,
     "metadata": {},
     "output_type": "execute_result"
    }
   ],
   "source": [
    "# Let us name the both row labels and column labels to strings of our choice, while creating it\n",
    "row_labels = ['Row0', 'Row1', 'Row2', 'Row3', 'Row4', 'Row5']\n",
    "col_labels = ['Col0', 'Col1', 'Col2', 'Col3', 'Col4']\n",
    "df = pd.DataFrame(data=arr, index=row_labels, columns=col_labels)\n",
    "df"
   ]
  },
  {
   "cell_type": "markdown",
   "id": "3b79c790",
   "metadata": {},
   "source": [
    "- **You can do this later as well, i.e., after the datafram has been created with default indices**\n",
    "- **This is done by assigning a list of labels/values to `index` and `columns` attributes of a dataframe object**"
   ]
  },
  {
   "cell_type": "code",
   "execution_count": 9,
   "id": "2805dd6e",
   "metadata": {},
   "outputs": [
    {
     "data": {
      "text/html": [
       "<div>\n",
       "<style scoped>\n",
       "    .dataframe tbody tr th:only-of-type {\n",
       "        vertical-align: middle;\n",
       "    }\n",
       "\n",
       "    .dataframe tbody tr th {\n",
       "        vertical-align: top;\n",
       "    }\n",
       "\n",
       "    .dataframe thead th {\n",
       "        text-align: right;\n",
       "    }\n",
       "</style>\n",
       "<table border=\"1\" class=\"dataframe\">\n",
       "  <thead>\n",
       "    <tr style=\"text-align: right;\">\n",
       "      <th></th>\n",
       "      <th>0</th>\n",
       "      <th>1</th>\n",
       "      <th>2</th>\n",
       "      <th>3</th>\n",
       "      <th>4</th>\n",
       "    </tr>\n",
       "  </thead>\n",
       "  <tbody>\n",
       "    <tr>\n",
       "      <th>0</th>\n",
       "      <td>42</td>\n",
       "      <td>48</td>\n",
       "      <td>59</td>\n",
       "      <td>73</td>\n",
       "      <td>69</td>\n",
       "    </tr>\n",
       "    <tr>\n",
       "      <th>1</th>\n",
       "      <td>28</td>\n",
       "      <td>52</td>\n",
       "      <td>45</td>\n",
       "      <td>14</td>\n",
       "      <td>76</td>\n",
       "    </tr>\n",
       "    <tr>\n",
       "      <th>2</th>\n",
       "      <td>15</td>\n",
       "      <td>53</td>\n",
       "      <td>41</td>\n",
       "      <td>42</td>\n",
       "      <td>93</td>\n",
       "    </tr>\n",
       "    <tr>\n",
       "      <th>3</th>\n",
       "      <td>71</td>\n",
       "      <td>19</td>\n",
       "      <td>32</td>\n",
       "      <td>83</td>\n",
       "      <td>14</td>\n",
       "    </tr>\n",
       "    <tr>\n",
       "      <th>4</th>\n",
       "      <td>81</td>\n",
       "      <td>61</td>\n",
       "      <td>32</td>\n",
       "      <td>14</td>\n",
       "      <td>21</td>\n",
       "    </tr>\n",
       "    <tr>\n",
       "      <th>5</th>\n",
       "      <td>65</td>\n",
       "      <td>93</td>\n",
       "      <td>87</td>\n",
       "      <td>90</td>\n",
       "      <td>76</td>\n",
       "    </tr>\n",
       "  </tbody>\n",
       "</table>\n",
       "</div>"
      ],
      "text/plain": [
       "    0   1   2   3   4\n",
       "0  42  48  59  73  69\n",
       "1  28  52  45  14  76\n",
       "2  15  53  41  42  93\n",
       "3  71  19  32  83  14\n",
       "4  81  61  32  14  21\n",
       "5  65  93  87  90  76"
      ]
     },
     "execution_count": 9,
     "metadata": {},
     "output_type": "execute_result"
    }
   ],
   "source": [
    "arr = np.random.randint(10,100, size= (6,5))\n",
    "df = pd.DataFrame(data=arr)\n",
    "df"
   ]
  },
  {
   "cell_type": "code",
   "execution_count": 10,
   "id": "5009a4b0",
   "metadata": {},
   "outputs": [
    {
     "data": {
      "text/html": [
       "<div>\n",
       "<style scoped>\n",
       "    .dataframe tbody tr th:only-of-type {\n",
       "        vertical-align: middle;\n",
       "    }\n",
       "\n",
       "    .dataframe tbody tr th {\n",
       "        vertical-align: top;\n",
       "    }\n",
       "\n",
       "    .dataframe thead th {\n",
       "        text-align: right;\n",
       "    }\n",
       "</style>\n",
       "<table border=\"1\" class=\"dataframe\">\n",
       "  <thead>\n",
       "    <tr style=\"text-align: right;\">\n",
       "      <th></th>\n",
       "      <th>Col0</th>\n",
       "      <th>Col1</th>\n",
       "      <th>Col2</th>\n",
       "      <th>Col3</th>\n",
       "      <th>Col4</th>\n",
       "    </tr>\n",
       "  </thead>\n",
       "  <tbody>\n",
       "    <tr>\n",
       "      <th>Row0</th>\n",
       "      <td>42</td>\n",
       "      <td>48</td>\n",
       "      <td>59</td>\n",
       "      <td>73</td>\n",
       "      <td>69</td>\n",
       "    </tr>\n",
       "    <tr>\n",
       "      <th>Row1</th>\n",
       "      <td>28</td>\n",
       "      <td>52</td>\n",
       "      <td>45</td>\n",
       "      <td>14</td>\n",
       "      <td>76</td>\n",
       "    </tr>\n",
       "    <tr>\n",
       "      <th>Row2</th>\n",
       "      <td>15</td>\n",
       "      <td>53</td>\n",
       "      <td>41</td>\n",
       "      <td>42</td>\n",
       "      <td>93</td>\n",
       "    </tr>\n",
       "    <tr>\n",
       "      <th>Row3</th>\n",
       "      <td>71</td>\n",
       "      <td>19</td>\n",
       "      <td>32</td>\n",
       "      <td>83</td>\n",
       "      <td>14</td>\n",
       "    </tr>\n",
       "    <tr>\n",
       "      <th>Row4</th>\n",
       "      <td>81</td>\n",
       "      <td>61</td>\n",
       "      <td>32</td>\n",
       "      <td>14</td>\n",
       "      <td>21</td>\n",
       "    </tr>\n",
       "    <tr>\n",
       "      <th>Row5</th>\n",
       "      <td>65</td>\n",
       "      <td>93</td>\n",
       "      <td>87</td>\n",
       "      <td>90</td>\n",
       "      <td>76</td>\n",
       "    </tr>\n",
       "  </tbody>\n",
       "</table>\n",
       "</div>"
      ],
      "text/plain": [
       "      Col0  Col1  Col2  Col3  Col4\n",
       "Row0    42    48    59    73    69\n",
       "Row1    28    52    45    14    76\n",
       "Row2    15    53    41    42    93\n",
       "Row3    71    19    32    83    14\n",
       "Row4    81    61    32    14    21\n",
       "Row5    65    93    87    90    76"
      ]
     },
     "execution_count": 10,
     "metadata": {},
     "output_type": "execute_result"
    }
   ],
   "source": [
    "row_labels = ['Row0', 'Row1', 'Row2', 'Row3', 'Row4', 'Row5']\n",
    "col_labels = ['Col0', 'Col1', 'Col2', 'Col3', 'Col4']\n",
    "\n",
    "df.columns = col_labels\n",
    "df.index = row_labels\n",
    "\n",
    "df"
   ]
  },
  {
   "cell_type": "markdown",
   "id": "4d78c91b",
   "metadata": {},
   "source": [
    "### c. Creating a Dataframe from a Dictionary of Python Lists\n",
    "- You can create a dataframe object from a dictionary of Python Lists \n",
    "    - The dictionary `Keys` become the column names, and \n",
    "    - The dictionary `Values` are lists/arrays containing data for the respective columns."
   ]
  },
  {
   "cell_type": "code",
   "execution_count": 14,
   "id": "daea6fce",
   "metadata": {},
   "outputs": [
    {
     "data": {
      "text/html": [
       "<div>\n",
       "<style scoped>\n",
       "    .dataframe tbody tr th:only-of-type {\n",
       "        vertical-align: middle;\n",
       "    }\n",
       "\n",
       "    .dataframe tbody tr th {\n",
       "        vertical-align: top;\n",
       "    }\n",
       "\n",
       "    .dataframe thead th {\n",
       "        text-align: right;\n",
       "    }\n",
       "</style>\n",
       "<table border=\"1\" class=\"dataframe\">\n",
       "  <thead>\n",
       "    <tr style=\"text-align: right;\">\n",
       "      <th></th>\n",
       "      <th>Names</th>\n",
       "      <th>Age</th>\n",
       "      <th>Addr</th>\n",
       "    </tr>\n",
       "  </thead>\n",
       "  <tbody>\n",
       "    <tr>\n",
       "      <th>0</th>\n",
       "      <td>Arif</td>\n",
       "      <td>50</td>\n",
       "      <td>Lahore</td>\n",
       "    </tr>\n",
       "    <tr>\n",
       "      <th>1</th>\n",
       "      <td>Hadeed</td>\n",
       "      <td>22</td>\n",
       "      <td>Islamabad</td>\n",
       "    </tr>\n",
       "    <tr>\n",
       "      <th>2</th>\n",
       "      <td>Mujahid</td>\n",
       "      <td>18</td>\n",
       "      <td>Karachi</td>\n",
       "    </tr>\n",
       "  </tbody>\n",
       "</table>\n",
       "</div>"
      ],
      "text/plain": [
       "     Names  Age       Addr\n",
       "0     Arif   50     Lahore\n",
       "1   Hadeed   22  Islamabad\n",
       "2  Mujahid   18    Karachi"
      ]
     },
     "execution_count": 14,
     "metadata": {},
     "output_type": "execute_result"
    }
   ],
   "source": [
    "import pandas as pd\n",
    "d1 = {\n",
    "    'Names': ['Arif', 'Hadeed', 'Mujahid'],\n",
    "    'Age': [50, 22, 18],\n",
    "    'Addr': ['Lahore', 'Islamabad', 'Karachi']\n",
    "}\n",
    "# Pass this Dictionary of Python Lists to pd.Dataframe()\n",
    "df = pd.DataFrame(data=d1)\n",
    "df"
   ]
  },
  {
   "cell_type": "markdown",
   "id": "c7ddb8c1",
   "metadata": {},
   "source": [
    "- **Note that column labels are set as per the keys inside the dictionary object, while the row labels/indices are set to default numerical values**\n",
    "- **You can set the row indices while creating the dataframe as shown below**"
   ]
  },
  {
   "cell_type": "code",
   "execution_count": 16,
   "id": "933c79a6",
   "metadata": {},
   "outputs": [
    {
     "data": {
      "text/html": [
       "<div>\n",
       "<style scoped>\n",
       "    .dataframe tbody tr th:only-of-type {\n",
       "        vertical-align: middle;\n",
       "    }\n",
       "\n",
       "    .dataframe tbody tr th {\n",
       "        vertical-align: top;\n",
       "    }\n",
       "\n",
       "    .dataframe thead th {\n",
       "        text-align: right;\n",
       "    }\n",
       "</style>\n",
       "<table border=\"1\" class=\"dataframe\">\n",
       "  <thead>\n",
       "    <tr style=\"text-align: right;\">\n",
       "      <th></th>\n",
       "      <th>Names</th>\n",
       "      <th>Age</th>\n",
       "      <th>Addr</th>\n",
       "    </tr>\n",
       "  </thead>\n",
       "  <tbody>\n",
       "    <tr>\n",
       "      <th>MS01</th>\n",
       "      <td>Arif</td>\n",
       "      <td>50</td>\n",
       "      <td>Lahore</td>\n",
       "    </tr>\n",
       "    <tr>\n",
       "      <th>MS02</th>\n",
       "      <td>Hadeed</td>\n",
       "      <td>22</td>\n",
       "      <td>Islamabad</td>\n",
       "    </tr>\n",
       "    <tr>\n",
       "      <th>MS03</th>\n",
       "      <td>Mujahid</td>\n",
       "      <td>18</td>\n",
       "      <td>Karachi</td>\n",
       "    </tr>\n",
       "  </tbody>\n",
       "</table>\n",
       "</div>"
      ],
      "text/plain": [
       "        Names  Age       Addr\n",
       "MS01     Arif   50     Lahore\n",
       "MS02   Hadeed   22  Islamabad\n",
       "MS03  Mujahid   18    Karachi"
      ]
     },
     "execution_count": 16,
     "metadata": {},
     "output_type": "execute_result"
    }
   ],
   "source": [
    "d1 = {\n",
    "    'Names': ['Arif', 'Hadeed', 'Mujahid'],\n",
    "    'Age': [50, 22, 18],\n",
    "    'Addr': ['Lahore', 'Islamabad', 'Karachi']\n",
    "}\n",
    "# Let us change the row labels\n",
    "df = pd.DataFrame(data=d1, index=['MS01', 'MS02', 'MS03'])\n",
    "df"
   ]
  },
  {
   "cell_type": "markdown",
   "id": "07f30f1d",
   "metadata": {},
   "source": [
    "- **OR you may change both by assigning a list of labels/values to `index` and `columns` attributes of a dataframe object**"
   ]
  },
  {
   "cell_type": "code",
   "execution_count": 18,
   "id": "7c290b72",
   "metadata": {},
   "outputs": [
    {
     "data": {
      "text/html": [
       "<div>\n",
       "<style scoped>\n",
       "    .dataframe tbody tr th:only-of-type {\n",
       "        vertical-align: middle;\n",
       "    }\n",
       "\n",
       "    .dataframe tbody tr th {\n",
       "        vertical-align: top;\n",
       "    }\n",
       "\n",
       "    .dataframe thead th {\n",
       "        text-align: right;\n",
       "    }\n",
       "</style>\n",
       "<table border=\"1\" class=\"dataframe\">\n",
       "  <thead>\n",
       "    <tr style=\"text-align: right;\">\n",
       "      <th></th>\n",
       "      <th>Col1</th>\n",
       "      <th>Col2</th>\n",
       "      <th>Col3</th>\n",
       "    </tr>\n",
       "  </thead>\n",
       "  <tbody>\n",
       "    <tr>\n",
       "      <th>0</th>\n",
       "      <td>Arif</td>\n",
       "      <td>50</td>\n",
       "      <td>Lahore</td>\n",
       "    </tr>\n",
       "    <tr>\n",
       "      <th>1</th>\n",
       "      <td>Hadeed</td>\n",
       "      <td>22</td>\n",
       "      <td>Islamabad</td>\n",
       "    </tr>\n",
       "    <tr>\n",
       "      <th>2</th>\n",
       "      <td>Mujahid</td>\n",
       "      <td>18</td>\n",
       "      <td>Karachi</td>\n",
       "    </tr>\n",
       "  </tbody>\n",
       "</table>\n",
       "</div>"
      ],
      "text/plain": [
       "      Col1  Col2       Col3\n",
       "0     Arif    50     Lahore\n",
       "1   Hadeed    22  Islamabad\n",
       "2  Mujahid    18    Karachi"
      ]
     },
     "execution_count": 18,
     "metadata": {},
     "output_type": "execute_result"
    }
   ],
   "source": [
    "row_labels = [0,1,2]\n",
    "col_labels = ['Col1', 'Col2', 'Col3']\n",
    "\n",
    "df.columns = col_labels\n",
    "df.index = row_labels\n",
    "\n",
    "df"
   ]
  },
  {
   "cell_type": "markdown",
   "id": "dfdad357",
   "metadata": {},
   "source": [
    "### d. Creating a Dataframe from Dictionary of Panda Series\n",
    "One can think of a dataframe as a dictionary of Panda Series: \n",
    "- `Keys` are column names, and \n",
    "- `Values` are Series object for the respective columns."
   ]
  },
  {
   "cell_type": "code",
   "execution_count": 19,
   "id": "9fa00f68",
   "metadata": {
    "scrolled": true
   },
   "outputs": [
    {
     "data": {
      "text/html": [
       "<div>\n",
       "<style scoped>\n",
       "    .dataframe tbody tr th:only-of-type {\n",
       "        vertical-align: middle;\n",
       "    }\n",
       "\n",
       "    .dataframe tbody tr th {\n",
       "        vertical-align: top;\n",
       "    }\n",
       "\n",
       "    .dataframe thead th {\n",
       "        text-align: right;\n",
       "    }\n",
       "</style>\n",
       "<table border=\"1\" class=\"dataframe\">\n",
       "  <thead>\n",
       "    <tr style=\"text-align: right;\">\n",
       "      <th></th>\n",
       "      <th>Names</th>\n",
       "      <th>Age</th>\n",
       "      <th>Addr</th>\n",
       "    </tr>\n",
       "  </thead>\n",
       "  <tbody>\n",
       "    <tr>\n",
       "      <th>0</th>\n",
       "      <td>Arif</td>\n",
       "      <td>50</td>\n",
       "      <td>Lahore</td>\n",
       "    </tr>\n",
       "    <tr>\n",
       "      <th>1</th>\n",
       "      <td>Hadeed</td>\n",
       "      <td>22</td>\n",
       "      <td>Islamabad</td>\n",
       "    </tr>\n",
       "    <tr>\n",
       "      <th>2</th>\n",
       "      <td>Mujahid</td>\n",
       "      <td>18</td>\n",
       "      <td>Karachi</td>\n",
       "    </tr>\n",
       "  </tbody>\n",
       "</table>\n",
       "</div>"
      ],
      "text/plain": [
       "     Names  Age       Addr\n",
       "0     Arif   50     Lahore\n",
       "1   Hadeed   22  Islamabad\n",
       "2  Mujahid   18    Karachi"
      ]
     },
     "execution_count": 19,
     "metadata": {},
     "output_type": "execute_result"
    }
   ],
   "source": [
    "\n",
    "dict = {\n",
    "    \"Names\": pd.Series(['Arif', 'Hadeed', 'Mujahid']),\n",
    "    \"Age\": pd.Series([50, 22, 18]),\n",
    "    \"Addr\": pd.Series(['Lahore', 'Islamabad','Karachi']),\n",
    "}\n",
    "df = pd.DataFrame(dict)\n",
    "df"
   ]
  },
  {
   "cell_type": "markdown",
   "id": "c9d92bf4",
   "metadata": {},
   "source": [
    "**Note from the above output, that every series object becomes the data of the appropriate column**"
   ]
  },
  {
   "cell_type": "code",
   "execution_count": 32,
   "id": "3984364d",
   "metadata": {},
   "outputs": [
    {
     "data": {
      "text/html": [
       "<div>\n",
       "<style scoped>\n",
       "    .dataframe tbody tr th:only-of-type {\n",
       "        vertical-align: middle;\n",
       "    }\n",
       "\n",
       "    .dataframe tbody tr th {\n",
       "        vertical-align: top;\n",
       "    }\n",
       "\n",
       "    .dataframe thead th {\n",
       "        text-align: right;\n",
       "    }\n",
       "</style>\n",
       "<table border=\"1\" class=\"dataframe\">\n",
       "  <thead>\n",
       "    <tr style=\"text-align: right;\">\n",
       "      <th></th>\n",
       "      <th>Names</th>\n",
       "      <th>Age</th>\n",
       "      <th>Addr</th>\n",
       "    </tr>\n",
       "  </thead>\n",
       "  <tbody>\n",
       "    <tr>\n",
       "      <th>a</th>\n",
       "      <td>Arif</td>\n",
       "      <td>50.0</td>\n",
       "      <td>Lahore</td>\n",
       "    </tr>\n",
       "    <tr>\n",
       "      <th>b</th>\n",
       "      <td>Hadeed</td>\n",
       "      <td>22.0</td>\n",
       "      <td></td>\n",
       "    </tr>\n",
       "    <tr>\n",
       "      <th>c</th>\n",
       "      <td>Mujahid</td>\n",
       "      <td>NaN</td>\n",
       "      <td>Peshawer</td>\n",
       "    </tr>\n",
       "    <tr>\n",
       "      <th>d</th>\n",
       "      <td>Maaz</td>\n",
       "      <td>18.0</td>\n",
       "      <td>Karachi</td>\n",
       "    </tr>\n",
       "  </tbody>\n",
       "</table>\n",
       "</div>"
      ],
      "text/plain": [
       "     Names   Age      Addr\n",
       "a     Arif  50.0    Lahore\n",
       "b   Hadeed  22.0          \n",
       "c  Mujahid   NaN  Peshawer\n",
       "d     Maaz  18.0   Karachi"
      ]
     },
     "execution_count": 32,
     "metadata": {},
     "output_type": "execute_result"
    }
   ],
   "source": [
    "dict = {\n",
    "    \"Names\": pd.Series(['Arif', 'Hadeed', 'Mujahid', 'Maaz'], index=['a','b','c', 'd']),\n",
    "    \"Age\": pd.Series([50, 22,np.nan, 18], index=['a','b','c','d']),\n",
    "    \"Addr\": pd.Series(['Lahore', '', 'Peshawer','Karachi'], index=['a','b','c', 'd']),\n",
    "}\n",
    "df = pd.DataFrame(dict)\n",
    "df"
   ]
  },
  {
   "cell_type": "markdown",
   "id": "62175e2b",
   "metadata": {},
   "source": [
    "- **In the above code and its output, note that every series object has four data values and four corresponding indices**\n",
    "- **Also note that in the Age series, we have a NaN value, and in the Addr series we have a missing value.**\n",
    "- **Another point to note that the row indices of the three series exactly match, in number as well as in sequence/value.**\n",
    "- **A question arise, what if the indices of series are different. See the following code to understand this concept.**"
   ]
  },
  {
   "cell_type": "code",
   "execution_count": 37,
   "id": "4c16eeab",
   "metadata": {},
   "outputs": [
    {
     "data": {
      "text/html": [
       "<div>\n",
       "<style scoped>\n",
       "    .dataframe tbody tr th:only-of-type {\n",
       "        vertical-align: middle;\n",
       "    }\n",
       "\n",
       "    .dataframe tbody tr th {\n",
       "        vertical-align: top;\n",
       "    }\n",
       "\n",
       "    .dataframe thead th {\n",
       "        text-align: right;\n",
       "    }\n",
       "</style>\n",
       "<table border=\"1\" class=\"dataframe\">\n",
       "  <thead>\n",
       "    <tr style=\"text-align: right;\">\n",
       "      <th></th>\n",
       "      <th>Names</th>\n",
       "      <th>Age</th>\n",
       "      <th>Addr</th>\n",
       "    </tr>\n",
       "  </thead>\n",
       "  <tbody>\n",
       "    <tr>\n",
       "      <th>a</th>\n",
       "      <td>Arif</td>\n",
       "      <td>50.0</td>\n",
       "      <td>Lahore</td>\n",
       "    </tr>\n",
       "    <tr>\n",
       "      <th>b</th>\n",
       "      <td>Hadeed</td>\n",
       "      <td>NaN</td>\n",
       "      <td>NaN</td>\n",
       "    </tr>\n",
       "    <tr>\n",
       "      <th>c</th>\n",
       "      <td>Mujahid</td>\n",
       "      <td>NaN</td>\n",
       "      <td>NaN</td>\n",
       "    </tr>\n",
       "    <tr>\n",
       "      <th>d</th>\n",
       "      <td>Maaz</td>\n",
       "      <td>18.0</td>\n",
       "      <td></td>\n",
       "    </tr>\n",
       "    <tr>\n",
       "      <th>x</th>\n",
       "      <td>NaN</td>\n",
       "      <td>22.0</td>\n",
       "      <td>Karachi</td>\n",
       "    </tr>\n",
       "    <tr>\n",
       "      <th>y</th>\n",
       "      <td>NaN</td>\n",
       "      <td>NaN</td>\n",
       "      <td>NaN</td>\n",
       "    </tr>\n",
       "  </tbody>\n",
       "</table>\n",
       "</div>"
      ],
      "text/plain": [
       "     Names   Age     Addr\n",
       "a     Arif  50.0   Lahore\n",
       "b   Hadeed   NaN      NaN\n",
       "c  Mujahid   NaN      NaN\n",
       "d     Maaz  18.0         \n",
       "x      NaN  22.0  Karachi\n",
       "y      NaN   NaN      NaN"
      ]
     },
     "execution_count": 37,
     "metadata": {},
     "output_type": "execute_result"
    }
   ],
   "source": [
    "dict = {\n",
    "    \"Names\": pd.Series(['Arif', 'Hadeed', 'Mujahid', 'Maaz'], index=['a','b','c', 'd']),\n",
    "    \"Age\": pd.Series([50, 22,np.nan, 18], index=['a','x','y','d']),\n",
    "    \"Addr\": pd.Series(['Lahore', '','Karachi'], index=['a', 'd', 'x']),\n",
    "}\n",
    "df = pd.DataFrame(dict)\n",
    "df"
   ]
  },
  {
   "cell_type": "markdown",
   "id": "7fb33e69",
   "metadata": {},
   "source": [
    "- **In the above code and its output, note that first series object has four data values and four corresponding indices. Similarly, second has four indices and three values with one NaN. Third series has three indices and two values with on missing value**\n",
    "- **The resulting Dataframe has six rows and three columns.** \n",
    "    - **For index 'a' we have value in all the three series objects or columns**\n",
    "    - **For index 'b' we have a value in first series object, and NaN for the second and third column, since the second and third series object has no value corresponding to row index 'b'**"
   ]
  },
  {
   "cell_type": "markdown",
   "id": "b77fae30",
   "metadata": {},
   "source": [
    "## 3. Attributes of Pandas Dataframe\n",
    "- Like Series, we can access properties/attributes of a dataframe by using dot `.` notation"
   ]
  },
  {
   "cell_type": "code",
   "execution_count": 38,
   "id": "c344625c",
   "metadata": {},
   "outputs": [],
   "source": [
    "# Create a 2D NumPy array\n",
    "import numpy as np\n",
    "a2DNumPyArray =[[1001, 'elephant', 500.0],\n",
    "       [1002, 'elephant', 600.0],\n",
    "       [1003, 'elephant', 350.0],\n",
    "       [1004, 'tiger', np.nan],\n",
    "       [1005, 'tiger', 320.0],\n",
    "       [1006, 'tiger', 330.0],\n",
    "       [1007, 'tiger', 290.0],\n",
    "       [1008, np.nan, 310.0],\n",
    "       [1009, 'zebra', 200.0],\n",
    "       [1010, 'zebra', 220.0],\n",
    "       [1011, 'zebra', 240.0],\n",
    "       [1012, 'zebra', 230.0],\n",
    "       [1013, 'zebra', 220.0],\n",
    "       [1014, 'zebra', 100.0],\n",
    "       [1015, 'zebra', 80.0],\n",
    "       [1016, 'lion', 420.0],\n",
    "       [1017, 'lion', 600.0],\n",
    "       [1018, np.nan, 500.0],\n",
    "       [1019, 'lion', 390.0],\n",
    "       [1020, 'kangaroo', 410.0],\n",
    "       [1021, 'kangaroo', 430.0],\n",
    "       [1022, 'kangaroo', 410.0]\n",
    "               ]"
   ]
  },
  {
   "cell_type": "code",
   "execution_count": 39,
   "id": "e56a5d8d",
   "metadata": {},
   "outputs": [
    {
     "data": {
      "text/html": [
       "<div>\n",
       "<style scoped>\n",
       "    .dataframe tbody tr th:only-of-type {\n",
       "        vertical-align: middle;\n",
       "    }\n",
       "\n",
       "    .dataframe tbody tr th {\n",
       "        vertical-align: top;\n",
       "    }\n",
       "\n",
       "    .dataframe thead th {\n",
       "        text-align: right;\n",
       "    }\n",
       "</style>\n",
       "<table border=\"1\" class=\"dataframe\">\n",
       "  <thead>\n",
       "    <tr style=\"text-align: right;\">\n",
       "      <th></th>\n",
       "      <th>uniq_id</th>\n",
       "      <th>animal</th>\n",
       "      <th>water_need</th>\n",
       "    </tr>\n",
       "  </thead>\n",
       "  <tbody>\n",
       "    <tr>\n",
       "      <th>0</th>\n",
       "      <td>1001</td>\n",
       "      <td>elephant</td>\n",
       "      <td>500.0</td>\n",
       "    </tr>\n",
       "    <tr>\n",
       "      <th>1</th>\n",
       "      <td>1002</td>\n",
       "      <td>elephant</td>\n",
       "      <td>600.0</td>\n",
       "    </tr>\n",
       "    <tr>\n",
       "      <th>2</th>\n",
       "      <td>1003</td>\n",
       "      <td>elephant</td>\n",
       "      <td>350.0</td>\n",
       "    </tr>\n",
       "    <tr>\n",
       "      <th>3</th>\n",
       "      <td>1004</td>\n",
       "      <td>tiger</td>\n",
       "      <td>NaN</td>\n",
       "    </tr>\n",
       "    <tr>\n",
       "      <th>4</th>\n",
       "      <td>1005</td>\n",
       "      <td>tiger</td>\n",
       "      <td>320.0</td>\n",
       "    </tr>\n",
       "    <tr>\n",
       "      <th>5</th>\n",
       "      <td>1006</td>\n",
       "      <td>tiger</td>\n",
       "      <td>330.0</td>\n",
       "    </tr>\n",
       "    <tr>\n",
       "      <th>6</th>\n",
       "      <td>1007</td>\n",
       "      <td>tiger</td>\n",
       "      <td>290.0</td>\n",
       "    </tr>\n",
       "    <tr>\n",
       "      <th>7</th>\n",
       "      <td>1008</td>\n",
       "      <td>NaN</td>\n",
       "      <td>310.0</td>\n",
       "    </tr>\n",
       "    <tr>\n",
       "      <th>8</th>\n",
       "      <td>1009</td>\n",
       "      <td>zebra</td>\n",
       "      <td>200.0</td>\n",
       "    </tr>\n",
       "    <tr>\n",
       "      <th>9</th>\n",
       "      <td>1010</td>\n",
       "      <td>zebra</td>\n",
       "      <td>220.0</td>\n",
       "    </tr>\n",
       "    <tr>\n",
       "      <th>10</th>\n",
       "      <td>1011</td>\n",
       "      <td>zebra</td>\n",
       "      <td>240.0</td>\n",
       "    </tr>\n",
       "    <tr>\n",
       "      <th>11</th>\n",
       "      <td>1012</td>\n",
       "      <td>zebra</td>\n",
       "      <td>230.0</td>\n",
       "    </tr>\n",
       "    <tr>\n",
       "      <th>12</th>\n",
       "      <td>1013</td>\n",
       "      <td>zebra</td>\n",
       "      <td>220.0</td>\n",
       "    </tr>\n",
       "    <tr>\n",
       "      <th>13</th>\n",
       "      <td>1014</td>\n",
       "      <td>zebra</td>\n",
       "      <td>100.0</td>\n",
       "    </tr>\n",
       "    <tr>\n",
       "      <th>14</th>\n",
       "      <td>1015</td>\n",
       "      <td>zebra</td>\n",
       "      <td>80.0</td>\n",
       "    </tr>\n",
       "    <tr>\n",
       "      <th>15</th>\n",
       "      <td>1016</td>\n",
       "      <td>lion</td>\n",
       "      <td>420.0</td>\n",
       "    </tr>\n",
       "    <tr>\n",
       "      <th>16</th>\n",
       "      <td>1017</td>\n",
       "      <td>lion</td>\n",
       "      <td>600.0</td>\n",
       "    </tr>\n",
       "    <tr>\n",
       "      <th>17</th>\n",
       "      <td>1018</td>\n",
       "      <td>NaN</td>\n",
       "      <td>500.0</td>\n",
       "    </tr>\n",
       "    <tr>\n",
       "      <th>18</th>\n",
       "      <td>1019</td>\n",
       "      <td>lion</td>\n",
       "      <td>390.0</td>\n",
       "    </tr>\n",
       "    <tr>\n",
       "      <th>19</th>\n",
       "      <td>1020</td>\n",
       "      <td>kangaroo</td>\n",
       "      <td>410.0</td>\n",
       "    </tr>\n",
       "    <tr>\n",
       "      <th>20</th>\n",
       "      <td>1021</td>\n",
       "      <td>kangaroo</td>\n",
       "      <td>430.0</td>\n",
       "    </tr>\n",
       "    <tr>\n",
       "      <th>21</th>\n",
       "      <td>1022</td>\n",
       "      <td>kangaroo</td>\n",
       "      <td>410.0</td>\n",
       "    </tr>\n",
       "  </tbody>\n",
       "</table>\n",
       "</div>"
      ],
      "text/plain": [
       "    uniq_id    animal  water_need\n",
       "0      1001  elephant       500.0\n",
       "1      1002  elephant       600.0\n",
       "2      1003  elephant       350.0\n",
       "3      1004     tiger         NaN\n",
       "4      1005     tiger       320.0\n",
       "5      1006     tiger       330.0\n",
       "6      1007     tiger       290.0\n",
       "7      1008       NaN       310.0\n",
       "8      1009     zebra       200.0\n",
       "9      1010     zebra       220.0\n",
       "10     1011     zebra       240.0\n",
       "11     1012     zebra       230.0\n",
       "12     1013     zebra       220.0\n",
       "13     1014     zebra       100.0\n",
       "14     1015     zebra        80.0\n",
       "15     1016      lion       420.0\n",
       "16     1017      lion       600.0\n",
       "17     1018       NaN       500.0\n",
       "18     1019      lion       390.0\n",
       "19     1020  kangaroo       410.0\n",
       "20     1021  kangaroo       430.0\n",
       "21     1022  kangaroo       410.0"
      ]
     },
     "execution_count": 39,
     "metadata": {},
     "output_type": "execute_result"
    }
   ],
   "source": [
    "# Use the 2D NumPy array to create a dataframe\n",
    "import pandas as pd\n",
    "list1 = ['uniq_id', 'animal', 'water_need']\n",
    "df = pd.DataFrame(data=a2DNumPyArray, columns=list1)\n",
    "df"
   ]
  },
  {
   "cell_type": "markdown",
   "id": "7187eebb",
   "metadata": {},
   "source": [
    "**Note:** \n",
    "- The column labels are not considered as data part so the count of rows is 22\n",
    "- Similarly, the row indices are also not considered as data part, so the count of columns is 3\n",
    "- **This can be observed in the shape property of dataframe as shown below**"
   ]
  },
  {
   "cell_type": "code",
   "execution_count": 58,
   "id": "ee17855b",
   "metadata": {},
   "outputs": [
    {
     "data": {
      "text/plain": [
       "(22, 3)"
      ]
     },
     "execution_count": 58,
     "metadata": {},
     "output_type": "execute_result"
    }
   ],
   "source": [
    "# display a tuple representing the dimensionality of the DataFrame.\n",
    "df.shape   # rows, columns = df.shape\n"
   ]
  },
  {
   "cell_type": "code",
   "execution_count": 40,
   "id": "b943c0ac",
   "metadata": {},
   "outputs": [
    {
     "data": {
      "text/plain": [
       "RangeIndex(start=0, stop=22, step=1)"
      ]
     },
     "execution_count": 40,
     "metadata": {},
     "output_type": "execute_result"
    }
   ],
   "source": [
    "# display row labels  of the dataframe\n",
    "df.index"
   ]
  },
  {
   "cell_type": "code",
   "execution_count": 41,
   "id": "b8a7fc1b",
   "metadata": {},
   "outputs": [
    {
     "data": {
      "text/plain": [
       "Index(['uniq_id', 'animal', 'water_need'], dtype='object')"
      ]
     },
     "execution_count": 41,
     "metadata": {},
     "output_type": "execute_result"
    }
   ],
   "source": [
    "# display column labels of a dataframe\n",
    "df.columns"
   ]
  },
  {
   "cell_type": "code",
   "execution_count": 42,
   "id": "899d087f",
   "metadata": {},
   "outputs": [
    {
     "data": {
      "text/plain": [
       "uniq_id         int64\n",
       "animal         object\n",
       "water_need    float64\n",
       "dtype: object"
      ]
     },
     "execution_count": 42,
     "metadata": {},
     "output_type": "execute_result"
    }
   ],
   "source": [
    "# display data types of each column in the dataframe\n",
    "df.dtypes"
   ]
  },
  {
   "cell_type": "code",
   "execution_count": 43,
   "id": "3806bafa",
   "metadata": {},
   "outputs": [
    {
     "data": {
      "text/plain": [
       "array([[1001, 'elephant', 500.0],\n",
       "       [1002, 'elephant', 600.0],\n",
       "       [1003, 'elephant', 350.0],\n",
       "       [1004, 'tiger', nan],\n",
       "       [1005, 'tiger', 320.0],\n",
       "       [1006, 'tiger', 330.0],\n",
       "       [1007, 'tiger', 290.0],\n",
       "       [1008, nan, 310.0],\n",
       "       [1009, 'zebra', 200.0],\n",
       "       [1010, 'zebra', 220.0],\n",
       "       [1011, 'zebra', 240.0],\n",
       "       [1012, 'zebra', 230.0],\n",
       "       [1013, 'zebra', 220.0],\n",
       "       [1014, 'zebra', 100.0],\n",
       "       [1015, 'zebra', 80.0],\n",
       "       [1016, 'lion', 420.0],\n",
       "       [1017, 'lion', 600.0],\n",
       "       [1018, nan, 500.0],\n",
       "       [1019, 'lion', 390.0],\n",
       "       [1020, 'kangaroo', 410.0],\n",
       "       [1021, 'kangaroo', 430.0],\n",
       "       [1022, 'kangaroo', 410.0]], dtype=object)"
      ]
     },
     "execution_count": 43,
     "metadata": {},
     "output_type": "execute_result"
    }
   ],
   "source": [
    "# display a NumPy ndarray having all the values in the DataFrame, without the axes labels\n",
    "df.values"
   ]
  },
  {
   "cell_type": "code",
   "execution_count": null,
   "id": "53fe6d82",
   "metadata": {},
   "outputs": [],
   "source": [
    "# # return number of dimensions of underlying data\n",
    "df.ndim"
   ]
  },
  {
   "cell_type": "code",
   "execution_count": null,
   "id": "f4716fdf",
   "metadata": {},
   "outputs": [],
   "source": [
    "# return number of elements in the underlying data\n",
    "df.size"
   ]
  },
  {
   "cell_type": "code",
   "execution_count": null,
   "id": "45ed4734",
   "metadata": {},
   "outputs": [],
   "source": [
    "# to transpose the DataFrame. Means, row indices and column labels of the DataFrame replace each other’s position\n",
    "df.T"
   ]
  },
  {
   "cell_type": "code",
   "execution_count": null,
   "id": "63c3d167",
   "metadata": {
    "scrolled": true
   },
   "outputs": [],
   "source": [
    "# To check number on non-NA values\n",
    "df.count()"
   ]
  },
  {
   "cell_type": "code",
   "execution_count": 44,
   "id": "fa1cee39",
   "metadata": {},
   "outputs": [
    {
     "data": {
      "text/plain": [
       "False"
      ]
     },
     "execution_count": 44,
     "metadata": {},
     "output_type": "execute_result"
    }
   ],
   "source": [
    "#Return True if the dataframe is empty\n",
    "df.empty"
   ]
  },
  {
   "cell_type": "markdown",
   "id": "506b8217",
   "metadata": {},
   "source": [
    "## 4. Some Basic Info Gathering Methods"
   ]
  },
  {
   "cell_type": "code",
   "execution_count": 45,
   "id": "227c7048",
   "metadata": {},
   "outputs": [
    {
     "data": {
      "text/html": [
       "<div>\n",
       "<style scoped>\n",
       "    .dataframe tbody tr th:only-of-type {\n",
       "        vertical-align: middle;\n",
       "    }\n",
       "\n",
       "    .dataframe tbody tr th {\n",
       "        vertical-align: top;\n",
       "    }\n",
       "\n",
       "    .dataframe thead th {\n",
       "        text-align: right;\n",
       "    }\n",
       "</style>\n",
       "<table border=\"1\" class=\"dataframe\">\n",
       "  <thead>\n",
       "    <tr style=\"text-align: right;\">\n",
       "      <th></th>\n",
       "      <th>uniq_id</th>\n",
       "      <th>animal</th>\n",
       "      <th>water_need</th>\n",
       "    </tr>\n",
       "  </thead>\n",
       "  <tbody>\n",
       "    <tr>\n",
       "      <th>0</th>\n",
       "      <td>1001</td>\n",
       "      <td>elephant</td>\n",
       "      <td>500.0</td>\n",
       "    </tr>\n",
       "    <tr>\n",
       "      <th>1</th>\n",
       "      <td>1002</td>\n",
       "      <td>elephant</td>\n",
       "      <td>600.0</td>\n",
       "    </tr>\n",
       "    <tr>\n",
       "      <th>2</th>\n",
       "      <td>1003</td>\n",
       "      <td>elephant</td>\n",
       "      <td>350.0</td>\n",
       "    </tr>\n",
       "    <tr>\n",
       "      <th>3</th>\n",
       "      <td>1004</td>\n",
       "      <td>tiger</td>\n",
       "      <td>NaN</td>\n",
       "    </tr>\n",
       "    <tr>\n",
       "      <th>4</th>\n",
       "      <td>1005</td>\n",
       "      <td>tiger</td>\n",
       "      <td>320.0</td>\n",
       "    </tr>\n",
       "    <tr>\n",
       "      <th>5</th>\n",
       "      <td>1006</td>\n",
       "      <td>tiger</td>\n",
       "      <td>330.0</td>\n",
       "    </tr>\n",
       "    <tr>\n",
       "      <th>6</th>\n",
       "      <td>1007</td>\n",
       "      <td>tiger</td>\n",
       "      <td>290.0</td>\n",
       "    </tr>\n",
       "    <tr>\n",
       "      <th>7</th>\n",
       "      <td>1008</td>\n",
       "      <td>NaN</td>\n",
       "      <td>310.0</td>\n",
       "    </tr>\n",
       "    <tr>\n",
       "      <th>8</th>\n",
       "      <td>1009</td>\n",
       "      <td>zebra</td>\n",
       "      <td>200.0</td>\n",
       "    </tr>\n",
       "    <tr>\n",
       "      <th>9</th>\n",
       "      <td>1010</td>\n",
       "      <td>zebra</td>\n",
       "      <td>220.0</td>\n",
       "    </tr>\n",
       "    <tr>\n",
       "      <th>10</th>\n",
       "      <td>1011</td>\n",
       "      <td>zebra</td>\n",
       "      <td>240.0</td>\n",
       "    </tr>\n",
       "    <tr>\n",
       "      <th>11</th>\n",
       "      <td>1012</td>\n",
       "      <td>zebra</td>\n",
       "      <td>230.0</td>\n",
       "    </tr>\n",
       "    <tr>\n",
       "      <th>12</th>\n",
       "      <td>1013</td>\n",
       "      <td>zebra</td>\n",
       "      <td>220.0</td>\n",
       "    </tr>\n",
       "    <tr>\n",
       "      <th>13</th>\n",
       "      <td>1014</td>\n",
       "      <td>zebra</td>\n",
       "      <td>100.0</td>\n",
       "    </tr>\n",
       "    <tr>\n",
       "      <th>14</th>\n",
       "      <td>1015</td>\n",
       "      <td>zebra</td>\n",
       "      <td>80.0</td>\n",
       "    </tr>\n",
       "    <tr>\n",
       "      <th>15</th>\n",
       "      <td>1016</td>\n",
       "      <td>lion</td>\n",
       "      <td>420.0</td>\n",
       "    </tr>\n",
       "    <tr>\n",
       "      <th>16</th>\n",
       "      <td>1017</td>\n",
       "      <td>lion</td>\n",
       "      <td>600.0</td>\n",
       "    </tr>\n",
       "    <tr>\n",
       "      <th>17</th>\n",
       "      <td>1018</td>\n",
       "      <td>NaN</td>\n",
       "      <td>500.0</td>\n",
       "    </tr>\n",
       "    <tr>\n",
       "      <th>18</th>\n",
       "      <td>1019</td>\n",
       "      <td>lion</td>\n",
       "      <td>390.0</td>\n",
       "    </tr>\n",
       "    <tr>\n",
       "      <th>19</th>\n",
       "      <td>1020</td>\n",
       "      <td>kangaroo</td>\n",
       "      <td>410.0</td>\n",
       "    </tr>\n",
       "    <tr>\n",
       "      <th>20</th>\n",
       "      <td>1021</td>\n",
       "      <td>kangaroo</td>\n",
       "      <td>430.0</td>\n",
       "    </tr>\n",
       "    <tr>\n",
       "      <th>21</th>\n",
       "      <td>1022</td>\n",
       "      <td>kangaroo</td>\n",
       "      <td>410.0</td>\n",
       "    </tr>\n",
       "  </tbody>\n",
       "</table>\n",
       "</div>"
      ],
      "text/plain": [
       "    uniq_id    animal  water_need\n",
       "0      1001  elephant       500.0\n",
       "1      1002  elephant       600.0\n",
       "2      1003  elephant       350.0\n",
       "3      1004     tiger         NaN\n",
       "4      1005     tiger       320.0\n",
       "5      1006     tiger       330.0\n",
       "6      1007     tiger       290.0\n",
       "7      1008       NaN       310.0\n",
       "8      1009     zebra       200.0\n",
       "9      1010     zebra       220.0\n",
       "10     1011     zebra       240.0\n",
       "11     1012     zebra       230.0\n",
       "12     1013     zebra       220.0\n",
       "13     1014     zebra       100.0\n",
       "14     1015     zebra        80.0\n",
       "15     1016      lion       420.0\n",
       "16     1017      lion       600.0\n",
       "17     1018       NaN       500.0\n",
       "18     1019      lion       390.0\n",
       "19     1020  kangaroo       410.0\n",
       "20     1021  kangaroo       430.0\n",
       "21     1022  kangaroo       410.0"
      ]
     },
     "execution_count": 45,
     "metadata": {},
     "output_type": "execute_result"
    }
   ],
   "source": [
    "import numpy as np\n",
    "import pandas as pd\n",
    "\n",
    "a2DNumPyArray =[\n",
    "       [1001, 'elephant', 500.0],\n",
    "       [1002, 'elephant', 600.0],\n",
    "       [1003, 'elephant', 350.0],\n",
    "       [1004, 'tiger', np.nan],\n",
    "       [1005, 'tiger', 320.0],\n",
    "       [1006, 'tiger', 330.0],\n",
    "       [1007, 'tiger', 290.0],\n",
    "       [1008, np.nan, 310.0],\n",
    "       [1009, 'zebra', 200.0],\n",
    "       [1010, 'zebra', 220.0],\n",
    "       [1011, 'zebra', 240.0],\n",
    "       [1012, 'zebra', 230.0],\n",
    "       [1013, 'zebra', 220.0],\n",
    "       [1014, 'zebra', 100.0],\n",
    "       [1015, 'zebra', 80.0],\n",
    "       [1016, 'lion', 420.0],\n",
    "       [1017, 'lion', 600.0],\n",
    "       [1018, np.nan, 500.0],\n",
    "       [1019, 'lion', 390.0],\n",
    "       [1020, 'kangaroo', 410.0],\n",
    "       [1021, 'kangaroo', 430.0],\n",
    "       [1022, 'kangaroo', 410.0]\n",
    "       ]\n",
    "\n",
    "list1 = ['uniq_id', 'animal', 'water_need']\n",
    "df = pd.DataFrame(data=a2DNumPyArray, columns=list1)\n",
    "df"
   ]
  },
  {
   "cell_type": "code",
   "execution_count": 46,
   "id": "38323a91",
   "metadata": {},
   "outputs": [
    {
     "data": {
      "text/plain": [
       "uniq_id       22\n",
       "animal        20\n",
       "water_need    21\n",
       "dtype: int64"
      ]
     },
     "execution_count": 46,
     "metadata": {},
     "output_type": "execute_result"
    }
   ],
   "source": [
    "df.count()"
   ]
  },
  {
   "cell_type": "code",
   "execution_count": 47,
   "id": "92f3c6a1",
   "metadata": {},
   "outputs": [
    {
     "name": "stdout",
     "output_type": "stream",
     "text": [
      "<class 'pandas.core.frame.DataFrame'>\n",
      "RangeIndex: 22 entries, 0 to 21\n",
      "Data columns (total 3 columns):\n",
      " #   Column      Non-Null Count  Dtype  \n",
      "---  ------      --------------  -----  \n",
      " 0   uniq_id     22 non-null     int64  \n",
      " 1   animal      20 non-null     object \n",
      " 2   water_need  21 non-null     float64\n",
      "dtypes: float64(1), int64(1), object(1)\n",
      "memory usage: 656.0+ bytes\n"
     ]
    }
   ],
   "source": [
    "#This method prints information about a DataFrame including the index dtype, total columns, \n",
    "# non-null values and memory usage\n",
    "df.info()"
   ]
  },
  {
   "cell_type": "code",
   "execution_count": 49,
   "id": "dfaba655",
   "metadata": {},
   "outputs": [
    {
     "data": {
      "text/html": [
       "<div>\n",
       "<style scoped>\n",
       "    .dataframe tbody tr th:only-of-type {\n",
       "        vertical-align: middle;\n",
       "    }\n",
       "\n",
       "    .dataframe tbody tr th {\n",
       "        vertical-align: top;\n",
       "    }\n",
       "\n",
       "    .dataframe thead th {\n",
       "        text-align: right;\n",
       "    }\n",
       "</style>\n",
       "<table border=\"1\" class=\"dataframe\">\n",
       "  <thead>\n",
       "    <tr style=\"text-align: right;\">\n",
       "      <th></th>\n",
       "      <th>uniq_id</th>\n",
       "      <th>water_need</th>\n",
       "    </tr>\n",
       "  </thead>\n",
       "  <tbody>\n",
       "    <tr>\n",
       "      <th>count</th>\n",
       "      <td>22.000000</td>\n",
       "      <td>21.000000</td>\n",
       "    </tr>\n",
       "    <tr>\n",
       "      <th>mean</th>\n",
       "      <td>1011.500000</td>\n",
       "      <td>340.476190</td>\n",
       "    </tr>\n",
       "    <tr>\n",
       "      <th>std</th>\n",
       "      <td>6.493587</td>\n",
       "      <td>143.682852</td>\n",
       "    </tr>\n",
       "    <tr>\n",
       "      <th>min</th>\n",
       "      <td>1001.000000</td>\n",
       "      <td>80.000000</td>\n",
       "    </tr>\n",
       "    <tr>\n",
       "      <th>25%</th>\n",
       "      <td>1006.250000</td>\n",
       "      <td>230.000000</td>\n",
       "    </tr>\n",
       "    <tr>\n",
       "      <th>50%</th>\n",
       "      <td>1011.500000</td>\n",
       "      <td>330.000000</td>\n",
       "    </tr>\n",
       "    <tr>\n",
       "      <th>75%</th>\n",
       "      <td>1016.750000</td>\n",
       "      <td>420.000000</td>\n",
       "    </tr>\n",
       "    <tr>\n",
       "      <th>max</th>\n",
       "      <td>1022.000000</td>\n",
       "      <td>600.000000</td>\n",
       "    </tr>\n",
       "  </tbody>\n",
       "</table>\n",
       "</div>"
      ],
      "text/plain": [
       "           uniq_id  water_need\n",
       "count    22.000000   21.000000\n",
       "mean   1011.500000  340.476190\n",
       "std       6.493587  143.682852\n",
       "min    1001.000000   80.000000\n",
       "25%    1006.250000  230.000000\n",
       "50%    1011.500000  330.000000\n",
       "75%    1016.750000  420.000000\n",
       "max    1022.000000  600.000000"
      ]
     },
     "execution_count": 49,
     "metadata": {},
     "output_type": "execute_result"
    }
   ],
   "source": [
    "# If no arguments are passed displays the descriptive statistis of the numerical columns of dataframe\n",
    "df.describe()"
   ]
  },
  {
   "cell_type": "markdown",
   "id": "d9d9c8e9",
   "metadata": {},
   "source": [
    "**Since `df.describe()` method returns a dataframe, so all dataframe attributes can be accessed using dot notation. This is called chaining, which is very important to understand as we will be using it extensively in upcoming sessions**"
   ]
  },
  {
   "cell_type": "code",
   "execution_count": 56,
   "id": "64d5637f",
   "metadata": {},
   "outputs": [
    {
     "data": {
      "text/plain": [
       "(8, 2)"
      ]
     },
     "execution_count": 56,
     "metadata": {},
     "output_type": "execute_result"
    }
   ],
   "source": [
    "df.describe().shape"
   ]
  },
  {
   "cell_type": "code",
   "execution_count": 53,
   "id": "d5d7d1bd",
   "metadata": {},
   "outputs": [
    {
     "data": {
      "text/plain": [
       "Index(['count', 'mean', 'std', 'min', '25%', '50%', '75%', 'max'], dtype='object')"
      ]
     },
     "execution_count": 53,
     "metadata": {},
     "output_type": "execute_result"
    }
   ],
   "source": [
    "df.describe().index"
   ]
  },
  {
   "cell_type": "code",
   "execution_count": 54,
   "id": "3883b0be",
   "metadata": {},
   "outputs": [
    {
     "data": {
      "text/plain": [
       "Index(['uniq_id', 'water_need'], dtype='object')"
      ]
     },
     "execution_count": 54,
     "metadata": {},
     "output_type": "execute_result"
    }
   ],
   "source": [
    "df.describe().columns"
   ]
  },
  {
   "cell_type": "code",
   "execution_count": 55,
   "id": "af306a12",
   "metadata": {},
   "outputs": [
    {
     "data": {
      "text/plain": [
       "array([[  22.        ,   21.        ],\n",
       "       [1011.5       ,  340.47619048],\n",
       "       [   6.49358658,  143.68285181],\n",
       "       [1001.        ,   80.        ],\n",
       "       [1006.25      ,  230.        ],\n",
       "       [1011.5       ,  330.        ],\n",
       "       [1016.75      ,  420.        ],\n",
       "       [1022.        ,  600.        ]])"
      ]
     },
     "execution_count": 55,
     "metadata": {},
     "output_type": "execute_result"
    }
   ],
   "source": [
    "df.describe().values"
   ]
  },
  {
   "cell_type": "code",
   "execution_count": 57,
   "id": "52fdb79a",
   "metadata": {},
   "outputs": [
    {
     "data": {
      "text/html": [
       "<div>\n",
       "<style scoped>\n",
       "    .dataframe tbody tr th:only-of-type {\n",
       "        vertical-align: middle;\n",
       "    }\n",
       "\n",
       "    .dataframe tbody tr th {\n",
       "        vertical-align: top;\n",
       "    }\n",
       "\n",
       "    .dataframe thead th {\n",
       "        text-align: right;\n",
       "    }\n",
       "</style>\n",
       "<table border=\"1\" class=\"dataframe\">\n",
       "  <thead>\n",
       "    <tr style=\"text-align: right;\">\n",
       "      <th></th>\n",
       "      <th>uniq_id</th>\n",
       "      <th>animal</th>\n",
       "      <th>water_need</th>\n",
       "    </tr>\n",
       "  </thead>\n",
       "  <tbody>\n",
       "    <tr>\n",
       "      <th>count</th>\n",
       "      <td>22.000000</td>\n",
       "      <td>20</td>\n",
       "      <td>21.000000</td>\n",
       "    </tr>\n",
       "    <tr>\n",
       "      <th>unique</th>\n",
       "      <td>NaN</td>\n",
       "      <td>5</td>\n",
       "      <td>NaN</td>\n",
       "    </tr>\n",
       "    <tr>\n",
       "      <th>top</th>\n",
       "      <td>NaN</td>\n",
       "      <td>zebra</td>\n",
       "      <td>NaN</td>\n",
       "    </tr>\n",
       "    <tr>\n",
       "      <th>freq</th>\n",
       "      <td>NaN</td>\n",
       "      <td>7</td>\n",
       "      <td>NaN</td>\n",
       "    </tr>\n",
       "    <tr>\n",
       "      <th>mean</th>\n",
       "      <td>1011.500000</td>\n",
       "      <td>NaN</td>\n",
       "      <td>340.476190</td>\n",
       "    </tr>\n",
       "    <tr>\n",
       "      <th>std</th>\n",
       "      <td>6.493587</td>\n",
       "      <td>NaN</td>\n",
       "      <td>143.682852</td>\n",
       "    </tr>\n",
       "    <tr>\n",
       "      <th>min</th>\n",
       "      <td>1001.000000</td>\n",
       "      <td>NaN</td>\n",
       "      <td>80.000000</td>\n",
       "    </tr>\n",
       "    <tr>\n",
       "      <th>25%</th>\n",
       "      <td>1006.250000</td>\n",
       "      <td>NaN</td>\n",
       "      <td>230.000000</td>\n",
       "    </tr>\n",
       "    <tr>\n",
       "      <th>50%</th>\n",
       "      <td>1011.500000</td>\n",
       "      <td>NaN</td>\n",
       "      <td>330.000000</td>\n",
       "    </tr>\n",
       "    <tr>\n",
       "      <th>75%</th>\n",
       "      <td>1016.750000</td>\n",
       "      <td>NaN</td>\n",
       "      <td>420.000000</td>\n",
       "    </tr>\n",
       "    <tr>\n",
       "      <th>max</th>\n",
       "      <td>1022.000000</td>\n",
       "      <td>NaN</td>\n",
       "      <td>600.000000</td>\n",
       "    </tr>\n",
       "  </tbody>\n",
       "</table>\n",
       "</div>"
      ],
      "text/plain": [
       "            uniq_id animal  water_need\n",
       "count     22.000000     20   21.000000\n",
       "unique          NaN      5         NaN\n",
       "top             NaN  zebra         NaN\n",
       "freq            NaN      7         NaN\n",
       "mean    1011.500000    NaN  340.476190\n",
       "std        6.493587    NaN  143.682852\n",
       "min     1001.000000    NaN   80.000000\n",
       "25%     1006.250000    NaN  230.000000\n",
       "50%     1011.500000    NaN  330.000000\n",
       "75%     1016.750000    NaN  420.000000\n",
       "max     1022.000000    NaN  600.000000"
      ]
     },
     "execution_count": 57,
     "metadata": {},
     "output_type": "execute_result"
    }
   ],
   "source": [
    "df.describe(include='all')"
   ]
  },
  {
   "cell_type": "code",
   "execution_count": null,
   "id": "d1c09767",
   "metadata": {},
   "outputs": [],
   "source": []
  }
 ],
 "metadata": {
  "kernelspec": {
   "display_name": "Python 3 (ipykernel)",
   "language": "python",
   "name": "python3"
  },
  "language_info": {
   "codemirror_mode": {
    "name": "ipython",
    "version": 3
   },
   "file_extension": ".py",
   "mimetype": "text/x-python",
   "name": "python",
   "nbconvert_exporter": "python",
   "pygments_lexer": "ipython3",
   "version": "3.8.10"
  }
 },
 "nbformat": 4,
 "nbformat_minor": 5
}
