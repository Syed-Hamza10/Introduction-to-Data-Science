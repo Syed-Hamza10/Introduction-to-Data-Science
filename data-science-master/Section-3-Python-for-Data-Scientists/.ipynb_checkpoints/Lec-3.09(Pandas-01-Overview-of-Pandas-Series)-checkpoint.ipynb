{
 "cells": [
  {
   "cell_type": "markdown",
   "id": "4a87b5ef",
   "metadata": {},
   "source": [
    "---   \n",
    " <img align=\"left\" width=\"75\" height=\"75\"  src=\"https://upload.wikimedia.org/wikipedia/en/c/c8/University_of_the_Punjab_logo.png\"> \n",
    "\n",
    "<h1 align=\"center\">Department of Data Science</h1>\n",
    "<h1 align=\"center\">Course: Tools and Techniques for Data Science</h1>\n",
    "\n",
    "---\n",
    "<h3><div align=\"right\">Instructor: Muhammad Arif Butt, Ph.D.</div></h3>    "
   ]
  },
  {
   "cell_type": "markdown",
   "id": "ab0dc25c",
   "metadata": {},
   "source": [
    "<h1 align=\"center\">Lecture 3.9 (Pandas-01)</h1>"
   ]
  },
  {
   "cell_type": "markdown",
   "id": "19f82705",
   "metadata": {},
   "source": [
    "## _Overview of Pandas Series Data Structure.ipynb_"
   ]
  },
  {
   "cell_type": "markdown",
   "id": "806db2fe",
   "metadata": {},
   "source": [
    "#### Read about Pandas Data Structures: https://pandas.pydata.org/docs/user_guide/dsintro.html#dsintro"
   ]
  },
  {
   "cell_type": "markdown",
   "id": "9727124d",
   "metadata": {},
   "source": [
    "## Learning agenda of this notebook\n",
    "\n",
    "1. Overview of Python Pandas library and its data structures\n",
    "2. Creating a Series\n",
    "    - From Python List\n",
    "    - From NumPy Arrays\n",
    "    - From Python Dictionary\n",
    "    - From a scalar value\n",
    "3. Attributes of a Pandas Series\n",
    "4. Understanding Index in a Series and its usage\n",
    "    - Identification\n",
    "    - Selection/Filtering/Subsetting\n",
    "    - Alignment"
   ]
  },
  {
   "cell_type": "markdown",
   "id": "32024162",
   "metadata": {},
   "source": [
    "<img align=\"right\" width=\"500\" height=\"500\"  src=\"images/pandas-apps.png\"  >\n",
    "\n",
    "## 1. Overview of Pandas\n",
    "- **Pandas** is an open-source Python library built on numPy and provides easy to use data structures and data analysis tools. PANDAS has derived its name from “PANel DAta System”. It was developed in 2008 by Wes McKinney. \n",
    "- Data Scientists use Pandas for performing following functions:\n",
    "    - Reading, Writing, Downloading files of different formats like CSV, JSON, EXCEL, HTML, etc\n",
    "    - Filtering and Modifying data based on multiple conditions\n",
    "    - Attribute Generation (e.g., ID generation) \n",
    "    - Identifying and removing null values and duplicates\n",
    "    - Imputation (replacement of missing observations by using statistical algorithms) \n",
    "    - Cutting, Splitting and Merging\n",
    "    - Sorting and aggregating\n",
    "    - Normalisation, standardisation, scaling, and pivoting\n",
    "    - Data Partitioning (create training + validation + test data set)\n",
    "- **Data Structures:**\n",
    "    - **Series:** It is a labeled one-dimensional homogeneous array containing a sequence of values of any but homogeneous data type with numeric data labels starting from zero. \n",
    "    - **Dataframe:** It is a 2-dimensional labeled data structure (like SQL table) with heterogeneously typed columns, having both a row and a column index.\n",
    "    - Both of these data structures are *value-mutable*"
   ]
  },
  {
   "cell_type": "code",
   "execution_count": 1,
   "id": "e251bdc6",
   "metadata": {},
   "outputs": [],
   "source": [
    "# To install this library in Jupyter notebook\n",
    "import sys\n",
    "!{sys.executable} -m pip install pandas --quiet"
   ]
  },
  {
   "cell_type": "code",
   "execution_count": 2,
   "id": "dba905d0",
   "metadata": {},
   "outputs": [
    {
     "data": {
      "text/plain": [
       "('1.3.4',\n",
       " ['/Library/Frameworks/Python.framework/Versions/3.8/lib/python3.8/site-packages/pandas'])"
      ]
     },
     "execution_count": 2,
     "metadata": {},
     "output_type": "execute_result"
    }
   ],
   "source": [
    "import pandas as pd\n",
    "pd.__version__ , pd.__path__"
   ]
  },
  {
   "cell_type": "markdown",
   "id": "99b11957",
   "metadata": {},
   "source": [
    "## 2. Creating a Series\n",
    "<img align=\"right\" width=\"500\" height=\"500\"  src=\"images/series-anatomy.png\"  >\n",
    "\n",
    "- A Series is a one-dimensional array containing a sequence of values of any data type (int, float, list, string, etc) which by default have numeric data labels starting from zero. \n",
    "- A series can be of any one data type like int, float, string, or object type. In case if the items of a series are of different types, the type associated with the series object is type of the largest size.\n",
    "- We can imagine a Pandas Series as a column in a spreadsheet.\n",
    "- Every series object has an index associated with every item, which can be an integer value (default) or a may be a string. The index is used for three purposes\n",
    "    - Identification\n",
    "    - Selection\n",
    "    - Alignment\n",
    "- Indeces must be unique, hashable and have the same length as data. It defaults to `np.arrange(n)`, if no index is passed\n",
    "- You can create a series using the `pd.Series()` method from a \n",
    "    - Python list \n",
    "    - NumPy array\n",
    "    - Python Dictionary\n",
    "    - A scalar value\n",
    "\n",
    "**```pd.Series(data, index, dtype, name)```**\n",
    "- data: It can be a python sequence, an ndarray, a python dictionary or a scalar value.\n",
    "- idx: It is a valid numpy datatype. \n",
    "\n",
    "To create an empty series use  `s1=pd.Series()`"
   ]
  },
  {
   "cell_type": "markdown",
   "id": "315fe124",
   "metadata": {},
   "source": [
    "### a. Creating a Series from Python List"
   ]
  },
  {
   "cell_type": "code",
   "execution_count": 2,
   "id": "3fe671e5",
   "metadata": {
    "scrolled": false
   },
   "outputs": [
    {
     "name": "stdout",
     "output_type": "stream",
     "text": [
      "0      Arif\n",
      "1      Rauf\n",
      "2      Maaz\n",
      "3          \n",
      "4    Hadeed\n",
      "dtype: object\n",
      "<class 'pandas.core.series.Series'>\n"
     ]
    }
   ],
   "source": [
    "# Creating Series from a Python List\n",
    "import pandas as pd\n",
    "import numpy as np\n",
    "list1 = ['Arif', 'Rauf', 'Maaz', '','Hadeed']\n",
    "\n",
    "# When index is not provided, it creates an index for the data starting from zero and with a step size of one.\n",
    "s = pd.Series(data=list1)\n",
    "print(s)\n",
    "print(type(s))"
   ]
  },
  {
   "cell_type": "markdown",
   "id": "c0e6abcf",
   "metadata": {},
   "source": [
    "Observe that output is shown in two columns - the index is on the left and the data value is on the right. If we do not explicitly specify an index for the data values while creating a series, then by default indices range from 0 through N – 1. Here N is the number of data elements."
   ]
  },
  {
   "cell_type": "markdown",
   "id": "ebb2f672",
   "metadata": {},
   "source": [
    "**You can explicitly specify an index for a Series object, which can be either int or string type.**"
   ]
  },
  {
   "cell_type": "code",
   "execution_count": 3,
   "id": "f00c9d4d",
   "metadata": {},
   "outputs": [
    {
     "name": "stdout",
     "output_type": "stream",
     "text": [
      "MS01      Arif\n",
      "MS02      Rauf\n",
      "MS03      Maaz\n",
      "MS02    Hadeed\n",
      "dtype: object\n",
      "<class 'pandas.core.series.Series'>\n"
     ]
    }
   ],
   "source": [
    "# When index labels are passed with the array, then the length of the index and array must be of the same size, \n",
    "# else it will result in a ValueError\n",
    "\n",
    "list1 = ['Arif', 'Rauf', 'Maaz', 'Hadeed']\n",
    "label1 = ['MS01', 'MS02', 'MS03', 'MS02']\n",
    "\n",
    "s = pd.Series(data=list1, index=label1)\n",
    "print(s)\n",
    "print(type(s))"
   ]
  },
  {
   "cell_type": "code",
   "execution_count": 4,
   "id": "e420a746",
   "metadata": {},
   "outputs": [
    {
     "name": "stdout",
     "output_type": "stream",
     "text": [
      "0    1.0\n",
      "1    2.7\n",
      "2    3.0\n",
      "3    4.0\n",
      "4    5.9\n",
      "5    6.0\n",
      "6    NaN\n",
      "dtype: float64\n",
      "<class 'pandas.core.series.Series'>\n"
     ]
    }
   ],
   "source": [
    "# Creating Series from a Python List with NaN\n",
    "#np.nan is IEEE 754 floating-point representation of Not a Number. \n",
    "#Act as a placeholder for any missing numerical values in the array.\n",
    "\n",
    "list1 = [1, 2.7, 3, 4, 5.9, 6, np.nan]\n",
    "s = pd.Series(data=list1)\n",
    "print(s)\n",
    "print(type(s))"
   ]
  },
  {
   "cell_type": "code",
   "execution_count": 13,
   "id": "8b6eeb30",
   "metadata": {},
   "outputs": [
    {
     "name": "stdout",
     "output_type": "stream",
     "text": [
      "MS01      Arif\n",
      "MS02      Rauf\n",
      "MS03          \n",
      "MS04    Hadeed\n",
      "Name: myseries1, dtype: object\n",
      "<class 'pandas.core.series.Series'>\n"
     ]
    }
   ],
   "source": [
    "# You can assign names to series\n",
    "list1 = ['Arif', 'Rauf', '', 'Hadeed']\n",
    "label1 = ['MS01', 'MS02', 'MS03', 'MS04']\n",
    "s = pd.Series(data=list1, index=label1, name='myseries1')\n",
    "print(s)\n",
    "print(type(s))"
   ]
  },
  {
   "cell_type": "markdown",
   "id": "adefe54c",
   "metadata": {},
   "source": [
    "### b. Creating a Series from NumPy Array"
   ]
  },
  {
   "cell_type": "code",
   "execution_count": 9,
   "id": "46c41869",
   "metadata": {},
   "outputs": [
    {
     "data": {
      "text/plain": [
       "0    0\n",
       "1    1\n",
       "2    2\n",
       "3    3\n",
       "dtype: int64"
      ]
     },
     "execution_count": 9,
     "metadata": {},
     "output_type": "execute_result"
    }
   ],
   "source": [
    "# Creating Series from a Numpy Array\n",
    "import numpy as np\n",
    "import pandas as pd\n",
    "s = pd.Series(data=range(4))\n",
    "s"
   ]
  },
  {
   "cell_type": "code",
   "execution_count": 17,
   "id": "32fb1954",
   "metadata": {},
   "outputs": [
    {
     "data": {
      "text/plain": [
       "0    62.0\n",
       "1    22.0\n",
       "2    98.0\n",
       "3    44.0\n",
       "dtype: float64"
      ]
     },
     "execution_count": 17,
     "metadata": {},
     "output_type": "execute_result"
    }
   ],
   "source": [
    "# Creating Series from a Numpy Array\n",
    "import numpy as np\n",
    "import pandas as pd\n",
    "arr1 = np.array([62,22,98,44])\n",
    "\n",
    "s = pd.Series(data=arr1, dtype='float64')\n",
    "s"
   ]
  },
  {
   "cell_type": "markdown",
   "id": "6a8917ca",
   "metadata": {},
   "source": [
    "### c. Creating a Series from Python Dictionary"
   ]
  },
  {
   "cell_type": "code",
   "execution_count": 12,
   "id": "665af5d7",
   "metadata": {},
   "outputs": [
    {
     "name": "stdout",
     "output_type": "stream",
     "text": [
      "name               Arif\n",
      "gender             Male\n",
      "Role            Teacher\n",
      "subject    Data Science\n",
      "dtype: object\n",
      "<class 'pandas.core.series.Series'>\n"
     ]
    }
   ],
   "source": [
    "# Creating Series from a Python Dictionary\n",
    "import pandas as pd\n",
    "import numpy as np\n",
    "my_dict = {\n",
    "    'name':\"Arif\", \n",
    "    'gender':\"Male\", \n",
    "    'Role':\"Teacher\", \n",
    "    'subject':\"Data Science\"}\n",
    "s = pd.Series(data=my_dict)\n",
    "print(s)\n",
    "print(type(s))"
   ]
  },
  {
   "cell_type": "markdown",
   "id": "7d1af826",
   "metadata": {},
   "source": [
    "**When you create a series from dictionary, it will automatically take the keys as index and the value as data**"
   ]
  },
  {
   "cell_type": "markdown",
   "id": "cd475971",
   "metadata": {},
   "source": [
    "### d. Creating a Series from Scalar value"
   ]
  },
  {
   "cell_type": "code",
   "execution_count": 16,
   "id": "f08b327f",
   "metadata": {},
   "outputs": [
    {
     "name": "stdout",
     "output_type": "stream",
     "text": [
      "0    25\n",
      "dtype: int64\n",
      "<class 'pandas.core.series.Series'>\n"
     ]
    }
   ],
   "source": [
    "# Create Series from a Scalar value\n",
    "s = pd.Series(data=25)\n",
    "print(s)\n",
    "print(type(s))"
   ]
  },
  {
   "cell_type": "code",
   "execution_count": 20,
   "id": "46319b2b",
   "metadata": {},
   "outputs": [
    {
     "name": "stdout",
     "output_type": "stream",
     "text": [
      "Series([], dtype: float64)\n",
      "<class 'pandas.core.series.Series'>\n"
     ]
    }
   ],
   "source": [
    "# An empty Series\n",
    "s=pd.Series(dtype='float64')\n",
    "print(s)\n",
    "print(type(s))"
   ]
  },
  {
   "cell_type": "markdown",
   "id": "bec8ddc7",
   "metadata": {},
   "source": [
    "## 3. Attributes of Panda  Series\n",
    "- We can access certain properties called attributes of a series by using that property with the series name using dot `.` notation"
   ]
  },
  {
   "cell_type": "code",
   "execution_count": 21,
   "id": "e021e537",
   "metadata": {},
   "outputs": [
    {
     "data": {
      "text/plain": [
       "0       Rauf\n",
       "1       Arif\n",
       "2       Maaz\n",
       "3     Hadeed\n",
       "4    Mujahid\n",
       "5      Mohid\n",
       "6      Jamil\n",
       "Name: ser1, dtype: object"
      ]
     },
     "execution_count": 21,
     "metadata": {},
     "output_type": "execute_result"
    }
   ],
   "source": [
    "import pandas as pd\n",
    "import numpy as np\n",
    "\n",
    "my_dict = {0:\"Rauf\", 1:\"Arif\", 2:\"Maaz\", 3:\"Hadeed\", 4:\"Mujahid\", 5:\"Mohid\", 6:\"Jamil\"}\n",
    "s = pd.Series(my_dict, name=\"ser1\")\n",
    "s"
   ]
  },
  {
   "cell_type": "code",
   "execution_count": 22,
   "id": "666018f4",
   "metadata": {},
   "outputs": [
    {
     "data": {
      "text/plain": [
       "'ser1'"
      ]
     },
     "execution_count": 22,
     "metadata": {},
     "output_type": "execute_result"
    }
   ],
   "source": [
    "s.name"
   ]
  },
  {
   "cell_type": "code",
   "execution_count": 23,
   "id": "a24ade38",
   "metadata": {},
   "outputs": [
    {
     "data": {
      "text/plain": [
       "Int64Index([0, 1, 2, 3, 4, 5, 6], dtype='int64')"
      ]
     },
     "execution_count": 23,
     "metadata": {},
     "output_type": "execute_result"
    }
   ],
   "source": [
    "# return the list of indices and its datatype\n",
    "s.index"
   ]
  },
  {
   "cell_type": "code",
   "execution_count": 24,
   "id": "1f7d188a",
   "metadata": {},
   "outputs": [
    {
     "data": {
      "text/plain": [
       "array(['Rauf', 'Arif', 'Maaz', 'Hadeed', 'Mujahid', 'Mohid', 'Jamil'],\n",
       "      dtype=object)"
      ]
     },
     "execution_count": 24,
     "metadata": {},
     "output_type": "execute_result"
    }
   ],
   "source": [
    "# return the list of values and its datatype\n",
    "s.values"
   ]
  },
  {
   "cell_type": "code",
   "execution_count": 25,
   "id": "0c117bdd",
   "metadata": {},
   "outputs": [
    {
     "data": {
      "text/plain": [
       "dtype('O')"
      ]
     },
     "execution_count": 25,
     "metadata": {},
     "output_type": "execute_result"
    }
   ],
   "source": [
    "# return the type of underlying data\n",
    "s.dtype"
   ]
  },
  {
   "cell_type": "code",
   "execution_count": 26,
   "id": "2e044be9",
   "metadata": {},
   "outputs": [
    {
     "data": {
      "text/plain": [
       "(7,)"
      ]
     },
     "execution_count": 26,
     "metadata": {},
     "output_type": "execute_result"
    }
   ],
   "source": [
    "# return a tuple of shape of underlying data\n",
    "s.shape"
   ]
  },
  {
   "cell_type": "code",
   "execution_count": 27,
   "id": "be57c960",
   "metadata": {},
   "outputs": [
    {
     "data": {
      "text/plain": [
       "56"
      ]
     },
     "execution_count": 27,
     "metadata": {},
     "output_type": "execute_result"
    }
   ],
   "source": [
    "# return the number of bytes of underlying data (object data type take 8 bytes)\n",
    "s.nbytes"
   ]
  },
  {
   "cell_type": "code",
   "execution_count": 28,
   "id": "0236e399",
   "metadata": {},
   "outputs": [
    {
     "data": {
      "text/plain": [
       "7"
      ]
     },
     "execution_count": 28,
     "metadata": {},
     "output_type": "execute_result"
    }
   ],
   "source": [
    "# return number of elements in the underlying data\n",
    "s.size"
   ]
  },
  {
   "cell_type": "code",
   "execution_count": 29,
   "id": "4d41072e",
   "metadata": {},
   "outputs": [
    {
     "data": {
      "text/plain": [
       "1"
      ]
     },
     "execution_count": 29,
     "metadata": {},
     "output_type": "execute_result"
    }
   ],
   "source": [
    "# return number of dimensions of underlying data\n",
    "s.ndim"
   ]
  },
  {
   "cell_type": "code",
   "execution_count": 30,
   "id": "0072cb0f",
   "metadata": {},
   "outputs": [
    {
     "data": {
      "text/plain": [
       "False"
      ]
     },
     "execution_count": 30,
     "metadata": {},
     "output_type": "execute_result"
    }
   ],
   "source": [
    "# return true if there are NaN values in the data\n",
    "s.hasnans"
   ]
  },
  {
   "cell_type": "code",
   "execution_count": 31,
   "id": "93ff71be",
   "metadata": {},
   "outputs": [
    {
     "data": {
      "text/plain": [
       "False"
      ]
     },
     "execution_count": 31,
     "metadata": {},
     "output_type": "execute_result"
    }
   ],
   "source": [
    "# return true if the series object is empty\n",
    "s.empty"
   ]
  },
  {
   "cell_type": "code",
   "execution_count": null,
   "id": "2aeb05ea",
   "metadata": {},
   "outputs": [],
   "source": []
  },
  {
   "cell_type": "markdown",
   "id": "1471a464",
   "metadata": {},
   "source": [
    "## 4. Understanding Index in a Series\n",
    "- Every series object has an index associated with every item, which can be an integer value (default) or a may be a string. Indeces must be unique, hashable and have the same length as data.\n",
    "- The index is used for three purposes\n",
    "    - Identification\n",
    "    - Selection/Filtering/Subsetting\n",
    "    - Alignment\n",
    "- Before we discuss these three uses of indices, let us dig a litter deeper to have a clear understanding about the index of a series object\n",
    "\n",
    "\n",
    "\n",
    "- The Pandas series object supports both integer-based and label-based indexing and provides a host of methods for performing operations involving the index.\n"
   ]
  },
  {
   "cell_type": "markdown",
   "id": "08a63cdf",
   "metadata": {},
   "source": [
    "### a. Changing Index of a Series Object\n",
    "- If we create a Series object from dictionary, the keys of dictionray become the index \n",
    "- If we create a Series object from a list or nmpy array, the index defaults to integers from 0, 1, 2, ...\n",
    "- Once a series object is created, we can assign new indices to it. This is shown below:"
   ]
  },
  {
   "cell_type": "code",
   "execution_count": 48,
   "id": "81221a73",
   "metadata": {},
   "outputs": [
    {
     "name": "stdout",
     "output_type": "stream",
     "text": [
      "0    25\n",
      "1    26\n",
      "2    27\n",
      "3    28\n",
      "4    29\n",
      "5    30\n",
      "6    31\n",
      "7    32\n",
      "8    33\n",
      "9    34\n",
      "dtype: int64\n",
      "RangeIndex(start=0, stop=10, step=1)\n"
     ]
    }
   ],
   "source": [
    "import pandas as pd\n",
    "import numpy as np\n",
    "\n",
    "# defining a series containing ten data values from 25 to 34\n",
    "list1 = list(range(25,35))\n",
    "\n",
    "s = pd.Series(data=list1)\n",
    "print(s)\n",
    "\n",
    "# index attribute shows that index range for this series is from (0-9) with step value of 1\n",
    "print(s.index)"
   ]
  },
  {
   "cell_type": "markdown",
   "id": "2ac638df",
   "metadata": {},
   "source": [
    "**Changing index of a series to some random whole number**"
   ]
  },
  {
   "cell_type": "code",
   "execution_count": 50,
   "id": "ca48f7cb",
   "metadata": {},
   "outputs": [
    {
     "data": {
      "text/plain": [
       "158    25\n",
       "137    26\n",
       "133    27\n",
       "181    28\n",
       "178    29\n",
       "162    30\n",
       "161    31\n",
       "111    32\n",
       "128    33\n",
       "183    34\n",
       "dtype: int64"
      ]
     },
     "execution_count": 50,
     "metadata": {},
     "output_type": "execute_result"
    }
   ],
   "source": [
    "# creating a random list of 10 integers between range 100-200\n",
    "arr1 = np.random.randint(low = 100, high = 200, size = 10)\n",
    "\n",
    "# Now let us set this list set the index of our series\n",
    "s.index = arr1\n",
    "s"
   ]
  },
  {
   "cell_type": "markdown",
   "id": "c7252611",
   "metadata": {},
   "source": [
    "**Changing index of a series to a list of strings**"
   ]
  },
  {
   "cell_type": "code",
   "execution_count": 52,
   "id": "cdd3f1d8",
   "metadata": {},
   "outputs": [
    {
     "name": "stdout",
     "output_type": "stream",
     "text": [
      "0    10\n",
      "1    11\n",
      "2    12\n",
      "3    13\n",
      "4    14\n",
      "dtype: int64\n"
     ]
    },
    {
     "data": {
      "text/plain": [
       "RangeIndex(start=0, stop=5, step=1)"
      ]
     },
     "execution_count": 52,
     "metadata": {},
     "output_type": "execute_result"
    }
   ],
   "source": [
    "import random\n",
    "s = pd.Series(range(10, 15))\n",
    "print(s)\n",
    "\n",
    "# you can check that the index type of series s1 is now object\n",
    "s.index"
   ]
  },
  {
   "cell_type": "code",
   "execution_count": 54,
   "id": "c8738768",
   "metadata": {},
   "outputs": [
    {
     "name": "stdout",
     "output_type": "stream",
     "text": [
      "num1    10\n",
      "num2    11\n",
      "num3    12\n",
      "num4    13\n",
      "num5    14\n",
      "dtype: int64\n"
     ]
    },
    {
     "data": {
      "text/plain": [
       "Index(['num1', 'num2', 'num3', 'num4', 'num5'], dtype='object')"
      ]
     },
     "execution_count": 54,
     "metadata": {},
     "output_type": "execute_result"
    }
   ],
   "source": [
    "# Now let us change the index of series object by assigning its index attribute to a list of strings\n",
    "s.index = ['num1', 'num2', 'num3', 'num4', 'num5']\n",
    "print(s)\n",
    "\n",
    "# you can check that the index type of series s1 is now object\n",
    "s.index"
   ]
  },
  {
   "cell_type": "markdown",
   "id": "6ae33d5a",
   "metadata": {},
   "source": [
    "### b. First use of Index (Identification)\n",
    "- Since every data value of a series object has an associated index, so we can use this index to identify the data value"
   ]
  },
  {
   "cell_type": "markdown",
   "id": "2f62003c",
   "metadata": {},
   "source": [
    "** Identification using Integer Labels**"
   ]
  },
  {
   "cell_type": "code",
   "execution_count": 71,
   "id": "d708f31c",
   "metadata": {},
   "outputs": [
    {
     "data": {
      "text/plain": [
       "0    10\n",
       "1    11\n",
       "2    12\n",
       "3    13\n",
       "4    14\n",
       "dtype: int64"
      ]
     },
     "execution_count": 71,
     "metadata": {},
     "output_type": "execute_result"
    }
   ],
   "source": [
    "s = pd.Series(range(10, 15))\n",
    "s"
   ]
  },
  {
   "cell_type": "code",
   "execution_count": 72,
   "id": "c9045a42",
   "metadata": {},
   "outputs": [
    {
     "data": {
      "text/plain": [
       "12"
      ]
     },
     "execution_count": 72,
     "metadata": {},
     "output_type": "execute_result"
    }
   ],
   "source": [
    "s[2]"
   ]
  },
  {
   "cell_type": "code",
   "execution_count": 73,
   "id": "a63e1a06",
   "metadata": {},
   "outputs": [
    {
     "data": {
      "text/plain": [
       "2    12\n",
       "1    11\n",
       "3    13\n",
       "dtype: int64"
      ]
     },
     "execution_count": 73,
     "metadata": {},
     "output_type": "execute_result"
    }
   ],
   "source": [
    "s[[2, 1, 3]]"
   ]
  },
  {
   "cell_type": "markdown",
   "id": "77ac3b00",
   "metadata": {},
   "source": [
    "**Identification using String Labels**"
   ]
  },
  {
   "cell_type": "code",
   "execution_count": 74,
   "id": "d4794a46",
   "metadata": {},
   "outputs": [
    {
     "data": {
      "text/plain": [
       "num1    10\n",
       "num2    11\n",
       "num3    12\n",
       "num4    13\n",
       "num5    14\n",
       "dtype: int64"
      ]
     },
     "execution_count": 74,
     "metadata": {},
     "output_type": "execute_result"
    }
   ],
   "source": [
    "labels = ['num1', 'num2', 'num3', 'num4', 'num5']\n",
    "s = pd.Series(range(10, 15), index=labels)\n",
    "s"
   ]
  },
  {
   "cell_type": "code",
   "execution_count": 75,
   "id": "7896749e",
   "metadata": {},
   "outputs": [
    {
     "data": {
      "text/plain": [
       "10"
      ]
     },
     "execution_count": 75,
     "metadata": {},
     "output_type": "execute_result"
    }
   ],
   "source": [
    "s['num1']"
   ]
  },
  {
   "cell_type": "code",
   "execution_count": 77,
   "id": "f11d537e",
   "metadata": {},
   "outputs": [
    {
     "data": {
      "text/plain": [
       "num3    12\n",
       "num1    10\n",
       "dtype: int64"
      ]
     },
     "execution_count": 77,
     "metadata": {},
     "output_type": "execute_result"
    }
   ],
   "source": [
    "s[['num3', 'num1']]"
   ]
  },
  {
   "cell_type": "markdown",
   "id": "c33193ff",
   "metadata": {},
   "source": [
    "### c. Second use of Index (Selection)\n",
    "- You can select a subset of a series object using the slice object [start:stop:step]\n",
    "    - If only stop is provided, it generates a portion of a sequence from index 0 to stop, where stop is excluded.\n",
    "    - If only start is provided, it generates a portion of the sequence from the index start until the last element.\n",
    "    - If both start and stop are provided, it generates a portion of the sequence from the index start until the stop where the stop is excluded.\n",
    "    - If start, stop, and step are provided, it generates a portion of the sequence from the index start until stop (excluded) with an increment of index step.\n"
   ]
  },
  {
   "cell_type": "markdown",
   "id": "1e3ea7a4",
   "metadata": {},
   "source": [
    "**Selection/Filtering/Subsetting using Integer Labels**"
   ]
  },
  {
   "cell_type": "code",
   "execution_count": 64,
   "id": "12d58d8f",
   "metadata": {},
   "outputs": [
    {
     "data": {
      "text/plain": [
       "0    15\n",
       "1    16\n",
       "2    17\n",
       "3    18\n",
       "4    19\n",
       "5    20\n",
       "6    21\n",
       "7    22\n",
       "dtype: int64"
      ]
     },
     "execution_count": 64,
     "metadata": {},
     "output_type": "execute_result"
    }
   ],
   "source": [
    "s = pd.Series(range(15, 23))\n",
    "s"
   ]
  },
  {
   "cell_type": "code",
   "execution_count": null,
   "id": "1da738e1",
   "metadata": {},
   "outputs": [],
   "source": [
    "s[::]"
   ]
  },
  {
   "cell_type": "code",
   "execution_count": 65,
   "id": "faacfdb9",
   "metadata": {},
   "outputs": [
    {
     "data": {
      "text/plain": [
       "2    17\n",
       "3    18\n",
       "4    19\n",
       "5    20\n",
       "6    21\n",
       "7    22\n",
       "dtype: int64"
      ]
     },
     "execution_count": 65,
     "metadata": {},
     "output_type": "execute_result"
    }
   ],
   "source": [
    "s[2::]"
   ]
  },
  {
   "cell_type": "code",
   "execution_count": 66,
   "id": "fcb3af61",
   "metadata": {},
   "outputs": [
    {
     "data": {
      "text/plain": [
       "2    17\n",
       "3    18\n",
       "dtype: int64"
      ]
     },
     "execution_count": 66,
     "metadata": {},
     "output_type": "execute_result"
    }
   ],
   "source": [
    "s[2:4]"
   ]
  },
  {
   "cell_type": "code",
   "execution_count": 67,
   "id": "415fa38f",
   "metadata": {},
   "outputs": [
    {
     "data": {
      "text/plain": [
       "3    18\n",
       "4    19\n",
       "5    20\n",
       "6    21\n",
       "7    22\n",
       "dtype: int64"
      ]
     },
     "execution_count": 67,
     "metadata": {},
     "output_type": "execute_result"
    }
   ],
   "source": [
    "s[3:9]"
   ]
  },
  {
   "cell_type": "code",
   "execution_count": 68,
   "id": "ebdde8ab",
   "metadata": {},
   "outputs": [
    {
     "data": {
      "text/plain": [
       "1    16\n",
       "3    18\n",
       "dtype: int64"
      ]
     },
     "execution_count": 68,
     "metadata": {},
     "output_type": "execute_result"
    }
   ],
   "source": [
    "s[1:5:2]"
   ]
  },
  {
   "cell_type": "code",
   "execution_count": 69,
   "id": "25ff3c63",
   "metadata": {},
   "outputs": [
    {
     "data": {
      "text/plain": [
       "7    22\n",
       "6    21\n",
       "5    20\n",
       "4    19\n",
       "3    18\n",
       "2    17\n",
       "1    16\n",
       "0    15\n",
       "dtype: int64"
      ]
     },
     "execution_count": 69,
     "metadata": {},
     "output_type": "execute_result"
    }
   ],
   "source": [
    "s[::-1]"
   ]
  },
  {
   "cell_type": "markdown",
   "id": "633520b4",
   "metadata": {},
   "source": [
    "**Selection/Filtering/Subsetting using String Labels**"
   ]
  },
  {
   "cell_type": "code",
   "execution_count": 84,
   "id": "c56129ab",
   "metadata": {},
   "outputs": [
    {
     "data": {
      "text/plain": [
       "num1    15\n",
       "num2    16\n",
       "num3    17\n",
       "num4    18\n",
       "num5    19\n",
       "num6    20\n",
       "num7    21\n",
       "dtype: int64"
      ]
     },
     "execution_count": 84,
     "metadata": {},
     "output_type": "execute_result"
    }
   ],
   "source": [
    "labels = ['num1', 'num2', 'num3', 'num4', 'num5', 'num6', 'num7']\n",
    "s = pd.Series(range(15, 22), index=labels)\n",
    "s"
   ]
  },
  {
   "cell_type": "code",
   "execution_count": 85,
   "id": "3969e267",
   "metadata": {},
   "outputs": [
    {
     "data": {
      "text/plain": [
       "num1    15\n",
       "num2    16\n",
       "num3    17\n",
       "num4    18\n",
       "num5    19\n",
       "num6    20\n",
       "num7    21\n",
       "dtype: int64"
      ]
     },
     "execution_count": 85,
     "metadata": {},
     "output_type": "execute_result"
    }
   ],
   "source": [
    "s[::]"
   ]
  },
  {
   "cell_type": "code",
   "execution_count": 89,
   "id": "991490b6",
   "metadata": {},
   "outputs": [
    {
     "data": {
      "text/plain": [
       "num2    16\n",
       "num3    17\n",
       "num4    18\n",
       "num5    19\n",
       "dtype: int64"
      ]
     },
     "execution_count": 89,
     "metadata": {},
     "output_type": "execute_result"
    }
   ],
   "source": [
    "s['num2':'num5']"
   ]
  },
  {
   "cell_type": "code",
   "execution_count": 90,
   "id": "3ec7cf17",
   "metadata": {},
   "outputs": [
    {
     "data": {
      "text/plain": [
       "num2    16\n",
       "num4    18\n",
       "dtype: int64"
      ]
     },
     "execution_count": 90,
     "metadata": {},
     "output_type": "execute_result"
    }
   ],
   "source": [
    "s['num2':'num5':2]"
   ]
  },
  {
   "cell_type": "code",
   "execution_count": 92,
   "id": "0a54d42f",
   "metadata": {},
   "outputs": [
    {
     "data": {
      "text/plain": [
       "num5    19\n",
       "num4    18\n",
       "num3    17\n",
       "dtype: int64"
      ]
     },
     "execution_count": 92,
     "metadata": {},
     "output_type": "execute_result"
    }
   ],
   "source": [
    "s['num5':'num3':-1]"
   ]
  },
  {
   "cell_type": "code",
   "execution_count": null,
   "id": "05f5be0c",
   "metadata": {},
   "outputs": [],
   "source": []
  },
  {
   "cell_type": "markdown",
   "id": "d4be2333",
   "metadata": {},
   "source": [
    "### d. Third use of Index (Alignment)\n",
    "- If we perform basic mathematical operations like addition, subtraction, multiplication, division, etc., on two Series objects, the operation is done on each corresponding pair of elements. This is done by matching the indices of the two series objects.\n",
    "- Let us understand this with examples"
   ]
  },
  {
   "cell_type": "markdown",
   "id": "66b50cf4",
   "metadata": {},
   "source": [
    "**Understanding Alignment with Series having Integer Labels**"
   ]
  },
  {
   "cell_type": "code",
   "execution_count": 105,
   "id": "c65a6b0a",
   "metadata": {},
   "outputs": [],
   "source": [
    "s1 = pd.Series(range(5, 10), index=[0,1,2,3,4])\n",
    "s2 = pd.Series(range(20, 25), index=[0,1,2,3,4])"
   ]
  },
  {
   "cell_type": "code",
   "execution_count": 106,
   "id": "c7d0280e",
   "metadata": {},
   "outputs": [
    {
     "name": "stdout",
     "output_type": "stream",
     "text": [
      "0    5\n",
      "1    6\n",
      "2    7\n",
      "3    8\n",
      "4    9\n",
      "dtype: int64\n",
      "Int64Index([0, 1, 2, 3, 4], dtype='int64')\n"
     ]
    }
   ],
   "source": [
    "print(s1)\n",
    "print(s1.index)"
   ]
  },
  {
   "cell_type": "code",
   "execution_count": 107,
   "id": "a34e3502",
   "metadata": {},
   "outputs": [
    {
     "name": "stdout",
     "output_type": "stream",
     "text": [
      "0    20\n",
      "1    21\n",
      "2    22\n",
      "3    23\n",
      "4    24\n",
      "dtype: int64\n",
      "Int64Index([0, 1, 2, 3, 4], dtype='int64')\n"
     ]
    }
   ],
   "source": [
    "print(s2)\n",
    "print(s2.index)"
   ]
  },
  {
   "cell_type": "code",
   "execution_count": 108,
   "id": "4da10c86",
   "metadata": {},
   "outputs": [
    {
     "data": {
      "text/plain": [
       "0    25\n",
       "1    27\n",
       "2    29\n",
       "3    31\n",
       "4    33\n",
       "dtype: int64"
      ]
     },
     "execution_count": 108,
     "metadata": {},
     "output_type": "execute_result"
    }
   ],
   "source": [
    "s1 + s2"
   ]
  },
  {
   "cell_type": "markdown",
   "id": "1845f639",
   "metadata": {},
   "source": [
    "**What if the two series have a bit different indices**\n",
    "- While performing mathematical operations on series having mismatched indicesall missing values are filled in with NaN by default.\n",
    "- Explicit call to `s.add()`, `s.sub()`, `s.mul()` and `s.div()` instead of operators (`+, -, *, /`) is preferred when series may have missing values and we want to replace it by a specific value to have a concrete output in place of NaN\n"
   ]
  },
  {
   "cell_type": "code",
   "execution_count": 109,
   "id": "66e62e56",
   "metadata": {},
   "outputs": [],
   "source": [
    "s1 = pd.Series(range(5, 10), index=[0,1,4,3,5])\n",
    "s2 = pd.Series(range(20, 25), index=[0,1,2,3,4])"
   ]
  },
  {
   "cell_type": "code",
   "execution_count": 110,
   "id": "5919d832",
   "metadata": {},
   "outputs": [
    {
     "name": "stdout",
     "output_type": "stream",
     "text": [
      "0    5\n",
      "1    6\n",
      "4    7\n",
      "3    8\n",
      "5    9\n",
      "dtype: int64\n",
      "Int64Index([0, 1, 4, 3, 5], dtype='int64')\n"
     ]
    }
   ],
   "source": [
    "print(s1)\n",
    "print(s1.index)"
   ]
  },
  {
   "cell_type": "code",
   "execution_count": 111,
   "id": "1e1fae84",
   "metadata": {},
   "outputs": [
    {
     "name": "stdout",
     "output_type": "stream",
     "text": [
      "0    20\n",
      "1    21\n",
      "2    22\n",
      "3    23\n",
      "4    24\n",
      "dtype: int64\n",
      "Int64Index([0, 1, 2, 3, 4], dtype='int64')\n"
     ]
    }
   ],
   "source": [
    "print(s2)\n",
    "print(s2.index)"
   ]
  },
  {
   "cell_type": "code",
   "execution_count": 112,
   "id": "32561bd4",
   "metadata": {},
   "outputs": [
    {
     "data": {
      "text/plain": [
       "0    25.0\n",
       "1    27.0\n",
       "2     NaN\n",
       "3    31.0\n",
       "4    31.0\n",
       "5     NaN\n",
       "dtype: float64"
      ]
     },
     "execution_count": 112,
     "metadata": {},
     "output_type": "execute_result"
    }
   ],
   "source": [
    "s1+s2"
   ]
  },
  {
   "cell_type": "code",
   "execution_count": null,
   "id": "9934b8af",
   "metadata": {},
   "outputs": [],
   "source": [
    "s1.add(s2)"
   ]
  },
  {
   "cell_type": "markdown",
   "id": "0a0f745e",
   "metadata": {},
   "source": [
    "**Note here that the output of addition is NaN if one of the elements or both elements have no value.**\n",
    "- Explicit call to `s.add()`, `s.sub()`, `s.mul()` and `s.div()` instead of operators (`+, -, *, /`) is preferred when series may have missing values and we want to replace it by a specific value to have a concrete output in place of NaN"
   ]
  },
  {
   "cell_type": "code",
   "execution_count": 114,
   "id": "2de7e8d0",
   "metadata": {},
   "outputs": [
    {
     "data": {
      "text/plain": [
       "0    25.0\n",
       "1    27.0\n",
       "2    22.0\n",
       "3    31.0\n",
       "4    31.0\n",
       "5     9.0\n",
       "dtype: float64"
      ]
     },
     "execution_count": 114,
     "metadata": {},
     "output_type": "execute_result"
    }
   ],
   "source": [
    "s1.add(s2, fill_value=0)"
   ]
  },
  {
   "cell_type": "code",
   "execution_count": null,
   "id": "c9287b07",
   "metadata": {},
   "outputs": [],
   "source": []
  },
  {
   "cell_type": "markdown",
   "id": "cf9c2aac",
   "metadata": {},
   "source": [
    "**Understanding Alignment with Series having String Labels**"
   ]
  },
  {
   "cell_type": "code",
   "execution_count": 116,
   "id": "8e7704fc",
   "metadata": {},
   "outputs": [],
   "source": [
    "labels1 = ['num1', 'num2', 'num3', 'num4', 'num5']\n",
    "s1 = pd.Series(range(15, 20), index=labels1)\n",
    "\n",
    "labels2 = ['num1', 'num2', 'num3', 'num8', 'num5']\n",
    "s2 = pd.Series(range(15, 20), index=labels2)\n"
   ]
  },
  {
   "cell_type": "code",
   "execution_count": 117,
   "id": "c300583c",
   "metadata": {},
   "outputs": [
    {
     "data": {
      "text/plain": [
       "num1    15\n",
       "num2    16\n",
       "num3    17\n",
       "num4    18\n",
       "num5    19\n",
       "dtype: int64"
      ]
     },
     "execution_count": 117,
     "metadata": {},
     "output_type": "execute_result"
    }
   ],
   "source": [
    "s1"
   ]
  },
  {
   "cell_type": "code",
   "execution_count": 118,
   "id": "c55c3331",
   "metadata": {},
   "outputs": [
    {
     "data": {
      "text/plain": [
       "num1    15\n",
       "num2    16\n",
       "num3    17\n",
       "num8    18\n",
       "num5    19\n",
       "dtype: int64"
      ]
     },
     "execution_count": 118,
     "metadata": {},
     "output_type": "execute_result"
    }
   ],
   "source": [
    "s2"
   ]
  },
  {
   "cell_type": "code",
   "execution_count": 119,
   "id": "ec478667",
   "metadata": {},
   "outputs": [
    {
     "data": {
      "text/plain": [
       "num1    30.0\n",
       "num2    32.0\n",
       "num3    34.0\n",
       "num4     NaN\n",
       "num5    38.0\n",
       "num8     NaN\n",
       "dtype: float64"
      ]
     },
     "execution_count": 119,
     "metadata": {},
     "output_type": "execute_result"
    }
   ],
   "source": [
    "s1+s2"
   ]
  },
  {
   "cell_type": "markdown",
   "id": "69856180",
   "metadata": {},
   "source": [
    "**Note here that the output of addition is NaN if one of the elements or both elements have no value. So better to use `add()` with `fill_value` parameter.**"
   ]
  },
  {
   "cell_type": "code",
   "execution_count": 120,
   "id": "b477ab80",
   "metadata": {},
   "outputs": [
    {
     "data": {
      "text/plain": [
       "num1    30.0\n",
       "num2    32.0\n",
       "num3    34.0\n",
       "num4    18.0\n",
       "num5    38.0\n",
       "num8    18.0\n",
       "dtype: float64"
      ]
     },
     "execution_count": 120,
     "metadata": {},
     "output_type": "execute_result"
    }
   ],
   "source": [
    "s1.add(s2, fill_value=0)"
   ]
  },
  {
   "cell_type": "markdown",
   "id": "bf470aef",
   "metadata": {},
   "source": [
    "**Students are advised to practice following methods:**\n",
    "\n",
    "`s3 = s1.sub(s2, fill_value=0)`\n",
    "\n",
    "`s3 = s1.mul(s2, fill_value=0)`\n",
    "\n",
    "`s3 = s1.div(s2, fill_value=0)`\n",
    "\n",
    "\n",
    "\n",
    "Conditional Selection and use of `reset_index()`, `pop()`, `drop()` `append()`, and `update()` methods will be discussed when studying Dataframes\n",
    "\n",
    "\n",
    "\n",
    "\n",
    "####  Conditional Selection in a Series\n",
    "- The series object in pandas also supports some advanced indexing. \n",
    "- It can be used if you want to pick up elements from a series without knowing their exact position or value. \n",
    "- You need to know what kind of element you want and what numerical criteria it should meet. \n",
    "- In this case, a Boolean index can be used with a series object.\n",
    "\n",
    "\n",
    "\n",
    "#### Resetting Index\n",
    "- The `s.reset_index()` method generate a new DataFrame or Series with the index reset.\n",
    "- One of the reason of using it on a series object is that the index is meaningless and needs to be reset to the default before another operation.\n",
    "\n",
    "**```s1.reset_index(drop=False, inplace=False, level=None)```**"
   ]
  },
  {
   "cell_type": "markdown",
   "id": "e50d5209",
   "metadata": {},
   "source": [
    "### NumPy Array vs Pandas Series\n",
    ">- In a series we can define our own labeled index to access elements of an array. These can be numbers or letters. NumPy arrays are accessed  by their integer position using numbers only\n",
    ">- In a series the elements can be indexed in descending order also. In NumPy arrays, the indexing starts with zero for the first element and the index is fixed.\n",
    ">- If two series are not aligned, NaN or missing values are generated. In NumPy arrays, there is no concept of NaN values and if there are no matching values in arrays, alignment fails.\n",
    ">- Series require more memory. NumPy arraysoccupies lesser memory.\n",
    "    \n",
    "    "
   ]
  },
  {
   "cell_type": "code",
   "execution_count": null,
   "id": "2c63885d",
   "metadata": {},
   "outputs": [],
   "source": []
  },
  {
   "cell_type": "code",
   "execution_count": null,
   "id": "a3e6fafb",
   "metadata": {},
   "outputs": [],
   "source": []
  }
 ],
 "metadata": {
  "kernelspec": {
   "display_name": "Python 3 (ipykernel)",
   "language": "python",
   "name": "python3"
  },
  "language_info": {
   "codemirror_mode": {
    "name": "ipython",
    "version": 3
   },
   "file_extension": ".py",
   "mimetype": "text/x-python",
   "name": "python",
   "nbconvert_exporter": "python",
   "pygments_lexer": "ipython3",
   "version": "3.8.10"
  }
 },
 "nbformat": 4,
 "nbformat_minor": 5
}
