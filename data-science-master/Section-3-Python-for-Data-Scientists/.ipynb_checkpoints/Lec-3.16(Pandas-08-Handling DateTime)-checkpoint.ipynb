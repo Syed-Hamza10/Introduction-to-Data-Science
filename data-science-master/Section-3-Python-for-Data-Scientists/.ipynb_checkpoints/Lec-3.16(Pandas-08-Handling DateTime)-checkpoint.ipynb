{
 "cells": [
  {
   "cell_type": "markdown",
   "id": "4a87b5ef",
   "metadata": {},
   "source": [
    "---   \n",
    " <img align=\"left\" width=\"75\" height=\"75\"  src=\"https://upload.wikimedia.org/wikipedia/en/c/c8/University_of_the_Punjab_logo.png\"> \n",
    "\n",
    "<h1 align=\"center\">Department of Data Science</h1>\n",
    "<h1 align=\"center\">Course: Tools and Techniques for Data Science</h1>\n",
    "\n",
    "---\n",
    "<h3><div align=\"right\">Instructor: Muhammad Arif Butt, Ph.D.</div></h3>    "
   ]
  },
  {
   "cell_type": "markdown",
   "id": "ab0dc25c",
   "metadata": {},
   "source": [
    "<h1 align=\"center\">Lecture 3.21 (Pandas-13)</h1>"
   ]
  },
  {
   "cell_type": "markdown",
   "id": "19f82705",
   "metadata": {},
   "source": [
    "<img align=\"right\" width=\"400\" height=\"400\"  src=\"images/pandas-apps.png\"  >\n",
    "\n",
    "## _Working with Time Series Data_\n",
    "\n",
    "**Read Documentation for details:** \n",
    "https://pandas.pydata.org/docs/user_guide/timeseries.html#overview"
   ]
  },
  {
   "cell_type": "code",
   "execution_count": null,
   "id": "ec33647f",
   "metadata": {},
   "outputs": [],
   "source": [
    "# To install this library in Jupyter notebook\n",
    "#import sys\n",
    "#!{sys.executable} -m pip install pandas"
   ]
  },
  {
   "cell_type": "code",
   "execution_count": null,
   "id": "671d3985",
   "metadata": {},
   "outputs": [],
   "source": [
    "import pandas as pd\n",
    "pd.__version__ , pd.__path__"
   ]
  },
  {
   "cell_type": "code",
   "execution_count": null,
   "id": "24e3f49c",
   "metadata": {},
   "outputs": [],
   "source": []
  },
  {
   "cell_type": "code",
   "execution_count": null,
   "id": "ae69a7b9",
   "metadata": {},
   "outputs": [],
   "source": []
  },
  {
   "cell_type": "code",
   "execution_count": null,
   "id": "3daf1a87",
   "metadata": {},
   "outputs": [],
   "source": []
  },
  {
   "cell_type": "code",
   "execution_count": null,
   "id": "8dcbafbd",
   "metadata": {},
   "outputs": [],
   "source": []
  },
  {
   "cell_type": "markdown",
   "id": "12db95e1",
   "metadata": {},
   "source": [
    "## Learning agenda of this notebook\n",
    "1. Recap of Python's Built-in Time and Datetime Modules\n",
    "    - Python Time module\n",
    "    - Python Datetime module\n",
    "    - Time Zones\n",
    "2. Converting Strings to Pandas DateTime64 type\n",
    "    - Convert a Scalar String to DateTime\n",
    "    - Convert Pandas Series to DateTime\n",
    "    - Handling Issues of DateTime Formats\n",
    "    - Convert a Single Integer to Pandas DateTime\n",
    "3. Reading a sample dataset having DateTime Data\n",
    "4. Practicing with UFO Dataset\n",
    "5. Practicing with Crypto Dataset\n",
    "6. "
   ]
  },
  {
   "cell_type": "code",
   "execution_count": null,
   "id": "3d3af656",
   "metadata": {},
   "outputs": [],
   "source": []
  },
  {
   "cell_type": "markdown",
   "id": "30308522",
   "metadata": {},
   "source": [
    "## 1. Recap of Python Modules Related to Date and Time"
   ]
  },
  {
   "cell_type": "markdown",
   "id": "1a058d60",
   "metadata": {},
   "source": [
    "## a. Python Time Module\n",
    "- Python Time module is principally for working with UNIX time stamps; expressed as a floating point number taken to be seconds since the unix epoch (00:00:00 UTC on 1 January 1970)"
   ]
  },
  {
   "cell_type": "code",
   "execution_count": null,
   "id": "64a13665",
   "metadata": {},
   "outputs": [],
   "source": [
    "# Use `dir()` to get the list of methods in the Python `time` module\n",
    "import time\n",
    "print(dir(time))"
   ]
  },
  {
   "cell_type": "code",
   "execution_count": null,
   "id": "6e181cdd",
   "metadata": {},
   "outputs": [],
   "source": []
  },
  {
   "cell_type": "code",
   "execution_count": null,
   "id": "8459a6de",
   "metadata": {},
   "outputs": [],
   "source": []
  },
  {
   "cell_type": "code",
   "execution_count": null,
   "id": "0da747cd",
   "metadata": {},
   "outputs": [],
   "source": []
  },
  {
   "cell_type": "markdown",
   "id": "911697e9",
   "metadata": {},
   "source": [
    "**(i) The `time.time()` method returns the current time in seconds since UNIX Epoch (00:00:00 UTC on 1 January 1970)**"
   ]
  },
  {
   "cell_type": "code",
   "execution_count": null,
   "id": "d0fa8a98",
   "metadata": {},
   "outputs": [],
   "source": [
    "seconds = time.time()\n",
    "seconds"
   ]
  },
  {
   "cell_type": "markdown",
   "id": "9ee734d8",
   "metadata": {},
   "source": [
    "> You can achieve the same using the system `date` command and passing it `+%s` command line arugment"
   ]
  },
  {
   "cell_type": "code",
   "execution_count": null,
   "id": "5cc8b863",
   "metadata": {},
   "outputs": [],
   "source": [
    "!date +%s"
   ]
  },
  {
   "cell_type": "code",
   "execution_count": null,
   "id": "83d89815",
   "metadata": {},
   "outputs": [],
   "source": []
  },
  {
   "cell_type": "code",
   "execution_count": null,
   "id": "48e7a924",
   "metadata": {},
   "outputs": [],
   "source": []
  },
  {
   "cell_type": "markdown",
   "id": "39132701",
   "metadata": {},
   "source": [
    "**(ii) The `time.ctime()` method returns a date time string corresponding to the number of seconds passed to it since UNIX Epoch.**"
   ]
  },
  {
   "cell_type": "code",
   "execution_count": null,
   "id": "70d0bb12",
   "metadata": {},
   "outputs": [],
   "source": [
    "# Showing `+5:00` hours time delta because of local time zone (PKT) differs from UTC with 5 hours\n",
    "dtg1 = time.ctime(0)\n",
    "dtg1"
   ]
  },
  {
   "cell_type": "code",
   "execution_count": null,
   "id": "3e3bb56a",
   "metadata": {},
   "outputs": [],
   "source": [
    "#If you pass the current elapsed seconds since UNIX epoch to the `ctime()` method, it returns current datetime\n",
    "seconds = time.time()\n",
    "dtg2 = time.ctime(seconds)\n",
    "dtg2"
   ]
  },
  {
   "cell_type": "code",
   "execution_count": null,
   "id": "6431482c",
   "metadata": {},
   "outputs": [],
   "source": [
    "#Get time using shell command\n",
    "!date"
   ]
  },
  {
   "cell_type": "code",
   "execution_count": null,
   "id": "78a88a21",
   "metadata": {},
   "outputs": [],
   "source": []
  },
  {
   "cell_type": "code",
   "execution_count": null,
   "id": "abe89e6c",
   "metadata": {},
   "outputs": [],
   "source": []
  },
  {
   "cell_type": "code",
   "execution_count": null,
   "id": "815d83fd",
   "metadata": {},
   "outputs": [],
   "source": []
  },
  {
   "cell_type": "code",
   "execution_count": null,
   "id": "56b95f64",
   "metadata": {},
   "outputs": [],
   "source": []
  },
  {
   "cell_type": "code",
   "execution_count": null,
   "id": "5e47340a",
   "metadata": {},
   "outputs": [],
   "source": []
  },
  {
   "cell_type": "code",
   "execution_count": null,
   "id": "54006989",
   "metadata": {},
   "outputs": [],
   "source": []
  },
  {
   "cell_type": "markdown",
   "id": "9445c4b5",
   "metadata": {},
   "source": [
    "## b. Python Datetime Module\n",
    "The `datetime` module can support many of the same operations as `time` module, but provides a more object oriented set of types, and also has some limited support for time zones as well."
   ]
  },
  {
   "cell_type": "code",
   "execution_count": null,
   "id": "121ebc36",
   "metadata": {
    "scrolled": true
   },
   "outputs": [],
   "source": [
    "# use dir() to get the list of complete functions in datetime module\n",
    "import datetime\n",
    "print(dir(datetime))"
   ]
  },
  {
   "cell_type": "code",
   "execution_count": null,
   "id": "f544498b",
   "metadata": {},
   "outputs": [],
   "source": []
  },
  {
   "cell_type": "code",
   "execution_count": null,
   "id": "33aa7221",
   "metadata": {},
   "outputs": [],
   "source": []
  },
  {
   "cell_type": "markdown",
   "id": "09c0b7b2",
   "metadata": {},
   "source": [
    "**(i) The `datetime.datetime(year, month, day[, hour[, minute[, second[, microsecond[,tzinfo]]]]])` method is used to create any random date, along with time**"
   ]
  },
  {
   "cell_type": "code",
   "execution_count": null,
   "id": "929a2bc2",
   "metadata": {},
   "outputs": [],
   "source": [
    "dtg = datetime.datetime(2021,12,31)\n",
    "print(dtg)\n",
    "print(type(dtg))"
   ]
  },
  {
   "cell_type": "code",
   "execution_count": null,
   "id": "dd1869b6",
   "metadata": {},
   "outputs": [],
   "source": [
    "print(datetime.datetime(2021, 12, 31, 4, 30, 54, 678))"
   ]
  },
  {
   "cell_type": "code",
   "execution_count": null,
   "id": "a46febb5",
   "metadata": {},
   "outputs": [],
   "source": []
  },
  {
   "cell_type": "code",
   "execution_count": null,
   "id": "992d4a09",
   "metadata": {},
   "outputs": [],
   "source": []
  },
  {
   "cell_type": "markdown",
   "id": "5b197019",
   "metadata": {},
   "source": [
    "**(ii)  The `time([hour[, minute[, second[, microsecond[, tzinfo]]]]]) ` methods returns a time object. All arguments are optional**"
   ]
  },
  {
   "cell_type": "code",
   "execution_count": null,
   "id": "b4c51969",
   "metadata": {},
   "outputs": [],
   "source": [
    "t1 = datetime.time(10, 15)\n",
    "print(t1)\n",
    "print(type(t1))"
   ]
  },
  {
   "cell_type": "markdown",
   "id": "b4ddbdda",
   "metadata": {},
   "source": [
    "**(iii) You can explore some commonly used attributes related with the `<class 'datetime.time'>`.**\n",
    "- `dtg.year:` returns the year\n",
    "- `dtg.month:` returns the month\n",
    "- `dtg.day:` returns the date\n",
    "- `dtg.hour:` returns the hour\n",
    "- `dtg.minute:` returns the minutes\n",
    "- `dtg.second:` returns the seconds"
   ]
  },
  {
   "cell_type": "code",
   "execution_count": null,
   "id": "a9cac04f",
   "metadata": {},
   "outputs": [],
   "source": [
    "dtg = datetime.datetime(2021, 12, 31, 4, 25, 58)\n",
    "print(dtg)\n",
    "print(type(dtg))"
   ]
  },
  {
   "cell_type": "code",
   "execution_count": null,
   "id": "7fb3b193",
   "metadata": {},
   "outputs": [],
   "source": [
    "dtg.year"
   ]
  },
  {
   "cell_type": "code",
   "execution_count": null,
   "id": "0fe16a1d",
   "metadata": {},
   "outputs": [],
   "source": [
    "dtg.month"
   ]
  },
  {
   "cell_type": "code",
   "execution_count": null,
   "id": "4c20a73c",
   "metadata": {},
   "outputs": [],
   "source": [
    "dtg.day"
   ]
  },
  {
   "cell_type": "code",
   "execution_count": null,
   "id": "a5d9ffcb",
   "metadata": {},
   "outputs": [],
   "source": [
    "dtg.hour"
   ]
  },
  {
   "cell_type": "code",
   "execution_count": null,
   "id": "99a1c2e7",
   "metadata": {},
   "outputs": [],
   "source": [
    "dtg.minute"
   ]
  },
  {
   "cell_type": "code",
   "execution_count": null,
   "id": "50e73280",
   "metadata": {},
   "outputs": [],
   "source": [
    "dtg.second"
   ]
  },
  {
   "cell_type": "code",
   "execution_count": null,
   "id": "2acd54e1",
   "metadata": {},
   "outputs": [],
   "source": []
  },
  {
   "cell_type": "code",
   "execution_count": null,
   "id": "28946f80",
   "metadata": {},
   "outputs": [],
   "source": []
  },
  {
   "cell_type": "code",
   "execution_count": null,
   "id": "db4c9e9f",
   "metadata": {},
   "outputs": [],
   "source": []
  },
  {
   "cell_type": "code",
   "execution_count": null,
   "id": "3ece3d07",
   "metadata": {},
   "outputs": [],
   "source": []
  },
  {
   "cell_type": "code",
   "execution_count": null,
   "id": "344873f3",
   "metadata": {},
   "outputs": [],
   "source": []
  },
  {
   "cell_type": "markdown",
   "id": "18438927",
   "metadata": {},
   "source": [
    "### c. Time Zones:\n",
    "- Since noon happens at different times in different parts of the world, therefore, the world is divided in different time zones.\n",
    "- On Mac, Linux, and Windows operating systems, the information about these time zones is kept in files.\n",
    "- Let me show you the contents of these files on my Mac system"
   ]
  },
  {
   "cell_type": "code",
   "execution_count": null,
   "id": "caa5d76b",
   "metadata": {},
   "outputs": [],
   "source": [
    "# The UNIX Epoch in system local time is five hours ahead of mid night 1st Jan 1970\n",
    "# (Coordinated Universal Time a successor to Greenwich Mean Time)\n",
    "dtg1 = time.ctime(0)\n",
    "dtg1"
   ]
  },
  {
   "cell_type": "markdown",
   "id": "c8098a53",
   "metadata": {},
   "source": [
    "> You may have noticed that above cell does not display the exact UNIX epoch, i.e., mid-night 1st January 1970 rather is 5 hours ahead. This is because my machine is configured as per the time zone of Pakistan having a `+5:00` timedelta from Cooridnated Universtal Time (UTC a successor to GMT)"
   ]
  },
  {
   "cell_type": "code",
   "execution_count": null,
   "id": "1333e296",
   "metadata": {},
   "outputs": [],
   "source": [
    "!ls /usr/share/zoneinfo/"
   ]
  },
  {
   "cell_type": "code",
   "execution_count": null,
   "id": "4a57581c",
   "metadata": {},
   "outputs": [],
   "source": [
    "!ls /usr/share/zoneinfo/Asia"
   ]
  },
  {
   "cell_type": "code",
   "execution_count": null,
   "id": "0263a5c6",
   "metadata": {},
   "outputs": [],
   "source": []
  },
  {
   "cell_type": "code",
   "execution_count": null,
   "id": "921fed43",
   "metadata": {},
   "outputs": [],
   "source": []
  },
  {
   "cell_type": "code",
   "execution_count": null,
   "id": "9e127fbc",
   "metadata": {},
   "outputs": [],
   "source": []
  },
  {
   "cell_type": "code",
   "execution_count": null,
   "id": "6086280e",
   "metadata": {},
   "outputs": [],
   "source": []
  },
  {
   "cell_type": "code",
   "execution_count": null,
   "id": "28b459e1",
   "metadata": {},
   "outputs": [],
   "source": []
  },
  {
   "cell_type": "code",
   "execution_count": null,
   "id": "4718752b",
   "metadata": {},
   "outputs": [],
   "source": []
  },
  {
   "cell_type": "markdown",
   "id": "9250cda6",
   "metadata": {},
   "source": [
    ">On all UNIX based systems (Mac, Linux), `TZ` is an environment variable that can be set to any of the above files to get the date of that appropriate zone. By default the system is configured to set it to the local time of the country"
   ]
  },
  {
   "cell_type": "code",
   "execution_count": null,
   "id": "1fa0d04a",
   "metadata": {},
   "outputs": [],
   "source": [
    "! date"
   ]
  },
  {
   "cell_type": "code",
   "execution_count": null,
   "id": "0c065ca5",
   "metadata": {},
   "outputs": [],
   "source": [
    "! TZ=Asia/Karachi    date"
   ]
  },
  {
   "cell_type": "code",
   "execution_count": null,
   "id": "60366a50",
   "metadata": {},
   "outputs": [],
   "source": [
    "! TZ=Asia/Calcutta   date"
   ]
  },
  {
   "cell_type": "markdown",
   "id": "0190d588",
   "metadata": {},
   "source": [
    ">So you can observe if we run `date` command after setting the TZ variable to Karachi and Calcutta, thir local date times are displayed. Being in different time zones Pakistan Standard Time is 30 minutes before India"
   ]
  },
  {
   "cell_type": "code",
   "execution_count": null,
   "id": "bd322c36",
   "metadata": {},
   "outputs": [],
   "source": []
  },
  {
   "cell_type": "code",
   "execution_count": null,
   "id": "972b03ad",
   "metadata": {},
   "outputs": [],
   "source": []
  },
  {
   "cell_type": "code",
   "execution_count": null,
   "id": "1f1b1c72",
   "metadata": {},
   "outputs": [],
   "source": []
  },
  {
   "cell_type": "markdown",
   "id": "024a390f",
   "metadata": {},
   "source": [
    "## 2. Pandas Time Series Data Structures\n",
    "- **Timestamp & DatetimeIndex:**\n",
    "    - A Time stamp refer to particular momentt in time, e.g., 28 July, 1969 at 11:00 am\n",
    "    - It is a replacement of Python's built-in datetime object\n",
    "    - The `pd.to_datetime()` method is used to create a Timestamp object\n",
    "    - The `pd.date_range()` method is used to generate a DatetimeIndex object\n",
    "- **Period & PeriodIndex:**\n",
    "    - A Period refer to length of time between a start and end point, with each interval of uniform length\n",
    "    - The `pd.to_period()` method is used to create a Period object\n",
    "    - The `pd.period_range()` method is used to create a PeriodIndex\n",
    "- **Timedelta & TimedeltaIndex:**\n",
    "    - A time delta or duration refer to an exact length of time, e.g., a duration of 235.54 seconds\n",
    "    - A time delta is created when you subtract two dates, while a TimedeltaIndex is created when you subtract two Periods"
   ]
  },
  {
   "cell_type": "code",
   "execution_count": null,
   "id": "19c35812",
   "metadata": {},
   "outputs": [],
   "source": []
  },
  {
   "cell_type": "code",
   "execution_count": null,
   "id": "d4ca6ead",
   "metadata": {},
   "outputs": [],
   "source": []
  },
  {
   "cell_type": "markdown",
   "id": "46b16d5a",
   "metadata": {},
   "source": [
    "## 2. Converting Strings to Pandas Timestamp Object\n",
    "- The `to_datetime()` method is used to convert its only required argument `arg` to a Timestamp object.\n",
    "can be int, float, str, datetime, list, tuple, 1-d array, Series, DataFrame/dict-like object to convert to a datetime.\n",
    "\n",
    "```\n",
    "pd.to_datetime(arg, format=None, unit=None, origin='unix')\n",
    "```\n",
    "- Where,\n",
    "    - `arg` can be a string, Series, int, datetime, list, tuple, 1-d array, DataFrame/dict-like object.\n",
    "- Rest of the arguments will be discussed later"
   ]
  },
  {
   "cell_type": "markdown",
   "id": "82b72df9",
   "metadata": {},
   "source": [
    "### a. Basic Conversion with Scalar String"
   ]
  },
  {
   "cell_type": "code",
   "execution_count": 2,
   "id": "a0f45498",
   "metadata": {},
   "outputs": [
    {
     "name": "stdout",
     "output_type": "stream",
     "text": [
      "2022-03-06 08:30:15\n",
      "<class 'str'>\n"
     ]
    }
   ],
   "source": [
    "#YYYY-MM-DD\n",
    "str_date = '2022-03-06 08:30:15'\n",
    "print(str_date)\n",
    "print(type(str_date))"
   ]
  },
  {
   "cell_type": "code",
   "execution_count": 3,
   "id": "177a51a0",
   "metadata": {},
   "outputs": [
    {
     "name": "stdout",
     "output_type": "stream",
     "text": [
      "2022-03-06 08:30:15\n",
      "<class 'pandas._libs.tslibs.timestamps.Timestamp'>\n"
     ]
    }
   ],
   "source": [
    "ts = pd.to_datetime(str_date)\n",
    "print(ts)\n",
    "print(type(ts))"
   ]
  },
  {
   "cell_type": "markdown",
   "id": "817f6812",
   "metadata": {},
   "source": [
    "**`pd.Timestamp Attributes`**\n",
    "\n",
    "`Series.dt.[ts.]second`: Returns seconds\n",
    "\n",
    "`ts.minute`: Returns year\n",
    "\n",
    "`ts.hour`: Returns hour\n",
    "\n",
    "`ts.day`: Returns day\n",
    "\n",
    "`ts.month`: Returns month as January=1, December=12\n",
    "\n",
    "`ts.year`: Returns the year of datetime object\n",
    "\n",
    "`Series.dt.day_name()`: Returns name of the day as string\n",
    "\n",
    "`Series.dt.month_name()`: Returns month as string\n",
    "\n",
    "For details Read: https://pandas.pydata.org/docs/reference/api/pandas.Series.dt.year.html"
   ]
  },
  {
   "cell_type": "code",
   "execution_count": 4,
   "id": "a863d8ce",
   "metadata": {},
   "outputs": [
    {
     "data": {
      "text/plain": [
       "2022"
      ]
     },
     "execution_count": 4,
     "metadata": {},
     "output_type": "execute_result"
    }
   ],
   "source": [
    "ts.year"
   ]
  },
  {
   "cell_type": "code",
   "execution_count": 5,
   "id": "829ca9af",
   "metadata": {},
   "outputs": [
    {
     "data": {
      "text/plain": [
       "3"
      ]
     },
     "execution_count": 5,
     "metadata": {},
     "output_type": "execute_result"
    }
   ],
   "source": [
    "ts.month"
   ]
  },
  {
   "cell_type": "code",
   "execution_count": 10,
   "id": "85564ddb",
   "metadata": {},
   "outputs": [
    {
     "data": {
      "text/plain": [
       "6"
      ]
     },
     "execution_count": 10,
     "metadata": {},
     "output_type": "execute_result"
    }
   ],
   "source": [
    "ts.day"
   ]
  },
  {
   "cell_type": "code",
   "execution_count": 11,
   "id": "eb6d073e",
   "metadata": {},
   "outputs": [
    {
     "data": {
      "text/plain": [
       "'March'"
      ]
     },
     "execution_count": 11,
     "metadata": {},
     "output_type": "execute_result"
    }
   ],
   "source": [
    "ts.month_name()"
   ]
  },
  {
   "cell_type": "code",
   "execution_count": 12,
   "id": "55482bf8",
   "metadata": {},
   "outputs": [
    {
     "data": {
      "text/plain": [
       "8"
      ]
     },
     "execution_count": 12,
     "metadata": {},
     "output_type": "execute_result"
    }
   ],
   "source": [
    "ts.hour"
   ]
  },
  {
   "cell_type": "code",
   "execution_count": 13,
   "id": "6490fee1",
   "metadata": {},
   "outputs": [
    {
     "data": {
      "text/plain": [
       "30"
      ]
     },
     "execution_count": 13,
     "metadata": {},
     "output_type": "execute_result"
    }
   ],
   "source": [
    "ts.minute"
   ]
  },
  {
   "cell_type": "code",
   "execution_count": 14,
   "id": "95852744",
   "metadata": {},
   "outputs": [
    {
     "data": {
      "text/plain": [
       "1"
      ]
     },
     "execution_count": 14,
     "metadata": {},
     "output_type": "execute_result"
    }
   ],
   "source": [
    "ts.quarter"
   ]
  },
  {
   "cell_type": "code",
   "execution_count": null,
   "id": "dda67b7e",
   "metadata": {},
   "outputs": [],
   "source": []
  },
  {
   "cell_type": "code",
   "execution_count": null,
   "id": "531f0b9b",
   "metadata": {},
   "outputs": [],
   "source": []
  },
  {
   "cell_type": "code",
   "execution_count": null,
   "id": "e0826324",
   "metadata": {},
   "outputs": [],
   "source": []
  },
  {
   "cell_type": "code",
   "execution_count": null,
   "id": "ee9498dc",
   "metadata": {},
   "outputs": [],
   "source": []
  },
  {
   "cell_type": "markdown",
   "id": "4b289460",
   "metadata": {},
   "source": [
    "### b. Convert Pandas Series of Strings to Series of Timestamps"
   ]
  },
  {
   "cell_type": "code",
   "execution_count": 15,
   "id": "4efb47fb",
   "metadata": {},
   "outputs": [
    {
     "data": {
      "text/plain": [
       "0       2022-03-06 08:30\n",
       "1       2022/03/06 08:30\n",
       "2    6 March, 2022 08:30\n",
       "3     Mar 06, 2022 08:30\n",
       "4           202203060830\n",
       "dtype: object"
      ]
     },
     "execution_count": 15,
     "metadata": {},
     "output_type": "execute_result"
    }
   ],
   "source": [
    "# A pandas series having same date but in different formats\n",
    "s1 = pd.Series(['2022-03-06 08:30', '2022/03/06 08:30', '6 March, 2022 08:30', 'Mar 06, 2022 08:30', '202203060830'])\n",
    "type(s1)\n",
    "s1"
   ]
  },
  {
   "cell_type": "code",
   "execution_count": 16,
   "id": "a6e6b90d",
   "metadata": {},
   "outputs": [
    {
     "data": {
      "text/plain": [
       "0   2022-03-06 08:30:00\n",
       "1   2022-03-06 08:30:00\n",
       "2   2022-03-06 08:30:00\n",
       "3   2022-03-06 08:30:00\n",
       "4   2022-03-06 08:30:00\n",
       "dtype: datetime64[ns]"
      ]
     },
     "execution_count": 16,
     "metadata": {},
     "output_type": "execute_result"
    }
   ],
   "source": [
    "# to_datetime() function will convert all these different formats into a common format\n",
    "s2 = pd.to_datetime(s1)\n",
    "s2"
   ]
  },
  {
   "cell_type": "code",
   "execution_count": 17,
   "id": "56db6352",
   "metadata": {},
   "outputs": [
    {
     "data": {
      "text/plain": [
       "pandas.core.series.Series"
      ]
     },
     "execution_count": 17,
     "metadata": {},
     "output_type": "execute_result"
    }
   ],
   "source": [
    "type(s2)"
   ]
  },
  {
   "cell_type": "code",
   "execution_count": 19,
   "id": "5ec54b33",
   "metadata": {},
   "outputs": [
    {
     "data": {
      "text/plain": [
       "pandas._libs.tslibs.timestamps.Timestamp"
      ]
     },
     "execution_count": 19,
     "metadata": {},
     "output_type": "execute_result"
    }
   ],
   "source": [
    "type(s2[0])"
   ]
  },
  {
   "cell_type": "code",
   "execution_count": 20,
   "id": "e1f2c22e",
   "metadata": {},
   "outputs": [
    {
     "data": {
      "text/plain": [
       "(6, 3)"
      ]
     },
     "execution_count": 20,
     "metadata": {},
     "output_type": "execute_result"
    }
   ],
   "source": [
    "s2[0].day, s2[0].month"
   ]
  },
  {
   "cell_type": "code",
   "execution_count": null,
   "id": "e8fe752d",
   "metadata": {},
   "outputs": [],
   "source": []
  },
  {
   "cell_type": "code",
   "execution_count": null,
   "id": "b9b02eec",
   "metadata": {},
   "outputs": [],
   "source": []
  },
  {
   "cell_type": "code",
   "execution_count": null,
   "id": "b690b86a",
   "metadata": {},
   "outputs": [],
   "source": []
  },
  {
   "cell_type": "code",
   "execution_count": null,
   "id": "3d30d249",
   "metadata": {},
   "outputs": [],
   "source": []
  },
  {
   "cell_type": "markdown",
   "id": "54687d75",
   "metadata": {},
   "source": [
    "### c. Handling Issues of DateTime Formats\n",
    "From above examples, it appears that `pd.to_date()` works fine for all date formats. Let us try storing  6 March, 2022 as '06/03/2022' or '06-03-2022'"
   ]
  },
  {
   "cell_type": "markdown",
   "id": "f9562539",
   "metadata": {},
   "source": [
    "**(i) Problem 1:**"
   ]
  },
  {
   "cell_type": "code",
   "execution_count": 21,
   "id": "55610b05",
   "metadata": {},
   "outputs": [
    {
     "data": {
      "text/plain": [
       "Timestamp('2022-06-03 00:00:00')"
      ]
     },
     "execution_count": 21,
     "metadata": {},
     "output_type": "execute_result"
    }
   ],
   "source": [
    "ts = pd.to_datetime('06-03-2022')\n",
    "ts"
   ]
  },
  {
   "cell_type": "code",
   "execution_count": 22,
   "id": "4155d90e",
   "metadata": {},
   "outputs": [
    {
     "data": {
      "text/plain": [
       "(3, 6)"
      ]
     },
     "execution_count": 22,
     "metadata": {},
     "output_type": "execute_result"
    }
   ],
   "source": [
    "ts.day, ts.month"
   ]
  },
  {
   "cell_type": "markdown",
   "id": "ea4f7153",
   "metadata": {},
   "source": [
    "**Oops!**, Pandas `to_date()` method has converted the string to datetime, but interpreted it as 3 June 2022\n",
    ">It seems that `pd.to_date()` expects the month to be given in the middle, when all the three components are given as decimal numbers. However, it handles it intelligently if the date value is greater than 12, or when month is given as as string."
   ]
  },
  {
   "cell_type": "code",
   "execution_count": null,
   "id": "5c252a91",
   "metadata": {},
   "outputs": [],
   "source": []
  },
  {
   "cell_type": "code",
   "execution_count": null,
   "id": "269462c0",
   "metadata": {},
   "outputs": [],
   "source": []
  },
  {
   "cell_type": "markdown",
   "id": "2de68cd0",
   "metadata": {},
   "source": [
    "**(ii) Problem 2:**"
   ]
  },
  {
   "cell_type": "code",
   "execution_count": 23,
   "id": "85a11bf7",
   "metadata": {},
   "outputs": [],
   "source": [
    "#ts = pd.to_datetime('2022-03-06 08-PM')"
   ]
  },
  {
   "cell_type": "markdown",
   "id": "2b6213ee",
   "metadata": {},
   "source": [
    "**Oops again**!, Pandas `to_date()` method has raised an error saying `ParserError: Unknown string format: 2022-03-06 08-PM`\n",
    ">It seems that `pd.to_date()` expects the time to be in 24 hours clock and not if the ambiguity is handled using AM (Ante-Meridiem meaning before Midday) or PM (Post-Meridiem, meaning after midday.)"
   ]
  },
  {
   "cell_type": "code",
   "execution_count": null,
   "id": "8d49ed90",
   "metadata": {},
   "outputs": [],
   "source": []
  },
  {
   "cell_type": "code",
   "execution_count": null,
   "id": "9110939b",
   "metadata": {},
   "outputs": [],
   "source": []
  },
  {
   "cell_type": "markdown",
   "id": "768fc152",
   "metadata": {},
   "source": [
    "**(iii) Solution of above two Problems:**\n",
    ">Solution is that we need to pass a `format string` to the `format` argument of the `pd.to_datetime()` method. The format string need to be prepared as per the string date format.\n",
    "Visit this link to see for Format codes: https://pandas.pydata.org/docs/reference/api/pandas.Period.strftime.html"
   ]
  },
  {
   "cell_type": "code",
   "execution_count": 27,
   "id": "9edd954d",
   "metadata": {},
   "outputs": [],
   "source": [
    "# If you try to run following LOC it will raise an error 'ParserError: Unknown string format: 2022-01-06 09-AM'\n",
    "ts = pd.to_datetime('06-03-2022 08-PM', format = '%d-%m-%Y %I-%p')"
   ]
  },
  {
   "cell_type": "code",
   "execution_count": 28,
   "id": "f1a596e0",
   "metadata": {},
   "outputs": [
    {
     "data": {
      "text/plain": [
       "Timestamp('2022-03-06 20:00:00')"
      ]
     },
     "execution_count": 28,
     "metadata": {},
     "output_type": "execute_result"
    }
   ],
   "source": [
    "ts"
   ]
  },
  {
   "cell_type": "code",
   "execution_count": 29,
   "id": "2e121dd3",
   "metadata": {},
   "outputs": [
    {
     "data": {
      "text/plain": [
       "(6, 3)"
      ]
     },
     "execution_count": 29,
     "metadata": {},
     "output_type": "execute_result"
    }
   ],
   "source": [
    "ts.day, ts.month"
   ]
  },
  {
   "cell_type": "code",
   "execution_count": null,
   "id": "55ef2e7e",
   "metadata": {},
   "outputs": [],
   "source": []
  },
  {
   "cell_type": "code",
   "execution_count": null,
   "id": "a00c1a82",
   "metadata": {},
   "outputs": [],
   "source": []
  },
  {
   "cell_type": "code",
   "execution_count": null,
   "id": "0f5a2246",
   "metadata": {},
   "outputs": [],
   "source": []
  },
  {
   "cell_type": "code",
   "execution_count": null,
   "id": "82c1a490",
   "metadata": {},
   "outputs": [],
   "source": []
  },
  {
   "cell_type": "code",
   "execution_count": null,
   "id": "2102f083",
   "metadata": {},
   "outputs": [],
   "source": []
  },
  {
   "cell_type": "code",
   "execution_count": null,
   "id": "d6aca85e",
   "metadata": {},
   "outputs": [],
   "source": []
  },
  {
   "cell_type": "code",
   "execution_count": null,
   "id": "3a61f282",
   "metadata": {},
   "outputs": [],
   "source": []
  },
  {
   "cell_type": "markdown",
   "id": "dc8b9a70",
   "metadata": {},
   "source": [
    "### d. Convert a Single Integer to Pandas Timestamp\n",
    "- The `to_datetime()` method can also be used to convert the first argument passed as integer to a Pandas Timestamp object. \n",
    "- The `unit` argument tells about the unit of the `arg`, and it can be seconds, days or years\n",
    "- The `origin` argument can be any reference point from where you want to start counting your units from. The default value of `origin` is the UNIX epoch.\n",
    "```\n",
    "pd.to_datetime(arg, format=None, unit=None, origin='unix')\n",
    "```"
   ]
  },
  {
   "cell_type": "code",
   "execution_count": 30,
   "id": "2868bcdd",
   "metadata": {},
   "outputs": [
    {
     "name": "stdout",
     "output_type": "stream",
     "text": [
      "1641381351\r\n"
     ]
    }
   ],
   "source": [
    "!date +%s"
   ]
  },
  {
   "cell_type": "code",
   "execution_count": 31,
   "id": "a6c7d1ae",
   "metadata": {},
   "outputs": [
    {
     "data": {
      "text/plain": [
       "Timestamp('2022-01-05 01:54:02')"
      ]
     },
     "execution_count": 31,
     "metadata": {},
     "output_type": "execute_result"
    }
   ],
   "source": [
    "ts = pd.to_datetime(1641347642, unit='s', origin='unix')\n",
    "ts"
   ]
  },
  {
   "cell_type": "markdown",
   "id": "c2f45869",
   "metadata": {},
   "source": [
    ">You can mention the origin as some other reference point of your choice"
   ]
  },
  {
   "cell_type": "code",
   "execution_count": 32,
   "id": "ed64ab8f",
   "metadata": {},
   "outputs": [
    {
     "data": {
      "text/plain": [
       "Timestamp('2022-01-11 00:00:00')"
      ]
     },
     "execution_count": 32,
     "metadata": {},
     "output_type": "execute_result"
    }
   ],
   "source": [
    "ts = pd.to_datetime(10, unit='D', origin='2022-01-01')\n",
    "ts"
   ]
  },
  {
   "cell_type": "code",
   "execution_count": null,
   "id": "a536c17e",
   "metadata": {},
   "outputs": [],
   "source": []
  },
  {
   "cell_type": "code",
   "execution_count": null,
   "id": "4744af7f",
   "metadata": {},
   "outputs": [],
   "source": []
  },
  {
   "cell_type": "code",
   "execution_count": null,
   "id": "c4118d99",
   "metadata": {},
   "outputs": [],
   "source": []
  },
  {
   "cell_type": "code",
   "execution_count": null,
   "id": "e8021bec",
   "metadata": {},
   "outputs": [],
   "source": []
  },
  {
   "cell_type": "code",
   "execution_count": null,
   "id": "072c792d",
   "metadata": {},
   "outputs": [],
   "source": []
  },
  {
   "cell_type": "code",
   "execution_count": null,
   "id": "d16d2b3f",
   "metadata": {},
   "outputs": [],
   "source": []
  },
  {
   "cell_type": "code",
   "execution_count": null,
   "id": "b1a59ca4",
   "metadata": {},
   "outputs": [],
   "source": []
  },
  {
   "cell_type": "code",
   "execution_count": null,
   "id": "3695e970",
   "metadata": {},
   "outputs": [],
   "source": []
  },
  {
   "cell_type": "code",
   "execution_count": null,
   "id": "dce31370",
   "metadata": {},
   "outputs": [],
   "source": []
  },
  {
   "cell_type": "code",
   "execution_count": null,
   "id": "98fc401e",
   "metadata": {},
   "outputs": [],
   "source": []
  },
  {
   "cell_type": "code",
   "execution_count": null,
   "id": "c9946871",
   "metadata": {},
   "outputs": [],
   "source": []
  },
  {
   "cell_type": "code",
   "execution_count": null,
   "id": "b0a3269f",
   "metadata": {},
   "outputs": [],
   "source": []
  },
  {
   "cell_type": "markdown",
   "id": "7cef1736",
   "metadata": {},
   "source": [
    "## 3. Reading a Sample Dataset having DateTime Data"
   ]
  },
  {
   "cell_type": "markdown",
   "id": "20aab3ac",
   "metadata": {},
   "source": [
    "### a.  Option 1: Read the Dataset as such and then convert the Column Datatype to Timestamp64"
   ]
  },
  {
   "cell_type": "markdown",
   "id": "ad199219",
   "metadata": {},
   "source": [
    "**Example 1:** A dataset with datetime in a format as expected by `pd.to_date()`"
   ]
  },
  {
   "cell_type": "code",
   "execution_count": 33,
   "id": "87f58d21",
   "metadata": {},
   "outputs": [
    {
     "name": "stdout",
     "output_type": "stream",
     "text": [
      "name,dob,address,gender\r",
      "\r\n",
      "Khurram,2022-03-06 21:10,Lahore,Male\r",
      "\r\n",
      "Fatima,2022/03/06 08:30,Islamabad,Female\r",
      "\r\n",
      "Huzaifa,2022-03-06 20:15,Karachi,Male\r",
      "\r\n",
      "Shaista,2022.03.06 18:05,Peshawer,Female"
     ]
    }
   ],
   "source": [
    "# yyyy-mm-dd hr:min\n",
    "! cat datasets/datetime1.csv"
   ]
  },
  {
   "cell_type": "code",
   "execution_count": null,
   "id": "3e62ef56",
   "metadata": {},
   "outputs": [],
   "source": []
  },
  {
   "cell_type": "code",
   "execution_count": 34,
   "id": "cf30ab52",
   "metadata": {},
   "outputs": [
    {
     "data": {
      "text/html": [
       "<div>\n",
       "<style scoped>\n",
       "    .dataframe tbody tr th:only-of-type {\n",
       "        vertical-align: middle;\n",
       "    }\n",
       "\n",
       "    .dataframe tbody tr th {\n",
       "        vertical-align: top;\n",
       "    }\n",
       "\n",
       "    .dataframe thead th {\n",
       "        text-align: right;\n",
       "    }\n",
       "</style>\n",
       "<table border=\"1\" class=\"dataframe\">\n",
       "  <thead>\n",
       "    <tr style=\"text-align: right;\">\n",
       "      <th></th>\n",
       "      <th>name</th>\n",
       "      <th>dob</th>\n",
       "      <th>address</th>\n",
       "      <th>gender</th>\n",
       "    </tr>\n",
       "  </thead>\n",
       "  <tbody>\n",
       "    <tr>\n",
       "      <th>0</th>\n",
       "      <td>Khurram</td>\n",
       "      <td>2022-03-06 21:10</td>\n",
       "      <td>Lahore</td>\n",
       "      <td>Male</td>\n",
       "    </tr>\n",
       "    <tr>\n",
       "      <th>1</th>\n",
       "      <td>Fatima</td>\n",
       "      <td>2022/03/06 08:30</td>\n",
       "      <td>Islamabad</td>\n",
       "      <td>Female</td>\n",
       "    </tr>\n",
       "    <tr>\n",
       "      <th>2</th>\n",
       "      <td>Huzaifa</td>\n",
       "      <td>2022-03-06 20:15</td>\n",
       "      <td>Karachi</td>\n",
       "      <td>Male</td>\n",
       "    </tr>\n",
       "    <tr>\n",
       "      <th>3</th>\n",
       "      <td>Shaista</td>\n",
       "      <td>2022.03.06 18:05</td>\n",
       "      <td>Peshawer</td>\n",
       "      <td>Female</td>\n",
       "    </tr>\n",
       "  </tbody>\n",
       "</table>\n",
       "</div>"
      ],
      "text/plain": [
       "      name               dob    address  gender\n",
       "0  Khurram  2022-03-06 21:10     Lahore    Male\n",
       "1   Fatima  2022/03/06 08:30  Islamabad  Female\n",
       "2  Huzaifa  2022-03-06 20:15    Karachi    Male\n",
       "3  Shaista  2022.03.06 18:05   Peshawer  Female"
      ]
     },
     "execution_count": 34,
     "metadata": {},
     "output_type": "execute_result"
    }
   ],
   "source": [
    "import pandas as pd\n",
    "df = pd.read_csv(\"datasets/datetime1.csv\")\n",
    "df"
   ]
  },
  {
   "cell_type": "code",
   "execution_count": 35,
   "id": "1705cd65",
   "metadata": {},
   "outputs": [
    {
     "data": {
      "text/plain": [
       "name       object\n",
       "dob        object\n",
       "address    object\n",
       "gender     object\n",
       "dtype: object"
      ]
     },
     "execution_count": 35,
     "metadata": {},
     "output_type": "execute_result"
    }
   ],
   "source": [
    "df.dtypes"
   ]
  },
  {
   "cell_type": "code",
   "execution_count": null,
   "id": "ac6fe6bc",
   "metadata": {},
   "outputs": [],
   "source": []
  },
  {
   "cell_type": "code",
   "execution_count": 36,
   "id": "018e2eee",
   "metadata": {},
   "outputs": [
    {
     "data": {
      "text/plain": [
       "0   2022-03-06 21:10:00\n",
       "1   2022-03-06 08:30:00\n",
       "2   2022-03-06 20:15:00\n",
       "3   2022-03-06 18:05:00\n",
       "Name: dob, dtype: datetime64[ns]"
      ]
     },
     "execution_count": 36,
     "metadata": {},
     "output_type": "execute_result"
    }
   ],
   "source": [
    "pd.to_datetime(df.loc[:,'dob'])"
   ]
  },
  {
   "cell_type": "code",
   "execution_count": null,
   "id": "c6dadf1b",
   "metadata": {},
   "outputs": [],
   "source": []
  },
  {
   "cell_type": "code",
   "execution_count": 37,
   "id": "9605e3d3",
   "metadata": {},
   "outputs": [],
   "source": [
    "df['dob'] = pd.to_datetime(df.loc[:,'dob'])"
   ]
  },
  {
   "cell_type": "code",
   "execution_count": 38,
   "id": "c37da731",
   "metadata": {},
   "outputs": [
    {
     "data": {
      "text/plain": [
       "name               object\n",
       "dob        datetime64[ns]\n",
       "address            object\n",
       "gender             object\n",
       "dtype: object"
      ]
     },
     "execution_count": 38,
     "metadata": {},
     "output_type": "execute_result"
    }
   ],
   "source": [
    "df.dtypes"
   ]
  },
  {
   "cell_type": "code",
   "execution_count": null,
   "id": "406f2536",
   "metadata": {},
   "outputs": [],
   "source": []
  },
  {
   "cell_type": "code",
   "execution_count": null,
   "id": "0d7f14a1",
   "metadata": {},
   "outputs": [],
   "source": []
  },
  {
   "cell_type": "code",
   "execution_count": null,
   "id": "40b62137",
   "metadata": {},
   "outputs": [],
   "source": []
  },
  {
   "cell_type": "markdown",
   "id": "f1c4cea9",
   "metadata": {},
   "source": [
    "**Example 2:** A dataset with datetime in a format NOT expected by `pd.to_date()`"
   ]
  },
  {
   "cell_type": "code",
   "execution_count": 48,
   "id": "2aba0c34",
   "metadata": {},
   "outputs": [
    {
     "name": "stdout",
     "output_type": "stream",
     "text": [
      "name,dob,address,gender\r",
      "\r\n",
      "Khurram,02-07-1980 08-PM,Lahore,Male\r",
      "\r\n",
      "Fatima,15-06-2001 06-AM,Islamabad,Female\r",
      "\r\n",
      "Huzaifa,08-04-1999 05-PM,Karachi,Male\r",
      "\r\n",
      "Shaista,10-09-2005 02-AM,Peshawer,Female"
     ]
    }
   ],
   "source": [
    "# dd-mm-yyyy hr-PM\n",
    "! cat datasets/datetime2.csv"
   ]
  },
  {
   "cell_type": "code",
   "execution_count": null,
   "id": "b2548571",
   "metadata": {},
   "outputs": [],
   "source": []
  },
  {
   "cell_type": "code",
   "execution_count": 49,
   "id": "0ced9b12",
   "metadata": {},
   "outputs": [
    {
     "data": {
      "text/html": [
       "<div>\n",
       "<style scoped>\n",
       "    .dataframe tbody tr th:only-of-type {\n",
       "        vertical-align: middle;\n",
       "    }\n",
       "\n",
       "    .dataframe tbody tr th {\n",
       "        vertical-align: top;\n",
       "    }\n",
       "\n",
       "    .dataframe thead th {\n",
       "        text-align: right;\n",
       "    }\n",
       "</style>\n",
       "<table border=\"1\" class=\"dataframe\">\n",
       "  <thead>\n",
       "    <tr style=\"text-align: right;\">\n",
       "      <th></th>\n",
       "      <th>name</th>\n",
       "      <th>dob</th>\n",
       "      <th>address</th>\n",
       "      <th>gender</th>\n",
       "    </tr>\n",
       "  </thead>\n",
       "  <tbody>\n",
       "    <tr>\n",
       "      <th>0</th>\n",
       "      <td>Khurram</td>\n",
       "      <td>02-07-1980 08-PM</td>\n",
       "      <td>Lahore</td>\n",
       "      <td>Male</td>\n",
       "    </tr>\n",
       "    <tr>\n",
       "      <th>1</th>\n",
       "      <td>Fatima</td>\n",
       "      <td>15-06-2001 06-AM</td>\n",
       "      <td>Islamabad</td>\n",
       "      <td>Female</td>\n",
       "    </tr>\n",
       "    <tr>\n",
       "      <th>2</th>\n",
       "      <td>Huzaifa</td>\n",
       "      <td>08-04-1999 05-PM</td>\n",
       "      <td>Karachi</td>\n",
       "      <td>Male</td>\n",
       "    </tr>\n",
       "    <tr>\n",
       "      <th>3</th>\n",
       "      <td>Shaista</td>\n",
       "      <td>10-09-2005 02-AM</td>\n",
       "      <td>Peshawer</td>\n",
       "      <td>Female</td>\n",
       "    </tr>\n",
       "  </tbody>\n",
       "</table>\n",
       "</div>"
      ],
      "text/plain": [
       "      name               dob    address  gender\n",
       "0  Khurram  02-07-1980 08-PM     Lahore    Male\n",
       "1   Fatima  15-06-2001 06-AM  Islamabad  Female\n",
       "2  Huzaifa  08-04-1999 05-PM    Karachi    Male\n",
       "3  Shaista  10-09-2005 02-AM   Peshawer  Female"
      ]
     },
     "execution_count": 49,
     "metadata": {},
     "output_type": "execute_result"
    }
   ],
   "source": [
    "df = pd.read_csv(\"datasets/datetime2.csv\")\n",
    "df"
   ]
  },
  {
   "cell_type": "code",
   "execution_count": 50,
   "id": "fbd41e0a",
   "metadata": {},
   "outputs": [
    {
     "data": {
      "text/plain": [
       "name       object\n",
       "dob        object\n",
       "address    object\n",
       "gender     object\n",
       "dtype: object"
      ]
     },
     "execution_count": 50,
     "metadata": {},
     "output_type": "execute_result"
    }
   ],
   "source": [
    "df.dtypes"
   ]
  },
  {
   "cell_type": "code",
   "execution_count": null,
   "id": "9b4a525b",
   "metadata": {},
   "outputs": [],
   "source": []
  },
  {
   "cell_type": "code",
   "execution_count": null,
   "id": "eed6a046",
   "metadata": {},
   "outputs": [],
   "source": []
  },
  {
   "cell_type": "code",
   "execution_count": 52,
   "id": "b41321fb",
   "metadata": {},
   "outputs": [],
   "source": [
    "# Following LOC will now generate `ParserError: Unknown string format: 02-07-1980 08-PM`\n",
    "#pd.to_datetime(df.loc[:,'dob'])"
   ]
  },
  {
   "cell_type": "code",
   "execution_count": 53,
   "id": "766eb80f",
   "metadata": {},
   "outputs": [
    {
     "data": {
      "text/plain": [
       "0   1980-07-02 20:00:00\n",
       "1   2001-06-15 06:00:00\n",
       "2   1999-04-08 17:00:00\n",
       "3   2005-09-10 02:00:00\n",
       "Name: dob, dtype: datetime64[ns]"
      ]
     },
     "execution_count": 53,
     "metadata": {},
     "output_type": "execute_result"
    }
   ],
   "source": [
    "pd.to_datetime(df.loc[:,'dob'], format = '%d-%m-%Y %I-%p')"
   ]
  },
  {
   "cell_type": "code",
   "execution_count": 54,
   "id": "97b740a0",
   "metadata": {},
   "outputs": [],
   "source": [
    "df['d0b'] = pd.to_datetime(df.loc[:,'dob'], format = '%d-%m-%Y %I-%p')"
   ]
  },
  {
   "cell_type": "code",
   "execution_count": 55,
   "id": "585bdabc",
   "metadata": {},
   "outputs": [
    {
     "data": {
      "text/plain": [
       "name               object\n",
       "dob                object\n",
       "address            object\n",
       "gender             object\n",
       "d0b        datetime64[ns]\n",
       "dtype: object"
      ]
     },
     "execution_count": 55,
     "metadata": {},
     "output_type": "execute_result"
    }
   ],
   "source": [
    "df.dtypes"
   ]
  },
  {
   "cell_type": "code",
   "execution_count": null,
   "id": "dcc94768",
   "metadata": {},
   "outputs": [],
   "source": []
  },
  {
   "cell_type": "code",
   "execution_count": null,
   "id": "5474f1da",
   "metadata": {},
   "outputs": [],
   "source": []
  },
  {
   "cell_type": "code",
   "execution_count": null,
   "id": "5e1c4bc5",
   "metadata": {},
   "outputs": [],
   "source": []
  },
  {
   "cell_type": "markdown",
   "id": "d62068ea",
   "metadata": {},
   "source": [
    "### b.  Option 2: Do the Conversion while Reading the CSV File"
   ]
  },
  {
   "cell_type": "markdown",
   "id": "b115624c",
   "metadata": {},
   "source": [
    ">**One can use the `parse_dates` and `date_parser` argument to the `pd.read_csv()` method to do this conversion while reading the csv file. However, the `pd.to_datetime()` method discussed above is recommended.**"
   ]
  },
  {
   "cell_type": "code",
   "execution_count": null,
   "id": "8e2fa2a7",
   "metadata": {},
   "outputs": [],
   "source": []
  },
  {
   "cell_type": "code",
   "execution_count": null,
   "id": "e8e56359",
   "metadata": {},
   "outputs": [],
   "source": []
  },
  {
   "cell_type": "code",
   "execution_count": null,
   "id": "fea9323d",
   "metadata": {},
   "outputs": [],
   "source": []
  },
  {
   "cell_type": "markdown",
   "id": "085f8cc3",
   "metadata": {},
   "source": [
    "## 4. Practicing with UFO Dataset"
   ]
  },
  {
   "cell_type": "markdown",
   "id": "97b21c71",
   "metadata": {},
   "source": [
    "### a. Understanding the Dataset"
   ]
  },
  {
   "cell_type": "code",
   "execution_count": 56,
   "id": "5f2c69fc",
   "metadata": {
    "scrolled": true
   },
   "outputs": [],
   "source": [
    "import pandas as pd\n",
    "df = pd.read_csv(\"datasets/ufo.csv\")"
   ]
  },
  {
   "cell_type": "code",
   "execution_count": 57,
   "id": "ecbb8eb6",
   "metadata": {},
   "outputs": [
    {
     "data": {
      "text/html": [
       "<div>\n",
       "<style scoped>\n",
       "    .dataframe tbody tr th:only-of-type {\n",
       "        vertical-align: middle;\n",
       "    }\n",
       "\n",
       "    .dataframe tbody tr th {\n",
       "        vertical-align: top;\n",
       "    }\n",
       "\n",
       "    .dataframe thead th {\n",
       "        text-align: right;\n",
       "    }\n",
       "</style>\n",
       "<table border=\"1\" class=\"dataframe\">\n",
       "  <thead>\n",
       "    <tr style=\"text-align: right;\">\n",
       "      <th></th>\n",
       "      <th>City</th>\n",
       "      <th>Colors Reported</th>\n",
       "      <th>Shape Reported</th>\n",
       "      <th>State</th>\n",
       "      <th>Time</th>\n",
       "    </tr>\n",
       "  </thead>\n",
       "  <tbody>\n",
       "    <tr>\n",
       "      <th>0</th>\n",
       "      <td>Ithaca</td>\n",
       "      <td>NaN</td>\n",
       "      <td>TRIANGLE</td>\n",
       "      <td>NY</td>\n",
       "      <td>6/1/1930 22:00</td>\n",
       "    </tr>\n",
       "    <tr>\n",
       "      <th>1</th>\n",
       "      <td>Willingboro</td>\n",
       "      <td>NaN</td>\n",
       "      <td>OTHER</td>\n",
       "      <td>NJ</td>\n",
       "      <td>6/30/1930 20:00</td>\n",
       "    </tr>\n",
       "    <tr>\n",
       "      <th>2</th>\n",
       "      <td>Holyoke</td>\n",
       "      <td>NaN</td>\n",
       "      <td>OVAL</td>\n",
       "      <td>CO</td>\n",
       "      <td>2/15/1931 14:00</td>\n",
       "    </tr>\n",
       "    <tr>\n",
       "      <th>3</th>\n",
       "      <td>Abilene</td>\n",
       "      <td>NaN</td>\n",
       "      <td>DISK</td>\n",
       "      <td>KS</td>\n",
       "      <td>6/1/1931 13:00</td>\n",
       "    </tr>\n",
       "    <tr>\n",
       "      <th>4</th>\n",
       "      <td>New York Worlds Fair</td>\n",
       "      <td>NaN</td>\n",
       "      <td>LIGHT</td>\n",
       "      <td>NY</td>\n",
       "      <td>4/18/1933 19:00</td>\n",
       "    </tr>\n",
       "    <tr>\n",
       "      <th>...</th>\n",
       "      <td>...</td>\n",
       "      <td>...</td>\n",
       "      <td>...</td>\n",
       "      <td>...</td>\n",
       "      <td>...</td>\n",
       "    </tr>\n",
       "    <tr>\n",
       "      <th>18236</th>\n",
       "      <td>Grant Park</td>\n",
       "      <td>NaN</td>\n",
       "      <td>TRIANGLE</td>\n",
       "      <td>IL</td>\n",
       "      <td>12/31/2000 23:00</td>\n",
       "    </tr>\n",
       "    <tr>\n",
       "      <th>18237</th>\n",
       "      <td>Spirit Lake</td>\n",
       "      <td>NaN</td>\n",
       "      <td>DISK</td>\n",
       "      <td>IA</td>\n",
       "      <td>12/31/2000 23:00</td>\n",
       "    </tr>\n",
       "    <tr>\n",
       "      <th>18238</th>\n",
       "      <td>Eagle River</td>\n",
       "      <td>NaN</td>\n",
       "      <td>NaN</td>\n",
       "      <td>WI</td>\n",
       "      <td>12/31/2000 23:45</td>\n",
       "    </tr>\n",
       "    <tr>\n",
       "      <th>18239</th>\n",
       "      <td>Eagle River</td>\n",
       "      <td>RED</td>\n",
       "      <td>LIGHT</td>\n",
       "      <td>WI</td>\n",
       "      <td>12/31/2000 23:45</td>\n",
       "    </tr>\n",
       "    <tr>\n",
       "      <th>18240</th>\n",
       "      <td>Ybor</td>\n",
       "      <td>NaN</td>\n",
       "      <td>OVAL</td>\n",
       "      <td>FL</td>\n",
       "      <td>12/31/2000 23:59</td>\n",
       "    </tr>\n",
       "  </tbody>\n",
       "</table>\n",
       "<p>18241 rows × 5 columns</p>\n",
       "</div>"
      ],
      "text/plain": [
       "                       City Colors Reported Shape Reported State  \\\n",
       "0                    Ithaca             NaN       TRIANGLE    NY   \n",
       "1               Willingboro             NaN          OTHER    NJ   \n",
       "2                   Holyoke             NaN           OVAL    CO   \n",
       "3                   Abilene             NaN           DISK    KS   \n",
       "4      New York Worlds Fair             NaN          LIGHT    NY   \n",
       "...                     ...             ...            ...   ...   \n",
       "18236            Grant Park             NaN       TRIANGLE    IL   \n",
       "18237           Spirit Lake             NaN           DISK    IA   \n",
       "18238           Eagle River             NaN            NaN    WI   \n",
       "18239           Eagle River             RED          LIGHT    WI   \n",
       "18240                  Ybor             NaN           OVAL    FL   \n",
       "\n",
       "                   Time  \n",
       "0        6/1/1930 22:00  \n",
       "1       6/30/1930 20:00  \n",
       "2       2/15/1931 14:00  \n",
       "3        6/1/1931 13:00  \n",
       "4       4/18/1933 19:00  \n",
       "...                 ...  \n",
       "18236  12/31/2000 23:00  \n",
       "18237  12/31/2000 23:00  \n",
       "18238  12/31/2000 23:45  \n",
       "18239  12/31/2000 23:45  \n",
       "18240  12/31/2000 23:59  \n",
       "\n",
       "[18241 rows x 5 columns]"
      ]
     },
     "execution_count": 57,
     "metadata": {},
     "output_type": "execute_result"
    }
   ],
   "source": [
    "df"
   ]
  },
  {
   "cell_type": "code",
   "execution_count": null,
   "id": "5a3cdb51",
   "metadata": {},
   "outputs": [],
   "source": []
  },
  {
   "cell_type": "code",
   "execution_count": 58,
   "id": "f6224595",
   "metadata": {},
   "outputs": [
    {
     "data": {
      "text/plain": [
       "'6/1/1930 22:00'"
      ]
     },
     "execution_count": 58,
     "metadata": {},
     "output_type": "execute_result"
    }
   ],
   "source": [
    "# The Time column of the dataframe contains strings\n",
    "df.loc[0,'Time']"
   ]
  },
  {
   "cell_type": "code",
   "execution_count": null,
   "id": "20bedc43",
   "metadata": {},
   "outputs": [],
   "source": []
  },
  {
   "cell_type": "code",
   "execution_count": null,
   "id": "678a7106",
   "metadata": {},
   "outputs": [],
   "source": []
  },
  {
   "cell_type": "code",
   "execution_count": null,
   "id": "90bb0f1c",
   "metadata": {},
   "outputs": [],
   "source": []
  },
  {
   "cell_type": "code",
   "execution_count": 59,
   "id": "4897d804",
   "metadata": {},
   "outputs": [
    {
     "data": {
      "text/plain": [
       "0       1930-06-01 22:00:00\n",
       "1       1930-06-30 20:00:00\n",
       "2       1931-02-15 14:00:00\n",
       "3       1931-06-01 13:00:00\n",
       "4       1933-04-18 19:00:00\n",
       "                ...        \n",
       "18236   2000-12-31 23:00:00\n",
       "18237   2000-12-31 23:00:00\n",
       "18238   2000-12-31 23:45:00\n",
       "18239   2000-12-31 23:45:00\n",
       "18240   2000-12-31 23:59:00\n",
       "Name: Time, Length: 18241, dtype: datetime64[ns]"
      ]
     },
     "execution_count": 59,
     "metadata": {},
     "output_type": "execute_result"
    }
   ],
   "source": [
    "pd.to_datetime(df.loc[:,'Time'])"
   ]
  },
  {
   "cell_type": "code",
   "execution_count": null,
   "id": "0f950d96",
   "metadata": {},
   "outputs": [],
   "source": []
  },
  {
   "cell_type": "code",
   "execution_count": null,
   "id": "1b2e0e90",
   "metadata": {},
   "outputs": [],
   "source": []
  },
  {
   "cell_type": "code",
   "execution_count": 60,
   "id": "33237b4a",
   "metadata": {},
   "outputs": [],
   "source": [
    "df['Time'] = pd.to_datetime(df.loc[:,'Time'])"
   ]
  },
  {
   "cell_type": "code",
   "execution_count": 61,
   "id": "6182e264",
   "metadata": {},
   "outputs": [
    {
     "data": {
      "text/plain": [
       "City                       object\n",
       "Colors Reported            object\n",
       "Shape Reported             object\n",
       "State                      object\n",
       "Time               datetime64[ns]\n",
       "dtype: object"
      ]
     },
     "execution_count": 61,
     "metadata": {},
     "output_type": "execute_result"
    }
   ],
   "source": [
    "df.dtypes"
   ]
  },
  {
   "cell_type": "code",
   "execution_count": null,
   "id": "2a739d61",
   "metadata": {},
   "outputs": [],
   "source": []
  },
  {
   "cell_type": "code",
   "execution_count": null,
   "id": "15cadce7",
   "metadata": {},
   "outputs": [],
   "source": []
  },
  {
   "cell_type": "code",
   "execution_count": null,
   "id": "a180c728",
   "metadata": {},
   "outputs": [],
   "source": []
  },
  {
   "cell_type": "code",
   "execution_count": null,
   "id": "68a438e3",
   "metadata": {},
   "outputs": [],
   "source": []
  },
  {
   "cell_type": "code",
   "execution_count": null,
   "id": "47a167ee",
   "metadata": {},
   "outputs": [],
   "source": []
  },
  {
   "cell_type": "code",
   "execution_count": null,
   "id": "da4053cd",
   "metadata": {},
   "outputs": [],
   "source": []
  },
  {
   "cell_type": "markdown",
   "id": "310f2108",
   "metadata": {},
   "source": [
    "**Suppose I want to display only those UFO sightings that has been seen after 1st January 1995**"
   ]
  },
  {
   "cell_type": "code",
   "execution_count": 62,
   "id": "81fd0bdd",
   "metadata": {},
   "outputs": [
    {
     "data": {
      "text/html": [
       "<div>\n",
       "<style scoped>\n",
       "    .dataframe tbody tr th:only-of-type {\n",
       "        vertical-align: middle;\n",
       "    }\n",
       "\n",
       "    .dataframe tbody tr th {\n",
       "        vertical-align: top;\n",
       "    }\n",
       "\n",
       "    .dataframe thead th {\n",
       "        text-align: right;\n",
       "    }\n",
       "</style>\n",
       "<table border=\"1\" class=\"dataframe\">\n",
       "  <thead>\n",
       "    <tr style=\"text-align: right;\">\n",
       "      <th></th>\n",
       "      <th>City</th>\n",
       "      <th>Colors Reported</th>\n",
       "      <th>Shape Reported</th>\n",
       "      <th>State</th>\n",
       "      <th>Time</th>\n",
       "    </tr>\n",
       "  </thead>\n",
       "  <tbody>\n",
       "    <tr>\n",
       "      <th>7948</th>\n",
       "      <td>North Dade</td>\n",
       "      <td>NaN</td>\n",
       "      <td>NaN</td>\n",
       "      <td>FL</td>\n",
       "      <td>1995-03-24 01:27:00</td>\n",
       "    </tr>\n",
       "    <tr>\n",
       "      <th>7949</th>\n",
       "      <td>Las Vegas</td>\n",
       "      <td>NaN</td>\n",
       "      <td>NaN</td>\n",
       "      <td>NV</td>\n",
       "      <td>1995-03-24 05:00:00</td>\n",
       "    </tr>\n",
       "    <tr>\n",
       "      <th>7950</th>\n",
       "      <td>Las Vegas</td>\n",
       "      <td>NaN</td>\n",
       "      <td>NaN</td>\n",
       "      <td>NV</td>\n",
       "      <td>1995-03-24 05:00:00</td>\n",
       "    </tr>\n",
       "    <tr>\n",
       "      <th>7951</th>\n",
       "      <td>Grover Beach</td>\n",
       "      <td>NaN</td>\n",
       "      <td>NaN</td>\n",
       "      <td>CA</td>\n",
       "      <td>1995-03-25 00:00:00</td>\n",
       "    </tr>\n",
       "    <tr>\n",
       "      <th>7952</th>\n",
       "      <td>Monterey</td>\n",
       "      <td>NaN</td>\n",
       "      <td>NaN</td>\n",
       "      <td>CA</td>\n",
       "      <td>1995-03-25 00:00:00</td>\n",
       "    </tr>\n",
       "    <tr>\n",
       "      <th>...</th>\n",
       "      <td>...</td>\n",
       "      <td>...</td>\n",
       "      <td>...</td>\n",
       "      <td>...</td>\n",
       "      <td>...</td>\n",
       "    </tr>\n",
       "    <tr>\n",
       "      <th>18236</th>\n",
       "      <td>Grant Park</td>\n",
       "      <td>NaN</td>\n",
       "      <td>TRIANGLE</td>\n",
       "      <td>IL</td>\n",
       "      <td>2000-12-31 23:00:00</td>\n",
       "    </tr>\n",
       "    <tr>\n",
       "      <th>18237</th>\n",
       "      <td>Spirit Lake</td>\n",
       "      <td>NaN</td>\n",
       "      <td>DISK</td>\n",
       "      <td>IA</td>\n",
       "      <td>2000-12-31 23:00:00</td>\n",
       "    </tr>\n",
       "    <tr>\n",
       "      <th>18238</th>\n",
       "      <td>Eagle River</td>\n",
       "      <td>NaN</td>\n",
       "      <td>NaN</td>\n",
       "      <td>WI</td>\n",
       "      <td>2000-12-31 23:45:00</td>\n",
       "    </tr>\n",
       "    <tr>\n",
       "      <th>18239</th>\n",
       "      <td>Eagle River</td>\n",
       "      <td>RED</td>\n",
       "      <td>LIGHT</td>\n",
       "      <td>WI</td>\n",
       "      <td>2000-12-31 23:45:00</td>\n",
       "    </tr>\n",
       "    <tr>\n",
       "      <th>18240</th>\n",
       "      <td>Ybor</td>\n",
       "      <td>NaN</td>\n",
       "      <td>OVAL</td>\n",
       "      <td>FL</td>\n",
       "      <td>2000-12-31 23:59:00</td>\n",
       "    </tr>\n",
       "  </tbody>\n",
       "</table>\n",
       "<p>10293 rows × 5 columns</p>\n",
       "</div>"
      ],
      "text/plain": [
       "               City Colors Reported Shape Reported State                Time\n",
       "7948     North Dade             NaN            NaN    FL 1995-03-24 01:27:00\n",
       "7949      Las Vegas             NaN            NaN    NV 1995-03-24 05:00:00\n",
       "7950      Las Vegas             NaN            NaN    NV 1995-03-24 05:00:00\n",
       "7951   Grover Beach             NaN            NaN    CA 1995-03-25 00:00:00\n",
       "7952       Monterey             NaN            NaN    CA 1995-03-25 00:00:00\n",
       "...             ...             ...            ...   ...                 ...\n",
       "18236    Grant Park             NaN       TRIANGLE    IL 2000-12-31 23:00:00\n",
       "18237   Spirit Lake             NaN           DISK    IA 2000-12-31 23:00:00\n",
       "18238   Eagle River             NaN            NaN    WI 2000-12-31 23:45:00\n",
       "18239   Eagle River             RED          LIGHT    WI 2000-12-31 23:45:00\n",
       "18240          Ybor             NaN           OVAL    FL 2000-12-31 23:59:00\n",
       "\n",
       "[10293 rows x 5 columns]"
      ]
     },
     "execution_count": 62,
     "metadata": {},
     "output_type": "execute_result"
    }
   ],
   "source": [
    "df.loc[df.Time >= '1995/03/24', :]"
   ]
  },
  {
   "cell_type": "code",
   "execution_count": 63,
   "id": "65f6b28a",
   "metadata": {},
   "outputs": [
    {
     "data": {
      "text/html": [
       "<div>\n",
       "<style scoped>\n",
       "    .dataframe tbody tr th:only-of-type {\n",
       "        vertical-align: middle;\n",
       "    }\n",
       "\n",
       "    .dataframe tbody tr th {\n",
       "        vertical-align: top;\n",
       "    }\n",
       "\n",
       "    .dataframe thead th {\n",
       "        text-align: right;\n",
       "    }\n",
       "</style>\n",
       "<table border=\"1\" class=\"dataframe\">\n",
       "  <thead>\n",
       "    <tr style=\"text-align: right;\">\n",
       "      <th></th>\n",
       "      <th>City</th>\n",
       "      <th>Colors Reported</th>\n",
       "      <th>Shape Reported</th>\n",
       "      <th>State</th>\n",
       "      <th>Time</th>\n",
       "    </tr>\n",
       "  </thead>\n",
       "  <tbody>\n",
       "    <tr>\n",
       "      <th>7948</th>\n",
       "      <td>North Dade</td>\n",
       "      <td>NaN</td>\n",
       "      <td>NaN</td>\n",
       "      <td>FL</td>\n",
       "      <td>1995-03-24 01:27:00</td>\n",
       "    </tr>\n",
       "    <tr>\n",
       "      <th>7949</th>\n",
       "      <td>Las Vegas</td>\n",
       "      <td>NaN</td>\n",
       "      <td>NaN</td>\n",
       "      <td>NV</td>\n",
       "      <td>1995-03-24 05:00:00</td>\n",
       "    </tr>\n",
       "    <tr>\n",
       "      <th>7950</th>\n",
       "      <td>Las Vegas</td>\n",
       "      <td>NaN</td>\n",
       "      <td>NaN</td>\n",
       "      <td>NV</td>\n",
       "      <td>1995-03-24 05:00:00</td>\n",
       "    </tr>\n",
       "    <tr>\n",
       "      <th>7951</th>\n",
       "      <td>Grover Beach</td>\n",
       "      <td>NaN</td>\n",
       "      <td>NaN</td>\n",
       "      <td>CA</td>\n",
       "      <td>1995-03-25 00:00:00</td>\n",
       "    </tr>\n",
       "    <tr>\n",
       "      <th>7952</th>\n",
       "      <td>Monterey</td>\n",
       "      <td>NaN</td>\n",
       "      <td>NaN</td>\n",
       "      <td>CA</td>\n",
       "      <td>1995-03-25 00:00:00</td>\n",
       "    </tr>\n",
       "    <tr>\n",
       "      <th>...</th>\n",
       "      <td>...</td>\n",
       "      <td>...</td>\n",
       "      <td>...</td>\n",
       "      <td>...</td>\n",
       "      <td>...</td>\n",
       "    </tr>\n",
       "    <tr>\n",
       "      <th>18236</th>\n",
       "      <td>Grant Park</td>\n",
       "      <td>NaN</td>\n",
       "      <td>TRIANGLE</td>\n",
       "      <td>IL</td>\n",
       "      <td>2000-12-31 23:00:00</td>\n",
       "    </tr>\n",
       "    <tr>\n",
       "      <th>18237</th>\n",
       "      <td>Spirit Lake</td>\n",
       "      <td>NaN</td>\n",
       "      <td>DISK</td>\n",
       "      <td>IA</td>\n",
       "      <td>2000-12-31 23:00:00</td>\n",
       "    </tr>\n",
       "    <tr>\n",
       "      <th>18238</th>\n",
       "      <td>Eagle River</td>\n",
       "      <td>NaN</td>\n",
       "      <td>NaN</td>\n",
       "      <td>WI</td>\n",
       "      <td>2000-12-31 23:45:00</td>\n",
       "    </tr>\n",
       "    <tr>\n",
       "      <th>18239</th>\n",
       "      <td>Eagle River</td>\n",
       "      <td>RED</td>\n",
       "      <td>LIGHT</td>\n",
       "      <td>WI</td>\n",
       "      <td>2000-12-31 23:45:00</td>\n",
       "    </tr>\n",
       "    <tr>\n",
       "      <th>18240</th>\n",
       "      <td>Ybor</td>\n",
       "      <td>NaN</td>\n",
       "      <td>OVAL</td>\n",
       "      <td>FL</td>\n",
       "      <td>2000-12-31 23:59:00</td>\n",
       "    </tr>\n",
       "  </tbody>\n",
       "</table>\n",
       "<p>10293 rows × 5 columns</p>\n",
       "</div>"
      ],
      "text/plain": [
       "               City Colors Reported Shape Reported State                Time\n",
       "7948     North Dade             NaN            NaN    FL 1995-03-24 01:27:00\n",
       "7949      Las Vegas             NaN            NaN    NV 1995-03-24 05:00:00\n",
       "7950      Las Vegas             NaN            NaN    NV 1995-03-24 05:00:00\n",
       "7951   Grover Beach             NaN            NaN    CA 1995-03-25 00:00:00\n",
       "7952       Monterey             NaN            NaN    CA 1995-03-25 00:00:00\n",
       "...             ...             ...            ...   ...                 ...\n",
       "18236    Grant Park             NaN       TRIANGLE    IL 2000-12-31 23:00:00\n",
       "18237   Spirit Lake             NaN           DISK    IA 2000-12-31 23:00:00\n",
       "18238   Eagle River             NaN            NaN    WI 2000-12-31 23:45:00\n",
       "18239   Eagle River             RED          LIGHT    WI 2000-12-31 23:45:00\n",
       "18240          Ybor             NaN           OVAL    FL 2000-12-31 23:59:00\n",
       "\n",
       "[10293 rows x 5 columns]"
      ]
     },
     "execution_count": 63,
     "metadata": {},
     "output_type": "execute_result"
    }
   ],
   "source": [
    "# Create a datetime object to be used for comparison\n",
    "ts = pd.to_datetime('1995/03/24')\n",
    "df.loc[df.Time >= ts, :]"
   ]
  },
  {
   "cell_type": "code",
   "execution_count": null,
   "id": "0ccd9678",
   "metadata": {},
   "outputs": [],
   "source": []
  },
  {
   "cell_type": "code",
   "execution_count": null,
   "id": "a42f88d4",
   "metadata": {},
   "outputs": [],
   "source": []
  },
  {
   "cell_type": "code",
   "execution_count": null,
   "id": "b5be6ce3",
   "metadata": {},
   "outputs": [],
   "source": []
  },
  {
   "cell_type": "code",
   "execution_count": null,
   "id": "ac59fab4",
   "metadata": {},
   "outputs": [],
   "source": []
  },
  {
   "cell_type": "code",
   "execution_count": null,
   "id": "2148d072",
   "metadata": {},
   "outputs": [],
   "source": []
  },
  {
   "cell_type": "markdown",
   "id": "b112ce4e",
   "metadata": {},
   "source": [
    "**Suppose I want to display only those UFO sightings that has been seen between 1st March 1995 and 06 March 1995**"
   ]
  },
  {
   "cell_type": "code",
   "execution_count": 64,
   "id": "6033cd64",
   "metadata": {},
   "outputs": [
    {
     "data": {
      "text/html": [
       "<div>\n",
       "<style scoped>\n",
       "    .dataframe tbody tr th:only-of-type {\n",
       "        vertical-align: middle;\n",
       "    }\n",
       "\n",
       "    .dataframe tbody tr th {\n",
       "        vertical-align: top;\n",
       "    }\n",
       "\n",
       "    .dataframe thead th {\n",
       "        text-align: right;\n",
       "    }\n",
       "</style>\n",
       "<table border=\"1\" class=\"dataframe\">\n",
       "  <thead>\n",
       "    <tr style=\"text-align: right;\">\n",
       "      <th></th>\n",
       "      <th>City</th>\n",
       "      <th>Colors Reported</th>\n",
       "      <th>Shape Reported</th>\n",
       "      <th>State</th>\n",
       "      <th>Time</th>\n",
       "    </tr>\n",
       "  </thead>\n",
       "  <tbody>\n",
       "    <tr>\n",
       "      <th>7860</th>\n",
       "      <td>Greenville</td>\n",
       "      <td>NaN</td>\n",
       "      <td>LIGHT</td>\n",
       "      <td>IL</td>\n",
       "      <td>1995-03-01 21:00:00</td>\n",
       "    </tr>\n",
       "    <tr>\n",
       "      <th>7861</th>\n",
       "      <td>Sedalia</td>\n",
       "      <td>NaN</td>\n",
       "      <td>NaN</td>\n",
       "      <td>MO</td>\n",
       "      <td>1995-03-01 21:00:00</td>\n",
       "    </tr>\n",
       "    <tr>\n",
       "      <th>7862</th>\n",
       "      <td>Redmond</td>\n",
       "      <td>RED</td>\n",
       "      <td>NaN</td>\n",
       "      <td>WA</td>\n",
       "      <td>1995-03-02 22:30:00</td>\n",
       "    </tr>\n",
       "    <tr>\n",
       "      <th>7863</th>\n",
       "      <td>Prescott Valley</td>\n",
       "      <td>NaN</td>\n",
       "      <td>OVAL</td>\n",
       "      <td>AZ</td>\n",
       "      <td>1995-03-04 00:00:00</td>\n",
       "    </tr>\n",
       "    <tr>\n",
       "      <th>7864</th>\n",
       "      <td>Folsom</td>\n",
       "      <td>NaN</td>\n",
       "      <td>NaN</td>\n",
       "      <td>NJ</td>\n",
       "      <td>1995-03-04 16:32:00</td>\n",
       "    </tr>\n",
       "    <tr>\n",
       "      <th>7865</th>\n",
       "      <td>Anaheim</td>\n",
       "      <td>NaN</td>\n",
       "      <td>OTHER</td>\n",
       "      <td>CA</td>\n",
       "      <td>1995-03-05 12:00:00</td>\n",
       "    </tr>\n",
       "    <tr>\n",
       "      <th>7866</th>\n",
       "      <td>Columbus</td>\n",
       "      <td>NaN</td>\n",
       "      <td>NaN</td>\n",
       "      <td>OH</td>\n",
       "      <td>1995-03-06 00:55:00</td>\n",
       "    </tr>\n",
       "    <tr>\n",
       "      <th>7867</th>\n",
       "      <td>Hilltop</td>\n",
       "      <td>NaN</td>\n",
       "      <td>NaN</td>\n",
       "      <td>NJ</td>\n",
       "      <td>1995-03-06 19:00:00</td>\n",
       "    </tr>\n",
       "    <tr>\n",
       "      <th>7868</th>\n",
       "      <td>Florence</td>\n",
       "      <td>NaN</td>\n",
       "      <td>NaN</td>\n",
       "      <td>OR</td>\n",
       "      <td>1995-03-06 19:10:00</td>\n",
       "    </tr>\n",
       "    <tr>\n",
       "      <th>7869</th>\n",
       "      <td>Mountain City</td>\n",
       "      <td>NaN</td>\n",
       "      <td>NaN</td>\n",
       "      <td>TN</td>\n",
       "      <td>1995-03-06 19:45:00</td>\n",
       "    </tr>\n",
       "    <tr>\n",
       "      <th>7870</th>\n",
       "      <td>Ft. Bragg</td>\n",
       "      <td>NaN</td>\n",
       "      <td>NaN</td>\n",
       "      <td>CA</td>\n",
       "      <td>1995-03-06 22:09:00</td>\n",
       "    </tr>\n",
       "    <tr>\n",
       "      <th>7871</th>\n",
       "      <td>Burley</td>\n",
       "      <td>NaN</td>\n",
       "      <td>NaN</td>\n",
       "      <td>WA</td>\n",
       "      <td>1995-03-06 23:30:00</td>\n",
       "    </tr>\n",
       "  </tbody>\n",
       "</table>\n",
       "</div>"
      ],
      "text/plain": [
       "                 City Colors Reported Shape Reported State                Time\n",
       "7860       Greenville             NaN          LIGHT    IL 1995-03-01 21:00:00\n",
       "7861          Sedalia             NaN            NaN    MO 1995-03-01 21:00:00\n",
       "7862          Redmond             RED            NaN    WA 1995-03-02 22:30:00\n",
       "7863  Prescott Valley             NaN           OVAL    AZ 1995-03-04 00:00:00\n",
       "7864           Folsom             NaN            NaN    NJ 1995-03-04 16:32:00\n",
       "7865          Anaheim             NaN          OTHER    CA 1995-03-05 12:00:00\n",
       "7866         Columbus             NaN            NaN    OH 1995-03-06 00:55:00\n",
       "7867          Hilltop             NaN            NaN    NJ 1995-03-06 19:00:00\n",
       "7868         Florence             NaN            NaN    OR 1995-03-06 19:10:00\n",
       "7869    Mountain City             NaN            NaN    TN 1995-03-06 19:45:00\n",
       "7870        Ft. Bragg             NaN            NaN    CA 1995-03-06 22:09:00\n",
       "7871           Burley             NaN            NaN    WA 1995-03-06 23:30:00"
      ]
     },
     "execution_count": 64,
     "metadata": {},
     "output_type": "execute_result"
    }
   ],
   "source": [
    "# Create a datetime object to be used for comparison\n",
    "ts1 = pd.to_datetime('1995/03/1')\n",
    "ts2 = pd.to_datetime('1995/03/7')\n",
    "df.loc[(df.Time >= ts1) & (df.Time <= ts2), :]"
   ]
  },
  {
   "cell_type": "code",
   "execution_count": null,
   "id": "dd24025f",
   "metadata": {},
   "outputs": [],
   "source": []
  },
  {
   "cell_type": "code",
   "execution_count": null,
   "id": "4e86c876",
   "metadata": {},
   "outputs": [],
   "source": []
  },
  {
   "cell_type": "code",
   "execution_count": null,
   "id": "42a058b2",
   "metadata": {},
   "outputs": [],
   "source": []
  },
  {
   "cell_type": "code",
   "execution_count": null,
   "id": "2906dc80",
   "metadata": {},
   "outputs": [],
   "source": []
  },
  {
   "cell_type": "markdown",
   "id": "3f0aaef6",
   "metadata": {},
   "source": [
    "**Suppose I want to display the record of the maximum date under the `Time` column**"
   ]
  },
  {
   "cell_type": "code",
   "execution_count": 65,
   "id": "2ce38867",
   "metadata": {},
   "outputs": [
    {
     "data": {
      "text/plain": [
       "Timestamp('2000-12-31 23:59:00')"
      ]
     },
     "execution_count": 65,
     "metadata": {},
     "output_type": "execute_result"
    }
   ],
   "source": [
    "ts = df.Time.max()\n",
    "ts"
   ]
  },
  {
   "cell_type": "code",
   "execution_count": 66,
   "id": "3d435c7e",
   "metadata": {},
   "outputs": [
    {
     "data": {
      "text/html": [
       "<div>\n",
       "<style scoped>\n",
       "    .dataframe tbody tr th:only-of-type {\n",
       "        vertical-align: middle;\n",
       "    }\n",
       "\n",
       "    .dataframe tbody tr th {\n",
       "        vertical-align: top;\n",
       "    }\n",
       "\n",
       "    .dataframe thead th {\n",
       "        text-align: right;\n",
       "    }\n",
       "</style>\n",
       "<table border=\"1\" class=\"dataframe\">\n",
       "  <thead>\n",
       "    <tr style=\"text-align: right;\">\n",
       "      <th></th>\n",
       "      <th>City</th>\n",
       "      <th>Colors Reported</th>\n",
       "      <th>Shape Reported</th>\n",
       "      <th>State</th>\n",
       "      <th>Time</th>\n",
       "    </tr>\n",
       "  </thead>\n",
       "  <tbody>\n",
       "    <tr>\n",
       "      <th>18240</th>\n",
       "      <td>Ybor</td>\n",
       "      <td>NaN</td>\n",
       "      <td>OVAL</td>\n",
       "      <td>FL</td>\n",
       "      <td>2000-12-31 23:59:00</td>\n",
       "    </tr>\n",
       "  </tbody>\n",
       "</table>\n",
       "</div>"
      ],
      "text/plain": [
       "       City Colors Reported Shape Reported State                Time\n",
       "18240  Ybor             NaN           OVAL    FL 2000-12-31 23:59:00"
      ]
     },
     "execution_count": 66,
     "metadata": {},
     "output_type": "execute_result"
    }
   ],
   "source": [
    "df.loc[df.Time == ts]"
   ]
  },
  {
   "cell_type": "code",
   "execution_count": null,
   "id": "93421bc1",
   "metadata": {},
   "outputs": [],
   "source": []
  },
  {
   "cell_type": "code",
   "execution_count": null,
   "id": "27092f84",
   "metadata": {},
   "outputs": [],
   "source": []
  },
  {
   "cell_type": "code",
   "execution_count": null,
   "id": "17bd18b3",
   "metadata": {},
   "outputs": [],
   "source": []
  },
  {
   "cell_type": "code",
   "execution_count": null,
   "id": "a9b7efcb",
   "metadata": {},
   "outputs": [],
   "source": []
  },
  {
   "cell_type": "code",
   "execution_count": null,
   "id": "5255c7a3",
   "metadata": {},
   "outputs": [],
   "source": []
  },
  {
   "cell_type": "markdown",
   "id": "48ffb7cc",
   "metadata": {},
   "source": [
    "**Suppose I want to display the oldest record as per the `Time` column**"
   ]
  },
  {
   "cell_type": "code",
   "execution_count": 67,
   "id": "73cbb2fa",
   "metadata": {},
   "outputs": [
    {
     "data": {
      "text/plain": [
       "Timestamp('1930-06-01 22:00:00')"
      ]
     },
     "execution_count": 67,
     "metadata": {},
     "output_type": "execute_result"
    }
   ],
   "source": [
    "ts = df.Time.min()\n",
    "ts"
   ]
  },
  {
   "cell_type": "code",
   "execution_count": 68,
   "id": "56600dc9",
   "metadata": {},
   "outputs": [
    {
     "data": {
      "text/html": [
       "<div>\n",
       "<style scoped>\n",
       "    .dataframe tbody tr th:only-of-type {\n",
       "        vertical-align: middle;\n",
       "    }\n",
       "\n",
       "    .dataframe tbody tr th {\n",
       "        vertical-align: top;\n",
       "    }\n",
       "\n",
       "    .dataframe thead th {\n",
       "        text-align: right;\n",
       "    }\n",
       "</style>\n",
       "<table border=\"1\" class=\"dataframe\">\n",
       "  <thead>\n",
       "    <tr style=\"text-align: right;\">\n",
       "      <th></th>\n",
       "      <th>City</th>\n",
       "      <th>Colors Reported</th>\n",
       "      <th>Shape Reported</th>\n",
       "      <th>State</th>\n",
       "      <th>Time</th>\n",
       "    </tr>\n",
       "  </thead>\n",
       "  <tbody>\n",
       "    <tr>\n",
       "      <th>0</th>\n",
       "      <td>Ithaca</td>\n",
       "      <td>NaN</td>\n",
       "      <td>TRIANGLE</td>\n",
       "      <td>NY</td>\n",
       "      <td>1930-06-01 22:00:00</td>\n",
       "    </tr>\n",
       "  </tbody>\n",
       "</table>\n",
       "</div>"
      ],
      "text/plain": [
       "     City Colors Reported Shape Reported State                Time\n",
       "0  Ithaca             NaN       TRIANGLE    NY 1930-06-01 22:00:00"
      ]
     },
     "execution_count": 68,
     "metadata": {},
     "output_type": "execute_result"
    }
   ],
   "source": [
    "df.loc[df.Time == ts]"
   ]
  },
  {
   "cell_type": "code",
   "execution_count": null,
   "id": "6f7a80d6",
   "metadata": {},
   "outputs": [],
   "source": []
  },
  {
   "cell_type": "code",
   "execution_count": null,
   "id": "8662123d",
   "metadata": {},
   "outputs": [],
   "source": []
  },
  {
   "cell_type": "code",
   "execution_count": null,
   "id": "6120814c",
   "metadata": {},
   "outputs": [],
   "source": []
  },
  {
   "cell_type": "code",
   "execution_count": null,
   "id": "edb69f0d",
   "metadata": {},
   "outputs": [],
   "source": []
  },
  {
   "cell_type": "code",
   "execution_count": null,
   "id": "d249c3a2",
   "metadata": {},
   "outputs": [],
   "source": []
  },
  {
   "cell_type": "markdown",
   "id": "20179e67",
   "metadata": {},
   "source": [
    "**Suppose I want to check out the difference between the oldest and the newest record as per the `Time` column**"
   ]
  },
  {
   "cell_type": "code",
   "execution_count": 69,
   "id": "091952b7",
   "metadata": {},
   "outputs": [
    {
     "name": "stdout",
     "output_type": "stream",
     "text": [
      "25781 days 01:59:00\n",
      "<class 'pandas._libs.tslibs.timedeltas.Timedelta'>\n"
     ]
    }
   ],
   "source": [
    "td = df.Time.max() - df.Time.min()\n",
    "print(td)\n",
    "print(type(td))"
   ]
  },
  {
   "cell_type": "code",
   "execution_count": null,
   "id": "da0e5155",
   "metadata": {},
   "outputs": [],
   "source": []
  },
  {
   "cell_type": "code",
   "execution_count": null,
   "id": "294ee562",
   "metadata": {},
   "outputs": [],
   "source": []
  },
  {
   "cell_type": "code",
   "execution_count": null,
   "id": "2c1cf28e",
   "metadata": {},
   "outputs": [],
   "source": []
  },
  {
   "cell_type": "code",
   "execution_count": null,
   "id": "847c20bb",
   "metadata": {},
   "outputs": [],
   "source": []
  },
  {
   "cell_type": "code",
   "execution_count": null,
   "id": "7ad6930b",
   "metadata": {},
   "outputs": [],
   "source": []
  },
  {
   "cell_type": "code",
   "execution_count": null,
   "id": "efe70970",
   "metadata": {},
   "outputs": [],
   "source": []
  },
  {
   "cell_type": "markdown",
   "id": "29739387",
   "metadata": {},
   "source": [
    "## 5. Practicing with Crypto Dataset"
   ]
  },
  {
   "cell_type": "code",
   "execution_count": 70,
   "id": "731aaae1",
   "metadata": {},
   "outputs": [
    {
     "data": {
      "text/html": [
       "<div>\n",
       "<style scoped>\n",
       "    .dataframe tbody tr th:only-of-type {\n",
       "        vertical-align: middle;\n",
       "    }\n",
       "\n",
       "    .dataframe tbody tr th {\n",
       "        vertical-align: top;\n",
       "    }\n",
       "\n",
       "    .dataframe thead th {\n",
       "        text-align: right;\n",
       "    }\n",
       "</style>\n",
       "<table border=\"1\" class=\"dataframe\">\n",
       "  <thead>\n",
       "    <tr style=\"text-align: right;\">\n",
       "      <th></th>\n",
       "      <th>Date</th>\n",
       "      <th>Symbol</th>\n",
       "      <th>Open</th>\n",
       "      <th>High</th>\n",
       "      <th>Low</th>\n",
       "      <th>Close</th>\n",
       "      <th>Volume</th>\n",
       "    </tr>\n",
       "  </thead>\n",
       "  <tbody>\n",
       "    <tr>\n",
       "      <th>0</th>\n",
       "      <td>2020-03-13 08-PM</td>\n",
       "      <td>ETHUSD</td>\n",
       "      <td>129.94</td>\n",
       "      <td>131.82</td>\n",
       "      <td>126.87</td>\n",
       "      <td>128.71</td>\n",
       "      <td>1940673.93</td>\n",
       "    </tr>\n",
       "    <tr>\n",
       "      <th>1</th>\n",
       "      <td>2020-03-13 07-PM</td>\n",
       "      <td>ETHUSD</td>\n",
       "      <td>119.51</td>\n",
       "      <td>132.02</td>\n",
       "      <td>117.10</td>\n",
       "      <td>129.94</td>\n",
       "      <td>7579741.09</td>\n",
       "    </tr>\n",
       "    <tr>\n",
       "      <th>2</th>\n",
       "      <td>2020-03-13 06-PM</td>\n",
       "      <td>ETHUSD</td>\n",
       "      <td>124.47</td>\n",
       "      <td>124.85</td>\n",
       "      <td>115.50</td>\n",
       "      <td>119.51</td>\n",
       "      <td>4898735.81</td>\n",
       "    </tr>\n",
       "    <tr>\n",
       "      <th>3</th>\n",
       "      <td>2020-03-13 05-PM</td>\n",
       "      <td>ETHUSD</td>\n",
       "      <td>124.08</td>\n",
       "      <td>127.42</td>\n",
       "      <td>121.63</td>\n",
       "      <td>124.47</td>\n",
       "      <td>2753450.92</td>\n",
       "    </tr>\n",
       "    <tr>\n",
       "      <th>4</th>\n",
       "      <td>2020-03-13 04-PM</td>\n",
       "      <td>ETHUSD</td>\n",
       "      <td>124.85</td>\n",
       "      <td>129.51</td>\n",
       "      <td>120.17</td>\n",
       "      <td>124.08</td>\n",
       "      <td>4461424.71</td>\n",
       "    </tr>\n",
       "    <tr>\n",
       "      <th>...</th>\n",
       "      <td>...</td>\n",
       "      <td>...</td>\n",
       "      <td>...</td>\n",
       "      <td>...</td>\n",
       "      <td>...</td>\n",
       "      <td>...</td>\n",
       "      <td>...</td>\n",
       "    </tr>\n",
       "    <tr>\n",
       "      <th>23669</th>\n",
       "      <td>2017-07-01 03-PM</td>\n",
       "      <td>ETHUSD</td>\n",
       "      <td>265.74</td>\n",
       "      <td>272.74</td>\n",
       "      <td>265.00</td>\n",
       "      <td>272.57</td>\n",
       "      <td>1500282.55</td>\n",
       "    </tr>\n",
       "    <tr>\n",
       "      <th>23670</th>\n",
       "      <td>2017-07-01 02-PM</td>\n",
       "      <td>ETHUSD</td>\n",
       "      <td>268.79</td>\n",
       "      <td>269.90</td>\n",
       "      <td>265.00</td>\n",
       "      <td>265.74</td>\n",
       "      <td>1702536.85</td>\n",
       "    </tr>\n",
       "    <tr>\n",
       "      <th>23671</th>\n",
       "      <td>2017-07-01 01-PM</td>\n",
       "      <td>ETHUSD</td>\n",
       "      <td>274.83</td>\n",
       "      <td>274.93</td>\n",
       "      <td>265.00</td>\n",
       "      <td>268.79</td>\n",
       "      <td>3010787.99</td>\n",
       "    </tr>\n",
       "    <tr>\n",
       "      <th>23672</th>\n",
       "      <td>2017-07-01 12-PM</td>\n",
       "      <td>ETHUSD</td>\n",
       "      <td>275.01</td>\n",
       "      <td>275.01</td>\n",
       "      <td>271.00</td>\n",
       "      <td>274.83</td>\n",
       "      <td>824362.87</td>\n",
       "    </tr>\n",
       "    <tr>\n",
       "      <th>23673</th>\n",
       "      <td>2017-07-01 11-AM</td>\n",
       "      <td>ETHUSD</td>\n",
       "      <td>279.98</td>\n",
       "      <td>279.99</td>\n",
       "      <td>272.10</td>\n",
       "      <td>275.01</td>\n",
       "      <td>679358.87</td>\n",
       "    </tr>\n",
       "  </tbody>\n",
       "</table>\n",
       "<p>23674 rows × 7 columns</p>\n",
       "</div>"
      ],
      "text/plain": [
       "                   Date  Symbol    Open    High     Low   Close      Volume\n",
       "0      2020-03-13 08-PM  ETHUSD  129.94  131.82  126.87  128.71  1940673.93\n",
       "1      2020-03-13 07-PM  ETHUSD  119.51  132.02  117.10  129.94  7579741.09\n",
       "2      2020-03-13 06-PM  ETHUSD  124.47  124.85  115.50  119.51  4898735.81\n",
       "3      2020-03-13 05-PM  ETHUSD  124.08  127.42  121.63  124.47  2753450.92\n",
       "4      2020-03-13 04-PM  ETHUSD  124.85  129.51  120.17  124.08  4461424.71\n",
       "...                 ...     ...     ...     ...     ...     ...         ...\n",
       "23669  2017-07-01 03-PM  ETHUSD  265.74  272.74  265.00  272.57  1500282.55\n",
       "23670  2017-07-01 02-PM  ETHUSD  268.79  269.90  265.00  265.74  1702536.85\n",
       "23671  2017-07-01 01-PM  ETHUSD  274.83  274.93  265.00  268.79  3010787.99\n",
       "23672  2017-07-01 12-PM  ETHUSD  275.01  275.01  271.00  274.83   824362.87\n",
       "23673  2017-07-01 11-AM  ETHUSD  279.98  279.99  272.10  275.01   679358.87\n",
       "\n",
       "[23674 rows x 7 columns]"
      ]
     },
     "execution_count": 70,
     "metadata": {},
     "output_type": "execute_result"
    }
   ],
   "source": [
    "import pandas as pd\n",
    "df = pd.read_csv(\"datasets/cryptodata.csv\", )\n",
    "df"
   ]
  },
  {
   "cell_type": "code",
   "execution_count": 71,
   "id": "dc902395",
   "metadata": {},
   "outputs": [
    {
     "data": {
      "text/plain": [
       "Date       object\n",
       "Symbol     object\n",
       "Open      float64\n",
       "High      float64\n",
       "Low       float64\n",
       "Close     float64\n",
       "Volume    float64\n",
       "dtype: object"
      ]
     },
     "execution_count": 71,
     "metadata": {},
     "output_type": "execute_result"
    }
   ],
   "source": [
    "df.dtypes"
   ]
  },
  {
   "cell_type": "code",
   "execution_count": 72,
   "id": "dab7b0f0",
   "metadata": {},
   "outputs": [],
   "source": [
    "# ParserError: Unknown string format: 2020-03-13 08-PM\n",
    "#pd.to_datetime(df.loc[:,'Date'])"
   ]
  },
  {
   "cell_type": "code",
   "execution_count": null,
   "id": "81bece22",
   "metadata": {},
   "outputs": [],
   "source": []
  },
  {
   "cell_type": "code",
   "execution_count": null,
   "id": "ff9b2a2c",
   "metadata": {},
   "outputs": [],
   "source": []
  },
  {
   "cell_type": "code",
   "execution_count": null,
   "id": "b1f11d6b",
   "metadata": {},
   "outputs": [],
   "source": []
  },
  {
   "cell_type": "code",
   "execution_count": null,
   "id": "bbb55d7f",
   "metadata": {},
   "outputs": [],
   "source": []
  },
  {
   "cell_type": "code",
   "execution_count": null,
   "id": "28ae10c4",
   "metadata": {},
   "outputs": [],
   "source": []
  },
  {
   "cell_type": "code",
   "execution_count": 73,
   "id": "fcbdaefe",
   "metadata": {},
   "outputs": [
    {
     "data": {
      "text/plain": [
       "0       2020-03-13 20:00:00\n",
       "1       2020-03-13 19:00:00\n",
       "2       2020-03-13 18:00:00\n",
       "3       2020-03-13 17:00:00\n",
       "4       2020-03-13 16:00:00\n",
       "                ...        \n",
       "23669   2017-07-01 15:00:00\n",
       "23670   2017-07-01 14:00:00\n",
       "23671   2017-07-01 13:00:00\n",
       "23672   2017-07-01 12:00:00\n",
       "23673   2017-07-01 11:00:00\n",
       "Name: Date, Length: 23674, dtype: datetime64[ns]"
      ]
     },
     "execution_count": 73,
     "metadata": {},
     "output_type": "execute_result"
    }
   ],
   "source": [
    "pd.to_datetime(df.loc[:,'Date'], format = '%Y-%m-%d %I-%p')"
   ]
  },
  {
   "cell_type": "code",
   "execution_count": 74,
   "id": "6ce74259",
   "metadata": {},
   "outputs": [],
   "source": [
    "df['Date'] = pd.to_datetime(df.loc[:,'Date'], format = '%Y-%m-%d %I-%p')"
   ]
  },
  {
   "cell_type": "code",
   "execution_count": 75,
   "id": "8718dbfc",
   "metadata": {},
   "outputs": [
    {
     "data": {
      "text/plain": [
       "Date      datetime64[ns]\n",
       "Symbol            object\n",
       "Open             float64\n",
       "High             float64\n",
       "Low              float64\n",
       "Close            float64\n",
       "Volume           float64\n",
       "dtype: object"
      ]
     },
     "execution_count": 75,
     "metadata": {},
     "output_type": "execute_result"
    }
   ],
   "source": [
    "df.dtypes"
   ]
  },
  {
   "cell_type": "code",
   "execution_count": null,
   "id": "b8dcc21f",
   "metadata": {},
   "outputs": [],
   "source": []
  },
  {
   "cell_type": "code",
   "execution_count": null,
   "id": "8237ba2a",
   "metadata": {},
   "outputs": [],
   "source": []
  },
  {
   "cell_type": "code",
   "execution_count": null,
   "id": "1cda80a6",
   "metadata": {},
   "outputs": [],
   "source": []
  },
  {
   "cell_type": "code",
   "execution_count": null,
   "id": "8af08294",
   "metadata": {},
   "outputs": [],
   "source": []
  },
  {
   "cell_type": "code",
   "execution_count": null,
   "id": "32dbda15",
   "metadata": {},
   "outputs": [],
   "source": []
  },
  {
   "cell_type": "markdown",
   "id": "26ab381d",
   "metadata": {},
   "source": [
    "**Let us create a new column in the dataframe that shows the day of week in each row**"
   ]
  },
  {
   "cell_type": "code",
   "execution_count": 76,
   "id": "fa6c6e4e",
   "metadata": {},
   "outputs": [],
   "source": [
    "df['dayofweek'] = df['Date'].dt.day_name()"
   ]
  },
  {
   "cell_type": "code",
   "execution_count": 77,
   "id": "38b86025",
   "metadata": {},
   "outputs": [
    {
     "data": {
      "text/html": [
       "<div>\n",
       "<style scoped>\n",
       "    .dataframe tbody tr th:only-of-type {\n",
       "        vertical-align: middle;\n",
       "    }\n",
       "\n",
       "    .dataframe tbody tr th {\n",
       "        vertical-align: top;\n",
       "    }\n",
       "\n",
       "    .dataframe thead th {\n",
       "        text-align: right;\n",
       "    }\n",
       "</style>\n",
       "<table border=\"1\" class=\"dataframe\">\n",
       "  <thead>\n",
       "    <tr style=\"text-align: right;\">\n",
       "      <th></th>\n",
       "      <th>Date</th>\n",
       "      <th>Symbol</th>\n",
       "      <th>Open</th>\n",
       "      <th>High</th>\n",
       "      <th>Low</th>\n",
       "      <th>Close</th>\n",
       "      <th>Volume</th>\n",
       "      <th>dayofweek</th>\n",
       "    </tr>\n",
       "  </thead>\n",
       "  <tbody>\n",
       "    <tr>\n",
       "      <th>0</th>\n",
       "      <td>2020-03-13 20:00:00</td>\n",
       "      <td>ETHUSD</td>\n",
       "      <td>129.94</td>\n",
       "      <td>131.82</td>\n",
       "      <td>126.87</td>\n",
       "      <td>128.71</td>\n",
       "      <td>1940673.93</td>\n",
       "      <td>Friday</td>\n",
       "    </tr>\n",
       "    <tr>\n",
       "      <th>1</th>\n",
       "      <td>2020-03-13 19:00:00</td>\n",
       "      <td>ETHUSD</td>\n",
       "      <td>119.51</td>\n",
       "      <td>132.02</td>\n",
       "      <td>117.10</td>\n",
       "      <td>129.94</td>\n",
       "      <td>7579741.09</td>\n",
       "      <td>Friday</td>\n",
       "    </tr>\n",
       "    <tr>\n",
       "      <th>2</th>\n",
       "      <td>2020-03-13 18:00:00</td>\n",
       "      <td>ETHUSD</td>\n",
       "      <td>124.47</td>\n",
       "      <td>124.85</td>\n",
       "      <td>115.50</td>\n",
       "      <td>119.51</td>\n",
       "      <td>4898735.81</td>\n",
       "      <td>Friday</td>\n",
       "    </tr>\n",
       "    <tr>\n",
       "      <th>3</th>\n",
       "      <td>2020-03-13 17:00:00</td>\n",
       "      <td>ETHUSD</td>\n",
       "      <td>124.08</td>\n",
       "      <td>127.42</td>\n",
       "      <td>121.63</td>\n",
       "      <td>124.47</td>\n",
       "      <td>2753450.92</td>\n",
       "      <td>Friday</td>\n",
       "    </tr>\n",
       "    <tr>\n",
       "      <th>4</th>\n",
       "      <td>2020-03-13 16:00:00</td>\n",
       "      <td>ETHUSD</td>\n",
       "      <td>124.85</td>\n",
       "      <td>129.51</td>\n",
       "      <td>120.17</td>\n",
       "      <td>124.08</td>\n",
       "      <td>4461424.71</td>\n",
       "      <td>Friday</td>\n",
       "    </tr>\n",
       "    <tr>\n",
       "      <th>...</th>\n",
       "      <td>...</td>\n",
       "      <td>...</td>\n",
       "      <td>...</td>\n",
       "      <td>...</td>\n",
       "      <td>...</td>\n",
       "      <td>...</td>\n",
       "      <td>...</td>\n",
       "      <td>...</td>\n",
       "    </tr>\n",
       "    <tr>\n",
       "      <th>23669</th>\n",
       "      <td>2017-07-01 15:00:00</td>\n",
       "      <td>ETHUSD</td>\n",
       "      <td>265.74</td>\n",
       "      <td>272.74</td>\n",
       "      <td>265.00</td>\n",
       "      <td>272.57</td>\n",
       "      <td>1500282.55</td>\n",
       "      <td>Saturday</td>\n",
       "    </tr>\n",
       "    <tr>\n",
       "      <th>23670</th>\n",
       "      <td>2017-07-01 14:00:00</td>\n",
       "      <td>ETHUSD</td>\n",
       "      <td>268.79</td>\n",
       "      <td>269.90</td>\n",
       "      <td>265.00</td>\n",
       "      <td>265.74</td>\n",
       "      <td>1702536.85</td>\n",
       "      <td>Saturday</td>\n",
       "    </tr>\n",
       "    <tr>\n",
       "      <th>23671</th>\n",
       "      <td>2017-07-01 13:00:00</td>\n",
       "      <td>ETHUSD</td>\n",
       "      <td>274.83</td>\n",
       "      <td>274.93</td>\n",
       "      <td>265.00</td>\n",
       "      <td>268.79</td>\n",
       "      <td>3010787.99</td>\n",
       "      <td>Saturday</td>\n",
       "    </tr>\n",
       "    <tr>\n",
       "      <th>23672</th>\n",
       "      <td>2017-07-01 12:00:00</td>\n",
       "      <td>ETHUSD</td>\n",
       "      <td>275.01</td>\n",
       "      <td>275.01</td>\n",
       "      <td>271.00</td>\n",
       "      <td>274.83</td>\n",
       "      <td>824362.87</td>\n",
       "      <td>Saturday</td>\n",
       "    </tr>\n",
       "    <tr>\n",
       "      <th>23673</th>\n",
       "      <td>2017-07-01 11:00:00</td>\n",
       "      <td>ETHUSD</td>\n",
       "      <td>279.98</td>\n",
       "      <td>279.99</td>\n",
       "      <td>272.10</td>\n",
       "      <td>275.01</td>\n",
       "      <td>679358.87</td>\n",
       "      <td>Saturday</td>\n",
       "    </tr>\n",
       "  </tbody>\n",
       "</table>\n",
       "<p>23674 rows × 8 columns</p>\n",
       "</div>"
      ],
      "text/plain": [
       "                     Date  Symbol    Open    High     Low   Close      Volume  \\\n",
       "0     2020-03-13 20:00:00  ETHUSD  129.94  131.82  126.87  128.71  1940673.93   \n",
       "1     2020-03-13 19:00:00  ETHUSD  119.51  132.02  117.10  129.94  7579741.09   \n",
       "2     2020-03-13 18:00:00  ETHUSD  124.47  124.85  115.50  119.51  4898735.81   \n",
       "3     2020-03-13 17:00:00  ETHUSD  124.08  127.42  121.63  124.47  2753450.92   \n",
       "4     2020-03-13 16:00:00  ETHUSD  124.85  129.51  120.17  124.08  4461424.71   \n",
       "...                   ...     ...     ...     ...     ...     ...         ...   \n",
       "23669 2017-07-01 15:00:00  ETHUSD  265.74  272.74  265.00  272.57  1500282.55   \n",
       "23670 2017-07-01 14:00:00  ETHUSD  268.79  269.90  265.00  265.74  1702536.85   \n",
       "23671 2017-07-01 13:00:00  ETHUSD  274.83  274.93  265.00  268.79  3010787.99   \n",
       "23672 2017-07-01 12:00:00  ETHUSD  275.01  275.01  271.00  274.83   824362.87   \n",
       "23673 2017-07-01 11:00:00  ETHUSD  279.98  279.99  272.10  275.01   679358.87   \n",
       "\n",
       "      dayofweek  \n",
       "0        Friday  \n",
       "1        Friday  \n",
       "2        Friday  \n",
       "3        Friday  \n",
       "4        Friday  \n",
       "...         ...  \n",
       "23669  Saturday  \n",
       "23670  Saturday  \n",
       "23671  Saturday  \n",
       "23672  Saturday  \n",
       "23673  Saturday  \n",
       "\n",
       "[23674 rows x 8 columns]"
      ]
     },
     "execution_count": 77,
     "metadata": {},
     "output_type": "execute_result"
    }
   ],
   "source": [
    "df"
   ]
  },
  {
   "cell_type": "code",
   "execution_count": null,
   "id": "c0e23bd3",
   "metadata": {},
   "outputs": [],
   "source": []
  },
  {
   "cell_type": "code",
   "execution_count": null,
   "id": "58ae33bf",
   "metadata": {},
   "outputs": [],
   "source": []
  },
  {
   "cell_type": "code",
   "execution_count": null,
   "id": "7e141fd2",
   "metadata": {},
   "outputs": [],
   "source": []
  },
  {
   "cell_type": "code",
   "execution_count": null,
   "id": "7acd5577",
   "metadata": {},
   "outputs": [],
   "source": []
  },
  {
   "cell_type": "code",
   "execution_count": null,
   "id": "af07cbbb",
   "metadata": {},
   "outputs": [],
   "source": []
  },
  {
   "cell_type": "markdown",
   "id": "e8d40883",
   "metadata": {},
   "source": [
    "**Let us find the oldest and newest record in the dataframe**"
   ]
  },
  {
   "cell_type": "code",
   "execution_count": 78,
   "id": "5ccf5dd2",
   "metadata": {},
   "outputs": [
    {
     "data": {
      "text/plain": [
       "Timestamp('2017-07-01 11:00:00')"
      ]
     },
     "execution_count": 78,
     "metadata": {},
     "output_type": "execute_result"
    }
   ],
   "source": [
    "df['Date'].min()"
   ]
  },
  {
   "cell_type": "code",
   "execution_count": 79,
   "id": "6963dfc6",
   "metadata": {},
   "outputs": [
    {
     "data": {
      "text/plain": [
       "Timestamp('2020-03-13 20:00:00')"
      ]
     },
     "execution_count": 79,
     "metadata": {},
     "output_type": "execute_result"
    }
   ],
   "source": [
    "df['Date'].max()"
   ]
  },
  {
   "cell_type": "code",
   "execution_count": 80,
   "id": "c9d27847",
   "metadata": {},
   "outputs": [
    {
     "data": {
      "text/plain": [
       "Timedelta('986 days 09:00:00')"
      ]
     },
     "execution_count": 80,
     "metadata": {},
     "output_type": "execute_result"
    }
   ],
   "source": [
    "df['Date'].max() - df['Date'].min()"
   ]
  },
  {
   "cell_type": "code",
   "execution_count": null,
   "id": "f11357f8",
   "metadata": {},
   "outputs": [],
   "source": []
  },
  {
   "cell_type": "code",
   "execution_count": null,
   "id": "714d4c15",
   "metadata": {},
   "outputs": [],
   "source": []
  },
  {
   "cell_type": "code",
   "execution_count": null,
   "id": "a7c6ce91",
   "metadata": {},
   "outputs": [],
   "source": []
  },
  {
   "cell_type": "code",
   "execution_count": null,
   "id": "dab9176e",
   "metadata": {},
   "outputs": [],
   "source": []
  },
  {
   "cell_type": "markdown",
   "id": "022c3623",
   "metadata": {},
   "source": [
    "**Let us find the records of the year 2020 only**"
   ]
  },
  {
   "cell_type": "code",
   "execution_count": 81,
   "id": "79ad156c",
   "metadata": {},
   "outputs": [
    {
     "data": {
      "text/plain": [
       "0         True\n",
       "1         True\n",
       "2         True\n",
       "3         True\n",
       "4         True\n",
       "         ...  \n",
       "23669    False\n",
       "23670    False\n",
       "23671    False\n",
       "23672    False\n",
       "23673    False\n",
       "Name: Date, Length: 23674, dtype: bool"
      ]
     },
     "execution_count": 81,
     "metadata": {},
     "output_type": "execute_result"
    }
   ],
   "source": [
    "mask = df['Date'] >= '2020'\n",
    "mask"
   ]
  },
  {
   "cell_type": "code",
   "execution_count": 82,
   "id": "4e883252",
   "metadata": {},
   "outputs": [
    {
     "data": {
      "text/html": [
       "<div>\n",
       "<style scoped>\n",
       "    .dataframe tbody tr th:only-of-type {\n",
       "        vertical-align: middle;\n",
       "    }\n",
       "\n",
       "    .dataframe tbody tr th {\n",
       "        vertical-align: top;\n",
       "    }\n",
       "\n",
       "    .dataframe thead th {\n",
       "        text-align: right;\n",
       "    }\n",
       "</style>\n",
       "<table border=\"1\" class=\"dataframe\">\n",
       "  <thead>\n",
       "    <tr style=\"text-align: right;\">\n",
       "      <th></th>\n",
       "      <th>Date</th>\n",
       "      <th>Symbol</th>\n",
       "      <th>Open</th>\n",
       "      <th>High</th>\n",
       "      <th>Low</th>\n",
       "      <th>Close</th>\n",
       "      <th>Volume</th>\n",
       "      <th>dayofweek</th>\n",
       "    </tr>\n",
       "  </thead>\n",
       "  <tbody>\n",
       "    <tr>\n",
       "      <th>0</th>\n",
       "      <td>2020-03-13 20:00:00</td>\n",
       "      <td>ETHUSD</td>\n",
       "      <td>129.94</td>\n",
       "      <td>131.82</td>\n",
       "      <td>126.87</td>\n",
       "      <td>128.71</td>\n",
       "      <td>1940673.93</td>\n",
       "      <td>Friday</td>\n",
       "    </tr>\n",
       "    <tr>\n",
       "      <th>1</th>\n",
       "      <td>2020-03-13 19:00:00</td>\n",
       "      <td>ETHUSD</td>\n",
       "      <td>119.51</td>\n",
       "      <td>132.02</td>\n",
       "      <td>117.10</td>\n",
       "      <td>129.94</td>\n",
       "      <td>7579741.09</td>\n",
       "      <td>Friday</td>\n",
       "    </tr>\n",
       "    <tr>\n",
       "      <th>2</th>\n",
       "      <td>2020-03-13 18:00:00</td>\n",
       "      <td>ETHUSD</td>\n",
       "      <td>124.47</td>\n",
       "      <td>124.85</td>\n",
       "      <td>115.50</td>\n",
       "      <td>119.51</td>\n",
       "      <td>4898735.81</td>\n",
       "      <td>Friday</td>\n",
       "    </tr>\n",
       "    <tr>\n",
       "      <th>3</th>\n",
       "      <td>2020-03-13 17:00:00</td>\n",
       "      <td>ETHUSD</td>\n",
       "      <td>124.08</td>\n",
       "      <td>127.42</td>\n",
       "      <td>121.63</td>\n",
       "      <td>124.47</td>\n",
       "      <td>2753450.92</td>\n",
       "      <td>Friday</td>\n",
       "    </tr>\n",
       "    <tr>\n",
       "      <th>4</th>\n",
       "      <td>2020-03-13 16:00:00</td>\n",
       "      <td>ETHUSD</td>\n",
       "      <td>124.85</td>\n",
       "      <td>129.51</td>\n",
       "      <td>120.17</td>\n",
       "      <td>124.08</td>\n",
       "      <td>4461424.71</td>\n",
       "      <td>Friday</td>\n",
       "    </tr>\n",
       "    <tr>\n",
       "      <th>...</th>\n",
       "      <td>...</td>\n",
       "      <td>...</td>\n",
       "      <td>...</td>\n",
       "      <td>...</td>\n",
       "      <td>...</td>\n",
       "      <td>...</td>\n",
       "      <td>...</td>\n",
       "      <td>...</td>\n",
       "    </tr>\n",
       "    <tr>\n",
       "      <th>1744</th>\n",
       "      <td>2020-01-01 04:00:00</td>\n",
       "      <td>ETHUSD</td>\n",
       "      <td>129.57</td>\n",
       "      <td>130.00</td>\n",
       "      <td>129.50</td>\n",
       "      <td>129.56</td>\n",
       "      <td>702786.82</td>\n",
       "      <td>Wednesday</td>\n",
       "    </tr>\n",
       "    <tr>\n",
       "      <th>1745</th>\n",
       "      <td>2020-01-01 03:00:00</td>\n",
       "      <td>ETHUSD</td>\n",
       "      <td>130.37</td>\n",
       "      <td>130.44</td>\n",
       "      <td>129.38</td>\n",
       "      <td>129.57</td>\n",
       "      <td>496704.23</td>\n",
       "      <td>Wednesday</td>\n",
       "    </tr>\n",
       "    <tr>\n",
       "      <th>1746</th>\n",
       "      <td>2020-01-01 02:00:00</td>\n",
       "      <td>ETHUSD</td>\n",
       "      <td>130.14</td>\n",
       "      <td>130.50</td>\n",
       "      <td>129.91</td>\n",
       "      <td>130.37</td>\n",
       "      <td>396315.72</td>\n",
       "      <td>Wednesday</td>\n",
       "    </tr>\n",
       "    <tr>\n",
       "      <th>1747</th>\n",
       "      <td>2020-01-01 01:00:00</td>\n",
       "      <td>ETHUSD</td>\n",
       "      <td>128.34</td>\n",
       "      <td>130.14</td>\n",
       "      <td>128.32</td>\n",
       "      <td>130.14</td>\n",
       "      <td>635419.40</td>\n",
       "      <td>Wednesday</td>\n",
       "    </tr>\n",
       "    <tr>\n",
       "      <th>1748</th>\n",
       "      <td>2020-01-01 00:00:00</td>\n",
       "      <td>ETHUSD</td>\n",
       "      <td>128.54</td>\n",
       "      <td>128.54</td>\n",
       "      <td>128.12</td>\n",
       "      <td>128.34</td>\n",
       "      <td>245119.91</td>\n",
       "      <td>Wednesday</td>\n",
       "    </tr>\n",
       "  </tbody>\n",
       "</table>\n",
       "<p>1749 rows × 8 columns</p>\n",
       "</div>"
      ],
      "text/plain": [
       "                    Date  Symbol    Open    High     Low   Close      Volume  \\\n",
       "0    2020-03-13 20:00:00  ETHUSD  129.94  131.82  126.87  128.71  1940673.93   \n",
       "1    2020-03-13 19:00:00  ETHUSD  119.51  132.02  117.10  129.94  7579741.09   \n",
       "2    2020-03-13 18:00:00  ETHUSD  124.47  124.85  115.50  119.51  4898735.81   \n",
       "3    2020-03-13 17:00:00  ETHUSD  124.08  127.42  121.63  124.47  2753450.92   \n",
       "4    2020-03-13 16:00:00  ETHUSD  124.85  129.51  120.17  124.08  4461424.71   \n",
       "...                  ...     ...     ...     ...     ...     ...         ...   \n",
       "1744 2020-01-01 04:00:00  ETHUSD  129.57  130.00  129.50  129.56   702786.82   \n",
       "1745 2020-01-01 03:00:00  ETHUSD  130.37  130.44  129.38  129.57   496704.23   \n",
       "1746 2020-01-01 02:00:00  ETHUSD  130.14  130.50  129.91  130.37   396315.72   \n",
       "1747 2020-01-01 01:00:00  ETHUSD  128.34  130.14  128.32  130.14   635419.40   \n",
       "1748 2020-01-01 00:00:00  ETHUSD  128.54  128.54  128.12  128.34   245119.91   \n",
       "\n",
       "      dayofweek  \n",
       "0        Friday  \n",
       "1        Friday  \n",
       "2        Friday  \n",
       "3        Friday  \n",
       "4        Friday  \n",
       "...         ...  \n",
       "1744  Wednesday  \n",
       "1745  Wednesday  \n",
       "1746  Wednesday  \n",
       "1747  Wednesday  \n",
       "1748  Wednesday  \n",
       "\n",
       "[1749 rows x 8 columns]"
      ]
     },
     "execution_count": 82,
     "metadata": {},
     "output_type": "execute_result"
    }
   ],
   "source": [
    "df.loc[mask]"
   ]
  },
  {
   "cell_type": "code",
   "execution_count": null,
   "id": "7c4f0598",
   "metadata": {},
   "outputs": [],
   "source": []
  },
  {
   "cell_type": "code",
   "execution_count": null,
   "id": "7610a9f8",
   "metadata": {},
   "outputs": [],
   "source": []
  },
  {
   "cell_type": "code",
   "execution_count": null,
   "id": "d06f814c",
   "metadata": {},
   "outputs": [],
   "source": []
  },
  {
   "cell_type": "code",
   "execution_count": null,
   "id": "5a77c0e6",
   "metadata": {},
   "outputs": [],
   "source": []
  },
  {
   "cell_type": "markdown",
   "id": "e98605ba",
   "metadata": {},
   "source": [
    "**Let us find the records of the year 2020 only**"
   ]
  },
  {
   "cell_type": "code",
   "execution_count": 83,
   "id": "b88f5c82",
   "metadata": {},
   "outputs": [
    {
     "data": {
      "text/plain": [
       "0        False\n",
       "1        False\n",
       "2        False\n",
       "3        False\n",
       "4        False\n",
       "         ...  \n",
       "23669    False\n",
       "23670    False\n",
       "23671    False\n",
       "23672    False\n",
       "23673    False\n",
       "Name: Date, Length: 23674, dtype: bool"
      ]
     },
     "execution_count": 83,
     "metadata": {},
     "output_type": "execute_result"
    }
   ],
   "source": [
    "mask = (df['Date'] >= '2020-01-01') & (df['Date'] <= '2020-01-31')\n",
    "mask"
   ]
  },
  {
   "cell_type": "code",
   "execution_count": 84,
   "id": "f0259322",
   "metadata": {},
   "outputs": [
    {
     "data": {
      "text/html": [
       "<div>\n",
       "<style scoped>\n",
       "    .dataframe tbody tr th:only-of-type {\n",
       "        vertical-align: middle;\n",
       "    }\n",
       "\n",
       "    .dataframe tbody tr th {\n",
       "        vertical-align: top;\n",
       "    }\n",
       "\n",
       "    .dataframe thead th {\n",
       "        text-align: right;\n",
       "    }\n",
       "</style>\n",
       "<table border=\"1\" class=\"dataframe\">\n",
       "  <thead>\n",
       "    <tr style=\"text-align: right;\">\n",
       "      <th></th>\n",
       "      <th>Date</th>\n",
       "      <th>Symbol</th>\n",
       "      <th>Open</th>\n",
       "      <th>High</th>\n",
       "      <th>Low</th>\n",
       "      <th>Close</th>\n",
       "      <th>Volume</th>\n",
       "      <th>dayofweek</th>\n",
       "    </tr>\n",
       "  </thead>\n",
       "  <tbody>\n",
       "    <tr>\n",
       "      <th>1028</th>\n",
       "      <td>2020-01-31 00:00:00</td>\n",
       "      <td>ETHUSD</td>\n",
       "      <td>184.55</td>\n",
       "      <td>185.68</td>\n",
       "      <td>183.48</td>\n",
       "      <td>183.82</td>\n",
       "      <td>1107068.24</td>\n",
       "      <td>Friday</td>\n",
       "    </tr>\n",
       "    <tr>\n",
       "      <th>1029</th>\n",
       "      <td>2020-01-30 23:00:00</td>\n",
       "      <td>ETHUSD</td>\n",
       "      <td>186.62</td>\n",
       "      <td>186.89</td>\n",
       "      <td>182.99</td>\n",
       "      <td>184.55</td>\n",
       "      <td>1262371.00</td>\n",
       "      <td>Thursday</td>\n",
       "    </tr>\n",
       "    <tr>\n",
       "      <th>1030</th>\n",
       "      <td>2020-01-30 22:00:00</td>\n",
       "      <td>ETHUSD</td>\n",
       "      <td>185.03</td>\n",
       "      <td>186.63</td>\n",
       "      <td>183.90</td>\n",
       "      <td>186.62</td>\n",
       "      <td>992325.34</td>\n",
       "      <td>Thursday</td>\n",
       "    </tr>\n",
       "    <tr>\n",
       "      <th>1031</th>\n",
       "      <td>2020-01-30 21:00:00</td>\n",
       "      <td>ETHUSD</td>\n",
       "      <td>184.40</td>\n",
       "      <td>185.03</td>\n",
       "      <td>183.19</td>\n",
       "      <td>185.03</td>\n",
       "      <td>701167.77</td>\n",
       "      <td>Thursday</td>\n",
       "    </tr>\n",
       "    <tr>\n",
       "      <th>1032</th>\n",
       "      <td>2020-01-30 20:00:00</td>\n",
       "      <td>ETHUSD</td>\n",
       "      <td>181.26</td>\n",
       "      <td>185.14</td>\n",
       "      <td>181.26</td>\n",
       "      <td>184.40</td>\n",
       "      <td>2180199.04</td>\n",
       "      <td>Thursday</td>\n",
       "    </tr>\n",
       "    <tr>\n",
       "      <th>...</th>\n",
       "      <td>...</td>\n",
       "      <td>...</td>\n",
       "      <td>...</td>\n",
       "      <td>...</td>\n",
       "      <td>...</td>\n",
       "      <td>...</td>\n",
       "      <td>...</td>\n",
       "      <td>...</td>\n",
       "    </tr>\n",
       "    <tr>\n",
       "      <th>1744</th>\n",
       "      <td>2020-01-01 04:00:00</td>\n",
       "      <td>ETHUSD</td>\n",
       "      <td>129.57</td>\n",
       "      <td>130.00</td>\n",
       "      <td>129.50</td>\n",
       "      <td>129.56</td>\n",
       "      <td>702786.82</td>\n",
       "      <td>Wednesday</td>\n",
       "    </tr>\n",
       "    <tr>\n",
       "      <th>1745</th>\n",
       "      <td>2020-01-01 03:00:00</td>\n",
       "      <td>ETHUSD</td>\n",
       "      <td>130.37</td>\n",
       "      <td>130.44</td>\n",
       "      <td>129.38</td>\n",
       "      <td>129.57</td>\n",
       "      <td>496704.23</td>\n",
       "      <td>Wednesday</td>\n",
       "    </tr>\n",
       "    <tr>\n",
       "      <th>1746</th>\n",
       "      <td>2020-01-01 02:00:00</td>\n",
       "      <td>ETHUSD</td>\n",
       "      <td>130.14</td>\n",
       "      <td>130.50</td>\n",
       "      <td>129.91</td>\n",
       "      <td>130.37</td>\n",
       "      <td>396315.72</td>\n",
       "      <td>Wednesday</td>\n",
       "    </tr>\n",
       "    <tr>\n",
       "      <th>1747</th>\n",
       "      <td>2020-01-01 01:00:00</td>\n",
       "      <td>ETHUSD</td>\n",
       "      <td>128.34</td>\n",
       "      <td>130.14</td>\n",
       "      <td>128.32</td>\n",
       "      <td>130.14</td>\n",
       "      <td>635419.40</td>\n",
       "      <td>Wednesday</td>\n",
       "    </tr>\n",
       "    <tr>\n",
       "      <th>1748</th>\n",
       "      <td>2020-01-01 00:00:00</td>\n",
       "      <td>ETHUSD</td>\n",
       "      <td>128.54</td>\n",
       "      <td>128.54</td>\n",
       "      <td>128.12</td>\n",
       "      <td>128.34</td>\n",
       "      <td>245119.91</td>\n",
       "      <td>Wednesday</td>\n",
       "    </tr>\n",
       "  </tbody>\n",
       "</table>\n",
       "<p>721 rows × 8 columns</p>\n",
       "</div>"
      ],
      "text/plain": [
       "                    Date  Symbol    Open    High     Low   Close      Volume  \\\n",
       "1028 2020-01-31 00:00:00  ETHUSD  184.55  185.68  183.48  183.82  1107068.24   \n",
       "1029 2020-01-30 23:00:00  ETHUSD  186.62  186.89  182.99  184.55  1262371.00   \n",
       "1030 2020-01-30 22:00:00  ETHUSD  185.03  186.63  183.90  186.62   992325.34   \n",
       "1031 2020-01-30 21:00:00  ETHUSD  184.40  185.03  183.19  185.03   701167.77   \n",
       "1032 2020-01-30 20:00:00  ETHUSD  181.26  185.14  181.26  184.40  2180199.04   \n",
       "...                  ...     ...     ...     ...     ...     ...         ...   \n",
       "1744 2020-01-01 04:00:00  ETHUSD  129.57  130.00  129.50  129.56   702786.82   \n",
       "1745 2020-01-01 03:00:00  ETHUSD  130.37  130.44  129.38  129.57   496704.23   \n",
       "1746 2020-01-01 02:00:00  ETHUSD  130.14  130.50  129.91  130.37   396315.72   \n",
       "1747 2020-01-01 01:00:00  ETHUSD  128.34  130.14  128.32  130.14   635419.40   \n",
       "1748 2020-01-01 00:00:00  ETHUSD  128.54  128.54  128.12  128.34   245119.91   \n",
       "\n",
       "      dayofweek  \n",
       "1028     Friday  \n",
       "1029   Thursday  \n",
       "1030   Thursday  \n",
       "1031   Thursday  \n",
       "1032   Thursday  \n",
       "...         ...  \n",
       "1744  Wednesday  \n",
       "1745  Wednesday  \n",
       "1746  Wednesday  \n",
       "1747  Wednesday  \n",
       "1748  Wednesday  \n",
       "\n",
       "[721 rows x 8 columns]"
      ]
     },
     "execution_count": 84,
     "metadata": {},
     "output_type": "execute_result"
    }
   ],
   "source": [
    "df.loc[mask]"
   ]
  },
  {
   "cell_type": "code",
   "execution_count": null,
   "id": "f05a2861",
   "metadata": {},
   "outputs": [],
   "source": []
  },
  {
   "cell_type": "code",
   "execution_count": null,
   "id": "2e03ca6c",
   "metadata": {},
   "outputs": [],
   "source": []
  },
  {
   "cell_type": "code",
   "execution_count": null,
   "id": "86933cbd",
   "metadata": {},
   "outputs": [],
   "source": []
  },
  {
   "cell_type": "code",
   "execution_count": null,
   "id": "f21cbaf3",
   "metadata": {},
   "outputs": [],
   "source": []
  },
  {
   "cell_type": "markdown",
   "id": "d22fe2ae",
   "metadata": {},
   "source": [
    "## 6. Making the Date Column as Index of the Dataframe\n",
    "- Once you load a csv file having datetime column in a dataframe, it is read as string\n",
    "- You use the `pd.to_datetime()` method to change the datatype to Pandas Datetime64 type\n",
    "- Now you can use `df.set_index()` method to make the datetime column as row index of the dataframe.\n",
    "- This allows you to treat the entire dataset in the dataframe as a Time Series Data\n",
    "    - Selecting/Indexing using strings\n",
    "    - Slicing using `df[date1:date2]`\n",
    "    - Use of `df.loc[date1, col]`\n",
    "    - Select missing values `df[df.col.isnull()]\n",
    "    - Do upsampling/downsampling using `df.asfrequency()"
   ]
  },
  {
   "cell_type": "code",
   "execution_count": null,
   "id": "558d34d7",
   "metadata": {},
   "outputs": [],
   "source": [
    "import pandas as pd\n",
    "df = pd.read_csv(\"datasets/cryptodata.csv\", )\n",
    "df"
   ]
  },
  {
   "cell_type": "code",
   "execution_count": null,
   "id": "1e06bcb1",
   "metadata": {},
   "outputs": [],
   "source": [
    "df['Date'] = pd.to_datetime(df.loc[:,'Date'], format = '%Y-%m-%d %I-%p')"
   ]
  },
  {
   "cell_type": "code",
   "execution_count": null,
   "id": "5aaad6b6",
   "metadata": {},
   "outputs": [],
   "source": [
    "df.set_index('Date', inplace=True)\n",
    "df"
   ]
  },
  {
   "cell_type": "markdown",
   "id": "35509834",
   "metadata": {},
   "source": [
    ">Now, since the data of the `Date` column has become the row indices of this dataframe, therefore, we can use `.loc[]` on the dates :)\n",
    "- Since index is still unique so the searching will be done in O(1) time\n",
    "- If non-unique but sorted the searching will take O(logn) time\n",
    "- If non-unique and non-sorted the searching will take O(n) time"
   ]
  },
  {
   "cell_type": "code",
   "execution_count": null,
   "id": "804a93a9",
   "metadata": {},
   "outputs": [],
   "source": [
    "# Slice data of January and February 2020\n",
    "df['2020-01':'2020-02']"
   ]
  },
  {
   "cell_type": "code",
   "execution_count": null,
   "id": "676294e6",
   "metadata": {},
   "outputs": [],
   "source": [
    "# Get only the Close column showing closing of January and February 2020\n",
    "df['2020-01':'2020-02']['Close']"
   ]
  },
  {
   "cell_type": "code",
   "execution_count": null,
   "id": "b4024017",
   "metadata": {},
   "outputs": [],
   "source": [
    "# Compute the mean\n",
    "df['2020-01':'2020-02']['Close'].mean()"
   ]
  },
  {
   "cell_type": "code",
   "execution_count": null,
   "id": "dce0cebb",
   "metadata": {},
   "outputs": [],
   "source": []
  },
  {
   "cell_type": "code",
   "execution_count": null,
   "id": "1062d11d",
   "metadata": {},
   "outputs": [],
   "source": []
  },
  {
   "cell_type": "code",
   "execution_count": null,
   "id": "c273e41f",
   "metadata": {},
   "outputs": [],
   "source": []
  },
  {
   "cell_type": "markdown",
   "id": "6ca25edc",
   "metadata": {},
   "source": [
    ">The given dataframe is showing data on hourly basis, what if we want to resample it on daily, weekly or monthly basis"
   ]
  },
  {
   "cell_type": "code",
   "execution_count": null,
   "id": "4c9cee60",
   "metadata": {},
   "outputs": [],
   "source": [
    "df.loc[:,'High'].resample('D').max()"
   ]
  },
  {
   "cell_type": "markdown",
   "id": "fb826f3e",
   "metadata": {},
   "source": [
    ">The given dataframe is showing data on hourly basis, what if we want to resample it on daily, weekly or monthly basis"
   ]
  },
  {
   "cell_type": "code",
   "execution_count": null,
   "id": "30780927",
   "metadata": {},
   "outputs": [],
   "source": []
  },
  {
   "cell_type": "code",
   "execution_count": null,
   "id": "16c0c5ca",
   "metadata": {},
   "outputs": [],
   "source": []
  },
  {
   "cell_type": "code",
   "execution_count": null,
   "id": "c2d44d50",
   "metadata": {},
   "outputs": [],
   "source": []
  },
  {
   "cell_type": "markdown",
   "id": "ae8d0827",
   "metadata": {},
   "source": [
    "# Bonus: Creating a DatetimeIndex\n",
    "- The `pd.date_range()` method returns a range of equally spaced time points as a DatetimeIndex, which is an immutable container for datetimes.\n",
    "\n",
    "```\n",
    "pd.date_range(start=None, end=None, periods=None, freq=None)\n",
    "```\n",
    "\n",
    "- Where,\n",
    "    - `start` is the left bound (str or datetime)\n",
    "    - `start` is the right bound (str or datetime)\n",
    "    - `periods` is the number of periods to generate\n",
    "    - `freq` can be `s`, `min`, `h`, `d`, `m`, `q`, `y` for seconds, minutes, ....\n",
    "\n",
    "\n",
    "- Out of the four parameters: start, end, periods, and freq, exactly three must be specified"
   ]
  },
  {
   "cell_type": "code",
   "execution_count": 91,
   "id": "bf686755",
   "metadata": {},
   "outputs": [
    {
     "data": {
      "text/plain": [
       "DatetimeIndex(['2022-01-01 11:20:00', '2022-01-01 12:20:00',\n",
       "               '2022-01-01 13:20:00', '2022-01-01 14:20:00',\n",
       "               '2022-01-01 15:20:00', '2022-01-01 16:20:00',\n",
       "               '2022-01-01 17:20:00', '2022-01-01 18:20:00',\n",
       "               '2022-01-01 19:20:00', '2022-01-01 20:20:00'],\n",
       "              dtype='datetime64[ns]', freq='H')"
      ]
     },
     "execution_count": 91,
     "metadata": {},
     "output_type": "execute_result"
    }
   ],
   "source": [
    "dr = pd.date_range(\"2022-01-01 11:20 \", periods=10, freq=\"h\")\n",
    "dr"
   ]
  },
  {
   "cell_type": "code",
   "execution_count": 92,
   "id": "f59ac394",
   "metadata": {},
   "outputs": [
    {
     "data": {
      "text/plain": [
       "pandas.core.indexes.datetimes.DatetimeIndex"
      ]
     },
     "execution_count": 92,
     "metadata": {},
     "output_type": "execute_result"
    }
   ],
   "source": [
    "type(dr)"
   ]
  },
  {
   "cell_type": "code",
   "execution_count": 86,
   "id": "465bfd8a",
   "metadata": {},
   "outputs": [
    {
     "data": {
      "text/plain": [
       "DatetimeIndex(['2022-01-01', '2022-01-02', '2022-01-03', '2022-01-04',\n",
       "               '2022-01-05', '2022-01-06', '2022-01-07', '2022-01-08',\n",
       "               '2022-01-09', '2022-01-10'],\n",
       "              dtype='datetime64[ns]', freq='D')"
      ]
     },
     "execution_count": 86,
     "metadata": {},
     "output_type": "execute_result"
    }
   ],
   "source": [
    "pd.date_range(\"2022-01-01\", periods=10, freq=\"d\")"
   ]
  },
  {
   "cell_type": "code",
   "execution_count": 87,
   "id": "f8d489eb",
   "metadata": {},
   "outputs": [
    {
     "data": {
      "text/plain": [
       "0   2022-01-01\n",
       "1   2022-01-02\n",
       "2   2022-01-03\n",
       "3   2022-01-04\n",
       "4   2022-01-05\n",
       "5   2022-01-06\n",
       "6   2022-01-07\n",
       "7   2022-01-08\n",
       "8   2022-01-09\n",
       "9   2022-01-10\n",
       "dtype: datetime64[ns]"
      ]
     },
     "execution_count": 87,
     "metadata": {},
     "output_type": "execute_result"
    }
   ],
   "source": [
    "s = pd.Series(pd.date_range(\"2022-01-01\", periods=10, freq=\"d\"))\n",
    "s"
   ]
  },
  {
   "cell_type": "code",
   "execution_count": 88,
   "id": "61c272b0",
   "metadata": {},
   "outputs": [
    {
     "data": {
      "text/plain": [
       "0     Saturday\n",
       "1       Sunday\n",
       "2       Monday\n",
       "3      Tuesday\n",
       "4    Wednesday\n",
       "5     Thursday\n",
       "6       Friday\n",
       "7     Saturday\n",
       "8       Sunday\n",
       "9       Monday\n",
       "dtype: object"
      ]
     },
     "execution_count": 88,
     "metadata": {},
     "output_type": "execute_result"
    }
   ],
   "source": [
    "s.dt.day_name()"
   ]
  },
  {
   "cell_type": "code",
   "execution_count": 90,
   "id": "1d424b85",
   "metadata": {},
   "outputs": [
    {
     "data": {
      "text/plain": [
       "pandas._libs.tslibs.timestamps.Timestamp"
      ]
     },
     "execution_count": 90,
     "metadata": {},
     "output_type": "execute_result"
    }
   ],
   "source": [
    "type(s[0])"
   ]
  },
  {
   "cell_type": "markdown",
   "id": "d72a5a55",
   "metadata": {},
   "source": [
    "# Bonus: Creating a Period"
   ]
  },
  {
   "cell_type": "code",
   "execution_count": null,
   "id": "86f80fad",
   "metadata": {},
   "outputs": [],
   "source": []
  },
  {
   "cell_type": "code",
   "execution_count": null,
   "id": "0386effd",
   "metadata": {},
   "outputs": [],
   "source": []
  },
  {
   "cell_type": "markdown",
   "id": "6513a032",
   "metadata": {},
   "source": [
    "# Bonus: Creating a PeriodIndex"
   ]
  },
  {
   "cell_type": "code",
   "execution_count": null,
   "id": "8a78dd1d",
   "metadata": {},
   "outputs": [],
   "source": []
  },
  {
   "cell_type": "markdown",
   "id": "f49317d5",
   "metadata": {},
   "source": [
    "# Bonus: Creating a Timedelta"
   ]
  },
  {
   "cell_type": "code",
   "execution_count": null,
   "id": "aead7743",
   "metadata": {},
   "outputs": [],
   "source": []
  },
  {
   "cell_type": "markdown",
   "id": "864893f9",
   "metadata": {},
   "source": [
    "# Bonus: Creating a TimedeltaIndex"
   ]
  }
 ],
 "metadata": {
  "kernelspec": {
   "display_name": "Python 3 (ipykernel)",
   "language": "python",
   "name": "python3"
  },
  "language_info": {
   "codemirror_mode": {
    "name": "ipython",
    "version": 3
   },
   "file_extension": ".py",
   "mimetype": "text/x-python",
   "name": "python",
   "nbconvert_exporter": "python",
   "pygments_lexer": "ipython3",
   "version": "3.8.10"
  }
 },
 "nbformat": 4,
 "nbformat_minor": 5
}
