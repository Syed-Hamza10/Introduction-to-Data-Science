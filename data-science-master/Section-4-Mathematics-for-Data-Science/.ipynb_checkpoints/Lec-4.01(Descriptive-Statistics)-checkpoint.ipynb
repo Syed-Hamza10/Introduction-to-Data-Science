{
 "cells": [
  {
   "cell_type": "markdown",
   "id": "a41c76e0",
   "metadata": {},
   "source": [
    "---   \n",
    " <img align=\"left\" width=\"75\" height=\"75\"  src=\"https://upload.wikimedia.org/wikipedia/en/c/c8/University_of_the_Punjab_logo.png\"> \n",
    "\n",
    "<h1 align=\"center\">Department of Data Science</h1>\n",
    "<h1 align=\"center\">Course: Tools and Techniques for Data Science</h1>\n",
    "\n",
    "---\n",
    "<h3><div align=\"right\">Instructor: Muhammad Arif Butt, Ph.D.</div></h3>    "
   ]
  },
  {
   "cell_type": "markdown",
   "id": "8b6fe310",
   "metadata": {},
   "source": [
    "<h1 align=\"center\">Lecture 4.1 (Descriptive Statistics)</h1>"
   ]
  },
  {
   "cell_type": "code",
   "execution_count": null,
   "id": "48625a13",
   "metadata": {},
   "outputs": [],
   "source": []
  },
  {
   "cell_type": "code",
   "execution_count": null,
   "id": "2c5db8b6",
   "metadata": {},
   "outputs": [],
   "source": []
  },
  {
   "cell_type": "code",
   "execution_count": null,
   "id": "72bb153c",
   "metadata": {},
   "outputs": [],
   "source": []
  },
  {
   "cell_type": "markdown",
   "id": "7ef15071",
   "metadata": {},
   "source": [
    "## Learning agenda of this notebook\n",
    "\n",
    "1. What is Data and its types\n",
    "2. Overview of Statistics\n",
    "3. Basic Terminologies in Statistics and Sampling Techniques\n",
    "4. Types of Statistics\n",
    "5. Levels of Statistical Analysis\n",
    "6. Univariate Analysis and Introduction to Descriptive Statistics\n",
    "7. Visualizing Data using Univariate plots\n",
    "8. Bivariate Analysis using Scatter Plot"
   ]
  },
  {
   "cell_type": "code",
   "execution_count": null,
   "id": "b2136118",
   "metadata": {},
   "outputs": [],
   "source": []
  },
  {
   "cell_type": "code",
   "execution_count": null,
   "id": "de6a0dfb",
   "metadata": {},
   "outputs": [],
   "source": []
  },
  {
   "cell_type": "code",
   "execution_count": null,
   "id": "435a0351",
   "metadata": {},
   "outputs": [],
   "source": []
  },
  {
   "cell_type": "code",
   "execution_count": null,
   "id": "0988df93",
   "metadata": {},
   "outputs": [],
   "source": []
  },
  {
   "cell_type": "markdown",
   "id": "b0f92d52",
   "metadata": {},
   "source": [
    "## 1. What is Data?\n",
    "\n",
    "<img align=\"center\" width=\"550\" height=\"650\"  src=\"images/data1.jpg\"  >\n",
    "\n",
    "- **Data** can be defined as a `systematic record of a particular quantity`. It is the different values of that quantity represented together in a set. It is a collection of facts and figures to be used for a specific purpose such as a `survey or analysis`. When arranged in an organized form, can be called **information**.\n",
    "\n",
    "\n",
    "- Data are individual pieces of factual information recorded and used for the purpose of analysis. It is the raw information from which statistics are created. Statistics are the results of data analysis - its interpretation and presentation.\n",
    "\n",
    "\n",
    "- Data is a set of numbers, or some sort of documents that have stored in a computer.\n",
    "\n",
    "\n",
    "- `Data is actually everything`. Look around you, data is everywhere. Each click on your phone generates data more than you think. This generated data provides insights for analysis, and helps us to make better business decisions. We do not generally associate data with mathematics. However, data is the base of all operations in `Statistics`.\n",
    "\n"
   ]
  },
  {
   "cell_type": "code",
   "execution_count": null,
   "id": "729ae869",
   "metadata": {},
   "outputs": [],
   "source": []
  },
  {
   "cell_type": "code",
   "execution_count": null,
   "id": "cc8e7daa",
   "metadata": {},
   "outputs": [],
   "source": []
  },
  {
   "cell_type": "code",
   "execution_count": null,
   "id": "d83fc007",
   "metadata": {},
   "outputs": [],
   "source": []
  },
  {
   "cell_type": "markdown",
   "id": "9dbc01cc",
   "metadata": {},
   "source": [
    "## 2. Types of Data\n",
    "\n",
    "<img align=\"center\" width=\"800\" height=\"650\"  src=\"images/types.png\"  >\n",
    "\n",
    "\n",
    "- **Qualitative Data:** They represent some characteristics or attributes. They depict descriptions that may be observed but cannot be computed or calculated. For example, data on attributes such as intelligence, honesty, wisdom, cleanliness, and creativity would be classified as qualitative.\n",
    "\n",
    "        - Nominal Data: Nominal data is one of the types of qualitative information which helps to label the variables without providing the numerical value. Nominal data is also called the nominal scale. It cannot be ordered and measured. Examples of nominal data are letters, symbols, words, gender etc.\n",
    "    \n",
    "        - Ordinal Data: Ordinal data/variable is a type of data that follows a natural order. The significant feature of the nominal data is that the difference between the data values is not determined. This variable is mostly found in surveys, finance, economics, questionnaires, and so on.\n",
    "\n",
    "\n",
    "- **Quantitative Data:** Quantitative data is also known as numerical data which represents the numerical value (i.e., how much, how often, how many). Numerical data gives information about the quantities of a specific thing. Some examples of numerical data are height, length, size, weight, and so on. The quantitative data can be classified into two different types based on the data sets. The two different classifications of numerical data are discrete data and continuous data.\n",
    "\n",
    "        - Discrete data: Discrete data can take only discrete values. Discrete information contains only a finite number of possible values. Those values cannot be subdivided meaningfully. Number of students in the class is an example of Discrete Data.\n",
    "        \n",
    "        - Continuous data: Continuous data is data that can be calculated. It has an infinite number of probable values that can be selected within a given specific range. e.g., Temparature Range."
   ]
  },
  {
   "cell_type": "code",
   "execution_count": null,
   "id": "d17863df",
   "metadata": {},
   "outputs": [],
   "source": []
  },
  {
   "cell_type": "code",
   "execution_count": null,
   "id": "d0c7c736",
   "metadata": {},
   "outputs": [],
   "source": []
  },
  {
   "cell_type": "code",
   "execution_count": null,
   "id": "26cb1fe6",
   "metadata": {},
   "outputs": [],
   "source": []
  },
  {
   "cell_type": "markdown",
   "id": "a4482d11",
   "metadata": {},
   "source": [
    "## 3. Overview of Statistics\n",
    "- Statistics is the study of the collection, analysis, interpretation, and presentation of data. In other words, it is a mathematical discipline to collect, summarize data.\n",
    "\n",
    "\n",
    "<img align=\"center\" width=\"500\" height=\"650\"  src=\"images/stat1.png\"  >\n",
    "\n",
    "- In today’s world, it has become the norm to process data through statistics so that it becomes trouble-free for others to understand it and pick something valuable and informative out of it.\n",
    "\n",
    "\n",
    "- To put it in simple words, statistics is the basic use of mathematics in formulating a technical analysis of data. It is used to `process complex problems` in the real world so that data scientists and analysts can look for `meaningful trends and changes` in Data. It is the basics of machine learning and algorithms like logistic regressions. Statistics also helps in prediction and classification of data.\n",
    "\n",
    "<img align=\"center\" width=\"550\" height=\"650\"  src=\"images/stats2.png\"  >\n",
    "\n",
    "\n",
    "- Statistical analysis has proven to be an elite way to analyse and interpret data in various different fields such as the psychology, business, physical and social sciences, production and manufacturing, government, etc.\n",
    "\n",
    "\n",
    "<img align=\"center\" width=\"500\" height=\"650\"  src=\"images/apps.png\"  >"
   ]
  },
  {
   "cell_type": "code",
   "execution_count": null,
   "id": "c587217a",
   "metadata": {},
   "outputs": [],
   "source": []
  },
  {
   "cell_type": "code",
   "execution_count": null,
   "id": "c1f40f9b",
   "metadata": {},
   "outputs": [],
   "source": []
  },
  {
   "cell_type": "code",
   "execution_count": null,
   "id": "9e246acc",
   "metadata": {},
   "outputs": [],
   "source": []
  },
  {
   "cell_type": "markdown",
   "id": "d3487047",
   "metadata": {},
   "source": [
    "## 4. Basic Terminologies\n",
    "The basics of statistics include terminologies, and methods of applying statistics in data science. \n",
    "\n",
    "- `Population:` It is an entire pool of data from where a statistical sample is extracted. It can be visualized as a complete data set of items that are similar in nature.\n",
    "\n",
    "\n",
    "\n",
    "- `Sample:` It is a subset of the population, i.e. it is an integral part of the population that has been collected for analysis.  \n",
    "\n",
    "\n",
    "- `Variable:` A value whose characteristics such as quantity can be measured, it can also be addressed as a data point, or a data item.  \n",
    "\n",
    "<img align=\"centre\" width=\"850\" height=\"650\"  src=\"images/psv.png\"  >\n",
    "\n",
    "\n"
   ]
  },
  {
   "cell_type": "code",
   "execution_count": null,
   "id": "1cc6edee",
   "metadata": {},
   "outputs": [],
   "source": []
  },
  {
   "cell_type": "code",
   "execution_count": null,
   "id": "26129153",
   "metadata": {},
   "outputs": [],
   "source": []
  },
  {
   "cell_type": "code",
   "execution_count": null,
   "id": "a9c9d2d4",
   "metadata": {},
   "outputs": [],
   "source": []
  },
  {
   "cell_type": "markdown",
   "id": "4c95412c",
   "metadata": {},
   "source": [
    "## 5. Sampling\n",
    "\n",
    "<img align=\"centre\" width=\"380\" height=\"400\"  src=\"images/population1.jpg\"  >\n",
    "\n",
    "- A Population is the group from which the data is to be collected. So make sure that you choose a `sample`, that represents the entire population. \n",
    "\n",
    "- `But the question is, why we do sampling ( sampling is a statistical method that is used to infer statistical knowledge about a population)?`\n",
    "\n",
    "\n",
    "- There are several reasons why we don't work with populations: They are usually large, and it is often impossible to get data for every object we're studying. Sampling does not usually occur without cost, and the more items surveyed, the larger the cost.\n",
    "\n",
    "- For example, you want to conduct a survey about the eating habits of teenagers (in millions) in your country. Is it possible to ask every individual abouts their health for conducting survey? It is not reasonable to study the entire population to find mean, mode, median. So a sample of population is taken and studied that represents the entire population, in order to get information about the entire population.\n",
    "\n",
    "\n",
    "- `The next questions is: How can one choose a sample, that best represents the entire population?`\n",
    "\n",
    "\n",
    "- This can be done using a sampling technique. There are different sampling techniques exist and one of them is `probability sampling`.\n"
   ]
  },
  {
   "cell_type": "code",
   "execution_count": null,
   "id": "4dbf4b7c",
   "metadata": {},
   "outputs": [],
   "source": []
  },
  {
   "cell_type": "code",
   "execution_count": null,
   "id": "bf279a12",
   "metadata": {},
   "outputs": [],
   "source": []
  },
  {
   "cell_type": "code",
   "execution_count": null,
   "id": "67e84dfd",
   "metadata": {},
   "outputs": [],
   "source": []
  },
  {
   "cell_type": "markdown",
   "id": "07ef7940",
   "metadata": {},
   "source": [
    "## a. Probability Sampling and its Types\n",
    "- Probability sampling is defined as a sampling technique in which the researcher chooses samples from a larger population using a method based on the theory of probability. The most critical requirement of probability sampling is that everyone in your population has a known and equal chance of getting selected. For example, if you have a population of 100 people, every person would have odds of 1 in 100 for getting selected. Probability sampling gives you the best chance to create a sample that is truly representative of the population.\n",
    "\n",
    "There are mainly three types of probability sampling:\n",
    "\n",
    "- `Simple random sampling:` As the name suggests, it is an entirely random method of selecting the sample. This sampling method is as easy as assigning numbers to the individuals (sample) and then randomly choosing from those numbers through an automated process. Finally, the numbers that are chosen are the members that are included in the sample. \n",
    "\n",
    "- Random sampling is analogous to putting everyone's name into a hat and drawing out several names. Each element in the population has an equal chance of occurring. While this is the preferred way of sampling, it is often difficult to do. It requires that a complete list of every element in the population be obtained. Computer generated lists are often used with random sampling. \n",
    "\n",
    "- The simple random sample is often used when there is very little information available about the data population, when the data population has far too many differences to divide into various subsets, or when there is only one distinct characteristic among the data population.For instance, a candy company may want to study the buying habits of its customers in order to determine the future of its product line. If there are 10,000 customers, it may use choose 100 of those customers as a random sample. It can then apply what it finds from those 100 customers to the rest of its base. Using simple random sampling allows researchers to make generalizations about a specific population and leave out any bias. This can help determine how to make future decisions. But keep in mind, these are generalizations, so there is room for error. After all, it is a simple sample. Those 100 customers may not have an accurate representation of the tastes of the entire population.\n",
    "\n",
    "\n",
    "<img align=\"centre\" width=\"750\" height=\"650\"  src=\"images/rand.png\"  >\n",
    "\n",
    "- `Systematic sampling:` Systematic sampling is when you choose every “nth” individual to be a part of the sample. For example, you can select every 5th person to be in the sample. Systematic sampling is an extended implementation of the same old probability technique in which each member of the group is selected at regular periods to form a sample.\n",
    "\n",
    "- Systematic sampling is easier to do than random sampling. In systematic sampling, the list of elements is \"counted off\". That is, every kth element is taken. This is similar to lining everyone up and numbering off \"1,2,3,4; 1,2,3,4; etc\". When done numbering, e.g., all people numbered 4 would be used.\n",
    "\n",
    "<img align=\"centre\" width=\"750\" height=\"650\"  src=\"images/sys.png\"  >\n",
    "\n",
    "\n",
    "- `Stratified random sampling:` Stratified random sampling involves a method where the researcher divides a more extensive population into smaller groups that usually don’t overlap but represent the entire population. While sampling, organize these groups and then draw a sample from each group separately. A standard method is to arrange or classify by sex, age, ethnicity, and similar ways. Splitting subjects into mutually exclusive groups and then using simple random sampling to choose members from groups. Members of these groups should be distinct so that every member of all groups get equal opportunity to be selected using simple probability.\n",
    "\n",
    "- Unlike simple random samples, stratified random samples are used with populations that can be easily broken into different subgroups or subsets. These groups are based on certain criteria, then randomly choose elements from each in proportion to the group's size versus the population. This method of sampling means there will be selections from each different group—the size of which is based on its proportion to the entire population. But the researchers must ensure the strata do not overlap. For instance, the candy company may decide to use the random stratified sampling method by dividing its 100 customers into different age groups to help make determinations about the future of its production. \n",
    "\n",
    "- Because it uses specific characteristics, it can provide a more accurate representation of the population based on what's used to divide it into different subsets. This often requires a smaller sample size, which can save resources and time. In addition, by including sufficient sample points from each stratum, the researchers can conduct a separate analysis on each individual stratum. But more work is required to pull a stratified sample than a random sample. Researchers must individually track and verify the data for each stratum for inclusion, which can take a lot more time compared with random sampling.\n",
    "\n",
    "\n",
    "<img align=\"centre\" width=\"750\" height=\"650\"  src=\"images/strat.png\"  >"
   ]
  },
  {
   "cell_type": "code",
   "execution_count": null,
   "id": "c53f2d13",
   "metadata": {},
   "outputs": [],
   "source": []
  },
  {
   "cell_type": "code",
   "execution_count": null,
   "id": "64eca9ca",
   "metadata": {},
   "outputs": [],
   "source": []
  },
  {
   "cell_type": "code",
   "execution_count": null,
   "id": "a5825ac6",
   "metadata": {},
   "outputs": [],
   "source": []
  },
  {
   "cell_type": "markdown",
   "id": "dfcd770f",
   "metadata": {},
   "source": [
    "## 6. Types of Statistics\n",
    "Statistics is mainly divided into the following two categories. \n",
    "\n",
    "    1. Descriptive Statistics\n",
    "    2. Inferential Statistics\n",
    "    \n",
    "    \n",
    "### 1. Descriptive Statistics\n",
    "- Descriptive statistics is used to describe the characteristics or features of a dataset. It is used to describe, present, summarize and organize your data, either through numerical calculations or graphs or tables.\n",
    "\n",
    "<img align=\"centre\" width=\"750\" height=\"650\"  src=\"images/desc.png\"  >\n",
    "\n",
    "- Descriptive statistical analysis helps us to understand our data and is very important part of Machine Learning. Doing a descriptive statistical analysis of our dataset is absolutely crucial. A lot of people skip this part and therefore lose a lot of valuable insight about their data, which often leads to wrong conclusions.\n",
    "    \n",
    "    \n",
    "- Descriptive statistics can also describe differences between observed characteristics of the elements of a data set. Descriptive statistics help us understand the collective properties of the elements of a data sample and form the basis for testing hypotheses and making predictions using inferential statistics.\n",
    "\n",
    "- Suppose you want to study the height of students in a classroom, in descriptive statistics you will record the height of every student in the classroom and then find out the maximum, minimum and average height of the population.\n",
    "\n",
    "<img align=\"centre\" width=\"650\" height=\"650\"  src=\"images/summ.png\"  >\n",
    "\n",
    "\n",
    "\n"
   ]
  },
  {
   "cell_type": "code",
   "execution_count": null,
   "id": "e0874e42",
   "metadata": {},
   "outputs": [],
   "source": []
  },
  {
   "cell_type": "code",
   "execution_count": null,
   "id": "2438a55a",
   "metadata": {},
   "outputs": [],
   "source": []
  },
  {
   "cell_type": "code",
   "execution_count": null,
   "id": "effe5e66",
   "metadata": {},
   "outputs": [],
   "source": []
  },
  {
   "cell_type": "markdown",
   "id": "f7bc38e7",
   "metadata": {},
   "source": [
    "### 2. Inferential Statistics\n",
    "- In the Inferential Statistics, we try to interpret the Meaning of descriptive Statistics. After the Data has been collected, analyzed, and summarised we use Inferential Statistics to describe the Meaning of the collected Data.\n",
    "\n",
    "<img align=\"centre\" width=\"600\" height=\"650\"  src=\"images/inf.png\"  >\n",
    "\n",
    "- Inferential Statistics use the `probability principle` to assess whether trends contained in the research sample can be generalized to the larger population from which the sample originally comes.\n",
    "\n",
    "\n",
    "- Inferential Statistics are intended to test `hypotheses` and investigate relationships between variables and can be used to make population predictions.\n",
    "\n",
    "\n",
    "- Inferential Statistics are used to draw `conclusions` and `inferences`, i.e., to make valid generalizations from samples.\n",
    "\n",
    "\n",
    "- Inferential Statistics allows us to make inferences and predictions about population parameters, based on a sample of data. It helps us to do modeling by developing mathematical equations describing the interrelationships between two or more variables.\n",
    "\n",
    "\n",
    "- In inferential statistics, you will categorize the height as tall, medium and small, and then take only a small sample from the population to study the heigh of students in the classroom.\n",
    "\n",
    "<img align=\"centre\" width=\"600\" height=\"650\"  src=\"images/inf2.png\"  >"
   ]
  },
  {
   "cell_type": "code",
   "execution_count": null,
   "id": "eac5ae98",
   "metadata": {},
   "outputs": [],
   "source": []
  },
  {
   "cell_type": "code",
   "execution_count": null,
   "id": "ba02287b",
   "metadata": {},
   "outputs": [],
   "source": []
  },
  {
   "cell_type": "code",
   "execution_count": null,
   "id": "6d0baef3",
   "metadata": {},
   "outputs": [],
   "source": []
  },
  {
   "cell_type": "markdown",
   "id": "83fcea46",
   "metadata": {},
   "source": [
    "## 7. Levels of Statistical Analysis\n",
    "- The selection of the data analysis technique is dependent on the number of variables, types of data and focus of the statistical inquiry. When it comes to the level of analysis in statistics, there are three different analysis techniques that exist:\n",
    "\n",
    "    1. Univariate analysis\n",
    "    2. Bivariate analysis\n",
    "    3. Multivariate analysis\n",
    "    \n",
    "    \n",
    "<img align=\"centre\" width=\"550\" height=\"520\"  src=\"images/analysis.png\"  >\n",
    "    \n",
    "\n",
    "### 1. Univariate analysis\n",
    "- Univariate analysis is the simplest form of analyzing data. `“Uni”` means `“one”`, so in other words your data has only `one variable`. It doesn’t deal with causes or relationships (unlike regression ) and it’s major purpose is to `describe`; It takes data, summarizes that data and finds patterns in the data. There are three common ways to perform univariate analysis:\n",
    "\n",
    "<img align=\"right\" width=\"150\" height=\"120\"  src=\"images/height.png\"  >\n",
    "    \n",
    "\n",
    "- Suppose that the heights of students of a class is recorded, there is only one variable that is height and it is not dealing with any cause or relationship. The description of patterns found in this type of data can be made by drawing conclusions using central tendency measures (mean, median and mode), dispersion or spread of data (range, minimum, maximum, quartiles, variance and standard deviation) and by using frequency distribution tables, histograms, pie charts, frequency polygon and bar charts.\n",
    "\n",
    "    1. Summary/Descriptive Statistics\n",
    "    2. Frequency Distributions\n",
    "    3. Charts\n",
    "        1. Histograms\n",
    "        2. Frequency Polygons\n",
    "        3. Pie Charts\n",
    "        4. Bar Charts\n",
    "    \n",
    "### 2. Bivariate analysis\n",
    "\n",
    "<img align=\"right\" width=\"250\" height=\"300\"  src=\"images/tab1.png\"  >\n",
    "\n",
    "- Bivariate analysis is slightly more analytical than Univariate analysis. When the data set contains two variables and researchers aim to undertake comparisons between the two data set then Bivariate analysis is the right type of analysis technique. \n",
    "\n",
    "\n",
    "\n",
    "- Example of bivariate data can be temperature and ice cream sales in summer season. Suppose the temperature and ice cream sales are the two variables of a bivariate data(figure 2). Here, the relationship is visible from the table that temperature and sales are directly proportional to each other and thus related because as the temperature increases, the sales also increase. Thus bivariate data analysis involves comparisons, relationships, causes and explanations.\n",
    "\n",
    "\n",
    "\n",
    "    \n",
    "    \n",
    "### 3. Multivariate analysis\n",
    "\n",
    "<img align=\"right\" width=\"200\" height=\"200\"  src=\"images/click1.png\"  >\n",
    "\n",
    "- Multivariate analysis is a more complex form of statistical analysis technique and used when there are more than two variables in the data set. Example of this type of data is suppose an advertiser wants to compare the popularity of four advertisements on a website, then their click rates could be measured for both men and women and relationships between variables can then be examined. It is similar to bivariate but contains more than one dependent variable.\n",
    "\n",
    "   "
   ]
  },
  {
   "cell_type": "code",
   "execution_count": null,
   "id": "d47b2c39",
   "metadata": {},
   "outputs": [],
   "source": []
  },
  {
   "cell_type": "code",
   "execution_count": null,
   "id": "86bbfed3",
   "metadata": {},
   "outputs": [],
   "source": []
  },
  {
   "cell_type": "code",
   "execution_count": null,
   "id": "b073b186",
   "metadata": {},
   "outputs": [],
   "source": []
  },
  {
   "cell_type": "markdown",
   "id": "e38fca1a",
   "metadata": {},
   "source": [
    "## 8. Univariate Analysis and Introduction to Descriptive Statistics\n",
    "- The most common way to perform univariate analysis is to describe a variable using summary/descriptive statistics.\n",
    "\n",
    "- Descriptive statistics are brief descriptive coefficients that summarize a given data set, which can be a sample of entire population. Descriptive statistics are broken down into measures of `central tendency` and `measures of variability` (spread). Measures of central tendency include the `mean`, `median`, and `mode`, while measures of variability include `standard deviation`, `variance`, `minimum and maximum` variables, `range` and `Inter Quartile `.\n",
    "\n",
    "\n",
    "- Descriptive statistics mostly focus on the `central tendency`, `variability`, and `distribution` of sample data.\n",
    "\n",
    "        -  Central tendency means the estimate of the characteristics, a typical element of a sample or population, and includes descriptive statistics such as mean, median, and mode.\n",
    "    \n",
    "<img align=\"centre\" width=\"600\" height=\"650\"  src=\"images/center.png\"  >\n",
    "    \n",
    "    - Variability refers to a set of statistics that show how much difference there is among the elements of a sample or population along the characteristics measured, and includes metrics such as range, variance, and standard deviation.\n",
    "    \n",
    "<img align=\"centre\" width=\"600\" height=\"650\"  src=\"images/spread.png\"  >\n",
    "    \n",
    "    - The Measures of Asymmetry/distribution refers to the overall \"shape\" of the data, which can be depicted on a chart such as a histogram or dot plot, and includes properties such as skewness, and kurtosis.\n",
    "    \n",
    "<img align=\"centre\" width=\"400\" height=\"350\"  src=\"images/asymm.png\"  >"
   ]
  },
  {
   "cell_type": "code",
   "execution_count": null,
   "id": "4e97fd50",
   "metadata": {},
   "outputs": [],
   "source": []
  },
  {
   "cell_type": "code",
   "execution_count": null,
   "id": "aecc9821",
   "metadata": {},
   "outputs": [],
   "source": []
  },
  {
   "cell_type": "code",
   "execution_count": null,
   "id": "a1cfd431",
   "metadata": {},
   "outputs": [],
   "source": []
  },
  {
   "cell_type": "markdown",
   "id": "3e91f531",
   "metadata": {},
   "source": [
    "### a. Measures of central tendency\n",
    "\n",
    "\n",
    "### Mean\n",
    "- `Mean` (average): Calculating the average of a variable or a list of numbers is an operation you may use every day either directly, such as when summarizing data, or indirectly, such as a smaller step in a larger procedure when fitting a model. The average is a synonym for the mean, a number that represents the most likely value from a probability distribution. As such, there are multiple different ways to calculate the mean based on the type of data that you’re working with:\n",
    "    1. Arithmetic Mean\n",
    "    2. Geometric Mean\n",
    "    3. Harmonic Mean\n",
    "    \n",
    "\n",
    "<img align=\"right\" width=\"350\" height=\"300\"  src=\"images/avg1.png\"  >\n",
    "\n",
    "- If values have the same units: Use the arithmetic mean.\n",
    "- If values have differing units: Use the geometric mean.\n",
    "- If values are rates: Use the harmonic mean.    \n",
    "\n",
    "\n",
    "\n",
    "    \n",
    "    - Arithmetic Mean: The arithmetic mean is calculated as the sum of the values divided by the total number of values. The mean is highly sensitive to the outliers. So, very large or very low value(i.e. Outliers) can distort the answer. The mean is used mostly as a general indicator for data, and works best when there are not a lot of outliers.\n",
    "    \n",
    "\n",
    "   \n",
    "\n"
   ]
  },
  {
   "cell_type": "code",
   "execution_count": null,
   "id": "140d1580",
   "metadata": {},
   "outputs": [],
   "source": []
  },
  {
   "cell_type": "code",
   "execution_count": null,
   "id": "a5f7720a",
   "metadata": {},
   "outputs": [],
   "source": []
  },
  {
   "cell_type": "code",
   "execution_count": 1,
   "id": "bab72905",
   "metadata": {},
   "outputs": [
    {
     "name": "stdout",
     "output_type": "stream",
     "text": [
      "7\n",
      "6\n",
      "1.8666666666666667\n"
     ]
    }
   ],
   "source": [
    "# Import statistics Library\n",
    "import statistics\n",
    "\n",
    "# Calculate average/arithmetic mean values\n",
    "print(statistics.mean([1, 3, 5, 7, 9, 11, 13]))\n",
    "print(statistics.mean([1, 3, 5, 7, 9, 11]))\n",
    "print(statistics.mean([-11, 5.5, -3.4, 7.1, -9, 22]))"
   ]
  },
  {
   "cell_type": "code",
   "execution_count": null,
   "id": "b3a95c71",
   "metadata": {},
   "outputs": [],
   "source": []
  },
  {
   "cell_type": "code",
   "execution_count": null,
   "id": "d80dab99",
   "metadata": {},
   "outputs": [],
   "source": []
  },
  {
   "cell_type": "code",
   "execution_count": 5,
   "id": "10d2523d",
   "metadata": {},
   "outputs": [
    {
     "data": {
      "text/html": [
       "<div>\n",
       "<style scoped>\n",
       "    .dataframe tbody tr th:only-of-type {\n",
       "        vertical-align: middle;\n",
       "    }\n",
       "\n",
       "    .dataframe tbody tr th {\n",
       "        vertical-align: top;\n",
       "    }\n",
       "\n",
       "    .dataframe thead th {\n",
       "        text-align: right;\n",
       "    }\n",
       "</style>\n",
       "<table border=\"1\" class=\"dataframe\">\n",
       "  <thead>\n",
       "    <tr style=\"text-align: right;\">\n",
       "      <th></th>\n",
       "      <th>rollno</th>\n",
       "      <th>name</th>\n",
       "      <th>address</th>\n",
       "      <th>gender</th>\n",
       "      <th>group</th>\n",
       "      <th>session</th>\n",
       "      <th>age</th>\n",
       "      <th>scholarship</th>\n",
       "      <th>machine_learning</th>\n",
       "      <th>data_science</th>\n",
       "      <th>big_data</th>\n",
       "    </tr>\n",
       "  </thead>\n",
       "  <tbody>\n",
       "    <tr>\n",
       "      <th>0</th>\n",
       "      <td>MS01</td>\n",
       "      <td>SAADIA</td>\n",
       "      <td>Lahore</td>\n",
       "      <td>female</td>\n",
       "      <td>group B</td>\n",
       "      <td>MORNING</td>\n",
       "      <td>28</td>\n",
       "      <td>2562</td>\n",
       "      <td>33</td>\n",
       "      <td>72</td>\n",
       "      <td>74</td>\n",
       "    </tr>\n",
       "    <tr>\n",
       "      <th>1</th>\n",
       "      <td>MS02</td>\n",
       "      <td>JUMAIMA</td>\n",
       "      <td>Islamabad</td>\n",
       "      <td>female</td>\n",
       "      <td>group C</td>\n",
       "      <td>AFTERNOON</td>\n",
       "      <td>33</td>\n",
       "      <td>2800</td>\n",
       "      <td>27</td>\n",
       "      <td>90</td>\n",
       "      <td>88</td>\n",
       "    </tr>\n",
       "    <tr>\n",
       "      <th>2</th>\n",
       "      <td>MS03</td>\n",
       "      <td>ARIFA</td>\n",
       "      <td>Karachi</td>\n",
       "      <td>female</td>\n",
       "      <td>group A</td>\n",
       "      <td>EVENING</td>\n",
       "      <td>34</td>\n",
       "      <td>3500</td>\n",
       "      <td>24</td>\n",
       "      <td>95</td>\n",
       "      <td>93</td>\n",
       "    </tr>\n",
       "    <tr>\n",
       "      <th>3</th>\n",
       "      <td>MS04</td>\n",
       "      <td>SAADIA</td>\n",
       "      <td>Lahore</td>\n",
       "      <td>female</td>\n",
       "      <td>group A</td>\n",
       "      <td>MORNING</td>\n",
       "      <td>44</td>\n",
       "      <td>2000</td>\n",
       "      <td>37</td>\n",
       "      <td>57</td>\n",
       "      <td>44</td>\n",
       "    </tr>\n",
       "    <tr>\n",
       "      <th>4</th>\n",
       "      <td>MS05</td>\n",
       "      <td>DANISH</td>\n",
       "      <td>Peshawer</td>\n",
       "      <td>male</td>\n",
       "      <td>group C</td>\n",
       "      <td>AFTERNOON</td>\n",
       "      <td>54</td>\n",
       "      <td>2100</td>\n",
       "      <td>39</td>\n",
       "      <td>78</td>\n",
       "      <td>55</td>\n",
       "    </tr>\n",
       "  </tbody>\n",
       "</table>\n",
       "</div>"
      ],
      "text/plain": [
       "  rollno     name    address  gender    group    session  age  scholarship  \\\n",
       "0   MS01   SAADIA     Lahore  female  group B    MORNING   28         2562   \n",
       "1   MS02  JUMAIMA  Islamabad  female  group C  AFTERNOON   33         2800   \n",
       "2   MS03    ARIFA    Karachi  female  group A    EVENING   34         3500   \n",
       "3   MS04   SAADIA     Lahore  female  group A    MORNING   44         2000   \n",
       "4   MS05   DANISH   Peshawer    male  group C  AFTERNOON   54         2100   \n",
       "\n",
       "   machine_learning  data_science  big_data  \n",
       "0                33            72        74  \n",
       "1                27            90        88  \n",
       "2                24            95        93  \n",
       "3                37            57        44  \n",
       "4                39            78        55  "
      ]
     },
     "execution_count": 5,
     "metadata": {},
     "output_type": "execute_result"
    }
   ],
   "source": [
    "# importing pandas\n",
    "import pandas as pd\n",
    "# import statistics Library\n",
    "import statistics\n",
    "\n",
    "# reading data from csv in pandas dataframe containing marks of different subjects\n",
    "df1 = pd.read_csv(\"dataset/descriptivestatistics-dataset.csv\")\n",
    "df1.head()"
   ]
  },
  {
   "cell_type": "code",
   "execution_count": null,
   "id": "34cef163",
   "metadata": {},
   "outputs": [],
   "source": []
  },
  {
   "cell_type": "code",
   "execution_count": 6,
   "id": "7d6a7aad",
   "metadata": {},
   "outputs": [
    {
     "name": "stdout",
     "output_type": "stream",
     "text": [
      "34.4\n"
     ]
    }
   ],
   "source": [
    "# calculating average/arithmetic mean age\n",
    "print(round(statistics.mean(df1['age']), 1))"
   ]
  },
  {
   "cell_type": "code",
   "execution_count": null,
   "id": "c4c62504",
   "metadata": {},
   "outputs": [],
   "source": []
  },
  {
   "cell_type": "code",
   "execution_count": 7,
   "id": "8155ff20",
   "metadata": {
    "scrolled": true
   },
   "outputs": [
    {
     "name": "stdout",
     "output_type": "stream",
     "text": [
      "44.4\n",
      "68.6\n",
      "65.3\n"
     ]
    }
   ],
   "source": [
    "# calculating average marks for each subject\n",
    "print(round(statistics.mean(df1['machine_learning']), 1))\n",
    "print(round(statistics.mean(df1['data_science']), 1))\n",
    "print(round(statistics.mean(df1['big_data']), 1))"
   ]
  },
  {
   "cell_type": "code",
   "execution_count": null,
   "id": "4abaec41",
   "metadata": {},
   "outputs": [],
   "source": []
  },
  {
   "cell_type": "code",
   "execution_count": null,
   "id": "bd2fc576",
   "metadata": {},
   "outputs": [],
   "source": []
  },
  {
   "cell_type": "code",
   "execution_count": null,
   "id": "61cc567e",
   "metadata": {},
   "outputs": [],
   "source": []
  },
  {
   "cell_type": "markdown",
   "id": "afc0e39e",
   "metadata": {},
   "source": [
    "<img align=\"right\" width=\"180\" height=\"250\"  src=\"images/speed.png\"  >\n",
    "\n",
    "### Harmonic Mean\n",
    "\n",
    "- `Harmonic Mean`: The harmonic mean is calculated as the number of values N divided by the sum of the reciprocal of the values (1 over each value). The harmonic mean is the appropriate mean if the data is comprised of rates. For example, a car travels 10 km at 40 km/hr, and another travels 10 km at 60 km/hr. The average speed can be measured using harmonic mean. The harmonic mean does not take rates with a negative or zero value, e.g. all rates must be positive.\n",
    "\n",
    "\n",
    "- One common example of the use of the harmonic mean in machine learning is in the calculation of the F-Measure (also the F1-Measure or the Fbeta-Measure); that is a model evaluation metric that is calculated as the harmonic mean of the precision and recall metrics.\n",
    "    \n",
    "<img align=\"centre\" width=\"500\" height=\"650\"  src=\"images/hmean.png\"  >\n",
    "\n"
   ]
  },
  {
   "cell_type": "code",
   "execution_count": null,
   "id": "cba167fc",
   "metadata": {},
   "outputs": [],
   "source": []
  },
  {
   "cell_type": "code",
   "execution_count": null,
   "id": "fc2027b3",
   "metadata": {},
   "outputs": [],
   "source": []
  },
  {
   "cell_type": "code",
   "execution_count": 1,
   "id": "1fae49db",
   "metadata": {},
   "outputs": [
    {
     "name": "stdout",
     "output_type": "stream",
     "text": [
      "48.0\n"
     ]
    }
   ],
   "source": [
    "# Import statistics Library\n",
    "import statistics\n",
    "\n",
    "# Calculate harmonic mean\n",
    "# harmonic mean is the reciprocal of the arithmetic mean() of the reciprocals of the data\n",
    "\n",
    "# It is often appropriate when averaging ratios or rates, for example speeds.\n",
    "# Suppose a car travels 10 km at 40 km/hr, then another 10 km at 60 km/hr. What is the average speed?\n",
    "print(statistics.harmonic_mean([40, 60]))\n"
   ]
  },
  {
   "cell_type": "code",
   "execution_count": null,
   "id": "22713b9c",
   "metadata": {},
   "outputs": [],
   "source": []
  },
  {
   "cell_type": "code",
   "execution_count": null,
   "id": "b510728e",
   "metadata": {},
   "outputs": [],
   "source": []
  },
  {
   "cell_type": "code",
   "execution_count": 8,
   "id": "82015136",
   "metadata": {},
   "outputs": [
    {
     "data": {
      "text/html": [
       "<div>\n",
       "<style scoped>\n",
       "    .dataframe tbody tr th:only-of-type {\n",
       "        vertical-align: middle;\n",
       "    }\n",
       "\n",
       "    .dataframe tbody tr th {\n",
       "        vertical-align: top;\n",
       "    }\n",
       "\n",
       "    .dataframe thead th {\n",
       "        text-align: right;\n",
       "    }\n",
       "</style>\n",
       "<table border=\"1\" class=\"dataframe\">\n",
       "  <thead>\n",
       "    <tr style=\"text-align: right;\">\n",
       "      <th></th>\n",
       "      <th>rollno</th>\n",
       "      <th>name</th>\n",
       "      <th>address</th>\n",
       "      <th>gender</th>\n",
       "      <th>group</th>\n",
       "      <th>session</th>\n",
       "      <th>age</th>\n",
       "      <th>scholarship</th>\n",
       "      <th>machine_learning</th>\n",
       "      <th>data_science</th>\n",
       "      <th>big_data</th>\n",
       "    </tr>\n",
       "  </thead>\n",
       "  <tbody>\n",
       "    <tr>\n",
       "      <th>0</th>\n",
       "      <td>MS01</td>\n",
       "      <td>SAADIA</td>\n",
       "      <td>Lahore</td>\n",
       "      <td>female</td>\n",
       "      <td>group B</td>\n",
       "      <td>MORNING</td>\n",
       "      <td>28</td>\n",
       "      <td>2562</td>\n",
       "      <td>33</td>\n",
       "      <td>72</td>\n",
       "      <td>74</td>\n",
       "    </tr>\n",
       "    <tr>\n",
       "      <th>1</th>\n",
       "      <td>MS02</td>\n",
       "      <td>JUMAIMA</td>\n",
       "      <td>Islamabad</td>\n",
       "      <td>female</td>\n",
       "      <td>group C</td>\n",
       "      <td>AFTERNOON</td>\n",
       "      <td>33</td>\n",
       "      <td>2800</td>\n",
       "      <td>27</td>\n",
       "      <td>90</td>\n",
       "      <td>88</td>\n",
       "    </tr>\n",
       "    <tr>\n",
       "      <th>2</th>\n",
       "      <td>MS03</td>\n",
       "      <td>ARIFA</td>\n",
       "      <td>Karachi</td>\n",
       "      <td>female</td>\n",
       "      <td>group A</td>\n",
       "      <td>EVENING</td>\n",
       "      <td>34</td>\n",
       "      <td>3500</td>\n",
       "      <td>24</td>\n",
       "      <td>95</td>\n",
       "      <td>93</td>\n",
       "    </tr>\n",
       "    <tr>\n",
       "      <th>3</th>\n",
       "      <td>MS04</td>\n",
       "      <td>SAADIA</td>\n",
       "      <td>Lahore</td>\n",
       "      <td>female</td>\n",
       "      <td>group A</td>\n",
       "      <td>MORNING</td>\n",
       "      <td>44</td>\n",
       "      <td>2000</td>\n",
       "      <td>37</td>\n",
       "      <td>57</td>\n",
       "      <td>44</td>\n",
       "    </tr>\n",
       "    <tr>\n",
       "      <th>4</th>\n",
       "      <td>MS05</td>\n",
       "      <td>DANISH</td>\n",
       "      <td>Peshawer</td>\n",
       "      <td>male</td>\n",
       "      <td>group C</td>\n",
       "      <td>AFTERNOON</td>\n",
       "      <td>54</td>\n",
       "      <td>2100</td>\n",
       "      <td>39</td>\n",
       "      <td>78</td>\n",
       "      <td>55</td>\n",
       "    </tr>\n",
       "  </tbody>\n",
       "</table>\n",
       "</div>"
      ],
      "text/plain": [
       "  rollno     name    address  gender    group    session  age  scholarship  \\\n",
       "0   MS01   SAADIA     Lahore  female  group B    MORNING   28         2562   \n",
       "1   MS02  JUMAIMA  Islamabad  female  group C  AFTERNOON   33         2800   \n",
       "2   MS03    ARIFA    Karachi  female  group A    EVENING   34         3500   \n",
       "3   MS04   SAADIA     Lahore  female  group A    MORNING   44         2000   \n",
       "4   MS05   DANISH   Peshawer    male  group C  AFTERNOON   54         2100   \n",
       "\n",
       "   machine_learning  data_science  big_data  \n",
       "0                33            72        74  \n",
       "1                27            90        88  \n",
       "2                24            95        93  \n",
       "3                37            57        44  \n",
       "4                39            78        55  "
      ]
     },
     "execution_count": 8,
     "metadata": {},
     "output_type": "execute_result"
    }
   ],
   "source": [
    "# importing pandas\n",
    "import pandas as pd\n",
    "# import statistics Library\n",
    "import statistics\n",
    "\n",
    "# reading data from csv in pandas dataframe containing marks of different subjects\n",
    "df1 = pd.read_csv(\"dataset/descriptivestatistics-dataset.csv\")\n",
    "df1.head()"
   ]
  },
  {
   "cell_type": "code",
   "execution_count": null,
   "id": "73274bf6",
   "metadata": {},
   "outputs": [],
   "source": []
  },
  {
   "cell_type": "code",
   "execution_count": 23,
   "id": "54d0ec8c",
   "metadata": {},
   "outputs": [
    {
     "name": "stdout",
     "output_type": "stream",
     "text": [
      "29.1\n"
     ]
    }
   ],
   "source": [
    "# calculate mean age\n",
    "print(round(statistics.harmonic_mean(df1['age']), 1))"
   ]
  },
  {
   "cell_type": "code",
   "execution_count": null,
   "id": "4a4cf381",
   "metadata": {},
   "outputs": [],
   "source": []
  },
  {
   "cell_type": "code",
   "execution_count": 9,
   "id": "988c3181",
   "metadata": {},
   "outputs": [
    {
     "name": "stdout",
     "output_type": "stream",
     "text": [
      "37.6\n",
      "65.8\n",
      "61.3\n"
     ]
    }
   ],
   "source": [
    "# calculating average marks for each subject\n",
    "print(round(statistics.harmonic_mean(df1['machine_learning']), 1))\n",
    "print(round(statistics.harmonic_mean(df1['data_science']), 1))\n",
    "print(round(statistics.harmonic_mean(df1['big_data']), 1))"
   ]
  },
  {
   "cell_type": "code",
   "execution_count": null,
   "id": "b3769007",
   "metadata": {},
   "outputs": [],
   "source": []
  },
  {
   "cell_type": "code",
   "execution_count": null,
   "id": "10094a35",
   "metadata": {},
   "outputs": [],
   "source": []
  },
  {
   "cell_type": "markdown",
   "id": "a6b243c5",
   "metadata": {},
   "source": [
    "<img align=\"right\" width=\"150\" height=\"250\"  src=\"images/revenue.png\"  >\n",
    "\n",
    "### Geometric Mean\n",
    "\n",
    "\n",
    "\n",
    "- `Geometric Mean`: The geometric mean is calculated as the N-th root of the product of all values. The geometric mean is appropriate when the data contains values with different units of measure, e.g. some measure are height, some are dollars, some are miles, etc. For example, to measure average rates of growth, where growth is determined by multiplication and not addition such as Financial transactions, Interest rate. The geometric mean does not accept negative or zero values, e.g. all values must be positive.\n",
    "\n",
    "\n",
    "- One common example of the geometric mean in machine learning is in the calculation of the so-called G-Mean (geometric mean) metric that is a model evaluation metric that is calculated as the geometric mean of the sensitivity and specificity metrics.\n",
    "\n",
    "<img align=\"centre\" width=\"450\" height=\"650\"  src=\"images/gmean.png\"  >\n"
   ]
  },
  {
   "cell_type": "code",
   "execution_count": null,
   "id": "d80f1f21",
   "metadata": {},
   "outputs": [],
   "source": []
  },
  {
   "cell_type": "code",
   "execution_count": null,
   "id": "691e3bbd",
   "metadata": {},
   "outputs": [],
   "source": []
  },
  {
   "cell_type": "code",
   "execution_count": 11,
   "id": "6adb6cad",
   "metadata": {},
   "outputs": [
    {
     "data": {
      "text/plain": [
       "36.000000000000014"
      ]
     },
     "execution_count": 11,
     "metadata": {},
     "output_type": "execute_result"
    }
   ],
   "source": [
    "# Import statistics Library\n",
    "import statistics\n",
    "\n",
    "# Calculate geometric mean\n",
    "statistics.geometric_mean([54, 24, 36])"
   ]
  },
  {
   "cell_type": "code",
   "execution_count": null,
   "id": "7fe0c756",
   "metadata": {},
   "outputs": [],
   "source": []
  },
  {
   "cell_type": "code",
   "execution_count": null,
   "id": "7ab6eb00",
   "metadata": {},
   "outputs": [],
   "source": []
  },
  {
   "cell_type": "code",
   "execution_count": 10,
   "id": "06ec0c73",
   "metadata": {
    "scrolled": true
   },
   "outputs": [
    {
     "data": {
      "text/html": [
       "<div>\n",
       "<style scoped>\n",
       "    .dataframe tbody tr th:only-of-type {\n",
       "        vertical-align: middle;\n",
       "    }\n",
       "\n",
       "    .dataframe tbody tr th {\n",
       "        vertical-align: top;\n",
       "    }\n",
       "\n",
       "    .dataframe thead th {\n",
       "        text-align: right;\n",
       "    }\n",
       "</style>\n",
       "<table border=\"1\" class=\"dataframe\">\n",
       "  <thead>\n",
       "    <tr style=\"text-align: right;\">\n",
       "      <th></th>\n",
       "      <th>rollno</th>\n",
       "      <th>name</th>\n",
       "      <th>address</th>\n",
       "      <th>gender</th>\n",
       "      <th>group</th>\n",
       "      <th>session</th>\n",
       "      <th>age</th>\n",
       "      <th>scholarship</th>\n",
       "      <th>machine_learning</th>\n",
       "      <th>data_science</th>\n",
       "      <th>big_data</th>\n",
       "    </tr>\n",
       "  </thead>\n",
       "  <tbody>\n",
       "    <tr>\n",
       "      <th>0</th>\n",
       "      <td>MS01</td>\n",
       "      <td>SAADIA</td>\n",
       "      <td>Lahore</td>\n",
       "      <td>female</td>\n",
       "      <td>group B</td>\n",
       "      <td>MORNING</td>\n",
       "      <td>28</td>\n",
       "      <td>2562</td>\n",
       "      <td>33</td>\n",
       "      <td>72</td>\n",
       "      <td>74</td>\n",
       "    </tr>\n",
       "    <tr>\n",
       "      <th>1</th>\n",
       "      <td>MS02</td>\n",
       "      <td>JUMAIMA</td>\n",
       "      <td>Islamabad</td>\n",
       "      <td>female</td>\n",
       "      <td>group C</td>\n",
       "      <td>AFTERNOON</td>\n",
       "      <td>33</td>\n",
       "      <td>2800</td>\n",
       "      <td>27</td>\n",
       "      <td>90</td>\n",
       "      <td>88</td>\n",
       "    </tr>\n",
       "    <tr>\n",
       "      <th>2</th>\n",
       "      <td>MS03</td>\n",
       "      <td>ARIFA</td>\n",
       "      <td>Karachi</td>\n",
       "      <td>female</td>\n",
       "      <td>group A</td>\n",
       "      <td>EVENING</td>\n",
       "      <td>34</td>\n",
       "      <td>3500</td>\n",
       "      <td>24</td>\n",
       "      <td>95</td>\n",
       "      <td>93</td>\n",
       "    </tr>\n",
       "    <tr>\n",
       "      <th>3</th>\n",
       "      <td>MS04</td>\n",
       "      <td>SAADIA</td>\n",
       "      <td>Lahore</td>\n",
       "      <td>female</td>\n",
       "      <td>group A</td>\n",
       "      <td>MORNING</td>\n",
       "      <td>44</td>\n",
       "      <td>2000</td>\n",
       "      <td>37</td>\n",
       "      <td>57</td>\n",
       "      <td>44</td>\n",
       "    </tr>\n",
       "    <tr>\n",
       "      <th>4</th>\n",
       "      <td>MS05</td>\n",
       "      <td>DANISH</td>\n",
       "      <td>Peshawer</td>\n",
       "      <td>male</td>\n",
       "      <td>group C</td>\n",
       "      <td>AFTERNOON</td>\n",
       "      <td>54</td>\n",
       "      <td>2100</td>\n",
       "      <td>39</td>\n",
       "      <td>78</td>\n",
       "      <td>55</td>\n",
       "    </tr>\n",
       "  </tbody>\n",
       "</table>\n",
       "</div>"
      ],
      "text/plain": [
       "  rollno     name    address  gender    group    session  age  scholarship  \\\n",
       "0   MS01   SAADIA     Lahore  female  group B    MORNING   28         2562   \n",
       "1   MS02  JUMAIMA  Islamabad  female  group C  AFTERNOON   33         2800   \n",
       "2   MS03    ARIFA    Karachi  female  group A    EVENING   34         3500   \n",
       "3   MS04   SAADIA     Lahore  female  group A    MORNING   44         2000   \n",
       "4   MS05   DANISH   Peshawer    male  group C  AFTERNOON   54         2100   \n",
       "\n",
       "   machine_learning  data_science  big_data  \n",
       "0                33            72        74  \n",
       "1                27            90        88  \n",
       "2                24            95        93  \n",
       "3                37            57        44  \n",
       "4                39            78        55  "
      ]
     },
     "execution_count": 10,
     "metadata": {},
     "output_type": "execute_result"
    }
   ],
   "source": [
    "# importing pandas\n",
    "import pandas as pd\n",
    "# import statistics Library\n",
    "import statistics\n",
    "\n",
    "# reading data from csv in pandas dataframe containing marks of different subjects\n",
    "df1 = pd.read_csv(\"dataset/descriptivestatistics-dataset.csv\")\n",
    "df1.head()"
   ]
  },
  {
   "cell_type": "code",
   "execution_count": null,
   "id": "1b3f1825",
   "metadata": {},
   "outputs": [],
   "source": []
  },
  {
   "cell_type": "code",
   "execution_count": 20,
   "id": "5bbdd481",
   "metadata": {
    "scrolled": true
   },
   "outputs": [
    {
     "name": "stdout",
     "output_type": "stream",
     "text": [
      "29.7\n"
     ]
    }
   ],
   "source": [
    "# calculate mean age\n",
    "print(round(statistics.geometric_mean(df1['age']), 1))"
   ]
  },
  {
   "cell_type": "code",
   "execution_count": null,
   "id": "70f98abe",
   "metadata": {},
   "outputs": [],
   "source": []
  },
  {
   "cell_type": "code",
   "execution_count": 11,
   "id": "aa9c109b",
   "metadata": {},
   "outputs": [
    {
     "name": "stdout",
     "output_type": "stream",
     "text": [
      "40.9\n",
      "67.2\n",
      "63.4\n"
     ]
    }
   ],
   "source": [
    "# calculating average marks for each subject\n",
    "print(round(statistics.geometric_mean(df1['machine_learning']), 1))\n",
    "print(round(statistics.geometric_mean(df1['data_science']), 1))\n",
    "print(round(statistics.geometric_mean(df1['big_data']), 1))"
   ]
  },
  {
   "cell_type": "code",
   "execution_count": null,
   "id": "f66698ed",
   "metadata": {},
   "outputs": [],
   "source": []
  },
  {
   "cell_type": "code",
   "execution_count": null,
   "id": "62055f0b",
   "metadata": {},
   "outputs": [],
   "source": []
  },
  {
   "cell_type": "markdown",
   "id": "deeb5148",
   "metadata": {},
   "source": [
    "### Visualizing the Difference of Between Different Mean Types Using Bar Plot"
   ]
  },
  {
   "cell_type": "code",
   "execution_count": 38,
   "id": "678130f6",
   "metadata": {},
   "outputs": [
    {
     "data": {
      "image/png": "[encoded data removed]",
      "text/plain": [
       "<Figure size 432x288 with 1 Axes>"
      ]
     },
     "metadata": {
      "needs_background": "light"
     },
     "output_type": "display_data"
    }
   ],
   "source": [
    "# import the required modules\n",
    "import numpy as np\n",
    "from matplotlib import pyplot as plt\n",
    "\n",
    "\n",
    "# creating a list of different types of mean\n",
    "subjects = [\"Arithmetic Mean\", \"Harmonic Mean\", \"Geometric Mean\"]\n",
    "\n",
    "\n",
    "# calculating Arithmetic mean for each subject\n",
    "a1 = round(statistics.mean(df1['machine_learning']), 1)\n",
    "a2 = round(statistics.mean(df1['data_science']), 1)\n",
    "a3 = round(statistics.mean(df1['big_data']), 1)\n",
    "\n",
    "\n",
    "# calculating Harmonic mean for each subject\n",
    "h1 = round(statistics.harmonic_mean(df1['machine_learning']), 1)\n",
    "h2 = round(statistics.harmonic_mean(df1['data_science']), 1)\n",
    "h3 = round(statistics.harmonic_mean(df1['big_data']), 1)\n",
    "\n",
    "\n",
    "\n",
    "# calculating Geometric mean for each subject\n",
    "g1 = round(statistics.geometric_mean(df1['machine_learning']), 1)\n",
    "g2 = round(statistics.geometric_mean(df1['data_science']), 1)\n",
    "g3 = round(statistics.geometric_mean(df1['big_data']), 1)\n",
    "\n",
    "\n",
    "# creating list for comparing means for each subject\n",
    "# for example comparing arithmetic/harmonic/geometric mean for Machine learning\n",
    "ml_mean = [a1, h1, g1]\n",
    "# comparing arithmetic/harmonic/geometric mean for Data Science\n",
    "ds_mean = [a2, h2, g2]\n",
    "# comparing arithmetic/harmonic/geometric mean for Big Data\n",
    "bd_mean = [a3, h3, g3]\n",
    "\n",
    "\n",
    "\n",
    "# create an index array equal to the length of mean list\n",
    "index = np.arange(len(subjects))\n",
    "\n",
    "\n",
    "# Draw bar plot (for machine learning) between index on x-axis and meam of the subject marks on y-axis with bar-width 0.3\n",
    "plt.bar(index, ml_mean, width=0.3)\n",
    "# Draw bar plot (for data science) between index+0.3 (to prevent overlapping) \n",
    "plt.bar(index + 0.3, ds_mean, width=0.3)\n",
    "# Draw bar plot (for big data) between index+0.6 (to prevent overlapping) \n",
    "plt.bar(index + 0.6, bd_mean, width=0.3, color='grey')\n",
    "\n",
    "# adding title\n",
    "plt.title(\"Comparison of Arithmetic/Harmonic/Geometric Mean\")\n",
    "# adding labels\n",
    "plt.xlabel(\"Types of Mean\")\n",
    "plt.ylabel(\"Average Marks\")\n",
    "\n",
    "# setting tick labels on x-axis\n",
    "plt.xticks(index+0.30, subjects, color='b')\n",
    "\n",
    "\n",
    "# show plot\n",
    "plt.show()"
   ]
  },
  {
   "cell_type": "code",
   "execution_count": null,
   "id": "1d073bd9",
   "metadata": {},
   "outputs": [],
   "source": []
  },
  {
   "cell_type": "code",
   "execution_count": null,
   "id": "b1ceed60",
   "metadata": {},
   "outputs": [],
   "source": []
  },
  {
   "cell_type": "code",
   "execution_count": null,
   "id": "973a1a80",
   "metadata": {},
   "outputs": [],
   "source": []
  },
  {
   "cell_type": "code",
   "execution_count": null,
   "id": "81164242",
   "metadata": {},
   "outputs": [],
   "source": []
  },
  {
   "cell_type": "markdown",
   "id": "fd022cab",
   "metadata": {},
   "source": [
    "<img align=\"centre\" width=\"550\" height=\"550\"  src=\"images/median1.png\"  >\n",
    "\n",
    "### Median\n",
    "- `Median`: Median is a statistical measure that determines the middle value of a dataset listed in ascending order (i.e., from smallest to largest value). The measure divides the lower half from the higher half of the dataset.\n",
    "\n",
    "\n",
    "- We can say that it is the middle value of data. It splits the data in half and also called 50th percentile. It is much less affected by the outliers and skewed data than mean.\n",
    "\n",
    "\n",
    "- The median can be easily found. In some cases, it does not require any calculations at all. The general steps of finding the median include:\n",
    "\n",
    "    1. Arrange the data in ascending order (from the lowest to the largest value).\n",
    "\n",
    "    2. Determine whether there is an even or an odd number of values in the dataset.\n",
    "\n",
    "    3. Considering the results of the previous step, further analysis may follow two distinct scenarios:\n",
    "\n",
    "\n",
    "\n",
    "        - If the dataset contains an odd number of values, the median is a central value that will split \n",
    "        the dataset into halves.\n",
    "        - If the dataset contains an even number of values, find the two central values that split the dataset into halves.                 Then, calculate the mean of the two central values. That mean is the median of the dataset.\n",
    "\n",
    "\n",
    "- Median is going to try to eliminate the influence of outliers by returning the number at the center. For instance, The median is used where strong outliers may skew the representation of the group, such as with incomes. If you have one person who earns 1 billion a year and nine other people who earn under 100,000 a year, the mean income for people in the group would be around 100 million, a gross distortion. The median income would be under 100,000, more closely representing the situation of the majority of the group.\n",
    "\n"
   ]
  },
  {
   "cell_type": "code",
   "execution_count": null,
   "id": "ffa35699",
   "metadata": {},
   "outputs": [],
   "source": []
  },
  {
   "cell_type": "code",
   "execution_count": null,
   "id": "b5a9d06f",
   "metadata": {},
   "outputs": [],
   "source": []
  },
  {
   "cell_type": "code",
   "execution_count": 18,
   "id": "d944e57f",
   "metadata": {},
   "outputs": [
    {
     "name": "stdout",
     "output_type": "stream",
     "text": [
      "3\n",
      "4.0\n"
     ]
    }
   ],
   "source": [
    "# Import statistics Library\n",
    "import statistics\n",
    "\n",
    "# Return the median (middle value) of numeric data\n",
    "print(statistics.median([1, 3, 5]))\n",
    "\n",
    "# When the number of data points is even, the median is interpolated by taking the average of the two middle values\n",
    "print(statistics.median([1, 3, 5, 7]))"
   ]
  },
  {
   "cell_type": "code",
   "execution_count": null,
   "id": "4f9305da",
   "metadata": {},
   "outputs": [],
   "source": []
  },
  {
   "cell_type": "code",
   "execution_count": 23,
   "id": "6f70f29c",
   "metadata": {},
   "outputs": [
    {
     "name": "stdout",
     "output_type": "stream",
     "text": [
      "Median when data points are odd:  3\n",
      "Median when data points are even:  2\n"
     ]
    }
   ],
   "source": [
    "# statistics.median_low method\n",
    "# The low median is a value, When the number of data points is even, the smaller of the two middle values is returned\n",
    "print(\"Median when data points are odd: \", statistics.median_low([1, 3, 5]))\n",
    "\n",
    "# when datapoints are even\n",
    "print(\"Median when data points are even: \", statistics.median_low([1, 2, 5, 7]))"
   ]
  },
  {
   "cell_type": "code",
   "execution_count": null,
   "id": "9b8c8a97",
   "metadata": {},
   "outputs": [],
   "source": []
  },
  {
   "cell_type": "code",
   "execution_count": null,
   "id": "89348d98",
   "metadata": {},
   "outputs": [],
   "source": []
  },
  {
   "cell_type": "code",
   "execution_count": 24,
   "id": "c6d16f3e",
   "metadata": {},
   "outputs": [
    {
     "name": "stdout",
     "output_type": "stream",
     "text": [
      "Median when data points are odd:  3\n",
      "Median when data points are even:  5\n"
     ]
    }
   ],
   "source": [
    "# statistics.median_high method\n",
    "# The high median is a value, When datapoints are even, the larger of the two middle values is returned\n",
    "print(\"Median when data points are odd: \", statistics.median_high([1, 3, 5]))\n",
    "\n",
    "# when datapoints are even\n",
    "print(\"Median when data points are even: \", statistics.median_high([1, 3, 5, 7]))"
   ]
  },
  {
   "cell_type": "code",
   "execution_count": null,
   "id": "bd8e092c",
   "metadata": {},
   "outputs": [],
   "source": []
  },
  {
   "cell_type": "code",
   "execution_count": null,
   "id": "bb87a6aa",
   "metadata": {},
   "outputs": [],
   "source": []
  },
  {
   "cell_type": "code",
   "execution_count": 39,
   "id": "03b88cda",
   "metadata": {},
   "outputs": [
    {
     "data": {
      "text/html": [
       "<div>\n",
       "<style scoped>\n",
       "    .dataframe tbody tr th:only-of-type {\n",
       "        vertical-align: middle;\n",
       "    }\n",
       "\n",
       "    .dataframe tbody tr th {\n",
       "        vertical-align: top;\n",
       "    }\n",
       "\n",
       "    .dataframe thead th {\n",
       "        text-align: right;\n",
       "    }\n",
       "</style>\n",
       "<table border=\"1\" class=\"dataframe\">\n",
       "  <thead>\n",
       "    <tr style=\"text-align: right;\">\n",
       "      <th></th>\n",
       "      <th>rollno</th>\n",
       "      <th>name</th>\n",
       "      <th>address</th>\n",
       "      <th>gender</th>\n",
       "      <th>group</th>\n",
       "      <th>session</th>\n",
       "      <th>age</th>\n",
       "      <th>scholarship</th>\n",
       "      <th>machine_learning</th>\n",
       "      <th>data_science</th>\n",
       "      <th>big_data</th>\n",
       "    </tr>\n",
       "  </thead>\n",
       "  <tbody>\n",
       "    <tr>\n",
       "      <th>0</th>\n",
       "      <td>MS01</td>\n",
       "      <td>SAADIA</td>\n",
       "      <td>Lahore</td>\n",
       "      <td>female</td>\n",
       "      <td>group B</td>\n",
       "      <td>MORNING</td>\n",
       "      <td>28</td>\n",
       "      <td>2562</td>\n",
       "      <td>33</td>\n",
       "      <td>72</td>\n",
       "      <td>74</td>\n",
       "    </tr>\n",
       "    <tr>\n",
       "      <th>1</th>\n",
       "      <td>MS02</td>\n",
       "      <td>JUMAIMA</td>\n",
       "      <td>Islamabad</td>\n",
       "      <td>female</td>\n",
       "      <td>group C</td>\n",
       "      <td>AFTERNOON</td>\n",
       "      <td>33</td>\n",
       "      <td>2800</td>\n",
       "      <td>27</td>\n",
       "      <td>90</td>\n",
       "      <td>88</td>\n",
       "    </tr>\n",
       "    <tr>\n",
       "      <th>2</th>\n",
       "      <td>MS03</td>\n",
       "      <td>ARIFA</td>\n",
       "      <td>Karachi</td>\n",
       "      <td>female</td>\n",
       "      <td>group A</td>\n",
       "      <td>EVENING</td>\n",
       "      <td>34</td>\n",
       "      <td>3500</td>\n",
       "      <td>24</td>\n",
       "      <td>95</td>\n",
       "      <td>93</td>\n",
       "    </tr>\n",
       "    <tr>\n",
       "      <th>3</th>\n",
       "      <td>MS04</td>\n",
       "      <td>SAADIA</td>\n",
       "      <td>Lahore</td>\n",
       "      <td>female</td>\n",
       "      <td>group A</td>\n",
       "      <td>MORNING</td>\n",
       "      <td>44</td>\n",
       "      <td>2000</td>\n",
       "      <td>37</td>\n",
       "      <td>57</td>\n",
       "      <td>44</td>\n",
       "    </tr>\n",
       "    <tr>\n",
       "      <th>4</th>\n",
       "      <td>MS05</td>\n",
       "      <td>DANISH</td>\n",
       "      <td>Peshawer</td>\n",
       "      <td>male</td>\n",
       "      <td>group C</td>\n",
       "      <td>AFTERNOON</td>\n",
       "      <td>54</td>\n",
       "      <td>2100</td>\n",
       "      <td>39</td>\n",
       "      <td>78</td>\n",
       "      <td>55</td>\n",
       "    </tr>\n",
       "  </tbody>\n",
       "</table>\n",
       "</div>"
      ],
      "text/plain": [
       "  rollno     name    address  gender    group    session  age  scholarship  \\\n",
       "0   MS01   SAADIA     Lahore  female  group B    MORNING   28         2562   \n",
       "1   MS02  JUMAIMA  Islamabad  female  group C  AFTERNOON   33         2800   \n",
       "2   MS03    ARIFA    Karachi  female  group A    EVENING   34         3500   \n",
       "3   MS04   SAADIA     Lahore  female  group A    MORNING   44         2000   \n",
       "4   MS05   DANISH   Peshawer    male  group C  AFTERNOON   54         2100   \n",
       "\n",
       "   machine_learning  data_science  big_data  \n",
       "0                33            72        74  \n",
       "1                27            90        88  \n",
       "2                24            95        93  \n",
       "3                37            57        44  \n",
       "4                39            78        55  "
      ]
     },
     "execution_count": 39,
     "metadata": {},
     "output_type": "execute_result"
    }
   ],
   "source": [
    "# importing pandas\n",
    "import pandas as pd\n",
    "# import statistics Library\n",
    "import statistics\n",
    "\n",
    "# reading data from csv in pandas dataframe containing marks of different subjects\n",
    "df1 = pd.read_csv(\"dataset/descriptivestatistics-dataset.csv\")\n",
    "df1.head()"
   ]
  },
  {
   "cell_type": "code",
   "execution_count": null,
   "id": "0eb846c8",
   "metadata": {},
   "outputs": [],
   "source": []
  },
  {
   "cell_type": "code",
   "execution_count": 40,
   "id": "95b4f483",
   "metadata": {},
   "outputs": [
    {
     "name": "stdout",
     "output_type": "stream",
     "text": [
      "41.5\n",
      "Median when data points are even:  41\n",
      "Median when data points are even:  42\n"
     ]
    }
   ],
   "source": [
    "# computing median\n",
    "print(statistics.median(df1['machine_learning']))\n",
    "\n",
    "# compute lower median\n",
    "print(\"Median when data points are even: \", statistics.median_low(df1['machine_learning']))\n",
    "\n",
    "# compute higher median\n",
    "print(\"Median when data points are even: \", statistics.median_high(df1['machine_learning']))"
   ]
  },
  {
   "cell_type": "code",
   "execution_count": null,
   "id": "136ef7d7",
   "metadata": {},
   "outputs": [],
   "source": []
  },
  {
   "cell_type": "code",
   "execution_count": null,
   "id": "5b5b5276",
   "metadata": {},
   "outputs": [],
   "source": []
  },
  {
   "cell_type": "code",
   "execution_count": null,
   "id": "d5d12be4",
   "metadata": {},
   "outputs": [],
   "source": []
  },
  {
   "cell_type": "markdown",
   "id": "91654188",
   "metadata": {},
   "source": [
    "<img align=\"centre\" width=\"450\" height=\"650\"  src=\"images/mode2.png\"  >\n",
    "\n",
    "\n",
    "### Mode\n",
    "- `Mode` (most common): The mode is the value that appears most frequently in a data set. There can be more than one modal value in the same variable. Therefore a dataset has no mode, if no category is the same and also possible that a dataset has more than one mode. It is the only measure of central tendency that can be used for categorical variables.\n",
    "\n",
    "- Mode is most useful as a measure of central tendency when examining categorical data, such as models of cars or flavors of ice cream, for which a mathematical average median value based on ordering can not be calculated.\n"
   ]
  },
  {
   "cell_type": "code",
   "execution_count": null,
   "id": "c47d7b66",
   "metadata": {},
   "outputs": [],
   "source": []
  },
  {
   "cell_type": "code",
   "execution_count": null,
   "id": "b80a22f5",
   "metadata": {},
   "outputs": [],
   "source": []
  },
  {
   "cell_type": "code",
   "execution_count": 30,
   "id": "f0882286",
   "metadata": {},
   "outputs": [
    {
     "name": "stdout",
     "output_type": "stream",
     "text": [
      "3\n",
      "red\n",
      "8\n"
     ]
    }
   ],
   "source": [
    "# Import statistics Library\n",
    "import statistics\n",
    "\n",
    "# calculating mode\n",
    "print(statistics.mode([1, 1, 2, 3, 3, 3, 3, 4]))\n",
    "\n",
    "# mode is unique in that it is the only statistic in this package that also applies to nominal (non-numeric) data:\n",
    "print(statistics.mode([\"red\", \"blue\", \"blue\", \"red\", \"green\", \"red\", \"red\"]))\n",
    "\n",
    "# if a dataset has no mode, statistics.mode method returns the first value in dataset\n",
    "print(statistics.mode([8, 2, 3, 4, 5, 6, 7]))"
   ]
  },
  {
   "cell_type": "code",
   "execution_count": null,
   "id": "f4eb7b54",
   "metadata": {},
   "outputs": [],
   "source": []
  },
  {
   "cell_type": "code",
   "execution_count": 37,
   "id": "b59b6df0",
   "metadata": {},
   "outputs": [
    {
     "name": "stdout",
     "output_type": "stream",
     "text": [
      "[1, 3, 6]\n"
     ]
    }
   ],
   "source": [
    "# Import statistics Library\n",
    "import statistics\n",
    "\n",
    "# statistics.multimode method\n",
    "# Return a list of the most frequently occurring values in the order they were first encountered in the data. \n",
    "# Will return more than one result if there are multiple modes\n",
    "\n",
    "print(statistics.multimode([1, 1, 1, 2, 3, 3, 3, 4, 5, 4, 6, 6, 6]))"
   ]
  },
  {
   "cell_type": "code",
   "execution_count": null,
   "id": "d0e7016c",
   "metadata": {},
   "outputs": [],
   "source": []
  },
  {
   "cell_type": "code",
   "execution_count": null,
   "id": "c893baec",
   "metadata": {},
   "outputs": [],
   "source": []
  },
  {
   "cell_type": "code",
   "execution_count": 41,
   "id": "18f4648e",
   "metadata": {},
   "outputs": [
    {
     "data": {
      "text/html": [
       "<div>\n",
       "<style scoped>\n",
       "    .dataframe tbody tr th:only-of-type {\n",
       "        vertical-align: middle;\n",
       "    }\n",
       "\n",
       "    .dataframe tbody tr th {\n",
       "        vertical-align: top;\n",
       "    }\n",
       "\n",
       "    .dataframe thead th {\n",
       "        text-align: right;\n",
       "    }\n",
       "</style>\n",
       "<table border=\"1\" class=\"dataframe\">\n",
       "  <thead>\n",
       "    <tr style=\"text-align: right;\">\n",
       "      <th></th>\n",
       "      <th>rollno</th>\n",
       "      <th>name</th>\n",
       "      <th>address</th>\n",
       "      <th>gender</th>\n",
       "      <th>group</th>\n",
       "      <th>session</th>\n",
       "      <th>age</th>\n",
       "      <th>scholarship</th>\n",
       "      <th>machine_learning</th>\n",
       "      <th>data_science</th>\n",
       "      <th>big_data</th>\n",
       "    </tr>\n",
       "  </thead>\n",
       "  <tbody>\n",
       "    <tr>\n",
       "      <th>0</th>\n",
       "      <td>MS01</td>\n",
       "      <td>SAADIA</td>\n",
       "      <td>Lahore</td>\n",
       "      <td>female</td>\n",
       "      <td>group B</td>\n",
       "      <td>MORNING</td>\n",
       "      <td>28</td>\n",
       "      <td>2562</td>\n",
       "      <td>33</td>\n",
       "      <td>72</td>\n",
       "      <td>74</td>\n",
       "    </tr>\n",
       "    <tr>\n",
       "      <th>1</th>\n",
       "      <td>MS02</td>\n",
       "      <td>JUMAIMA</td>\n",
       "      <td>Islamabad</td>\n",
       "      <td>female</td>\n",
       "      <td>group C</td>\n",
       "      <td>AFTERNOON</td>\n",
       "      <td>33</td>\n",
       "      <td>2800</td>\n",
       "      <td>27</td>\n",
       "      <td>90</td>\n",
       "      <td>88</td>\n",
       "    </tr>\n",
       "    <tr>\n",
       "      <th>2</th>\n",
       "      <td>MS03</td>\n",
       "      <td>ARIFA</td>\n",
       "      <td>Karachi</td>\n",
       "      <td>female</td>\n",
       "      <td>group A</td>\n",
       "      <td>EVENING</td>\n",
       "      <td>34</td>\n",
       "      <td>3500</td>\n",
       "      <td>24</td>\n",
       "      <td>95</td>\n",
       "      <td>93</td>\n",
       "    </tr>\n",
       "    <tr>\n",
       "      <th>3</th>\n",
       "      <td>MS04</td>\n",
       "      <td>SAADIA</td>\n",
       "      <td>Lahore</td>\n",
       "      <td>female</td>\n",
       "      <td>group A</td>\n",
       "      <td>MORNING</td>\n",
       "      <td>44</td>\n",
       "      <td>2000</td>\n",
       "      <td>37</td>\n",
       "      <td>57</td>\n",
       "      <td>44</td>\n",
       "    </tr>\n",
       "    <tr>\n",
       "      <th>4</th>\n",
       "      <td>MS05</td>\n",
       "      <td>DANISH</td>\n",
       "      <td>Peshawer</td>\n",
       "      <td>male</td>\n",
       "      <td>group C</td>\n",
       "      <td>AFTERNOON</td>\n",
       "      <td>54</td>\n",
       "      <td>2100</td>\n",
       "      <td>39</td>\n",
       "      <td>78</td>\n",
       "      <td>55</td>\n",
       "    </tr>\n",
       "  </tbody>\n",
       "</table>\n",
       "</div>"
      ],
      "text/plain": [
       "  rollno     name    address  gender    group    session  age  scholarship  \\\n",
       "0   MS01   SAADIA     Lahore  female  group B    MORNING   28         2562   \n",
       "1   MS02  JUMAIMA  Islamabad  female  group C  AFTERNOON   33         2800   \n",
       "2   MS03    ARIFA    Karachi  female  group A    EVENING   34         3500   \n",
       "3   MS04   SAADIA     Lahore  female  group A    MORNING   44         2000   \n",
       "4   MS05   DANISH   Peshawer    male  group C  AFTERNOON   54         2100   \n",
       "\n",
       "   machine_learning  data_science  big_data  \n",
       "0                33            72        74  \n",
       "1                27            90        88  \n",
       "2                24            95        93  \n",
       "3                37            57        44  \n",
       "4                39            78        55  "
      ]
     },
     "execution_count": 41,
     "metadata": {},
     "output_type": "execute_result"
    }
   ],
   "source": [
    "# importing pandas\n",
    "import pandas as pd\n",
    "# import statistics Library\n",
    "import statistics\n",
    "\n",
    "# reading data from csv in pandas dataframe containing marks of different subjects\n",
    "df1 = pd.read_csv(\"dataset/descriptivestatistics-dataset.csv\")\n",
    "df1.head()"
   ]
  },
  {
   "cell_type": "code",
   "execution_count": null,
   "id": "626f9831",
   "metadata": {},
   "outputs": [],
   "source": []
  },
  {
   "cell_type": "code",
   "execution_count": null,
   "id": "a8ba15b7",
   "metadata": {},
   "outputs": [],
   "source": []
  },
  {
   "cell_type": "code",
   "execution_count": 43,
   "id": "7996d5bb",
   "metadata": {},
   "outputs": [
    {
     "name": "stdout",
     "output_type": "stream",
     "text": [
      "54\n",
      "female\n",
      "[21, 50]\n"
     ]
    }
   ],
   "source": [
    "# compute mode\n",
    "print(statistics.mode(df1['data_science']))\n",
    "\n",
    "# compute mode categorical data\n",
    "print(statistics.mode(df1['gender']))\n",
    "\n",
    "# compute multiple modes\n",
    "print(statistics.multimode(df1['machine_learning']))"
   ]
  },
  {
   "cell_type": "code",
   "execution_count": null,
   "id": "f139b453",
   "metadata": {},
   "outputs": [],
   "source": []
  },
  {
   "cell_type": "code",
   "execution_count": null,
   "id": "18d34572",
   "metadata": {},
   "outputs": [],
   "source": []
  },
  {
   "cell_type": "code",
   "execution_count": null,
   "id": "36a569c8",
   "metadata": {},
   "outputs": [],
   "source": []
  },
  {
   "cell_type": "code",
   "execution_count": null,
   "id": "7a5a74e5",
   "metadata": {},
   "outputs": [],
   "source": []
  },
  {
   "cell_type": "markdown",
   "id": "5cbba4c6",
   "metadata": {},
   "source": [
    "## b. Measures of Spread\n",
    "### Range\n",
    "\n",
    "<img align=\"right\" width=\"250\" height=\"250\"  src=\"images/range2.png\"  >\n",
    "\n",
    "- `Range`: In statistics, the range is the spread of your data from the lowest to the highest value in the distribution, or how much a given data set is stretched out from smallest to largest. It is a commonly used measure of variability/Spread. The range is calculated by subtracting the lowest value from the highest value. While a large range means high variability, a small range means low variability in a distribution.\n",
    "\n",
    "\n",
    "\n",
    "- For example, if you read a biography, and wrote down how many pages you read each day, you could take the range:\n",
    "    - To find the range, put the number of pages in order from least to greatest\n",
    "    - Subtract the smallest value from the greatest value\n",
    "\n",
    "<img align=\"centre\" width=\"250\" height=\"250\"  src=\"images/range1.png\"  >"
   ]
  },
  {
   "cell_type": "code",
   "execution_count": null,
   "id": "f1f5b721",
   "metadata": {},
   "outputs": [],
   "source": []
  },
  {
   "cell_type": "code",
   "execution_count": null,
   "id": "dc8b2e2c",
   "metadata": {},
   "outputs": [],
   "source": []
  },
  {
   "cell_type": "code",
   "execution_count": 1,
   "id": "c224dc0b",
   "metadata": {},
   "outputs": [
    {
     "data": {
      "text/html": [
       "<div>\n",
       "<style scoped>\n",
       "    .dataframe tbody tr th:only-of-type {\n",
       "        vertical-align: middle;\n",
       "    }\n",
       "\n",
       "    .dataframe tbody tr th {\n",
       "        vertical-align: top;\n",
       "    }\n",
       "\n",
       "    .dataframe thead th {\n",
       "        text-align: right;\n",
       "    }\n",
       "</style>\n",
       "<table border=\"1\" class=\"dataframe\">\n",
       "  <thead>\n",
       "    <tr style=\"text-align: right;\">\n",
       "      <th></th>\n",
       "      <th>rollno</th>\n",
       "      <th>name</th>\n",
       "      <th>address</th>\n",
       "      <th>gender</th>\n",
       "      <th>group</th>\n",
       "      <th>session</th>\n",
       "      <th>age</th>\n",
       "      <th>scholarship</th>\n",
       "      <th>machine_learning</th>\n",
       "      <th>data_science</th>\n",
       "      <th>big_data</th>\n",
       "    </tr>\n",
       "  </thead>\n",
       "  <tbody>\n",
       "    <tr>\n",
       "      <th>0</th>\n",
       "      <td>MS01</td>\n",
       "      <td>SAADIA</td>\n",
       "      <td>Lahore</td>\n",
       "      <td>female</td>\n",
       "      <td>group B</td>\n",
       "      <td>MORNING</td>\n",
       "      <td>28</td>\n",
       "      <td>2562</td>\n",
       "      <td>33</td>\n",
       "      <td>72</td>\n",
       "      <td>74</td>\n",
       "    </tr>\n",
       "    <tr>\n",
       "      <th>1</th>\n",
       "      <td>MS02</td>\n",
       "      <td>JUMAIMA</td>\n",
       "      <td>Islamabad</td>\n",
       "      <td>female</td>\n",
       "      <td>group C</td>\n",
       "      <td>AFTERNOON</td>\n",
       "      <td>33</td>\n",
       "      <td>2800</td>\n",
       "      <td>27</td>\n",
       "      <td>90</td>\n",
       "      <td>88</td>\n",
       "    </tr>\n",
       "    <tr>\n",
       "      <th>2</th>\n",
       "      <td>MS03</td>\n",
       "      <td>ARIFA</td>\n",
       "      <td>Karachi</td>\n",
       "      <td>female</td>\n",
       "      <td>group A</td>\n",
       "      <td>EVENING</td>\n",
       "      <td>34</td>\n",
       "      <td>3500</td>\n",
       "      <td>24</td>\n",
       "      <td>95</td>\n",
       "      <td>93</td>\n",
       "    </tr>\n",
       "    <tr>\n",
       "      <th>3</th>\n",
       "      <td>MS04</td>\n",
       "      <td>SAADIA</td>\n",
       "      <td>Lahore</td>\n",
       "      <td>female</td>\n",
       "      <td>group A</td>\n",
       "      <td>MORNING</td>\n",
       "      <td>44</td>\n",
       "      <td>2000</td>\n",
       "      <td>37</td>\n",
       "      <td>57</td>\n",
       "      <td>44</td>\n",
       "    </tr>\n",
       "    <tr>\n",
       "      <th>4</th>\n",
       "      <td>MS05</td>\n",
       "      <td>DANISH</td>\n",
       "      <td>Peshawer</td>\n",
       "      <td>male</td>\n",
       "      <td>group C</td>\n",
       "      <td>AFTERNOON</td>\n",
       "      <td>54</td>\n",
       "      <td>2100</td>\n",
       "      <td>39</td>\n",
       "      <td>78</td>\n",
       "      <td>55</td>\n",
       "    </tr>\n",
       "  </tbody>\n",
       "</table>\n",
       "</div>"
      ],
      "text/plain": [
       "  rollno     name    address  gender    group    session  age  scholarship  \\\n",
       "0   MS01   SAADIA     Lahore  female  group B    MORNING   28         2562   \n",
       "1   MS02  JUMAIMA  Islamabad  female  group C  AFTERNOON   33         2800   \n",
       "2   MS03    ARIFA    Karachi  female  group A    EVENING   34         3500   \n",
       "3   MS04   SAADIA     Lahore  female  group A    MORNING   44         2000   \n",
       "4   MS05   DANISH   Peshawer    male  group C  AFTERNOON   54         2100   \n",
       "\n",
       "   machine_learning  data_science  big_data  \n",
       "0                33            72        74  \n",
       "1                27            90        88  \n",
       "2                24            95        93  \n",
       "3                37            57        44  \n",
       "4                39            78        55  "
      ]
     },
     "execution_count": 1,
     "metadata": {},
     "output_type": "execute_result"
    }
   ],
   "source": [
    "# importing pandas\n",
    "import pandas as pd\n",
    "# import statistics Library\n",
    "import statistics\n",
    "\n",
    "# reading data from csv in pandas dataframe containing marks of different subjects\n",
    "df1 = pd.read_csv(\"dataset/descriptivestatistics-dataset.csv\")\n",
    "df1.head()"
   ]
  },
  {
   "cell_type": "code",
   "execution_count": null,
   "id": "2f29b6c1",
   "metadata": {},
   "outputs": [],
   "source": []
  },
  {
   "cell_type": "code",
   "execution_count": 2,
   "id": "90efee48",
   "metadata": {},
   "outputs": [
    {
     "name": "stdout",
     "output_type": "stream",
     "text": [
      "Minimum Value:  28\n",
      "Maximum Value:  93\n"
     ]
    }
   ],
   "source": [
    "# calculating min and max values \n",
    "\n",
    "# Minimum value of TestScore_1\n",
    "print(\"Minimum Value: \", df1['big_data'].min())\n",
    "\n",
    "# Maximum value of TestScore_1\n",
    "print(\"Maximum Value: \", df1['big_data'].max())"
   ]
  },
  {
   "cell_type": "code",
   "execution_count": null,
   "id": "59e1f79d",
   "metadata": {},
   "outputs": [],
   "source": []
  },
  {
   "cell_type": "code",
   "execution_count": 3,
   "id": "006703ee",
   "metadata": {},
   "outputs": [
    {
     "data": {
      "text/plain": [
       "65"
      ]
     },
     "execution_count": 3,
     "metadata": {},
     "output_type": "execute_result"
    }
   ],
   "source": [
    "# Measuring Range\n",
    "df1['big_data'].max() - df1['big_data'].min()"
   ]
  },
  {
   "cell_type": "code",
   "execution_count": null,
   "id": "403074f2",
   "metadata": {},
   "outputs": [],
   "source": []
  },
  {
   "cell_type": "code",
   "execution_count": null,
   "id": "71d5fd15",
   "metadata": {},
   "outputs": [],
   "source": []
  },
  {
   "cell_type": "markdown",
   "id": "0657d25a",
   "metadata": {},
   "source": [
    "### Inter Quartile Range (IQR)\n",
    "- Quartiles tell us about the spread of a dataset by breaking the dataset into quarters, just like the median breaks it in half. Inter Quartile Range (IQR) is the measure of variability, based on dividing a dataset into quartiles.\n",
    "\n",
    "<img align=\"centre\" width=\"700\" height=\"650\"  src=\"images/iqr.png\"  >\n",
    "\n",
    "\n",
    "- Quartiles divide a rank-ordered dataset into four equal parts, denoted by Q1, Q2, Q3, respectively. While the range measures where the beginning and end of your datapoint are, the interquartile range is a measure of where the majority of the values lie.\n",
    "\n",
    "\n",
    "- To visualize the interquarto high as Q1, Q2, and Q3. The lowest quartile (Q1) covers the smallest quarter of values in your dataset. The upper quartile (Q3) comprises the highest quarter of values. The interquartile range is the middle half of the data that lies between the upper and lower quartiles. In other words, the interquartile range includes the 50% of data points that are above Q1 and below Q4.\n",
    "\n",
    "\n",
    "- When measuring variability, statisticians prefer using the interquartile range instead of the full data range because extreme values and outliers affect it less. Typically, use the IQR with a measure of central tendency, such as the median, to understand your data’s center and spread. This combination creates a fuller picture of your data’s distribution.\n",
    "\n",
    "\n",
    "- Equivalently, the interquartile range is the region between the 75th and 25th percentile (75 – 25 = 50% of the data).\n",
    "\n",
    "\n",
    "- For instance, Divided the dataset below into quartiles (sorted in ascending order). First find out the median of dataset (Q2), which will divide the dataset into two equal halves. Then find out the median for both halves as well (Q1 and Q3). The interquartile range extends from the Q1 value to the Q3 value. For this dataset, the interquartile range is 39 – 20 = 19.\n",
    "\n",
    "<img align=\"centre\" width=\"700\" height=\"750\"  src=\"images/iqr2.png\"  >\n",
    "\n",
    "\n",
    "- So we can say that, the maximum difference in the dataset values for the middle 50% data is 19.\n",
    "\n",
    "\n",
    "<img align=\"right\" width=\"170\" height=\"170\"  src=\"images/incom.png\"  >\n",
    "\n",
    "- In the presence of outliers, the range values can be significantly influenced by them. Hence, we prefer to use the IQR instead as we “ignore” the bottom 25% of the data points and the top 25% of the data points. IQR statistic is more robust with respect to outliers. In the presence of outliers, IQR is a better representation of the amount of spread in the data rather than the range. For example, the 25th percentile (Q1) of annual income in a certain country may be 15,000 dollars per year and the 75th percentile (Q3) may be 120,000 dollars per year. The interquartile range (IQR) would be calculated as 120,000 – 15,000 = 105,000. This means that anyone with an income outside of the following boundaries would be considered an outlier. Someone like Elon Musk who has a net worth in the billions of dollars would be considered an outlier in terms of annual income."
   ]
  },
  {
   "cell_type": "code",
   "execution_count": null,
   "id": "a9c7db73",
   "metadata": {},
   "outputs": [],
   "source": []
  },
  {
   "cell_type": "code",
   "execution_count": null,
   "id": "02b19fda",
   "metadata": {},
   "outputs": [],
   "source": []
  },
  {
   "cell_type": "code",
   "execution_count": 4,
   "id": "fd279e8f",
   "metadata": {},
   "outputs": [
    {
     "data": {
      "text/html": [
       "<div>\n",
       "<style scoped>\n",
       "    .dataframe tbody tr th:only-of-type {\n",
       "        vertical-align: middle;\n",
       "    }\n",
       "\n",
       "    .dataframe tbody tr th {\n",
       "        vertical-align: top;\n",
       "    }\n",
       "\n",
       "    .dataframe thead th {\n",
       "        text-align: right;\n",
       "    }\n",
       "</style>\n",
       "<table border=\"1\" class=\"dataframe\">\n",
       "  <thead>\n",
       "    <tr style=\"text-align: right;\">\n",
       "      <th></th>\n",
       "      <th>rollno</th>\n",
       "      <th>name</th>\n",
       "      <th>address</th>\n",
       "      <th>gender</th>\n",
       "      <th>group</th>\n",
       "      <th>session</th>\n",
       "      <th>age</th>\n",
       "      <th>scholarship</th>\n",
       "      <th>machine_learning</th>\n",
       "      <th>data_science</th>\n",
       "      <th>big_data</th>\n",
       "    </tr>\n",
       "  </thead>\n",
       "  <tbody>\n",
       "    <tr>\n",
       "      <th>0</th>\n",
       "      <td>MS01</td>\n",
       "      <td>SAADIA</td>\n",
       "      <td>Lahore</td>\n",
       "      <td>female</td>\n",
       "      <td>group B</td>\n",
       "      <td>MORNING</td>\n",
       "      <td>28</td>\n",
       "      <td>2562</td>\n",
       "      <td>33</td>\n",
       "      <td>72</td>\n",
       "      <td>74</td>\n",
       "    </tr>\n",
       "    <tr>\n",
       "      <th>1</th>\n",
       "      <td>MS02</td>\n",
       "      <td>JUMAIMA</td>\n",
       "      <td>Islamabad</td>\n",
       "      <td>female</td>\n",
       "      <td>group C</td>\n",
       "      <td>AFTERNOON</td>\n",
       "      <td>33</td>\n",
       "      <td>2800</td>\n",
       "      <td>27</td>\n",
       "      <td>90</td>\n",
       "      <td>88</td>\n",
       "    </tr>\n",
       "    <tr>\n",
       "      <th>2</th>\n",
       "      <td>MS03</td>\n",
       "      <td>ARIFA</td>\n",
       "      <td>Karachi</td>\n",
       "      <td>female</td>\n",
       "      <td>group A</td>\n",
       "      <td>EVENING</td>\n",
       "      <td>34</td>\n",
       "      <td>3500</td>\n",
       "      <td>24</td>\n",
       "      <td>95</td>\n",
       "      <td>93</td>\n",
       "    </tr>\n",
       "    <tr>\n",
       "      <th>3</th>\n",
       "      <td>MS04</td>\n",
       "      <td>SAADIA</td>\n",
       "      <td>Lahore</td>\n",
       "      <td>female</td>\n",
       "      <td>group A</td>\n",
       "      <td>MORNING</td>\n",
       "      <td>44</td>\n",
       "      <td>2000</td>\n",
       "      <td>37</td>\n",
       "      <td>57</td>\n",
       "      <td>44</td>\n",
       "    </tr>\n",
       "    <tr>\n",
       "      <th>4</th>\n",
       "      <td>MS05</td>\n",
       "      <td>DANISH</td>\n",
       "      <td>Peshawer</td>\n",
       "      <td>male</td>\n",
       "      <td>group C</td>\n",
       "      <td>AFTERNOON</td>\n",
       "      <td>54</td>\n",
       "      <td>2100</td>\n",
       "      <td>39</td>\n",
       "      <td>78</td>\n",
       "      <td>55</td>\n",
       "    </tr>\n",
       "  </tbody>\n",
       "</table>\n",
       "</div>"
      ],
      "text/plain": [
       "  rollno     name    address  gender    group    session  age  scholarship  \\\n",
       "0   MS01   SAADIA     Lahore  female  group B    MORNING   28         2562   \n",
       "1   MS02  JUMAIMA  Islamabad  female  group C  AFTERNOON   33         2800   \n",
       "2   MS03    ARIFA    Karachi  female  group A    EVENING   34         3500   \n",
       "3   MS04   SAADIA     Lahore  female  group A    MORNING   44         2000   \n",
       "4   MS05   DANISH   Peshawer    male  group C  AFTERNOON   54         2100   \n",
       "\n",
       "   machine_learning  data_science  big_data  \n",
       "0                33            72        74  \n",
       "1                27            90        88  \n",
       "2                24            95        93  \n",
       "3                37            57        44  \n",
       "4                39            78        55  "
      ]
     },
     "execution_count": 4,
     "metadata": {},
     "output_type": "execute_result"
    }
   ],
   "source": [
    "# importing pandas\n",
    "import pandas as pd\n",
    "# import statistics Library\n",
    "import statistics\n",
    "\n",
    "# reading data from csv in pandas dataframe containing marks of different subjects\n",
    "df1 = pd.read_csv(\"dataset/descriptivestatistics-dataset.csv\")\n",
    "df1.head()"
   ]
  },
  {
   "cell_type": "code",
   "execution_count": null,
   "id": "2126ee1c",
   "metadata": {},
   "outputs": [],
   "source": []
  },
  {
   "cell_type": "code",
   "execution_count": 5,
   "id": "72acc8e1",
   "metadata": {},
   "outputs": [
    {
     "data": {
      "text/plain": [
       "0.25    57.25\n",
       "0.50    70.50\n",
       "0.75    77.25\n",
       "Name: data_science, dtype: float64"
      ]
     },
     "execution_count": 5,
     "metadata": {},
     "output_type": "execute_result"
    }
   ],
   "source": [
    "# measuring quantiles for TestScore_1\n",
    "df1['data_science'].quantile([.25, .5, .75])"
   ]
  },
  {
   "cell_type": "code",
   "execution_count": null,
   "id": "c0cc8c37",
   "metadata": {},
   "outputs": [],
   "source": []
  },
  {
   "cell_type": "code",
   "execution_count": 6,
   "id": "231ec18e",
   "metadata": {},
   "outputs": [
    {
     "data": {
      "text/html": [
       "<div>\n",
       "<style scoped>\n",
       "    .dataframe tbody tr th:only-of-type {\n",
       "        vertical-align: middle;\n",
       "    }\n",
       "\n",
       "    .dataframe tbody tr th {\n",
       "        vertical-align: top;\n",
       "    }\n",
       "\n",
       "    .dataframe thead th {\n",
       "        text-align: right;\n",
       "    }\n",
       "</style>\n",
       "<table border=\"1\" class=\"dataframe\">\n",
       "  <thead>\n",
       "    <tr style=\"text-align: right;\">\n",
       "      <th></th>\n",
       "      <th>Min</th>\n",
       "      <th>Q1</th>\n",
       "      <th>Median</th>\n",
       "      <th>Q3</th>\n",
       "      <th>Max</th>\n",
       "    </tr>\n",
       "    <tr>\n",
       "      <th>5-n summary</th>\n",
       "      <th></th>\n",
       "      <th></th>\n",
       "      <th></th>\n",
       "      <th></th>\n",
       "      <th></th>\n",
       "    </tr>\n",
       "  </thead>\n",
       "  <tbody>\n",
       "    <tr>\n",
       "      <th>data_science</th>\n",
       "      <td>42</td>\n",
       "      <td>57.25</td>\n",
       "      <td>70.5</td>\n",
       "      <td>77.25</td>\n",
       "      <td>95</td>\n",
       "    </tr>\n",
       "  </tbody>\n",
       "</table>\n",
       "</div>"
      ],
      "text/plain": [
       "              Min     Q1  Median     Q3  Max\n",
       "5-n summary                                 \n",
       "data_science   42  57.25    70.5  77.25   95"
      ]
     },
     "execution_count": 6,
     "metadata": {},
     "output_type": "execute_result"
    }
   ],
   "source": [
    "# Visulaize Quartiles using Dataframe\n",
    "\n",
    "# importing required libraries\n",
    "import pandas as pd\n",
    "import matplotlib.pyplot as plt\n",
    "\n",
    "# Create a dataframe and display the 5-n summary stats\n",
    "box = {\"5-n summary\": [\"data_science\"],\n",
    "           \"Min\": [df1.data_science.min()],\n",
    "           \"Q1\": [df1.data_science.quantile(.25)],\n",
    "           \"Median\": [df1.data_science.quantile(.5)],\n",
    "           \"Q3\": [df1.data_science.quantile(.75)],\n",
    "           \"Max\": [df1.data_science.max()]\n",
    "}\n",
    "plot = pd.DataFrame(box, columns=[\"5-n summary\",\"Min\",\"Q1\",\"Median\",\"Q3\",\"Max\"])\n",
    "plot.set_index(\"5-n summary\", inplace=True)\n",
    "plot"
   ]
  },
  {
   "cell_type": "code",
   "execution_count": null,
   "id": "b7666003",
   "metadata": {},
   "outputs": [],
   "source": []
  },
  {
   "cell_type": "code",
   "execution_count": null,
   "id": "8d583241",
   "metadata": {},
   "outputs": [],
   "source": []
  },
  {
   "cell_type": "markdown",
   "id": "33cf4e01",
   "metadata": {},
   "source": [
    "### Variance\n",
    "- `Variance`: The term variance refers to a statistical measurement of the spread between numbers in a data set. More specifically, variance measures how far each number in the set is from the mean and thus from every other number in the set. It tells how much a random variable differs from its expected value. It is used by both analysts and traders to determine volatility and market security.\n",
    "\n",
    "<img align=\"centre\" width=\"300\" height=\"300\"  src=\"images/var1.png\"  >\n",
    "\n",
    "<img align=\"right\" width=\"200\" height=\"200\"  src=\"images/invest.png\"  >\n",
    "\n",
    "- Statisticians use variance to see how individual numbers relate to each other within a data set, rather than using broader mathematical techniques such as arranging numbers into quartiles. The advantage of variance is that it treats all deviations from the mean as the same regardless of their direction.\n",
    "\n",
    "\n",
    "- Investors use variance to see how much risk an investment carries and whether it will be profitable. Variance is also used to compare the relative performance of each asset in a portfolio to achieve the best asset allocation.\n",
    "\n",
    "\n",
    "- One drawback to variance, though, is that it gives added weight to outliers. These are the numbers far from the mean. Squaring these numbers can skew the data.\n",
    "\n",
    "Note: If we are calculating variance for entire population, then formula only n will be included in formula instead of n-1\n",
    "We took square because dispersion can’t be negative as Dispersion is about distance and distance can’t be negative.\n"
   ]
  },
  {
   "cell_type": "code",
   "execution_count": null,
   "id": "a4de853b",
   "metadata": {},
   "outputs": [],
   "source": []
  },
  {
   "cell_type": "code",
   "execution_count": null,
   "id": "46e512ac",
   "metadata": {},
   "outputs": [],
   "source": []
  },
  {
   "cell_type": "code",
   "execution_count": 7,
   "id": "8c4cb1fb",
   "metadata": {},
   "outputs": [
    {
     "data": {
      "text/html": [
       "<div>\n",
       "<style scoped>\n",
       "    .dataframe tbody tr th:only-of-type {\n",
       "        vertical-align: middle;\n",
       "    }\n",
       "\n",
       "    .dataframe tbody tr th {\n",
       "        vertical-align: top;\n",
       "    }\n",
       "\n",
       "    .dataframe thead th {\n",
       "        text-align: right;\n",
       "    }\n",
       "</style>\n",
       "<table border=\"1\" class=\"dataframe\">\n",
       "  <thead>\n",
       "    <tr style=\"text-align: right;\">\n",
       "      <th></th>\n",
       "      <th>rollno</th>\n",
       "      <th>name</th>\n",
       "      <th>address</th>\n",
       "      <th>gender</th>\n",
       "      <th>group</th>\n",
       "      <th>session</th>\n",
       "      <th>age</th>\n",
       "      <th>scholarship</th>\n",
       "      <th>machine_learning</th>\n",
       "      <th>data_science</th>\n",
       "      <th>big_data</th>\n",
       "    </tr>\n",
       "  </thead>\n",
       "  <tbody>\n",
       "    <tr>\n",
       "      <th>0</th>\n",
       "      <td>MS01</td>\n",
       "      <td>SAADIA</td>\n",
       "      <td>Lahore</td>\n",
       "      <td>female</td>\n",
       "      <td>group B</td>\n",
       "      <td>MORNING</td>\n",
       "      <td>28</td>\n",
       "      <td>2562</td>\n",
       "      <td>33</td>\n",
       "      <td>72</td>\n",
       "      <td>74</td>\n",
       "    </tr>\n",
       "    <tr>\n",
       "      <th>1</th>\n",
       "      <td>MS02</td>\n",
       "      <td>JUMAIMA</td>\n",
       "      <td>Islamabad</td>\n",
       "      <td>female</td>\n",
       "      <td>group C</td>\n",
       "      <td>AFTERNOON</td>\n",
       "      <td>33</td>\n",
       "      <td>2800</td>\n",
       "      <td>27</td>\n",
       "      <td>90</td>\n",
       "      <td>88</td>\n",
       "    </tr>\n",
       "    <tr>\n",
       "      <th>2</th>\n",
       "      <td>MS03</td>\n",
       "      <td>ARIFA</td>\n",
       "      <td>Karachi</td>\n",
       "      <td>female</td>\n",
       "      <td>group A</td>\n",
       "      <td>EVENING</td>\n",
       "      <td>34</td>\n",
       "      <td>3500</td>\n",
       "      <td>24</td>\n",
       "      <td>95</td>\n",
       "      <td>93</td>\n",
       "    </tr>\n",
       "    <tr>\n",
       "      <th>3</th>\n",
       "      <td>MS04</td>\n",
       "      <td>SAADIA</td>\n",
       "      <td>Lahore</td>\n",
       "      <td>female</td>\n",
       "      <td>group A</td>\n",
       "      <td>MORNING</td>\n",
       "      <td>44</td>\n",
       "      <td>2000</td>\n",
       "      <td>37</td>\n",
       "      <td>57</td>\n",
       "      <td>44</td>\n",
       "    </tr>\n",
       "    <tr>\n",
       "      <th>4</th>\n",
       "      <td>MS05</td>\n",
       "      <td>DANISH</td>\n",
       "      <td>Peshawer</td>\n",
       "      <td>male</td>\n",
       "      <td>group C</td>\n",
       "      <td>AFTERNOON</td>\n",
       "      <td>54</td>\n",
       "      <td>2100</td>\n",
       "      <td>39</td>\n",
       "      <td>78</td>\n",
       "      <td>55</td>\n",
       "    </tr>\n",
       "  </tbody>\n",
       "</table>\n",
       "</div>"
      ],
      "text/plain": [
       "  rollno     name    address  gender    group    session  age  scholarship  \\\n",
       "0   MS01   SAADIA     Lahore  female  group B    MORNING   28         2562   \n",
       "1   MS02  JUMAIMA  Islamabad  female  group C  AFTERNOON   33         2800   \n",
       "2   MS03    ARIFA    Karachi  female  group A    EVENING   34         3500   \n",
       "3   MS04   SAADIA     Lahore  female  group A    MORNING   44         2000   \n",
       "4   MS05   DANISH   Peshawer    male  group C  AFTERNOON   54         2100   \n",
       "\n",
       "   machine_learning  data_science  big_data  \n",
       "0                33            72        74  \n",
       "1                27            90        88  \n",
       "2                24            95        93  \n",
       "3                37            57        44  \n",
       "4                39            78        55  "
      ]
     },
     "execution_count": 7,
     "metadata": {},
     "output_type": "execute_result"
    }
   ],
   "source": [
    "# importing pandas\n",
    "import pandas as pd\n",
    "# import statistics Library\n",
    "import statistics\n",
    "\n",
    "# reading data from csv in pandas dataframe containing marks of different subjects\n",
    "df1 = pd.read_csv(\"dataset/descriptivestatistics-dataset.csv\")\n",
    "df1.head()"
   ]
  },
  {
   "cell_type": "code",
   "execution_count": null,
   "id": "412e9fec",
   "metadata": {},
   "outputs": [],
   "source": []
  },
  {
   "cell_type": "code",
   "execution_count": 8,
   "id": "dcfbec95",
   "metadata": {},
   "outputs": [
    {
     "name": "stdout",
     "output_type": "stream",
     "text": [
      "Machine Learning:  350.53061224489795\n",
      "Data Science:  182.53061224489795\n",
      "Big Data:  221.38938775510204\n"
     ]
    }
   ],
   "source": [
    "# calculating variance\n",
    "\n",
    "print(\"Machine Learning: \", statistics.variance(df1['machine_learning']))\n",
    "print(\"Data Science: \", statistics.variance(df1['data_science']))\n",
    "print(\"Big Data: \", statistics.variance(df1['big_data']))"
   ]
  },
  {
   "cell_type": "code",
   "execution_count": null,
   "id": "55511bde",
   "metadata": {},
   "outputs": [],
   "source": []
  },
  {
   "cell_type": "code",
   "execution_count": null,
   "id": "1c0202f3",
   "metadata": {},
   "outputs": [],
   "source": []
  },
  {
   "cell_type": "code",
   "execution_count": null,
   "id": "2644fdbf",
   "metadata": {},
   "outputs": [],
   "source": []
  },
  {
   "cell_type": "markdown",
   "id": "f7eebdcc",
   "metadata": {},
   "source": [
    "### Standard Deviation\n",
    "-`Standard Deviation`: Deviation is the difference between each element from the mean. Because of squared values, variance gives extra weight to outliers, for that reason we find out the square root of variance. Larger standard deviations shows the larger spread.\n",
    "\n",
    "<img align=\"centre\" width=\"600\" height=\"750\"  src=\"images/std.png\"  >\n",
    "\n",
    "- Low standard deviation implies that most values are close to the mean. High standard deviation suggests that the values are more broadly spread out.\n",
    "\n",
    "<img align=\"right\" width=\"200\" height=\"200\"  src=\"images/weather.png\"  >\n",
    "\n",
    "- Standard deviation is widely used in weather forecasting to understand how much variation exists in daily and monthly temperatures in different cities.\n",
    "\n",
    "\n",
    "    - A weatherman who works in a city with a small standard deviation in temperatures year-round can confidently predict what the weather will be on a given day since temperatures don’t vary much from one day to the next.\n",
    "    \n",
    "    - A weatherman who works in a city with a high standard deviation in temperatures will be less confident in his predictions because there is much more variation in temperatures from one day to the next.\n"
   ]
  },
  {
   "cell_type": "code",
   "execution_count": null,
   "id": "6e5b380e",
   "metadata": {},
   "outputs": [],
   "source": []
  },
  {
   "cell_type": "code",
   "execution_count": null,
   "id": "77351c8f",
   "metadata": {},
   "outputs": [],
   "source": []
  },
  {
   "cell_type": "code",
   "execution_count": 9,
   "id": "c7b25671",
   "metadata": {},
   "outputs": [
    {
     "data": {
      "text/html": [
       "<div>\n",
       "<style scoped>\n",
       "    .dataframe tbody tr th:only-of-type {\n",
       "        vertical-align: middle;\n",
       "    }\n",
       "\n",
       "    .dataframe tbody tr th {\n",
       "        vertical-align: top;\n",
       "    }\n",
       "\n",
       "    .dataframe thead th {\n",
       "        text-align: right;\n",
       "    }\n",
       "</style>\n",
       "<table border=\"1\" class=\"dataframe\">\n",
       "  <thead>\n",
       "    <tr style=\"text-align: right;\">\n",
       "      <th></th>\n",
       "      <th>rollno</th>\n",
       "      <th>name</th>\n",
       "      <th>address</th>\n",
       "      <th>gender</th>\n",
       "      <th>group</th>\n",
       "      <th>session</th>\n",
       "      <th>age</th>\n",
       "      <th>scholarship</th>\n",
       "      <th>machine_learning</th>\n",
       "      <th>data_science</th>\n",
       "      <th>big_data</th>\n",
       "    </tr>\n",
       "  </thead>\n",
       "  <tbody>\n",
       "    <tr>\n",
       "      <th>0</th>\n",
       "      <td>MS01</td>\n",
       "      <td>SAADIA</td>\n",
       "      <td>Lahore</td>\n",
       "      <td>female</td>\n",
       "      <td>group B</td>\n",
       "      <td>MORNING</td>\n",
       "      <td>28</td>\n",
       "      <td>2562</td>\n",
       "      <td>33</td>\n",
       "      <td>72</td>\n",
       "      <td>74</td>\n",
       "    </tr>\n",
       "    <tr>\n",
       "      <th>1</th>\n",
       "      <td>MS02</td>\n",
       "      <td>JUMAIMA</td>\n",
       "      <td>Islamabad</td>\n",
       "      <td>female</td>\n",
       "      <td>group C</td>\n",
       "      <td>AFTERNOON</td>\n",
       "      <td>33</td>\n",
       "      <td>2800</td>\n",
       "      <td>27</td>\n",
       "      <td>90</td>\n",
       "      <td>88</td>\n",
       "    </tr>\n",
       "    <tr>\n",
       "      <th>2</th>\n",
       "      <td>MS03</td>\n",
       "      <td>ARIFA</td>\n",
       "      <td>Karachi</td>\n",
       "      <td>female</td>\n",
       "      <td>group A</td>\n",
       "      <td>EVENING</td>\n",
       "      <td>34</td>\n",
       "      <td>3500</td>\n",
       "      <td>24</td>\n",
       "      <td>95</td>\n",
       "      <td>93</td>\n",
       "    </tr>\n",
       "    <tr>\n",
       "      <th>3</th>\n",
       "      <td>MS04</td>\n",
       "      <td>SAADIA</td>\n",
       "      <td>Lahore</td>\n",
       "      <td>female</td>\n",
       "      <td>group A</td>\n",
       "      <td>MORNING</td>\n",
       "      <td>44</td>\n",
       "      <td>2000</td>\n",
       "      <td>37</td>\n",
       "      <td>57</td>\n",
       "      <td>44</td>\n",
       "    </tr>\n",
       "    <tr>\n",
       "      <th>4</th>\n",
       "      <td>MS05</td>\n",
       "      <td>DANISH</td>\n",
       "      <td>Peshawer</td>\n",
       "      <td>male</td>\n",
       "      <td>group C</td>\n",
       "      <td>AFTERNOON</td>\n",
       "      <td>54</td>\n",
       "      <td>2100</td>\n",
       "      <td>39</td>\n",
       "      <td>78</td>\n",
       "      <td>55</td>\n",
       "    </tr>\n",
       "  </tbody>\n",
       "</table>\n",
       "</div>"
      ],
      "text/plain": [
       "  rollno     name    address  gender    group    session  age  scholarship  \\\n",
       "0   MS01   SAADIA     Lahore  female  group B    MORNING   28         2562   \n",
       "1   MS02  JUMAIMA  Islamabad  female  group C  AFTERNOON   33         2800   \n",
       "2   MS03    ARIFA    Karachi  female  group A    EVENING   34         3500   \n",
       "3   MS04   SAADIA     Lahore  female  group A    MORNING   44         2000   \n",
       "4   MS05   DANISH   Peshawer    male  group C  AFTERNOON   54         2100   \n",
       "\n",
       "   machine_learning  data_science  big_data  \n",
       "0                33            72        74  \n",
       "1                27            90        88  \n",
       "2                24            95        93  \n",
       "3                37            57        44  \n",
       "4                39            78        55  "
      ]
     },
     "execution_count": 9,
     "metadata": {},
     "output_type": "execute_result"
    }
   ],
   "source": [
    "# importing pandas\n",
    "import pandas as pd\n",
    "# import statistics Library\n",
    "import statistics\n",
    "\n",
    "# reading data from csv in pandas dataframe containing marks of different subjects\n",
    "df1 = pd.read_csv(\"dataset/descriptivestatistics-dataset.csv\")\n",
    "df1.head()"
   ]
  },
  {
   "cell_type": "code",
   "execution_count": null,
   "id": "5f39e8f0",
   "metadata": {},
   "outputs": [],
   "source": []
  },
  {
   "cell_type": "code",
   "execution_count": 10,
   "id": "35b5b3e8",
   "metadata": {},
   "outputs": [
    {
     "name": "stdout",
     "output_type": "stream",
     "text": [
      "Machine Learning:  18.53429254112495\n",
      "Data Science:  13.37460279784039\n",
      "Big Data:  14.729616424062101\n"
     ]
    }
   ],
   "source": [
    "# calculating standard deviation\n",
    "\n",
    "print(\"Machine Learning: \", statistics.pstdev(df1['machine_learning']))\n",
    "print(\"Data Science: \", statistics.pstdev(df1['data_science']))\n",
    "print(\"Big Data: \", statistics.pstdev(df1['big_data']))"
   ]
  },
  {
   "cell_type": "code",
   "execution_count": null,
   "id": "41a57bb3",
   "metadata": {},
   "outputs": [],
   "source": []
  },
  {
   "cell_type": "code",
   "execution_count": null,
   "id": "2b4ae9dd",
   "metadata": {},
   "outputs": [],
   "source": []
  },
  {
   "cell_type": "code",
   "execution_count": null,
   "id": "bb38cc54",
   "metadata": {},
   "outputs": [],
   "source": []
  },
  {
   "cell_type": "code",
   "execution_count": null,
   "id": "326c631a",
   "metadata": {},
   "outputs": [],
   "source": []
  },
  {
   "cell_type": "markdown",
   "id": "32d99807",
   "metadata": {},
   "source": [
    "## c. Measures of Asymmetry\n",
    "- `Asymmetrical vs. Symmetrical Distribution`: A fundamental task in many statistical analyses is to characterize the distribution and variability of a data set. Symmetrical distribution occurs when the values of variables appear at predictable frequencies and the mean, median, and mode occur at the same points. The bell curve is a classic example of symmetrical distribution. If you were to draw a line down the middle of the curve, the left and right sides would be mirror images of each other.\n",
    "\n",
    "<img align=\"centre\" width=\"400\" height=\"750\"  src=\"images/curve.png\"  >\n",
    "\n",
    "- The bell curve is a common type of graph showing data distribution. Stock market returns sometimes resemble bell curves, making it convenient for investors to analyze them for probability distribution patterns of an asset's returns.\n",
    "\n",
    "\n",
    "- Asymmetrical distribution occurs when the distribution of investment returns is not symmetric. **Skewness** is a measure of asymmetry or distortion of symmetric distribution. \n",
    "\n",
    "   "
   ]
  },
  {
   "cell_type": "code",
   "execution_count": null,
   "id": "0bce2f4f",
   "metadata": {},
   "outputs": [],
   "source": []
  },
  {
   "cell_type": "code",
   "execution_count": null,
   "id": "671ffb9b",
   "metadata": {},
   "outputs": [],
   "source": []
  },
  {
   "cell_type": "markdown",
   "id": "8fe84b04",
   "metadata": {},
   "source": [
    "### Skewness\n",
    "- `Skewness`: In simple words, skewness is the measure of how much the probability distribution of a random variable deviates from the normal distribution. The skewness for a normal distribution is zero, and any symmetric data should have a skewness near zero.\n",
    "\n",
    "\n",
    "    1. Positive Skewness: If the given distribution is shifted to the left and with its tail on the right side, it is a positively skewed distribution. It is also called the right-skewed distribution. As the name suggests, a positively skewed distribution assumes a skewness value of more than zero. Since the skewness of the given distribution is on the right, the mean value is greater than the median and moves towards the right, and the mode occurs at the highest frequency of the distribution.\n",
    "    \n",
    "    \n",
    "    \n",
    "<img align=\"centre\" width=\"450\" height=\"750\"  src=\"images/right.png\"  >    \n",
    "    \n",
    "    \n",
    "    2. Negative Skewness: If the given distribution is shifted to the right and with its tail on the left side, it is a negatively skewed distribution. It is also called a left-skewed distribution. The skewness value of any distribution showing a negative skew is always less than zero. The skewness of the given distribution is on the left; hence, the mean value is less than the median and moves towards the left, and the mode occurs at the highest frequency of the distribution.\n",
    "    \n",
    "    \n",
    "<img align=\"centre\" width=\"450\" height=\"750\"  src=\"images/left.png\"  >  \n",
    "\n",
    "\n",
    "- `Measuring Skewness`: Skewness can be measured using several methods; however, `Pearson mode skewness` and `Pearson median skewness` are the two frequently used methods. The Pearson mode skewness is used when a strong mode is exhibited by the sample data. If the data includes multiple modes or a weak mode, Pearson’s median skewness is used. The formula for Pearson mode skewness:\n",
    "\n",
    "<img align=\"centre\" width=\"450\" height=\"750\"  src=\"images/mod.png\"  >\n",
    "\n",
    "\n",
    "The formula for Person median skewness:\n",
    "\n",
    "\n",
    "<img align=\"centre\" width=\"450\" height=\"750\"  src=\"images/medi.png\"  >\n",
    "\n",
    "\n",
    "- Cricket score is one of the best examples of skewed distribution. Let us say that during a match, most of the players of a particular team scored runs above 50, and only a few of them scored below 10. In such a case, the data is generally represented with the help of a negatively skewed distribution. Similarly, a positively skewed distribution can be used if most of the players of a particular team score badly during a match, and only a few of them tend to perform well.\n",
    "\n",
    "\n",
    "\n",
    "**Note**:\n",
    "- **Symmetrical** (median = mean): In a normal distribution, the mean (average) divides the data symmetrically at the median value or close.\n",
    "- **Positive skew** (median < mean): The distribution is asymmetrical, the tail is skewed/longer towards the right-hand side of the curve. In this type, the majority of the observations are concentrated on the left tail, and the value of skewness is positive.\n",
    "- **Negative skew** (median > mean): The distribution is asymmetrical and the tail is skewed/longer towards the left-hand side of the curve. In this type of distribution, the majority of the observations are concentrated on the right tail, and the value of skewness is negative.\n",
    "\n",
    "\n",
    "**Rule of thumb**:\n",
    "\n",
    "- Symmetric distribution: values between -0.5 to 0.5.\n",
    "- Moderate skew: values between -1 and -0.5 and 0.5 and 1.\n",
    "- High skew: values <-1 or >1."
   ]
  },
  {
   "cell_type": "code",
   "execution_count": null,
   "id": "5b846659",
   "metadata": {},
   "outputs": [],
   "source": []
  },
  {
   "cell_type": "code",
   "execution_count": null,
   "id": "d1dbd14c",
   "metadata": {},
   "outputs": [],
   "source": []
  },
  {
   "cell_type": "code",
   "execution_count": 11,
   "id": "5ed80391",
   "metadata": {},
   "outputs": [
    {
     "data": {
      "text/html": [
       "<div>\n",
       "<style scoped>\n",
       "    .dataframe tbody tr th:only-of-type {\n",
       "        vertical-align: middle;\n",
       "    }\n",
       "\n",
       "    .dataframe tbody tr th {\n",
       "        vertical-align: top;\n",
       "    }\n",
       "\n",
       "    .dataframe thead th {\n",
       "        text-align: right;\n",
       "    }\n",
       "</style>\n",
       "<table border=\"1\" class=\"dataframe\">\n",
       "  <thead>\n",
       "    <tr style=\"text-align: right;\">\n",
       "      <th></th>\n",
       "      <th>rollno</th>\n",
       "      <th>name</th>\n",
       "      <th>address</th>\n",
       "      <th>gender</th>\n",
       "      <th>group</th>\n",
       "      <th>session</th>\n",
       "      <th>age</th>\n",
       "      <th>scholarship</th>\n",
       "      <th>machine_learning</th>\n",
       "      <th>data_science</th>\n",
       "      <th>big_data</th>\n",
       "    </tr>\n",
       "  </thead>\n",
       "  <tbody>\n",
       "    <tr>\n",
       "      <th>0</th>\n",
       "      <td>MS01</td>\n",
       "      <td>SAADIA</td>\n",
       "      <td>Lahore</td>\n",
       "      <td>female</td>\n",
       "      <td>group B</td>\n",
       "      <td>MORNING</td>\n",
       "      <td>28</td>\n",
       "      <td>2562</td>\n",
       "      <td>33</td>\n",
       "      <td>72</td>\n",
       "      <td>74</td>\n",
       "    </tr>\n",
       "    <tr>\n",
       "      <th>1</th>\n",
       "      <td>MS02</td>\n",
       "      <td>JUMAIMA</td>\n",
       "      <td>Islamabad</td>\n",
       "      <td>female</td>\n",
       "      <td>group C</td>\n",
       "      <td>AFTERNOON</td>\n",
       "      <td>33</td>\n",
       "      <td>2800</td>\n",
       "      <td>27</td>\n",
       "      <td>90</td>\n",
       "      <td>88</td>\n",
       "    </tr>\n",
       "    <tr>\n",
       "      <th>2</th>\n",
       "      <td>MS03</td>\n",
       "      <td>ARIFA</td>\n",
       "      <td>Karachi</td>\n",
       "      <td>female</td>\n",
       "      <td>group A</td>\n",
       "      <td>EVENING</td>\n",
       "      <td>34</td>\n",
       "      <td>3500</td>\n",
       "      <td>24</td>\n",
       "      <td>95</td>\n",
       "      <td>93</td>\n",
       "    </tr>\n",
       "    <tr>\n",
       "      <th>3</th>\n",
       "      <td>MS04</td>\n",
       "      <td>SAADIA</td>\n",
       "      <td>Lahore</td>\n",
       "      <td>female</td>\n",
       "      <td>group A</td>\n",
       "      <td>MORNING</td>\n",
       "      <td>44</td>\n",
       "      <td>2000</td>\n",
       "      <td>37</td>\n",
       "      <td>57</td>\n",
       "      <td>44</td>\n",
       "    </tr>\n",
       "    <tr>\n",
       "      <th>4</th>\n",
       "      <td>MS05</td>\n",
       "      <td>DANISH</td>\n",
       "      <td>Peshawer</td>\n",
       "      <td>male</td>\n",
       "      <td>group C</td>\n",
       "      <td>AFTERNOON</td>\n",
       "      <td>54</td>\n",
       "      <td>2100</td>\n",
       "      <td>39</td>\n",
       "      <td>78</td>\n",
       "      <td>55</td>\n",
       "    </tr>\n",
       "  </tbody>\n",
       "</table>\n",
       "</div>"
      ],
      "text/plain": [
       "  rollno     name    address  gender    group    session  age  scholarship  \\\n",
       "0   MS01   SAADIA     Lahore  female  group B    MORNING   28         2562   \n",
       "1   MS02  JUMAIMA  Islamabad  female  group C  AFTERNOON   33         2800   \n",
       "2   MS03    ARIFA    Karachi  female  group A    EVENING   34         3500   \n",
       "3   MS04   SAADIA     Lahore  female  group A    MORNING   44         2000   \n",
       "4   MS05   DANISH   Peshawer    male  group C  AFTERNOON   54         2100   \n",
       "\n",
       "   machine_learning  data_science  big_data  \n",
       "0                33            72        74  \n",
       "1                27            90        88  \n",
       "2                24            95        93  \n",
       "3                37            57        44  \n",
       "4                39            78        55  "
      ]
     },
     "execution_count": 11,
     "metadata": {},
     "output_type": "execute_result"
    }
   ],
   "source": [
    "# importing pandas\n",
    "import pandas as pd\n",
    "# import statistics Library\n",
    "import statistics\n",
    "\n",
    "# reading data from csv in pandas dataframe containing marks of different subjects\n",
    "df1 = pd.read_csv(\"dataset/descriptivestatistics-dataset.csv\")\n",
    "df1.head()"
   ]
  },
  {
   "cell_type": "code",
   "execution_count": null,
   "id": "f59b4c04",
   "metadata": {},
   "outputs": [],
   "source": []
  },
  {
   "cell_type": "markdown",
   "id": "c5eacaf7",
   "metadata": {},
   "source": [
    "### Skew method\n",
    "`dataframe.skew() function return unbiased skew over requested axis`\n",
    "\n",
    "- DataFrame.skew(axis=None, skipna=None)\n",
    "       - axis : {index (0), columns (1)}\n",
    "       - skipna : Exclude NA/null values when computing the result. "
   ]
  },
  {
   "cell_type": "code",
   "execution_count": null,
   "id": "eb479f23",
   "metadata": {},
   "outputs": [],
   "source": []
  },
  {
   "cell_type": "code",
   "execution_count": 13,
   "id": "029342d8",
   "metadata": {},
   "outputs": [
    {
     "data": {
      "text/plain": [
       "0.9605125063118147"
      ]
     },
     "execution_count": 13,
     "metadata": {},
     "output_type": "execute_result"
    }
   ],
   "source": [
    "# calculating skewness for machine learning\n",
    "df1['machine_learning'].skew(axis = 0, skipna = True)"
   ]
  },
  {
   "cell_type": "code",
   "execution_count": null,
   "id": "784d0ab2",
   "metadata": {},
   "outputs": [],
   "source": []
  },
  {
   "cell_type": "code",
   "execution_count": 12,
   "id": "4cce4a60",
   "metadata": {},
   "outputs": [
    {
     "data": {
      "text/plain": [
       "age                 0.557993\n",
       "scholarship         0.149055\n",
       "machine_learning    0.960513\n",
       "data_science       -0.056843\n",
       "big_data           -0.277111\n",
       "dtype: float64"
      ]
     },
     "execution_count": 12,
     "metadata": {},
     "output_type": "execute_result"
    }
   ],
   "source": [
    "# calculating skewness for dataframe\n",
    "df1.skew(axis = 0, skipna = True)"
   ]
  },
  {
   "cell_type": "code",
   "execution_count": null,
   "id": "272ec3ea",
   "metadata": {},
   "outputs": [],
   "source": []
  },
  {
   "cell_type": "code",
   "execution_count": null,
   "id": "cd7f8ee7",
   "metadata": {},
   "outputs": [],
   "source": []
  },
  {
   "cell_type": "markdown",
   "id": "c809c6da",
   "metadata": {},
   "source": [
    "### Kurtosis\n",
    "- `Kurtosis`: Kurtosis refers to the degree of presence of outliers in the distribution. Kurtosis is a statistical measure, whether the data is heavy-tailed or light-tailed in a normal distribution. That is, data sets with high kurtosis tend to have heavy tails, or outliers. Data sets with low kurtosis tend to have light tails, or lack of outliers.\n",
    "\n",
    "\n",
    "<img align=\"centre\" width=\"500\" height=\"750\"  src=\"images/kurt.png\"  >\n",
    "\n",
    "\n",
    "- Kurtosis is another useful tool when it comes to quantify the shape of a distribution. It measures both how long are the tails, but most important, and how sharp is the peak of the distributions. If the distribution has a sharper and taller peak and shorter tails, then it has a higher kurtosis while a low kurtosis can be observed when the peak of the distribution is flatter with thinner tails. There are three types of kurtosis:\n",
    "\n",
    "\n",
    "- **Leptokurtic**: The distribution is tall and thin. The value of a leptokurtic must be > 3.\n",
    "- **Mesokurtic**: This distribution looks the same or very similar to a normal distribution. The value of a “normal” mesokurtic is = 3.\n",
    "- **Platykurtic**: The distributions have a flatter and wider peak and thinner tails, meaning that the data is moderately spread out. The value of a platykurtic must be < 3.\n",
    "\n",
    "\n",
    "- In finance, kurtosis is used as a measure of financial risk. A large kurtosis is associated with a high level of risk for an investment because it indicates that there are high probabilities of extremely large and extremely small returns.\n",
    "\n",
    "\n",
    "- The main difference between skewness and kurtosis is that the skewness refers to the degree of symmetry, whereas the kurtosis refers to the degree of presence of outliers in the distribution."
   ]
  },
  {
   "cell_type": "code",
   "execution_count": null,
   "id": "86bcdc61",
   "metadata": {},
   "outputs": [],
   "source": []
  },
  {
   "cell_type": "code",
   "execution_count": null,
   "id": "ca1b6f4c",
   "metadata": {},
   "outputs": [],
   "source": []
  },
  {
   "cell_type": "code",
   "execution_count": 14,
   "id": "19885a51",
   "metadata": {},
   "outputs": [
    {
     "data": {
      "text/html": [
       "<div>\n",
       "<style scoped>\n",
       "    .dataframe tbody tr th:only-of-type {\n",
       "        vertical-align: middle;\n",
       "    }\n",
       "\n",
       "    .dataframe tbody tr th {\n",
       "        vertical-align: top;\n",
       "    }\n",
       "\n",
       "    .dataframe thead th {\n",
       "        text-align: right;\n",
       "    }\n",
       "</style>\n",
       "<table border=\"1\" class=\"dataframe\">\n",
       "  <thead>\n",
       "    <tr style=\"text-align: right;\">\n",
       "      <th></th>\n",
       "      <th>rollno</th>\n",
       "      <th>name</th>\n",
       "      <th>address</th>\n",
       "      <th>gender</th>\n",
       "      <th>group</th>\n",
       "      <th>session</th>\n",
       "      <th>age</th>\n",
       "      <th>scholarship</th>\n",
       "      <th>machine_learning</th>\n",
       "      <th>data_science</th>\n",
       "      <th>big_data</th>\n",
       "    </tr>\n",
       "  </thead>\n",
       "  <tbody>\n",
       "    <tr>\n",
       "      <th>0</th>\n",
       "      <td>MS01</td>\n",
       "      <td>SAADIA</td>\n",
       "      <td>Lahore</td>\n",
       "      <td>female</td>\n",
       "      <td>group B</td>\n",
       "      <td>MORNING</td>\n",
       "      <td>28</td>\n",
       "      <td>2562</td>\n",
       "      <td>33</td>\n",
       "      <td>72</td>\n",
       "      <td>74</td>\n",
       "    </tr>\n",
       "    <tr>\n",
       "      <th>1</th>\n",
       "      <td>MS02</td>\n",
       "      <td>JUMAIMA</td>\n",
       "      <td>Islamabad</td>\n",
       "      <td>female</td>\n",
       "      <td>group C</td>\n",
       "      <td>AFTERNOON</td>\n",
       "      <td>33</td>\n",
       "      <td>2800</td>\n",
       "      <td>27</td>\n",
       "      <td>90</td>\n",
       "      <td>88</td>\n",
       "    </tr>\n",
       "    <tr>\n",
       "      <th>2</th>\n",
       "      <td>MS03</td>\n",
       "      <td>ARIFA</td>\n",
       "      <td>Karachi</td>\n",
       "      <td>female</td>\n",
       "      <td>group A</td>\n",
       "      <td>EVENING</td>\n",
       "      <td>34</td>\n",
       "      <td>3500</td>\n",
       "      <td>24</td>\n",
       "      <td>95</td>\n",
       "      <td>93</td>\n",
       "    </tr>\n",
       "    <tr>\n",
       "      <th>3</th>\n",
       "      <td>MS04</td>\n",
       "      <td>SAADIA</td>\n",
       "      <td>Lahore</td>\n",
       "      <td>female</td>\n",
       "      <td>group A</td>\n",
       "      <td>MORNING</td>\n",
       "      <td>44</td>\n",
       "      <td>2000</td>\n",
       "      <td>37</td>\n",
       "      <td>57</td>\n",
       "      <td>44</td>\n",
       "    </tr>\n",
       "    <tr>\n",
       "      <th>4</th>\n",
       "      <td>MS05</td>\n",
       "      <td>DANISH</td>\n",
       "      <td>Peshawer</td>\n",
       "      <td>male</td>\n",
       "      <td>group C</td>\n",
       "      <td>AFTERNOON</td>\n",
       "      <td>54</td>\n",
       "      <td>2100</td>\n",
       "      <td>39</td>\n",
       "      <td>78</td>\n",
       "      <td>55</td>\n",
       "    </tr>\n",
       "  </tbody>\n",
       "</table>\n",
       "</div>"
      ],
      "text/plain": [
       "  rollno     name    address  gender    group    session  age  scholarship  \\\n",
       "0   MS01   SAADIA     Lahore  female  group B    MORNING   28         2562   \n",
       "1   MS02  JUMAIMA  Islamabad  female  group C  AFTERNOON   33         2800   \n",
       "2   MS03    ARIFA    Karachi  female  group A    EVENING   34         3500   \n",
       "3   MS04   SAADIA     Lahore  female  group A    MORNING   44         2000   \n",
       "4   MS05   DANISH   Peshawer    male  group C  AFTERNOON   54         2100   \n",
       "\n",
       "   machine_learning  data_science  big_data  \n",
       "0                33            72        74  \n",
       "1                27            90        88  \n",
       "2                24            95        93  \n",
       "3                37            57        44  \n",
       "4                39            78        55  "
      ]
     },
     "execution_count": 14,
     "metadata": {},
     "output_type": "execute_result"
    }
   ],
   "source": [
    "# importing pandas\n",
    "import pandas as pd\n",
    "# import statistics Library\n",
    "import statistics\n",
    "\n",
    "# reading data from csv in pandas dataframe containing marks of different subjects\n",
    "df1 = pd.read_csv(\"dataset/descriptivestatistics-dataset.csv\")\n",
    "df1.head()"
   ]
  },
  {
   "cell_type": "code",
   "execution_count": null,
   "id": "4a0ba98c",
   "metadata": {},
   "outputs": [],
   "source": []
  },
  {
   "cell_type": "code",
   "execution_count": null,
   "id": "814a5357",
   "metadata": {},
   "outputs": [],
   "source": []
  },
  {
   "cell_type": "markdown",
   "id": "588edd80",
   "metadata": {},
   "source": [
    "### kurt method\n",
    "`kurt() function return unbiased kurtosis over requested axis`\n",
    "\n",
    "- kurt(axis=None, skipna=None)\n",
    "    - axis : Axis for the function to be applied on\n",
    "    - skipna : Exclude NA/null values when computing the result."
   ]
  },
  {
   "cell_type": "code",
   "execution_count": null,
   "id": "650d83f9",
   "metadata": {},
   "outputs": [],
   "source": []
  },
  {
   "cell_type": "code",
   "execution_count": 16,
   "id": "ef3bb4b5",
   "metadata": {},
   "outputs": [
    {
     "data": {
      "text/plain": [
       "-0.34261726915040347"
      ]
     },
     "execution_count": 16,
     "metadata": {},
     "output_type": "execute_result"
    }
   ],
   "source": [
    "# calculating curtosis for Big Data\n",
    "df1['big_data'].kurt()"
   ]
  },
  {
   "cell_type": "code",
   "execution_count": null,
   "id": "2361707f",
   "metadata": {},
   "outputs": [],
   "source": []
  },
  {
   "cell_type": "code",
   "execution_count": 15,
   "id": "dc03c7ea",
   "metadata": {},
   "outputs": [
    {
     "data": {
      "text/plain": [
       "age                 0.112915\n",
       "scholarship        -0.865207\n",
       "machine_learning    0.644596\n",
       "data_science       -0.559719\n",
       "big_data           -0.342617\n",
       "dtype: float64"
      ]
     },
     "execution_count": 15,
     "metadata": {},
     "output_type": "execute_result"
    }
   ],
   "source": [
    "# calculating skewness for dataframe\n",
    "df1.kurt(axis = 0, skipna = True)"
   ]
  },
  {
   "cell_type": "code",
   "execution_count": null,
   "id": "aa85f874",
   "metadata": {},
   "outputs": [],
   "source": []
  },
  {
   "cell_type": "code",
   "execution_count": null,
   "id": "95c58c68",
   "metadata": {},
   "outputs": [],
   "source": []
  },
  {
   "cell_type": "code",
   "execution_count": null,
   "id": "6cdeb8cb",
   "metadata": {},
   "outputs": [],
   "source": []
  },
  {
   "cell_type": "markdown",
   "id": "b2cef961",
   "metadata": {},
   "source": [
    "## Univariate Analysis using Visualization tools (Exploratory Data Analysis (EDA))\n",
    "- The objective of univariate analysis is to derive the data, define and summarize it, and analyze the pattern present in it. In a dataset, it explores each variable separately. It is possible for two kinds of variables- Categorical and Numerical.\n",
    "\n",
    "- Some patterns that can be easily identified with univariate analysis are Central Tendency (mean, mode and median), Dispersion (range, variance), Quartiles (interquartile range), and Standard deviation.\n",
    "\n",
    "\n",
    "#### Need for visualizing data :\n",
    "- Understand the trends and patterns of data\n",
    "- Analyze the frequency and other such characteristics of data\n",
    "- Know the distribution of the variables in the data.\n",
    "- Visualize the relationship that may exist between different variables"
   ]
  },
  {
   "cell_type": "code",
   "execution_count": null,
   "id": "091b7f6a",
   "metadata": {},
   "outputs": [],
   "source": []
  },
  {
   "cell_type": "markdown",
   "id": "5d68d58b",
   "metadata": {},
   "source": [
    "### 1. Preparation of Dataset"
   ]
  },
  {
   "cell_type": "code",
   "execution_count": 2,
   "id": "d11a82a6",
   "metadata": {},
   "outputs": [
    {
     "data": {
      "text/html": [
       "<div>\n",
       "<style scoped>\n",
       "    .dataframe tbody tr th:only-of-type {\n",
       "        vertical-align: middle;\n",
       "    }\n",
       "\n",
       "    .dataframe tbody tr th {\n",
       "        vertical-align: top;\n",
       "    }\n",
       "\n",
       "    .dataframe thead th {\n",
       "        text-align: right;\n",
       "    }\n",
       "</style>\n",
       "<table border=\"1\" class=\"dataframe\">\n",
       "  <thead>\n",
       "    <tr style=\"text-align: right;\">\n",
       "      <th></th>\n",
       "      <th>rollno</th>\n",
       "      <th>name</th>\n",
       "      <th>address</th>\n",
       "      <th>gender</th>\n",
       "      <th>group</th>\n",
       "      <th>session</th>\n",
       "      <th>age</th>\n",
       "      <th>scholarship</th>\n",
       "      <th>machine_learning</th>\n",
       "      <th>data_science</th>\n",
       "      <th>big_data</th>\n",
       "    </tr>\n",
       "  </thead>\n",
       "  <tbody>\n",
       "    <tr>\n",
       "      <th>0</th>\n",
       "      <td>MS01</td>\n",
       "      <td>SAADIA</td>\n",
       "      <td>Lahore</td>\n",
       "      <td>female</td>\n",
       "      <td>group B</td>\n",
       "      <td>MORNING</td>\n",
       "      <td>28</td>\n",
       "      <td>2562</td>\n",
       "      <td>33</td>\n",
       "      <td>72</td>\n",
       "      <td>74</td>\n",
       "    </tr>\n",
       "    <tr>\n",
       "      <th>1</th>\n",
       "      <td>MS02</td>\n",
       "      <td>JUMAIMA</td>\n",
       "      <td>Islamabad</td>\n",
       "      <td>female</td>\n",
       "      <td>group C</td>\n",
       "      <td>AFTERNOON</td>\n",
       "      <td>33</td>\n",
       "      <td>2800</td>\n",
       "      <td>27</td>\n",
       "      <td>90</td>\n",
       "      <td>88</td>\n",
       "    </tr>\n",
       "    <tr>\n",
       "      <th>2</th>\n",
       "      <td>MS03</td>\n",
       "      <td>ARIFA</td>\n",
       "      <td>Karachi</td>\n",
       "      <td>female</td>\n",
       "      <td>group A</td>\n",
       "      <td>EVENING</td>\n",
       "      <td>34</td>\n",
       "      <td>3500</td>\n",
       "      <td>24</td>\n",
       "      <td>95</td>\n",
       "      <td>93</td>\n",
       "    </tr>\n",
       "    <tr>\n",
       "      <th>3</th>\n",
       "      <td>MS04</td>\n",
       "      <td>SAADIA</td>\n",
       "      <td>Lahore</td>\n",
       "      <td>female</td>\n",
       "      <td>group A</td>\n",
       "      <td>MOR</td>\n",
       "      <td>44</td>\n",
       "      <td>2000</td>\n",
       "      <td>37</td>\n",
       "      <td>57</td>\n",
       "      <td>44</td>\n",
       "    </tr>\n",
       "    <tr>\n",
       "      <th>4</th>\n",
       "      <td>MS05</td>\n",
       "      <td>DANISH</td>\n",
       "      <td>Peshawer</td>\n",
       "      <td>male</td>\n",
       "      <td>group C</td>\n",
       "      <td>AFTERNOON</td>\n",
       "      <td>54</td>\n",
       "      <td>2100</td>\n",
       "      <td>39</td>\n",
       "      <td>78</td>\n",
       "      <td>55</td>\n",
       "    </tr>\n",
       "  </tbody>\n",
       "</table>\n",
       "</div>"
      ],
      "text/plain": [
       "  rollno     name    address  gender    group    session  age  scholarship  \\\n",
       "0   MS01   SAADIA     Lahore  female  group B    MORNING   28         2562   \n",
       "1   MS02  JUMAIMA  Islamabad  female  group C  AFTERNOON   33         2800   \n",
       "2   MS03    ARIFA    Karachi  female  group A    EVENING   34         3500   \n",
       "3   MS04   SAADIA     Lahore  female  group A        MOR   44         2000   \n",
       "4   MS05   DANISH   Peshawer    male  group C  AFTERNOON   54         2100   \n",
       "\n",
       "   machine_learning  data_science  big_data  \n",
       "0                33            72        74  \n",
       "1                27            90        88  \n",
       "2                24            95        93  \n",
       "3                37            57        44  \n",
       "4                39            78        55  "
      ]
     },
     "execution_count": 2,
     "metadata": {},
     "output_type": "execute_result"
    }
   ],
   "source": [
    "# importing required libraries\n",
    "import matplotlib.pyplot as plt\n",
    "import pandas as pd\n",
    "import statistics\n",
    "\n",
    "# reading data from csv in pandas dataframe containing marks of different subjects\n",
    "df2 = pd.read_csv(\"dataset/descriptivestatistics-dataset.csv\")\n",
    "df2.head()"
   ]
  },
  {
   "cell_type": "code",
   "execution_count": null,
   "id": "62d700ab",
   "metadata": {},
   "outputs": [],
   "source": []
  },
  {
   "cell_type": "code",
   "execution_count": null,
   "id": "6041e935",
   "metadata": {},
   "outputs": [],
   "source": []
  },
  {
   "cell_type": "markdown",
   "id": "75d16ef6",
   "metadata": {},
   "source": [
    "### 2. Inspecting Data Type\n",
    "- Before analyzing any data set, inspect the data types of the data variables. Then, one can decide on the right methods for univariate data visualization.\n",
    "\n",
    "\n",
    "- The `.dtypes` property is used to know the data types of the variables in the data set. Pandas stores these variables in different formats according to their type. Pandas stores `categorical variables` as `‘object’` and, on the other hand, `continuous variables` are stored as `int or float`. The methods used for visualization of univariate data also depends on the types of data variables.\n",
    "\n",
    "\n"
   ]
  },
  {
   "cell_type": "code",
   "execution_count": null,
   "id": "5c9271cb",
   "metadata": {},
   "outputs": [],
   "source": []
  },
  {
   "cell_type": "code",
   "execution_count": 3,
   "id": "18abaaed",
   "metadata": {},
   "outputs": [
    {
     "data": {
      "text/plain": [
       "rollno              object\n",
       "name                object\n",
       "address             object\n",
       "gender              object\n",
       "group               object\n",
       "session             object\n",
       "age                  int64\n",
       "scholarship          int64\n",
       "machine_learning     int64\n",
       "data_science         int64\n",
       "big_data             int64\n",
       "dtype: object"
      ]
     },
     "execution_count": 3,
     "metadata": {},
     "output_type": "execute_result"
    }
   ],
   "source": [
    "# inspecting data types\n",
    "df2.dtypes"
   ]
  },
  {
   "cell_type": "code",
   "execution_count": null,
   "id": "d3b3b769",
   "metadata": {},
   "outputs": [],
   "source": []
  },
  {
   "cell_type": "code",
   "execution_count": null,
   "id": "db7111fd",
   "metadata": {},
   "outputs": [],
   "source": []
  },
  {
   "cell_type": "markdown",
   "id": "6b72657a",
   "metadata": {},
   "source": [
    "### 3. Visualizing Data using Univariate plots\n",
    "- Univariate data visualization plots help us comprehend the enumerative properties as well as a descriptive summary of the particular data variable. These plots help in understanding the location/position of observations in the data variable, its distribution, and dispersion.\n",
    "\n",
    "\n",
    "### a. Pie Chart\n",
    "- A pie chart is the most common way used to visualize the numerical proportion occupied by each of the categories.  Since the categories are equally distributed, divide the sections in the pie chart is equally. Then add the labels by passing the array of values to the ‘labels’ parameter."
   ]
  },
  {
   "cell_type": "code",
   "execution_count": 4,
   "id": "e47915b4",
   "metadata": {},
   "outputs": [
    {
     "data": {
      "image/png": "[encoded data removed]",
      "text/plain": [
       "<Figure size 600x400 with 1 Axes>"
      ]
     },
     "metadata": {},
     "output_type": "display_data"
    }
   ],
   "source": [
    "# importing required libraries\n",
    "import matplotlib.pyplot as plt\n",
    "import pandas as pd\n",
    "import statistics\n",
    "\n",
    "# calculating mean marks for every subject\n",
    "mean1 = df2['machine_learning'].mean()\n",
    "mean2 = df2['data_science'].mean()\n",
    "mean3 = df2['big_data'].mean()\n",
    "\n",
    "# creating list of mean\n",
    "mean_marks = [mean1, mean2, mean3]\n",
    "subject = ['machine_learning', 'data_science', 'big_data']\n",
    "color = [\"Brown\", \"Yellow\", \"Gray\"]\n",
    "\n",
    "\n",
    "# plotting pie chart to show percentage of mean in different subjects of students\n",
    "fig, axe = plt.subplots(dpi=100)\n",
    "\n",
    "# autopct parameter enables one to display the percentage value using Python string formatting\n",
    "axe.pie(mean_marks, labels=subject, colors=color, autopct='%1.1f%%', shadow= True)\n",
    "\n",
    "# show figure\n",
    "plt.show()"
   ]
  },
  {
   "cell_type": "code",
   "execution_count": null,
   "id": "21ac54da",
   "metadata": {},
   "outputs": [],
   "source": []
  },
  {
   "cell_type": "code",
   "execution_count": null,
   "id": "e4eab2c8",
   "metadata": {},
   "outputs": [],
   "source": []
  },
  {
   "cell_type": "markdown",
   "id": "5a654153",
   "metadata": {},
   "source": [
    "### b. Boxplot¶\n",
    "<img align=\"right\" width=\"380\" height=\"100\"  src=\"images/boxplot.png\"  >\n",
    "\n",
    "- A boxplot is a standardized way of displaying a dataset based on a five-number summary: the minimum, the maximum, the sample median, and the first and third quartiles. \n",
    "\n",
    "\n",
    "- In statistics, the boxplot is a method for graphically depicting groups of numerical data through their quartiles.\n"
   ]
  },
  {
   "cell_type": "code",
   "execution_count": 5,
   "id": "f00f8e16",
   "metadata": {},
   "outputs": [
    {
     "data": {
      "image/png": "[encoded data removed]",
      "text/plain": [
       "<Figure size 480x320 with 1 Axes>"
      ]
     },
     "metadata": {
      "needs_background": "light"
     },
     "output_type": "display_data"
    }
   ],
   "source": [
    "# import required libraries\n",
    "import matplotlib.pyplot as plt\n",
    "import pandas as pd\n",
    "import statistics\n",
    "\n",
    "# getting marks of student for each subject to represent quartiles\n",
    "data1 = df2['machine_learning']\n",
    "data2 = df2['data_science']\n",
    "data3 = df2['big_data']\n",
    "\n",
    "values = [data1, data2, data3]\n",
    "labels = [\"machine_learning\", \"data_science\", \"big_data\"]\n",
    "\n",
    "\n",
    "# plotting boxplot\n",
    "fig, axe = plt.subplots(dpi=80)\n",
    "axe.boxplot(values, labels=labels, patch_artist=True)\n",
    "\n",
    "#show image\n",
    "plt.show()"
   ]
  },
  {
   "cell_type": "code",
   "execution_count": null,
   "id": "8db6dc76",
   "metadata": {},
   "outputs": [],
   "source": []
  },
  {
   "cell_type": "code",
   "execution_count": null,
   "id": "7fb8893a",
   "metadata": {},
   "outputs": [],
   "source": []
  },
  {
   "cell_type": "markdown",
   "id": "7720f176",
   "metadata": {},
   "source": [
    "### c. Histogram\n",
    "- Histograms are similar to bar charts which display the counts or relative frequencies of values falling in different class intervals or ranges. A histogram displays the shape and spread of continuous sample data. It also helps us understand the skewness and kurtosis of the distribution of the data."
   ]
  },
  {
   "cell_type": "code",
   "execution_count": 6,
   "id": "d91cb707",
   "metadata": {},
   "outputs": [
    {
     "data": {
      "image/png": "[encoded data removed]",
      "text/plain": [
       "<Figure size 432x288 with 1 Axes>"
      ]
     },
     "metadata": {
      "needs_background": "light"
     },
     "output_type": "display_data"
    }
   ],
   "source": [
    "# importing required libraries\n",
    "import matplotlib.pyplot as plt\n",
    "import pandas as pd\n",
    "import statistics\n",
    "\n",
    "\n",
    "# generating data to observe the data distribution\n",
    "data1 = df2['machine_learning']\n",
    "data2 = df2['data_science']\n",
    "\n",
    "# computing mean and std\n",
    "# print(df2['machine_learning'].mean())\n",
    "# print(df2['data_science'].mean())\n",
    "# print(round(df2['machine_learning'].std(), 2))\n",
    "# print(round(df2['data_science'].std(), 2))\n",
    "\n",
    "\n",
    "\n",
    "# subplot with no argument plot histograms in single chart\n",
    "fig, axes = plt.subplots()\n",
    "\n",
    "# plot 2 histrograms of stepfilled type, that will represent the distribution of data that we have created\n",
    "plt.hist(data1, bins=20, density=True, histtype='stepfilled', alpha=0.3, label=\"mean=62.02,std=14.92\")\n",
    "plt.hist(data2, bins=20, density=True, histtype='stepfilled', alpha=0.3, label=\"mean=68.6,std=13.51\")\n",
    "\n",
    "# set legend\n",
    "plt.legend()\n",
    "\n",
    "# removing spines\n",
    "axes.spines['top'].set_visible(False)\n",
    "axes.spines['right'].set_visible(False)\n",
    "\n",
    "\n",
    "# show image\n",
    "plt.show()"
   ]
  },
  {
   "cell_type": "code",
   "execution_count": null,
   "id": "33064992",
   "metadata": {},
   "outputs": [],
   "source": []
  },
  {
   "cell_type": "code",
   "execution_count": null,
   "id": "60f81de1",
   "metadata": {},
   "outputs": [],
   "source": []
  },
  {
   "cell_type": "code",
   "execution_count": null,
   "id": "957f855f",
   "metadata": {},
   "outputs": [],
   "source": []
  },
  {
   "cell_type": "markdown",
   "id": "276f01e6",
   "metadata": {},
   "source": [
    "## Bivariate Analysis\n",
    "- Bivariate analysis means the analysis of the bivariate data. This is a single statistical analysis that is used to find out the relationship that exists between two value sets. This simple analysis is capable of producing very useful tests and statistical model. \n",
    "\n",
    "\n",
    "- In general, in a bivariate analysis, the variables used can be related or independent. Interrelated means that the same sample is given 2 different measurements. Meanwhile, independent means that measurements are made on two different sample groups.\n",
    "\n",
    "\n",
    "### Types of Bivariate Analysis\n",
    "1. Descriptive Analysis\n",
    "    - Scatter Plot\n",
    "2. Inferential Analysis\n",
    "    - Covariance Analysis\n",
    "    - Correlation Analysis\n",
    "    - Linear Regression Analysis\n",
    "    - T-test and so on"
   ]
  },
  {
   "cell_type": "code",
   "execution_count": null,
   "id": "85d52e0c",
   "metadata": {},
   "outputs": [],
   "source": []
  },
  {
   "cell_type": "code",
   "execution_count": null,
   "id": "71ec3a60",
   "metadata": {},
   "outputs": [],
   "source": []
  },
  {
   "cell_type": "markdown",
   "id": "fab8aa66",
   "metadata": {},
   "source": [
    "### Bivariate Analysis Visualization using Scatter Plot\n",
    "- Bivariate analysis is the analysis of any concurrent relation between either two-variable or attributes. It tries to explore the relationship that is there between the two variables as well as the depth of the relationship. It helps to find out if there are any discrepancies between the variable and what the causes of the differences are.\n",
    "\n",
    "\n",
    "- Let us understand the example of studying the relationship between systolic blood pressure and age. Here you take a sample of people in a particular age group. Say you take the sample of 10 workers. The first column will have the age of the worker and the second column records their systolic blood pressure. \n",
    "\n",
    "\n",
    "- The table then needs to be displayed in a graphical format to make some conclusion from it. The bivariate data is usually displayed through a scatter plot. A Scatter plot helps to form a relationship between the variables and tries to explain the relationship between the two. Once you apply the age on the y-axis and the systolic blood pressure on the x-axis you will notice possibly a linear relationship between them."
   ]
  },
  {
   "cell_type": "code",
   "execution_count": null,
   "id": "ac66e9cd",
   "metadata": {},
   "outputs": [],
   "source": []
  },
  {
   "cell_type": "code",
   "execution_count": null,
   "id": "62eb838f",
   "metadata": {},
   "outputs": [],
   "source": []
  },
  {
   "cell_type": "code",
   "execution_count": 16,
   "id": "aa660771",
   "metadata": {},
   "outputs": [
    {
     "data": {
      "text/html": [
       "<div>\n",
       "<style scoped>\n",
       "    .dataframe tbody tr th:only-of-type {\n",
       "        vertical-align: middle;\n",
       "    }\n",
       "\n",
       "    .dataframe tbody tr th {\n",
       "        vertical-align: top;\n",
       "    }\n",
       "\n",
       "    .dataframe thead th {\n",
       "        text-align: right;\n",
       "    }\n",
       "</style>\n",
       "<table border=\"1\" class=\"dataframe\">\n",
       "  <thead>\n",
       "    <tr style=\"text-align: right;\">\n",
       "      <th></th>\n",
       "      <th>age</th>\n",
       "      <th>blood_pressure</th>\n",
       "    </tr>\n",
       "  </thead>\n",
       "  <tbody>\n",
       "    <tr>\n",
       "      <th>0</th>\n",
       "      <td>18</td>\n",
       "      <td>102</td>\n",
       "    </tr>\n",
       "    <tr>\n",
       "      <th>1</th>\n",
       "      <td>20</td>\n",
       "      <td>104</td>\n",
       "    </tr>\n",
       "    <tr>\n",
       "      <th>2</th>\n",
       "      <td>22</td>\n",
       "      <td>106</td>\n",
       "    </tr>\n",
       "    <tr>\n",
       "      <th>3</th>\n",
       "      <td>24</td>\n",
       "      <td>107</td>\n",
       "    </tr>\n",
       "    <tr>\n",
       "      <th>4</th>\n",
       "      <td>25</td>\n",
       "      <td>108</td>\n",
       "    </tr>\n",
       "    <tr>\n",
       "      <th>5</th>\n",
       "      <td>26</td>\n",
       "      <td>109</td>\n",
       "    </tr>\n",
       "    <tr>\n",
       "      <th>6</th>\n",
       "      <td>28</td>\n",
       "      <td>109</td>\n",
       "    </tr>\n",
       "    <tr>\n",
       "      <th>7</th>\n",
       "      <td>32</td>\n",
       "      <td>110</td>\n",
       "    </tr>\n",
       "    <tr>\n",
       "      <th>8</th>\n",
       "      <td>33</td>\n",
       "      <td>111</td>\n",
       "    </tr>\n",
       "    <tr>\n",
       "      <th>9</th>\n",
       "      <td>34</td>\n",
       "      <td>111</td>\n",
       "    </tr>\n",
       "    <tr>\n",
       "      <th>10</th>\n",
       "      <td>36</td>\n",
       "      <td>112</td>\n",
       "    </tr>\n",
       "    <tr>\n",
       "      <th>11</th>\n",
       "      <td>37</td>\n",
       "      <td>113</td>\n",
       "    </tr>\n",
       "    <tr>\n",
       "      <th>12</th>\n",
       "      <td>38</td>\n",
       "      <td>114</td>\n",
       "    </tr>\n",
       "    <tr>\n",
       "      <th>13</th>\n",
       "      <td>40</td>\n",
       "      <td>114</td>\n",
       "    </tr>\n",
       "    <tr>\n",
       "      <th>14</th>\n",
       "      <td>41</td>\n",
       "      <td>115</td>\n",
       "    </tr>\n",
       "    <tr>\n",
       "      <th>15</th>\n",
       "      <td>42</td>\n",
       "      <td>118</td>\n",
       "    </tr>\n",
       "    <tr>\n",
       "      <th>16</th>\n",
       "      <td>43</td>\n",
       "      <td>119</td>\n",
       "    </tr>\n",
       "    <tr>\n",
       "      <th>17</th>\n",
       "      <td>44</td>\n",
       "      <td>125</td>\n",
       "    </tr>\n",
       "  </tbody>\n",
       "</table>\n",
       "</div>"
      ],
      "text/plain": [
       "    age  blood_pressure\n",
       "0    18             102\n",
       "1    20             104\n",
       "2    22             106\n",
       "3    24             107\n",
       "4    25             108\n",
       "5    26             109\n",
       "6    28             109\n",
       "7    32             110\n",
       "8    33             111\n",
       "9    34             111\n",
       "10   36             112\n",
       "11   37             113\n",
       "12   38             114\n",
       "13   40             114\n",
       "14   41             115\n",
       "15   42             118\n",
       "16   43             119\n",
       "17   44             125"
      ]
     },
     "execution_count": 16,
     "metadata": {},
     "output_type": "execute_result"
    }
   ],
   "source": [
    "# importing required libraries\n",
    "import matplotlib.pyplot as plt\n",
    "import pandas as pd\n",
    "import statistics\n",
    "\n",
    "# reading data from csv in pandas dataframe containing marks of different subjects\n",
    "df3 = pd.read_csv(\"dataset/bp_dataset.csv\")\n",
    "df3"
   ]
  },
  {
   "cell_type": "code",
   "execution_count": null,
   "id": "b34a52e2",
   "metadata": {},
   "outputs": [],
   "source": []
  },
  {
   "cell_type": "code",
   "execution_count": 22,
   "id": "3bb1cf44",
   "metadata": {},
   "outputs": [
    {
     "data": {
      "image/png": "[encoded data removed]",
      "text/plain": [
       "<Figure size 432x288 with 1 Axes>"
      ]
     },
     "metadata": {
      "needs_background": "light"
     },
     "output_type": "display_data"
    }
   ],
   "source": [
    "# importing required libraries\n",
    "import matplotlib.pyplot as plt\n",
    "import pandas as pd\n",
    "import statistics\n",
    "\n",
    "\n",
    "# Creating list of integrs\n",
    "age = df3['age']\n",
    "bp = df3['blood_pressure']\n",
    "\n",
    "\n",
    "# Draw Scatter plot to show linear relationship between age and blood pressure of people\n",
    "plt.scatter(bp, age)\n",
    "\n",
    "\n",
    "# setting axes title\n",
    "plt.xlabel(\"Blood Pressure\")\n",
    "plt.ylabel(\"Age\")\n",
    "\n",
    "\n",
    "plt.show()"
   ]
  },
  {
   "cell_type": "code",
   "execution_count": null,
   "id": "d53521cb",
   "metadata": {},
   "outputs": [],
   "source": []
  },
  {
   "cell_type": "code",
   "execution_count": null,
   "id": "6cd22dce",
   "metadata": {},
   "outputs": [],
   "source": []
  },
  {
   "cell_type": "markdown",
   "id": "8a5834a2",
   "metadata": {},
   "source": [
    "#### Using previous dataset, you can also display the relationship of the marks with different sections of students"
   ]
  },
  {
   "cell_type": "code",
   "execution_count": 2,
   "id": "8f1259d8",
   "metadata": {},
   "outputs": [
    {
     "data": {
      "text/html": [
       "<div>\n",
       "<style scoped>\n",
       "    .dataframe tbody tr th:only-of-type {\n",
       "        vertical-align: middle;\n",
       "    }\n",
       "\n",
       "    .dataframe tbody tr th {\n",
       "        vertical-align: top;\n",
       "    }\n",
       "\n",
       "    .dataframe thead th {\n",
       "        text-align: right;\n",
       "    }\n",
       "</style>\n",
       "<table border=\"1\" class=\"dataframe\">\n",
       "  <thead>\n",
       "    <tr style=\"text-align: right;\">\n",
       "      <th></th>\n",
       "      <th>rollno</th>\n",
       "      <th>name</th>\n",
       "      <th>address</th>\n",
       "      <th>gender</th>\n",
       "      <th>group</th>\n",
       "      <th>session</th>\n",
       "      <th>age</th>\n",
       "      <th>scholarship</th>\n",
       "      <th>machine_learning</th>\n",
       "      <th>data_science</th>\n",
       "      <th>big_data</th>\n",
       "    </tr>\n",
       "  </thead>\n",
       "  <tbody>\n",
       "    <tr>\n",
       "      <th>0</th>\n",
       "      <td>MS01</td>\n",
       "      <td>SAADIA</td>\n",
       "      <td>Lahore</td>\n",
       "      <td>female</td>\n",
       "      <td>group B</td>\n",
       "      <td>MORNING</td>\n",
       "      <td>28</td>\n",
       "      <td>2562</td>\n",
       "      <td>33</td>\n",
       "      <td>72</td>\n",
       "      <td>74</td>\n",
       "    </tr>\n",
       "    <tr>\n",
       "      <th>1</th>\n",
       "      <td>MS02</td>\n",
       "      <td>JUMAIMA</td>\n",
       "      <td>Islamabad</td>\n",
       "      <td>female</td>\n",
       "      <td>group C</td>\n",
       "      <td>AFTERNOON</td>\n",
       "      <td>33</td>\n",
       "      <td>2800</td>\n",
       "      <td>27</td>\n",
       "      <td>90</td>\n",
       "      <td>88</td>\n",
       "    </tr>\n",
       "    <tr>\n",
       "      <th>2</th>\n",
       "      <td>MS03</td>\n",
       "      <td>ARIFA</td>\n",
       "      <td>Karachi</td>\n",
       "      <td>female</td>\n",
       "      <td>group A</td>\n",
       "      <td>EVENING</td>\n",
       "      <td>34</td>\n",
       "      <td>3500</td>\n",
       "      <td>24</td>\n",
       "      <td>95</td>\n",
       "      <td>93</td>\n",
       "    </tr>\n",
       "    <tr>\n",
       "      <th>3</th>\n",
       "      <td>MS04</td>\n",
       "      <td>SAADIA</td>\n",
       "      <td>Lahore</td>\n",
       "      <td>female</td>\n",
       "      <td>group A</td>\n",
       "      <td>MORNING</td>\n",
       "      <td>44</td>\n",
       "      <td>2000</td>\n",
       "      <td>37</td>\n",
       "      <td>57</td>\n",
       "      <td>44</td>\n",
       "    </tr>\n",
       "    <tr>\n",
       "      <th>4</th>\n",
       "      <td>MS05</td>\n",
       "      <td>DANISH</td>\n",
       "      <td>Peshawer</td>\n",
       "      <td>male</td>\n",
       "      <td>group C</td>\n",
       "      <td>AFTERNOON</td>\n",
       "      <td>54</td>\n",
       "      <td>2100</td>\n",
       "      <td>39</td>\n",
       "      <td>78</td>\n",
       "      <td>55</td>\n",
       "    </tr>\n",
       "  </tbody>\n",
       "</table>\n",
       "</div>"
      ],
      "text/plain": [
       "  rollno     name    address  gender    group    session  age  scholarship  \\\n",
       "0   MS01   SAADIA     Lahore  female  group B    MORNING   28         2562   \n",
       "1   MS02  JUMAIMA  Islamabad  female  group C  AFTERNOON   33         2800   \n",
       "2   MS03    ARIFA    Karachi  female  group A    EVENING   34         3500   \n",
       "3   MS04   SAADIA     Lahore  female  group A    MORNING   44         2000   \n",
       "4   MS05   DANISH   Peshawer    male  group C  AFTERNOON   54         2100   \n",
       "\n",
       "   machine_learning  data_science  big_data  \n",
       "0                33            72        74  \n",
       "1                27            90        88  \n",
       "2                24            95        93  \n",
       "3                37            57        44  \n",
       "4                39            78        55  "
      ]
     },
     "execution_count": 2,
     "metadata": {},
     "output_type": "execute_result"
    }
   ],
   "source": [
    "# importing required libraries\n",
    "import matplotlib.pyplot as plt\n",
    "import pandas as pd\n",
    "import statistics\n",
    "\n",
    "# reading data from csv in pandas dataframe containing marks of different subjects\n",
    "df2 = pd.read_csv(\"dataset/descriptivestatistics-dataset.csv\")\n",
    "df2.head()"
   ]
  },
  {
   "cell_type": "code",
   "execution_count": null,
   "id": "28323b49",
   "metadata": {},
   "outputs": [],
   "source": []
  },
  {
   "cell_type": "code",
   "execution_count": null,
   "id": "eee15560",
   "metadata": {},
   "outputs": [],
   "source": []
  },
  {
   "cell_type": "code",
   "execution_count": 3,
   "id": "101c9b32",
   "metadata": {},
   "outputs": [
    {
     "data": {
      "image/png": "[encoded data removed]",
      "text/plain": [
       "<Figure size 432x288 with 1 Axes>"
      ]
     },
     "metadata": {
      "needs_background": "light"
     },
     "output_type": "display_data"
    }
   ],
   "source": [
    "# import the required modules\n",
    "import numpy as np\n",
    "from matplotlib import pyplot as plt\n",
    "\n",
    "# Creating list of integrs\n",
    "marks = df2['data_science']\n",
    "session = df2['session']\n",
    "\n",
    "# Draw Scatter plot \n",
    "plt.scatter(session, marks)\n",
    "\n",
    "# setting axes titles\n",
    "plt.xlabel(\"Sessions\")\n",
    "plt.ylabel(\"Marks of Students\")\n",
    "\n",
    "# show image\n",
    "plt.show()"
   ]
  },
  {
   "cell_type": "code",
   "execution_count": null,
   "id": "afbf79f3",
   "metadata": {},
   "outputs": [],
   "source": []
  },
  {
   "cell_type": "code",
   "execution_count": null,
   "id": "231ff5f5",
   "metadata": {},
   "outputs": [],
   "source": []
  },
  {
   "cell_type": "code",
   "execution_count": null,
   "id": "c76ad980",
   "metadata": {},
   "outputs": [],
   "source": []
  },
  {
   "cell_type": "code",
   "execution_count": null,
   "id": "109e1dfd",
   "metadata": {},
   "outputs": [],
   "source": []
  },
  {
   "cell_type": "code",
   "execution_count": null,
   "id": "8128a0c5",
   "metadata": {},
   "outputs": [],
   "source": []
  },
  {
   "cell_type": "code",
   "execution_count": null,
   "id": "dda1fab8",
   "metadata": {},
   "outputs": [],
   "source": []
  }
 ],
 "metadata": {
  "kernelspec": {
   "display_name": "Python 3 (ipykernel)",
   "language": "python",
   "name": "python3"
  },
  "language_info": {
   "codemirror_mode": {
    "name": "ipython",
    "version": 3
   },
   "file_extension": ".py",
   "mimetype": "text/x-python",
   "name": "python",
   "nbconvert_exporter": "python",
   "pygments_lexer": "ipython3",
   "version": "3.8.10"
  }
 },
 "nbformat": 4,
 "nbformat_minor": 5
}
