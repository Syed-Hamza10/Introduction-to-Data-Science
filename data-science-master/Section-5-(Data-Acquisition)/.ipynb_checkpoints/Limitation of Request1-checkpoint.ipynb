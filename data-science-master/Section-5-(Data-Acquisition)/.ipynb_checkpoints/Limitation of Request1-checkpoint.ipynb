{
 "cells": [
  {
   "cell_type": "code",
   "execution_count": null,
   "id": "a19b2b2c",
   "metadata": {},
   "outputs": [],
   "source": []
  },
  {
   "cell_type": "markdown",
   "id": "0bd7085f",
   "metadata": {},
   "source": [
    "## 6. Limitations of BeautifulSoup\n",
    "- When you load up a website you want to scrape using your browser, the browser will make a request to the page's server to retrieve the page content. That's usually some HTML code, some CSS, and some JavaScript.\n",
    "- A key difference between loading the page using your browser and getting the page contents using requests is that your browser executes any JavaScript code that the page comes with. Sometimes you will see the initial page content (before the JavaScript runs) for a few moments, and then the JavaScript kicks in."
   ]
  },
  {
   "cell_type": "code",
   "execution_count": 2,
   "id": "78d856ec",
   "metadata": {},
   "outputs": [],
   "source": [
    "import requests\n",
    "from bs4 import BeautifulSoup"
   ]
  },
  {
   "cell_type": "markdown",
   "id": "9dc05306",
   "metadata": {},
   "source": [
    "**Example 1:**"
   ]
  },
  {
   "cell_type": "code",
   "execution_count": 3,
   "id": "fc9b86c8",
   "metadata": {},
   "outputs": [
    {
     "name": "stdout",
     "output_type": "stream",
     "text": [
      "<span class=\"text\" itemprop=\"text\">“The world as we have created it is a process of our thinking. It cannot be changed without changing our thinking.”</span>\n"
     ]
    }
   ],
   "source": [
    "resp = requests.get(\"http://quotes.toscrape.com/\")\n",
    "soup = BeautifulSoup(resp.text,'lxml')\n",
    "quote = soup.find('span', class_='text')\n",
    "print(quote)"
   ]
  },
  {
   "cell_type": "markdown",
   "id": "eaaa9f76",
   "metadata": {},
   "source": [
    ">-  http://quotes.toscrape.com/js  is the javascript version of http://quotes.toscrape.com\n",
    ">- So following code returns None"
   ]
  },
  {
   "cell_type": "code",
   "execution_count": 4,
   "id": "aa4a4530",
   "metadata": {},
   "outputs": [
    {
     "name": "stdout",
     "output_type": "stream",
     "text": [
      "None\n"
     ]
    }
   ],
   "source": [
    "resp = requests.get(\"http://quotes.toscrape.com/js\")\n",
    "soup = BeautifulSoup(resp.text,'lxml')\n",
    "quote = soup.find('span', class_='text')\n",
    "print(quote)"
   ]
  },
  {
   "cell_type": "code",
   "execution_count": null,
   "id": "412cfa4c",
   "metadata": {},
   "outputs": [],
   "source": []
  },
  {
   "cell_type": "markdown",
   "id": "229c1b2f",
   "metadata": {},
   "source": [
    "**Example 2:**"
   ]
  },
  {
   "cell_type": "code",
   "execution_count": 5,
   "id": "733ebc2a",
   "metadata": {},
   "outputs": [
    {
     "name": "stdout",
     "output_type": "stream",
     "text": [
      "[<p class=\"book_name\"><a href=\"https://www.amazon.com/Operating-System-Concepts-Abridged-Companion/dp/1119456339\" target=\"_blank\">Operating System Concepts By Avi Silberschatz</a></p>, <p class=\"book_name\"><a href=\"https://www.google.com/search?q=Unix+the+textbook+by+mansoor&amp;rlz=1C1CHBD_enPK987PK987&amp;oq=unix+the+textbook+by+mansoor&amp;aqs=chrome.0.69i59j69i57j69i59j69i60l5.4419j0j7&amp;sourceid=chrome&amp;ie=UTF-8\" target=\"_blank\">UNIX The Textbook By Syed Mansoor Sarwar</a></p>, <p class=\"book_name\"><a href=\"https://www.amazon.in/Taxonomy-Ids-Arif-Butt/dp/3639294092\" target=\"_blank\">Taxonomy of IDS By Arif Butt</a></p>, <p class=\"book_name\"><a href=\"https://www.amazon.com/Understanding-Operating-Systems-Ann-McHoes/dp/1305674251\" target=\"_blank\">Understanding operating systems By Ida Flynn</a></p>, <p class=\"book_name\"><a href=\"https://www.goodreads.com/book/show/829182.Computer_Systems\" target=\"_blank\">Computer Systems  By Randal E. Bryant </a></p>, <p class=\"book_name\"><a href=\"https://www.amazon.com/Linux-Bible-Christopher-Negus/dp/111821854X\" target=\"_blank\">Linux bible  Book By Christopher Negus</a></p>, <p class=\"book_name\"><a href=\"https://www.amazon.com/dp/0321637739?tag=uuid10-20\" target=\"_blank\">Advanced Programming in the UNIX Environment  By W. Stevans</a></p>, <p class=\"book_name\"><a href=\"https://www.amazon.com/s?k=Operating+Systems%3A+A+Design-oriented+Approach&amp;i=stripbooks-intl-ship&amp;ref=nb_sb_noss\" target=\"_blank\">Operating Systems: A Design-oriented Approach By Charles Patrick Crowley</a></p>, <p class=\"book_name\"><a href=\"https://www.amazon.com/Hands-Network-Programming-programming-optimized/dp/1789349869/ref=sr_1_1?crid=11FC0M0GAFA21&amp;amp&amp;keywords=unix+network+programming+2019&amp;amp&amp;qid=1653381349&amp;amp&amp;s=books&amp;amp&amp;sprefix=unix+network+programming+2019%2Cstripbooks-intl-ship%2C356&amp;amp&amp;sr=1-1\" target=\"_blank\">Hands-On Network Programming with C  By Lewis Van Winkle</a></p>]\n"
     ]
    }
   ],
   "source": [
    "resp = requests.get(\"https://arifpucit.github.io/bss2/\")\n",
    "soup = BeautifulSoup(resp.text,'lxml')\n",
    "price = soup.find_all('p', class_='book_name')\n",
    "print(price)"
   ]
  },
  {
   "cell_type": "markdown",
   "id": "220cc5de",
   "metadata": {},
   "source": [
    ">-  https://arifpucit.github.io/bss2/js/  is the javascript version of https://arifpucit.github.io/bss2/\n",
    ">- **Why the following code successfully scrape instead of raising an error?**\n",
    ">- **Please let me know what is the issue. Thanks**"
   ]
  },
  {
   "cell_type": "code",
   "execution_count": 6,
   "id": "6656de9a",
   "metadata": {},
   "outputs": [
    {
     "name": "stdout",
     "output_type": "stream",
     "text": [
      "[<p class=\"book_name\"><a href=\"https://www.amazon.com/Operating-System-Concepts-Abridged-Companion/dp/1119456339\" target=\"_blank\">Operating System Concepts By Avi Silberschatz</a></p>, <p class=\"book_name\"><a href=\"https://www.google.com/search?q=Unix+the+textbook+by+mansoor&amp;rlz=1C1CHBD_enPK987PK987&amp;oq=unix+the+textbook+by+mansoor&amp;aqs=chrome.0.69i59j69i57j69i59j69i60l5.4419j0j7&amp;sourceid=chrome&amp;ie=UTF-8\" target=\"_blank\">UNIX The Textbook By Syed Mansoor Sarwar</a></p>, <p class=\"book_name\"><a href=\"https://www.amazon.in/Taxonomy-Ids-Arif-Butt/dp/3639294092\" target=\"_blank\">Taxonomy of IDS By Arif Butt</a></p>, <p class=\"book_name\"><a href=\"https://www.amazon.com/Understanding-Operating-Systems-Ann-McHoes/dp/1305674251\" target=\"_blank\">Understanding operating systems By Ida Flynn</a></p>, <p class=\"book_name\"><a href=\"https://www.goodreads.com/book/show/829182.Computer_Systems\" target=\"_blank\">Computer Systems  By Randal E. Bryant </a></p>, <p class=\"book_name\"><a href=\"https://www.amazon.com/Linux-Bible-Christopher-Negus/dp/111821854X\" target=\"_blank\">Linux bible  Book By Christopher Negus</a></p>, <p class=\"book_name\"><a href=\"https://www.amazon.com/dp/0321637739?tag=uuid10-20\" target=\"_blank\">Advanced Programming in the UNIX Environment  By W. Stevans</a></p>, <p class=\"book_name\"><a href=\"https://www.amazon.com/s?k=Operating+Systems%3A+A+Design-oriented+Approach&amp;i=stripbooks-intl-ship&amp;ref=nb_sb_noss\" target=\"_blank\">Operating Systems: A Design-oriented Approach By Charles Patrick Crowley</a></p>, <p class=\"book_name\"><a href=\"https://www.amazon.com/Hands-Network-Programming-programming-optimized/dp/1789349869/ref=sr_1_1?crid=11FC0M0GAFA21&amp;amp&amp;keywords=unix+network+programming+2019&amp;amp&amp;qid=1653381349&amp;amp&amp;s=books&amp;amp&amp;sprefix=unix+network+programming+2019%2Cstripbooks-intl-ship%2C356&amp;amp&amp;sr=1-1\" target=\"_blank\">Hands-On Network Programming with C  By Lewis Van Winkle</a></p>]\n"
     ]
    }
   ],
   "source": [
    "resp = requests.get(\"https://hamsof.github.io/bss-js-verison/\")\n",
    "soup = BeautifulSoup(resp.text,'lxml')\n",
    "books = soup.find_all('p', class_='book_name')\n",
    "print(price)"
   ]
  },
  {
   "cell_type": "code",
   "execution_count": null,
   "id": "f05d843c",
   "metadata": {},
   "outputs": [],
   "source": []
  }
 ],
 "metadata": {
  "kernelspec": {
   "display_name": "Python 3 (ipykernel)",
   "language": "python",
   "name": "python3"
  },
  "language_info": {
   "codemirror_mode": {
    "name": "ipython",
    "version": 3
   },
   "file_extension": ".py",
   "mimetype": "text/x-python",
   "name": "python",
   "nbconvert_exporter": "python",
   "pygments_lexer": "ipython3",
   "version": "3.8.10"
  },
  "vscode": {
   "interpreter": {
    "hash": "aa0111cc17ecd8cafd660c5dc05e67a11774bcc00aacf3fcad162efe3a73f979"
   }
  }
 },
 "nbformat": 4,
 "nbformat_minor": 5
}
