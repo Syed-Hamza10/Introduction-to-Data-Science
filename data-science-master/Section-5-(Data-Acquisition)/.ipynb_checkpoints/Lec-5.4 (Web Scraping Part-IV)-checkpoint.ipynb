{
 "cells": [
  {
   "cell_type": "markdown",
   "id": "d162b058",
   "metadata": {},
   "source": [
    "---   \n",
    " <img align=\"left\" width=\"75\" height=\"75\"  src=\"https://upload.wikimedia.org/wikipedia/en/c/c8/University_of_the_Punjab_logo.png\"> \n",
    "\n",
    "<h1 align=\"center\">Department of Data Science</h1>\n",
    "<h1 align=\"center\">Course: Tools and Techniques for Data Science</h1>\n",
    "\n",
    "---\n",
    "<h3><div align=\"right\">Instructor: Muhammad Arif Butt, Ph.D.</div></h3>    \n"
   ]
  },
  {
   "cell_type": "markdown",
   "id": "3184edc1",
   "metadata": {},
   "source": [
    "<h1 align=\"center\">Lecture 5.1 (Web Scraping)</h1>"
   ]
  },
  {
   "cell_type": "markdown",
   "id": "6715f95a",
   "metadata": {},
   "source": [
    "Basics of HTML: https://webplatform.github.io/docs/html/\n",
    "Basics of CSS: https://webplatform.github.io/docs/css/\n",
    "Basics of JS: https://webplatform.github.io/docs/javascript/\n",
    "Basics of APIs: https://webplatform.github.io/docs/apis/\n"
   ]
  },
  {
   "cell_type": "code",
   "execution_count": null,
   "id": "7cfa5d1d",
   "metadata": {},
   "outputs": [],
   "source": []
  },
  {
   "cell_type": "code",
   "execution_count": null,
   "id": "d3f35381",
   "metadata": {},
   "outputs": [],
   "source": []
  },
  {
   "cell_type": "code",
   "execution_count": null,
   "id": "36e3c04b",
   "metadata": {},
   "outputs": [],
   "source": []
  },
  {
   "cell_type": "markdown",
   "id": "903dd56e",
   "metadata": {},
   "source": [
    "# APIs\n",
    "https://blog.hubspot.com/website/application-programming-interface-api\n",
    "https://blog.hubspot.com/website/free-open-apis\n",
    "https://blog.hubspot.com/website/types-of-apis\n",
    "\n",
    "https://developer.mozilla.org/en-US/docs/Learn/JavaScript/Client-side_web_APIs/Introduction\n",
    "\n",
    "\n",
    "https://console.cloud.google.com/apis/library?supportedpurview=project"
   ]
  },
  {
   "cell_type": "markdown",
   "id": "28e670f0",
   "metadata": {},
   "source": [
    "### What is an API?\n",
    "An API, short for Application Programming Interface, is a software-to-software interface. APIs provide a secure and standardized way for applications to work with each other and deliver the information or functionality requested without user intervention."
   ]
  },
  {
   "cell_type": "markdown",
   "id": "2b7f13b6",
   "metadata": {},
   "source": [
    "### How does API work?\n",
    "APIs are sets of definitions and protocols that allow software components to talk and interact with each other using a simple set of commands. Acting as messengers, APIs deliver one application’s request to another and return a response in real time.\n",
    "- If the server (the application providing the resource) can do what the client (the requesting application) asked, then the API will bring back the resource needed or a status code that roughly translates into mission accomplished! If the server can’t do what the client asked — maybe the client requested a resource that doesn’t exist or that it doesn’t have permission to access — then the API will return with an error message.\n",
    "\n"
   ]
  },
  {
   "cell_type": "markdown",
   "id": "3dde03de",
   "metadata": {},
   "source": [
    "**API Calls**\n",
    "- An API call is the process of a client application submitting a request to a server's API. An API call also comprises everything that happens after the request is submitted, including when the API retrieves information from the server and delivers it back to the client."
   ]
  },
  {
   "cell_type": "code",
   "execution_count": 3,
   "id": "25fe949f",
   "metadata": {},
   "outputs": [
    {
     "name": "stdout",
     "output_type": "stream",
     "text": [
      "\u001b[31mERROR: Could not find a version that satisfies the requirement json (from versions: none)\u001b[0m\u001b[31m\r\n",
      "\u001b[0m\u001b[31mERROR: No matching distribution found for json\u001b[0m\u001b[31m\r\n",
      "\u001b[0m"
     ]
    }
   ],
   "source": [
    "import sys\n",
    "!{sys.executable} -m pip install --upgrade pip -q\n",
    "!{sys.executable} -m pip install json"
   ]
  },
  {
   "cell_type": "code",
   "execution_count": 1,
   "id": "2717148b",
   "metadata": {},
   "outputs": [
    {
     "ename": "ModuleNotFoundError",
     "evalue": "No module named 'github'",
     "output_type": "error",
     "traceback": [
      "\u001b[0;31m---------------------------------------------------------------------------\u001b[0m",
      "\u001b[0;31mModuleNotFoundError\u001b[0m                       Traceback (most recent call last)",
      "\u001b[0;32m/var/folders/1t/g3ylw8h50cjdqmk5d6jh1qmm0000gn/T/ipykernel_57999/4085831891.py\u001b[0m in \u001b[0;36m<module>\u001b[0;34m\u001b[0m\n\u001b[1;32m      3\u001b[0m \u001b[0;31m########################## Github Api Scraping Task ####################\u001b[0m\u001b[0;34m\u001b[0m\u001b[0;34m\u001b[0m\u001b[0;34m\u001b[0m\u001b[0m\n\u001b[1;32m      4\u001b[0m \u001b[0;34m\u001b[0m\u001b[0m\n\u001b[0;32m----> 5\u001b[0;31m \u001b[0;32mfrom\u001b[0m \u001b[0mgithub\u001b[0m \u001b[0;32mimport\u001b[0m \u001b[0mGithub\u001b[0m\u001b[0;34m\u001b[0m\u001b[0;34m\u001b[0m\u001b[0m\n\u001b[0m\u001b[1;32m      6\u001b[0m \u001b[0;32mimport\u001b[0m \u001b[0mjson\u001b[0m\u001b[0;34m\u001b[0m\u001b[0;34m\u001b[0m\u001b[0m\n\u001b[1;32m      7\u001b[0m \u001b[0;34m\u001b[0m\u001b[0m\n",
      "\u001b[0;31mModuleNotFoundError\u001b[0m: No module named 'github'"
     ]
    }
   ],
   "source": [
    "########################## Hafiz Abdulmanan ############################\n",
    "\n",
    "########################## Github Api Scraping Task ####################\n",
    "\n",
    "from github import Github\n",
    "import json\n",
    "\n",
    "g = Github(\"Acess_Token\") # I am hiding my access token will present if you want demo\n",
    "\n",
    "\n",
    "data = {\n",
    "    'user name':str,\n",
    "    'full name':str,\n",
    "    'email':str\n",
    "}\n",
    "all_data = list()\n",
    "\n",
    "count=0\n",
    "\n",
    "for users in g.search_users(query=\"repos:>=50 location:pakistan\"):\n",
    "    #print(users.name , \" \" , users.email, \" \")\n",
    "    data['user name'] = users.login\n",
    "    data['full name'] = users.name\n",
    "    data['email'] = users.email\n",
    "    print(data)\n",
    "    all_data.append(data.copy())\n",
    "    count+=1\n",
    "\n",
    "json_string = json.dumps(all_data,indent = 4)\n",
    "with open('json_1_github_data.json', 'w') as out:\n",
    "    out.write(json_string)\n",
    "\n",
    "\n",
    "print(\"Total users :\", count)\n"
   ]
  },
  {
   "cell_type": "code",
   "execution_count": 4,
   "id": "e9998d67",
   "metadata": {},
   "outputs": [
    {
     "ename": "ModuleNotFoundError",
     "evalue": "No module named 'github'",
     "output_type": "error",
     "traceback": [
      "\u001b[0;31m---------------------------------------------------------------------------\u001b[0m",
      "\u001b[0;31mModuleNotFoundError\u001b[0m                       Traceback (most recent call last)",
      "\u001b[0;32m/var/folders/1t/g3ylw8h50cjdqmk5d6jh1qmm0000gn/T/ipykernel_57999/2119368836.py\u001b[0m in \u001b[0;36m<module>\u001b[0;34m\u001b[0m\n\u001b[1;32m      3\u001b[0m \u001b[0;31m########################## Github Api Scraping Task (Programming langueges version)####################\u001b[0m\u001b[0;34m\u001b[0m\u001b[0;34m\u001b[0m\u001b[0;34m\u001b[0m\u001b[0m\n\u001b[1;32m      4\u001b[0m \u001b[0;34m\u001b[0m\u001b[0m\n\u001b[0;32m----> 5\u001b[0;31m \u001b[0;32mfrom\u001b[0m \u001b[0mgithub\u001b[0m \u001b[0;32mimport\u001b[0m \u001b[0mGithub\u001b[0m\u001b[0;34m\u001b[0m\u001b[0;34m\u001b[0m\u001b[0m\n\u001b[0m\u001b[1;32m      6\u001b[0m \u001b[0;32mimport\u001b[0m \u001b[0mjson\u001b[0m\u001b[0;34m\u001b[0m\u001b[0;34m\u001b[0m\u001b[0m\n\u001b[1;32m      7\u001b[0m \u001b[0;34m\u001b[0m\u001b[0m\n",
      "\u001b[0;31mModuleNotFoundError\u001b[0m: No module named 'github'"
     ]
    }
   ],
   "source": [
    "########################## Hafiz Abdulmanan ############################\n",
    "\n",
    "########################## Github Api Scraping Task (Programming langueges version)####################\n",
    "\n",
    "from github import Github\n",
    "import json\n",
    "\n",
    "g = Github(\"access token\")\n",
    "\n",
    "\n",
    "data = {\n",
    "    'user name':str,\n",
    "    'full name':str,\n",
    "    'email':str,\n",
    "    'languages':list\n",
    "}\n",
    "all_data = list()\n",
    "\n",
    "for users in g.search_users(query=\"repos:>=600 location:pakistan\"):\n",
    "    #print(users.name , \" \" , users.email, \" \")\n",
    "    data['user name'] = users.login\n",
    "    data['full name'] = users.name\n",
    "    data['email'] = users.email\n",
    "\n",
    "    #languages are not directly be present at the user data but can be accessed by repos data\n",
    "    repo = g.get_user(users.login).get_repos() # to get programminng langueges we have to get info of repos\n",
    "    list_prog = list()\n",
    "    for r in repo:\n",
    "        if(r.language != None): # some repos dont have languages\n",
    "            if(r.language not in list_prog): # making sure to eliminate duplicate entries\n",
    "                list_prog.append(r.language)\n",
    "                #print(r.language)\n",
    "\n",
    "    data['languages'] = list_prog\n",
    "    print(data)\n",
    "    all_data.append(data.copy())\n",
    "\n",
    "json_string = json.dumps(all_data,indent = 4)\n",
    "with open('./json_github_data.json', 'w') as out:\n",
    "    out.write(json_string)"
   ]
  },
  {
   "cell_type": "code",
   "execution_count": null,
   "id": "585faaa1",
   "metadata": {},
   "outputs": [],
   "source": []
  }
 ],
 "metadata": {
  "kernelspec": {
   "display_name": "Python 3 (ipykernel)",
   "language": "python",
   "name": "python3"
  },
  "language_info": {
   "codemirror_mode": {
    "name": "ipython",
    "version": 3
   },
   "file_extension": ".py",
   "mimetype": "text/x-python",
   "name": "python",
   "nbconvert_exporter": "python",
   "pygments_lexer": "ipython3",
   "version": "3.8.10"
  }
 },
 "nbformat": 4,
 "nbformat_minor": 5
}
