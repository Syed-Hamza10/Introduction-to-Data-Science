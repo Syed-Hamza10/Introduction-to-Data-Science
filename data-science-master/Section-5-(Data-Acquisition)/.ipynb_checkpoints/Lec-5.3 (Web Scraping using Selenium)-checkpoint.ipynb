{
 "cells": [
  {
   "cell_type": "markdown",
   "id": "d162b058",
   "metadata": {},
   "source": [
    "---   \n",
    " <img align=\"left\" width=\"75\" height=\"75\"  src=\"https://upload.wikimedia.org/wikipedia/en/c/c8/University_of_the_Punjab_logo.png\"> \n",
    "\n",
    "<h1 align=\"center\">Department of Data Science</h1>\n",
    "<h1 align=\"center\">Course: Tools and Techniques for Data Science</h1>\n",
    "\n",
    "---\n",
    "<h3><div align=\"right\">Instructor: Muhammad Arif Butt, Ph.D.</div></h3>    \n"
   ]
  },
  {
   "cell_type": "markdown",
   "id": "3184edc1",
   "metadata": {},
   "source": [
    "<h1 align=\"center\">Lecture 5.3 (Web Scraping using Selenium - I)</h1>"
   ]
  },
  {
   "cell_type": "markdown",
   "id": "35b552c1",
   "metadata": {},
   "source": [
    "<a href=\"https://colab.research.google.com/github/arifpucit/data-science/blob/master/Section-2-Basics-of-Python-Programming/Lec-2.02-Anaconda-and-Jupyter-Notebook/02-markdown-example.ipynb\" target=\"_parent\"><img src=\"https://colab.research.google.com/assets/colab-badge.svg\" alt=\"Open In Colab\"/></a>"
   ]
  },
  {
   "cell_type": "markdown",
   "id": "d3009e3b",
   "metadata": {},
   "source": [
    "<img align=\"center\" width=\"1000\"  src=\"images/selenium_overview.png\"  >"
   ]
  },
  {
   "cell_type": "code",
   "execution_count": null,
   "id": "7fd50ab2",
   "metadata": {},
   "outputs": [],
   "source": []
  },
  {
   "cell_type": "markdown",
   "id": "bca7407c",
   "metadata": {},
   "source": [
    "<img align=\"center\" width=\"1000\"   src=\"images/trending2.png\"  >"
   ]
  },
  {
   "cell_type": "code",
   "execution_count": null,
   "id": "90ab85fc",
   "metadata": {},
   "outputs": [],
   "source": []
  },
  {
   "cell_type": "code",
   "execution_count": null,
   "id": "2d24678e",
   "metadata": {},
   "outputs": [],
   "source": []
  },
  {
   "cell_type": "code",
   "execution_count": null,
   "id": "c8f244e9",
   "metadata": {},
   "outputs": [],
   "source": []
  },
  {
   "cell_type": "code",
   "execution_count": null,
   "id": "c7682a1d",
   "metadata": {},
   "outputs": [],
   "source": []
  },
  {
   "cell_type": "code",
   "execution_count": null,
   "id": "76918a38",
   "metadata": {},
   "outputs": [],
   "source": []
  },
  {
   "cell_type": "markdown",
   "id": "c365f3b3",
   "metadata": {},
   "source": [
    "<img align=\"right\" width=\"400\" src=\"images/webscraping.png\"  >\n",
    "\n",
    "## Learning agenda of this notebook\n",
    "\n",
    "**Recap of Previous Session**\n",
    "\n",
    "\n",
    "\n",
    "1. **Overview of Selenium (Why, What and How)**\n",
    "    - Why use Selenium?\n",
    "    - What is Selenium? (Selenium Architecture)\n",
    "    - How to use Selenium?\n",
    "    - Download and Install Selenium\n",
    "    - Download Selenium WebDriver for your browser (Chrome, Safari, Firefox, Internet Explorer)\n",
    "    - Setting options of Chrome Driver (Headless mode)\n",
    "    \n",
    "    \n",
    "2. **A Step-by-Step Hello World with Selenium**\n",
    "    - Create an instance of Browser\n",
    "    - Load a Web page in the browser window\n",
    "    - Access browser information\n",
    "    - Perform Different operations on the browser\n",
    "    - Create new tab in the browser window and shift between tabs\n",
    "    - Close browser tab or close the entire session\n",
    "\n",
    "\n",
    "\n",
    "3. **Example 1:** Scraping a JavaScript Driven WebSite (https://arifpucit.github.io/bss2/js/)\n",
    "    - What is JavaScript Driven Website?\n",
    "    - What happens when we use Requests and BeautifulSoup to scrape JS websites?\n",
    "    - Using Selenium and BeautifulSoup to scrape JS websites\n",
    "\n",
    "\n",
    "4. **Example 2:** Scraping Dynamic WebSites (https://arifpucit.github.io/bss2/login/)\n",
    "    - Different Ways to Locate Web elements using Selenium\n",
    "    - Selenium `find_element()` and `find_elements()` methods\n",
    "    - Selenium Locators\n",
    "        - ID\n",
    "        - NAME\n",
    "        - TAG_NAME\n",
    "        - CLASS_NAME\n",
    "        - LINK_TEXT\n",
    "        - PARTIAL_LINK_TEXT\n",
    "        - CSS_SELECTOR\n",
    "        - XPATH\n",
    "    - Entrying text in a Text Box on a Web Page\n",
    "    - Clicking a Button element on a web page\n",
    "    - Consolidated Script to Login  and Scrape Books Data\n",
    "    \n",
    "    \n",
    "5. **Example 3:** Scraping Web Pages that Employ Infinite Scrolling: https://arifpucit.github.io/bss2/scrolling/\n",
    "    \n",
    "\n",
    "6. **Example 4:** Scraping Web Pages that Employ Pagination: https://arifpucit.github.io/bss2/pagination/\n",
    "\n",
    "\n",
    "7. **Example 5:** Scraping Web Pages that use Pop-ups: https://arifpucit.github.io/bss2/popup/\n",
    "        \n",
    "        \n",
    "8. **Bonus:**\n",
    "    - Email Scraped CSV file from Python   \n",
    "    \n",
    "\n",
    "### To Be Continued...\n",
    " - Web Scraping Best Practices and Scraping of Real Websites"
   ]
  },
  {
   "cell_type": "code",
   "execution_count": null,
   "id": "dff7c2cb",
   "metadata": {},
   "outputs": [],
   "source": []
  },
  {
   "cell_type": "code",
   "execution_count": null,
   "id": "e6d009c1",
   "metadata": {},
   "outputs": [],
   "source": []
  },
  {
   "cell_type": "markdown",
   "id": "7f38a73e",
   "metadata": {},
   "source": [
    "<img align=\"right\" width=\"200\"   src=\"images/icon1.png\"  >\n",
    "\n",
    "## 1. Overview of Selenium (Why, What and How)\n",
    "- Selenium: https://www.selenium.dev/\n"
   ]
  },
  {
   "cell_type": "code",
   "execution_count": null,
   "id": "aa01327f",
   "metadata": {},
   "outputs": [],
   "source": []
  },
  {
   "cell_type": "code",
   "execution_count": null,
   "id": "9eae81a5",
   "metadata": {},
   "outputs": [],
   "source": []
  },
  {
   "cell_type": "code",
   "execution_count": null,
   "id": "4c96c392",
   "metadata": {},
   "outputs": [],
   "source": []
  },
  {
   "cell_type": "code",
   "execution_count": null,
   "id": "bf371f92",
   "metadata": {},
   "outputs": [],
   "source": []
  },
  {
   "cell_type": "code",
   "execution_count": null,
   "id": "258c697d",
   "metadata": {},
   "outputs": [],
   "source": []
  },
  {
   "cell_type": "markdown",
   "id": "f83c85d4",
   "metadata": {},
   "source": [
    "### a. Architecture of Selenium"
   ]
  },
  {
   "cell_type": "markdown",
   "id": "8806eefb",
   "metadata": {},
   "source": [
    "<img align=\"center\" width=\"1000\"   src=\"images/seleniumarchitecture.png\"  >\n"
   ]
  },
  {
   "cell_type": "code",
   "execution_count": null,
   "id": "26fc5f3b",
   "metadata": {},
   "outputs": [],
   "source": []
  },
  {
   "cell_type": "code",
   "execution_count": null,
   "id": "074b99dc",
   "metadata": {},
   "outputs": [],
   "source": []
  },
  {
   "cell_type": "code",
   "execution_count": null,
   "id": "5e47cb0c",
   "metadata": {},
   "outputs": [],
   "source": []
  },
  {
   "cell_type": "markdown",
   "id": "ad8dd339",
   "metadata": {},
   "source": [
    "<img align=\"right\" width=\"200\"   src=\"images/icon1.png\"  >\n",
    "\n",
    "### b. Download and Install Selenium\n",
    "- Download and Install Selenium Client Library for Python: https://www.selenium.dev\n",
    "- Read Selenium Documentation for Python: https://selenium-python.readthedocs.io/ "
   ]
  },
  {
   "cell_type": "code",
   "execution_count": 1,
   "id": "1a1f8b8b",
   "metadata": {},
   "outputs": [],
   "source": [
    "import sys\n",
    "!{sys.executable} -m pip install --upgrade pip -q\n",
    "!{sys.executable} -m pip install --upgrade selenium -q"
   ]
  },
  {
   "cell_type": "code",
   "execution_count": 2,
   "id": "8df00024",
   "metadata": {},
   "outputs": [
    {
     "data": {
      "text/plain": [
       "('4.3.0',\n",
       " ['/Library/Frameworks/Python.framework/Versions/3.8/lib/python3.8/site-packages/selenium'])"
      ]
     },
     "execution_count": 2,
     "metadata": {},
     "output_type": "execute_result"
    }
   ],
   "source": [
    "import selenium\n",
    "selenium.__version__ , selenium.__path__"
   ]
  },
  {
   "cell_type": "code",
   "execution_count": null,
   "id": "3a7d033c",
   "metadata": {},
   "outputs": [],
   "source": []
  },
  {
   "cell_type": "code",
   "execution_count": null,
   "id": "494c9b6a",
   "metadata": {},
   "outputs": [],
   "source": []
  },
  {
   "cell_type": "code",
   "execution_count": null,
   "id": "53fc7bc2",
   "metadata": {},
   "outputs": [],
   "source": []
  },
  {
   "cell_type": "code",
   "execution_count": null,
   "id": "e6aa56bf",
   "metadata": {},
   "outputs": [],
   "source": []
  },
  {
   "cell_type": "code",
   "execution_count": null,
   "id": "f4fab41d",
   "metadata": {},
   "outputs": [],
   "source": []
  },
  {
   "cell_type": "markdown",
   "id": "b207f8bb",
   "metadata": {},
   "source": [
    "<img align=\"right\" width=\"200\"   src=\"images/icon1.png\"  >\n",
    "\n",
    "### c. Download Selenium WebDriver\n",
    "- Download Selenium Web Driver for Python: https://www.selenium.dev/\n",
    "- Copy the ChromeDriver executable at a known location on your disk"
   ]
  },
  {
   "cell_type": "code",
   "execution_count": null,
   "id": "bcb621a4",
   "metadata": {},
   "outputs": [],
   "source": []
  },
  {
   "cell_type": "code",
   "execution_count": null,
   "id": "71cb9c03",
   "metadata": {},
   "outputs": [],
   "source": []
  },
  {
   "cell_type": "code",
   "execution_count": null,
   "id": "6e788dc6",
   "metadata": {},
   "outputs": [],
   "source": []
  },
  {
   "cell_type": "code",
   "execution_count": null,
   "id": "2edded25",
   "metadata": {},
   "outputs": [],
   "source": []
  },
  {
   "cell_type": "code",
   "execution_count": null,
   "id": "08d4aca0",
   "metadata": {},
   "outputs": [],
   "source": []
  },
  {
   "cell_type": "code",
   "execution_count": null,
   "id": "1b860508",
   "metadata": {},
   "outputs": [],
   "source": []
  },
  {
   "cell_type": "code",
   "execution_count": null,
   "id": "faf5c650",
   "metadata": {},
   "outputs": [],
   "source": []
  },
  {
   "cell_type": "markdown",
   "id": "3e6331f3",
   "metadata": {},
   "source": [
    "## 2. A Step-by-Step Hello World with Selenium\n",
    "- Steps to follow while scraping websites:\n",
    "    - Create an instance of WebDriver\n",
    "    - Navigate to the desired Web page that you want to scrape\n",
    "    - Locate the Web element on the Web page\n",
    "    - Perform an action on that web element\n",
    "    - Write the scraped data into appropriate format in a file\n",
    "    - Close the instance of WebDriver"
   ]
  },
  {
   "cell_type": "code",
   "execution_count": null,
   "id": "da695071",
   "metadata": {},
   "outputs": [],
   "source": []
  },
  {
   "cell_type": "code",
   "execution_count": null,
   "id": "dac9895d",
   "metadata": {},
   "outputs": [],
   "source": []
  },
  {
   "cell_type": "code",
   "execution_count": null,
   "id": "fdbbbe73",
   "metadata": {},
   "outputs": [],
   "source": []
  },
  {
   "cell_type": "code",
   "execution_count": null,
   "id": "cbbbcbbd",
   "metadata": {},
   "outputs": [],
   "source": []
  },
  {
   "cell_type": "markdown",
   "id": "5cae738a",
   "metadata": {},
   "source": [
    "### a. Create an Instance of a WebDriver, Load a Webpage, Play and Quit"
   ]
  },
  {
   "cell_type": "markdown",
   "id": "b5897013",
   "metadata": {},
   "source": [
    "> **Create an instance of Browser:**\n",
    ">- The `Service('pathtochromedriver)` method is used to create a Service object that needs to be passed to `Chrome()` method.\n",
    ">- The `Chrome(service, options)` method is used to create a new instance of the chrome driver, starts the service and then creates a new instance of chrome browser.\n",
    ">- ChromeOptions is a new concept added in Selenium WebDriver starting from Selenium version 3.6. 0 which is used for customizing the ChromeDriver session. \n",
    ">- The `Options()`  method is used to change the default settings of chrome driver. The object is then passed to the webdriver.chrome() method."
   ]
  },
  {
   "cell_type": "code",
   "execution_count": 3,
   "id": "ff6779c2",
   "metadata": {},
   "outputs": [],
   "source": [
    "from selenium.webdriver import Chrome\n",
    "from selenium.webdriver.chrome.service import Service\n",
    "s = Service('/Users/arif/Documents/chromedriver')\n",
    "driver = Chrome(service=s)"
   ]
  },
  {
   "cell_type": "code",
   "execution_count": 4,
   "id": "70437746",
   "metadata": {},
   "outputs": [],
   "source": [
    "driver.quit()"
   ]
  },
  {
   "cell_type": "code",
   "execution_count": 5,
   "id": "08bd89d4",
   "metadata": {},
   "outputs": [],
   "source": [
    "from selenium.webdriver.chrome.options import Options\n",
    "\n",
    "s = Service('/Users/arif/Documents/chromedriver')\n",
    "myoptions = Options()\n",
    "myoptions.headless = True\n",
    "\n",
    "driver = Chrome(service=s, options=myoptions)"
   ]
  },
  {
   "cell_type": "code",
   "execution_count": 6,
   "id": "33f6c400",
   "metadata": {},
   "outputs": [],
   "source": [
    "driver.quit()"
   ]
  },
  {
   "cell_type": "code",
   "execution_count": 7,
   "id": "d8d4178a",
   "metadata": {},
   "outputs": [],
   "source": [
    "s = Service('/Users/arif/Documents/chromedriver')\n",
    "myoptions = Options()\n",
    "\n",
    "driver = Chrome(service=s, options=myoptions)"
   ]
  },
  {
   "cell_type": "code",
   "execution_count": null,
   "id": "e6f5f2bc",
   "metadata": {},
   "outputs": [],
   "source": []
  },
  {
   "cell_type": "code",
   "execution_count": null,
   "id": "36b29c9b",
   "metadata": {},
   "outputs": [],
   "source": []
  },
  {
   "cell_type": "code",
   "execution_count": null,
   "id": "ff37f430",
   "metadata": {},
   "outputs": [],
   "source": []
  },
  {
   "cell_type": "code",
   "execution_count": null,
   "id": "296ff28b",
   "metadata": {},
   "outputs": [],
   "source": []
  },
  {
   "cell_type": "markdown",
   "id": "2d100874",
   "metadata": {},
   "source": [
    "> **Load a Web page in the browser window:**\n",
    ">- The `driver.get('URL')` method is used to load a web page in the current browser session, after which you can access the browser and the HTML code using the driver object.\n",
    ">- This is similar to `resp = requests.get('URL')`, after which you simply get the response object."
   ]
  },
  {
   "cell_type": "code",
   "execution_count": 8,
   "id": "4b42dc2e",
   "metadata": {},
   "outputs": [],
   "source": [
    "driver.get('https://google.com')"
   ]
  },
  {
   "cell_type": "code",
   "execution_count": null,
   "id": "1c82a9d2",
   "metadata": {},
   "outputs": [],
   "source": []
  },
  {
   "cell_type": "code",
   "execution_count": null,
   "id": "72437730",
   "metadata": {},
   "outputs": [],
   "source": []
  },
  {
   "cell_type": "code",
   "execution_count": null,
   "id": "14de2638",
   "metadata": {},
   "outputs": [],
   "source": []
  },
  {
   "cell_type": "code",
   "execution_count": null,
   "id": "7750419c",
   "metadata": {},
   "outputs": [],
   "source": []
  },
  {
   "cell_type": "code",
   "execution_count": null,
   "id": "402d055f",
   "metadata": {},
   "outputs": [],
   "source": []
  },
  {
   "cell_type": "markdown",
   "id": "6498b1da",
   "metadata": {},
   "source": [
    "> **Access browser information:** \n",
    ">- There is a bunch information about the browser you can request, including window handles, browser size / position, cookies, alerts, etc."
   ]
  },
  {
   "cell_type": "code",
   "execution_count": 9,
   "id": "cc4a36bc",
   "metadata": {},
   "outputs": [
    {
     "name": "stdout",
     "output_type": "stream",
     "text": [
      "['__abstractmethods__', '__class__', '__delattr__', '__dict__', '__dir__', '__doc__', '__enter__', '__eq__', '__exit__', '__format__', '__ge__', '__getattribute__', '__gt__', '__hash__', '__init__', '__init_subclass__', '__le__', '__lt__', '__module__', '__ne__', '__new__', '__reduce__', '__reduce_ex__', '__repr__', '__setattr__', '__sizeof__', '__str__', '__subclasshook__', '__weakref__', '_abc_impl', '_authenticator_id', '_file_detector', '_get_cdp_details', '_is_remote', '_mobile', '_shadowroot_cls', '_switch_to', '_unwrap_value', '_web_element_cls', '_wrap_value', 'add_cookie', 'add_credential', 'add_virtual_authenticator', 'application_cache', 'back', 'bidi_connection', 'capabilities', 'caps', 'close', 'command_executor', 'create_options', 'create_web_element', 'current_url', 'current_window_handle', 'delete_all_cookies', 'delete_cookie', 'delete_network_conditions', 'desired_capabilities', 'error_handler', 'execute', 'execute_async_script', 'execute_cdp_cmd', 'execute_script', 'file_detector', 'file_detector_context', 'find_element', 'find_elements', 'forward', 'fullscreen_window', 'get', 'get_cookie', 'get_cookies', 'get_credentials', 'get_issue_message', 'get_log', 'get_network_conditions', 'get_pinned_scripts', 'get_screenshot_as_base64', 'get_screenshot_as_file', 'get_screenshot_as_png', 'get_sinks', 'get_window_position', 'get_window_rect', 'get_window_size', 'implicitly_wait', 'launch_app', 'log_types', 'maximize_window', 'minimize_window', 'mobile', 'name', 'orientation', 'page_source', 'pin_script', 'pinned_scripts', 'port', 'print_page', 'quit', 'refresh', 'remove_all_credentials', 'remove_credential', 'remove_virtual_authenticator', 'save_screenshot', 'service', 'session_id', 'set_network_conditions', 'set_page_load_timeout', 'set_permissions', 'set_script_timeout', 'set_sink_to_use', 'set_user_verified', 'set_window_position', 'set_window_rect', 'set_window_size', 'start_client', 'start_desktop_mirroring', 'start_session', 'start_tab_mirroring', 'stop_casting', 'stop_client', 'switch_to', 'timeouts', 'title', 'unpin', 'vendor_prefix', 'virtual_authenticator_id', 'window_handles']\n"
     ]
    }
   ],
   "source": [
    "print(dir(driver))"
   ]
  },
  {
   "cell_type": "code",
   "execution_count": 10,
   "id": "1fa41d46",
   "metadata": {},
   "outputs": [
    {
     "data": {
      "text/plain": [
       "'Google'"
      ]
     },
     "execution_count": 10,
     "metadata": {},
     "output_type": "execute_result"
    }
   ],
   "source": [
    "driver.title"
   ]
  },
  {
   "cell_type": "code",
   "execution_count": 11,
   "id": "76a13717",
   "metadata": {},
   "outputs": [
    {
     "data": {
      "text/plain": [
       "'https://www.google.com/'"
      ]
     },
     "execution_count": 11,
     "metadata": {},
     "output_type": "execute_result"
    }
   ],
   "source": [
    "driver.current_url"
   ]
  },
  {
   "cell_type": "code",
   "execution_count": 12,
   "id": "ebad206a",
   "metadata": {},
   "outputs": [
    {
     "data": {
      "text/plain": [
       "'CDwindow-C887EC00EBFBF3AE6E827A122E5020FF'"
      ]
     },
     "execution_count": 12,
     "metadata": {},
     "output_type": "execute_result"
    }
   ],
   "source": [
    "driver.current_window_handle"
   ]
  },
  {
   "cell_type": "code",
   "execution_count": 13,
   "id": "99f67e79",
   "metadata": {},
   "outputs": [
    {
     "data": {
      "text/plain": [
       "'1cbaf67238071ddf5d6d1fe7344dd21a'"
      ]
     },
     "execution_count": 13,
     "metadata": {},
     "output_type": "execute_result"
    }
   ],
   "source": [
    "driver.session_id"
   ]
  },
  {
   "cell_type": "code",
   "execution_count": 14,
   "id": "d5a502ff",
   "metadata": {},
   "outputs": [
    {
     "data": {
      "text/plain": [
       "'<html itemscope=\"\" itemtype=\"http://schema.org/WebPage\" lang=\"en-PK\"><head><meta charset=\"UTF-8\"><meta content=\"origin\" name=\"referrer\"><meta content=\"/images/branding/googleg/1x/googleg_standard_color_128dp.png\" itemprop=\"image\"><link href=\"/manifest?pwa=webhp\" crossorigin=\"use-credentials\" rel=\"manifest\"><title>Google</title><script src=\"https://apis.google.com/_/scs/abc-static/_/js/k=gapi.gapi.en.9VzcbxpRKHk.O/m=gapi_iframes,googleapis_client/rt=j/sv=1/d=1/ed=1/rs=AHpOoo_aUoPPaITb9EEzSW7K7ij6VHBgCQ/cb=gapi.loaded_0\" nonce=\"g4FT8gAi4RUOEZef6KQc0A\" async=\"\"></script><script nonce=\"g4FT8gAi4RUOEZef6KQc0A\">(function(){window.google={kEI:\\'Tce6YprHBqWAzgO8vJaoAw\\',kEXPI:\\'31\\',kBL:\\'WujE\\'};google.sn=\\'webhp\\';google.kHL=\\'en-PK\\';})();(function(){\\nvar f=this||self;var h,k=[];function l(a){for(var b;a&&(!a.getAttribute||!(b=a.getAttribute(\"eid\")));)a=a.parentNode;return b||h}function m(a){for(var b=null;a&&(!a.getAttribute||!(b=a.getAttribute(\"leid\")));)a=a.parentNode;return b}\\nfunction n(a,b,c,d,g){var e=\"\";c||-1!==b.search(\"&ei=\")||(e=\"&ei=\"+l(d),-1===b.search(\"&lei=\")&&(d=m(d))&&(e+=\"&lei=\"+d));d=\"\";!c&&f._cshid&&-1===b.search(\"&cshid=\")&&\"slh\"!==a&&(d=\"&cshid=\"+f._cshid);c=c||\"/\"+(g||\"gen_204\")+\"?atyp=i&ct=\"+a+\"&cad=\"+b+e+\"&zx=\"+Date.now()+d;/^http:/i.test(c)&&\"https:\"===window.location.protocol&&(google.ml&&google.ml(Error(\"a\"),!1,{src:c,glmm:1}),c=\"\");return c};h=google.kEI;google.getEI=l;google.getLEI=m;google.ml=function(){return null};google.log=function(a,b,c,d,g){if(c=n(a,b,c,d,g)){a=new Image;var e=k.length;k[e]=a;a.onerror=a.onload=a.onabort=function(){delete k[e]};a.src=c}};google.logUrl=n;}).call(this);(function(){\\ngoogle.y={};google.sy=[];google.x=function(a,b){if(a)var c=a.id;else{do c=Math.random();while(google.y[c])}google.y[c]=[a,b];return!1};google.sx=function(a){google.sy.push(a)};google.lm=[];google.plm=function(a){google.lm.push.apply(google.lm,a)};google.lq=[];google.load=function(a,b,c){google.lq.push([[a],b,c])};google.loadAll=function(a,b){google.lq.push([a,b])};google.bx=!1;google.lx=function(){};}).call(this);google.f={};(function(){\\ndocument.documentElement.addEventListener(\"submit\",function(b){var a;if(a=b.target){var c=a.getAttribute(\"data-submitfalse\");a=\"1\"===c||\"q\"===c&&!a.elements.q.value?!0:!1}else a=!1;a&&(b.preventDefault(),b.stopPropagation())},!0);document.documentElement.addEventListener(\"click\",function(b){var a;a:{for(a=b.target;a&&a!==document.documentElement;a=a.parentElement)if(\"A\"===a.tagName){a=\"1\"===a.getAttribute(\"data-nohref\");break a}a=!1}a&&b.preventDefault()},!0);}).call(this);(function(){google.hs={h:true,nhs:false,sie:false};})();(function(){google.c={btfi:false,cap:0,frt:false,gl:true,gsip:true,lhc:false,ll:true,taf:false,timl:false,wvclse:true,wve:true};(function(){\\nvar e=this||self;var g=window.performance;google.timers={};google.startTick=function(a){google.timers[a]={t:{start:Date.now()},e:{},m:{}}};google.tick=function(a,b,c){google.timers[a]||google.startTick(a);c=void 0!==c?c:Date.now();b instanceof Array||(b=[b]);for(var d=0,f;f=b[d++];)google.timers[a].t[f]=c};google.c.e=function(a,b,c){google.timers[a].e[b]=c};google.c.b=function(a){var b=google.timers.load.m;b[a]&&google.ml(Error(\"a\"),!1,{m:a});b[a]=!0};google.c.u=function(a){var b=google.timers.load.m;if(b[a]){b[a]=!1;for(a in b)if(b[a])return;google.csiReport()}else{var c=\"\",d;for(d in b)c+=d+\":\"+b[d]+\";\";google.ml(Error(\"b\"),!1,{m:a,b:!1===b[a],s:c})}};function h(a,b,c,d){a.addEventListener?a.addEventListener(b,c,d||!1):a.attachEvent&&a.attachEvent(\"on\"+b,c)}function k(a,b,c,d){\"addEventListener\"in a?a.removeEventListener(b,c,d||!1):a.attachEvent&&a.detachEvent(\"on\"+b,c)}\\ngoogle.rll=function(a,b,c){function d(f){c(f);k(a,\"load\",d);k(a,\"error\",d)}h(a,\"load\",d);b&&h(a,\"error\",d)};e.google.aft=function(a){a.setAttribute(\"data-iml\",String(Date.now()))};google.startTick(\"load\");var l=google.timers.load;a:{var m=l.t;if(g){var n=g.timing;if(n){var p=n.navigationStart,q=n.responseStart;if(q>p&&q<=m.start){m.start=q;l.wsrt=q-p;break a}}g.now&&(l.wsrt=Math.floor(g.now()))}}\\nfunction r(a){if(\"hidden\"===document.visibilityState){google.c.wve&&(google.c.fh=a);var b;window.performance&&window.performance.timing&&(b=Math.floor(window.performance.timing.navigationStart+a));google.tick(\"load\",\"fht\",b);return!0}return!1}function t(a){r(a.timeStamp)&&k(document,\"visibilitychange\",t,!0)}google.c.wve&&(google.c.fh=Infinity);h(document,\"visibilitychange\",t,!0);r(0);google.c.b(\"pr\");google.c.b(\"xe\");if(google.c.gl){var u=function(a){a&&e.google.aft(a.target)};h(document.documentElement,\"load\",u,!0);google.c.glu=function(){k(document.documentElement,\"load\",u,!0)}};}).call(this);})();(function(){\\nfunction g(){return window.performance&&window.performance.navigation&&window.performance.navigation.type};function m(a){if(!a||q(a))return 0;if(!a.getBoundingClientRect)return 1;var b=function(c){return c.getBoundingClientRect()};return r(a,b)?0:t(a,b)}function r(a,b){var c;a:{for(c=a;c&&void 0!==c;c=c.parentElement)if(\"hidden\"===c.style.overflow)break a;c=null}if(!c)return!1;a=b(a);b=b(c);return a.bottom<b.top||a.top>=b.bottom||a.right<b.left||a.left>=b.right}\\nfunction q(a){return\"none\"===a.style.display?!0:document.defaultView&&document.defaultView.getComputedStyle?(a=document.defaultView.getComputedStyle(a),!!a&&(\"hidden\"===a.visibility||\"0px\"===a.height&&\"0px\"===a.width)):!1}\\nfunction t(a,b){var c=b(a);a=c.left+window.pageXOffset;b=c.top+window.pageYOffset;var d=c.width;c=c.height;var e=0;if(0>=c&&0>=d)return e;var f=window.innerHeight||document.documentElement.clientHeight;0>b+c?e=2:b>=f&&(e=4);if(0>a+d||a>=(window.innerWidth||document.documentElement.clientWidth))e|=8;e||(e=1,b+c>f&&(e|=4));return e};var u=window.location,v=\"aft afti afts frt hct prt pprt sct\".split(\" \");function w(a){return(a=u.search.match(new RegExp(\"[?&]\"+a+\"=(\\\\\\\\d+)\")))?Number(a[1]):-1}\\nfunction x(a){var b=google.timers.load,c=b.m;if(!c||!c.prs){var d=g()?0:w(\"qsubts\");0<d&&(c=w(\"fbts\"),0<c&&(b.t.start=Math.max(d,c)));var e=b.t,f=e.start;c={wsrt:b.wsrt};for(var n=0,h;h=v[n++];){var k=e[h];k&&f&&(c[h]=k-f)}0<d&&(c.gsasrt=b.t.start-d);b=b.e;a=\"/gen_204?s=\"+google.sn+\"&t=\"+(a?\"cap\":\"aft\")+\"&atyp=csi&ei=\"+google.kEI+\"&rt=\";d=\"\";for(l in c)a+=\"\"+d+l+\".\"+c[l],d=\",\";for(var p in b)a+=\"&\"+p+\"=\"+b[p];window._cshid&&(a+=\"&cshid=\"+window._cshid);2===g()&&(a+=\"&bb=1\");1===g()&&(a+=\"&r=1\");if(\"gsasrt\"in\\nc){var l=w(\"qsd\");0<l&&(a+=\"&qsd=\"+l)}google.kBL&&(a+=\"&bl=\"+google.kBL);l=a;navigator.sendBeacon?navigator.sendBeacon(l,\"\"):google.log(\"\",\"\",l)}};var y=window.innerHeight||document.documentElement.clientHeight,z=0,A=0,B=0,C=0,D=0,E=0,F=0,G=!0,H=!0,I=-1,J;function K(a,b,c,d){var e=google.timers.load.t[a];e&&(c||d&&null!=b&&b<e)||google.tick(\"load\",a,b)}function L(a,b,c){\"1\"===a.getAttribute(\"data-frt\")&&(K(\"frt\",c,!1,!0),++C,M());b&&(K(\"aft\",c,!1,!0),K(\"afti\",c,!1,!0),++E,M());google.c.timl&&K(\"iml\",c,!1,!0);++A;a.setAttribute(\"data-frt\",\"0\");(google.c.timl||b)&&N()}function N(){var a=google.c.timl?A===z:D===E;!H&&a&&google.c.u(\"il\")}\\nfunction M(){if(!G){var a=E===D,b=C===B;a&&b&&(google.c.e(\"load\",\"ima\",String(D)),google.c.e(\"load\",\"imad\",String(F)),google.c.e(\"load\",\"aftp\",String(Math.round(I))),J&&clearTimeout(J),x());\"hidden\"===document.visibilityState&&google.c.e(\"load\",\"hddn\",\"1\");if(null!==google.aftq&&(2===google.fevent||3===google.fevent?google.fevent:1)&((a?1:0)|(b?2:0))){google.tick(\"load\",\"aftqf\",Date.now());var c;for(a=0;b=null==(c=google.aftq)?void 0:c[a++];)try{b()}catch(d){google.ml(d,!1)}google.aftq=null}}}\\nvar O=\"src bsrc url ll image img-url\".split(\" \");function P(a){for(var b=0,c;c=O[b++];)if(a.getAttribute(\"data-\"+c))return!0;return!1}function Q(a){var b=a.parentElement;if(google.c.gsip&&b&&(\"G-IMG\"===b.tagName||b.classList.contains(\"uhHOwf\"))&&(b.style.height||b.style.width)){var c=b.getBoundingClientRect(),d=a.getBoundingClientRect();if(c.height<=d.height||c.width<=d.width)return b}return a}function R(a,b){0===b||b&8||(a.setAttribute(\"data-frt\",\"1\"),++B)}\\nfunction S(){var a=google.c.cap,b=google.timers.load.wsrt;void 0!==b&&(J=setTimeout(function(){K(\"aft\");x(!0)},Math.max(0,a-b)))}0<google.c.cap&&S();google.c.wh=Math.floor(window.innerHeight||document.documentElement.clientHeight);google.c.e(\"load\",\"wh\",String(google.c.wh));google.c.b(\"il\");google.c.setup=function(a,b,c){var d=a.getAttribute(\"data-atf\");if(d)return c=Number(d),b&&!a.hasAttribute(\"data-frt\")&&R(a,c),c;var e=\"string\"!==typeof a.src||!a.src,f=!!a.getAttribute(\"data-bsrc\");d=!!a.getAttribute(\"data-deferred\");var n=!d&&P(a);n&&a.setAttribute(\"data-lzy_\",\"1\");var h=Q(a);h=m(h);a.setAttribute(\"data-atf\",String(h));var k=!!(h&1);e=(e||a.complete)&&!d&&!f&&!(google.c.ll&&k&&n);f=!google.c.lhc&&Number(a.getAttribute(\"data-iml\"))||0;++z;if(e&&!f||a.hasAttribute(\"data-noaft\"))a.setAttribute(\"data-frt\",\"0\"),++A;else{if(n=google.c.btfi&&h&4&&f&&I<y){var p=a.getBoundingClientRect().top+window.pageYOffset;!c||p<c?I=k?y:p:n=!1}k&&(++D,d&&++F);b&&R(a,h);n&&K(\"aft\",f,!1,!0);e&&f?L(a,k,google.c.btfi?0:f):(k&&(!c||c>=y)&&(I=y),google.rll(a,!0,function(){L(a,k,Date.now())}))}return h};google.c.ubr=function(a,b,c){google.c.taf&&I<y?(I=c||-1,K(\"aft\",b)):0>I&&(c&&(I=c),google.c.btfi&&K(\"aft\",b));a||K(\"afts\",b,!0);K(\"aft\",b,!0);G&&!google.c.frt&&(G=!1,M());a&&H&&(K(\"prt\",b),google.c.timl&&K(\"iml\",b,!0),H=!1,N(),google.c.setup=function(){return 0},google.c.ubr=function(){})};}).call(this);(function(){\\nvar b=[function(){google.tick&&google.tick(\"load\",\"dcl\")}];google.dclc=function(a){b.length?b.push(a):a()};function c(){for(var a=b.shift();a;)a(),a=b.shift()}window.addEventListener?(document.addEventListener(\"DOMContentLoaded\",c,!1),window.addEventListener(\"load\",c,!1)):window.attachEvent&&window.attachEvent(\"onload\",c);}).call(this);(function(){\\nvar b=[];google.jsc={xx:b,x:function(a){b.push(a)},mm:[],m:function(a){google.jsc.mm.length||(google.jsc.mm=a)}};}).call(this);(function(){\\nvar e=this||self;\\n\\nvar f={};function w(a,c){if(null===c)return!1;if(\"contains\"in a&&1==c.nodeType)return a.contains(c);if(\"compareDocumentPosition\"in a)return a==c||!!(a.compareDocumentPosition(c)&16);for(;c&&a!=c;)c=c.parentNode;return c==a};var x=function(a,c){return function(d){d||(d=window.event);return c.call(a,d)}},z=\"undefined\"!=typeof navigator&&/Macintosh/.test(navigator.userAgent),A=function(){this._mouseEventsPrevented=!0};var F=function(a){this.g=a;this.h=[]},G=function(a){for(var c=0;c<a.h.length;++c){var d=a.g,b=a.h[c];d.removeEventListener?d.removeEventListener(b.eventType,b.o,b.capture):d.detachEvent&&d.detachEvent(\"on\"+b.eventType,b.o)}a.h=[]};\\nvar H=e._jsa||{};H._cfc=void 0;H._aeh=void 0;var I=function(){this.h=this.g=null},K=function(a,c){var d=J;d.g=a;d.h=c;return d};I.prototype.i=function(){var a=this.g;this.g&&this.g!=this.h?this.g=this.g.__owner||this.g.parentNode:this.g=null;return a};var L=function(){this.j=[];this.g=0;this.h=null;this.l=!1};L.prototype.i=function(){if(this.l)return J.i();if(this.g!=this.j.length){var a=this.j[this.g];this.g++;a!=this.h&&a&&a.__owner&&(this.l=!0,K(a.__owner,this.h));return a}return null};var J=new I,M=new L;\\nvar Q=function(){this.s=[];this.g=[];this.h=[];this.l={};this.i=null;this.j=[];N(this,\"_custom\")},R=function(a){return String.prototype.trim?a.trim():a.replace(/^\\\\s+/,\"\").replace(/\\\\s+$/,\"\")},ha=function(a,c){return function m(b,g){g=void 0===g?!0:g;var l=c;if(\"_custom\"==l){l=b.detail;if(!l||!l._type)return;l=l._type}var k=l;\"click\"==k&&(z&&b.metaKey||!z&&b.ctrlKey||2==b.which||null==b.which&&4==b.button||b.shiftKey)?k=\"clickmod\":\"keydown\"==k&&!b.a11ysc&&(k=\"maybe_click\");var u=b.srcElement||b.target;l=S(k,b,u,\"\",null);if(b.path){M.j=b.path;M.g=0;M.h=this;M.l=!1;var O=M}else O=K(u,this);for(var r;r=O.i();){var h=r;var p=void 0;r=h;var q=k,aa=b;var n=r.__jsaction;if(!n){var y;n=null;\"getAttribute\"in r&&(n=r.getAttribute(\"jsaction\"));if(y=n){n=f[y];if(!n){n={};for(var B=y.split(ba),ca=B?B.length:0,C=0;C<ca;C++){var v=B[C];if(v){var D=v.indexOf(\":\"),P=-1!=D,ea=P?R(v.substr(0,D)):da;v=P?R(v.substr(D+1)):v;n[ea]=v}}f[y]=n}r.__jsaction=n}else n=fa,r.__jsaction=n}\"maybe_click\"==q&&n.click?(p=q,q=\"click\"):\"clickkey\"==q?q=\"click\":\"click\"!=q||n.click||(q=\"clickonly\");p=H._cfc&&n.click?H._cfc(r,aa,n,q,p):{eventType:p?p:q,action:n[q]||\"\",event:null,ignore:!1};l=S(p.eventType,p.event||b,u,p.action||\"\",h,l.timeStamp);if(p.ignore||p.action)break}l&&\"touchend\"==l.eventType&&(l.event._preventMouseEvents=A);if(p&&p.action){if(\"mouseenter\"==k||\"mouseleave\"==k||\"pointerenter\"==k||\"pointerleave\"==k)if(u=b.relatedTarget,!(\"mouseover\"==b.type&&\"mouseenter\"==k||\"mouseout\"==b.type&&\"mouseleave\"==k||\"pointerover\"==\\nb.type&&\"pointerenter\"==k||\"pointerout\"==b.type&&\"pointerleave\"==k)||u&&(u===h||w(h,u)))l.action=\"\",l.actionElement=null;else{k={};for(var t in b)\"function\"!==typeof b[t]&&\"srcElement\"!==t&&\"target\"!==t&&(k[t]=b[t]);k.type=\"mouseover\"==b.type?\"mouseenter\":\"mouseout\"==b.type?\"mouseleave\":\"pointerover\"==b.type?\"pointerenter\":\"pointerleave\";k.target=k.srcElement=h;k.bubbles=!1;l.event=k;l.targetElement=h}}else l.action=\"\",l.actionElement=null;h=l;a.i&&!h.event.a11ysgd&&(t=S(h.eventType,h.event,h.targetElement,h.action,h.actionElement,h.timeStamp),\"clickonly\"==t.eventType&&(t.eventType=\"click\"),a.i(t,!0));if(h.actionElement||\"maybe_click\"==h.eventType){if(a.i){if(!h.actionElement||\"A\"!=h.actionElement.tagName||\"click\"!=h.eventType&&\"clickmod\"!=h.eventType||(b.preventDefault?b.preventDefault():b.returnValue=!1),(b=a.i(h))&&g){m.call(this,b,!1);return}}else{if((g=e.document)&&!g.createEvent&&g.createEventObject)try{var E=g.createEventObject(b)}catch(ka){E=b}else E=b;h.event=E;a.j.push(h)}H._aeh&&H._aeh(h)}}},S=function(a,c,d,b,g,m){return{eventType:a,event:c,targetElement:d,action:b,actionElement:g,timeStamp:m||Date.now()}},ia=function(a,c){return function(d){var b=a,g=c,m=!1;\"mouseenter\"==b?b=\"mouseover\":\"mouseleave\"==b?b=\"mouseout\":\"pointerenter\"==b?b=\"pointerover\":\"pointerleave\"==b&&(b=\"pointerout\");if(d.addEventListener){if(\"focus\"==b||\"blur\"==b||\"error\"==b||\"load\"==b)m=!0;d.addEventListener(b,g,m)}else d.attachEvent&&(\"focus\"==b?b=\"focusin\":\"blur\"==b&&(b=\"focusout\"),g=x(d,g),d.attachEvent(\"on\"+b,g));return{eventType:b,o:g,capture:m}}},N=function(a,c){if(!a.l.hasOwnProperty(c)){var d=ha(a,c),b=ia(c,d);a.l[c]=d;a.s.push(b);for(d=0;d<a.g.length;++d){var g=a.g[d];g.h.push(b.call(null,g.g))}\"click\"==c&&N(a,\"keydown\")}};Q.prototype.o=function(a){return this.l[a]};var W=function(a,c){var d=new F(c);a:{for(var b=0;b<a.g.length;b++)if(T(a.g[b].g,c)){c=!0;break a}c=!1}if(c)return a.h.push(d),d;U(a,d);a.g.push(d);V(a);return d},V=function(a){for(var c=a.h.concat(a.g),d=[],b=[],g=0;g<a.g.length;++g){var m=a.g[g];X(m,c)?(d.push(m),G(m)):b.push(m)}for(g=0;g<a.h.length;++g)m=a.h[g],X(m,c)?d.push(m):(b.push(m),U(a,m));a.g=b;a.h=d},U=function(a,c){var d=c.g;ja&&(d.style.cursor=\"pointer\");for(d=0;d<a.s.length;++d)c.h.push(a.s[d].call(null,c.g))},Y=function(a,c){a.i=c;a.j&&(0<a.j.length&&c(a.j),a.j=null)},X=function(a,c){for(var d=0;d<c.length;++d)if(c[d].g!=a.g&&T(c[d].g,a.g))return!0;return!1},T=function(a,c){for(;a!=c&&c.parentNode;)c=c.parentNode;return a==c},ja=\"undefined\"!=typeof navigator&&/iPhone|iPad|iPod/.test(navigator.userAgent),ba=/\\\\s*;\\\\s*/,da=\"click\",fa={};var Z=new Q;W(Z,window.document.documentElement);N(Z,\"click\");N(Z,\"focus\");N(Z,\"focusin\");N(Z,\"blur\");N(Z,\"focusout\");N(Z,\"error\");N(Z,\"load\");N(Z,\"auxclick\");N(Z,\"change\");N(Z,\"dblclick\");N(Z,\"beforeinput\");N(Z,\"input\");N(Z,\"keyup\");N(Z,\"keydown\");N(Z,\"keypress\");N(Z,\"mousedown\");N(Z,\"mouseenter\");N(Z,\"mouseleave\");N(Z,\"mouseout\");N(Z,\"mouseover\");N(Z,\"mouseup\");N(Z,\"paste\");N(Z,\"touchstart\");N(Z,\"touchend\");N(Z,\"touchcancel\");N(Z,\"transitioncancel\");N(Z,\"transitionend\");N(Z,\"transitionrun\");N(Z,\"transitionstart\");N(Z,\"dragover\");N(Z,\"dragenter\");N(Z,\"dragleave\");N(Z,\"drop\");N(Z,\"dragstart\");N(Z,\"dragend\");N(Z,\"speech\");(function(a){google.jsad=function(c){Y(a,c)};google.jsaac=function(c){return W(a,c)};google.jsarc=function(c){G(c);for(var d=!1,b=0;b<a.g.length;++b)if(a.g[b]===c){a.g.splice(b,1);d=!0;break}if(!d)for(d=0;d<a.h.length;++d)if(a.h[d]===c){a.h.splice(d,1);break}V(a)}})(Z);e.gws_wizbind=function(a){return{trigger:function(c){var d=a.o(c.type);d||(N(a,c.type),d=a.o(c.type));var b=c.target||c.srcElement;d&&d.call(b.ownerDocument.documentElement,c)},bind:function(c){Y(a,c)}}}(Z);}).call(this);</script> <script nonce=\"g4FT8gAi4RUOEZef6KQc0A\">(function(){google.xjs={ck:\\'xjs.s.o-kviWCEtSc.L.W.O\\',cs:\\'ACT90oHMhwj4-G_fJfEvIj6kzgYh1JK2YA\\',excm:[]};})();</script> <script nonce=\"g4FT8gAi4RUOEZef6KQc0A\">(function(){google.kEXPI=\\'0,1361118,1966847,372284,700,380089,68226,12680,2820,32989,43177,9017,11977,125036,26221,29239,6654,14,101295,9767,27083,29258,13388,1716,50730,16588,35801,58,7094,1623,2773,1476,1894,2905,4722,958,827,11473,181,751,69,3196,2525,416,382,2027,113,2896,122,4247,1174,3437,26,3203,1898,358,959,1358,2278,1112,475,304,142,2451,1246,1913,5395788,5995949,2828377,4,2,5,2,6,4,12,25734682,2278747,445,1122,936182\\';})();function _DumpException(e){throw e;}\\nfunction _F_installCss(c){}\\n(function(){window.google.xjsu=\\'/xjs/_/js/k\\\\x3dxjs.s.en_GB.GcYwsmjdu-4.O/am\\\\x3dAKAKAF4AABAAMAMEAAAAAAAAAEAABE8ZAQAgECIqCQAAACIkAgAAAwAIQBAIAQAAAHxk3gAE_A0ADDThAgAAAAAAAAAEcAnBwA0SBQGAAAAAAAAgVlNXDAAFgQ/d\\\\x3d1/ed\\\\x3d1/dg\\\\x3d2/br\\\\x3d1/rs\\\\x3dACT90oEYQ7mN1wAx-JUNbawhONbyEJU2wA/m\\\\x3dcdos,dpf,hsm,jsa,d,csi\\';})();</script> <script defer=\"\" src=\"/xjs/_/js/k=xjs.s.en_GB.GcYwsmjdu-4.O/am=AKAKAF4AABAAMAMEAAAAAAAAAEAABE8ZAQAgECIqCQAAACIkAgAAAwAIQBAIAQAAAHxk3gAE_A0ADDThAgAAAAAAAAAEcAnBwA0SBQGAAAAAAAAgVlNXDAAFgQ/d=1/ed=1/dg=2/br=1/rs=ACT90oEYQ7mN1wAx-JUNbawhONbyEJU2wA/m=cdos,dpf,hsm,jsa,d,csi\" nonce=\"g4FT8gAi4RUOEZef6KQc0A\"></script>     <script nonce=\"g4FT8gAi4RUOEZef6KQc0A\">(function(){window._noJsad=1;})();(function(){window._skwEvts=[];})();(function(){window.google.erd={jsr:1,bv:1608,sd:true,de:true};})();(function(){var sdo=false;var mei=10;\\nvar f=this||self;var g,h=null!=(g=f.mei)?g:1,m,n=null!=(m=f.sdo)?m:!0,p=0,q,r=google.erd,u=r.jsr;google.ml=function(a,b,d,k,c){c=void 0===c?2:c;b&&(q=a&&a.message);if(google.dl)return google.dl(a,c,d),null;if(0>u){window.console&&console.error(a,d);if(-2===u)throw a;b=!1}else b=!a||!a.message||\"Error loading script\"===a.message||p>=h&&!k?!1:!0;if(!b)return null;p++;d=d||{};var e=c;c=encodeURIComponent;b=\"/gen_204?atyp=i&ei=\"+c(google.kEI);google.kEXPI&&(b+=\"&jexpid=\"+c(google.kEXPI));b+=\"&srcpg=\"+c(google.sn)+\"&jsr=\"+c(r.jsr)+\"&bver=\"+c(r.bv)+(\"&jsel=\"+e);e=a.lineNumber;void 0!==e&&(b+=\"&line=\"+\\ne);var l=a.fileName;l&&(b+=\"&script=\"+c(l),e&&l===window.location.href&&(e=document.documentElement.outerHTML.split(\"\\\\n\")[e],b+=\"&cad=\"+c(e?e.substring(0,300):\"No script found.\")));for(var t in d)b+=\"&\",b+=c(t),b+=\"=\",b+=c(d[t]);b=b+\"&emsg=\"+c(a.name+\": \"+a.message);b=b+\"&jsst=\"+c(a.stack||\"N/A\");12288<=b.length&&(b=b.substr(0,12288));a=b;k||google.log(0,\"\",a);return a};window.onerror=function(a,b,d,k,c){q!==a&&(a=c instanceof Error?c:Error(a),void 0===d||\"lineNumber\"in a||(a.lineNumber=d),void 0===b||\"fileName\"in a||(a.fileName=b),google.ml(a,!1,void 0,!1,\"SyntaxError\"===a.name||\"SyntaxError\"===a.message.substring(0,11)?2:0));q=null;n&&p>=h&&(window.onerror=null)};})();;this.gbar_={CONFIG:[[[0,\"www.gstatic.com\",\"og.qtm.en_US.9qKbA91dtuI.O\",\"com.pk\",\"en\",\"538\",0,[4,2,\"\",\"\",\"\",\"455972431\",\"0\"],null,\"Tce6YqjcB9ailwSGiq_AAg\",null,0,\"og.qtm.rj7C7F4m0ng.L.W.O\",\"AA2YrTt8_n-aYPM6f2hRngEG_n2kDjz7kQ\",\"AA2YrTvbaNRiBNUN2965QXbOhz9Epb0uQg\",\"\",2,1,200,\"PAK\",null,null,\"1\",\"538\",1],null,[1,0.1000000014901161,2,1],[1,0.001000000047497451,1],[0,0,0,null,\"\",\"\",\"\",\"\"],[0,0,\"\",1,0,0,0,0,0,0,null,0,0,null,0,0,null,null,0,0,0,\"\",\"\",\"\",\"\",\"\",\"\",null,0,0,0,0,0,null,null,null,\"rgba(32,33,36,1)\",\"rgba(255,255,255,1)\",0,0,1,null,null,1,0,0],null,null,[\"1\",\"gci_91f30755d6a6b787dcc2a4062e6e9824.js\",\"googleapis.client:gapi.iframes\",\"\",\"en\"],null,null,null,null,[\"m;/_/scs/abc-static/_/js/k=gapi.gapi.en.9VzcbxpRKHk.O/d=1/rs=AHpOoo_aUoPPaITb9EEzSW7K7ij6VHBgCQ/m=__features__\",\"https://apis.google.com\",\"\",\"\",\"\",\"\",null,1,\"es_plusone_gc_20220607.1_p0\",\"en\",null,0],[0.009999999776482582,\"com.pk\",\"538\",[null,\"\",\"0\",null,1,5184000,null,null,\"\",null,null,null,null,null,0,null,0,0,1,0,0,0,null,null,0,0,null,0,0,0,0,0],null,null,null,0,null,null,[\"5061451\",\"google\\\\\\\\.(com|ru|ca|by|kz|com\\\\\\\\.mx|com\\\\\\\\.tr)$\",1]],[1,1,null,40400,538,\"PAK\",\"en\",\"455972431.0\",8,0.009999999776482582,0,0,null,null,null,null,\"3700949\",null,null,null,\"Tce6YqjcB9ailwSGiq_AAg\",0,0,0,null,2,5,\"wk\",166],[[null,null,null,\"https://www.gstatic.com/og/_/js/k=og.qtm.en_US.9qKbA91dtuI.O/rt=j/m=qabr,q_dnp,qcwid,qapid,qald/exm=qaaw,qadd,qaid,qein,qhaw,qhbr,qhch,qhga,qhid,qhin,qhpr/d=1/ed=1/rs=AA2YrTt8_n-aYPM6f2hRngEG_n2kDjz7kQ\"],[null,null,null,\"https://www.gstatic.com/og/_/ss/k=og.qtm.rj7C7F4m0ng.L.W.O/m=qcwid/excm=qaaw,qadd,qaid,qein,qhaw,qhbr,qhch,qhga,qhid,qhin,qhpr/d=1/ed=1/ct=zgms/rs=AA2YrTvbaNRiBNUN2965QXbOhz9Epb0uQg\"]],null,null,null,[[[null,null,[null,null,null,\"https://ogs.google.com/widget/app/so\"],0,448,328,57,4,1,0,0,63,64,8000,\"https://www.google.com.pk/intl/en/about/products\",67,1,69,null,1,70,\"Can\\'t seem to load the app launcher right now. Try again or go to the %1$sGoogle Products%2$s page.\",3,0,0,74,0,null,null,null,null,null,null,null,\"/widget/app/so\"]],0,[null,null,null,\"https://www.gstatic.com/og/_/js/k=og.qtm.en_US.9qKbA91dtuI.O/rt=j/m=qdsh/d=1/ed=1/rs=AA2YrTt8_n-aYPM6f2hRngEG_n2kDjz7kQ\"],\"1\",\"538\",1,0,null,\"en\",0,null,0,0]]],};this.gbar_=this.gbar_||{};(function(_){var window=this;\\ntry{\\nvar la,ta,za,Aa,Ia,Ga,Ja,Fa,Na,Sa,Ta,Ua,Va,Wa,Xa,Za,$a,db,eb;_.aa=function(a,b){if(Error.captureStackTrace)Error.captureStackTrace(this,_.aa);else{var c=Error().stack;c&&(this.stack=c)}a&&(this.message=String(a));void 0!==b&&(this.cause=b)};_.ca=function(){var a=_.n.navigator;return a&&(a=a.userAgent)?a:\"\"};_.p=function(a){return-1!=_.ca().indexOf(a)};_.da=function(){return _.p(\"Opera\")};_.fa=function(){return _.p(\"Trident\")||_.p(\"MSIE\")};_.ha=function(){return _.p(\"Firefox\")||_.p(\"FxiOS\")};\\n_.ja=function(){return _.p(\"Safari\")&&!(_.ia()||_.p(\"Coast\")||_.da()||_.p(\"Edge\")||_.p(\"Edg/\")||_.p(\"OPR\")||_.ha()||_.p(\"Silk\")||_.p(\"Android\"))};_.ia=function(){return(_.p(\"Chrome\")||_.p(\"CriOS\"))&&!_.p(\"Edge\")||_.p(\"Silk\")};_.ka=function(){return _.p(\"Android\")&&!(_.ia()||_.ha()||_.da()||_.p(\"Silk\"))};la=function(){return _.p(\"iPhone\")&&!_.p(\"iPod\")&&!_.p(\"iPad\")};_.ma=function(){return la()||_.p(\"iPad\")||_.p(\"iPod\")};\\n_.na=function(a){var b=a.length;if(0<b){for(var c=Array(b),d=0;d<b;d++)c[d]=a[d];return c}return[]};_.oa=function(){return-1!=_.ca().toLowerCase().indexOf(\"webkit\")&&!_.p(\"Edge\")};_.qa=function(a){return pa&&null!=a&&a instanceof Uint8Array};ta=function(a,b){Object.isFrozen(a)||(sa?a[sa]|=b:void 0!==a.Jc?a.Jc|=b:Object.defineProperties(a,{Jc:{value:b,configurable:!0,writable:!0,enumerable:!1}}))};_.ua=function(a){var b;sa?b=a[sa]:b=a.Jc;return null==b?0:b};_.va=function(a){ta(a,1);return a};\\n_.wa=function(a){return Array.isArray(a)?!!(_.ua(a)&2):!1};_.xa=function(a){if(!Array.isArray(a))throw Error(\"x\");ta(a,2)};_.ya=function(a,b){if(!Array.isArray(a))throw Error(\"z\");b?ta(a,8):Object.isFrozen(a)||(sa?a[sa]&=-9:void 0!==a.Jc&&(a.Jc&=-9))};za=function(a){return null!==a&&\"object\"===typeof a&&!Array.isArray(a)&&a.constructor===Object};Aa=function(a){return{value:a,configurable:!1,writable:!1,enumerable:!1}};_.Ba=function(a,b,c){c=void 0===c?!1:c;if(Array.isArray(a))return new b(a);if(c)return new b};\\n_.Ea=function(a){switch(typeof a){case \"number\":return isFinite(a)?a:String(a);case \"object\":if(a&&!Array.isArray(a)){if(_.qa(a))return Ca(a);if(a instanceof _.Da){var b=a.Aa;b=null==b||\"string\"===typeof b?b:pa&&b instanceof Uint8Array?Ca(b):null;return null==b?\"\":a.Aa=b}}}return a};_.Ha=function(a,b){b=void 0===b?Fa:b;return Ga(a,b)};Ia=function(a,b){if(null!=a){if(Array.isArray(a))a=Ga(a,b);else if(za(a)){var c={},d;for(d in a)c[d]=Ia(a[d],b);a=c}else a=b(a);return a}};\\nGa=function(a,b){for(var c=a.slice(),d=0;d<c.length;d++)c[d]=Ia(c[d],b);Array.isArray(a)&&_.ua(a)&1&&_.va(c);return c};Ja=function(a){if(a&&\"object\"==typeof a&&a.toJSON)return a.toJSON();a=_.Ea(a);return Array.isArray(a)?_.Ha(a,Ja):a};Fa=function(a){return _.qa(a)?new Uint8Array(a):a};\\nNa=function(a,b,c,d,e,f){(a=a.j&&a.j[c])?Array.isArray(a)?(e=f.we?_.va(a.slice()):a,_.Ka(b,c,e)):_.q(b,c,a):(pa&&d instanceof Uint8Array?e=d.length?new _.Da(new Uint8Array(d),_.La):_.Ma():(Array.isArray(d)&&(e?_.xa(d):Array.isArray(d)&&_.ua(d)&1&&f.we&&(d=d.slice())),e=d),_.t(b,c,e))};_.u=function(a,b){return null!=a?!!a:!!b};_.w=function(a,b){void 0==b&&(b=\"\");return null!=a?a:b};_.Oa=function(a,b){void 0==b&&(b=0);return null!=a?a:b};_.Pa=function(a,b,c){for(var d in a)b.call(c,a[d],d,a)};\\n_.Ra=function(a,b){for(var c,d,e=1;e<arguments.length;e++){d=arguments[e];for(c in d)a[c]=d[c];for(var f=0;f<Qa.length;f++)c=Qa[f],Object.prototype.hasOwnProperty.call(d,c)&&(a[c]=d[c])}};Sa=function(a){var b=0;return function(){return b<a.length?{done:!1,value:a[b++]}:{done:!0}}};Ta=\"function\"==typeof Object.defineProperties?Object.defineProperty:function(a,b,c){if(a==Array.prototype||a==Object.prototype)return a;a[b]=c.value;return a};\\nUa=function(a){a=[\"object\"==typeof globalThis&&globalThis,a,\"object\"==typeof window&&window,\"object\"==typeof self&&self,\"object\"==typeof global&&global];for(var b=0;b<a.length;++b){var c=a[b];if(c&&c.Math==Math)return c}throw Error(\"a\");};Va=Ua(this);Wa=function(a,b){if(b)a:{var c=Va;a=a.split(\".\");for(var d=0;d<a.length-1;d++){var e=a[d];if(!(e in c))break a;c=c[e]}a=a[a.length-1];d=c[a];b=b(d);b!=d&&null!=b&&Ta(c,a,{configurable:!0,writable:!0,value:b})}};\\nWa(\"Symbol\",function(a){if(a)return a;var b=function(f,g){this.j=f;Ta(this,\"description\",{configurable:!0,writable:!0,value:g})};b.prototype.toString=function(){return this.j};var c=\"jscomp_symbol_\"+(1E9*Math.random()>>>0)+\"_\",d=0,e=function(f){if(this instanceof e)throw new TypeError(\"b\");return new b(c+(f||\"\")+\"_\"+d++,f)};return e});\\nWa(\"Symbol.iterator\",function(a){if(a)return a;a=Symbol(\"c\");for(var b=\"Array Int8Array Uint8Array Uint8ClampedArray Int16Array Uint16Array Int32Array Uint32Array Float32Array Float64Array\".split(\" \"),c=0;c<b.length;c++){var d=Va[b[c]];\"function\"===typeof d&&\"function\"!=typeof d.prototype[a]&&Ta(d.prototype,a,{configurable:!0,writable:!0,value:function(){return Xa(Sa(this))}})}return a});Xa=function(a){a={next:a};a[Symbol.iterator]=function(){return this};return a};\\n_.Ya=function(a){var b=\"undefined\"!=typeof Symbol&&Symbol.iterator&&a[Symbol.iterator];return b?b.call(a):{next:Sa(a)}};Za=\"function\"==typeof Object.create?Object.create:function(a){var b=function(){};b.prototype=a;return new b};if(\"function\"==typeof Object.setPrototypeOf)$a=Object.setPrototypeOf;else{var ab;a:{var bb={a:!0},cb={};try{cb.__proto__=bb;ab=cb.a;break a}catch(a){}ab=!1}$a=ab?function(a,b){a.__proto__=b;if(a.__proto__!==b)throw new TypeError(\"d`\"+a);return a}:null}db=$a;\\n_.y=function(a,b){a.prototype=Za(b.prototype);a.prototype.constructor=a;if(db)db(a,b);else for(var c in b)if(\"prototype\"!=c)if(Object.defineProperties){var d=Object.getOwnPropertyDescriptor(b,c);d&&Object.defineProperty(a,c,d)}else a[c]=b[c];a.Y=b.prototype};eb=function(a,b,c){if(null==a)throw new TypeError(\"e`\"+c);if(b instanceof RegExp)throw new TypeError(\"f`\"+c);return a+\"\"};\\nWa(\"String.prototype.startsWith\",function(a){return a?a:function(b,c){var d=eb(this,b,\"startsWith\"),e=d.length,f=b.length;c=Math.max(0,Math.min(c|0,d.length));for(var g=0;g<f&&c<e;)if(d[c++]!=b[g++])return!1;return g>=f}});Wa(\"Array.prototype.find\",function(a){return a?a:function(b,c){a:{var d=this;d instanceof String&&(d=String(d));for(var e=d.length,f=0;f<e;f++){var g=d[f];if(b.call(c,g,f,d)){b=g;break a}}b=void 0}return b}});var fb=function(a,b){return Object.prototype.hasOwnProperty.call(a,b)};\\nWa(\"WeakMap\",function(a){function b(){}function c(l){var m=typeof l;return\"object\"===m&&null!==l||\"function\"===m}function d(l){if(!fb(l,f)){var m=new b;Ta(l,f,{value:m})}}function e(l){var m=Object[l];m&&(Object[l]=function(r){if(r instanceof b)return r;Object.isExtensible(r)&&d(r);return m(r)})}if(function(){if(!a||!Object.seal)return!1;try{var l=Object.seal({}),m=Object.seal({}),r=new a([[l,2],[m,3]]);if(2!=r.get(l)||3!=r.get(m))return!1;r.delete(l);r.set(m,4);return!r.has(l)&&4==r.get(m)}catch(v){return!1}}())return a;\\nvar f=\"$jscomp_hidden_\"+Math.random();e(\"freeze\");e(\"preventExtensions\");e(\"seal\");var g=0,h=function(l){this.j=(g+=Math.random()+1).toString();if(l){l=_.Ya(l);for(var m;!(m=l.next()).done;)m=m.value,this.set(m[0],m[1])}};h.prototype.set=function(l,m){if(!c(l))throw Error(\"g\");d(l);if(!fb(l,f))throw Error(\"h`\"+l);l[f][this.j]=m;return this};h.prototype.get=function(l){return c(l)&&fb(l,f)?l[f][this.j]:void 0};h.prototype.has=function(l){return c(l)&&fb(l,f)&&fb(l[f],this.j)};h.prototype.delete=function(l){return c(l)&&\\nfb(l,f)&&fb(l[f],this.j)?delete l[f][this.j]:!1};return h});\\nWa(\"Map\",function(a){if(function(){if(!a||\"function\"!=typeof a||!a.prototype.entries||\"function\"!=typeof Object.seal)return!1;try{var h=Object.seal({x:4}),l=new a(_.Ya([[h,\"s\"]]));if(\"s\"!=l.get(h)||1!=l.size||l.get({x:4})||l.set({x:4},\"t\")!=l||2!=l.size)return!1;var m=l.entries(),r=m.next();if(r.done||r.value[0]!=h||\"s\"!=r.value[1])return!1;r=m.next();return r.done||4!=r.value[0].x||\"t\"!=r.value[1]||!m.next().done?!1:!0}catch(v){return!1}}())return a;var b=new WeakMap,c=function(h){this.o={};this.j=\\nf();this.size=0;if(h){h=_.Ya(h);for(var l;!(l=h.next()).done;)l=l.value,this.set(l[0],l[1])}};c.prototype.set=function(h,l){h=0===h?0:h;var m=d(this,h);m.list||(m.list=this.o[m.id]=[]);m.Ta?m.Ta.value=l:(m.Ta={next:this.j,bc:this.j.bc,head:this.j,key:h,value:l},m.list.push(m.Ta),this.j.bc.next=m.Ta,this.j.bc=m.Ta,this.size++);return this};c.prototype.delete=function(h){h=d(this,h);return h.Ta&&h.list?(h.list.splice(h.index,1),h.list.length||delete this.o[h.id],h.Ta.bc.next=h.Ta.next,h.Ta.next.bc=\\nh.Ta.bc,h.Ta.head=null,this.size--,!0):!1};c.prototype.clear=function(){this.o={};this.j=this.j.bc=f();this.size=0};c.prototype.has=function(h){return!!d(this,h).Ta};c.prototype.get=function(h){return(h=d(this,h).Ta)&&h.value};c.prototype.entries=function(){return e(this,function(h){return[h.key,h.value]})};c.prototype.keys=function(){return e(this,function(h){return h.key})};c.prototype.values=function(){return e(this,function(h){return h.value})};c.prototype.forEach=function(h,l){for(var m=this.entries(),\\nr;!(r=m.next()).done;)r=r.value,h.call(l,r[1],r[0],this)};c.prototype[Symbol.iterator]=c.prototype.entries;var d=function(h,l){var m=l&&typeof l;\"object\"==m||\"function\"==m?b.has(l)?m=b.get(l):(m=\"\"+ ++g,b.set(l,m)):m=\"p_\"+l;var r=h.o[m];if(r&&fb(h.o,m))for(h=0;h<r.length;h++){var v=r[h];if(l!==l&&v.key!==v.key||l===v.key)return{id:m,list:r,index:h,Ta:v}}return{id:m,list:r,index:-1,Ta:void 0}},e=function(h,l){var m=h.j;return Xa(function(){if(m){for(;m.head!=h.j;)m=m.bc;for(;m.next!=m.head;)return m=\\nm.next,{done:!1,value:l(m)};m=null}return{done:!0,value:void 0}})},f=function(){var h={};return h.bc=h.next=h.head=h},g=0;return c});Wa(\"Number.MAX_SAFE_INTEGER\",function(){return 9007199254740991});var gb=function(a,b){a instanceof String&&(a+=\"\");var c=0,d=!1,e={next:function(){if(!d&&c<a.length){var f=c++;return{value:b(f,a[f]),done:!1}}d=!0;return{done:!0,value:void 0}}};e[Symbol.iterator]=function(){return e};return e};\\nWa(\"Array.prototype.entries\",function(a){return a?a:function(){return gb(this,function(b,c){return[b,c]})}});Wa(\"Number.isNaN\",function(a){return a?a:function(b){return\"number\"===typeof b&&isNaN(b)}});Wa(\"Array.prototype.keys\",function(a){return a?a:function(){return gb(this,function(b){return b})}});var hb=\"function\"==typeof Object.assign?Object.assign:function(a,b){for(var c=1;c<arguments.length;c++){var d=arguments[c];if(d)for(var e in d)fb(d,e)&&(a[e]=d[e])}return a};\\nWa(\"Object.assign\",function(a){return a||hb});Wa(\"Array.prototype.values\",function(a){return a?a:function(){return gb(this,function(b,c){return c})}});Wa(\"Array.from\",function(a){return a?a:function(b,c,d){c=null!=c?c:function(h){return h};var e=[],f=\"undefined\"!=typeof Symbol&&Symbol.iterator&&b[Symbol.iterator];if(\"function\"==typeof f){b=f.call(b);for(var g=0;!(f=b.next()).done;)e.push(c.call(d,f.value,g++))}else for(f=b.length,g=0;g<f;g++)e.push(c.call(d,b[g],g));return e}});\\nWa(\"Object.is\",function(a){return a?a:function(b,c){return b===c?0!==b||1/b===1/c:b!==b&&c!==c}});Wa(\"Array.prototype.includes\",function(a){return a?a:function(b,c){var d=this;d instanceof String&&(d=String(d));var e=d.length;c=c||0;for(0>c&&(c=Math.max(c+e,0));c<e;c++){var f=d[c];if(f===b||Object.is(f,b))return!0}return!1}});Wa(\"String.prototype.includes\",function(a){return a?a:function(b,c){return-1!==eb(this,b,\"includes\").indexOf(b,c||0)}});\\nWa(\"Object.entries\",function(a){return a?a:function(b){var c=[],d;for(d in b)fb(b,d)&&c.push([d,b[d]]);return c}});Wa(\"Array.prototype.fill\",function(a){return a?a:function(b,c,d){var e=this.length||0;0>c&&(c=Math.max(0,e+c));if(null==d||d>e)d=e;d=Number(d);0>d&&(d=Math.max(0,e+d));for(c=Number(c||0);c<d;c++)this[c]=b;return this}});var ib=function(a){return a?a:Array.prototype.fill};Wa(\"Int8Array.prototype.fill\",ib);Wa(\"Uint8Array.prototype.fill\",ib);Wa(\"Uint8ClampedArray.prototype.fill\",ib);\\nWa(\"Int16Array.prototype.fill\",ib);Wa(\"Uint16Array.prototype.fill\",ib);Wa(\"Int32Array.prototype.fill\",ib);Wa(\"Uint32Array.prototype.fill\",ib);Wa(\"Float32Array.prototype.fill\",ib);Wa(\"Float64Array.prototype.fill\",ib);\\n/*\\n\\n Copyright The Closure Library Authors.\\n SPDX-License-Identifier: Apache-2.0\\n*/\\nvar lb,mb,ob,pb,qb;_.jb=_.jb||{};_.n=this||self;_.kb=function(a){var b=typeof a;return\"object\"==b&&null!=a||\"function\"==b};_.nb=function(a){return Object.prototype.hasOwnProperty.call(a,lb)&&a[lb]||(a[lb]=++mb)};lb=\"closure_uid_\"+(1E9*Math.random()>>>0);mb=0;ob=function(a,b,c){return a.call.apply(a.bind,arguments)};\\npb=function(a,b,c){if(!a)throw Error();if(2<arguments.length){var d=Array.prototype.slice.call(arguments,2);return function(){var e=Array.prototype.slice.call(arguments);Array.prototype.unshift.apply(e,d);return a.apply(b,e)}}return function(){return a.apply(b,arguments)}};_.z=function(a,b,c){Function.prototype.bind&&-1!=Function.prototype.bind.toString().indexOf(\"native code\")?_.z=ob:_.z=pb;return _.z.apply(null,arguments)};\\n_.B=function(a,b){a=a.split(\".\");var c=_.n;a[0]in c||\"undefined\"==typeof c.execScript||c.execScript(\"var \"+a[0]);for(var d;a.length&&(d=a.shift());)a.length||void 0===b?c[d]&&c[d]!==Object.prototype[d]?c=c[d]:c=c[d]={}:c[d]=b};_.C=function(a,b){function c(){}c.prototype=b.prototype;a.Y=b.prototype;a.prototype=new c;a.prototype.constructor=a;a.Ok=function(d,e,f){for(var g=Array(arguments.length-2),h=2;h<arguments.length;h++)g[h-2]=arguments[h];return b.prototype[e].apply(d,g)}};qb=function(a){return a};\\n_.rb=function(a){var b=null,c=_.n.trustedTypes;if(!c||!c.createPolicy)return b;try{b=c.createPolicy(a,{createHTML:qb,createScript:qb,createScriptURL:qb})}catch(d){_.n.console&&_.n.console.error(d.message)}return b};\\n_.C(_.aa,Error);_.aa.prototype.name=\"CustomError\";\\n_.sb=String.prototype.trim?function(a){return a.trim()}:function(a){return/^[\\\\s\\\\xa0]*([\\\\s\\\\S]*?)[\\\\s\\\\xa0]*$/.exec(a)[1]};\\n_.tb=Array.prototype.indexOf?function(a,b){return Array.prototype.indexOf.call(a,b,void 0)}:function(a,b){if(\"string\"===typeof a)return\"string\"!==typeof b||1!=b.length?-1:a.indexOf(b,0);for(var c=0;c<a.length;c++)if(c in a&&a[c]===b)return c;return-1};_.ub=Array.prototype.forEach?function(a,b,c){Array.prototype.forEach.call(a,b,c)}:function(a,b,c){for(var d=a.length,e=\"string\"===typeof a?a.split(\"\"):a,f=0;f<d;f++)f in e&&b.call(c,e[f],f,a)};\\n_.vb=Array.prototype.filter?function(a,b,c){return Array.prototype.filter.call(a,b,c)}:function(a,b,c){for(var d=a.length,e=[],f=0,g=\"string\"===typeof a?a.split(\"\"):a,h=0;h<d;h++)if(h in g){var l=g[h];b.call(c,l,h,a)&&(e[f++]=l)}return e};_.wb=Array.prototype.map?function(a,b,c){return Array.prototype.map.call(a,b,c)}:function(a,b,c){for(var d=a.length,e=Array(d),f=\"string\"===typeof a?a.split(\"\"):a,g=0;g<d;g++)g in f&&(e[g]=b.call(c,f[g],g,a));return e};\\n_.xb=Array.prototype.reduce?function(a,b,c){return Array.prototype.reduce.call(a,b,c)}:function(a,b,c){var d=c;(0,_.ub)(a,function(e,f){d=b.call(void 0,d,e,f,a)});return d};_.yb=Array.prototype.some?function(a,b){return Array.prototype.some.call(a,b,void 0)}:function(a,b){for(var c=a.length,d=\"string\"===typeof a?a.split(\"\"):a,e=0;e<c;e++)if(e in d&&b.call(void 0,d[e],e,a))return!0;return!1};\\n_.zb=function(a){_.zb[\" \"](a);return a};_.zb[\" \"]=function(){};\\nvar Ob,Pb,Ub;_.Ab=_.da();_.D=_.fa();_.Bb=_.p(\"Edge\");_.Cb=_.Bb||_.D;_.Db=_.p(\"Gecko\")&&!_.oa()&&!(_.p(\"Trident\")||_.p(\"MSIE\"))&&!_.p(\"Edge\");_.Eb=_.oa();_.Fb=_.p(\"Macintosh\");_.Hb=_.p(\"Windows\");_.Ib=_.p(\"Linux\")||_.p(\"CrOS\");_.Jb=_.p(\"Android\");_.Kb=la();_.Lb=_.p(\"iPad\");_.Mb=_.p(\"iPod\");_.Nb=_.ma();Ob=function(){var a=_.n.document;return a?a.documentMode:void 0};\\na:{var Qb=\"\",Rb=function(){var a=_.ca();if(_.Db)return/rv:([^\\\\);]+)(\\\\)|;)/.exec(a);if(_.Bb)return/Edge\\\\/([\\\\d\\\\.]+)/.exec(a);if(_.D)return/\\\\b(?:MSIE|rv)[: ]([^\\\\);]+)(\\\\)|;)/.exec(a);if(_.Eb)return/WebKit\\\\/(\\\\S+)/.exec(a);if(_.Ab)return/(?:Version)[ \\\\/]?(\\\\S+)/.exec(a)}();Rb&&(Qb=Rb?Rb[1]:\"\");if(_.D){var Sb=Ob();if(null!=Sb&&Sb>parseFloat(Qb)){Pb=String(Sb);break a}}Pb=Qb}_.Tb=Pb;if(_.n.document&&_.D){var Vb=Ob();Ub=Vb?Vb:parseInt(_.Tb,10)||void 0}else Ub=void 0;_.Wb=Ub;\\n_.Xb=_.ha();_.Yb=la()||_.p(\"iPod\");_.Zb=_.p(\"iPad\");_.$b=_.ka();_.ac=_.ia();_.bc=_.ja()&&!_.ma();\\nvar cc,Ca;cc={};_.dc=null;Ca=function(a){var b;void 0===b&&(b=0);_.ec();b=cc[b];for(var c=Array(Math.floor(a.length/3)),d=b[64]||\"\",e=0,f=0;e<a.length-2;e+=3){var g=a[e],h=a[e+1],l=a[e+2],m=b[g>>2];g=b[(g&3)<<4|h>>4];h=b[(h&15)<<2|l>>6];l=b[l&63];c[f++]=m+g+h+l}m=0;l=d;switch(a.length-e){case 2:m=a[e+1],l=b[(m&15)<<2]||d;case 1:a=a[e],c[f]=b[a>>2]+b[(a&3)<<4|m>>4]+l+d}return c.join(\"\")};\\n_.ec=function(){if(!_.dc){_.dc={};for(var a=\"ABCDEFGHIJKLMNOPQRSTUVWXYZabcdefghijklmnopqrstuvwxyz0123456789\".split(\"\"),b=[\"+/=\",\"+/\",\"-_=\",\"-_.\",\"-_\"],c=0;5>c;c++){var d=a.concat(b[c].split(\"\"));cc[c]=d;for(var e=0;e<d.length;e++){var f=d[e];void 0===_.dc[f]&&(_.dc[f]=e)}}}};\\nvar pa;pa=\"undefined\"!==typeof Uint8Array;_.La={};\\n_.fc=\"function\"===typeof Uint8Array.prototype.slice;\\n_.gc=\"undefined\"!==typeof TextDecoder;_.hc=\"undefined\"!==typeof TextEncoder;\\nvar ic;_.Da=function(a,b){if(b!==_.La)throw Error(\"t\");this.Aa=a;if(null!=a&&0===a.length)throw Error(\"u\");};_.Ma=function(){return ic||(ic=new _.Da(null,_.La))};_.Da.prototype.Yb=function(){return null==this.Aa};\\n_.jc={};\\nvar sa=\"function\"===typeof Symbol&&\"symbol\"===typeof Symbol()?Symbol(void 0):void 0;\\nvar nc;_.lc=Object.freeze(_.va([]));_.mc=function(a){if(_.wa(a.oa))throw Error(\"A\");};nc=\"undefined\"!=typeof Symbol&&\"undefined\"!=typeof Symbol.hasInstance;\\nvar oc;oc=function(a){return a.o||(a.o=a.oa[a.A+a.Cc]={})};_.E=function(a,b,c){return-1===b?null:b>=a.A?a.o?a.o[b]:void 0:(void 0===c?0:c)&&a.o&&(c=a.o[b],null!=c)?c:a.oa[b+a.Cc]};_.t=function(a,b,c,d,e){d=void 0===d?!1:d;(void 0===e?0:e)||_.mc(a);b<a.A&&!d?a.oa[b+a.Cc]=c:oc(a)[b]=c;return a};_.pc=function(a,b){return null!=_.E(a,b)};_.F=function(a,b){a=_.E(a,b);return null==a?a:!!a};_.qc=function(a,b,c){a=_.E(a,b);return null==a?c:a};\\n_.rc=function(a,b,c){a=_.E(a,b);a=null==a?a:+a;return null==a?void 0===c?0:c:a};_.G=function(a,b,c,d,e){e=void 0===e?!1:e;var f=e;if(-1===c)d=null;else{a.j||(a.j={});var g=a.j[c];if(g)d=g;else{var h=_.E(a,c,f);b=_.Ba(h,b,d);void 0==b?d=g:(d&&b.oa!==h&&_.t(a,c,b.oa,f,!0),a.j[c]=b,_.wa(a.oa)&&_.xa(b.oa),d=b)}}if(null==d)return d;_.wa(d.oa)&&!_.wa(a.oa)&&(d=d.nf(_.jc),_.t(a,c,d.oa,e),a.j[c]=d);return d};_.q=function(a,b,c){_.mc(a);a.j||(a.j={});var d=null!=c?c.oa:c;a.j[b]=c;return _.t(a,b,d)};\\n_.Ka=function(a,b,c){_.mc(a);if(null!=c){var d=_.va([]);for(var e=!1,f=0;f<c.length;f++)d[f]=c[f].oa,e=e||_.wa(d[f]);a.j||(a.j={});a.j[b]=c;_.ya(d,!e)}else a.j&&(a.j[b]=void 0),d=_.lc;return _.t(a,b,d)};_.sc=function(a,b,c){return _.qc(a,b,void 0===c?0:c)};\\nvar uc=function(a,b,c){a||(a=_.tc);_.tc=null;var d=this.constructor.j;a||(a=d?[d]:[]);this.Cc=(d?0:-1)-(this.constructor.o||0);this.j=void 0;this.oa=a;a:{d=this.oa.length;a=d-1;if(d&&(d=this.oa[a],za(d))){this.A=a-this.Cc;this.o=d;break a}void 0!==b&&-1<b?(this.A=Math.max(b,a+1-this.Cc),this.o=void 0):this.A=Number.MAX_VALUE}if(c)for(b=0;b<c.length;b++)if(a=c[b],a<this.A)a+=this.Cc,(d=this.oa[a])?Array.isArray(d)&&_.va(d):this.oa[a]=_.lc;else{d=oc(this);var e=d[a];e?Array.isArray(e)&&_.va(e):d[a]=\\n_.lc}};uc.prototype.toJSON=function(){var a=this.oa;return _.kc?a:_.Ha(a,Ja)};uc.prototype.mc=function(a){if(a!==_.jc)throw Error(\"w\");return _.wa(this.oa)};uc.prototype.toString=function(){return this.oa.toString()};\\nvar vc=function(){uc.apply(this,arguments)};_.y(vc,uc);vc.prototype.nf=function(){return this};if(nc){var wc={};Object.defineProperties(vc,(wc[Symbol.hasInstance]=Aa(function(){throw Error(\"D\");}),wc))}\\n;_.xc=Symbol();_.yc=Symbol();_.zc=Symbol();_.Ac=Symbol();\\n_.H=function(){vc.apply(this,arguments)};_.y(_.H,vc);_.H.prototype.nf=function(a){if(a!==_.jc)throw Error(\"w\");if(_.wa(this.oa)){a={we:!0};var b=_.wa(this.oa);if(b&&!a.we)throw Error(\"F\");var c=new this.constructor;this.lc&&(c.lc=this.lc.slice());for(var d=this.oa,e=0;e<d.length;e++){var f=d[e];if(e===d.length-1&&za(f))for(h in f){var g=+h;Number.isNaN(g)?oc(c)[h]=f[h]:Na(this,c,g,f[h],b,a)}else Na(this,c,e-this.Cc,f,b,a)}var h=c}else h=this;return h};\\nif(nc){var Bc={};Object.defineProperties(_.H,(Bc[Symbol.hasInstance]=Aa(Object[Symbol.hasInstance]),Bc))}\\n;var Cc=function(a){_.H.call(this,a)};_.y(Cc,_.H);\\n_.Dc=function(a){_.H.call(this,a)};_.y(_.Dc,_.H);_.Dc.prototype.Yc=function(a){return _.t(this,3,a)};\\nvar Ec=function(a){_.H.call(this,a)};_.y(Ec,_.H);\\n_.Fc=function(a){_.H.call(this,a)};_.y(_.Fc,_.H);_.Fc.prototype.hf=function(a){return _.t(this,24,a)};\\n_.Gc=function(a){_.H.call(this,a)};_.y(_.Gc,_.H);\\n_.I=function(){this.Mb=this.Mb;this.Ma=this.Ma};_.I.prototype.Mb=!1;_.I.prototype.isDisposed=function(){return this.Mb};_.I.prototype.ua=function(){this.Mb||(this.Mb=!0,this.R())};_.I.prototype.R=function(){if(this.Ma)for(;this.Ma.length;)this.Ma.shift()()};\\nvar Hc=function(a){_.I.call(this);this.A=a;this.j=[];this.o={}};_.y(Hc,_.I);Hc.prototype.resolve=function(a){var b=this.A;a=a.split(\".\");for(var c=a.length,d=0;d<c;++d)if(b[a[d]])b=b[a[d]];else return null;return b instanceof Function?b:null};Hc.prototype.td=function(){for(var a=this.j.length,b=this.j,c=[],d=0;d<a;++d){var e=b[d].j(),f=this.resolve(e);if(f&&f!=this.o[e])try{b[d].td(f)}catch(g){}else c.push(b[d])}this.j=c.concat(b.slice(a))};\\nvar Ic=function(a){_.I.call(this);this.A=a;this.C=this.j=null;this.B=0;this.D={};this.o=!1;a=window.navigator.userAgent;0<=a.indexOf(\"MSIE\")&&0<=a.indexOf(\"Trident\")&&(a=/\\\\b(?:MSIE|rv)[: ]([^\\\\);]+)(\\\\)|;)/.exec(a))&&a[1]&&9>parseFloat(a[1])&&(this.o=!0)};_.y(Ic,_.I);Ic.prototype.F=function(a,b){this.j=b;this.C=a;b.preventDefault?b.preventDefault():b.returnValue=!1};\\n_.Jc=function(a){_.H.call(this,a)};_.y(_.Jc,_.H);\\n_.Kc=function(a){_.H.call(this,a)};_.y(_.Kc,_.H);\\n_.Lc=function(){this.data={}};_.Lc.prototype.o=function(){window.console&&window.console.log&&window.console.log(\"Log data: \",this.data)};_.Lc.prototype.j=function(a){var b=[],c;for(c in this.data)b.push(encodeURIComponent(c)+\"=\"+encodeURIComponent(String(this.data[c])));return(\"atyp=i&zx=\"+(new Date).getTime()+\"&\"+b.join(\"&\")).substr(0,a)};\\nvar Mc=function(a,b){this.data={};var c=_.G(a,Ec,8)||new Ec;window.google&&window.google.kEI&&(this.data.ei=window.google.kEI);this.data.sei=_.w(_.E(a,10));this.data.ogf=_.w(_.E(c,3));this.data.ogrp=(window.google&&window.google.sn?!/.*hp$/.test(window.google.sn):_.u(_.F(a,7)))?\"1\":\"\";this.data.ogv=_.w(_.E(c,6))+\".\"+_.w(_.E(c,7));this.data.ogd=_.w(_.E(a,21));this.data.ogc=_.w(_.E(a,20));this.data.ogl=_.w(_.E(a,5));b&&(this.data.oggv=b)};_.y(Mc,_.Lc);\\nvar Qa=\"constructor hasOwnProperty isPrototypeOf propertyIsEnumerable toLocaleString toString valueOf\".split(\" \");\\n_.Nc=function(a,b,c,d,e){Mc.call(this,a,b);_.Ra(this.data,{jexpid:_.w(_.E(a,9)),srcpg:\"prop=\"+_.w(_.E(a,6)),jsr:Math.round(1/d),emsg:c.name+\":\"+c.message});if(e){e._sn&&(e._sn=\"og.\"+e._sn);for(var f in e)this.data[encodeURIComponent(f)]=e[f]}};_.y(_.Nc,Mc);\\nvar Oc;_.Pc=function(){void 0===Oc&&(Oc=_.rb(\"ogb-qtm#html\"));return Oc};\\n_.Rc=function(a,b){this.j=b===_.Qc?a:\"\"};_.Rc.prototype.toString=function(){return this.j+\"\"};_.Rc.prototype.Pb=!0;_.Rc.prototype.ub=function(){return this.j.toString()};_.Tc=function(a){return _.Sc(a).toString()};_.Sc=function(a){return a instanceof _.Rc&&a.constructor===_.Rc?a.j:\"type_error:TrustedResourceUrl\"};_.Qc={};\\nvar Xc,Yc,Uc;_.Vc=function(a,b){this.j=b===Uc?a:\"\"};_.Vc.prototype.toString=function(){return this.j.toString()};_.Vc.prototype.Pb=!0;_.Vc.prototype.ub=function(){return this.j.toString()};_.Wc=function(a){return a instanceof _.Vc&&a.constructor===_.Vc?a.j:\"type_error:SafeUrl\"};Xc=/^data:(.*);base64,[a-z0-9+\\\\/]+=*$/i;Yc=/^(?:(?:https?|mailto|ftp):|[^:/?#]*(?:[/?#]|$))/i;\\n_.$c=function(a){if(a instanceof _.Vc)return a;a=\"object\"==typeof a&&a.Pb?a.ub():String(a);Yc.test(a)?a=_.Zc(a):(a=String(a).replace(/(%0A|%0D)/g,\"\"),a=a.match(Xc)?_.Zc(a):null);return a};_.ad=function(a){if(a instanceof _.Vc)return a;a=\"object\"==typeof a&&a.Pb?a.ub():String(a);Yc.test(a)||(a=\"about:invalid#zClosurez\");return _.Zc(a)};Uc={};_.Zc=function(a){return new _.Vc(a,Uc)};_.bd=_.Zc(\"about:invalid#zClosurez\");\\n_.cd={};_.dd=function(a,b){this.j=b===_.cd?a:\"\";this.Pb=!0};_.dd.prototype.ub=function(){return this.j};_.dd.prototype.toString=function(){return this.j.toString()};_.ed=new _.dd(\"\",_.cd);_.fd=RegExp(\"^[-,.\\\\\"\\'%_!#/ a-zA-Z0-9\\\\\\\\[\\\\\\\\]]+$\");_.gd=RegExp(\"\\\\\\\\b(url\\\\\\\\([ \\\\t\\\\n]*)(\\'[ -&(-\\\\\\\\[\\\\\\\\]-~]*\\'|\\\\\"[ !#-\\\\\\\\[\\\\\\\\]-~]*\\\\\"|[!#-&*-\\\\\\\\[\\\\\\\\]-~]*)([ \\\\t\\\\n]*\\\\\\\\))\",\"g\");\\n_.hd=RegExp(\"\\\\\\\\b(calc|cubic-bezier|fit-content|hsl|hsla|linear-gradient|matrix|minmax|radial-gradient|repeat|rgb|rgba|(rotate|scale|translate)(X|Y|Z|3d)?|var)\\\\\\\\([-+*/0-9a-zA-Z.%#\\\\\\\\[\\\\\\\\], ]+\\\\\\\\)\",\"g\");\\nvar id;id={};_.jd=function(a,b){this.j=b===id?a:\"\";this.Pb=!0};_.jd.prototype.ub=function(){return this.j.toString()};_.jd.prototype.toString=function(){return this.j.toString()};_.kd=function(a){return a instanceof _.jd&&a.constructor===_.jd?a.j:\"type_error:SafeHtml\"};_.ld=function(a){var b=_.Pc();a=b?b.createHTML(a):a;return new _.jd(a,id)};_.md=new _.jd(_.n.trustedTypes&&_.n.trustedTypes.emptyHTML||\"\",id);_.nd=_.ld(\"<br>\");\\nvar pd;_.od=function(a){var b=!1,c;return function(){b||(c=a(),b=!0);return c}}(function(){var a=document.createElement(\"div\"),b=document.createElement(\"div\");b.appendChild(document.createElement(\"div\"));a.appendChild(b);b=a.firstChild.firstChild;a.innerHTML=_.kd(_.md);return!b.parentElement});pd=/^[\\\\w+/_-]+[=]{0,2}$/;\\n_.qd=function(a){a=(a||_.n).document;return a.querySelector?(a=a.querySelector(\\'style[nonce],link[rel=\"stylesheet\"][nonce]\\'))&&(a=a.nonce||a.getAttribute(\"nonce\"))&&pd.test(a)?a:\"\":\"\"};\\n_.rd=RegExp(\"^\\\\\\\\s{3,4}at(?: (?:(.*?)\\\\\\\\.)?((?:new )?(?:[a-zA-Z_$][\\\\\\\\w$]*|<anonymous>))(?: \\\\\\\\[as ([a-zA-Z_$][\\\\\\\\w$]*)\\\\\\\\])?)? (?:\\\\\\\\(unknown source\\\\\\\\)|\\\\\\\\(native\\\\\\\\)|\\\\\\\\((?:eval at )?((?:http|https|file)://[^\\\\\\\\s)]+|javascript:.*)\\\\\\\\)|((?:http|https|file)://[^\\\\\\\\s)]+|javascript:.*))$\");_.sd=RegExp(\"^(?:(.*?)\\\\\\\\.)?([a-zA-Z_$][\\\\\\\\w$]*(?:/.?<)?)?(\\\\\\\\(.*\\\\\\\\))?@(?::0|((?:http|https|file)://[^\\\\\\\\s)]+|javascript:.*))$\");\\nvar td,wd,vd;_.ud=function(a){var b=window.google&&window.google.logUrl?\"\":\"https://www.google.com\";b+=\"/gen_204?use_corp=on&\";b+=a.j(2040-b.length);td(_.$c(b)||_.bd)};td=function(a){var b=new Image,c=vd;b.onerror=b.onload=b.onabort=function(){c in wd&&delete wd[c]};wd[vd++]=b;b.src=_.Wc(a)};wd=[];vd=0;\\n_.xd=function(a){_.H.call(this,a)};_.y(_.xd,_.H);\\n_.yd=function(a){var b=\"Ic\";if(a.Ic&&a.hasOwnProperty(b))return a.Ic;b=new a;return a.Ic=b};\\n_.zd=function(){this.j={};this.o={}};_.Bd=function(a,b){var c=_.zd.j();if(a in c.j){if(c.j[a]!=b)throw new Ad(a);}else{c.j[a]=b;if(b=c.o[a])for(var d=0,e=b.length;d<e;d++)b[d].j(c.j,a);delete c.o[a]}};_.Dd=function(a,b){if(b in a.j)return a.j[b];throw new Cd(b);};_.zd.j=function(){return _.yd(_.zd)};var Ed=function(){_.aa.call(this)};_.y(Ed,_.aa);var Ad=function(){_.aa.call(this)};_.y(Ad,Ed);var Cd=function(){_.aa.call(this)};_.y(Cd,Ed);\\nvar Hd=function(){var a=Fd;this.C=Gd;this.o=_.Oa(_.rc(a,2,.001),.001);this.D=_.u(_.F(a,1))&&Math.random()<this.o;this.F=_.Oa(_.sc(a,3,1),1);this.B=0;this.j=this.A=null};Hd.prototype.log=function(a,b){if(this.j){var c=new Cc;_.t(c,1,a.message);_.t(c,2,a.stack);_.t(c,3,a.lineNumber);_.t(c,5,1);var d=new _.Dc;_.q(d,40,c);this.j.log(98,d)}try{if(this.D&&this.B<this.F){try{var e=(this.A||_.Dd(_.zd.j(),\"lm\")).B(a,b)}catch(f){e=new _.Nc(this.C,\"quantum:gapiBuildLabel\",a,this.o,b)}_.ud(e);this.B++}}catch(f){}};\\nvar Id=[1,2,3,4,5,6,9,10,11,13,14,28,29,30,34,35,37,38,39,40,42,43,48,49,50,51,52,53,62,500],Ld=function(a,b,c,d,e,f){Mc.call(this,a,b);_.Ra(this.data,{oge:d,ogex:_.w(_.E(a,9)),ogp:_.w(_.E(a,6)),ogsr:Math.round(1/(Jd(d)?_.Oa(_.rc(c,3,1)):_.Oa(_.rc(c,2,1E-4)))),ogus:e});if(f){\"ogw\"in f&&(this.data.ogw=f.ogw,delete f.ogw);\"ved\"in f&&(this.data.ved=f.ved,delete f.ved);a=[];for(var g in f)0!=a.length&&a.push(\",\"),a.push(Kd(g)),a.push(\".\"),a.push(Kd(f[g]));f=a.join(\"\");\"\"!=f&&(this.data.ogad=f)}};\\n_.y(Ld,Mc);var Kd=function(a){a=String(a);return a.replace(\".\",\"%2E\").replace(\",\",\"%2C\")},Jd=function(a){if(!Md){Md={};for(var b=0;b<Id.length;b++)Md[Id[b]]=!0}return!!Md[a]},Md=null;\\nvar Nd=function(a){_.H.call(this,a)};_.y(Nd,_.H);\\nvar Rd=function(){var a=Od,b=Pd,c=Qd;this.o=a;this.j=b;this.B=_.Oa(_.rc(a,2,1E-4),1E-4);this.D=_.Oa(_.rc(a,3,1),1);b=Math.random();this.A=_.u(_.F(a,1))&&b<this.B;this.C=_.u(_.F(a,1))&&b<this.D;a=0;_.u(_.F(c,1))&&(a|=1);_.u(_.F(c,2))&&(a|=2);_.u(_.F(c,3))&&(a|=4);this.F=a};Rd.prototype.log=function(a,b){try{if(Jd(a)?this.C:this.A){var c=new Ld(this.j,\"quantum:gapiBuildLabel\",this.o,a,this.F,b);_.ud(c)}}catch(d){}};\\n_.Sd=function(a){this.Aa=a;this.j=void 0;this.o=[]};_.Sd.prototype.then=function(a,b,c){this.o.push(new Td(a,b,c));Ud(this)};_.Sd.prototype.resolve=function(a){if(void 0!==this.Aa||void 0!==this.j)throw Error(\"L\");this.Aa=a;Ud(this)};_.Sd.prototype.reject=function(a){if(void 0!==this.Aa||void 0!==this.j)throw Error(\"L\");this.j=a;Ud(this)};var Ud=function(a){if(0<a.o.length){var b=void 0!==a.Aa,c=void 0!==a.j;if(b||c){b=b?a.A:a.B;c=a.o;a.o=[];try{_.ub(c,b,a)}catch(d){console.error(d)}}}};\\n_.Sd.prototype.A=function(a){a.o&&a.o.call(a.j,this.Aa)};_.Sd.prototype.B=function(a){a.A&&a.A.call(a.j,this.j)};var Td=function(a,b,c){this.o=a;this.A=b;this.j=c};\\n_.J=function(){this.B=new _.Sd;this.j=new _.Sd;this.G=new _.Sd;this.D=new _.Sd;this.F=new _.Sd;this.H=new _.Sd;this.C=new _.Sd;this.A=new _.Sd;this.o=new _.Sd;this.K=new _.Sd};_.k=_.J.prototype;_.k.Wh=function(){return this.B};_.k.ji=function(){return this.j};_.k.si=function(){return this.G};_.k.ii=function(){return this.D};_.k.oi=function(){return this.F};_.k.di=function(){return this.H};_.k.fi=function(){return this.C};_.k.Qh=function(){return this.A};_.k.Ph=function(){return this.o};_.J.j=function(){return _.yd(_.J)};\\nvar Vd=function(a){_.H.call(this,a)};_.y(Vd,_.H);_.Xd=function(){return _.G(_.Wd,_.Fc,1)};_.Yd=function(){return _.G(_.Wd,_.Gc,5)};\\nvar Zd;window.gbar_&&window.gbar_.CONFIG?Zd=window.gbar_.CONFIG[0]||{}:Zd=[];_.Wd=new Vd(Zd);\\nvar Fd,Gd,Pd,Qd,Od;Fd=_.G(_.Wd,_.xd,3)||new _.xd;Gd=_.Xd()||new _.Fc;_.K=new Hd;Pd=_.Xd()||new _.Fc;Qd=_.Yd()||new _.Gc;Od=_.G(_.Wd,Nd,4)||new Nd;_.$d=new Rd;\\n_.B(\"gbar_._DumpException\",function(a){_.K?_.K.log(a):console.error(a)});\\n_.ae=new Ic(_.K);\\n_.$d.log(8,{m:\"BackCompat\"==document.compatMode?\"q\":\"s\"});_.B(\"gbar.A\",_.Sd);_.Sd.prototype.aa=_.Sd.prototype.then;_.B(\"gbar.B\",_.J);_.J.prototype.ba=_.J.prototype.ji;_.J.prototype.bb=_.J.prototype.si;_.J.prototype.bd=_.J.prototype.oi;_.J.prototype.bf=_.J.prototype.Wh;_.J.prototype.bg=_.J.prototype.ii;_.J.prototype.bh=_.J.prototype.di;_.J.prototype.bi=_.J.prototype.fi;_.J.prototype.bj=_.J.prototype.Qh;_.J.prototype.bk=_.J.prototype.Ph;_.B(\"gbar.a\",_.J.j());var be=new Hc(window);_.Bd(\"api\",be);\\nvar ce=_.Yd()||new _.Gc;window.__PVT=_.w(_.E(ce,8));_.Bd(\"eq\",_.ae);\\n\\n}catch(e){_._DumpException(e)}\\ntry{\\nvar de=function(a){_.H.call(this,a)};_.y(de,_.H);\\nvar ee=function(){_.I.call(this);this.o=[];this.j=[]};_.y(ee,_.I);ee.prototype.A=function(a,b){this.o.push({features:a,options:b})};ee.prototype.init=function(a,b,c){window.gapi={};var d=window.___jsl={};d.h=_.w(_.E(a,1));_.pc(a,12)&&(d.dpo=_.u(_.F(a,12)));d.ms=_.w(_.E(a,2));d.m=_.w(_.E(a,3));d.l=[];_.E(b,1)&&(a=_.E(b,3))&&this.j.push(a);_.E(c,1)&&(c=_.E(c,2))&&this.j.push(c);_.B(\"gapi.load\",(0,_.z)(this.A,this));return this};\\nvar fe=_.G(_.Wd,_.Jc,14)||new _.Jc,ge=_.G(_.Wd,_.Kc,9)||new _.Kc,he=new de,ie=new ee;ie.init(fe,ge,he);_.Bd(\"gs\",ie);\\n\\n}catch(e){_._DumpException(e)}\\n})(this.gbar_);\\n// Google Inc.\\n</script><style data-iml=\"1656407885331\">h1,ol,ul,li,button{margin:0;padding:0}button{border:none;background:none}body{background:#fff}body,input,button{font-size:14px;font-family:arial,sans-serif;color:#202124}a{color:#1a0dab;text-decoration:none}a:hover,a:active{text-decoration:underline}a:visited{color:#681da8}html,body{min-width:400px}body,html{height:100%;margin:0;padding:0}.gb_1a:not(.gb_Hd){font:13px/27px Roboto,RobotoDraft,Arial,sans-serif;z-index:986}@-webkit-keyframes gb__a{0%{opacity:0}50%{opacity:1}}@keyframes gb__a{0%{opacity:0}50%{opacity:1}}a.gb_W{border:none;color:#4285f4;cursor:default;font-weight:bold;outline:none;position:relative;text-align:center;text-decoration:none;text-transform:uppercase;white-space:nowrap;-webkit-user-select:none}a.gb_W:hover:after,a.gb_W:focus:after{background-color:rgba(0,0,0,.12);content:\"\";height:100%;left:0;position:absolute;top:0;width:100%}a.gb_W:hover,a.gb_W:focus{text-decoration:none}a.gb_W:active{background-color:rgba(153,153,153,.4);text-decoration:none}a.gb_X{background-color:#4285f4;color:#fff}a.gb_X:active{background-color:#0043b2}.gb_Z{-webkit-box-shadow:0 1px 1px rgba(0,0,0,.16);box-shadow:0 1px 1px rgba(0,0,0,.16)}.gb_W,.gb_X,.gb_0,.gb_1{display:inline-block;line-height:28px;padding:0 12px;-webkit-border-radius:2px;border-radius:2px}.gb_0{background:#f8f8f8;border:1px solid #c6c6c6}.gb_1{background:#f8f8f8}.gb_0,#gb a.gb_0.gb_0,.gb_1{color:#666;cursor:default;text-decoration:none}#gb a.gb_1.gb_1{cursor:default;text-decoration:none}.gb_1{border:1px solid #4285f4;font-weight:bold;outline:none;background:#4285f4;background:-webkit-linear-gradient(top,#4387fd,#4683ea);background:linear-gradient(top,#4387fd,#4683ea);filter:progid:DXImageTransform.Microsoft.gradient(startColorstr=#4387fd,endColorstr=#4683ea,GradientType=0)}#gb a.gb_1.gb_1{color:#fff}.gb_1:hover{-webkit-box-shadow:0 1px 0 rgba(0,0,0,.15);box-shadow:0 1px 0 rgba(0,0,0,.15)}.gb_1:active{-webkit-box-shadow:inset 0 2px 0 rgba(0,0,0,.15);box-shadow:inset 0 2px 0 rgba(0,0,0,.15);background:#3c78dc;background:-webkit-linear-gradient(top,#3c7ae4,#3f76d3);background:linear-gradient(top,#3c7ae4,#3f76d3);filter:progid:DXImageTransform.Microsoft.gradient(startColorstr=#3c7ae4,endColorstr=#3f76d3,GradientType=0)}#gb .gb_3{background:#fff;border:1px solid #dadce0;color:#1a73e8;display:inline-block;text-decoration:none}#gb .gb_3:hover{background:#f8fbff;border-color:#dadce0;color:#174ea6}#gb .gb_3:focus{background:#f4f8ff;border-color:#174ea6;color:#174ea6}#gb .gb_3:active,#gb .gb_3:focus:active{background:#ecf3fe;color:#174ea6}#gb .gb_3.gb_4{background:transparent;border:1px solid #5f6368;color:#8ab4f8;text-decoration:none}#gb .gb_3.gb_4:hover{background:rgba(255,255,255,.04);color:#e8eaed}#gb .gb_3.gb_4:focus{background:rgba(232,234,237,.12);border-color:#e8eaed;color:#e8eaed}#gb .gb_3.gb_4:active,#gb .gb_3.gb_4:focus:active{background:rgba(232,234,237,.1);color:#e8eaed}.gb_za{display:none!important}.gb_Aa{visibility:hidden}.gb_gd{display:inline-block;vertical-align:middle}.gb_yf{position:relative}.gb_A{display:inline-block;outline:none;vertical-align:middle;-webkit-border-radius:2px;border-radius:2px;-webkit-box-sizing:border-box;box-sizing:border-box;height:40px;width:40px;color:#000;cursor:pointer;text-decoration:none}#gb#gb a.gb_A{color:#000;cursor:pointer;text-decoration:none}.gb_3a{border-color:transparent;border-bottom-color:#fff;border-style:dashed dashed solid;border-width:0 8.5px 8.5px;display:none;position:absolute;left:11.5px;top:43px;z-index:1;height:0;width:0;-webkit-animation:gb__a .2s;animation:gb__a .2s}.gb_4a{border-color:transparent;border-style:dashed dashed solid;border-width:0 8.5px 8.5px;display:none;position:absolute;left:11.5px;z-index:1;height:0;width:0;-webkit-animation:gb__a .2s;animation:gb__a .2s;border-bottom-color:#ccc;border-bottom-color:rgba(0,0,0,.2);top:42px}x:-o-prefocus,div.gb_4a{border-bottom-color:#ccc}.gb_C{background:#fff;border:1px solid #ccc;border-color:rgba(0,0,0,.2);color:#000;-webkit-box-shadow:0 2px 10px rgba(0,0,0,.2);box-shadow:0 2px 10px rgba(0,0,0,.2);display:none;outline:none;overflow:hidden;position:absolute;right:8px;top:62px;-webkit-animation:gb__a .2s;animation:gb__a .2s;-webkit-border-radius:2px;border-radius:2px;-webkit-user-select:text}.gb_gd.gb_ka .gb_3a,.gb_gd.gb_ka .gb_4a,.gb_gd.gb_ka .gb_C,.gb_ka.gb_C{display:block}.gb_gd.gb_ka.gb_zf .gb_3a,.gb_gd.gb_ka.gb_zf .gb_4a{display:none}.gb_Af{position:absolute;right:8px;top:62px;z-index:-1}.gb_Ia .gb_3a,.gb_Ia .gb_4a,.gb_Ia .gb_C{margin-top:-10px}.gb_gd:first-child,#gbsfw:first-child+.gb_gd{padding-left:4px}.gb_oa.gb_Qe .gb_gd:first-child{padding-left:0}.gb_Re{position:relative}.gb_Rc .gb_Re,.gb_Xd .gb_Re{float:right}.gb_A{padding:8px;cursor:pointer}.gb_oa .gb_8c:not(.gb_W):focus img{background-color:rgba(0,0,0,.20);outline:none;-webkit-border-radius:50%;border-radius:50%}.gb_Se button:focus svg,.gb_Se button:hover svg,.gb_Se button:active svg,.gb_A:focus,.gb_A:hover,.gb_A:active,.gb_A[aria-expanded=true]{outline:none;-webkit-border-radius:50%;border-radius:50%}.gb_Ac .gb_Se.gb_Te button:focus svg,.gb_Ac .gb_Se.gb_Te button:focus:hover svg,.gb_Se button:focus svg,.gb_Se button:focus:hover svg,.gb_A:focus,.gb_A:focus:hover{background-color:rgba(60,64,67,.1)}.gb_Ac .gb_Se.gb_Te button:active svg,.gb_Se button:active svg,.gb_A:active{background-color:rgba(60,64,67,.12)}.gb_Ac .gb_Se.gb_Te button:hover svg,.gb_Se button:hover svg,.gb_A:hover{background-color:rgba(60,64,67,.08)}.gb_ia .gb_A.gb_La:hover{background-color:transparent}.gb_A[aria-expanded=true],.gb_A:hover[aria-expanded=true]{background-color:rgba(95,99,104,.24)}.gb_A[aria-expanded=true] .gb_Ue,.gb_A[aria-expanded=true] .gb_Ve{fill:#5f6368;opacity:1}.gb_Ac .gb_Se button:hover svg,.gb_Ac .gb_A:hover{background-color:rgba(232,234,237,.08)}.gb_Ac .gb_Se button:focus svg,.gb_Ac .gb_Se button:focus:hover svg,.gb_Ac .gb_A:focus,.gb_Ac .gb_A:focus:hover{background-color:rgba(232,234,237,.10)}.gb_Ac .gb_Se button:active svg,.gb_Ac .gb_A:active{background-color:rgba(232,234,237,.12)}.gb_Ac .gb_A[aria-expanded=true],.gb_Ac .gb_A:hover[aria-expanded=true]{background-color:rgba(255,255,255,.12)}.gb_Ac .gb_A[aria-expanded=true] .gb_Ue,.gb_Ac .gb_A[aria-expanded=true] .gb_Ve{fill:#fff;opacity:1}.gb_gd{padding:4px}.gb_oa.gb_Qe .gb_gd{padding:4px 2px}.gb_oa.gb_Qe .gb_Ma.gb_gd{padding-left:6px}.gb_C{z-index:991;line-height:normal}.gb_C.gb_We{left:8px;right:auto}@media (max-width:350px){.gb_C.gb_We{left:0}}.gb_Xe .gb_C{top:56px}.gb_z .gb_A,.gb_B .gb_z .gb_A{background-position:-64px -29px}.gb_g .gb_z .gb_A{background-position:-29px -29px;opacity:1}.gb_z .gb_A,.gb_z .gb_A:hover,.gb_z .gb_A:focus{opacity:1}.gb_Id{display:none}.gb_0c{font-family:Google Sans,Roboto,RobotoDraft,Helvetica,Arial,sans-serif;font-size:20px;font-weight:400;letter-spacing:0.25px;line-height:48px;margin-bottom:2px;opacity:1;overflow:hidden;padding-left:16px;position:relative;text-overflow:ellipsis;vertical-align:middle;top:2px;white-space:nowrap;-webkit-flex:1 1 auto;flex:1 1 auto}.gb_0c.gb_1c{color:#3c4043}.gb_oa.gb_pa .gb_0c{margin-bottom:0}.gb_2c.gb_3c .gb_0c{padding-left:4px}.gb_oa.gb_pa .gb_4c{position:relative;top:-2px}.gb_oa{color:black;min-width:320px;position:relative;-webkit-transition:box-shadow 250ms;transition:box-shadow 250ms}.gb_oa.gb_Jc{min-width:240px}.gb_oa.gb_Jd .gb_Kd{display:none}.gb_oa.gb_Jd .gb_Ld{height:56px}header.gb_oa{display:block}.gb_oa svg{fill:currentColor}.gb_Md{position:fixed;top:0;width:100%}.gb_Nd{-webkit-box-shadow:0px 4px 5px 0px rgba(0,0,0,.14),0px 1px 10px 0px rgba(0,0,0,.12),0px 2px 4px -1px rgba(0,0,0,.2);box-shadow:0px 4px 5px 0px rgba(0,0,0,.14),0px 1px 10px 0px rgba(0,0,0,.12),0px 2px 4px -1px rgba(0,0,0,.2)}.gb_Od{height:64px}.gb_Ld{-webkit-box-sizing:border-box;box-sizing:border-box;position:relative;width:100%;display:-webkit-box;display:-webkit-flex;display:flex;-webkit-box-pack:space-between;-webkit-justify-content:space-between;justify-content:space-between;min-width:-webkit-min-content;min-width:min-content}.gb_oa:not(.gb_pa) .gb_Ld{padding:8px}.gb_oa.gb_Pd .gb_Ld{-webkit-flex:1 0 auto;flex:1 0 auto}.gb_oa .gb_Ld.gb_Qd.gb_Rd{min-width:0}.gb_oa.gb_pa .gb_Ld{padding:4px;padding-left:8px;min-width:0}.gb_Kd{height:48px;vertical-align:middle;white-space:nowrap;-webkit-box-align:center;-webkit-align-items:center;align-items:center;display:-webkit-box;display:-webkit-flex;display:flex;-webkit-user-select:none}.gb_Td>.gb_Kd{display:table-cell;width:100%}.gb_2c{padding-right:30px;-webkit-box-sizing:border-box;box-sizing:border-box;-webkit-flex:1 0 auto;flex:1 0 auto}.gb_oa.gb_pa .gb_2c{padding-right:14px}.gb_Ud{-webkit-flex:1 1 100%;flex:1 1 100%}.gb_Ud>:only-child{display:inline-block}.gb_Vd.gb_Sc{padding-left:4px}.gb_Vd.gb_Wd,.gb_oa.gb_Pd .gb_Vd,.gb_oa.gb_pa:not(.gb_Xd) .gb_Vd{padding-left:0}.gb_oa.gb_pa .gb_Vd.gb_Wd{padding-right:0}.gb_oa.gb_pa .gb_Vd.gb_Wd .gb_ia{margin-left:10px}.gb_Sc{display:inline}.gb_oa.gb_Mc .gb_Vd.gb_Zd,.gb_oa.gb_Xd .gb_Vd.gb_Zd{padding-left:2px}.gb_0c{display:inline-block}.gb_Vd{-webkit-box-sizing:border-box;box-sizing:border-box;height:48px;line-height:normal;padding:0 4px;padding-left:30px;-webkit-flex:0 0 auto;flex:0 0 auto;-webkit-box-pack:flex-end;-webkit-justify-content:flex-end;justify-content:flex-end}.gb_Xd{height:48px}.gb_oa.gb_Xd{min-width:initial;min-width:auto}.gb_Xd .gb_Vd{float:right;padding-left:32px}.gb_Xd .gb_Vd.gb_0d{padding-left:0}.gb_1d{font-size:14px;max-width:200px;overflow:hidden;padding:0 12px;text-overflow:ellipsis;white-space:nowrap;-webkit-user-select:text}.gb_2d{-webkit-transition:background-color .4s;transition:background-color .4s}.gb_3d{color:black}.gb_Ac{color:white}.gb_oa a,.gb_Fc a{color:inherit}.gb_q{color:rgba(0,0,0,.87)}.gb_oa svg,.gb_Fc svg,.gb_2c .gb_4d,.gb_Rc .gb_4d{color:#5f6368;opacity:1}.gb_Ac svg,.gb_Fc.gb_Kc svg,.gb_Ac .gb_2c .gb_4d,.gb_Ac .gb_2c .gb_zc,.gb_Ac .gb_2c .gb_4c,.gb_Fc.gb_Kc .gb_4d{color:rgba(255,255,255,0.87)}.gb_Ac .gb_2c .gb_yc:not(.gb_5d){opacity:0.87}.gb_1c{color:inherit;opacity:1;text-rendering:optimizeLegibility;-webkit-font-smoothing:antialiased}.gb_Ac .gb_1c,.gb_3d .gb_1c{opacity:1}.gb_6d{position:relative}.gb_7d{font-family:arial,sans-serif;line-height:normal;padding-right:15px}a.gb_d,span.gb_d{color:rgba(0,0,0,.87);text-decoration:none}.gb_Ac a.gb_d,.gb_Ac span.gb_d{color:white}a.gb_d:focus{outline-offset:2px}a.gb_d:hover{text-decoration:underline}.gb_e{display:inline-block;padding-left:15px}.gb_e .gb_d{display:inline-block;line-height:24px;vertical-align:middle}.gb_8d{font-family:Google Sans,Roboto,RobotoDraft,Helvetica,Arial,sans-serif;font-weight:500;font-size:14px;letter-spacing:0.25px;line-height:16px;margin-left:10px;margin-right:8px;min-width:96px;padding:9px 23px;text-align:center;vertical-align:middle;-webkit-border-radius:4px;border-radius:4px;-webkit-box-sizing:border-box;box-sizing:border-box}.gb_oa.gb_Xd .gb_8d{margin-left:8px}#gb a.gb_1.gb_1.gb_8d{cursor:pointer}.gb_1.gb_8d:hover{background:#2b7de9;-webkit-box-shadow:0 1px 2px 0 rgba(66,133,244,.3),0 1px 3px 1px rgba(66,133,244,.15);box-shadow:0 1px 2px 0 rgba(66,133,244,.3),0 1px 3px 1px rgba(66,133,244,.15)}.gb_1.gb_8d:focus,.gb_1.gb_8d:hover:focus{background:#5094ed;-webkit-box-shadow:0 1px 2px 0 rgba(66,133,244,.3),0 1px 3px 1px rgba(66,133,244,.15);box-shadow:0 1px 2px 0 rgba(66,133,244,.3),0 1px 3px 1px rgba(66,133,244,.15)}.gb_1.gb_8d:active{background:#63a0ef;-webkit-box-shadow:0 1px 2px 0 rgba(66,133,244,.3),0 1px 3px 1px rgba(66,133,244,.15);box-shadow:0 1px 2px 0 rgba(66,133,244,.3),0 1px 3px 1px rgba(66,133,244,.15)}.gb_8d{background:#1a73e8;border:1px solid transparent}.gb_oa.gb_pa .gb_8d{padding:9px 15px;min-width:80px}.gb_9d{text-align:left}#gb .gb_Ac a.gb_8d:not(.gb_4),#gb.gb_Ac a.gb_8d{background:#fff;border-color:#dadce0;-webkit-box-shadow:none;box-shadow:none;color:#1a73e8}#gb a.gb_1.gb_4.gb_8d{background:#8ab4f8;border:1px solid transparent;-webkit-box-shadow:none;box-shadow:none;color:#202124}#gb .gb_Ac a.gb_8d:hover:not(.gb_4),#gb.gb_Ac a.gb_8d:hover{background:#f8fbff;border-color:#cce0fc}#gb a.gb_1.gb_4.gb_8d:hover:not(.gb_4){background:#93baf9;border-color:transparent;-webkit-box-shadow:0 1px 3px 1px rgba(0,0,0,.15),0 1px 2px rgba(0,0,0,.3);box-shadow:0 1px 3px 1px rgba(0,0,0,.15),0 1px 2px rgba(0,0,0,.3)}#gb .gb_Ac a.gb_8d:focus:not(.gb_4),#gb .gb_Ac a.gb_8d:focus:hover:not(.gb_4),#gb.gb_Ac a.gb_8d:focus:not(.gb_4),#gb.gb_Ac a.gb_8d:focus:hover:not(.gb_4){background:#f4f8ff;border-color:#c9ddfc}#gb a.gb_1.gb_4.gb_8d:focus,#gb a.gb_1.gb_4.gb_8d:focus:hover{background:#a6c6fa;border-color:transparent;-webkit-box-shadow:none;box-shadow:none}#gb .gb_Ac a.gb_8d:active:not(.gb_4),#gb.gb_Ac a.gb_8d:active{background:#ecf3fe}#gb a.gb_1.gb_4.gb_8d:active{background:#a1c3f9;-webkit-box-shadow:0 1px 2px rgba(60,64,67,.3),0 2px 6px 2px rgba(60,64,67,.15);box-shadow:0 1px 2px rgba(60,64,67,.3),0 2px 6px 2px rgba(60,64,67,.15)}.gb_ia{background-color:rgba(255,255,255,.88);border:1px solid #dadce0;-webkit-box-sizing:border-box;box-sizing:border-box;cursor:pointer;display:inline-block;max-height:48px;overflow:hidden;outline:none;padding:0;vertical-align:middle;width:134px;-webkit-border-radius:8px;border-radius:8px}.gb_ia.gb_4{background-color:transparent;border:1px solid #5f6368}.gb_ja{display:inherit}.gb_ia.gb_4 .gb_ja{background:#fff;-webkit-border-radius:4px;border-radius:4px;display:inline-block;left:8px;margin-right:5px;position:relative;padding:3px;top:-1px}.gb_ia:hover{border:1px solid #d2e3fc;background-color:rgba(248,250,255,.88)}.gb_ia.gb_4:hover{background-color:rgba(241,243,244,.04);border:1px solid #5f6368}.gb_ia:focus{background-color:rgba(255,255,255);border:1px solid #fff;-webkit-box-shadow:0px 1px 2px 0px rgba(60,64,67,.3),0px 1px 3px 1px rgba(60,64,67,.15);box-shadow:0px 1px 2px 0px rgba(60,64,67,.3),0px 1px 3px 1px rgba(60,64,67,.15)}.gb_ia.gb_4:focus{background-color:rgba(241,243,244,.12);border:1px solid #f1f3f4;-webkit-box-shadow:0 1px 3px 1px rgba(0,0,0,.15),0 1px 2px 0 rgba(0,0,0,.3);box-shadow:0 1px 3px 1px rgba(0,0,0,.15),0 1px 2px 0 rgba(0,0,0,.3)}.gb_ia.gb_4:active,.gb_ia.gb_ka.gb_4:focus{background-color:rgba(241,243,244,.1);border:1px solid #5f6368}.gb_la{display:inline-block;padding-bottom:2px;padding-left:7px;padding-top:2px;text-align:center;vertical-align:middle;line-height:32px;width:78px}.gb_ia.gb_4 .gb_la{line-height:26px;margin-left:0;padding-bottom:0;padding-left:0;padding-top:0;width:72px}.gb_la.gb_ma{background-color:#f1f3f4;-webkit-border-radius:4px;border-radius:4px;margin-left:8px;padding-left:0}.gb_la.gb_ma .gb_na{vertical-align:middle}.gb_oa:not(.gb_pa) .gb_ia{margin-left:10px;margin-right:4px}.gb_qa{max-height:32px;width:78px}.gb_ia.gb_4 .gb_qa{max-height:26px;width:72px}.gb_Ba{-webkit-background-size:32px 32px;background-size:32px 32px;border:0;-webkit-border-radius:50%;border-radius:50%;display:block;margin:0px;position:relative;height:32px;width:32px;z-index:0}.gb_Ca{background-color:#e8f0fe;border:1px solid rgba(32,33,36,.08);position:relative}.gb_Ca.gb_Ba{height:30px;width:30px}.gb_Ca.gb_Ba:hover,.gb_Ca.gb_Ba:active{-webkit-box-shadow:none;box-shadow:none}.gb_Da{background:#fff;border:none;-webkit-border-radius:50%;border-radius:50%;bottom:2px;-webkit-box-shadow:0px 1px 2px 0px rgba(60,64,67,.30),0px 1px 3px 1px rgba(60,64,67,.15);box-shadow:0px 1px 2px 0px rgba(60,64,67,.30),0px 1px 3px 1px rgba(60,64,67,.15);height:14px;margin:2px;position:absolute;right:0;width:14px}.gb_Ea{color:#1f71e7;font:400 22px/32px Google Sans,Roboto,RobotoDraft,Helvetica,Arial,sans-serif;text-align:center;text-transform:uppercase}@media (min-resolution:1.25dppx),(-o-min-device-pixel-ratio:5/4),(-webkit-min-device-pixel-ratio:1.25),(min-device-pixel-ratio:1.25){.gb_Ba::before,.gb_Fa::before{display:inline-block;-webkit-transform:scale(.5);transform:scale(.5);-webkit-transform-origin:left 0;transform-origin:left 0}.gb_i .gb_Fa::before{-webkit-transform:scale(0.416666667);transform:scale(0.416666667)}}.gb_Ba:hover,.gb_Ba:focus{-webkit-box-shadow:0 1px 0 rgba(0,0,0,.15);box-shadow:0 1px 0 rgba(0,0,0,.15)}.gb_Ba:active{-webkit-box-shadow:inset 0 2px 0 rgba(0,0,0,.15);box-shadow:inset 0 2px 0 rgba(0,0,0,.15)}.gb_Ba:active::after{background:rgba(0,0,0,.1);-webkit-border-radius:50%;border-radius:50%;content:\"\";display:block;height:100%}.gb_Ha{cursor:pointer;line-height:40px;min-width:30px;opacity:.75;overflow:hidden;vertical-align:middle;text-overflow:ellipsis}.gb_A.gb_Ha{width:auto}.gb_Ha:hover,.gb_Ha:focus{opacity:.85}.gb_Ia .gb_Ha,.gb_Ia .gb_Ja{line-height:26px}#gb#gb.gb_Ia a.gb_Ha,.gb_Ia .gb_Ja{font-size:11px;height:auto}.gb_Ka{border-top:4px solid #000;border-left:4px dashed transparent;border-right:4px dashed transparent;display:inline-block;margin-left:6px;opacity:.75;vertical-align:middle}.gb_La:hover .gb_Ka{opacity:.85}.gb_ia>.gb_Ma{padding:3px 3px 3px 4px}.gb_Na.gb_Aa{color:#fff}.gb_Ba.gb_Oa{clip-path:path(\\'M16 0C24.8366 0 32 7.16344 32 16C32 16.4964 31.9774 16.9875 31.9332 17.4723C30.5166 16.5411 28.8215 16 27 16C22.0294 16 18 20.0294 18 25C18 27.4671 18.9927 29.7024 20.6004 31.3282C19.1443 31.7653 17.5996 32 16 32C7.16344 32 0 24.8366 0 16C0 7.16344 7.16344 0 16 0Z\\')}.gb_Pa{-webkit-border-radius:50%;border-radius:50%;-webkit-box-shadow:0px 1px 2px 0px rgba(60,64,67,.30),0px 1px 3px 1px rgba(60,64,67,.15);box-shadow:0px 1px 2px 0px rgba(60,64,67,.30),0px 1px 3px 1px rgba(60,64,67,.15);margin:2px}.gb_Qa{fill:#f9ab00}.gb_4 .gb_Qa{fill:#fdd663}.gb_Ra>.gb_Qa{fill:#d93025}.gb_4 .gb_Ra>.gb_Qa{fill:#f28b82}.gb_Ra>.gb_Sa{fill:white}.gb_Sa,.gb_4 .gb_Ra>.gb_Sa{fill:#202124}.gb_Ta{-webkit-border-radius:50%;border-radius:50%;bottom:2px;height:18px;position:absolute;right:0px;width:18px}.gb_g .gb_Ha,.gb_g .gb_Ka{opacity:1}#gb#gb.gb_g.gb_g a.gb_Ha,#gb#gb .gb_g.gb_g a.gb_Ha{color:#fff}.gb_g.gb_g .gb_Ka{border-top-color:#fff;opacity:1}.gb_B .gb_Ba:hover,.gb_g .gb_Ba:hover,.gb_B .gb_Ba:focus,.gb_g .gb_Ba:focus{-webkit-box-shadow:0 1px 0 rgba(0,0,0,.15),0 1px 2px rgba(0,0,0,.2);box-shadow:0 1px 0 rgba(0,0,0,.15),0 1px 2px rgba(0,0,0,.2)}.gb_Ua .gb_Ma,.gb_Va .gb_Ma{position:absolute;right:1px}.gb_Ma.gb_f,.gb_Wa.gb_f,.gb_La.gb_f{-webkit-flex:0 1 auto;flex:0 1 auto;-webkit-flex:0 1 main-size;flex:0 1 main-size}.gb_Xa.gb_Za .gb_Ha{width:30px!important}.gb_0a{height:40px;position:absolute;right:-5px;top:-5px;width:40px}.gb_1a .gb_0a,.gb_2a .gb_0a{right:0;top:0}.gb_Ma .gb_A{padding:4px}.gb_be{display:none}sentinel{}.z1asCe{display:inline-block;fill:currentColor;height:24px;line-height:24px;position:relative;width:24px}.z1asCe svg{display:block;height:100%;width:100%}</style><script async=\"\" type=\"text/javascript\" charset=\"UTF-8\" src=\"https://www.gstatic.com/og/_/js/k=og.qtm.en_US.9qKbA91dtuI.O/rt=j/m=qabr,q_dnp,qcwid,qapid,qald/exm=qaaw,qadd,qaid,qein,qhaw,qhbr,qhch,qhga,qhid,qhin,qhpr/d=1/ed=1/rs=AA2YrTt8_n-aYPM6f2hRngEG_n2kDjz7kQ\" nonce=\"g4FT8gAi4RUOEZef6KQc0A\"></script><link type=\"text/css\" rel=\"stylesheet\" href=\"https://www.gstatic.com/og/_/ss/k=og.qtm.rj7C7F4m0ng.L.W.O/m=qcwid/excm=qaaw,qadd,qaid,qein,qhaw,qhbr,qhch,qhga,qhid,qhin,qhpr/d=1/ed=1/ct=zgms/rs=AA2YrTvbaNRiBNUN2965QXbOhz9Epb0uQg\"></head><body jsmodel=\"hspDDf\" jsaction=\"xjhTIf:.CLIENT;O2vyse:.CLIENT;IVKTfe:.CLIENT;Ez7VMc:.CLIENT;YUC7He:.CLIENT;qqf0n:.CLIENT;A8708b:.CLIENT;YcfJ:.CLIENT;VM8bg:.CLIENT;hWT9Jb:.CLIENT;WCulWe:.CLIENT;szjOR:.CLIENT;JL9QDc:.CLIENT;kWlxhc:.CLIENT;qGMTIf:.CLIENT\"><style data-iml=\"1656407885332\">.L3eUgb{display:flex;flex-direction:column;height:100%}.o3j99{flex-shrink:0;box-sizing:border-box}.n1xJcf{height:60px}.LLD4me{min-height:150px;max-height:290px;height:calc(100% - 560px)}.yr19Zb{min-height:92px}.ikrT4e{max-height:160px}.qarstb{flex-grow:1}</style><div jscontroller=\"HGv0mf\" class=\"L3eUgb\" data-sdd=\"200\" data-sdh=\"150\" data-sdssp=\"0\" data-hveid=\"1\"><div class=\"o3j99 n1xJcf Ne6nSd\"><style data-iml=\"1656407885333\">.Ne6nSd{display:flex;align-items:center;padding:6px}.LX3sZb{display:inline-block;flex-grow:1}</style><div class=\"LX3sZb\"><div class=\"gb_oa gb_Xd gb_1a gb_Mc\" id=\"gb\"><div class=\"gb_Vd gb_Xa gb_Kd\" data-ogsr-up=\"\"><div><div class=\"gb_7d gb_f gb_lg gb_cg\" data-ogbl=\"\"><div class=\"gb_e gb_f\"><a class=\"gb_d\" data-pid=\"23\" href=\"https://mail.google.com/mail/&amp;ogbl\" target=\"_top\">Gmail</a></div><div class=\"gb_e gb_f\"><a class=\"gb_d\" data-pid=\"2\" href=\"https://www.google.com.pk/imghp?hl=en&amp;ogbl\" target=\"_top\">Images</a></div></div></div><div class=\"gb_Re\"><div class=\"gb_Sc\"><div class=\"gb_z gb_gd gb_f gb_zf\" data-ogsr-fb=\"true\" data-ogsr-alt=\"\" id=\"gbwa\"><div class=\"gb_yf\"><a class=\"gb_A\" aria-label=\"Google apps\" href=\"https://www.google.com.pk/intl/en/about/products\" aria-expanded=\"false\" role=\"button\" tabindex=\"0\"><svg class=\"gb_Ue\" focusable=\"false\" viewBox=\"0 0 24 24\"><path d=\"M6,8c1.1,0 2,-0.9 2,-2s-0.9,-2 -2,-2 -2,0.9 -2,2 0.9,2 2,2zM12,20c1.1,0 2,-0.9 2,-2s-0.9,-2 -2,-2 -2,0.9 -2,2 0.9,2 2,2zM6,20c1.1,0 2,-0.9 2,-2s-0.9,-2 -2,-2 -2,0.9 -2,2 0.9,2 2,2zM6,14c1.1,0 2,-0.9 2,-2s-0.9,-2 -2,-2 -2,0.9 -2,2 0.9,2 2,2zM12,14c1.1,0 2,-0.9 2,-2s-0.9,-2 -2,-2 -2,0.9 -2,2 0.9,2 2,2zM16,6c0,1.1 0.9,2 2,2s2,-0.9 2,-2 -0.9,-2 -2,-2 -2,0.9 -2,2zM12,8c1.1,0 2,-0.9 2,-2s-0.9,-2 -2,-2 -2,0.9 -2,2 0.9,2 2,2zM18,14c1.1,0 2,-0.9 2,-2s-0.9,-2 -2,-2 -2,0.9 -2,2 0.9,2 2,2zM18,20c1.1,0 2,-0.9 2,-2s-0.9,-2 -2,-2 -2,0.9 -2,2 0.9,2 2,2z\"></path></svg></a></div></div></div><a class=\"gb_1 gb_2 gb_8d gb_8c\" href=\"https://accounts.google.com/ServiceLogin?hl=en&amp;passive=true&amp;continue=https://www.google.com/&amp;ec=GAZAmgQ\" target=\"_top\">Sign in</a></div><div style=\"overflow: hidden; position: absolute; top: 0px; visibility: hidden; width: 328px; z-index: 991; height: 0px; margin-top: 57px; transition: height 0.3s ease-in-out 0s; right: 0px; margin-right: 4px;\"></div></div></div></div></div><div class=\"o3j99 LLD4me yr19Zb LS8OJ\"><style data-iml=\"1656407885333\">.LS8OJ{display:flex;flex-direction:column;align-items:center}.k1zIA{height:100%;margin-top:auto}</style><div class=\"k1zIA rSk4se\"><style data-iml=\"1656407885333\">.rSk4se{max-height:92px;position:relative}.lnXdpd{max-height:100%;max-width:100%;object-fit:contain;object-position:center bottom;width:auto}</style><img class=\"lnXdpd\" alt=\"Google\" height=\"92\" src=\"/images/branding/googlelogo/2x/googlelogo_color_272x92dp.png\" srcset=\"/images/branding/googlelogo/1x/googlelogo_color_272x92dp.png 1x, /images/branding/googlelogo/2x/googlelogo_color_272x92dp.png 2x\" width=\"272\" data-atf=\"1\" data-frt=\"0\"></div></div><div class=\"o3j99 ikrT4e om7nvf\"><style data-iml=\"1656407885333\">.om7nvf{padding:20px}</style><dialog class=\"spch-dlg\" id=\"spch-dlg\"><div class=\"spch\" style=\"display:none\" id=\"spch\"><style>.spch-dlg{background:transparent;border:none}.spch{background:#fff;height:100%;left:0;opacity:0;overflow:hidden;position:fixed;text-align:left;top:0;visibility:hidden;width:100%;z-index:10000;transition:visibility 0s linear 0.218s,background-color 0.218s;}.s2fp.spch{opacity:1;transition-delay:0s;visibility:visible;}.close-button{background:none;border:none;color:#70757a;cursor:pointer;font-size:26px;right:0;line-height:15px;opacity:.6;margin:-1px -1px 0 0;padding:0 0 2px 0;height:48px;width:48px;position:absolute;top:0;z-index:10}.close-button:hover{opacity:.8}.close-button:active{opacity:1}.spchc{display:block;height:42px;pointer-events:none;margin:auto;position:relative;top:0;margin-top:312px;max-width:572px;min-width:534px;padding:0 223px}.inner-container{height:100%;opacity:.1;pointer-events:none;width:100%;transition:opacity .318s ease-in}.s2ml .inner-container,.s2ra .inner-container,.s2er .inner-container{opacity:1;transition:opacity 0s}</style><style>.google-logo{background:url(data:image/png;base64,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) no-repeat center;background-size:94px 32px;height:32px;width:94px;top:8px;opacity:0;float:right;left:255px;pointer-events:none;position:relative;transition:opacity .5s ease-in,left .5s ease-in}</style><button class=\"close-button\" id=\"spchx\" aria-label=\"close\">×</button><div class=\"spchc\" id=\"spchc\"><div class=\"inner-container\"><div class=\"button-container\"><style>.button{background-color:#fff;border:1px solid #eee;border-radius:100%;bottom:0;box-shadow:0 2px 5px rgba(0,0,0,.1);cursor:pointer;display:inline-block;opacity:0;pointer-events:none;position:absolute;right:0;transition:background-color 0.218s,border 0.218s,box-shadow 0.218s;transition-delay:0;position:absolute;opacity:0;left:0;top:0}.s2fp .button{opacity:1;pointer-events:auto;transform:scale(1);}.s2ra .button{background-color:#f44;border:0;box-shadow:none}.r8s4j{background-color:#dbdbdb;border-radius:100%;display:inline-block;opacity:1;pointer-events:none;position:absolute;transform:scale(.01);transition:opacity 0.218s;height:301px;left:-69px;top:-69px;width:301px;}.button-container{pointer-events:none;position:relative;transition:transform 0.218s,opacity 0.218s ease-in;transform:scale(.1);height:165px;width:165px;right:-70px;top:-70px;float:right;}.s2fp .button-container{transform:scale(1)}.s2ra .button:active{background-color:#cd0000}.button:active{background-color:#eee}</style><span class=\"r8s4j\" id=\"spchl\"></span><span class=\"button\" id=\"spchb\"><div class=\"microphone\"><style>.microphone{height:87px;pointer-events:none;position:absolute;width:42px;top:47px;transform:scale(1);left:43px;}.receiver{background-color:#999;border-radius:30px;height:46px;left:25px;pointer-events:none;position:absolute;width:24px}.wrapper{bottom:0;height:53px;left:11px;overflow:hidden;pointer-events:none;position:absolute;width:52px}.stem{background-color:#999;bottom:14px;height:14px;left:22px;pointer-events:none;position:absolute;width:9px;z-index:1}.shell{border:7px solid #999;border-radius:28px;bottom:27px;height:57px;pointer-events:none;position:absolute;width:38px;z-index:0;left:0px}.s2ml .receiver,.s2ml .stem{background-color:#f44}.s2ml .shell{border-color:#f44}.s2ra .receiver,.s2ra .stem{background-color:#fff}.s2ra .shell{border-color:#fff}</style><span class=\"receiver\"></span><div class=\"wrapper\"><span class=\"stem\"></span><span class=\"shell\"></span></div></div></span></div><div class=\"text-container\"><style>.text-container{pointer-events:none;position:absolute;}.spcht{font-weight:normal;line-height:1.2;opacity:0;pointer-events:none;position:absolute;text-align:left;-webkit-font-smoothing:antialiased;transition:opacity .1s ease-in,margin-left .5s ease-in,top 0s linear 0.218s;left:-44px;top:-.2em;margin-left:44px;font-size:32px;width:460px;}.s2fp .spcht{margin-left:0;opacity:1;transition:opacity .5s ease-out,margin-left .5s ease-out}.spchta{color:#15c;cursor:pointer;font-size:18px;font-weight:500;pointer-events:auto;text-decoration:underline}.spch-2l.spcht,.spch-3l.spcht,.spch-4l.spcht{transition:top 0.218s ease-out}.spch-2l.spcht{top:-.6em}.spch-3l.spcht{top:-1.3em}.spch-4l.spcht{top:-1.7em}.s2fp .spch-5l.spcht{top:-2.5em;}</style><span class=\"spcht\" style=\"color:#70757a\" id=\"spchi\"></span><span class=\"spcht\" style=\"color:#000\" id=\"spchf\"></span></div><div class=\"google-logo\"></div></div><div class=\"permission-bar\"><style>.permission-bar{margin-top:-100px;opacity:0;pointer-events:none;position:absolute;width:500px;transition:opacity 0.218s ease-in,margin-top .4s ease-in}.s2wfp .permission-bar{margin-top:-300px;opacity:1;transition:opacity .5s ease-out 0.218s,margin-top 0.218s ease-out 0.218s}.permission-bar-gradient{box-shadow:0 1px 0px #4285f4;height:80px;left:0;margin:0;opacity:0;pointer-events:none;position:fixed;right:0;top:-80px;transition:opacity 0.218s,box-shadow 0.218s}.s2wfp .permission-bar-gradient{box-shadow:0 1px 80px #4285f4;opacity:1;pointer-events:none;animation:allow-alert .75s 0 infinite;animation-direction:alternate;animation-timing-function:ease-out;transition:opacity 0.218s,box-shadow 0.218s}@-webkit-keyframes allow-alert {from{opacity:1}to{opacity:.35}}</style><div class=\"permission-bar-gradient\"></div></div></div></div></dialog><form action=\"/search\" method=\"GET\" role=\"search\"> <div jsmodel=\"sj77Re vWNDde P9Kqfe\" jsdata=\"MuIEvd;_;AzvlNk\"> <div jscontroller=\"cnjECf\" jsmodel=\"QubRsd a4L2gc QwwFZb BFDhle gx0hCb TnHSdd icv1ie \" class=\"A8SBwf\" data-adhe=\"false\" data-alt=\"false\" jsdata=\"LVplcb;_;\" jsaction=\"lX6RWd:w3Wsmc;DkpM0b:d3sQLd;IQOavd:dFyQEf;XzZZPe:jI3wzf;Aghsf:AVsnlb;iHd9U:Q7Cnrc;f5hEHe:G0jgYd;vmxUb:j3bJnb;R2c5O:LuRugf;qiCkJd:ANdidc;htNNz:SNIJTd;NOg9L:HLgh3;uGoIkd:epUokb;zLdLw:eaGBS;rcuQ6b:npT2md\"><style data-iml=\"1656407885333\">.A8SBwf{margin:0 auto;width:640px;padding-top:6px;width:auto;max-width:584px;position:relative;}.RNNXgb{display:flex;z-index:3;height:44px;background:#fff;border:1px solid #dfe1e5;box-shadow:none;border-radius:24px;margin:0 auto;width:638px;width:auto;max-width:584px;}.minidiv .RNNXgb{height:32px;border-radius:16px;background:#fff;margin:10px 0 0;}.emcav .RNNXgb{border-bottom-left-radius:0;border-bottom-right-radius:0;box-shadow:0 1px 6px rgba(32,33,36,.28);border-color:rgba(223,225,229,0);}.minidiv .emcav .RNNXgb{border-bottom-left-radius:0;border-bottom-right-radius:0;}.emcav.emcat .RNNXgb{border-bottom-left-radius:24px;border-bottom-right-radius:24px}.minidiv .emcav.emcat .RNNXgb{border-bottom-left-radius:16px;border-bottom-right-radius:16px}.RNNXgb:hover,.sbfc .RNNXgb{background-color:#fff;box-shadow:0 1px 6px rgba(32,33,36,.28);border-color:rgba(223,225,229,0)}.SDkEP{flex:1;display:flex;padding:5px 8px 0 14px;}.minidiv .SDkEP{padding-top:0}.FPdoLc{padding-top:18px}.iblpc{display:flex;align-items:center;padding-right:13px;margin-top:-5px}.minidiv .iblpc{margin-top:0}</style><style data-iml=\"1656407885333\">.CKb9sd{background:none;display:flex;flex:0 0 auto}</style><div class=\"RNNXgb\" jsname=\"RNNXgb\"><div class=\"SDkEP\"><div class=\"iblpc\" jsname=\"uFMOof\"><style data-iml=\"1656407885333\">.CcAdNb{margin:auto}.QCzoEc{margin-top:3px;color:#9aa0a6}</style><div class=\"CcAdNb\"><span class=\"QCzoEc z1asCe MZy1Rb\" style=\"height:20px;line-height:20px;width:20px\"><svg focusable=\"false\" xmlns=\"http://www.w3.org/2000/svg\" viewBox=\"0 0 24 24\"><path d=\"M15.5 14h-.79l-.28-.27A6.471 6.471 0 0 0 16 9.5 6.5 6.5 0 1 0 9.5 16c1.61 0 3.09-.59 4.23-1.57l.27.28v.79l5 4.99L20.49 19l-4.99-5zm-6 0C7.01 14 5 11.99 5 9.5S7.01 5 9.5 5 14 7.01 14 9.5 11.99 14 9.5 14z\"></path></svg></span></div></div><div jscontroller=\"vZr2rb\" class=\"a4bIc\" jsname=\"gLFyf\" jsaction=\"h5M12e;input:d3sQLd;blur:jI3wzf\"><style data-iml=\"1656407885334\">.gLFyf{background-color:transparent;border:none;margin:0;padding:0;color:rgba(0,0,0,.87);word-wrap:break-word;outline:none;display:flex;flex:100%;-webkit-tap-highlight-color:transparent;margin-top:-37px;height:34px;font-size:16px;}.minidiv .gLFyf{margin-top:-35px;}.a4bIc{display:flex;flex:1;flex-wrap:wrap}.YacQv{color:transparent;flex:100%;white-space:pre;height:34px;font-size:16px;}.YacQv span{background:url(\"/images/experiments/wavy-underline.png\") repeat-x scroll 0 100% transparent;padding:0 0 10px 0;}</style><div class=\"YacQv gsfi\" jsname=\"vdLsw\"></div><input class=\"gLFyf gsfi\" jsaction=\"paste:puy29d;\" maxlength=\"2048\" name=\"q\" type=\"text\" aria-autocomplete=\"both\" aria-haspopup=\"false\" autocapitalize=\"off\" autocomplete=\"off\" autocorrect=\"off\" autofocus=\"\" role=\"combobox\" spellcheck=\"false\" title=\"Search\" value=\"\" aria-label=\"Search\" data-ved=\"0ahUKEwjaoeGc6M_4AhUlgHMKHTyeBTUQ39UDCAQ\"></div><div class=\"dRYYxd\"><style data-iml=\"1656407885334\">.dRYYxd{display:flex;flex:0 0 auto;margin-top:-5px;align-items:stretch;flex-direction:row}.minidiv .dRYYxd{margin-top:0}</style> <style data-iml=\"1656407885334\">.BKRPef{flex:1 0 auto;display:none;cursor:pointer;align-items:center;border:0;background:transparent;outline:none;padding:0 8px;line-height:44px}.M2vV3{display:flex}.ExCKkf{height:100%;color:#70757a;vertical-align:middle;outline:none}.minidiv .BKRPef{line-height:32px}.minidiv .ExCKkf{width:20px}</style> <style data-iml=\"1656407885334\">.BKRPef{padding-right:4px}.ExCKkf{margin-right:12px}.ACRAdd{border-left:1px solid #dadce0;height:65%}</style>  <div jscontroller=\"PymCCe\" class=\"BKRPef\" jsname=\"RP0xob\" aria-label=\"Clear\" role=\"button\" jsaction=\"AVsnlb;rcuQ6b:npT2md\" data-ved=\"0ahUKEwjaoeGc6M_4AhUlgHMKHTyeBTUQ05YFCAU\">  <span class=\"ExCKkf z1asCe rzyADb\" jsname=\"itVqKe\" role=\"button\" tabindex=\"0\" aria-label=\"Clear\"><svg focusable=\"false\" xmlns=\"http://www.w3.org/2000/svg\" viewBox=\"0 0 24 24\"><path d=\"M19 6.41L17.59 5 12 10.59 6.41 5 5 6.41 10.59 12 5 17.59 6.41 19 12 13.41 17.59 19 19 17.59 13.41 12z\"></path></svg></span>  <span class=\"ACRAdd\"></span> </div>   <style data-iml=\"1656407885334\">.XDyW0e{flex:1 0 auto;display:flex;cursor:pointer;align-items:center;border:0;background:transparent;outline:none;padding:0 8px;width:24px;line-height:44px}.goxjub{height:24px;width:24px;vertical-align:middle}.minidiv .XDyW0e{line-height:32px}.minidiv .goxjub{width:20px;height:20px}</style><div jscontroller=\"unV4T\" class=\"XDyW0e\" aria-label=\"Search by voice\" role=\"button\" tabindex=\"0\" jsaction=\"h5M12e;rcuQ6b:npT2md\" data-ved=\"0ahUKEwjaoeGc6M_4AhUlgHMKHTyeBTUQvs8DCAY\"><svg class=\"goxjub\" focusable=\"false\" viewBox=\"0 0 24 24\" xmlns=\"http://www.w3.org/2000/svg\"><path fill=\"#4285f4\" d=\"m12 15c1.66 0 3-1.31 3-2.97v-7.02c0-1.66-1.34-3.01-3-3.01s-3 1.34-3 3.01v7.02c0 1.66 1.34 2.97 3 2.97z\"></path><path fill=\"#34a853\" d=\"m11 18.08h2v3.92h-2z\"></path><path fill=\"#fbbc05\" d=\"m7.05 16.87c-1.27-1.33-2.05-2.83-2.05-4.87h2c0 1.45 0.56 2.42 1.47 3.38v0.32l-1.15 1.18z\"></path><path fill=\"#ea4335\" d=\"m12 16.93a4.97 5.25 0 0 1 -3.54 -1.55l-1.41 1.49c1.26 1.34 3.02 2.13 4.95 2.13 3.87 0 6.99-2.92 6.99-7h-1.99c0 2.92-2.24 4.93-5 4.93z\"></path></svg></div></div></div></div><div jscontroller=\"Dvn7fe\" class=\"UUbT9\" style=\"display:none\" jsname=\"UUbT9\" jsaction=\"mouseout:ItzDCd;mouseleave:MWfikb;hBEIVb:nUZ9le;YMFC3:VKssTb;vklu5c:k02QY;mMf61e:Mb6Xlc\"><style data-iml=\"1656407885334\">.UUbT9{position:absolute;text-align:left;z-index:3;cursor:default;-webkit-user-select:none;width:100%;margin-top:-1px;}.aajZCb{display:flex;flex-direction:column;list-style-type:none;margin:0;padding:0;overflow:hidden;background:#fff;border-radius:0 0 24px 24px;box-shadow:0 4px 6px rgba(32,33,36,.28);border:0;padding-bottom:4px;}.minidiv .aajZCb{border-bottom-left-radius:16px;border-bottom-right-radius:16px}.mkHrUc{display:flex;}.h3L8Ub .rLrQHf{padding-bottom:16px}.h3L8Ub .rLrQHf{margin-right:30px}.h3L8Ub .rLrQHf{width:44%}.erkvQe{padding-bottom:8px;flex:auto;}.RjPuVb{height:1px;margin:0 26px 0 0;}.S3nFnd{display:flex}.S3nFnd .RjPuVb,.S3nFnd .aajZCb{flex:0 0 auto}.lh87ke:link,.lh87ke:visited{color:#1a0dab;cursor:pointer;font:11px arial,sans-serif;padding:0 5px;margin-top:-10px;text-decoration:none;flex:auto;align-self:flex-end;margin:0 16px 5px 0}.lh87ke:hover{text-decoration:underline}.xtSCL{border-top:1px solid #e8eaed;margin:0 20px 0 14px;padding-bottom:4px}.sb7{background:url() no-repeat ;min-height:0px;min-width:0px;height:0px;width:0px}.sb27{background:url(/images/searchbox/desktop_searchbox_sprites318_hr.webp) no-repeat 0 -21px;background-size:20px;min-height:20px;min-width:20px;height:20px;width:20px}.sb43{background:url(/images/searchbox/desktop_searchbox_sprites318_hr.webp) no-repeat 0 0;background-size:20px;min-height:20px;min-width:20px;height:20px;width:20px}.sb53.sb53{padding:0 4px;margin:0}.sb33{background:url(/images/searchbox/desktop_searchbox_sprites318_hr.webp) no-repeat 0 -42px;background-size:20px;height:20px;width:20px;}</style><div class=\"RjPuVb\" jsname=\"RjPuVb\"></div><div class=\"aajZCb\" jsname=\"aajZCb\"><div class=\"xtSCL\"></div><div class=\"mkHrUc\"><ul class=\"erkvQe\" jsname=\"erkvQe\" role=\"listbox\"></ul><ul class=\"rLrQHf\" jsname=\"tovEib\" role=\"listbox\"></ul></div><style data-iml=\"1656407885334\">#shJ2Vb{display:none}.OBMEnb{padding:0;margin:0}.G43f7e{display:flex;flex-direction:column;min-width:0;padding:0}.Ye4jfc{flex-direction:row;flex-wrap:wrap}</style><div jsname=\"E80e9e\" class=\"OBMEnb\" id=\"shJ2Vb\" role=\"presentation\"><ul jsname=\"bw4e9b\" class=\"G43f7e\" role=\"listbox\"></ul></div><style data-iml=\"1656407885334\">#ynRric{display:none}.ynRric{list-style-type:none;flex-direction:column;color:#70757a;font-family:Google Sans,arial,sans-serif-medium,sans-serif;font-size:14px;margin:0 20px 0 16px;padding:8px 0 8px 0;line-height:16px;width:100%}</style><div class=\"ynRric\" id=\"ynRric\" role=\"presentation\"></div><style data-iml=\"1656407885334\">#YMXe{display:none}.sbct{display:flex;align-items:center;min-width:0;padding:0;}.eIPGRd{flex:auto;display:flex;align-items:center;margin:0 20px 0 14px}.pcTkSc{display:flex;flex:auto;flex-direction:column;min-width:0;padding:6px 0}.sbic{display:flex;align-items:center;margin:0 13px 0 1px;}.sbic.vYOkbe{background:center/contain no-repeat;border-radius:4px;min-height:32px;min-width:32px;margin:4px 7px 4px -5px;}.sbre .wM6W7d{line-height:18px}.ClJ9Yb{line-height:12px;font-size:13px;color:#80868b;margin-top:2px}.wM6W7d{display:flex;font-size:16px;color:#212121;flex:auto;align-items:center;word-break:break-word;padding-right:8px}.minidiv .wM6W7d{font-size:14px}.WggQGd{color:#52188c}.wM6W7d span{flex:auto}.AQZ9Vd{display:flex;align-self:stretch;}.JCHpcb:hover{color:#1a73e8;text-decoration:underline;}.JCHpcb{color:#80868b;font:13px arial,sans-serif;cursor:pointer;align-self:center}.sbhl{background:#eee;}@media (hover:hover){.sbai{visibility:hidden}.sbhl .sbai{visibility:inherit}}.mus_pc{display:block;margin:6px 0}.mus_il{font-family:Arial,HelveticaNeue-Light,HelveticaNeue,Helvetica;padding-top:7px;position:relative}.mus_il:first-child{padding-top:0}.mus_il_at{margin-left:10px}.mus_il_st{right:52px;position:absolute}.mus_il_i{align:left;margin-right:10px}.mus_it3{margin-bottom:3px;max-height:24px;vertical-align:bottom}.mus_it5{height:24px;width:24px;vertical-align:bottom;margin-left:10px;margin-right:10px;transform:rotate(90deg)}.mus_tt3{color:#767676;font-size:12px;vertical-align:top}.mus_tt5{color:#d93025;font-size:14px}.mus_tt6{color:#188038;font-size:14px}.mus_tt8{font-size:16px;font-family:Arial,sans-serif}.mus_tt17{color:#212121;font-size:20px}.mus_tt18{color:#212121;font-size:24px}.mus_tt19{color:#767676;font-size:12px}.mus_tt20{color:#767676;font-size:14px}.mus_tt23{color:#767676;font-size:18px}</style><li data-view-type=\"1\" class=\"sbct\" id=\"YMXe\" role=\"presentation\"><div class=\"eIPGRd\"><div class=\"sbic\"></div><div class=\"pcTkSc\" role=\"option\"><div class=\"wM6W7d\"><span></span></div><div class=\"ClJ9Yb\"><span></span></div></div><div class=\"AQZ9Vd\"><div class=\"sbai\">Delete</div></div></div></li><div class=\"CqAVzb lJ9FBc\" jsname=\"VlcLAe\"> <style data-iml=\"1656407885334\">.lJ9FBc{height:70px}.lJ9FBc input[type=\"submit\"],.gbqfba{background-color:#f8f9fa;border:1px solid #f8f9fa;border-radius:4px;color:#3c4043;font-family:arial,sans-serif;font-size:14px;margin:11px 4px;padding:0 16px;line-height:27px;height:36px;min-width:54px;text-align:center;cursor:pointer;user-select:none}.lJ9FBc input[type=\"submit\"]:hover{box-shadow:0 1px 1px rgba(0,0,0,.1);background-color:#f8f9fa;border:1px solid #dadce0;color:#202124}.lJ9FBc input[type=\"submit\"]:focus{border:1px solid #4285f4;outline:none}</style> <center> <input class=\"gNO89b\" value=\"Google Search\" aria-label=\"Google Search\" name=\"btnK\" role=\"button\" tabindex=\"0\" type=\"submit\" data-ved=\"0ahUKEwjaoeGc6M_4AhUlgHMKHTyeBTUQ4dUDCAc\"> <input class=\"RNmpXc\" value=\"I\\'m Feeling Lucky\" aria-label=\"I\\'m Feeling Lucky\" name=\"btnI\" type=\"submit\" jsaction=\"trigger.kWlxhc\" data-ved=\"0ahUKEwjaoeGc6M_4AhUlgHMKHTyeBTUQ19QECAg\">  </center> </div></div><style data-iml=\"1656407885334\">.MG7lrf{font-size:8pt;margin-top:-16px;position:absolute;right:16px;}</style><div jsname=\"JUypV\" jscontroller=\"OqGDve\" class=\"MG7lrf\" data-async-context=\"async_id:duf3-46;authority:0;card_id:;entry_point:0;feature_id:;ftoe:0;header:0;is_jobs_spam_form:0;open:0;preselect_answer_index:-1;suggestions:;suggestions_subtypes:;suggestions_types:;surface:0;title:;type:46\"><style data-iml=\"1656407885334\">a.oBa0Fe{color:#70757a;float:right;font-style:italic;-webkit-tap-highlight-color:rgba(0,0,0,.00);tap-highlight-color:rgba(0,0,0,.00)}a.aciXEb{padding:0 5px;}.RTZ84b{color:#70757a;cursor:pointer;padding-right:8px}.XEKxtf{color:#70757a;float:right;font-size:12px;line-height:16px;padding-bottom:4px}</style><div jscontroller=\"EkevXb\" style=\"display:none\" jsaction=\"rcuQ6b:npT2md\"></div><div id=\"duf3-46\" data-jiis=\"up\" data-async-type=\"duffy3\" data-async-context-required=\"type,open,feature_id,async_id,entry_point,authority,card_id,ftoe,title,header,suggestions,surface,suggestions_types,suggestions_subtypes,preselect_answer_index,is_jobs_spam_form\" class=\"yp\" data-ved=\"0ahUKEwjaoeGc6M_4AhUlgHMKHTyeBTUQ-0EICQ\"></div><a class=\"oBa0Fe aciXEb\" href=\"#\" id=\"sbfblt\" data-async-trigger=\"duf3-46\" role=\"button\" jsaction=\"trigger.szjOR\" data-ved=\"0ahUKEwjaoeGc6M_4AhUlgHMKHTyeBTUQtw8ICg\">Report inappropriate predictions</a></div></div><div class=\"FPdoLc lJ9FBc\">  <center> <input class=\"gNO89b\" value=\"Google Search\" aria-label=\"Google Search\" name=\"btnK\" role=\"button\" tabindex=\"0\" type=\"submit\" data-ved=\"0ahUKEwjaoeGc6M_4AhUlgHMKHTyeBTUQ4dUDCAs\"> <input class=\"RNmpXc\" value=\"I\\'m Feeling Lucky\" aria-label=\"I\\'m Feeling Lucky\" name=\"btnI\" type=\"submit\" jsaction=\"trigger.kWlxhc\" data-ved=\"0ahUKEwjaoeGc6M_4AhUlgHMKHTyeBTUQ19QECAw\">  </center> </div></div> <div style=\"background:url(/images/searchbox/desktop_searchbox_sprites318_hr.webp)\"> </div> </div> <div id=\"tophf\"><input name=\"source\" type=\"hidden\" value=\"hp\"><input value=\"Tce6YprHBqWAzgO8vJaoAw\" name=\"ei\" type=\"hidden\"><input value=\"AJiK0e8AAAAAYrrVXYfcuvauICVKRDbkWlCU_ezG-YHv\" name=\"iflsig\" type=\"hidden\"></div></form></div><div class=\"o3j99 qarstb\"><style data-iml=\"1656407885335\">.vcVZ7d{text-align:center}</style><div class=\"vcVZ7d\" id=\"gws-output-pages-elements-homepage_additional_languages__als\"><style data-iml=\"1656407885335\">#gws-output-pages-elements-homepage_additional_languages__als{font-size:small;margin-bottom:24px}#SIvCob{color:#3c4043;display:inline-block;line-height:28px;}#SIvCob a{padding:0 3px;}.H6sW5{display:inline-block;margin:0 2px;white-space:nowrap}.z4hgWe{display:inline-block;margin:0 2px}</style><div id=\"SIvCob\">Google offered in:  <a dir=\"rtl\" href=\"https://www.google.com/setprefs?sig=0_L6poCkUuJJtKKZjaS5tq0QKX2Qw%3D&amp;hl=ur&amp;source=homepage&amp;sa=X&amp;ved=0ahUKEwjaoeGc6M_4AhUlgHMKHTyeBTUQ2ZgBCA4\">اردو</a>    <a dir=\"rtl\" href=\"https://www.google.com/setprefs?sig=0_L6poCkUuJJtKKZjaS5tq0QKX2Qw%3D&amp;hl=ps&amp;source=homepage&amp;sa=X&amp;ved=0ahUKEwjaoeGc6M_4AhUlgHMKHTyeBTUQ2ZgBCA8\">پښتو</a>    <a dir=\"rtl\" href=\"https://www.google.com/setprefs?sig=0_L6poCkUuJJtKKZjaS5tq0QKX2Qw%3D&amp;hl=sd&amp;source=homepage&amp;sa=X&amp;ved=0ahUKEwjaoeGc6M_4AhUlgHMKHTyeBTUQ2ZgBCBA\">سنڌي</a>  </div></div></div><div class=\"o3j99 c93Gbe\"><style data-iml=\"1656407885335\">.c93Gbe{background:#f2f2f2}.uU7dJb{padding:15px 30px;border-bottom:1px solid #dadce0;font-size:15px;color:#70757a}.SSwjIe{padding:0 20px}.KxwPGc{display:flex;flex-wrap:wrap;justify-content:space-between}@media only screen and (max-width:1200px){.KxwPGc{justify-content:space-evenly}}.pHiOh{display:block;padding:15px;white-space:nowrap}.pHiOh,a.pHiOh{color:#70757a}</style><div class=\"uU7dJb\">Pakistan</div><div jscontroller=\"NzU6V\" class=\"KxwPGc SSwjIe\" data-sfe=\"false\" data-sfsw=\"1200\" jsaction=\"rcuQ6b:npT2md\"><div class=\"KxwPGc AghGtd\"><a class=\"pHiOh\" href=\"https://about.google/?utm_source=google-PK&amp;utm_medium=referral&amp;utm_campaign=hp-footer&amp;fg=1\" ping=\"/url?sa=t&amp;rct=j&amp;source=webhp&amp;url=https://about.google/%3Futm_source%3Dgoogle-PK%26utm_medium%3Dreferral%26utm_campaign%3Dhp-footer%26fg%3D1&amp;ved=0ahUKEwjaoeGc6M_4AhUlgHMKHTyeBTUQkNQCCBE\">About</a><a class=\"pHiOh\" href=\"https://www.google.com/intl/en_pk/ads/?subid=ww-ww-et-g-awa-a-g_hpafoot1_1!o2&amp;utm_source=google.com&amp;utm_medium=referral&amp;utm_campaign=google_hpafooter&amp;fg=1\" ping=\"/url?sa=t&amp;rct=j&amp;source=webhp&amp;url=https://www.google.com/intl/en_pk/ads/%3Fsubid%3Dww-ww-et-g-awa-a-g_hpafoot1_1!o2%26utm_source%3Dgoogle.com%26utm_medium%3Dreferral%26utm_campaign%3Dgoogle_hpafooter%26fg%3D1&amp;ved=0ahUKEwjaoeGc6M_4AhUlgHMKHTyeBTUQkdQCCBI\">Advertising</a><a class=\"pHiOh\" href=\"https://www.google.com/services/?subid=ww-ww-et-g-awa-a-g_hpbfoot1_1!o2&amp;utm_source=google.com&amp;utm_medium=referral&amp;utm_campaign=google_hpbfooter&amp;fg=1\" ping=\"/url?sa=t&amp;rct=j&amp;source=webhp&amp;url=https://www.google.com/services/%3Fsubid%3Dww-ww-et-g-awa-a-g_hpbfoot1_1!o2%26utm_source%3Dgoogle.com%26utm_medium%3Dreferral%26utm_campaign%3Dgoogle_hpbfooter%26fg%3D1&amp;ved=0ahUKEwjaoeGc6M_4AhUlgHMKHTyeBTUQktQCCBM\">Business</a><a class=\"pHiOh\" href=\"https://google.com/search/howsearchworks/?fg=1\"> How Search works </a></div><div class=\"KxwPGc iTjxkf\"><a class=\"pHiOh\" href=\"https://policies.google.com/privacy?hl=en-PK&amp;fg=1\" ping=\"/url?sa=t&amp;rct=j&amp;source=webhp&amp;url=https://policies.google.com/privacy%3Fhl%3Den-PK%26fg%3D1&amp;ved=0ahUKEwjaoeGc6M_4AhUlgHMKHTyeBTUQ8awCCBQ\">Privacy</a><a class=\"pHiOh\" href=\"https://policies.google.com/terms?hl=en-PK&amp;fg=1\" ping=\"/url?sa=t&amp;rct=j&amp;source=webhp&amp;url=https://policies.google.com/terms%3Fhl%3Den-PK%26fg%3D1&amp;ved=0ahUKEwjaoeGc6M_4AhUlgHMKHTyeBTUQ8qwCCBU\">Terms</a><span><style data-iml=\"1656407885335\">.ayzqOc:hover{text-decoration:underline}</style><span jscontroller=\"nabPbb\" jsaction=\"KyPa0e:Y0y4c;BVfjhf:VFzweb;wjOG7e:gDkf4c;\"><style data-iml=\"1656407885335\">.cF4V5c{background-color:#fff}.cF4V5c g-menu-item{display:block;font-size:14px;line-height:23px;white-space:nowrap}.cF4V5c g-menu-item a,.cF4V5c .y0fQ9c{display:block;padding-top:4px;padding-bottom:4px;cursor:pointer}.cF4V5c g-menu-item a,.cF4V5c g-menu-item a:visited,.cF4V5c g-menu-item a:hover{text-decoration:inherit;color:inherit}</style><g-popup jsname=\"V68bde\" jscontroller=\"DPreE\" jsaction=\"A05xBd:IYtByb;EOZ57e:WFrRFb;\" jsdata=\"mVjAjf;_;AzvlNo\"><style data-iml=\"1656407885335\">.EwsJzb{display:block}.rIbAWc{cursor:pointer;display:inline-block}.B8Kd8d{position:absolute}.sAKBe{border-radius:8px;box-shadow:0 2px 10px 0 rgba(0,0,0,0.2)}</style><div jsname=\"oYxtQd\" class=\"rIbAWc\" aria-expanded=\"false\" aria-haspopup=\"true\" role=\"button\" tabindex=\"0\" jsaction=\"WFrRFb;keydown:uYT2Vb\"><div jsname=\"LgbsSe\" class=\"ayzqOc pHiOh\" aria-controls=\"_Tce6YprHBqWAzgO8vJaoAw1\" aria-haspopup=\"true\">Settings</div></div><div jsname=\"V68bde\" class=\"EwsJzb sAKBe B8Kd8d\" style=\"display:none;z-index:200\"><g-menu jsname=\"xl07Ob\" class=\"cF4V5c gLSAk rShyOb\" jscontroller=\"WlNQGd\" role=\"menu\" tabindex=\"-1\" jsaction=\"PSl28c;focus:h06R8;keydown:uYT2Vb;mouseenter:WOQqYb;mouseleave:Tx5Rb;mouseover:IgJl9c\"><style data-iml=\"1656407885335\">.gLSAk{border:none;display:block;outline:none;}.rShyOb{white-space:nowrap}.gLSAk{border-radius:8px}.gLSAk{padding:5px 0}</style><g-menu-item jsname=\"NNJLud\" jscontroller=\"CnSW2d\" class=\"ErsxPb\" role=\"none\" data-short-label=\"\" jsdata=\"zPXzie;_;AzvlNs\"><style data-iml=\"1656407885335\">.ErsxPb{display:block;position:relative}.znKVS{padding:0 16px;vertical-align:middle}.znKVS.tnhqA{padding:0}.tnhqA>*{padding:0 16px}.ohSfHb .znKVS{padding-left:28px}.ErsxPb:hover{cursor:pointer}.ErsxPb,.fbKdEb:hover{cursor:default}.dPaec,g-menu-item[disabled]{pointer-events:none;cursor:default}.dPaec{border-top:1px solid;height:0;margin:5px 0}.znKVS{line-height:23px}.fbKdEb{background-image:url(//ssl.gstatic.com/ui/v1/menu/checkmark2.png);background-repeat:no-repeat;background-position:left center}.gvybPb,.ErsxPb:active{background-color:rgba(0,0,0,0.1)}.dPaec,g-menu-item[disabled]{color:#cdcdcd !important}.dPaec{border-top-color:#dadce0}</style><div jsname=\"ibnC6b\" class=\"znKVS OSrXXb tnhqA\" role=\"none\"><a href=\"https://www.google.com/preferences?hl=en-PK&amp;fg=1\" role=\"menuitem\" tabindex=\"-1\">Search settings</a></div></g-menu-item><g-menu-item jsname=\"NNJLud\" jscontroller=\"CnSW2d\" class=\"ErsxPb\" role=\"none\" data-short-label=\"\" jsdata=\"zPXzie;_;AzvlNs\"><div jsname=\"ibnC6b\" class=\"znKVS OSrXXb tnhqA\" role=\"none\"><a href=\"/advanced_search?hl=en-PK&amp;fg=1\" role=\"menuitem\" tabindex=\"-1\">Advanced search</a></div></g-menu-item><g-menu-item jsname=\"NNJLud\" jscontroller=\"CnSW2d\" class=\"ErsxPb\" role=\"none\" data-short-label=\"\" jsdata=\"zPXzie;_;AzvlNs\"><div jsname=\"ibnC6b\" class=\"znKVS OSrXXb tnhqA\" role=\"none\"><a href=\"/history/privacyadvisor/search/unauth?utm_source=googlemenu&amp;fg=1\" role=\"menuitem\" tabindex=\"-1\">Your data in Search</a></div></g-menu-item><g-menu-item jsname=\"NNJLud\" jscontroller=\"CnSW2d\" class=\"ErsxPb\" role=\"none\" data-short-label=\"\" jsdata=\"zPXzie;_;AzvlNs\"><div jsname=\"ibnC6b\" class=\"znKVS OSrXXb tnhqA\" role=\"none\"><a href=\"/history/optout?hl=en-PK&amp;fg=1\" role=\"menuitem\" tabindex=\"-1\">Search history</a></div></g-menu-item><g-menu-item jsname=\"NNJLud\" jscontroller=\"CnSW2d\" class=\"ErsxPb\" role=\"none\" data-short-label=\"\" jsdata=\"zPXzie;_;AzvlNs\"><div jsname=\"ibnC6b\" class=\"znKVS OSrXXb tnhqA\" role=\"none\"><a href=\"https://support.google.com/websearch/?p=ws_results_help&amp;hl=en-PK&amp;fg=1\" role=\"menuitem\" tabindex=\"-1\">Search help</a></div></g-menu-item><g-menu-item jsname=\"NNJLud\" jscontroller=\"CnSW2d\" class=\"ErsxPb\" role=\"none\" data-short-label=\"\" jsdata=\"zPXzie;_;AzvlNs\"><div jsname=\"ibnC6b\" class=\"znKVS OSrXXb tnhqA\" role=\"none\"><span data-bucket=\"websearch\" role=\"menuitem\" tabindex=\"-1\" jsaction=\"trigger.YcfJ\">Send feedback</span></div></g-menu-item><g-menu-item jsname=\"NNJLud\" jscontroller=\"CnSW2d\" class=\"ErsxPb dPaec\" aria-disabled=\"true\" aria-hidden=\"true\" disabled=\"disabled\" role=\"separator\" data-short-label=\"\" jsdata=\"zPXzie;_;AzvlNw\"></g-menu-item><g-menu-item jsname=\"NNJLud\" jscontroller=\"CnSW2d\" class=\"ErsxPb\" role=\"none\" data-short-label=\"\" jsdata=\"zPXzie;_;AzvlNs\"><div jsname=\"ibnC6b\" class=\"znKVS OSrXXb tnhqA\" role=\"none\"><div class=\"y0fQ9c\" data-spl=\"/setprefs?hl=en&amp;prev=https://www.google.com/?pccc%3D1&amp;sig=0_L6poCkUuJJtKKZjaS5tq0QKX2Qw%3D&amp;cs=2\" id=\"YUIDDb\" role=\"menuitem\" tabindex=\"-1\"><style data-iml=\"1656407885335\">.tFYjZe{align-items:center;display:flex;justify-content:space-between;padding-bottom:4px;padding-top:4px}.tFYjZe:hover .iOHNLb,.tFYjZe:focus .iOHNLb{opacity:1}.iOHNLb{color:#70757a;height:20px;margin-top:-2px;opacity:0;width:20px}</style><div jscontroller=\"fXO0xe\" class=\"tFYjZe\" data-bsdm=\"0\" data-btf=\"0\" data-hbc=\"#1a73e8\" data-htc=\"#fff\" data-spt=\"1\" data-tsdm=\"0\" role=\"link\" tabindex=\"0\" jsaction=\"ok5gFc;x6BCfb:ggFCce;w3Ukrf:aelxJb\" data-ved=\"0ahUKEwjaoeGc6M_4AhUlgHMKHTyeBTUQqsEHCBg\"><div>Dark theme: Off</div><div class=\"iOHNLb\"><span style=\"height:20px;line-height:20px;width:20px\" class=\"z1asCe aqvxcd\"><svg focusable=\"false\" xmlns=\"http://www.w3.org/2000/svg\" enable-background=\"new 0 0 24 24\" height=\"24\" viewBox=\"0 0 24 24\" width=\"24\"><rect fill=\"none\" height=\"24\" width=\"24\"></rect><path d=\"M12,7c-2.76,0-5,2.24-5,5s2.24,5,5,5s5-2.24,5-5S14.76,7,12,7L12,7z M2,13l2,0c0.55,0,1-0.45,1-1s-0.45-1-1-1l-2,0 c-0.55,0-1,0.45-1,1S1.45,13,2,13z M20,13l2,0c0.55,0,1-0.45,1-1s-0.45-1-1-1l-2,0c-0.55,0-1,0.45-1,1S19.45,13,20,13z M11,2v2 c0,0.55,0.45,1,1,1s1-0.45,1-1V2c0-0.55-0.45-1-1-1S11,1.45,11,2z M11,20v2c0,0.55,0.45,1,1,1s1-0.45,1-1v-2c0-0.55-0.45-1-1-1 C11.45,19,11,19.45,11,20z M5.99,4.58c-0.39-0.39-1.03-0.39-1.41,0c-0.39,0.39-0.39,1.03,0,1.41l1.06,1.06 c0.39,0.39,1.03,0.39,1.41,0s0.39-1.03,0-1.41L5.99,4.58z M18.36,16.95c-0.39-0.39-1.03-0.39-1.41,0c-0.39,0.39-0.39,1.03,0,1.41 l1.06,1.06c0.39,0.39,1.03,0.39,1.41,0c0.39-0.39,0.39-1.03,0-1.41L18.36,16.95z M19.42,5.99c0.39-0.39,0.39-1.03,0-1.41 c-0.39-0.39-1.03-0.39-1.41,0l-1.06,1.06c-0.39,0.39-0.39,1.03,0,1.41s1.03,0.39,1.41,0L19.42,5.99z M7.05,18.36 c0.39-0.39,0.39-1.03,0-1.41c-0.39-0.39-1.03-0.39-1.41,0l-1.06,1.06c-0.39,0.39-0.39,1.03,0,1.41s1.03,0.39,1.41,0L7.05,18.36z\"></path></svg></span></div></div></div></div></g-menu-item></g-menu></div></g-popup></span></span></div></div><div jscontroller=\"GU4Gab\" style=\"display:none\" data-pcs=\"0\" jsaction=\"rcuQ6b:npT2md\"></div></div></div><div class=\"Fgvgjc\"><style data-iml=\"1656407885336\">.Fgvgjc{height:0;overflow:hidden}</style><div class=\"gTMtLb fp-nh\" id=\"lb\"><style data-iml=\"1656407885336\">.gTMtLb{z-index:1001;position:absolute;top:-1000px}</style></div><div jscontroller=\"fKZehd\" style=\"display:none\" data-u=\"0\" jsdata=\"C4mkuf;_;AzvlN0\" jsaction=\"rcuQ6b:npT2md\"></div><span style=\"display:none\"><span jscontroller=\"DhPYme\" style=\"display:none\" jsaction=\"rcuQ6b:npT2md\" data-ei=\"Tce6YprHBqWAzgO8vJaoAw\"></span></span><script nonce=\"g4FT8gAi4RUOEZef6KQc0A\">this.gbar_=this.gbar_||{};(function(_){var window=this;\\ntry{\\n_.je=function(a,b,c){if(!a.o)if(c instanceof Array){c=_.Ya(c);for(var d=c.next();!d.done;d=c.next())_.je(a,b,d.value)}else{d=(0,_.z)(a.F,a,b);var e=a.B+c;a.B++;b.setAttribute(\"data-eqid\",e);a.D[e]=d;b&&b.addEventListener?b.addEventListener(c,d,!1):b&&b.attachEvent?b.attachEvent(\"on\"+c,d):a.A.log(Error(\"G`\"+b))}};\\n\\n}catch(e){_._DumpException(e)}\\ntry{\\n/*\\n\\n Copyright The Closure Library Authors.\\n SPDX-License-Identifier: Apache-2.0\\n*/\\n_.ke=function(){if(!_.n.addEventListener||!Object.defineProperty)return!1;var a=!1,b=Object.defineProperty({},\"passive\",{get:function(){a=!0}});try{_.n.addEventListener(\"test\",function(){},b),_.n.removeEventListener(\"test\",function(){},b)}catch(c){}return a}();\\n_.le=_.Eb?\"webkitTransitionEnd\":\"transitionend\";\\n\\n}catch(e){_._DumpException(e)}\\ntry{\\nvar me=document.querySelector(\".gb_z .gb_A\"),ne=document.querySelector(\"#gb.gb_Jc\");me&&!ne&&_.je(_.ae,me,\"click\");\\n\\n}catch(e){_._DumpException(e)}\\ntry{\\nvar Xh=function(a){_.I.call(this);this.C=a;this.A=null;this.o={};this.D={};this.j={};this.B=null};_.y(Xh,_.I);_.Yh=function(a){if(a.A)return a.A;for(var b in a.j)if(a.j[b].Ke()&&a.j[b].Gb())return a.j[b];return null};_.k=Xh.prototype;_.k.ef=function(a){a&&_.Yh(this)&&a!=_.Yh(this)&&_.Yh(this).Gd(!1);this.A=a};_.k.kg=function(a){a=this.j[a]||a;return _.Yh(this)==a};_.k.ue=function(a,b){b=b.Qc();if(this.o[a]&&this.o[a][b])for(var c=0;c<this.o[a][b].length;c++)try{this.o[a][b][c]()}catch(d){this.C.log(d)}};\\n_.k.vh=function(a){return!this.D[a.Qc()]};_.k.Eg=function(a){this.j[a]&&(_.Yh(this)&&_.Yh(this).Qc()==a||this.j[a].Gd(!0))};_.k.Va=function(a){this.B=a;for(var b in this.j)this.j[b].Ke()&&this.j[b].Va(a)};_.k.Ye=function(a){this.j[a.Qc()]=a};_.k.me=function(a){return a in this.j?this.j[a]:null};var Zh=new Xh(_.K);_.Bd(\"dd\",Zh);\\n\\n}catch(e){_._DumpException(e)}\\ntry{\\nvar zj=document.querySelector(\".gb_Ma .gb_A\"),Aj=document.querySelector(\"#gb.gb_Jc\");zj&&!Aj&&_.je(_.ae,zj,\"click\");\\n\\n}catch(e){_._DumpException(e)}\\n})(this.gbar_);\\n// Google Inc.\\nthis.gbar_=this.gbar_||{};(function(_){var window=this;\\ntry{\\n/*\\n\\n Copyright The Closure Library Authors.\\n SPDX-License-Identifier: Apache-2.0\\n*/\\n_.oe=function(a,b){return 0<=(0,_.tb)(a,b)};_.pe=function(a){var b=typeof a;return\"object\"!=b?b:a?Array.isArray(a)?\"array\":b:\"null\"};_.qe=function(a){var b=_.pe(a);return\"array\"==b||\"object\"==b&&\"number\"==typeof a.length};_.re=function(a,b){var c=Array.prototype.slice.call(arguments,1);return function(){var d=c.slice();d.push.apply(d,arguments);return a.apply(this,d)}};try{(new self.OffscreenCanvas(0,0)).getContext(\"2d\")}catch(a){}_.se=_.D||_.Eb;\\n_.te=function(a,b){this.width=a;this.height=b};_.k=_.te.prototype;_.k.aspectRatio=function(){return this.width/this.height};_.k.Yb=function(){return!(this.width*this.height)};_.k.ceil=function(){this.width=Math.ceil(this.width);this.height=Math.ceil(this.height);return this};_.k.floor=function(){this.width=Math.floor(this.width);this.height=Math.floor(this.height);return this};_.k.round=function(){this.width=Math.round(this.width);this.height=Math.round(this.height);return this};\\nvar ve,ye;_.ue=function(a,b){return(b||document).getElementsByTagName(String(a))};_.we=function(a,b){_.Pa(b,function(c,d){c&&\"object\"==typeof c&&c.Pb&&(c=c.ub());\"style\"==d?a.style.cssText=c:\"class\"==d?a.className=c:\"for\"==d?a.htmlFor=c:ve.hasOwnProperty(d)?a.setAttribute(ve[d],c):0==d.lastIndexOf(\"aria-\",0)||0==d.lastIndexOf(\"data-\",0)?a.setAttribute(d,c):a[d]=c})};\\nve={cellpadding:\"cellPadding\",cellspacing:\"cellSpacing\",colspan:\"colSpan\",frameborder:\"frameBorder\",height:\"height\",maxlength:\"maxLength\",nonce:\"nonce\",role:\"role\",rowspan:\"rowSpan\",type:\"type\",usemap:\"useMap\",valign:\"vAlign\",width:\"width\"};_.ze=function(a,b){var c=b[1],d=_.xe(a,String(b[0]));c&&(\"string\"===typeof c?d.className=c:Array.isArray(c)?d.className=c.join(\" \"):_.we(d,c));2<b.length&&ye(a,d,b);return d};\\nye=function(a,b,c){function d(h){h&&b.appendChild(\"string\"===typeof h?a.createTextNode(h):h)}for(var e=2;e<c.length;e++){var f=c[e];if(!_.qe(f)||_.kb(f)&&0<f.nodeType)d(f);else{a:{if(f&&\"number\"==typeof f.length){if(_.kb(f)){var g=\"function\"==typeof f.item||\"string\"==typeof f.item;break a}if(\"function\"===typeof f){g=\"function\"==typeof f.item;break a}}g=!1}_.ub(g?_.na(f):f,d)}}};_.Ae=function(a){return _.xe(document,a)};\\n_.xe=function(a,b){b=String(b);\"application/xhtml+xml\"===a.contentType&&(b=b.toLowerCase());return a.createElement(b)};_.Be=function(a){for(var b;b=a.firstChild;)a.removeChild(b)};_.Ce=function(a){return _.kb(a)&&1==a.nodeType};_.De=function(a){return 9==a.nodeType?a:a.ownerDocument||a.document};_.Ee=function(a,b){for(var c=0;a;){if(b(a))return a;a=a.parentNode;c++}return null};\\n\\n}catch(e){_._DumpException(e)}\\ntry{\\n_.Ej=function(a){_.H.call(this,a)};_.y(_.Ej,_.H);\\n\\n}catch(e){_._DumpException(e)}\\ntry{\\n_.Fj=function(a,b,c){a.rel=c;-1!=c.toLowerCase().indexOf(\"stylesheet\")?(a.href=_.Tc(b),(b=_.qd(a.ownerDocument&&a.ownerDocument.defaultView))&&a.setAttribute(\"nonce\",b)):a.href=b instanceof _.Rc?_.Tc(b):b instanceof _.Vc?_.Wc(b):_.Wc(_.ad(b))};\\n\\n}catch(e){_._DumpException(e)}\\ntry{\\n_.Gj=function(a){var b,c,d=null==(c=(b=(a.ownerDocument&&a.ownerDocument.defaultView||window).document).querySelector)?void 0:c.call(b,\"script[nonce]\");(b=d?d.nonce||d.getAttribute(\"nonce\")||\"\":\"\")&&a.setAttribute(\"nonce\",b)};_.Hj=function(a){var b=_.Pc();a=b?b.createScriptURL(a):a;return new _.Rc(a,_.Qc)};\\n/*\\n\\n SPDX-License-Identifier: Apache-2.0\\n*/\\n\\n}catch(e){_._DumpException(e)}\\ntry{\\nvar Ij=function(a,b,c){_.$d.log(46,{att:a,max:b,url:c})},Kj=function(a,b,c){_.$d.log(47,{att:a,max:b,url:c});a<b?Jj(a+1,b):_.K.log(Error(\"ja`\"+a+\"`\"+b),{url:c})},Jj=function(a,b){if(Lj){var c=_.Ae(\"SCRIPT\");c.async=!0;c.type=\"text/javascript\";c.charset=\"UTF-8\";c.src=_.Sc(Lj);_.Gj(c);c.onload=_.re(Ij,a,b,c.src);c.onerror=_.re(Kj,a,b,c.src);_.$d.log(45,{att:a,max:b,url:c.src});_.ue(\"HEAD\")[0].appendChild(c)}},Mj=function(a){_.H.call(this,a)};_.y(Mj,_.H);\\nvar Nj=_.G(_.Wd,Mj,17)||new Mj,Oj,Lj=(Oj=_.G(Nj,_.Ej,1))?_.Hj(_.E(Oj,4)||\"\"):null,Pj,Qj=(Pj=_.G(Nj,_.Ej,2))?_.Hj(_.E(Pj,4)||\"\"):null,Rj=function(){Jj(1,2);if(Qj){var a=_.Ae(\"LINK\");a.setAttribute(\"type\",\"text/css\");_.Fj(a,Qj,\"stylesheet\");var b=_.qd();b&&a.setAttribute(\"nonce\",b);_.ue(\"HEAD\")[0].appendChild(a)}};\\n(function(){var a=_.Xd();if(_.F(a,18))Rj();else{var b=_.E(a,19)||0;window.addEventListener(\"load\",function(){window.setTimeout(Rj,b)})}})();\\n\\n}catch(e){_._DumpException(e)}\\n})(this.gbar_);\\n// Google Inc.\\n</script><div><div></div></div></div><textarea class=\"csi\" name=\"csi\" style=\"display:none\"></textarea><div class=\"gb_Id\">Google apps</div><script nonce=\"g4FT8gAi4RUOEZef6KQc0A\">(function(){var v=\\'e\\';(function(){\\nvar a=\"/gen_204?ei=\"+google.kEI+\"&sol=\"+v+\"&atyp=i\";void 0!==navigator.sendBeacon?(a+=\"&cad=sbp\",navigator.sendBeacon(a)):(a+=\"&cad=glf\",google.log(\"\",\"\",a));}).call(this);})();(function(){\\n(function(){var c=Date.now();if(google.timers&&google.timers.load.t){for(var a=document.getElementsByTagName(\"img\"),d=0,b=void 0;b=a[d++];)google.c.setup(b,!1,void 0);google.c.frt=!1;google.c.e(\"load\",\"imn\",String(a.length));google.c.ubr(!0,c);google.c.glu&&google.c.glu();google.rll(window,!1,function(){google.tick(\"load\",\"ol\");google.c.u(\"pr\")})}})();}).call(this);(function(){google.jl={attn:false,blt:\\'none\\',chnk:0,dw:false,dwu:true,emtn:0,end:0,ine:false,injs:\\'none\\',injt:0,injth:0,injv2:false,lls:\\'default\\',pdt:0,rep:0,snet:true,strt:0,ubm:false,uwp:true};})();(function(){var pmc=\\'{\\\\x22aa\\\\x22:{},\\\\x22abd\\\\x22:{\\\\x22abd\\\\x22:false,\\\\x22deb\\\\x22:false,\\\\x22det\\\\x22:false},\\\\x22async\\\\x22:{},\\\\x22cdos\\\\x22:{\\\\x22cdobsel\\\\x22:false},\\\\x22csi\\\\x22:{},\\\\x22d\\\\x22:{},\\\\x22dpf\\\\x22:{},\\\\x22dvl\\\\x22:{\\\\x22cookie_secure\\\\x22:true,\\\\x22cookie_timeout\\\\x22:21600,\\\\x22jsc\\\\x22:\\\\x22[null,null,null,30000,null,null,null,2,null,null,null,null,null,null,null,null,null,null,null,null,null,null,null,null,null,null,null,null,null,null,null,null,null,null,null,null,null,null,null,null,null,null,null,null,null,null,[\\\\\\\\\\\\x2286400000\\\\\\\\\\\\x22,\\\\\\\\\\\\x22604800000\\\\\\\\\\\\x22,2],null,null,21600000,null,null,1,null,null,null,null,null,1,null,null,1]\\\\x22},\\\\x22gf\\\\x22:{\\\\x22pid\\\\x22:196},\\\\x22hsm\\\\x22:{},\\\\x22jsa\\\\x22:{\\\\x22csi\\\\x22:true,\\\\x22csir\\\\x22:100},\\\\x22mu\\\\x22:{\\\\x22murl\\\\x22:\\\\x22https://adservice.google.com/adsid/google/ui\\\\x22},\\\\x22pHXghd\\\\x22:{},\\\\x22sb_wiz\\\\x22:{\\\\x22rfs\\\\x22:[],\\\\x22scq\\\\x22:\\\\x22\\\\x22,\\\\x22stok\\\\x22:\\\\x22W8nVRW0qZ5RAjHZyIqJ1oeApjrQ\\\\x22},\\\\x22sf\\\\x22:{},\\\\x22sonic\\\\x22:{},\\\\x22spch\\\\x22:{\\\\x22ae\\\\x22:\\\\x22Please check your microphone.  \\\\\\\\u003Ca href\\\\x3d\\\\\\\\\\\\x22https://support.google.com/chrome/?p\\\\x3dui_voice_search\\\\\\\\\\\\x22 target\\\\x3d\\\\\\\\\\\\x22_blank\\\\\\\\\\\\x22\\\\\\\\u003ELearn more\\\\\\\\u003C/a\\\\\\\\u003E\\\\x22,\\\\x22fp\\\\x22:true,\\\\x22hl\\\\x22:\\\\x22en-PK\\\\x22,\\\\x22im\\\\x22:\\\\x22Click \\\\\\\\u003Cb\\\\\\\\u003EAllow\\\\\\\\u003C/b\\\\\\\\u003E to start voice search\\\\x22,\\\\x22iw\\\\x22:\\\\x22Waiting...\\\\x22,\\\\x22lm\\\\x22:\\\\x22Listening...\\\\x22,\\\\x22lu\\\\x22:\\\\x22%1$s voice search not available\\\\x22,\\\\x22mb\\\\x22:false,\\\\x22ne\\\\x22:\\\\x22No Internet connection\\\\x22,\\\\x22nt\\\\x22:\\\\x22Didn\\\\x27t get that. \\\\\\\\u003Cspan\\\\\\\\u003ETry again\\\\\\\\u003C/span\\\\\\\\u003E\\\\x22,\\\\x22nv\\\\x22:\\\\x22Please check your microphone and audio levels.  \\\\\\\\u003Ca href\\\\x3d\\\\\\\\\\\\x22https://support.google.com/chrome/?p\\\\x3dui_voice_search\\\\\\\\\\\\x22 target\\\\x3d\\\\\\\\\\\\x22_blank\\\\\\\\\\\\x22\\\\\\\\u003ELearn more\\\\\\\\u003C/a\\\\\\\\u003E\\\\x22,\\\\x22pe\\\\x22:\\\\x22Voice search has been turned off.  \\\\\\\\u003Ca href\\\\x3d\\\\\\\\\\\\x22https://support.google.com/chrome/?p\\\\x3dui_voice_search\\\\\\\\\\\\x22 target\\\\x3d\\\\\\\\\\\\x22_blank\\\\\\\\\\\\x22\\\\\\\\u003EDetails\\\\\\\\u003C/a\\\\\\\\u003E\\\\x22,\\\\x22rm\\\\x22:\\\\x22Speak now\\\\x22}}\\';google.pmc=JSON.parse(pmc);})();(function(){var r=[\\'sb_wiz\\',\\'aa\\',\\'abd\\',\\'async\\',\\'dvl\\',\\'mu\\',\\'pHXghd\\',\\'sf\\',\\'sonic\\',\\'spch\\'];google.plm(r);})();(function(){var m=[\\'AzvlNk\\',\\'[\\\\x22gws-wiz\\\\x22,\\\\x22\\\\x22,\\\\x22\\\\x22,\\\\x22\\\\x22,null,1,0,0,11,\\\\x22en\\\\x22,\\\\x22W8nVRW0qZ5RAjHZyIqJ1oeApjrQ\\\\x22,\\\\x22\\\\x22,\\\\x22Tce6YprHBqWAzgO8vJaoAw\\\\x22,0,\\\\x22en-PK\\\\x22,null,null,null,3,5,null,-1,null,\\\\x22\\\\x22,-1,0,0,null,1,0,null,0,0,1800000,1,0,0,8,6,null,0,null,null,1,0,0,0,0,0.1,null,0,100,0,null,1.15,0,null,null,null,1,null,0,null,0,6,0,null,null,null,null,null,0,1,1,0,null,null,0,null,null,null,null,0,null,null,null,null,null,null,null,0,null,1,1,0,null,\\\\x22\\\\x22,0,1,0,-1,null,1,null,0,0,1,1028,10,10,0,0,22,0,null,0,0]\\',\\'AzvlNo\\',\\'[3,6,null,null,0,0,0,0,0,0,0,0]\\',\\'AzvlNs\\',\\'[\\\\x22\\\\x22,6,0,\\\\x22\\\\x22,\\\\x22\\\\x22]\\',\\'AzvlNw\\',\\'[\\\\x22\\\\x22,4,0,\\\\x22\\\\x22,\\\\x22\\\\x22]\\',\\'AzvlN0\\',\\'[null,null,1,30000,null,null,null,2,null,null,3,null,null,null,null,null,1,null,null,null,null,null,null,[31.4825593,74.3235425],null,null,null,null,0,null,null,null,null,null,null,null,0,\\\\x221656407885\\\\x22,null,null,null,null,null,1,null,null,[\\\\x2286400000\\\\x22,\\\\x22604800000\\\\x22,2],null,null,21600000,null,null,1,null,null,null,null,null,1,null,null,1]\\'];\\nvar a=m;window.W_jd=window.W_jd||{};for(var b=0;b<a.length;b+=2)window.W_jd[a[b]]=JSON.parse(a[b+1]);})();(function(){window.WIZ_global_data={\"zChJod\":\"%.@.]\",\"QrtxK\":\"0\",\"Yllh3e\":\"%.@.1656407885107418,175341605,889560636]\",\"LVIXXb\":\"1\",\"eptZe\":\"/wizrpcui/_/WizRpcUi/\",\"S06Grb\":\"\",\"GWsdKe\":\"en-PK\",\"SNlM0e\":\"\",\"w2btAe\":\"%.@.\\\\\"\\\\\",\\\\\"\\\\\",\\\\\"0\\\\\",null,null,null,1]\",\"Im6cmf\":\"/wizrpcui/_/WizRpcUi\"};window.IJ_values={\"IvNqzc\":false,\"kRerQb\":false,\"AoIPu\":true,\"CieUQe\":true,\"HCMJkf\":true,\"zNiNDd\":false,\"EsWLY\":false,\"XP4Noc\":false,\"jqcxU\":\"#4285f4\",\"toVELc\":\"#f8f9fa\",\"V1TJEb\":\"#1a73e8\",\"eavN9c\":36,\"XuC5Td\":24,\"ivyWed\":28,\"psmQyf\":6,\"osNyZ\":1.0,\"L6WyEf\":false,\"tswRXd\":\"none\",\"vq4Rhf\":true,\"mtmrtb\":\"0 1px 6px rgba(32,33,36,0.28)\",\"hOdcKb\":false,\"vkQXZ\":\"#fff\",\"U2GTk\":\"#fff\",\"WgRLme\":\"#dadce0\",\"QcZxSd\":\"#3c4043\",\"g4ToDf\":\"0 1px 2px rgba(60,64,67,.3), 0 2px 6px 2px rgba(60,64,67,.15)\",\"AsC4Mb\":\"#9aa0a6\",\"mub7Fd\":\"#f1f3f4\",\"z2SQwf\":\"#bdc1c6\",\"ob4Y0c\":\"#e8eaed\",\"M1fk3b\":\"#dadce0\",\"gWINCf\":\"#9aa0a6\",\"I6R5lf\":\"#f8f9fa\",\"KCMXVb\":\"#202124\",\"vzRvgb\":\"#e8f0fe\",\"HNLwz\":\"#d2e3fc\",\"uD3Lwc\":\"#d2e3fc\",\"MLAA8d\":\"0 1px 2px rgba(66,133,244,.3), 0 1px 3px 1px rgba(66,133,244,.15)\",\"TqDTGf\":\"#aecbfa\",\"m7EnTc\":\"#8ab4f8\",\"jyEUXe\":\"#d2e3fc\",\"QyzZ8e\":\"#174ea6\",\"CFgsb\":\"#1967d2\",\"lYyelb\":\"rgba(0,0,0,.54)\",\"gdL5yf\":\"rgba(0,0,0,.26)\",\"uWxHhb\":\"#fff\",\"tCxmde\":\"rgba(255,255,255,.30)\",\"m0RlKb\":false,\"wFGKdc\":false,\"klgere\":\"invert(1) hue-rotate(180deg)\",\"gHo7b\":\"#b8bbbe\",\"VBSc8c\":false,\"oX2r2c\":false,\"HIMA4e\":false,\"YjL9Ce\":false,\"wsRfI\":false,\"UZoA2e\":false,\"q49bvd\":false,\"m2hzy\":false,\"jBwTk\":\"#3c4043\",\"eOLVib\":10,\"fTZUNc\":false,\"YrTYaf\":true,\"WvdhF\":false,\"Rojixc\":\"#aecbfa\",\"QOuvIc\":\"#1a73e8\",\"hhsybf\":false,\"Zxl9ce\":false,\"Ydluub\":\"#f5f5f5\",\"GV48mf\":\"rgba(0,0,0,.87)\",\"OL2x3c\":false,\"Zun3Ef\":false,\"SOm4o\":false,\"l4Npee\":false,\"tyCgpc\":\"#fff\",\"H7aRye\":\"0px 5px 26px 0px rgba(0, 0, 0, 0.22), 0px 20px 28px 0px rgba(0, 0, 0, 0.30)\",\"U6xP0\":\"#4285f4\",\"A5tF3b\":false,\"j0DpSe\":false,\"GUwCvc\":false,\"ilb27b\":\"#4285f4\",\"NXDvtf\":false,\"Lxmjn\":false,\"kCmuvf\":false,\"FydCC\":false,\"EgTnfe\":true,\"kAUP3b\":false,\"hgWJ8c\":false,\"TxsTcf\":\"#000\",\"v4iQCe\":\"#4285f4\",\"OfqeOe\":\"#4285f4\",\"zRpUk\":\"#4285f4\",\"QbZklb\":\"#e8f0fe\",\"Fcb4A\":\"#1a73e8\",\"VRtZRe\":\"#1558d6\",\"OmYlge\":\"#34a853\",\"y8HGgf\":\"#1e8e3e\",\"QDXUyc\":\"#188038\",\"JQWqub\":\"#ea4335\",\"nRwuZd\":\"#d93025\",\"rzzybc\":\"#d93025\",\"rZLJJb\":\"#fff\",\"hcLEtc\":\"#81c995\",\"GJQmmf\":\"#34a853\",\"hETIfb\":\"#dadce0\",\"NtNjtd\":\"#dadce0\",\"vCsrw\":\"#dadce0\",\"p9416c\":\"#f8f9fa\",\"toQ7tf\":\"#f8f9fa\",\"xgY1nc\":\"#f8f9fa\",\"p1ocJb\":\"#f8f9fa\",\"FCLfBe\":\"#f8f9fa\",\"MnC2zf\":\"#70757a\",\"IfdAAd\":\"#70757a\",\"fP2Yo\":\"#70757a\",\"mknyu\":\"#70757a\",\"PUenT\":\"#3c4043\",\"Z0DEKf\":\"#202124\",\"oHHKwf\":\"#202124\",\"xNPzic\":\"#fff\",\"KkPbyc\":\"#fbbc04\",\"uezre\":\"#fbbc04\",\"SkGiZd\":\"#f29900\",\"OxPRr\":\"#f1f3f4\",\"uiKEV\":\"#202124\",\"HMhiYd\":\"#202124\",\"Co7tHc\":false,\"BPltf\":\"#f1f3f4\",\"kcrUme\":14,\"bKebqb\":\"#202124\",\"qeEJkc\":40,\"urZDtf\":\"#202124\",\"zeWvtf\":false,\"qdoinb\":\"#70757a\",\"QU9sdc\":\"#202124\",\"a4qLne\":\"#ea4335\",\"RifN2d\":\"#000\",\"Fpi7Rc\":\"arial,sans-serif-medium,sans-serif\",\"a2ykac\":\"arial,sans-serif\",\"ME4NMc\":\"#000\",\"BpPAcd\":\"#dadce0\",\"N0wyZ\":\"#000\",\"jxZxne\":\"#70757a\",\"CQvMbe\":\"#1a73e8\",\"fRkoq\":true,\"c4qycc\":false,\"WkjuOe\":false,\"uJ8Xid\":false,\"cWwp7b\":false,\"h6eQZc\":false,\"b0Jode\":false,\"mo8CW\":true,\"fd9gQc\":false,\"MomrM\":false,\"Vb9YJ\":false,\"OQZvxe\":\"0 2px 10px 0 rgba(0,0,0,0.2)\",\"fI0P7e\":false,\"Asoj0e\":false,\"AP8pqf\":\"#dadce0\",\"sBpVac\":\"rgba(0,0,0,.26)\",\"JcUGee\":\"#70757a\",\"PngPbb\":\"#202124\",\"ENmP1c\":\"rgba(204,204,204,.15)\",\"I69zkb\":\"rgba(204,204,204,.25)\",\"ib0wve\":\"rgba(112,117,122,.20)\",\"a8Umdd\":\"rgba(112,117,122,.40)\",\"LVoecd\":\"rgba(0,0,0,.16)\",\"yHlFbb\":\"rgba(0,0,0,.40)\",\"seVajd\":\"rgba(0,0,0,.12)\",\"qj36Ef\":\"#323232\",\"esUgv\":\"#fff\",\"KVmtZc\":\"rgba(255,255,255,.30)\",\"MoAfyf\":\"#fff\",\"oyB9kf\":\"#202124\",\"bXvyY\":\"#fff\",\"ALMSwe\":\"Roboto,RobotoDraft,Helvetica,Arial,sans-serif\",\"Sgnmlc\":\"14px\",\"qkXvHd\":\"500\",\"SezQgf\":\"500\",\"EJG4vf\":\"pointer\",\"WyvaRd\":\"0 1px 1px rgba(0,0,0,.16)\",\"ROAn0e\":\"0 2px 2px 0 rgba(0,0,0,.14),0 3px 1px -2px rgba(0,0,0,.2),0 1px 5px 0 rgba(0,0,0,.12)\",\"rgHLF\":true,\"eSe9wb\":\"#000\",\"RxFwtc\":\"0 4px 16px rgba(0,0,0,0.2)\",\"aM8S7c\":\"#666\",\"YajdE\":200,\"Tae7A\":true,\"c5h25\":true,\"LACYrf\":false,\"uZLNF\":true,\"wku5sd\":false,\"bDOvJc\":false,\"HCImye\":false,\"ZMIIMe\":true,\"B0husb\":true,\"o28sBd\":false,\"n4eEIc\":true,\"tqmosb\":\"#fff\",\"HjM8R\":\"#fff\",\"ruFjfe\":false,\"FqP1Fc\":\"#000\",\"SATNMc\":\"1px solid #dadce0\",\"V0Bluc\":\"none\",\"X1bUEc\":\"arial,sans-serif-medium,sans-serif\",\"QZheGe\":\"Google Sans,arial,sans-serif-medium,sans-serif\",\"LIYDac\":\"arial,sans-serif\",\"mNmrAb\":\"#ebebeb\",\"x0VCkc\":\"1px solid #dadce0\",\"Rvxsx\":\"1px solid #dadce0\",\"qmcJmd\":6,\"JuqxTb\":\"#202124\",\"E6Gkjd\":\"0 2px 10px 0 rgba(0,0,0,0.2)\",\"MClBOe\":\"rgba(0,0,0,0.1)\",\"AgJzQ\":\"#dadce0\",\"FagChc\":\"#fff\",\"khoEPb\":\"#1a0dab\",\"SfSmD\":\"#dadce0\",\"auaxA\":\"#202124\",\"v44rSc\":\"#70757a\",\"YkyDVb\":false,\"s6k9tc\":true,\"tdC6kd\":true,\"UjGOq\":false,\"sib8M\":false,\"PGBLg\":false,\"IUj4Ye\":false,\"kBxgab\":false,\"RQfJU\":false,\"aMqn0b\":true,\"lHLMtb\":false,\"Erzlz\":false,\"KQw3Q\":false,\"OQFPef\":false,\"m19P4e\":false,\"P6Ur2b\":\"#1a73e8\",\"uhXPIc\":\"#8ab4f8\",\"e127Sb\":\"#1c3aa9\",\"ezFdNd\":\"#0f9d58\",\"Wja4f\":\"#87ceac\",\"jjajId\":\"#9e9e9e\",\"d1ULv\":\"rgba(0,0,0,.26)\",\"lQ1kYd\":\"#bdbdbd\",\"fAus6\":\"#000\",\"NNBneb\":\"#5f6368\",\"MDi8Rd\":\"#dadce0\",\"BoJtxf\":false,\"XgWQKd\":true,\"fjc61\":false,\"y1HZEd\":false,\"D8A8he\":true,\"nMRhJe\":false,\"JyBo2c\":false,\"xDKXr\":false,\"FYBlgf\":false,\"FELoce\":false,\"HpkQdc\":true,\"wwQMXe\":false,\"bcz7kc\":true,\"VXIo7d\":\"8px\",\"EiEfXb\":\"#dadce0\",\"IFkMhd\":false,\"lsK6rd\":true,\"TSsjXd\":false,\"w2btAe\":\"%.@.\\\\\"\\\\\",\\\\\"\\\\\",\\\\\"0\\\\\",null,null,null,1]\",\"pxO4Zd\":\"0\",\"mXOY5d\":\"%.@.null,1,1,null,[null,757,1440]]\",\"SsQ4x\":\"g4FT8gAi4RUOEZef6KQc0A\",\"IYFWl\":\"%.@.\\\\\"#b8bbbe\\\\\"]\",\"Ht1O2b\":\"%.@.0]\",\"d6J1ld\":\"%.@.0]\",\"Oo3dKf\":\"%.@.\\\\\"0px 5px 26px 0px rgba(0,0,0,0.22),0px 20px 28px 0px rgba(0,0,0,0.3)\\\\\",\\\\\"#fff\\\\\"]\",\"uUBnEb\":\"\",\"nfxEDe\":\"%.@.[],0,null,0,0]\",\"GWsdKe\":\"en-PK\",\"frJqAd\":\"%.@.\\\\\"13px\\\\\",\\\\\"16px\\\\\",\\\\\"11px\\\\\",13,16,11,\\\\\"8px\\\\\",8,20]\",\"N1ycab\":\"en_PK\",\"AB5Xwb\":\"%.@.\\\\\"10px\\\\\",10,\\\\\"16px\\\\\",16,\\\\\"18px\\\\\"]\",\"Z8HLFf\":\"%.@.\\\\\"14px\\\\\",14]\",\"ymaOI\":\"%.@.40,32,14]\",\"fNpQmb\":\"\",\"aMI2mb\":\"%.@.\\\\\"0 2px 10px 0 rgba(0,0,0,0.2)\\\\\"]\",\"BZUDzc\":\"%.@.0,\\\\\"14px\\\\\",\\\\\"500\\\\\",\\\\\"500\\\\\",\\\\\"0 1px 1px rgba(0,0,0,.16)\\\\\",\\\\\"pointer\\\\\",\\\\\"#000\\\\\",\\\\\"rgba(0,0,0,.26)\\\\\",\\\\\"#70757a\\\\\",\\\\\"#202124\\\\\",\\\\\"rgba(204,204,204,.15)\\\\\",\\\\\"rgba(204,204,204,.25)\\\\\",\\\\\"rgba(112,117,122,.20)\\\\\",\\\\\"rgba(112,117,122,.40)\\\\\",\\\\\"#34a853\\\\\",\\\\\"#4285f4\\\\\",\\\\\"#1558d6\\\\\",\\\\\"#ea4335\\\\\",\\\\\"#fbbc04\\\\\",\\\\\"#f8f9fa\\\\\",\\\\\"#f8f9fa\\\\\",\\\\\"#202124\\\\\",\\\\\"#34a853\\\\\",\\\\\"rgba(0,0,0,.12)\\\\\",null,\\\\\"#fff\\\\\",\\\\\"rgba(255,255,255,.30)\\\\\",\\\\\"#fff\\\\\",\\\\\"#202124\\\\\",\\\\\"#fff\\\\\",null,0]\",\"v7Qvdc\":\"%.@.\\\\\"20px\\\\\",\\\\\"500\\\\\",\\\\\"400\\\\\",\\\\\"13px\\\\\",\\\\\"15px\\\\\",\\\\\"15px\\\\\",\\\\\"Roboto,RobotoDraft,Helvetica,Arial,sans-serif\\\\\",\\\\\"24px\\\\\",\\\\\"400\\\\\",\\\\\"32px\\\\\",\\\\\"24px\\\\\"]\",\"SIsrTd\":false,\"fyLpDc\":\"\",\"ZxtPCd\":\"%.@.null,null,null,null,\\\\\"20\\\\\",\\\\\"20\\\\\",\\\\\"18\\\\\",\\\\\"40px\\\\\",\\\\\"36px\\\\\",\\\\\"32px\\\\\",null,null,null,null,null,null,\\\\\"#fff\\\\\",null,null,null,\\\\\"#fff\\\\\",null,null,null,\\\\\"#e8f0fe\\\\\",null,\\\\\"#e8f0fe\\\\\",null,null,\\\\\"16px\\\\\",\\\\\"12px\\\\\",\\\\\"8px\\\\\",\\\\\"4px\\\\\",\\\\\"#fff\\\\\",\\\\\"#e8f0fe\\\\\",\\\\\"#1967d2\\\\\",\\\\\"transparent\\\\\",\\\\\"#1a0dab\\\\\",\\\\\"#dadce0\\\\\",\\\\\"999rem\\\\\",\\\\\"8px\\\\\",\\\\\"#1967d2\\\\\",\\\\\"transparent\\\\\",\\\\\"#3c4043\\\\\",\\\\\"#dadce0\\\\\",\\\\\"#1967d2\\\\\",\\\\\"transparent\\\\\",\\\\\"#1a73e8\\\\\",\\\\\"#dadce0\\\\\",\\\\\"999rem\\\\\",\\\\\"Google Sans,arial,sans-serif-medium,sans-serif\\\\\",\\\\\"20px\\\\\",\\\\\"14px\\\\\",\\\\\"500\\\\\",\\\\\"#f1f3f4\\\\\",\\\\\"#202124\\\\\",\\\\\"#fff\\\\\",\\\\\"#dadce0\\\\\",\\\\\"#3c4043\\\\\",\\\\\"4px\\\\\",\\\\\"#1967d2\\\\\",\\\\\"#1967d2\\\\\"]\",\"spz2q\":\"%.@.\\\\\"#fff\\\\\",\\\\\"0px\\\\\",\\\\\"0px\\\\\",\\\\\"0px\\\\\",\\\\\"0px 0px 30px\\\\\"]\",\"lDqiof\":\"%.@.\\\\\"#202124\\\\\",\\\\\"#3c4043\\\\\",\\\\\"#1a73e8\\\\\",null,\\\\\"#70757a\\\\\",\\\\\"#1a0dab\\\\\",\\\\\"#681da8\\\\\",null,null,\\\\\"#fff\\\\\",\\\\\"#1a73e8\\\\\",\\\\\"#fff\\\\\",\\\\\"#e8f0fe\\\\\",\\\\\"#1558d6\\\\\",\\\\\"#f1f3f4\\\\\",\\\\\"#202124\\\\\",\\\\\"#fff\\\\\",\\\\\"#3c4043\\\\\",\\\\\"#202124\\\\\",\\\\\"#fff\\\\\",\\\\\"#fff\\\\\",\\\\\"#fff\\\\\",\\\\\"#188038\\\\\",\\\\\"#d93025\\\\\",\\\\\"#e37400\\\\\",\\\\\"#dadce0\\\\\",\\\\\"#fff\\\\\",\\\\\"rgba(0,0,0,0.6)\\\\\",\\\\\"#202124\\\\\",\\\\\"#dadce0\\\\\",\\\\\"#d2e3fc\\\\\",\\\\\"rgba(0,0,0,0.03)\\\\\",\\\\\"#1a73e8\\\\\",\\\\\"#70757a\\\\\",\\\\\"#202124\\\\\",\\\\\"transparent\\\\\",\\\\\"#ecedef\\\\\"]\",\"sCU50d\":\"%.@.null,\\\\\"none\\\\\",null,\\\\\"0px 1px 3px rgba(60,64,67,0.08)\\\\\",null,\\\\\"0px 2px 6px rgba(60,64,67,0.16)\\\\\",null,\\\\\"0px 4px 12px rgba(60,64,67,0.24)\\\\\",null,null,\\\\\"1px solid #dadce0\\\\\",\\\\\"none\\\\\",\\\\\"none\\\\\",\\\\\"none\\\\\"]\",\"hERdX\":\"%.@.\\\\\"#fff\\\\\",\\\\\"8px\\\\\",\\\\\"1px solid #dadce0\\\\\"]\",\"IkSsrf\":\"%.@.\\\\\"Google Sans,arial,sans-serif\\\\\",\\\\\"Google Sans,arial,sans-serif-medium,sans-serif\\\\\",\\\\\"arial,sans-serif\\\\\",\\\\\"arial,sans-serif-medium,sans-serif\\\\\",\\\\\"arial,sans-serif-light,sans-serif\\\\\"]\",\"OItNqf\":\"%.@.\\\\\"1px\\\\\"]\",\"e2zoW\":\"%.@.\\\\\"16px\\\\\",\\\\\"12px\\\\\",\\\\\"0px\\\\\",\\\\\"8px\\\\\",\\\\\"4px\\\\\",\\\\\"2px\\\\\",\\\\\"20px\\\\\",\\\\\"24px\\\\\",\\\\\"48px\\\\\"]\",\"W1Bte\":\"%.@.\\\\\"cubic-bezier(0.1,1,0.2,1)\\\\\",\\\\\"cubic-bezier(0.8,0,1,0.8)\\\\\",\\\\\"cubic-bezier(0.2,0.6,0.2,1)\\\\\",\\\\\"cubic-bezier(0.4,0,1,0.8)\\\\\",\\\\\"300\\\\\"]\",\"u9mep\":\"%.@.\\\\\"#1a0dab\\\\\",\\\\\"#1a0dab\\\\\"]\",\"k7Tqye\":\"%.@.null,null,null,null,null,null,null,\\\\\"16px\\\\\",\\\\\"12px\\\\\",\\\\\"8px\\\\\",\\\\\"20px\\\\\",\\\\\"4px\\\\\",\\\\\"999rem\\\\\",\\\\\"0px\\\\\",\\\\\"2px\\\\\"]\",\"MexNte\":\"%.@.\\\\\"700\\\\\",\\\\\"400\\\\\",\\\\\"underline\\\\\",\\\\\"none\\\\\",\\\\\"capitalize\\\\\",\\\\\"none\\\\\",\\\\\"uppercase\\\\\",\\\\\"none\\\\\",\\\\\"500\\\\\",\\\\\"lowercase\\\\\",\\\\\"italic\\\\\",null,null,\\\\\"-1px\\\\\",\\\\\"0.3px\\\\\"]\",\"Aahcnf\":\"%.@.\\\\\"20px\\\\\",\\\\\"26px\\\\\",\\\\\"400\\\\\",\\\\\"Google Sans,arial,sans-serif\\\\\",null,\\\\\"arial,sans-serif\\\\\",\\\\\"14px\\\\\",\\\\\"400\\\\\",\\\\\"22px\\\\\",null,\\\\\"16px\\\\\",\\\\\"24px\\\\\",\\\\\"400\\\\\",\\\\\"Google Sans,arial,sans-serif\\\\\",null,\\\\\"Google Sans,arial,sans-serif\\\\\",\\\\\"60px\\\\\",\\\\\"48px\\\\\",\\\\\"-1px\\\\\",null,\\\\\"400\\\\\",\\\\\"Google Sans,arial,sans-serif\\\\\",\\\\\"36px\\\\\",\\\\\"400\\\\\",\\\\\"48px\\\\\",null,\\\\\"Google Sans,arial,sans-serif\\\\\",\\\\\"36px\\\\\",\\\\\"28px\\\\\",null,\\\\\"400\\\\\",null,\\\\\"arial,sans-serif\\\\\",\\\\\"24px\\\\\",\\\\\"18px\\\\\",null,\\\\\"400\\\\\",\\\\\"arial,sans-serif\\\\\",\\\\\"16px\\\\\",\\\\\"12px\\\\\",null,\\\\\"400\\\\\",\\\\\"arial,sans-serif\\\\\",\\\\\"22px\\\\\",\\\\\"16px\\\\\",null,\\\\\"400\\\\\",\\\\\"arial,sans-serif\\\\\",\\\\\"26px\\\\\",\\\\\"20px\\\\\",null,\\\\\"400\\\\\",\\\\\"Google Sans,arial,sans-serif\\\\\",\\\\\"20px\\\\\",\\\\\"16px\\\\\",null,\\\\\"400\\\\\",\\\\\"arial,sans-serif\\\\\",\\\\\"18px\\\\\",\\\\\"14px\\\\\",null,\\\\\"400\\\\\",\\\\\"Google Sans,arial,sans-serif\\\\\",\\\\\"32px\\\\\",\\\\\"24px\\\\\",null,\\\\\"500\\\\\",\\\\\"14px\\\\\",\\\\\"Google Sans,arial,sans-serif-medium,sans-serif\\\\\",\\\\\"20px\\\\\",\\\\\"500\\\\\",\\\\\"Google Sans,arial,sans-serif\\\\\",\\\\\"26px\\\\\",\\\\\"22px\\\\\",\\\\\"400\\\\\",\\\\\"Google Sans,arial,sans-serif\\\\\",\\\\\"24px\\\\\",\\\\\"16px\\\\\",\\\\\"400\\\\\",\\\\\"arial,sans-serif-medium,sans-serif\\\\\",\\\\\"12px\\\\\",\\\\\"12px\\\\\",\\\\\"Google Sans,arial,sans-serif\\\\\",\\\\\"26px\\\\\",\\\\\"20px\\\\\",\\\\\"400\\\\\"]\",\"PFhmed\":\"%.@.\\\\\"rgba(255,255,255,0)\\\\\"]\",\"mf1yif\":\"%.@.4]\",\"aKXqGc\":\"%.@.\\\\\"14px\\\\\",14,\\\\\"16px\\\\\",16,\\\\\"0\\\\\",0,\\\\\"none\\\\\",632,\\\\\"1px solid #dadce0\\\\\",\\\\\"normal\\\\\",\\\\\"normal\\\\\",\\\\\"#70757a\\\\\",\\\\\"12px\\\\\",\\\\\"1.34\\\\\",\\\\\"1px solid #dadce0\\\\\",\\\\\"none\\\\\",\\\\\"0\\\\\",\\\\\"none\\\\\",\\\\\"none\\\\\",\\\\\"none\\\\\",\\\\\"none\\\\\",\\\\\"6px\\\\\",\\\\\"632px\\\\\"]\",\"ZP0oif\":\"%.@.\\\\\"0\\\\\"]\",\"o0P8Hf\":\"%.@.\\\\\"rgba(0,0,0,0.0)\\\\\",\\\\\"rgba(0,0,0,0.54)\\\\\",\\\\\"rgba(0,0,0,0.8)\\\\\",\\\\\"rgba(248, 249, 250, 0.85)\\\\\",\\\\\"#202124\\\\\",\\\\\"#dadce0\\\\\",null,null,null,\\\\\"#f8f9fa\\\\\",\\\\\"#000\\\\\",\\\\\"#1a73e8\\\\\",\\\\\"#dadce0\\\\\",\\\\\"#fff\\\\\",\\\\\"#fff\\\\\",null,\\\\\"#70757a\\\\\",\\\\\"rgba(0,0,0,0.26)\\\\\",\\\\\"rgba(0,0,0,0.2)\\\\\",\\\\\"rgba(0,0,0,0.5)\\\\\",\\\\\"rgba(0,0,0,0.2)\\\\\",\\\\\"#fff\\\\\",\\\\\"rgba(0,0,0,0.1)\\\\\",\\\\\"#fff\\\\\",\\\\\"#70757a\\\\\",null,\\\\\"#000\\\\\",\\\\\"#fff\\\\\",\\\\\"#000\\\\\",\\\\\"rgba(0,0,0,0.0)\\\\\",\\\\\"rgba(255,255,255,0.5)\\\\\",\\\\\"rgba(0,0,0,.03)\\\\\",\\\\\"rgba(0,0,0,0.3)\\\\\",\\\\\"rgba(0,0,0,0.2)\\\\\",\\\\\"rgba(0,0,0,0.5)\\\\\",\\\\\"rgba(0,0,0,.07)\\\\\",\\\\\"rgba(0,0,0,.04)\\\\\",\\\\\"rgba(0,0,0,.26)\\\\\",\\\\\"rgba(255,255,255,.54)\\\\\",\\\\\"#70757a\\\\\",\\\\\"#70757a\\\\\",\\\\\"rgba(0,0,0,.22)\\\\\",\\\\\"rgba(0,0,0,.30)\\\\\",\\\\\"rgba(0,0,0,.06)\\\\\",\\\\\"rgba(0,0,0,.25)\\\\\",\\\\\"#d2e3fc\\\\\",\\\\\"rgba(32,33,36,.5)\\\\\",\\\\\"rgba(32,33,36,.7)\\\\\",\\\\\"rgba(255,255,255,.04)\\\\\",null,null,\\\\\"rgba(255,255,255,.8)\\\\\",\\\\\"rgba(60,64,67,.15)\\\\\",\\\\\"rgba(0,0,0,.07)\\\\\",\\\\\"rgba(0,0,0,.16)\\\\\",\\\\\"rgba(0,0,0,.08)\\\\\",\\\\\"rgba(0,0,0,.14)\\\\\",\\\\\"rgba(0,0,0,.12)\\\\\",\\\\\"rgba(0,0,0,.28)\\\\\",\\\\\"rgba(0,0,0,.18)\\\\\",\\\\\"rgba(0,0,0,.24)\\\\\",\\\\\"rgba(0,0,0,.05)\\\\\",\\\\\"rgba(0,0,0,.13)\\\\\",\\\\\"rgba(60,64,67,.3)\\\\\",\\\\\"rgba(0,0,0,.36)\\\\\",\\\\\"rgba(0,0,0,.15)\\\\\",\\\\\"rgba(32,33,36,.28)\\\\\",\\\\\"rgba(218,220,224,.7)\\\\\",\\\\\"#dadce0\\\\\",\\\\\"#fff\\\\\",\\\\\"#fff\\\\\",\\\\\"#1a73e8\\\\\",\\\\\"#000\\\\\",\\\\\"rgba(0,0,0,.0)\\\\\",\\\\\"#202124\\\\\",\\\\\"rgba(0,0,0,.8)\\\\\",\\\\\"rgba(26,115,232,0)\\\\\",\\\\\"rgba(26,115,232,.7)\\\\\",\\\\\"rgba(66,133,244,.22)\\\\\",\\\\\"rgba(32,33,36,.7)\\\\\",\\\\\"rgba(0,0,0,.8)\\\\\",\\\\\"rgba(255,255,255,.54)\\\\\",\\\\\"rgba(255,255,255,.87)\\\\\",\\\\\"rgba(60,64,67,.38)\\\\\",\\\\\"rgba(0,0,0,.8)\\\\\",\\\\\"rgba(255,255,255,.54)\\\\\",\\\\\"rgba(255,255,255,.87)\\\\\",\\\\\"rgba(60,64,67,.38)\\\\\"]\",\"WiLzZe\":\"%.@.\\\\\"#202124\\\\\",\\\\\"#70757a\\\\\",\\\\\"#4d5156\\\\\",\\\\\"#5f6368\\\\\",\\\\\"#fff\\\\\",\\\\\"rgba(255,255,255,.70)\\\\\",28,24,26,20,16,-2,0,-4,2,0,0,24,20,20,14,12]\",\"AYkLRe\":\"%.@.\\\\\"20px\\\\\",20,\\\\\"14px\\\\\",14,\\\\\"\\\\\\\\\\\\\"rgba(0, 0, 0, .87)\\\\\\\\\\\\\"\\\\\"]\",\"rNyuJc\":\"\",\"LU5fGb\":false,\"gXkHoe\":\"105250506097979753968\",\"hevonc\":\"%.@.1]\"};})();(function(){google.llio=true;google.llirm=\\'400px\\';google.ldi={};google.pim={};})();\\nwindow.jsl=window.jsl||{};window.jsl.dh=function(a,b,f){try{var g=document.getElementById(a);if(g)g.innerHTML=b,f&&f();else{var c={id:a,script:String(!!f),milestone:String(google.jslm||0)};google.jsla&&(c.async=google.jsla);var h=a.indexOf(\"_\"),d=0<h?a.substring(0,h):\"\",k=document.createElement(\"div\");k.innerHTML=b;var e=k.children[0];if(e&&(c.tag=e.tagName,c[\"class\"]=String(e.className||null),c.name=String(e.getAttribute(\"jsname\")),d)){a=[];var l=document.querySelectorAll(\\'[id^=\"\\'+d+\\'_\"]\\');for(b=0;b<l.length;++b)a.push(l[b].id);c.ids=a.join(\",\")}google.ml(Error(d?\"Missing ID with prefix \"+d:\"Missing ID\"),!1,c)}}catch(m){google.ml(m,!0,{\"jsl.dh\":!0})}};(function(){var x=true;\\ngoogle.jslm=x?2:1;})();google.x(null, function(){(function(){(function(){google.csct={};google.csct.ps=\\'AOvVaw1cWczrm5yVgOtmsdTokD0w\\\\x26ust\\\\x3d1656494285146169\\';})();})();(function(){(function(){google.csct.rl=true;})();})();(function(){(function(){google.csct.pi=true;})();})();(function(){window.jsl=window.jsl||{};window.jsl.dh=window.jsl.dh||function(i,c,d){try{var e=document.getElementById(i);if(e){e.innerHTML=c;if(d){d();}}else{if(window.jsl.el){window.jsl.el(new Error(\\'Missing ID.\\'),{\\'id\\':i});}}}catch(e){if(window.jsl.el){window.jsl.el(new Error(\\'jsl.dh\\'));}}};})();(function(){window.jsl.dh(\\'spch\\',\\'\\\\x3cstyle\\\\x3e.spch-dlg{background:transparent;border:none}.spch{background:#fff;height:100%;left:0;opacity:0;overflow:hidden;position:fixed;text-align:left;top:0;visibility:hidden;width:100%;z-index:10000;transition:visibility 0s linear 0.218s,background-color 0.218s;}.s2fp.spch{opacity:1;transition-delay:0s;visibility:visible;}.close-button{background:none;border:none;color:#70757a;cursor:pointer;font-size:26px;right:0;line-height:15px;opacity:.6;margin:-1px -1px 0 0;padding:0 0 2px 0;height:48px;width:48px;position:absolute;top:0;z-index:10}.close-button:hover{opacity:.8}.close-button:active{opacity:1}.spchc{display:block;height:42px;pointer-events:none;margin:auto;position:relative;top:0;margin-top:312px;max-width:572px;min-width:534px;padding:0 223px}.inner-container{height:100%;opacity:.1;pointer-events:none;width:100%;transition:opacity .318s ease-in}.s2ml .inner-container,.s2ra .inner-container,.s2er .inner-container{opacity:1;transition:opacity 0s}\\\\x3c/style\\\\x3e\\\\x3cstyle\\\\x3e.google-logo{background:url(data:image/png;base64,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\\\\x3d) no-repeat center;background-size:94px 32px;height:32px;width:94px;top:8px;opacity:0;float:right;left:255px;pointer-events:none;position:relative;transition:opacity .5s ease-in,left .5s ease-in}\\\\x3c/style\\\\x3e\\\\x3cbutton class\\\\x3d\\\\x22close-button\\\\x22 id\\\\x3d\\\\x22spchx\\\\x22 aria-label\\\\x3d\\\\x22close\\\\x22\\\\x3e\\\\x26times;\\\\x3c/button\\\\x3e\\\\x3cdiv class\\\\x3d\\\\x22spchc\\\\x22 id\\\\x3d\\\\x22spchc\\\\x22\\\\x3e\\\\x3cdiv class\\\\x3d\\\\x22inner-container\\\\x22\\\\x3e\\\\x3cdiv class\\\\x3d\\\\x22button-container\\\\x22\\\\x3e\\\\x3cstyle\\\\x3e.button{background-color:#fff;border:1px solid #eee;border-radius:100%;bottom:0;box-shadow:0 2px 5px rgba(0,0,0,.1);cursor:pointer;display:inline-block;opacity:0;pointer-events:none;position:absolute;right:0;transition:background-color 0.218s,border 0.218s,box-shadow 0.218s;transition-delay:0;position:absolute;opacity:0;left:0;top:0}.s2fp .button{opacity:1;pointer-events:auto;transform:scale(1);}.s2ra .button{background-color:#f44;border:0;box-shadow:none}.r8s4j{background-color:#dbdbdb;border-radius:100%;display:inline-block;opacity:1;pointer-events:none;position:absolute;transform:scale(.01);transition:opacity 0.218s;height:301px;left:-69px;top:-69px;width:301px;}.button-container{pointer-events:none;position:relative;transition:transform 0.218s,opacity 0.218s ease-in;transform:scale(.1);height:165px;width:165px;right:-70px;top:-70px;float:right;}.s2fp .button-container{transform:scale(1)}.s2ra .button:active{background-color:#cd0000}.button:active{background-color:#eee}\\\\x3c/style\\\\x3e\\\\x3cspan class\\\\x3d\\\\x22r8s4j\\\\x22 id\\\\x3d\\\\x22spchl\\\\x22\\\\x3e\\\\x3c/span\\\\x3e\\\\x3cspan class\\\\x3d\\\\x22button\\\\x22 id\\\\x3d\\\\x22spchb\\\\x22\\\\x3e\\\\x3cdiv class\\\\x3d\\\\x22microphone\\\\x22\\\\x3e\\\\x3cstyle\\\\x3e.microphone{height:87px;pointer-events:none;position:absolute;width:42px;top:47px;transform:scale(1);left:43px;}.receiver{background-color:#999;border-radius:30px;height:46px;left:25px;pointer-events:none;position:absolute;width:24px}.wrapper{bottom:0;height:53px;left:11px;overflow:hidden;pointer-events:none;position:absolute;width:52px}.stem{background-color:#999;bottom:14px;height:14px;left:22px;pointer-events:none;position:absolute;width:9px;z-index:1}.shell{border:7px solid #999;border-radius:28px;bottom:27px;height:57px;pointer-events:none;position:absolute;width:38px;z-index:0;left:0px}.s2ml .receiver,.s2ml .stem{background-color:#f44}.s2ml .shell{border-color:#f44}.s2ra .receiver,.s2ra .stem{background-color:#fff}.s2ra .shell{border-color:#fff}\\\\x3c/style\\\\x3e\\\\x3cspan class\\\\x3d\\\\x22receiver\\\\x22\\\\x3e\\\\x3c/span\\\\x3e\\\\x3cdiv class\\\\x3d\\\\x22wrapper\\\\x22\\\\x3e\\\\x3cspan class\\\\x3d\\\\x22stem\\\\x22\\\\x3e\\\\x3c/span\\\\x3e\\\\x3cspan class\\\\x3d\\\\x22shell\\\\x22\\\\x3e\\\\x3c/span\\\\x3e\\\\x3c/div\\\\x3e\\\\x3c/div\\\\x3e\\\\x3c/span\\\\x3e\\\\x3c/div\\\\x3e\\\\x3cdiv class\\\\x3d\\\\x22text-container\\\\x22\\\\x3e\\\\x3cstyle\\\\x3e.text-container{pointer-events:none;position:absolute;}.spcht{font-weight:normal;line-height:1.2;opacity:0;pointer-events:none;position:absolute;text-align:left;-webkit-font-smoothing:antialiased;transition:opacity .1s ease-in,margin-left .5s ease-in,top 0s linear 0.218s;left:-44px;top:-.2em;margin-left:44px;font-size:32px;width:460px;}.s2fp .spcht{margin-left:0;opacity:1;transition:opacity .5s ease-out,margin-left .5s ease-out}.spchta{color:#15c;cursor:pointer;font-size:18px;font-weight:500;pointer-events:auto;text-decoration:underline}.spch-2l.spcht,.spch-3l.spcht,.spch-4l.spcht{transition:top 0.218s ease-out}.spch-2l.spcht{top:-.6em}.spch-3l.spcht{top:-1.3em}.spch-4l.spcht{top:-1.7em}.s2fp .spch-5l.spcht{top:-2.5em;}\\\\x3c/style\\\\x3e\\\\x3cspan class\\\\x3d\\\\x22spcht\\\\x22 style\\\\x3d\\\\x22color:#70757a\\\\x22 id\\\\x3d\\\\x22spchi\\\\x22\\\\x3e\\\\x3c/span\\\\x3e\\\\x3cspan class\\\\x3d\\\\x22spcht\\\\x22 style\\\\x3d\\\\x22color:#000\\\\x22 id\\\\x3d\\\\x22spchf\\\\x22\\\\x3e\\\\x3c/span\\\\x3e\\\\x3c/div\\\\x3e\\\\x3cdiv class\\\\x3d\\\\x22google-logo\\\\x22\\\\x3e\\\\x3c/div\\\\x3e\\\\x3c/div\\\\x3e\\\\x3cdiv class\\\\x3d\\\\x22permission-bar\\\\x22\\\\x3e\\\\x3cstyle\\\\x3e.permission-bar{margin-top:-100px;opacity:0;pointer-events:none;position:absolute;width:500px;transition:opacity 0.218s ease-in,margin-top .4s ease-in}.s2wfp .permission-bar{margin-top:-300px;opacity:1;transition:opacity .5s ease-out 0.218s,margin-top 0.218s ease-out 0.218s}.permission-bar-gradient{box-shadow:0 1px 0px #4285f4;height:80px;left:0;margin:0;opacity:0;pointer-events:none;position:fixed;right:0;top:-80px;transition:opacity 0.218s,box-shadow 0.218s}.s2wfp .permission-bar-gradient{box-shadow:0 1px 80px #4285f4;opacity:1;pointer-events:none;animation:allow-alert .75s 0 infinite;animation-direction:alternate;animation-timing-function:ease-out;transition:opacity 0.218s,box-shadow 0.218s}@-webkit-keyframes allow-alert {from{opacity:1}to{opacity:.35}}\\\\x3c/style\\\\x3e\\\\x3cdiv class\\\\x3d\\\\x22permission-bar-gradient\\\\x22\\\\x3e\\\\x3c/div\\\\x3e\\\\x3c/div\\\\x3e\\\\x3c/div\\\\x3e\\');})();(function(){google.drty&&google.drty(undefined,true);})();});google.drty&&google.drty(undefined,true);</script><script src=\"/xjs/_/js/k=xjs.s.en_GB.GcYwsmjdu-4.O/ck=xjs.s.o-kviWCEtSc.L.W.O/am=AKAKAF4AABAAMAMEAAAAAAAAAEAABE8ZAQAgECIqCQAAACIkAgAAAwAIQBAIAQAAAHxk3gAE_A0ADDThAgAAAAAAAAAEcAnBwA0SBQGAAAAAAAAgVlNXDAAFgQ/d=1/exm=cdos,csi,d,dpf,hsm,jsa/ed=1/dg=2/br=1/rs=ACT90oHMhwj4-G_fJfEvIj6kzgYh1JK2YA/ee=rXjWyb:VWuaCc;uY49fb:COQbmf;EVNhjf:pw70Gc;g8nkx:U4MzKc;wQlYve:aLUfP;kbAm9d:MkHyGd;F9mqte:UoRcbe;sTsDMc:kHVSUb;dtl0hd:lLQWFe;yGxLoc:FmAr0c;dIoSBb:ZgGg9b;pXdRYb:JKoKVe;wR5FRb:TtcOte;KpRAue:Tia57b;aZ61od:arTwJ;JXS8fb:Qj0suc;rQSrae:C6D5Fc;qavrXe:zQzcXe;UDrY1c:eps46d;nKl0s:xxrckd;w3bZCb:ZPGaIb;imqimf:jKGL2e;Np8Qkd:Dpx6qc;BjwMce:cXX2Wb;oGtAuc:sOXFj;NPKaK:PVlQOd;zxnPse:GkRiKb;daB6be:lMxGPd;Fmv9Nc:O1Tzwc;hK67qb:QWEO5b;jVtPve:wQ95P;R4IIIb:QWfeKf;BMxAGc:E5bFse;WDGyFe:jcVOxd;xbe2wc:wbTLEd;DpcR3d:zL72xf;tosKvd:ZCqP3;NSEoX:lazG7b;kCQyJ:ueyPK;oSUNyd:fTfGO;SJsSc:H1GVub;SMDL4c:fTfGO;zOsCQe:Ko78Df;WCEKNd:I46Hvd;LBgRLc:XVMNvd;LsNahb:ucGLNb;UyG7Kb:wQd0G;TxfV6d:YORN0b;GleZL:J1A7Od;qaS3gd:yiLg6e;VGRfx:VFqbr;aAJE9c:WHW6Ef;BgS6mb:fidj5d;z97YGf:oug9te;CxXAWb:YyRLvc;Pguwyb:Xm4ZCd;VN6jIc:ddQyuf;SLtqO:Kh1xYe;VxQ32b:k0XsBb;DULqB:RKfG5c;cFTWae:gT8qnd;gaub4:TN6bMe;hjRo6e:F62sG;whEZac:F4AmNb;qddgKe:x4FYXe;eBAeSb:Ck63tb;vfVwPd:OXTqFb;w9w86d:dt4g2b;lkq0A:Z0MWEf;KQzWid:mB4wNe;pNsl2d:j9Yuyc;eHDfl:ofjVkb;Nyt6ic:jn2sGd;SNUn3:x8cHvb;LEikZe:byfTOb,lsjVmc;io8t5d:sgY6Zb;j7137d:KG2eXe;Oj465e:KG2eXe;sP4Vbe:VwDzFe;kMFpHd:blwjVc;nAFL3:s39S4;iFQyKf:QIhFr/m=DhPYme,EkevXb,GU4Gab,NzU6V,aa,abd,async,dvl,fKZehd,mu,pHXghd,sb_wiz,sf,sonic,spch?xjs=s1\" nonce=\"g4FT8gAi4RUOEZef6KQc0A\" async=\"\" gapi_processed=\"true\"></script><script src=\"/xjs/_/js/k=xjs.s.en_GB.GcYwsmjdu-4.O/ck=xjs.s.o-kviWCEtSc.L.W.O/am=AKAKAF4AABAAMAMEAAAAAAAAAEAABE8ZAQAgECIqCQAAACIkAgAAAwAIQBAIAQAAAHxk3gAE_A0ADDThAgAAAAAAAAAEcAnBwA0SBQGAAAAAAAAgVlNXDAAFgQ/d=1/exm=DhPYme,EkevXb,GU4Gab,NzU6V,aa,abd,async,cdos,csi,d,dpf,dvl,fKZehd,hsm,jsa,mu,pHXghd,sb_wiz,sf,sonic,spch/ed=1/dg=2/br=1/rs=ACT90oHMhwj4-G_fJfEvIj6kzgYh1JK2YA/ee=rXjWyb:VWuaCc;uY49fb:COQbmf;EVNhjf:pw70Gc;g8nkx:U4MzKc;wQlYve:aLUfP;kbAm9d:MkHyGd;F9mqte:UoRcbe;sTsDMc:kHVSUb;dtl0hd:lLQWFe;yGxLoc:FmAr0c;dIoSBb:ZgGg9b;pXdRYb:JKoKVe;wR5FRb:TtcOte;KpRAue:Tia57b;aZ61od:arTwJ;JXS8fb:Qj0suc;rQSrae:C6D5Fc;qavrXe:zQzcXe;UDrY1c:eps46d;nKl0s:xxrckd;w3bZCb:ZPGaIb;imqimf:jKGL2e;Np8Qkd:Dpx6qc;BjwMce:cXX2Wb;oGtAuc:sOXFj;NPKaK:PVlQOd;zxnPse:GkRiKb;daB6be:lMxGPd;Fmv9Nc:O1Tzwc;hK67qb:QWEO5b;jVtPve:wQ95P;R4IIIb:QWfeKf;BMxAGc:E5bFse;WDGyFe:jcVOxd;xbe2wc:wbTLEd;DpcR3d:zL72xf;tosKvd:ZCqP3;NSEoX:lazG7b;kCQyJ:ueyPK;oSUNyd:fTfGO;SJsSc:H1GVub;SMDL4c:fTfGO;zOsCQe:Ko78Df;WCEKNd:I46Hvd;LBgRLc:XVMNvd;LsNahb:ucGLNb;UyG7Kb:wQd0G;TxfV6d:YORN0b;GleZL:J1A7Od;qaS3gd:yiLg6e;VGRfx:VFqbr;aAJE9c:WHW6Ef;BgS6mb:fidj5d;z97YGf:oug9te;CxXAWb:YyRLvc;Pguwyb:Xm4ZCd;VN6jIc:ddQyuf;SLtqO:Kh1xYe;VxQ32b:k0XsBb;DULqB:RKfG5c;cFTWae:gT8qnd;gaub4:TN6bMe;hjRo6e:F62sG;whEZac:F4AmNb;qddgKe:x4FYXe;eBAeSb:Ck63tb;vfVwPd:OXTqFb;w9w86d:dt4g2b;lkq0A:Z0MWEf;KQzWid:mB4wNe;pNsl2d:j9Yuyc;eHDfl:ofjVkb;Nyt6ic:jn2sGd;SNUn3:x8cHvb;LEikZe:byfTOb,lsjVmc;io8t5d:sgY6Zb;j7137d:KG2eXe;Oj465e:KG2eXe;sP4Vbe:VwDzFe;kMFpHd:blwjVc;nAFL3:s39S4;iFQyKf:QIhFr/m=CnSW2d,DPreE,HGv0mf,WlNQGd,fXO0xe,kQvlef,nabPbb?xjs=s2\" nonce=\"g4FT8gAi4RUOEZef6KQc0A\" async=\"\"></script><script src=\"/xjs/_/js/k=xjs.s.en_GB.GcYwsmjdu-4.O/ck=xjs.s.o-kviWCEtSc.L.W.O/am=AKAKAF4AABAAMAMEAAAAAAAAAEAABE8ZAQAgECIqCQAAACIkAgAAAwAIQBAIAQAAAHxk3gAE_A0ADDThAgAAAAAAAAAEcAnBwA0SBQGAAAAAAAAgVlNXDAAFgQ/d=1/exm=CnSW2d,DPreE,DhPYme,EkevXb,GU4Gab,HGv0mf,NzU6V,WlNQGd,aa,abd,async,cdos,csi,d,dpf,dvl,fKZehd,fXO0xe,hsm,jsa,kQvlef,mu,nabPbb,pHXghd,sb_wiz,sf,sonic,spch/ed=1/dg=2/br=1/rs=ACT90oHMhwj4-G_fJfEvIj6kzgYh1JK2YA/ee=rXjWyb:VWuaCc;uY49fb:COQbmf;EVNhjf:pw70Gc;g8nkx:U4MzKc;wQlYve:aLUfP;kbAm9d:MkHyGd;F9mqte:UoRcbe;sTsDMc:kHVSUb;dtl0hd:lLQWFe;yGxLoc:FmAr0c;dIoSBb:ZgGg9b;pXdRYb:JKoKVe;wR5FRb:TtcOte;KpRAue:Tia57b;aZ61od:arTwJ;JXS8fb:Qj0suc;rQSrae:C6D5Fc;qavrXe:zQzcXe;UDrY1c:eps46d;nKl0s:xxrckd;w3bZCb:ZPGaIb;imqimf:jKGL2e;Np8Qkd:Dpx6qc;BjwMce:cXX2Wb;oGtAuc:sOXFj;NPKaK:PVlQOd;zxnPse:GkRiKb;daB6be:lMxGPd;Fmv9Nc:O1Tzwc;hK67qb:QWEO5b;jVtPve:wQ95P;R4IIIb:QWfeKf;BMxAGc:E5bFse;WDGyFe:jcVOxd;xbe2wc:wbTLEd;DpcR3d:zL72xf;tosKvd:ZCqP3;NSEoX:lazG7b;kCQyJ:ueyPK;oSUNyd:fTfGO;SJsSc:H1GVub;SMDL4c:fTfGO;zOsCQe:Ko78Df;WCEKNd:I46Hvd;LBgRLc:XVMNvd;LsNahb:ucGLNb;UyG7Kb:wQd0G;TxfV6d:YORN0b;GleZL:J1A7Od;qaS3gd:yiLg6e;VGRfx:VFqbr;aAJE9c:WHW6Ef;BgS6mb:fidj5d;z97YGf:oug9te;CxXAWb:YyRLvc;Pguwyb:Xm4ZCd;VN6jIc:ddQyuf;SLtqO:Kh1xYe;VxQ32b:k0XsBb;DULqB:RKfG5c;cFTWae:gT8qnd;gaub4:TN6bMe;hjRo6e:F62sG;whEZac:F4AmNb;qddgKe:x4FYXe;eBAeSb:Ck63tb;vfVwPd:OXTqFb;w9w86d:dt4g2b;lkq0A:Z0MWEf;KQzWid:mB4wNe;pNsl2d:j9Yuyc;eHDfl:ofjVkb;Nyt6ic:jn2sGd;SNUn3:x8cHvb;LEikZe:byfTOb,lsjVmc;io8t5d:sgY6Zb;j7137d:KG2eXe;Oj465e:KG2eXe;sP4Vbe:VwDzFe;kMFpHd:blwjVc;nAFL3:s39S4;iFQyKf:QIhFr/m=aLUfP?xjs=s2\" nonce=\"g4FT8gAi4RUOEZef6KQc0A\" async=\"\"></script></body></html>'"
      ]
     },
     "execution_count": 14,
     "metadata": {},
     "output_type": "execute_result"
    }
   ],
   "source": [
    "driver.page_source"
   ]
  },
  {
   "cell_type": "code",
   "execution_count": null,
   "id": "535ab23a",
   "metadata": {},
   "outputs": [],
   "source": []
  },
  {
   "cell_type": "code",
   "execution_count": null,
   "id": "e1ffd461",
   "metadata": {},
   "outputs": [],
   "source": []
  },
  {
   "cell_type": "markdown",
   "id": "5f2be3cd",
   "metadata": {},
   "source": [
    "> **Perform Different operations on the browser:**\n",
    ">- The `driver.refresh()` method is used to refresh the page contents.\n",
    ">- The `driver.set_window_position(x,y)` is used to set the positions of the top left corner of the browser window.\n",
    ">- The `driver.set_window_size(x,y)` is used to set the width and height of current window.\n",
    ">- The `driver.maximize_window()` is used to maximinize the size of the window.\n",
    ">- The `driver.minimize_window()` is used to minimize the browser in the taskbar."
   ]
  },
  {
   "cell_type": "code",
   "execution_count": 15,
   "id": "17e672b8",
   "metadata": {},
   "outputs": [],
   "source": [
    "driver.refresh()"
   ]
  },
  {
   "cell_type": "code",
   "execution_count": 16,
   "id": "aa2ba167",
   "metadata": {},
   "outputs": [
    {
     "data": {
      "text/plain": [
       "{'height': 943, 'width': 1200, 'x': 0, 'y': 23}"
      ]
     },
     "execution_count": 16,
     "metadata": {},
     "output_type": "execute_result"
    }
   ],
   "source": [
    "driver.set_window_position(0,0)"
   ]
  },
  {
   "cell_type": "code",
   "execution_count": 19,
   "id": "ecbd3ef3",
   "metadata": {},
   "outputs": [],
   "source": [
    "driver.maximize_window()"
   ]
  },
  {
   "cell_type": "code",
   "execution_count": 18,
   "id": "e4843022",
   "metadata": {},
   "outputs": [],
   "source": [
    "driver.minimize_window()"
   ]
  },
  {
   "cell_type": "code",
   "execution_count": null,
   "id": "4aec3162",
   "metadata": {},
   "outputs": [],
   "source": []
  },
  {
   "cell_type": "code",
   "execution_count": null,
   "id": "628912dc",
   "metadata": {},
   "outputs": [],
   "source": []
  },
  {
   "cell_type": "code",
   "execution_count": null,
   "id": "8e2282ec",
   "metadata": {},
   "outputs": [],
   "source": []
  },
  {
   "cell_type": "code",
   "execution_count": null,
   "id": "70d8588f",
   "metadata": {},
   "outputs": [],
   "source": []
  },
  {
   "cell_type": "markdown",
   "id": "d341b321",
   "metadata": {},
   "source": [
    "> **Create new tab in the browser window and shift between tabs:**\n",
    ">- Clicking a link may opens in a new browser tab\n",
    ">- You can also create a new browser tab programmatically using the `driver.switch_to.new_window('tab')`.\n",
    ">- All calls to the driver will now be interpreted as being directed to the current browser tab.\n",
    ">- WebDriver supports moving between windows using:\n",
    "    - `driver.switch_to.window(\"windowname\")`\n",
    "    - `driver.switch_to.frame('framename')`\n",
    "    - `driver.switch_to.default_content()`\n",
    "    - All calls to driver will now be interpreted as being directed to the particular window."
   ]
  },
  {
   "cell_type": "code",
   "execution_count": 20,
   "id": "f640b999",
   "metadata": {},
   "outputs": [],
   "source": [
    "google_tab = driver.current_window_handle"
   ]
  },
  {
   "cell_type": "code",
   "execution_count": 21,
   "id": "e2403425",
   "metadata": {},
   "outputs": [],
   "source": [
    "driver.switch_to.new_window('tab')"
   ]
  },
  {
   "cell_type": "code",
   "execution_count": 22,
   "id": "c1c15b9b",
   "metadata": {},
   "outputs": [],
   "source": [
    "driver.get('https://www.yahoo.com')"
   ]
  },
  {
   "cell_type": "code",
   "execution_count": 24,
   "id": "79b4d4c9",
   "metadata": {},
   "outputs": [],
   "source": [
    "driver.switch_to.window(google_tab)"
   ]
  },
  {
   "cell_type": "code",
   "execution_count": 25,
   "id": "b97a7b43",
   "metadata": {},
   "outputs": [],
   "source": [
    "driver.close()"
   ]
  },
  {
   "cell_type": "code",
   "execution_count": 26,
   "id": "768b7e7a",
   "metadata": {},
   "outputs": [],
   "source": [
    "driver.quit()"
   ]
  },
  {
   "cell_type": "code",
   "execution_count": null,
   "id": "2c64c5f4",
   "metadata": {},
   "outputs": [],
   "source": []
  },
  {
   "cell_type": "markdown",
   "id": "85852d06",
   "metadata": {},
   "source": [
    "> **Close browser tab or close the entire session:**\n",
    ">- The `driver.close()` will simply closes the current tab of the browser and will not close the browser process.\n",
    ">- The `driver.quit()` will close all the browser tabs and the background driver process."
   ]
  },
  {
   "cell_type": "code",
   "execution_count": null,
   "id": "eb555602",
   "metadata": {},
   "outputs": [],
   "source": []
  },
  {
   "cell_type": "code",
   "execution_count": null,
   "id": "7e75e72f",
   "metadata": {},
   "outputs": [],
   "source": []
  },
  {
   "cell_type": "code",
   "execution_count": null,
   "id": "e3d2e4e7",
   "metadata": {},
   "outputs": [],
   "source": []
  },
  {
   "cell_type": "code",
   "execution_count": null,
   "id": "97fc51a3",
   "metadata": {},
   "outputs": [],
   "source": []
  },
  {
   "cell_type": "markdown",
   "id": "f75a13d2",
   "metadata": {},
   "source": [
    "## 3. Example 1: Scraping a JavaScript Driven WebSite (https://arifpucit.github.io/bss2/js/)\n",
    "\n",
    "<img align=\"right\" width=\"1000\"   src=\"images/bss_js.png\"  >"
   ]
  },
  {
   "cell_type": "code",
   "execution_count": null,
   "id": "36a482f2",
   "metadata": {},
   "outputs": [],
   "source": []
  },
  {
   "cell_type": "code",
   "execution_count": null,
   "id": "5a8bb71d",
   "metadata": {},
   "outputs": [],
   "source": []
  },
  {
   "cell_type": "code",
   "execution_count": null,
   "id": "70d64c2e",
   "metadata": {},
   "outputs": [],
   "source": []
  },
  {
   "cell_type": "code",
   "execution_count": null,
   "id": "8a646c79",
   "metadata": {},
   "outputs": [],
   "source": []
  },
  {
   "cell_type": "markdown",
   "id": "3aa3a9ee",
   "metadata": {},
   "source": [
    "### a. Using Requests and BeautifulSoup"
   ]
  },
  {
   "cell_type": "code",
   "execution_count": 27,
   "id": "4d329d49",
   "metadata": {},
   "outputs": [
    {
     "data": {
      "text/html": [
       "<div>\n",
       "<style scoped>\n",
       "    .dataframe tbody tr th:only-of-type {\n",
       "        vertical-align: middle;\n",
       "    }\n",
       "\n",
       "    .dataframe tbody tr th {\n",
       "        vertical-align: top;\n",
       "    }\n",
       "\n",
       "    .dataframe thead th {\n",
       "        text-align: right;\n",
       "    }\n",
       "</style>\n",
       "<table border=\"1\" class=\"dataframe\">\n",
       "  <thead>\n",
       "    <tr style=\"text-align: right;\">\n",
       "      <th></th>\n",
       "      <th>Title/Author</th>\n",
       "      <th>Price</th>\n",
       "      <th>Availability</th>\n",
       "      <th>Reviews</th>\n",
       "      <th>Links</th>\n",
       "      <th>Stars</th>\n",
       "    </tr>\n",
       "  </thead>\n",
       "  <tbody>\n",
       "  </tbody>\n",
       "</table>\n",
       "</div>"
      ],
      "text/plain": [
       "Empty DataFrame\n",
       "Columns: [Title/Author, Price, Availability, Reviews, Links, Stars]\n",
       "Index: []"
      ]
     },
     "execution_count": 27,
     "metadata": {},
     "output_type": "execute_result"
    }
   ],
   "source": [
    "import requests\n",
    "from bs4 import BeautifulSoup\n",
    "import pandas as pd\n",
    "\n",
    "titles = []\n",
    "prices = []\n",
    "availability=[]\n",
    "reviews=[]\n",
    "links=[]\n",
    "stars=[]\n",
    "\n",
    "resp = requests.get(\"https://arifpucit.github.io/bss2/js\")\n",
    "soup = BeautifulSoup(resp.text, 'lxml') #resp.text do not contain the HTML for the books data\n",
    "\n",
    "sp_titles = soup.find_all('p', class_=\"book_name\")\n",
    "sp_prices = soup.find_all('p', class_=\"price green\")\n",
    "sp_availability = data = soup.find_all('p', class_='stock')\n",
    "sp_reviews = soup.find_all('p',{'class','review'})\n",
    "data = soup.find_all('p', class_=\"book_name\")\n",
    "sp_links=[]\n",
    "for val in data:\n",
    "    sp_links.append(val.find('a').get('href'))\n",
    "books = soup.find_all('div',{'class','book_container'})\n",
    "for book in books:\n",
    "    stars.append(5 - len(book.find_all('span',{'class','not_filled'})))\n",
    "\n",
    "    \n",
    "for i in range(len(sp_titles)):\n",
    "    titles.append(sp_titles[i].text)\n",
    "    prices.append(sp_prices[i].text)\n",
    "    availability.append(sp_availability[i].text)\n",
    "    reviews.append(sp_reviews[i].text)\n",
    "    links.append(sp_links[i])\n",
    "\n",
    "\n",
    "data = {'Title/Author':titles, 'Price':prices, 'Availability':availability, \n",
    "        'Reviews':reviews, 'Links':links, 'Stars':stars}\n",
    "df = pd.DataFrame(data, columns=['Title/Author', 'Price', 'Availability', 'Reviews', 'Links', 'Stars'])\n",
    "df.to_csv('books1.csv', index=False)\n",
    "df = pd.read_csv('books1.csv')\n",
    "df"
   ]
  },
  {
   "cell_type": "code",
   "execution_count": null,
   "id": "22eb114f",
   "metadata": {},
   "outputs": [],
   "source": []
  },
  {
   "cell_type": "code",
   "execution_count": null,
   "id": "54080c31",
   "metadata": {},
   "outputs": [],
   "source": []
  },
  {
   "cell_type": "code",
   "execution_count": null,
   "id": "eed270ef",
   "metadata": {},
   "outputs": [],
   "source": []
  },
  {
   "cell_type": "code",
   "execution_count": null,
   "id": "b7733f09",
   "metadata": {},
   "outputs": [],
   "source": []
  },
  {
   "cell_type": "code",
   "execution_count": null,
   "id": "78b8f9cc",
   "metadata": {},
   "outputs": [],
   "source": []
  },
  {
   "cell_type": "code",
   "execution_count": null,
   "id": "8ae787fd",
   "metadata": {},
   "outputs": [],
   "source": []
  },
  {
   "cell_type": "code",
   "execution_count": null,
   "id": "3eb31dd6",
   "metadata": {},
   "outputs": [],
   "source": []
  },
  {
   "cell_type": "code",
   "execution_count": null,
   "id": "e8a504a2",
   "metadata": {},
   "outputs": [],
   "source": []
  },
  {
   "cell_type": "markdown",
   "id": "fc9c8313",
   "metadata": {},
   "source": [
    "### b. Using Selenium and BeautifulSoup"
   ]
  },
  {
   "cell_type": "code",
   "execution_count": 28,
   "id": "102fe026",
   "metadata": {},
   "outputs": [
    {
     "data": {
      "text/html": [
       "<div>\n",
       "<style scoped>\n",
       "    .dataframe tbody tr th:only-of-type {\n",
       "        vertical-align: middle;\n",
       "    }\n",
       "\n",
       "    .dataframe tbody tr th {\n",
       "        vertical-align: top;\n",
       "    }\n",
       "\n",
       "    .dataframe thead th {\n",
       "        text-align: right;\n",
       "    }\n",
       "</style>\n",
       "<table border=\"1\" class=\"dataframe\">\n",
       "  <thead>\n",
       "    <tr style=\"text-align: right;\">\n",
       "      <th></th>\n",
       "      <th>Title/Author</th>\n",
       "      <th>Price</th>\n",
       "      <th>Availability</th>\n",
       "      <th>Reviews</th>\n",
       "      <th>Links</th>\n",
       "      <th>Stars</th>\n",
       "    </tr>\n",
       "  </thead>\n",
       "  <tbody>\n",
       "    <tr>\n",
       "      <th>0</th>\n",
       "      <td>Operating System Concepts By Avi Silberschatz</td>\n",
       "      <td>Rs.2000</td>\n",
       "      <td>In stock</td>\n",
       "      <td>20 Reviews</td>\n",
       "      <td>https://www.amazon.com/Operating-System-Concep...</td>\n",
       "      <td>3</td>\n",
       "    </tr>\n",
       "    <tr>\n",
       "      <th>1</th>\n",
       "      <td>UNIX The TextbookBy Syed Mansoor Sarwar</td>\n",
       "      <td>Rs.5000</td>\n",
       "      <td>In stock</td>\n",
       "      <td>100 Reviews</td>\n",
       "      <td>https://www.google.com/search?q=Unix+the+textb...</td>\n",
       "      <td>5</td>\n",
       "    </tr>\n",
       "    <tr>\n",
       "      <th>2</th>\n",
       "      <td>Taxonomy of IDS By Arif Butt</td>\n",
       "      <td>Rs.6900</td>\n",
       "      <td>Not in stock</td>\n",
       "      <td>20 Reviews</td>\n",
       "      <td>https://www.amazon.in/Taxonomy-Ids-Arif-Butt/d...</td>\n",
       "      <td>4</td>\n",
       "    </tr>\n",
       "    <tr>\n",
       "      <th>3</th>\n",
       "      <td>Understanding operating systems By Ida Flynn</td>\n",
       "      <td>Rs.2700</td>\n",
       "      <td>Not in stock</td>\n",
       "      <td>60 Reviews</td>\n",
       "      <td>https://www.amazon.com/Understanding-Operating...</td>\n",
       "      <td>2</td>\n",
       "    </tr>\n",
       "    <tr>\n",
       "      <th>4</th>\n",
       "      <td>Computer Systems  By Randal E. Bryant</td>\n",
       "      <td>Rs.1700</td>\n",
       "      <td>In stock</td>\n",
       "      <td>25 Reviews</td>\n",
       "      <td>https://www.goodreads.com/book/show/829182.Com...</td>\n",
       "      <td>2</td>\n",
       "    </tr>\n",
       "    <tr>\n",
       "      <th>5</th>\n",
       "      <td>Linux bible  Book by Christopher Negus</td>\n",
       "      <td>Rs.1800</td>\n",
       "      <td>Not in stock</td>\n",
       "      <td>21 Reviews</td>\n",
       "      <td>https://www.amazon.com/Linux-Bible-Christopher...</td>\n",
       "      <td>1</td>\n",
       "    </tr>\n",
       "    <tr>\n",
       "      <th>6</th>\n",
       "      <td>Advanced Programming in the UNIX Environment  ...</td>\n",
       "      <td>Rs.6000</td>\n",
       "      <td>In stock</td>\n",
       "      <td>40 Reviews</td>\n",
       "      <td>https://www.amazon.com/dp/0321637739?tag=uuid1...</td>\n",
       "      <td>1</td>\n",
       "    </tr>\n",
       "    <tr>\n",
       "      <th>7</th>\n",
       "      <td>Operating Systems: A Design-oriented Approach ...</td>\n",
       "      <td>Rs.1000</td>\n",
       "      <td>In stock</td>\n",
       "      <td>90 Reviews</td>\n",
       "      <td>https://www.amazon.com/s?k=Operating+Systems%3...</td>\n",
       "      <td>3</td>\n",
       "    </tr>\n",
       "    <tr>\n",
       "      <th>8</th>\n",
       "      <td>Hands-On Network Programming with C  By Lewis ...</td>\n",
       "      <td>Rs.1800</td>\n",
       "      <td>In stock</td>\n",
       "      <td>70 Reviews</td>\n",
       "      <td>https://www.amazon.com/Hands-Network-Programmi...</td>\n",
       "      <td>4</td>\n",
       "    </tr>\n",
       "  </tbody>\n",
       "</table>\n",
       "</div>"
      ],
      "text/plain": [
       "                                        Title/Author    Price   Availability  \\\n",
       "0      Operating System Concepts By Avi Silberschatz  Rs.2000       In stock   \n",
       "1            UNIX The TextbookBy Syed Mansoor Sarwar  Rs.5000       In stock   \n",
       "2                       Taxonomy of IDS By Arif Butt  Rs.6900   Not in stock   \n",
       "3       Understanding operating systems By Ida Flynn  Rs.2700   Not in stock   \n",
       "4             Computer Systems  By Randal E. Bryant   Rs.1700       In stock   \n",
       "5             Linux bible  Book by Christopher Negus  Rs.1800   Not in stock   \n",
       "6  Advanced Programming in the UNIX Environment  ...  Rs.6000       In stock   \n",
       "7  Operating Systems: A Design-oriented Approach ...  Rs.1000       In stock   \n",
       "8  Hands-On Network Programming with C  By Lewis ...  Rs.1800       In stock   \n",
       "\n",
       "       Reviews                                              Links  Stars  \n",
       "0   20 Reviews  https://www.amazon.com/Operating-System-Concep...      3  \n",
       "1  100 Reviews  https://www.google.com/search?q=Unix+the+textb...      5  \n",
       "2   20 Reviews  https://www.amazon.in/Taxonomy-Ids-Arif-Butt/d...      4  \n",
       "3   60 Reviews  https://www.amazon.com/Understanding-Operating...      2  \n",
       "4   25 Reviews  https://www.goodreads.com/book/show/829182.Com...      2  \n",
       "5   21 Reviews  https://www.amazon.com/Linux-Bible-Christopher...      1  \n",
       "6   40 Reviews  https://www.amazon.com/dp/0321637739?tag=uuid1...      1  \n",
       "7   90 Reviews  https://www.amazon.com/s?k=Operating+Systems%3...      3  \n",
       "8   70 Reviews  https://www.amazon.com/Hands-Network-Programmi...      4  "
      ]
     },
     "execution_count": 28,
     "metadata": {},
     "output_type": "execute_result"
    }
   ],
   "source": [
    "from selenium.webdriver import Chrome\n",
    "from selenium.webdriver.chrome.service import Service\n",
    "from selenium.webdriver.chrome.options import Options\n",
    "from bs4 import BeautifulSoup\n",
    "import pandas as pd\n",
    "\n",
    "s = Service('/Users/arif/Documents/chromedriver')\n",
    "myoptions = Options()      \n",
    "driver = Chrome (service=s, options=myoptions)\n",
    "driver.get('https://arifpucit.github.io/bss2/js/')\n",
    "\n",
    "titles = []\n",
    "prices = []\n",
    "availability=[]\n",
    "reviews=[]\n",
    "links=[]\n",
    "stars=[]\n",
    "soup = BeautifulSoup(driver.page_source, 'lxml')#driver.page_source DO contain the HTML for the books data\n",
    "sp_titles = soup.find_all('p', class_=\"book_name\")\n",
    "sp_prices = soup.find_all('p', class_=\"price green\")\n",
    "sp_availability = data = soup.find_all('p', class_='stock')\n",
    "sp_reviews = soup.find_all('p',{'class','review'})\n",
    "data = soup.find_all('p', class_=\"book_name\")\n",
    "sp_links=[]\n",
    "for val in data:\n",
    "    sp_links.append(val.find('a').get('href'))\n",
    "books = soup.find_all('div',{'class','book_container'})\n",
    "for book in books:\n",
    "    stars.append(5 - len(book.find_all('span',{'class','not_filled'})))    \n",
    "for i in range(len(sp_titles)):\n",
    "    titles.append(sp_titles[i].text)\n",
    "    prices.append(sp_prices[i].text)\n",
    "    availability.append(sp_availability[i].text)\n",
    "    reviews.append(sp_reviews[i].text)\n",
    "    links.append(sp_links[i])\n",
    "data = {'Title/Author':titles, 'Price':prices, 'Availability':availability, \n",
    "        'Reviews':reviews, 'Links':links, 'Stars':stars}\n",
    "df = pd.DataFrame(data, columns=['Title/Author', 'Price', 'Availability', 'Reviews', 'Links', 'Stars'])\n",
    "df.to_csv('books1.csv', index=False)\n",
    "df = pd.read_csv('books1.csv')\n",
    "df"
   ]
  },
  {
   "cell_type": "code",
   "execution_count": 29,
   "id": "11d5a570",
   "metadata": {},
   "outputs": [],
   "source": [
    "driver.quit()"
   ]
  },
  {
   "cell_type": "code",
   "execution_count": null,
   "id": "a3e3aaf8",
   "metadata": {},
   "outputs": [],
   "source": []
  },
  {
   "cell_type": "code",
   "execution_count": null,
   "id": "6f9ba098",
   "metadata": {},
   "outputs": [],
   "source": []
  },
  {
   "cell_type": "code",
   "execution_count": null,
   "id": "0533f073",
   "metadata": {},
   "outputs": [],
   "source": []
  },
  {
   "cell_type": "code",
   "execution_count": null,
   "id": "610b34fb",
   "metadata": {},
   "outputs": [],
   "source": []
  },
  {
   "cell_type": "code",
   "execution_count": null,
   "id": "ee3a2fd2",
   "metadata": {},
   "outputs": [],
   "source": []
  },
  {
   "cell_type": "code",
   "execution_count": null,
   "id": "3f22decd",
   "metadata": {},
   "outputs": [],
   "source": []
  },
  {
   "cell_type": "code",
   "execution_count": null,
   "id": "dccd946f",
   "metadata": {},
   "outputs": [],
   "source": []
  },
  {
   "cell_type": "code",
   "execution_count": null,
   "id": "9599030c",
   "metadata": {},
   "outputs": [],
   "source": []
  },
  {
   "cell_type": "markdown",
   "id": "db5af25a",
   "metadata": {},
   "source": [
    "## 4. Example 2: Scraping Dynamic WebSites (https://arifpucit.github.io/bss2/login/)\n",
    "\n",
    "<img align=\"right\" width=\"1000\"   src=\"images/bss_login.png\"  >"
   ]
  },
  {
   "cell_type": "markdown",
   "id": "9d5194ae",
   "metadata": {},
   "source": [
    "### a. Different Ways to Locate Web elements using Selenium\n",
    "- Once we have the webpage loaded inside our browser, the next task is to locate the web element(s) of our interest and later perform actions on it.\n",
    "- The two most commonly used methods used to locate elements are:\n",
    "    - The `driver.find_element(By.LOCATOR, \"value\")`  method is used to locate a single element.\n",
    "    - The `driver.find_elements(By.LOCATOR, \"value\")`  method is used to locate multiple elements.\n",
    "- The first argument to these methods are the locators, and second argument is the value of that locator.\n",
    "- In Selenium, there are eight different types of Locators or ways using which we can locate a web element:\n",
    "    - ID, NAME, and CLASS_NAME attributes of a web element are called direct locators, as they are fast. Their limitation is they may not always work in case of dynamic web sites. \n",
    "    - XPATH, and CSS_SELECTOR are called indirect locators as they are comparatively slow, but are really useful in case of dynamic web sites.\n",
    "    - LINK_TEXT, and PARTIAL_LINK_TEXT\n",
    "    - TAG_NAME itself, which is seldomly used.\n",
    "\n",
    "\n",
    "\n",
    "- **Locating Web Elements:**  https://selenium-python.readthedocs.io/locating-elements.html\n",
    "- Interacting with Web Elements: https://www.selenium.dev/documentation/webdriver/elements/interactions/\n",
    "- Read about CSS_SELECTOR: https://www.w3schools.com/cssref/css_selectors.asp\n",
    "- Read about XPATH: https://www.guru99.com/xpath-selenium.html, https://www.browserstack.com/guide/find-element-by-xpath-in-selenium\n",
    "- **Install Chrome Extension (Selector Hub):** https://selectorshub.com/\n"
   ]
  },
  {
   "cell_type": "code",
   "execution_count": null,
   "id": "8ca518b4",
   "metadata": {},
   "outputs": [],
   "source": []
  },
  {
   "cell_type": "code",
   "execution_count": null,
   "id": "e97d5af7",
   "metadata": {},
   "outputs": [],
   "source": []
  },
  {
   "cell_type": "code",
   "execution_count": null,
   "id": "3bb7b774",
   "metadata": {},
   "outputs": [],
   "source": []
  },
  {
   "cell_type": "markdown",
   "id": "c483703b",
   "metadata": {},
   "source": [
    "> **Load the Login version of Book Scraping Site:** https://arifpucit.github.io/bss2/login/"
   ]
  },
  {
   "cell_type": "code",
   "execution_count": 30,
   "id": "98b5d606",
   "metadata": {},
   "outputs": [],
   "source": [
    "s = Service('/Users/arif/Documents/chromedriver')\n",
    "myoptions = Options()      \n",
    "driver = Chrome (service=s, options=myoptions)\n",
    "driver.get('https://arifpucit.github.io/bss2/login/')\n",
    "driver.maximize_window()\n"
   ]
  },
  {
   "cell_type": "code",
   "execution_count": 31,
   "id": "591ee921",
   "metadata": {},
   "outputs": [],
   "source": [
    "driver.quit()"
   ]
  },
  {
   "cell_type": "code",
   "execution_count": null,
   "id": "c638ba46",
   "metadata": {},
   "outputs": [],
   "source": []
  },
  {
   "cell_type": "code",
   "execution_count": 32,
   "id": "6eefca9e",
   "metadata": {},
   "outputs": [],
   "source": [
    "s = Service('/Users/arif/Documents/chromedriver')\n",
    "myoptions = Options()      \n",
    "driver = Chrome (service=s, options=myoptions)\n",
    "driver.get('https://arifpucit.github.io/bss2/login/')\n",
    "driver.maximize_window()\n"
   ]
  },
  {
   "cell_type": "code",
   "execution_count": 33,
   "id": "70cfd52b",
   "metadata": {},
   "outputs": [
    {
     "data": {
      "text/plain": [
       "selenium.webdriver.remote.webelement.WebElement"
      ]
     },
     "execution_count": 33,
     "metadata": {},
     "output_type": "execute_result"
    }
   ],
   "source": [
    "from selenium.webdriver.common.by import By\n",
    "\n",
    "tbox = driver.find_element(By.ID, 'name')\n",
    "type(tbox)"
   ]
  },
  {
   "cell_type": "code",
   "execution_count": 34,
   "id": "07664486",
   "metadata": {},
   "outputs": [],
   "source": [
    "tbox.send_keys(\"arif\")"
   ]
  },
  {
   "cell_type": "code",
   "execution_count": 35,
   "id": "7326b098",
   "metadata": {},
   "outputs": [],
   "source": [
    "tbox.clear()"
   ]
  },
  {
   "cell_type": "code",
   "execution_count": 36,
   "id": "95403777",
   "metadata": {},
   "outputs": [],
   "source": [
    "mylink = driver.find_element(By.LINK_TEXT, 'Ask Google for Password')\n",
    "mylink.click()"
   ]
  },
  {
   "cell_type": "code",
   "execution_count": 37,
   "id": "bc1acfe3",
   "metadata": {},
   "outputs": [],
   "source": [
    "driver.back()"
   ]
  },
  {
   "cell_type": "code",
   "execution_count": 38,
   "id": "6ff1723e",
   "metadata": {},
   "outputs": [],
   "source": [
    "tbox2 = driver.find_element(By.CSS_SELECTOR, '#password')\n",
    "tbox2.send_keys('datascience')"
   ]
  },
  {
   "cell_type": "code",
   "execution_count": 40,
   "id": "33204838",
   "metadata": {},
   "outputs": [],
   "source": [
    "btn = driver.find_element(By.XPATH, '//*[@id=\"submit_button\"]')\n",
    "btn.click()"
   ]
  },
  {
   "cell_type": "code",
   "execution_count": null,
   "id": "f8c024a4",
   "metadata": {},
   "outputs": [],
   "source": []
  },
  {
   "cell_type": "code",
   "execution_count": 46,
   "id": "63e5f46e",
   "metadata": {},
   "outputs": [
    {
     "name": "stdout",
     "output_type": "stream",
     "text": [
      "Rs.2000\n",
      "Rs.5000\n",
      "Rs.6900\n",
      "Rs.2700\n",
      "Rs.1700\n",
      "Rs.1800\n",
      "Rs.6000\n",
      "Rs.1000\n",
      "Rs.1800\n"
     ]
    }
   ],
   "source": [
    "for i in range(1,10):\n",
    "    price = driver.find_element(By.XPATH, '/html/body/section/div/div[2]/div[2]/div[' + str(i)+ ']/div/p[1]').text\n",
    "    print(price)"
   ]
  },
  {
   "cell_type": "code",
   "execution_count": 47,
   "id": "c464956e",
   "metadata": {},
   "outputs": [],
   "source": [
    "driver.quit()"
   ]
  },
  {
   "cell_type": "code",
   "execution_count": null,
   "id": "4c95b591",
   "metadata": {},
   "outputs": [],
   "source": []
  },
  {
   "cell_type": "code",
   "execution_count": null,
   "id": "cf693b7b",
   "metadata": {},
   "outputs": [],
   "source": []
  },
  {
   "cell_type": "code",
   "execution_count": null,
   "id": "71083078",
   "metadata": {},
   "outputs": [],
   "source": []
  },
  {
   "cell_type": "code",
   "execution_count": null,
   "id": "9c2492dc",
   "metadata": {},
   "outputs": [],
   "source": []
  },
  {
   "cell_type": "code",
   "execution_count": null,
   "id": "4831660e",
   "metadata": {},
   "outputs": [],
   "source": []
  },
  {
   "cell_type": "code",
   "execution_count": null,
   "id": "9c2faa35",
   "metadata": {},
   "outputs": [],
   "source": []
  },
  {
   "cell_type": "code",
   "execution_count": null,
   "id": "aab1960e",
   "metadata": {},
   "outputs": [],
   "source": []
  },
  {
   "cell_type": "code",
   "execution_count": null,
   "id": "8fc27294",
   "metadata": {},
   "outputs": [],
   "source": []
  },
  {
   "cell_type": "code",
   "execution_count": null,
   "id": "9a7e5a87",
   "metadata": {},
   "outputs": [],
   "source": []
  },
  {
   "cell_type": "code",
   "execution_count": null,
   "id": "016aaaa3",
   "metadata": {},
   "outputs": [],
   "source": []
  },
  {
   "cell_type": "code",
   "execution_count": null,
   "id": "e2b64156",
   "metadata": {},
   "outputs": [],
   "source": []
  },
  {
   "cell_type": "code",
   "execution_count": null,
   "id": "a6ef8e5b",
   "metadata": {},
   "outputs": [],
   "source": []
  },
  {
   "cell_type": "code",
   "execution_count": null,
   "id": "86d4d5a5",
   "metadata": {},
   "outputs": [],
   "source": []
  },
  {
   "cell_type": "code",
   "execution_count": null,
   "id": "d14d17d7",
   "metadata": {},
   "outputs": [],
   "source": []
  },
  {
   "cell_type": "code",
   "execution_count": null,
   "id": "9ef009f6",
   "metadata": {},
   "outputs": [],
   "source": []
  },
  {
   "cell_type": "code",
   "execution_count": null,
   "id": "d1cb6686",
   "metadata": {},
   "outputs": [],
   "source": []
  },
  {
   "cell_type": "code",
   "execution_count": null,
   "id": "47ea3d18",
   "metadata": {},
   "outputs": [],
   "source": []
  },
  {
   "cell_type": "markdown",
   "id": "c6ce8caa",
   "metadata": {},
   "source": [
    "### b. Consolidated Script to Login  and Scrape Books Data: (https://arifpucit.github.io/bss2/login/)"
   ]
  },
  {
   "cell_type": "code",
   "execution_count": 48,
   "id": "5060fcb2",
   "metadata": {},
   "outputs": [
    {
     "data": {
      "text/html": [
       "<div>\n",
       "<style scoped>\n",
       "    .dataframe tbody tr th:only-of-type {\n",
       "        vertical-align: middle;\n",
       "    }\n",
       "\n",
       "    .dataframe tbody tr th {\n",
       "        vertical-align: top;\n",
       "    }\n",
       "\n",
       "    .dataframe thead th {\n",
       "        text-align: right;\n",
       "    }\n",
       "</style>\n",
       "<table border=\"1\" class=\"dataframe\">\n",
       "  <thead>\n",
       "    <tr style=\"text-align: right;\">\n",
       "      <th></th>\n",
       "      <th>Title/Author</th>\n",
       "      <th>Price</th>\n",
       "      <th>Availability</th>\n",
       "      <th>Reviews</th>\n",
       "      <th>Links</th>\n",
       "    </tr>\n",
       "  </thead>\n",
       "  <tbody>\n",
       "    <tr>\n",
       "      <th>0</th>\n",
       "      <td>Operating System Concepts\\nBy Avi Silberschatz</td>\n",
       "      <td>Rs.2000</td>\n",
       "      <td>In stock</td>\n",
       "      <td>20 Reviews</td>\n",
       "      <td>https://www.amazon.com/Operating-System-Concep...</td>\n",
       "    </tr>\n",
       "    <tr>\n",
       "      <th>1</th>\n",
       "      <td>UNIX The Textbook\\nBy Syed Mansoor Sarwar</td>\n",
       "      <td>Rs.5000</td>\n",
       "      <td>In stock</td>\n",
       "      <td>100 Reviews</td>\n",
       "      <td>https://www.google.com/search?q=Unix+the+textb...</td>\n",
       "    </tr>\n",
       "    <tr>\n",
       "      <th>2</th>\n",
       "      <td>Taxonomy of IDS\\nBy Arif Butt</td>\n",
       "      <td>Rs.6900</td>\n",
       "      <td>Not in stock</td>\n",
       "      <td>20 Reviews</td>\n",
       "      <td>https://www.amazon.in/Taxonomy-Ids-Arif-Butt/d...</td>\n",
       "    </tr>\n",
       "    <tr>\n",
       "      <th>3</th>\n",
       "      <td>Understanding operating systems\\nBy Ida Flynn</td>\n",
       "      <td>Rs.2700</td>\n",
       "      <td>Not in stock</td>\n",
       "      <td>60 Reviews</td>\n",
       "      <td>https://www.amazon.com/Understanding-Operating...</td>\n",
       "    </tr>\n",
       "    <tr>\n",
       "      <th>4</th>\n",
       "      <td>Computer Systems\\nBy Randal E. Bryant</td>\n",
       "      <td>Rs.1700</td>\n",
       "      <td>In stock</td>\n",
       "      <td>25 Reviews</td>\n",
       "      <td>https://www.goodreads.com/book/show/829182.Com...</td>\n",
       "    </tr>\n",
       "    <tr>\n",
       "      <th>5</th>\n",
       "      <td>Linux bible\\nBook by Christopher Negus</td>\n",
       "      <td>Rs.1800</td>\n",
       "      <td>Not in stock</td>\n",
       "      <td>21 Reviews</td>\n",
       "      <td>https://www.amazon.com/Linux-Bible-Christopher...</td>\n",
       "    </tr>\n",
       "    <tr>\n",
       "      <th>6</th>\n",
       "      <td>Advanced Programming in the UNIX Environment\\n...</td>\n",
       "      <td>Rs.6000</td>\n",
       "      <td>In stock</td>\n",
       "      <td>40 Reviews</td>\n",
       "      <td>https://www.amazon.com/dp/0321637739?tag=uuid1...</td>\n",
       "    </tr>\n",
       "    <tr>\n",
       "      <th>7</th>\n",
       "      <td>Operating Systems: A Design-oriented Approach\\...</td>\n",
       "      <td>Rs.1000</td>\n",
       "      <td>In stock</td>\n",
       "      <td>90 Reviews</td>\n",
       "      <td>https://www.amazon.com/s?k=Operating+Systems%3...</td>\n",
       "    </tr>\n",
       "    <tr>\n",
       "      <th>8</th>\n",
       "      <td>Hands-On Network Programming with C\\nBy Lewis ...</td>\n",
       "      <td>Rs.1800</td>\n",
       "      <td>In stock</td>\n",
       "      <td>70 Reviews</td>\n",
       "      <td>https://www.amazon.com/Hands-Network-Programmi...</td>\n",
       "    </tr>\n",
       "  </tbody>\n",
       "</table>\n",
       "</div>"
      ],
      "text/plain": [
       "                                        Title/Author    Price  Availability  \\\n",
       "0     Operating System Concepts\\nBy Avi Silberschatz  Rs.2000      In stock   \n",
       "1          UNIX The Textbook\\nBy Syed Mansoor Sarwar  Rs.5000      In stock   \n",
       "2                      Taxonomy of IDS\\nBy Arif Butt  Rs.6900  Not in stock   \n",
       "3      Understanding operating systems\\nBy Ida Flynn  Rs.2700  Not in stock   \n",
       "4              Computer Systems\\nBy Randal E. Bryant  Rs.1700      In stock   \n",
       "5             Linux bible\\nBook by Christopher Negus  Rs.1800  Not in stock   \n",
       "6  Advanced Programming in the UNIX Environment\\n...  Rs.6000      In stock   \n",
       "7  Operating Systems: A Design-oriented Approach\\...  Rs.1000      In stock   \n",
       "8  Hands-On Network Programming with C\\nBy Lewis ...  Rs.1800      In stock   \n",
       "\n",
       "       Reviews                                              Links  \n",
       "0   20 Reviews  https://www.amazon.com/Operating-System-Concep...  \n",
       "1  100 Reviews  https://www.google.com/search?q=Unix+the+textb...  \n",
       "2   20 Reviews  https://www.amazon.in/Taxonomy-Ids-Arif-Butt/d...  \n",
       "3   60 Reviews  https://www.amazon.com/Understanding-Operating...  \n",
       "4   25 Reviews  https://www.goodreads.com/book/show/829182.Com...  \n",
       "5   21 Reviews  https://www.amazon.com/Linux-Bible-Christopher...  \n",
       "6   40 Reviews  https://www.amazon.com/dp/0321637739?tag=uuid1...  \n",
       "7   90 Reviews  https://www.amazon.com/s?k=Operating+Systems%3...  \n",
       "8   70 Reviews  https://www.amazon.com/Hands-Network-Programmi...  "
      ]
     },
     "execution_count": 48,
     "metadata": {},
     "output_type": "execute_result"
    }
   ],
   "source": [
    "from selenium.webdriver import Chrome\n",
    "from selenium.webdriver.chrome.service import Service\n",
    "from selenium.webdriver.common.by import By\n",
    "import time\n",
    "import pandas as pd\n",
    "\n",
    "\n",
    "s = Service('/Users/arif/Documents/chromedriver') \n",
    "driver = Chrome(service=s)    \n",
    "driver.get('https://arifpucit.github.io/bss2/login') \n",
    "driver.maximize_window()\n",
    "\n",
    "\n",
    "driver.find_element(By.ID, \"name\").send_keys(\"arif\")\n",
    "driver.find_element(By.ID, \"password\").send_keys(\"datascience\")\n",
    "btn = driver.find_element(By.ID, \"submit_button\")\n",
    "time.sleep(2)\n",
    "btn.click()\n",
    "time.sleep(2)\n",
    "\n",
    "\n",
    "titles = []\n",
    "prices = []\n",
    "availability=[]\n",
    "reviews=[]\n",
    "links=[]\n",
    "\n",
    "for i in range(1,10):\n",
    "    title = driver.find_element(By.XPATH,'/html/body/section/div/div[2]/div[2]/div['+str(i)+']/p').text\n",
    "    titles.append(title)\n",
    "    price = driver.find_element(By.XPATH,'/html/body/section/div/div[2]/div[2]/div['+str(i)+']/div/p[1]').text\n",
    "    prices.append(price)\n",
    "    avail = driver.find_element(By.XPATH,'/html/body/section/div/div[2]/div[2]/div['+str(i)+']/div/p[2]').text\n",
    "    availability.append(avail)\n",
    "    review = driver.find_element(By.XPATH,'/html/body/section/div/div[2]/div[2]/div['+str(i)+']/div/p[3]').text\n",
    "    reviews.append(review)\n",
    "    link = driver.find_element(By.XPATH,'/html/body/section/div/div[2]/div[2]/div['+str(i)+']/p/a').get_attribute('href')\n",
    "    links.append(link)\n",
    "\n",
    "data = {'Title/Author':titles, 'Price':prices, 'Availability':availability, \n",
    "        'Reviews':reviews, 'Links':links}\n",
    "df = pd.DataFrame(data, columns=['Title/Author', 'Price', 'Availability', 'Reviews', 'Links'])\n",
    "df.to_csv('books2.csv', index=False)\n",
    "df = pd.read_csv('books2.csv')\n",
    "df"
   ]
  },
  {
   "cell_type": "code",
   "execution_count": 49,
   "id": "b3f900d2",
   "metadata": {},
   "outputs": [],
   "source": [
    "driver.quit()"
   ]
  },
  {
   "cell_type": "markdown",
   "id": "5d44f408",
   "metadata": {},
   "source": [
    ">- Above bot scrape the data of nine OS books only.\n",
    ">- Try extending above crawler to scrape the books data of SP and CA as an exercise."
   ]
  },
  {
   "cell_type": "code",
   "execution_count": null,
   "id": "7694ce09",
   "metadata": {},
   "outputs": [],
   "source": []
  },
  {
   "cell_type": "code",
   "execution_count": null,
   "id": "67a9a131",
   "metadata": {},
   "outputs": [],
   "source": []
  },
  {
   "cell_type": "code",
   "execution_count": null,
   "id": "87c68073",
   "metadata": {},
   "outputs": [],
   "source": []
  },
  {
   "cell_type": "code",
   "execution_count": null,
   "id": "dd72e318",
   "metadata": {},
   "outputs": [],
   "source": []
  },
  {
   "cell_type": "code",
   "execution_count": null,
   "id": "8ebade08",
   "metadata": {},
   "outputs": [],
   "source": []
  },
  {
   "cell_type": "code",
   "execution_count": null,
   "id": "f067a759",
   "metadata": {},
   "outputs": [],
   "source": []
  },
  {
   "cell_type": "code",
   "execution_count": null,
   "id": "933d844b",
   "metadata": {},
   "outputs": [],
   "source": []
  },
  {
   "cell_type": "markdown",
   "id": "8614a9c6",
   "metadata": {},
   "source": [
    "## 5. Example 3: Scraping Multiple Web Pages that Employ Infinite Scrolling\n",
    "- https://arifpucit.github.io/bss2/scroll/"
   ]
  },
  {
   "cell_type": "code",
   "execution_count": null,
   "id": "80770ba3",
   "metadata": {},
   "outputs": [],
   "source": []
  },
  {
   "cell_type": "code",
   "execution_count": null,
   "id": "d7b1f679",
   "metadata": {},
   "outputs": [],
   "source": []
  },
  {
   "cell_type": "code",
   "execution_count": null,
   "id": "bc8e4d8c",
   "metadata": {},
   "outputs": [],
   "source": []
  },
  {
   "cell_type": "code",
   "execution_count": null,
   "id": "94cf4861",
   "metadata": {},
   "outputs": [],
   "source": []
  },
  {
   "cell_type": "code",
   "execution_count": null,
   "id": "e0009907",
   "metadata": {},
   "outputs": [],
   "source": []
  },
  {
   "cell_type": "code",
   "execution_count": null,
   "id": "15f3e3a6",
   "metadata": {},
   "outputs": [],
   "source": []
  },
  {
   "cell_type": "code",
   "execution_count": null,
   "id": "3e35486e",
   "metadata": {},
   "outputs": [],
   "source": []
  },
  {
   "cell_type": "code",
   "execution_count": null,
   "id": "f0d561ed",
   "metadata": {},
   "outputs": [],
   "source": []
  },
  {
   "cell_type": "code",
   "execution_count": null,
   "id": "33833cd4",
   "metadata": {},
   "outputs": [],
   "source": []
  },
  {
   "cell_type": "markdown",
   "id": "9cff458a",
   "metadata": {},
   "source": [
    "### a. Fetch Contents w/o Scrolling"
   ]
  },
  {
   "cell_type": "code",
   "execution_count": 50,
   "id": "1e798c32",
   "metadata": {},
   "outputs": [
    {
     "data": {
      "text/html": [
       "<div>\n",
       "<style scoped>\n",
       "    .dataframe tbody tr th:only-of-type {\n",
       "        vertical-align: middle;\n",
       "    }\n",
       "\n",
       "    .dataframe tbody tr th {\n",
       "        vertical-align: top;\n",
       "    }\n",
       "\n",
       "    .dataframe thead th {\n",
       "        text-align: right;\n",
       "    }\n",
       "</style>\n",
       "<table border=\"1\" class=\"dataframe\">\n",
       "  <thead>\n",
       "    <tr style=\"text-align: right;\">\n",
       "      <th></th>\n",
       "      <th>Title/Author</th>\n",
       "      <th>Price</th>\n",
       "      <th>Availability</th>\n",
       "      <th>Reviews</th>\n",
       "      <th>Links</th>\n",
       "      <th>StarRating</th>\n",
       "    </tr>\n",
       "  </thead>\n",
       "  <tbody>\n",
       "    <tr>\n",
       "      <th>0</th>\n",
       "      <td>Operating System Concepts\\nBy Avi Silberschatz</td>\n",
       "      <td>Rs.7246</td>\n",
       "      <td>In stock</td>\n",
       "      <td>64 Reviews</td>\n",
       "      <td>https://www.amazon.com/Operating-System-Concep...</td>\n",
       "      <td>1.84</td>\n",
       "    </tr>\n",
       "    <tr>\n",
       "      <th>1</th>\n",
       "      <td>UNIX The Textbook\\nBy Syed Mansoor Sarwar</td>\n",
       "      <td>Rs.3138</td>\n",
       "      <td>Not in stock</td>\n",
       "      <td>44 Reviews</td>\n",
       "      <td>https://www.google.com/search?q=Unix+the+textb...</td>\n",
       "      <td>5.00</td>\n",
       "    </tr>\n",
       "    <tr>\n",
       "      <th>2</th>\n",
       "      <td>Taxonomy of IDS\\nBy Dr. Arif Butt</td>\n",
       "      <td>Rs.4954</td>\n",
       "      <td>Not in stock</td>\n",
       "      <td>76 Reviews</td>\n",
       "      <td>https://www.amazon.in/Taxonomy-Ids-Arif-Butt/d...</td>\n",
       "      <td>0.00</td>\n",
       "    </tr>\n",
       "    <tr>\n",
       "      <th>3</th>\n",
       "      <td>Things Fall Apart\\nBy Chinua Achebe</td>\n",
       "      <td>Rs.3740</td>\n",
       "      <td>Not in stock</td>\n",
       "      <td>90 Reviews</td>\n",
       "      <td>https://en.wikipedia.org/wiki/Things_Fall_Apart</td>\n",
       "      <td>3.32</td>\n",
       "    </tr>\n",
       "    <tr>\n",
       "      <th>4</th>\n",
       "      <td>Fairy tales\\nBy Hans Christian Andersen</td>\n",
       "      <td>Rs.8134</td>\n",
       "      <td>In stock</td>\n",
       "      <td>123 Reviews</td>\n",
       "      <td>https://en.wikipedia.org/wiki/Fairy_Tales_Told...</td>\n",
       "      <td>5.00</td>\n",
       "    </tr>\n",
       "    <tr>\n",
       "      <th>5</th>\n",
       "      <td>The Divine Comedy\\nBy Dante Alighieri</td>\n",
       "      <td>Rs.3153</td>\n",
       "      <td>In stock</td>\n",
       "      <td>33 Reviews</td>\n",
       "      <td>https://en.wikipedia.org/wiki/Divine_Comedy</td>\n",
       "      <td>3.24</td>\n",
       "    </tr>\n",
       "    <tr>\n",
       "      <th>6</th>\n",
       "      <td>The Epic Of Gilgamesh\\nBy Unknown</td>\n",
       "      <td>Rs.8712</td>\n",
       "      <td>Not in stock</td>\n",
       "      <td>186 Reviews</td>\n",
       "      <td>https://en.wikipedia.org/wiki/Epic_of_Gilgamesh</td>\n",
       "      <td>3.90</td>\n",
       "    </tr>\n",
       "    <tr>\n",
       "      <th>7</th>\n",
       "      <td>The Book Of Job\\nBy Unknown</td>\n",
       "      <td>Rs.6937</td>\n",
       "      <td>In stock</td>\n",
       "      <td>10 Reviews</td>\n",
       "      <td>https://en.wikipedia.org/wiki/Book_of_Job</td>\n",
       "      <td>2.90</td>\n",
       "    </tr>\n",
       "    <tr>\n",
       "      <th>8</th>\n",
       "      <td>One Thousand and One Nights\\nBy Unknown</td>\n",
       "      <td>Rs.5494</td>\n",
       "      <td>In stock</td>\n",
       "      <td>129 Reviews</td>\n",
       "      <td>https://en.wikipedia.org/wiki/One_Thousand_and...</td>\n",
       "      <td>2.98</td>\n",
       "    </tr>\n",
       "  </tbody>\n",
       "</table>\n",
       "</div>"
      ],
      "text/plain": [
       "                                     Title/Author    Price  Availability  \\\n",
       "0  Operating System Concepts\\nBy Avi Silberschatz  Rs.7246      In stock   \n",
       "1       UNIX The Textbook\\nBy Syed Mansoor Sarwar  Rs.3138  Not in stock   \n",
       "2               Taxonomy of IDS\\nBy Dr. Arif Butt  Rs.4954  Not in stock   \n",
       "3             Things Fall Apart\\nBy Chinua Achebe  Rs.3740  Not in stock   \n",
       "4         Fairy tales\\nBy Hans Christian Andersen  Rs.8134      In stock   \n",
       "5           The Divine Comedy\\nBy Dante Alighieri  Rs.3153      In stock   \n",
       "6               The Epic Of Gilgamesh\\nBy Unknown  Rs.8712  Not in stock   \n",
       "7                     The Book Of Job\\nBy Unknown  Rs.6937      In stock   \n",
       "8         One Thousand and One Nights\\nBy Unknown  Rs.5494      In stock   \n",
       "\n",
       "       Reviews                                              Links  StarRating  \n",
       "0   64 Reviews  https://www.amazon.com/Operating-System-Concep...        1.84  \n",
       "1   44 Reviews  https://www.google.com/search?q=Unix+the+textb...        5.00  \n",
       "2   76 Reviews  https://www.amazon.in/Taxonomy-Ids-Arif-Butt/d...        0.00  \n",
       "3   90 Reviews    https://en.wikipedia.org/wiki/Things_Fall_Apart        3.32  \n",
       "4  123 Reviews  https://en.wikipedia.org/wiki/Fairy_Tales_Told...        5.00  \n",
       "5   33 Reviews        https://en.wikipedia.org/wiki/Divine_Comedy        3.24  \n",
       "6  186 Reviews    https://en.wikipedia.org/wiki/Epic_of_Gilgamesh        3.90  \n",
       "7   10 Reviews          https://en.wikipedia.org/wiki/Book_of_Job        2.90  \n",
       "8  129 Reviews  https://en.wikipedia.org/wiki/One_Thousand_and...        2.98  "
      ]
     },
     "execution_count": 50,
     "metadata": {},
     "output_type": "execute_result"
    }
   ],
   "source": [
    "from selenium.webdriver import Chrome\n",
    "from selenium.webdriver.chrome.service import Service\n",
    "from selenium.webdriver.common.by import By\n",
    "import time\n",
    "import pandas as pd\n",
    "\n",
    "\n",
    "s = Service('/Users/arif/Documents/chromedriver') \n",
    "driver = Chrome(service=s)    \n",
    "driver.get('https://arifpucit.github.io/bss2/scroll') \n",
    "driver.maximize_window()\n",
    "\n",
    "\n",
    "titles = []\n",
    "prices = []\n",
    "availability=[]\n",
    "reviews=[]\n",
    "links=[]\n",
    "star_rates =[]\n",
    "\n",
    "\n",
    "books = driver.find_elements(By.CLASS_NAME, 'col-sm-4')\n",
    "books_count = len(books)\n",
    "for i in range(1,books_count+1):\n",
    "    title = driver.find_element(By.XPATH,'//*[@id=\"container\"]/div[' +str(i)+ ']/p[1]').text\n",
    "    titles.append(title)\n",
    "    price = driver.find_element(By.XPATH,'//*[@id=\"container\"]/div[' +str(i)+ ']/div/p[1]').text\n",
    "    prices.append(price)\n",
    "    avail = driver.find_element(By.XPATH,'//*[@id=\"container\"]/div[' +str(i)+ ']/div/p[2]').text\n",
    "    availability.append(avail)\n",
    "    review = driver.find_element(By.XPATH,'//*[@id=\"container\"]/div[' +str(i)+ ']/div/p[3]').text\n",
    "    reviews.append(review)\n",
    "    link = driver.find_element(By.XPATH,'//*[@id=\"container\"]/div[' +str(i)+ ']/p[1]/a').get_attribute('href')\n",
    "    links.append(link)\n",
    "    star_rate = driver.find_element(By.XPATH,'//*[@id=\"container\"]/div[' +str(i)+ ']/div/div').get_attribute('data-rate-star')\n",
    "    star_rates.append(star_rate)\n",
    "    \n",
    "    \n",
    "data = {'Title/Author':titles, 'Price':prices, 'Availability':availability, \n",
    "        'Reviews':reviews, 'Links':links, 'StarRating': star_rates}\n",
    "df = pd.DataFrame(data, columns=['Title/Author', 'Price', 'Availability', 'Reviews', 'Links', 'StarRating'])\n",
    "df.to_csv('books3.csv', index=False)\n",
    "df = pd.read_csv('books3.csv')\n",
    "df"
   ]
  },
  {
   "cell_type": "code",
   "execution_count": null,
   "id": "6ac9f7ef",
   "metadata": {},
   "outputs": [],
   "source": []
  },
  {
   "cell_type": "code",
   "execution_count": null,
   "id": "16e3cf64",
   "metadata": {},
   "outputs": [],
   "source": []
  },
  {
   "cell_type": "code",
   "execution_count": null,
   "id": "78df77c1",
   "metadata": {},
   "outputs": [],
   "source": []
  },
  {
   "cell_type": "code",
   "execution_count": null,
   "id": "2b275bab",
   "metadata": {},
   "outputs": [],
   "source": []
  },
  {
   "cell_type": "code",
   "execution_count": null,
   "id": "c944843c",
   "metadata": {},
   "outputs": [],
   "source": []
  },
  {
   "cell_type": "code",
   "execution_count": null,
   "id": "1a717a90",
   "metadata": {},
   "outputs": [],
   "source": []
  },
  {
   "cell_type": "code",
   "execution_count": null,
   "id": "7b4613e8",
   "metadata": {},
   "outputs": [],
   "source": []
  },
  {
   "cell_type": "markdown",
   "id": "117fc743",
   "metadata": {},
   "source": [
    "### b. How to Scroll an Infinite Scrolling Web Page using Selenium\n",
    "- The `driver.execute_script(JS)` method is used to synchronously execute JavaScript in the current window/frame.\n",
    "```\n",
    "driver.execute_script('alert(\"Hello JavaScript\")')\n",
    "```\n",
    "- The `window.scrollTo()` method is used to perform scrolling operation. The pixels to be scrolled horizontally along the x-axis and pixels to be scrolled vertically along the y-axis are passed as parameters to the method."
   ]
  },
  {
   "cell_type": "code",
   "execution_count": 51,
   "id": "08a72bb1",
   "metadata": {},
   "outputs": [
    {
     "data": {
      "text/plain": [
       "1661"
      ]
     },
     "execution_count": 51,
     "metadata": {},
     "output_type": "execute_result"
    }
   ],
   "source": [
    "driver.execute_script('return document.body.scrollHeight')"
   ]
  },
  {
   "cell_type": "code",
   "execution_count": 56,
   "id": "c71eee10",
   "metadata": {},
   "outputs": [],
   "source": [
    "driver.execute_script('window.scrollTo(0,document.body.scrollHeight)')"
   ]
  },
  {
   "cell_type": "code",
   "execution_count": 57,
   "id": "fa243e3f",
   "metadata": {},
   "outputs": [],
   "source": [
    "driver.quit()"
   ]
  },
  {
   "cell_type": "code",
   "execution_count": 58,
   "id": "e5aff7bb",
   "metadata": {},
   "outputs": [
    {
     "data": {
      "text/plain": [
       "103"
      ]
     },
     "execution_count": 58,
     "metadata": {},
     "output_type": "execute_result"
    }
   ],
   "source": [
    "from selenium.webdriver import Chrome\n",
    "from selenium.webdriver.chrome.service import Service\n",
    "import time\n",
    "\n",
    "s = Service('/Users/arif/Documents/chromedriver') \n",
    "driver = Chrome(service=s)    \n",
    "driver.get('https://arifpucit.github.io/bss2/scroll') \n",
    "driver.maximize_window()\n",
    "\n",
    "last_height =driver.execute_script('return document.body.scrollHeight')\n",
    "while True:\n",
    "    driver.execute_script('window.scrollTo(0,document.body.scrollHeight)')\n",
    "    time.sleep(2)\n",
    "    new_height =driver.execute_script('return document.body.scrollHeight')\n",
    "    if (new_height == last_height):\n",
    "        break\n",
    "    last_height = new_height\n",
    "    \n",
    "# Count of books in the entire page\n",
    "books_count = driver.find_elements(By.CLASS_NAME, 'col-sm-4')\n",
    "len(books_count)"
   ]
  },
  {
   "cell_type": "code",
   "execution_count": null,
   "id": "f61eddaa",
   "metadata": {},
   "outputs": [],
   "source": [
    "driver.quit()"
   ]
  },
  {
   "cell_type": "code",
   "execution_count": null,
   "id": "a01083e0",
   "metadata": {},
   "outputs": [],
   "source": []
  },
  {
   "cell_type": "code",
   "execution_count": null,
   "id": "eaf8f7ca",
   "metadata": {},
   "outputs": [],
   "source": []
  },
  {
   "cell_type": "code",
   "execution_count": null,
   "id": "8ade15ce",
   "metadata": {},
   "outputs": [],
   "source": []
  },
  {
   "cell_type": "markdown",
   "id": "7f6ce2b1",
   "metadata": {},
   "source": [
    "### e. Scrape all the Books using Self-Scrolling"
   ]
  },
  {
   "cell_type": "code",
   "execution_count": 59,
   "id": "7b8d984d",
   "metadata": {},
   "outputs": [
    {
     "data": {
      "text/html": [
       "<div>\n",
       "<style scoped>\n",
       "    .dataframe tbody tr th:only-of-type {\n",
       "        vertical-align: middle;\n",
       "    }\n",
       "\n",
       "    .dataframe tbody tr th {\n",
       "        vertical-align: top;\n",
       "    }\n",
       "\n",
       "    .dataframe thead th {\n",
       "        text-align: right;\n",
       "    }\n",
       "</style>\n",
       "<table border=\"1\" class=\"dataframe\">\n",
       "  <thead>\n",
       "    <tr style=\"text-align: right;\">\n",
       "      <th></th>\n",
       "      <th>Title/Author</th>\n",
       "      <th>Price</th>\n",
       "      <th>Availability</th>\n",
       "      <th>Reviews</th>\n",
       "      <th>Links</th>\n",
       "      <th>StarRating</th>\n",
       "    </tr>\n",
       "  </thead>\n",
       "  <tbody>\n",
       "    <tr>\n",
       "      <th>0</th>\n",
       "      <td>Operating System Concepts\\nBy Avi Silberschatz</td>\n",
       "      <td>Rs.8848</td>\n",
       "      <td>In stock</td>\n",
       "      <td>6 Reviews</td>\n",
       "      <td>https://www.amazon.com/Operating-System-Concep...</td>\n",
       "      <td>4.37</td>\n",
       "    </tr>\n",
       "    <tr>\n",
       "      <th>1</th>\n",
       "      <td>UNIX The Textbook\\nBy Syed Mansoor Sarwar</td>\n",
       "      <td>Rs.5207</td>\n",
       "      <td>Not in stock</td>\n",
       "      <td>3 Reviews</td>\n",
       "      <td>https://www.google.com/search?q=Unix+the+textb...</td>\n",
       "      <td>3.37</td>\n",
       "    </tr>\n",
       "    <tr>\n",
       "      <th>2</th>\n",
       "      <td>Taxonomy of IDS\\nBy Dr. Arif Butt</td>\n",
       "      <td>Rs.5153</td>\n",
       "      <td>Not in stock</td>\n",
       "      <td>119 Reviews</td>\n",
       "      <td>https://www.amazon.in/Taxonomy-Ids-Arif-Butt/d...</td>\n",
       "      <td>5.00</td>\n",
       "    </tr>\n",
       "    <tr>\n",
       "      <th>3</th>\n",
       "      <td>Things Fall Apart\\nBy Chinua Achebe</td>\n",
       "      <td>Rs.6461</td>\n",
       "      <td>Not in stock</td>\n",
       "      <td>138 Reviews</td>\n",
       "      <td>https://en.wikipedia.org/wiki/Things_Fall_Apart</td>\n",
       "      <td>2.43</td>\n",
       "    </tr>\n",
       "    <tr>\n",
       "      <th>4</th>\n",
       "      <td>Fairy tales\\nBy Hans Christian Andersen</td>\n",
       "      <td>Rs.3332</td>\n",
       "      <td>Not in stock</td>\n",
       "      <td>71 Reviews</td>\n",
       "      <td>https://en.wikipedia.org/wiki/Fairy_Tales_Told...</td>\n",
       "      <td>1.26</td>\n",
       "    </tr>\n",
       "    <tr>\n",
       "      <th>...</th>\n",
       "      <td>...</td>\n",
       "      <td>...</td>\n",
       "      <td>...</td>\n",
       "      <td>...</td>\n",
       "      <td>...</td>\n",
       "      <td>...</td>\n",
       "    </tr>\n",
       "    <tr>\n",
       "      <th>98</th>\n",
       "      <td>Mahabharata\\nBy Vyasa</td>\n",
       "      <td>Rs.9178</td>\n",
       "      <td>In stock</td>\n",
       "      <td>53 Reviews</td>\n",
       "      <td>https://en.wikipedia.org/wiki/Mahabharata</td>\n",
       "      <td>4.62</td>\n",
       "    </tr>\n",
       "    <tr>\n",
       "      <th>99</th>\n",
       "      <td>Leaves of Grass\\nBy Walt Whitman</td>\n",
       "      <td>Rs.6565</td>\n",
       "      <td>Not in stock</td>\n",
       "      <td>194 Reviews</td>\n",
       "      <td>https://en.wikipedia.org/wiki/Leaves_of_Grass</td>\n",
       "      <td>4.97</td>\n",
       "    </tr>\n",
       "    <tr>\n",
       "      <th>100</th>\n",
       "      <td>Mrs Dalloway\\nBy Virginia Woolf</td>\n",
       "      <td>Rs.8501</td>\n",
       "      <td>In stock</td>\n",
       "      <td>135 Reviews</td>\n",
       "      <td>https://en.wikipedia.org/wiki/Mrs_Dalloway</td>\n",
       "      <td>3.78</td>\n",
       "    </tr>\n",
       "    <tr>\n",
       "      <th>101</th>\n",
       "      <td>To the Lighthouse\\nBy Virginia Woolf</td>\n",
       "      <td>Rs.6537</td>\n",
       "      <td>Not in stock</td>\n",
       "      <td>66 Reviews</td>\n",
       "      <td>https://en.wikipedia.org/wiki/To_the_Lighthouse</td>\n",
       "      <td>4.47</td>\n",
       "    </tr>\n",
       "    <tr>\n",
       "      <th>102</th>\n",
       "      <td>Memoirs of Hadrian\\nBy Marguerite Yourcenar</td>\n",
       "      <td>Rs.9571</td>\n",
       "      <td>Not in stock</td>\n",
       "      <td>134 Reviews</td>\n",
       "      <td>https://en.wikipedia.org/wiki/Memoirs_of_Hadrian</td>\n",
       "      <td>2.70</td>\n",
       "    </tr>\n",
       "  </tbody>\n",
       "</table>\n",
       "<p>103 rows × 6 columns</p>\n",
       "</div>"
      ],
      "text/plain": [
       "                                       Title/Author    Price  Availability  \\\n",
       "0    Operating System Concepts\\nBy Avi Silberschatz  Rs.8848      In stock   \n",
       "1         UNIX The Textbook\\nBy Syed Mansoor Sarwar  Rs.5207  Not in stock   \n",
       "2                 Taxonomy of IDS\\nBy Dr. Arif Butt  Rs.5153  Not in stock   \n",
       "3               Things Fall Apart\\nBy Chinua Achebe  Rs.6461  Not in stock   \n",
       "4           Fairy tales\\nBy Hans Christian Andersen  Rs.3332  Not in stock   \n",
       "..                                              ...      ...           ...   \n",
       "98                            Mahabharata\\nBy Vyasa  Rs.9178      In stock   \n",
       "99                 Leaves of Grass\\nBy Walt Whitman  Rs.6565  Not in stock   \n",
       "100                 Mrs Dalloway\\nBy Virginia Woolf  Rs.8501      In stock   \n",
       "101            To the Lighthouse\\nBy Virginia Woolf  Rs.6537  Not in stock   \n",
       "102     Memoirs of Hadrian\\nBy Marguerite Yourcenar  Rs.9571  Not in stock   \n",
       "\n",
       "         Reviews                                              Links  \\\n",
       "0      6 Reviews  https://www.amazon.com/Operating-System-Concep...   \n",
       "1      3 Reviews  https://www.google.com/search?q=Unix+the+textb...   \n",
       "2    119 Reviews  https://www.amazon.in/Taxonomy-Ids-Arif-Butt/d...   \n",
       "3    138 Reviews    https://en.wikipedia.org/wiki/Things_Fall_Apart   \n",
       "4     71 Reviews  https://en.wikipedia.org/wiki/Fairy_Tales_Told...   \n",
       "..           ...                                                ...   \n",
       "98    53 Reviews          https://en.wikipedia.org/wiki/Mahabharata   \n",
       "99   194 Reviews      https://en.wikipedia.org/wiki/Leaves_of_Grass   \n",
       "100  135 Reviews         https://en.wikipedia.org/wiki/Mrs_Dalloway   \n",
       "101   66 Reviews    https://en.wikipedia.org/wiki/To_the_Lighthouse   \n",
       "102  134 Reviews   https://en.wikipedia.org/wiki/Memoirs_of_Hadrian   \n",
       "\n",
       "     StarRating  \n",
       "0          4.37  \n",
       "1          3.37  \n",
       "2          5.00  \n",
       "3          2.43  \n",
       "4          1.26  \n",
       "..          ...  \n",
       "98         4.62  \n",
       "99         4.97  \n",
       "100        3.78  \n",
       "101        4.47  \n",
       "102        2.70  \n",
       "\n",
       "[103 rows x 6 columns]"
      ]
     },
     "execution_count": 59,
     "metadata": {},
     "output_type": "execute_result"
    }
   ],
   "source": [
    "from selenium.webdriver import Chrome\n",
    "from selenium.webdriver.chrome.service import Service\n",
    "from selenium.webdriver.common.by import By\n",
    "import time\n",
    "import pandas as pd\n",
    "\n",
    "\n",
    "s = Service('/Users/arif/Documents/chromedriver') \n",
    "driver = Chrome(service=s)    \n",
    "driver.get('https://arifpucit.github.io/bss2/scroll') \n",
    "driver.maximize_window()\n",
    "\n",
    "#Scroll the entire page and then starts scraping\n",
    "last_height =driver.execute_script('return document.body.scrollHeight')\n",
    "while True:\n",
    "    driver.execute_script('window.scrollTo(0,document.body.scrollHeight)')\n",
    "    time.sleep(2)\n",
    "    new_height =driver.execute_script('return document.body.scrollHeight')\n",
    "    if (new_height == last_height):\n",
    "        break\n",
    "    last_height = new_height\n",
    "\n",
    "\n",
    "titles = []\n",
    "prices = []\n",
    "availability=[]\n",
    "reviews=[]\n",
    "links=[]\n",
    "star_rates =[]\n",
    "\n",
    "books = driver.find_elements(By.CLASS_NAME, 'col-sm-4')\n",
    "books_count = len(books)\n",
    "for i in range(1,books_count+1):\n",
    "    title = driver.find_element(By.XPATH,'//*[@id=\"container\"]/div[' +str(i)+ ']/p[1]').text\n",
    "    titles.append(title)\n",
    "    price = driver.find_element(By.XPATH,'//*[@id=\"container\"]/div[' +str(i)+ ']/div/p[1]').text\n",
    "    prices.append(price)\n",
    "    avail = driver.find_element(By.XPATH,'//*[@id=\"container\"]/div[' +str(i)+ ']/div/p[2]').text\n",
    "    availability.append(avail)\n",
    "    review = driver.find_element(By.XPATH,'//*[@id=\"container\"]/div[' +str(i)+ ']/div/p[3]').text\n",
    "    reviews.append(review)\n",
    "    link = driver.find_element(By.XPATH,'//*[@id=\"container\"]/div[' +str(i)+ ']/p[1]/a').get_attribute('href')\n",
    "    links.append(link)\n",
    "    star_rate = driver.find_element(By.XPATH,'//*[@id=\"container\"]/div[' +str(i)+ ']/div/div').get_attribute('data-rate-star')\n",
    "    star_rate = round(float(star_rate),2)\n",
    "    star_rates.append(star_rate)\n",
    "    \n",
    "    \n",
    "data = {'Title/Author':titles, 'Price':prices, 'Availability':availability, \n",
    "        'Reviews':reviews, 'Links':links, 'StarRating': star_rates}\n",
    "df = pd.DataFrame(data, columns=['Title/Author', 'Price', 'Availability', 'Reviews', 'Links', 'StarRating'])\n",
    "df.to_csv('books3.csv', index=False)\n",
    "df = pd.read_csv('books3.csv')\n",
    "df"
   ]
  },
  {
   "cell_type": "code",
   "execution_count": 60,
   "id": "0e9b6a02",
   "metadata": {},
   "outputs": [],
   "source": [
    "driver.quit()"
   ]
  },
  {
   "cell_type": "code",
   "execution_count": null,
   "id": "9dc44e36",
   "metadata": {},
   "outputs": [],
   "source": []
  },
  {
   "cell_type": "code",
   "execution_count": null,
   "id": "50d67eb7",
   "metadata": {},
   "outputs": [],
   "source": []
  },
  {
   "cell_type": "code",
   "execution_count": null,
   "id": "5d6cb878",
   "metadata": {},
   "outputs": [],
   "source": []
  },
  {
   "cell_type": "code",
   "execution_count": null,
   "id": "768480c8",
   "metadata": {},
   "outputs": [],
   "source": []
  },
  {
   "cell_type": "code",
   "execution_count": null,
   "id": "78745469",
   "metadata": {},
   "outputs": [],
   "source": []
  },
  {
   "cell_type": "code",
   "execution_count": null,
   "id": "6d3bb265",
   "metadata": {},
   "outputs": [],
   "source": []
  },
  {
   "cell_type": "code",
   "execution_count": null,
   "id": "d6edb6b7",
   "metadata": {},
   "outputs": [],
   "source": []
  },
  {
   "cell_type": "code",
   "execution_count": null,
   "id": "61ec589c",
   "metadata": {},
   "outputs": [],
   "source": []
  },
  {
   "cell_type": "markdown",
   "id": "67f21cce",
   "metadata": {},
   "source": [
    "## 6. Example 4: Scraping Multiple Web Pages that Employ Pagination\n",
    "- https://arifpucit.github.io/bss2/pagination/"
   ]
  },
  {
   "cell_type": "code",
   "execution_count": null,
   "id": "823e83c8",
   "metadata": {},
   "outputs": [],
   "source": []
  },
  {
   "cell_type": "code",
   "execution_count": null,
   "id": "20d33892",
   "metadata": {},
   "outputs": [],
   "source": []
  },
  {
   "cell_type": "code",
   "execution_count": null,
   "id": "980fec0c",
   "metadata": {},
   "outputs": [],
   "source": []
  },
  {
   "cell_type": "code",
   "execution_count": null,
   "id": "173ef064",
   "metadata": {},
   "outputs": [],
   "source": []
  },
  {
   "cell_type": "code",
   "execution_count": null,
   "id": "59423a10",
   "metadata": {},
   "outputs": [],
   "source": []
  },
  {
   "cell_type": "code",
   "execution_count": null,
   "id": "7b819f0f",
   "metadata": {},
   "outputs": [],
   "source": []
  },
  {
   "cell_type": "markdown",
   "id": "d680d530",
   "metadata": {},
   "source": [
    "### a. Fetch Contents of First Page"
   ]
  },
  {
   "cell_type": "code",
   "execution_count": 61,
   "id": "bcc02572",
   "metadata": {},
   "outputs": [
    {
     "data": {
      "text/html": [
       "<div>\n",
       "<style scoped>\n",
       "    .dataframe tbody tr th:only-of-type {\n",
       "        vertical-align: middle;\n",
       "    }\n",
       "\n",
       "    .dataframe tbody tr th {\n",
       "        vertical-align: top;\n",
       "    }\n",
       "\n",
       "    .dataframe thead th {\n",
       "        text-align: right;\n",
       "    }\n",
       "</style>\n",
       "<table border=\"1\" class=\"dataframe\">\n",
       "  <thead>\n",
       "    <tr style=\"text-align: right;\">\n",
       "      <th></th>\n",
       "      <th>Title/Author</th>\n",
       "      <th>Price</th>\n",
       "      <th>Availability</th>\n",
       "      <th>Reviews</th>\n",
       "      <th>Links</th>\n",
       "      <th>StarRating</th>\n",
       "    </tr>\n",
       "  </thead>\n",
       "  <tbody>\n",
       "    <tr>\n",
       "      <th>0</th>\n",
       "      <td>Operating System Concepts\\nBy Avi Silberschatz</td>\n",
       "      <td>Rs.6697</td>\n",
       "      <td>Not in stock</td>\n",
       "      <td>64 Reviews</td>\n",
       "      <td>https://www.amazon.com/Operating-System-Concep...</td>\n",
       "      <td>1.06</td>\n",
       "    </tr>\n",
       "    <tr>\n",
       "      <th>1</th>\n",
       "      <td>UNIX The Textbook\\nBy Syed Mansoor Sarwar</td>\n",
       "      <td>Rs.4250</td>\n",
       "      <td>In stock</td>\n",
       "      <td>144 Reviews</td>\n",
       "      <td>https://www.google.com/search?q=Unix+the+textb...</td>\n",
       "      <td>3.02</td>\n",
       "    </tr>\n",
       "    <tr>\n",
       "      <th>2</th>\n",
       "      <td>Taxonomy of IDS\\nBy Dr. Arif Butt</td>\n",
       "      <td>Rs.6407</td>\n",
       "      <td>Not in stock</td>\n",
       "      <td>65 Reviews</td>\n",
       "      <td>https://www.amazon.in/Taxonomy-Ids-Arif-Butt/d...</td>\n",
       "      <td>1.89</td>\n",
       "    </tr>\n",
       "    <tr>\n",
       "      <th>3</th>\n",
       "      <td>Things Fall Apart\\nBy Chinua Achebe</td>\n",
       "      <td>Rs.6912</td>\n",
       "      <td>In stock</td>\n",
       "      <td>29 Reviews</td>\n",
       "      <td>https://en.wikipedia.org/wiki/Things_Fall_Apart</td>\n",
       "      <td>5.00</td>\n",
       "    </tr>\n",
       "    <tr>\n",
       "      <th>4</th>\n",
       "      <td>Fairy tales\\nBy Hans Christian Andersen</td>\n",
       "      <td>Rs.7922</td>\n",
       "      <td>Not in stock</td>\n",
       "      <td>52 Reviews</td>\n",
       "      <td>https://en.wikipedia.org/wiki/Fairy_Tales_Told...</td>\n",
       "      <td>4.86</td>\n",
       "    </tr>\n",
       "    <tr>\n",
       "      <th>5</th>\n",
       "      <td>The Divine Comedy\\nBy Dante Alighieri</td>\n",
       "      <td>Rs.6744</td>\n",
       "      <td>In stock</td>\n",
       "      <td>17 Reviews</td>\n",
       "      <td>https://en.wikipedia.org/wiki/Divine_Comedy</td>\n",
       "      <td>0.00</td>\n",
       "    </tr>\n",
       "    <tr>\n",
       "      <th>6</th>\n",
       "      <td>The Epic Of Gilgamesh\\nBy Unknown</td>\n",
       "      <td>Rs.6806</td>\n",
       "      <td>In stock</td>\n",
       "      <td>93 Reviews</td>\n",
       "      <td>https://en.wikipedia.org/wiki/Epic_of_Gilgamesh</td>\n",
       "      <td>5.00</td>\n",
       "    </tr>\n",
       "    <tr>\n",
       "      <th>7</th>\n",
       "      <td>The Book Of Job\\nBy Unknown</td>\n",
       "      <td>Rs.8523</td>\n",
       "      <td>Not in stock</td>\n",
       "      <td>168 Reviews</td>\n",
       "      <td>https://en.wikipedia.org/wiki/Book_of_Job</td>\n",
       "      <td>4.06</td>\n",
       "    </tr>\n",
       "    <tr>\n",
       "      <th>8</th>\n",
       "      <td>One Thousand and One Nights\\nBy Unknown</td>\n",
       "      <td>Rs.5781</td>\n",
       "      <td>In stock</td>\n",
       "      <td>149 Reviews</td>\n",
       "      <td>https://en.wikipedia.org/wiki/One_Thousand_and...</td>\n",
       "      <td>3.47</td>\n",
       "    </tr>\n",
       "    <tr>\n",
       "      <th>9</th>\n",
       "      <td>Njál's Saga\\nBy Unknown</td>\n",
       "      <td>Rs.6277</td>\n",
       "      <td>In stock</td>\n",
       "      <td>99 Reviews</td>\n",
       "      <td>https://en.wikipedia.org/wiki/Nj%C3%A1ls_saga</td>\n",
       "      <td>2.59</td>\n",
       "    </tr>\n",
       "    <tr>\n",
       "      <th>10</th>\n",
       "      <td>Pride and Prejudice\\nBy Jane Austen</td>\n",
       "      <td>Rs.4018</td>\n",
       "      <td>Not in stock</td>\n",
       "      <td>180 Reviews</td>\n",
       "      <td>https://en.wikipedia.org/wiki/Pride_and_Prejudice</td>\n",
       "      <td>2.13</td>\n",
       "    </tr>\n",
       "    <tr>\n",
       "      <th>11</th>\n",
       "      <td>Le Père Goriot\\nBy Honoré de Balzac</td>\n",
       "      <td>Rs.4309</td>\n",
       "      <td>Not in stock</td>\n",
       "      <td>32 Reviews</td>\n",
       "      <td>https://en.wikipedia.org/wiki/Le_P%C3%A8re_Goriot</td>\n",
       "      <td>0.00</td>\n",
       "    </tr>\n",
       "    <tr>\n",
       "      <th>12</th>\n",
       "      <td>Molloy, Malone Dies, The Unnamable, the trilog...</td>\n",
       "      <td>Rs.7752</td>\n",
       "      <td>In stock</td>\n",
       "      <td>163 Reviews</td>\n",
       "      <td>https://en.wikipedia.org/wiki/Molloy_(novel)</td>\n",
       "      <td>2.90</td>\n",
       "    </tr>\n",
       "    <tr>\n",
       "      <th>13</th>\n",
       "      <td>The Decameron\\nBy Giovanni Boccaccio</td>\n",
       "      <td>Rs.6869</td>\n",
       "      <td>Not in stock</td>\n",
       "      <td>141 Reviews</td>\n",
       "      <td>https://en.wikipedia.org/wiki/The_Decameron</td>\n",
       "      <td>3.24</td>\n",
       "    </tr>\n",
       "    <tr>\n",
       "      <th>14</th>\n",
       "      <td>Ficciones\\nBy Jorge Luis Borges</td>\n",
       "      <td>Rs.9117</td>\n",
       "      <td>In stock</td>\n",
       "      <td>120 Reviews</td>\n",
       "      <td>https://en.wikipedia.org/wiki/Ficciones</td>\n",
       "      <td>2.38</td>\n",
       "    </tr>\n",
       "  </tbody>\n",
       "</table>\n",
       "</div>"
      ],
      "text/plain": [
       "                                         Title/Author    Price  Availability  \\\n",
       "0      Operating System Concepts\\nBy Avi Silberschatz  Rs.6697  Not in stock   \n",
       "1           UNIX The Textbook\\nBy Syed Mansoor Sarwar  Rs.4250      In stock   \n",
       "2                   Taxonomy of IDS\\nBy Dr. Arif Butt  Rs.6407  Not in stock   \n",
       "3                 Things Fall Apart\\nBy Chinua Achebe  Rs.6912      In stock   \n",
       "4             Fairy tales\\nBy Hans Christian Andersen  Rs.7922  Not in stock   \n",
       "5               The Divine Comedy\\nBy Dante Alighieri  Rs.6744      In stock   \n",
       "6                   The Epic Of Gilgamesh\\nBy Unknown  Rs.6806      In stock   \n",
       "7                         The Book Of Job\\nBy Unknown  Rs.8523  Not in stock   \n",
       "8             One Thousand and One Nights\\nBy Unknown  Rs.5781      In stock   \n",
       "9                             Njál's Saga\\nBy Unknown  Rs.6277      In stock   \n",
       "10                Pride and Prejudice\\nBy Jane Austen  Rs.4018  Not in stock   \n",
       "11                Le Père Goriot\\nBy Honoré de Balzac  Rs.4309  Not in stock   \n",
       "12  Molloy, Malone Dies, The Unnamable, the trilog...  Rs.7752      In stock   \n",
       "13               The Decameron\\nBy Giovanni Boccaccio  Rs.6869  Not in stock   \n",
       "14                    Ficciones\\nBy Jorge Luis Borges  Rs.9117      In stock   \n",
       "\n",
       "        Reviews                                              Links  StarRating  \n",
       "0    64 Reviews  https://www.amazon.com/Operating-System-Concep...        1.06  \n",
       "1   144 Reviews  https://www.google.com/search?q=Unix+the+textb...        3.02  \n",
       "2    65 Reviews  https://www.amazon.in/Taxonomy-Ids-Arif-Butt/d...        1.89  \n",
       "3    29 Reviews    https://en.wikipedia.org/wiki/Things_Fall_Apart        5.00  \n",
       "4    52 Reviews  https://en.wikipedia.org/wiki/Fairy_Tales_Told...        4.86  \n",
       "5    17 Reviews        https://en.wikipedia.org/wiki/Divine_Comedy        0.00  \n",
       "6    93 Reviews    https://en.wikipedia.org/wiki/Epic_of_Gilgamesh        5.00  \n",
       "7   168 Reviews          https://en.wikipedia.org/wiki/Book_of_Job        4.06  \n",
       "8   149 Reviews  https://en.wikipedia.org/wiki/One_Thousand_and...        3.47  \n",
       "9    99 Reviews      https://en.wikipedia.org/wiki/Nj%C3%A1ls_saga        2.59  \n",
       "10  180 Reviews  https://en.wikipedia.org/wiki/Pride_and_Prejudice        2.13  \n",
       "11   32 Reviews  https://en.wikipedia.org/wiki/Le_P%C3%A8re_Goriot        0.00  \n",
       "12  163 Reviews       https://en.wikipedia.org/wiki/Molloy_(novel)        2.90  \n",
       "13  141 Reviews        https://en.wikipedia.org/wiki/The_Decameron        3.24  \n",
       "14  120 Reviews            https://en.wikipedia.org/wiki/Ficciones        2.38  "
      ]
     },
     "execution_count": 61,
     "metadata": {},
     "output_type": "execute_result"
    }
   ],
   "source": [
    "from selenium.webdriver import Chrome\n",
    "from selenium.webdriver.chrome.service import Service\n",
    "from selenium.webdriver.common.by import By\n",
    "import time\n",
    "import pandas as pd\n",
    "\n",
    "titles = []\n",
    "prices = []\n",
    "availability=[]\n",
    "reviews=[]\n",
    "links=[]\n",
    "star_rates =[]\n",
    "\n",
    "def books():\n",
    "    time.sleep(2)\n",
    "    books = driver.find_elements(By.CLASS_NAME, 'col-sm-4')\n",
    "    books_count = len(books)\n",
    "    for i in range(1,books_count+1):\n",
    "        title = driver.find_element(By.XPATH,'//*[@id=\"container\"]/div[' +str(i)+ ']/p[1]').text\n",
    "        titles.append(title)\n",
    "        price = driver.find_element(By.XPATH,'//*[@id=\"container\"]/div[' +str(i)+ ']/div/p[1]').text\n",
    "        prices.append(price)\n",
    "        avail = driver.find_element(By.XPATH,'//*[@id=\"container\"]/div[' +str(i)+ ']/div/p[2]').text\n",
    "        availability.append(avail)\n",
    "        review = driver.find_element(By.XPATH,'//*[@id=\"container\"]/div[' +str(i)+ ']/div/p[3]').text\n",
    "        reviews.append(review)\n",
    "        link = driver.find_element(By.XPATH,'//*[@id=\"container\"]/div[' +str(i)+ ']/p[1]/a').get_attribute('href')\n",
    "        links.append(link)\n",
    "        star_rate = driver.find_element(By.XPATH,'//*[@id=\"container\"]/div[' +str(i)+ ']/div/div').get_attribute('data-rate-star')\n",
    "        star_rate = round(float(star_rate),2) # fixing our rating to only 2 floatng points\n",
    "        star_rates.append(star_rate)\n",
    "    \n",
    "\n",
    "s = Service('/Users/arif/Documents/chromedriver') \n",
    "driver = Chrome(service=s)       \n",
    "url  = 'https://arifpucit.github.io/bss2/pagination'\n",
    "driver.get(url)\n",
    "driver.maximize_window()\n",
    "\n",
    "books()\n",
    "\n",
    "# Writing in the file\n",
    "data = {'Title/Author':titles, 'Price':prices, 'Availability':availability, \n",
    "        'Reviews':reviews, 'Links':links, 'StarRating': star_rates}\n",
    "df = pd.DataFrame(data, columns=['Title/Author', 'Price', 'Availability', 'Reviews', 'Links', 'StarRating'])\n",
    "df.to_csv('books4.csv', index=False)\n",
    "df = pd.read_csv('books4.csv')\n",
    "df\n"
   ]
  },
  {
   "cell_type": "code",
   "execution_count": 62,
   "id": "aa0153d7",
   "metadata": {},
   "outputs": [],
   "source": [
    "driver.quit()"
   ]
  },
  {
   "cell_type": "code",
   "execution_count": null,
   "id": "03ffbc05",
   "metadata": {},
   "outputs": [],
   "source": []
  },
  {
   "cell_type": "code",
   "execution_count": null,
   "id": "e80b2a42",
   "metadata": {},
   "outputs": [],
   "source": []
  },
  {
   "cell_type": "code",
   "execution_count": null,
   "id": "c08078b3",
   "metadata": {},
   "outputs": [],
   "source": []
  },
  {
   "cell_type": "markdown",
   "id": "13103a81",
   "metadata": {},
   "source": [
    "### b. Logic to Iterate from First Page to Last Page in Pagination\n",
    "- At times we need to wait for all the web elements to be properly displayed on a web page. There are two ways to wait:\n",
    "    - Use  `time.sleep(ARBITRARY_TIME)` method.\n",
    "    - Use  `WebDriverWait()` method.\n",
    "- If you use `time.sleep()` you will probably use an arbitrary value. The problem is, you're either waiting for too long or not enough. Also the website can load slowly on your local wifi internet connection, but will be 10 times faster on your cloud server. \n",
    "- So better solution is use the  WebDriverWait() method, that will wait for the exact amount of time necessary for your element/data to be loaded.\n",
    "- There are many interesting expected conditions on which you can wait, like:\n",
    "    - `presence_of_element_located`\n",
    "    - `element_to_be_clickable`\n",
    "    - `text_to_be_present_in_element`\n",
    "    - `element_to_be_clickable`"
   ]
  },
  {
   "cell_type": "code",
   "execution_count": 63,
   "id": "5cd61e68",
   "metadata": {},
   "outputs": [],
   "source": [
    "from selenium.webdriver import Chrome\n",
    "from selenium.webdriver.chrome.service import Service\n",
    "from selenium.webdriver.common.by import By\n",
    "import time\n",
    "import pandas as pd\n",
    "# new header files\n",
    "from selenium.webdriver.support.ui import WebDriverWait\n",
    "from selenium.webdriver.support import expected_conditions as EC\n",
    "\n",
    "s = Service('/Users/arif/Documents/chromedriver') \n",
    "driver = Chrome(service=s)       \n",
    "url  = 'https://arifpucit.github.io/bss2/pagination'\n",
    "driver.get(url)\n",
    "driver.maximize_window()"
   ]
  },
  {
   "cell_type": "code",
   "execution_count": null,
   "id": "0c6f6cf8",
   "metadata": {},
   "outputs": [],
   "source": []
  },
  {
   "cell_type": "code",
   "execution_count": null,
   "id": "de22b8d0",
   "metadata": {},
   "outputs": [],
   "source": []
  },
  {
   "cell_type": "code",
   "execution_count": 64,
   "id": "09c2ea4d",
   "metadata": {},
   "outputs": [
    {
     "name": "stdout",
     "output_type": "stream",
     "text": [
      "Successfully, reached on the last page\n"
     ]
    }
   ],
   "source": [
    "while(True):  \n",
    "        WebDriverWait(driver, 20).until(EC.presence_of_element_located((By.CSS_SELECTOR, '.page-item'))) \n",
    "        try:    \n",
    "            driver.find_element(By.XPATH,'//*[@id=\"page_8\"]')\n",
    "            driver.execute_script(\"arguments[0].scrollIntoView();\", driver.find_element(By.XPATH,'//*[@id=\"page_8\"]'))\n",
    "            try:\n",
    "                time.sleep(2)\n",
    "                driver.find_element(By.CSS_SELECTOR,'.page-item.disabled') \n",
    "                break\n",
    "            except:\n",
    "                driver.find_element(By.XPATH,'//*[@id=\"page_8\"]').click()  \n",
    "        except:\n",
    "            break\n",
    "\n",
    "print(\"Successfully, reached on the last page\")\n"
   ]
  },
  {
   "cell_type": "code",
   "execution_count": null,
   "id": "6b2dd9a1",
   "metadata": {},
   "outputs": [],
   "source": [
    "driver.quit()"
   ]
  },
  {
   "cell_type": "code",
   "execution_count": null,
   "id": "934bdea4",
   "metadata": {},
   "outputs": [],
   "source": []
  },
  {
   "cell_type": "code",
   "execution_count": null,
   "id": "e49e1ae6",
   "metadata": {},
   "outputs": [],
   "source": []
  },
  {
   "cell_type": "code",
   "execution_count": null,
   "id": "3cf50174",
   "metadata": {},
   "outputs": [],
   "source": []
  },
  {
   "cell_type": "code",
   "execution_count": null,
   "id": "fbdc0056",
   "metadata": {},
   "outputs": [],
   "source": []
  },
  {
   "cell_type": "markdown",
   "id": "94deca1d",
   "metadata": {},
   "source": [
    "### c. Scrape all the Books using Pagination"
   ]
  },
  {
   "cell_type": "code",
   "execution_count": 65,
   "id": "b2276e1e",
   "metadata": {},
   "outputs": [
    {
     "data": {
      "text/html": [
       "<div>\n",
       "<style scoped>\n",
       "    .dataframe tbody tr th:only-of-type {\n",
       "        vertical-align: middle;\n",
       "    }\n",
       "\n",
       "    .dataframe tbody tr th {\n",
       "        vertical-align: top;\n",
       "    }\n",
       "\n",
       "    .dataframe thead th {\n",
       "        text-align: right;\n",
       "    }\n",
       "</style>\n",
       "<table border=\"1\" class=\"dataframe\">\n",
       "  <thead>\n",
       "    <tr style=\"text-align: right;\">\n",
       "      <th></th>\n",
       "      <th>Title/Author</th>\n",
       "      <th>Price</th>\n",
       "      <th>Availability</th>\n",
       "      <th>Reviews</th>\n",
       "      <th>Links</th>\n",
       "      <th>StarRating</th>\n",
       "    </tr>\n",
       "  </thead>\n",
       "  <tbody>\n",
       "    <tr>\n",
       "      <th>0</th>\n",
       "      <td>Operating System Concepts\\nBy Avi Silberschatz</td>\n",
       "      <td>Rs.3792</td>\n",
       "      <td>In stock</td>\n",
       "      <td>76 Reviews</td>\n",
       "      <td>https://www.amazon.com/Operating-System-Concep...</td>\n",
       "      <td>4.29</td>\n",
       "    </tr>\n",
       "    <tr>\n",
       "      <th>1</th>\n",
       "      <td>UNIX The Textbook\\nBy Syed Mansoor Sarwar</td>\n",
       "      <td>Rs.3410</td>\n",
       "      <td>Not in stock</td>\n",
       "      <td>70 Reviews</td>\n",
       "      <td>https://www.google.com/search?q=Unix+the+textb...</td>\n",
       "      <td>0.00</td>\n",
       "    </tr>\n",
       "    <tr>\n",
       "      <th>2</th>\n",
       "      <td>Taxonomy of IDS\\nBy Dr. Arif Butt</td>\n",
       "      <td>Rs.3218</td>\n",
       "      <td>In stock</td>\n",
       "      <td>187 Reviews</td>\n",
       "      <td>https://www.amazon.in/Taxonomy-Ids-Arif-Butt/d...</td>\n",
       "      <td>4.49</td>\n",
       "    </tr>\n",
       "    <tr>\n",
       "      <th>3</th>\n",
       "      <td>Things Fall Apart\\nBy Chinua Achebe</td>\n",
       "      <td>Rs.8480</td>\n",
       "      <td>Not in stock</td>\n",
       "      <td>175 Reviews</td>\n",
       "      <td>https://en.wikipedia.org/wiki/Things_Fall_Apart</td>\n",
       "      <td>3.64</td>\n",
       "    </tr>\n",
       "    <tr>\n",
       "      <th>4</th>\n",
       "      <td>Fairy tales\\nBy Hans Christian Andersen</td>\n",
       "      <td>Rs.8533</td>\n",
       "      <td>Not in stock</td>\n",
       "      <td>194 Reviews</td>\n",
       "      <td>https://en.wikipedia.org/wiki/Fairy_Tales_Told...</td>\n",
       "      <td>3.43</td>\n",
       "    </tr>\n",
       "    <tr>\n",
       "      <th>...</th>\n",
       "      <td>...</td>\n",
       "      <td>...</td>\n",
       "      <td>...</td>\n",
       "      <td>...</td>\n",
       "      <td>...</td>\n",
       "      <td>...</td>\n",
       "    </tr>\n",
       "    <tr>\n",
       "      <th>98</th>\n",
       "      <td>Mahabharata\\nBy Vyasa</td>\n",
       "      <td>Rs.9088</td>\n",
       "      <td>Not in stock</td>\n",
       "      <td>88 Reviews</td>\n",
       "      <td>https://en.wikipedia.org/wiki/Mahabharata</td>\n",
       "      <td>4.56</td>\n",
       "    </tr>\n",
       "    <tr>\n",
       "      <th>99</th>\n",
       "      <td>Leaves of Grass\\nBy Walt Whitman</td>\n",
       "      <td>Rs.9416</td>\n",
       "      <td>Not in stock</td>\n",
       "      <td>68 Reviews</td>\n",
       "      <td>https://en.wikipedia.org/wiki/Leaves_of_Grass</td>\n",
       "      <td>4.85</td>\n",
       "    </tr>\n",
       "    <tr>\n",
       "      <th>100</th>\n",
       "      <td>Mrs Dalloway\\nBy Virginia Woolf</td>\n",
       "      <td>Rs.3460</td>\n",
       "      <td>Not in stock</td>\n",
       "      <td>18 Reviews</td>\n",
       "      <td>https://en.wikipedia.org/wiki/Mrs_Dalloway</td>\n",
       "      <td>4.51</td>\n",
       "    </tr>\n",
       "    <tr>\n",
       "      <th>101</th>\n",
       "      <td>To the Lighthouse\\nBy Virginia Woolf</td>\n",
       "      <td>Rs.7150</td>\n",
       "      <td>Not in stock</td>\n",
       "      <td>137 Reviews</td>\n",
       "      <td>https://en.wikipedia.org/wiki/To_the_Lighthouse</td>\n",
       "      <td>0.00</td>\n",
       "    </tr>\n",
       "    <tr>\n",
       "      <th>102</th>\n",
       "      <td>Memoirs of Hadrian\\nBy Marguerite Yourcenar</td>\n",
       "      <td>Rs.6405</td>\n",
       "      <td>Not in stock</td>\n",
       "      <td>19 Reviews</td>\n",
       "      <td>https://en.wikipedia.org/wiki/Memoirs_of_Hadrian</td>\n",
       "      <td>2.18</td>\n",
       "    </tr>\n",
       "  </tbody>\n",
       "</table>\n",
       "<p>103 rows × 6 columns</p>\n",
       "</div>"
      ],
      "text/plain": [
       "                                       Title/Author    Price  Availability  \\\n",
       "0    Operating System Concepts\\nBy Avi Silberschatz  Rs.3792      In stock   \n",
       "1         UNIX The Textbook\\nBy Syed Mansoor Sarwar  Rs.3410  Not in stock   \n",
       "2                 Taxonomy of IDS\\nBy Dr. Arif Butt  Rs.3218      In stock   \n",
       "3               Things Fall Apart\\nBy Chinua Achebe  Rs.8480  Not in stock   \n",
       "4           Fairy tales\\nBy Hans Christian Andersen  Rs.8533  Not in stock   \n",
       "..                                              ...      ...           ...   \n",
       "98                            Mahabharata\\nBy Vyasa  Rs.9088  Not in stock   \n",
       "99                 Leaves of Grass\\nBy Walt Whitman  Rs.9416  Not in stock   \n",
       "100                 Mrs Dalloway\\nBy Virginia Woolf  Rs.3460  Not in stock   \n",
       "101            To the Lighthouse\\nBy Virginia Woolf  Rs.7150  Not in stock   \n",
       "102     Memoirs of Hadrian\\nBy Marguerite Yourcenar  Rs.6405  Not in stock   \n",
       "\n",
       "         Reviews                                              Links  \\\n",
       "0     76 Reviews  https://www.amazon.com/Operating-System-Concep...   \n",
       "1     70 Reviews  https://www.google.com/search?q=Unix+the+textb...   \n",
       "2    187 Reviews  https://www.amazon.in/Taxonomy-Ids-Arif-Butt/d...   \n",
       "3    175 Reviews    https://en.wikipedia.org/wiki/Things_Fall_Apart   \n",
       "4    194 Reviews  https://en.wikipedia.org/wiki/Fairy_Tales_Told...   \n",
       "..           ...                                                ...   \n",
       "98    88 Reviews          https://en.wikipedia.org/wiki/Mahabharata   \n",
       "99    68 Reviews      https://en.wikipedia.org/wiki/Leaves_of_Grass   \n",
       "100   18 Reviews         https://en.wikipedia.org/wiki/Mrs_Dalloway   \n",
       "101  137 Reviews    https://en.wikipedia.org/wiki/To_the_Lighthouse   \n",
       "102   19 Reviews   https://en.wikipedia.org/wiki/Memoirs_of_Hadrian   \n",
       "\n",
       "     StarRating  \n",
       "0          4.29  \n",
       "1          0.00  \n",
       "2          4.49  \n",
       "3          3.64  \n",
       "4          3.43  \n",
       "..          ...  \n",
       "98         4.56  \n",
       "99         4.85  \n",
       "100        4.51  \n",
       "101        0.00  \n",
       "102        2.18  \n",
       "\n",
       "[103 rows x 6 columns]"
      ]
     },
     "execution_count": 65,
     "metadata": {},
     "output_type": "execute_result"
    }
   ],
   "source": [
    "from selenium.webdriver import Chrome\n",
    "from selenium.webdriver.chrome.service import Service\n",
    "from selenium.webdriver.common.by import By\n",
    "import time\n",
    "import pandas as pd\n",
    "# new header files\n",
    "from selenium.webdriver.support.ui import WebDriverWait\n",
    "from selenium.webdriver.support import expected_conditions as EC\n",
    "\n",
    "titles = []\n",
    "prices = []\n",
    "availability=[]\n",
    "reviews=[]\n",
    "links=[]\n",
    "star_rates =[]\n",
    "\n",
    "def books():\n",
    "    time.sleep(2)\n",
    "    books = driver.find_elements(By.CLASS_NAME, 'col-sm-4')\n",
    "    books_count = len(books)\n",
    "    for i in range(1,books_count+1):\n",
    "        title = driver.find_element(By.XPATH,'//*[@id=\"container\"]/div[' +str(i)+ ']/p[1]').text\n",
    "        titles.append(title)\n",
    "        price = driver.find_element(By.XPATH,'//*[@id=\"container\"]/div[' +str(i)+ ']/div/p[1]').text\n",
    "        prices.append(price)\n",
    "        avail = driver.find_element(By.XPATH,'//*[@id=\"container\"]/div[' +str(i)+ ']/div/p[2]').text\n",
    "        availability.append(avail)\n",
    "        review = driver.find_element(By.XPATH,'//*[@id=\"container\"]/div[' +str(i)+ ']/div/p[3]').text\n",
    "        reviews.append(review)\n",
    "        link = driver.find_element(By.XPATH,'//*[@id=\"container\"]/div[' +str(i)+ ']/p[1]/a').get_attribute('href')\n",
    "        links.append(link)\n",
    "        star_rate = driver.find_element(By.XPATH,'//*[@id=\"container\"]/div[' +str(i)+ ']/div/div').get_attribute('data-rate-star')\n",
    "        star_rate = round(float(star_rate),2) # fixing our rating to only 2 floatng points\n",
    "        star_rates.append(star_rate)\n",
    "    \n",
    "\n",
    "s = Service('/Users/arif/Documents/chromedriver') \n",
    "driver = Chrome(service=s)       \n",
    "url  = 'https://arifpucit.github.io/bss2/pagination'\n",
    "driver.get(url)\n",
    "driver.maximize_window()\n",
    "\n",
    "\n",
    "# Let us call the books() function and click the next button and repeat till it disappears/disabled \n",
    "while(True):\n",
    "        books()    \n",
    "        page = WebDriverWait(driver, 20).until(EC.presence_of_element_located((By.CSS_SELECTOR, '.page-item'))) \n",
    "        try:    \n",
    "            driver.find_element(By.XPATH,'//*[@id=\"page_8\"]')\n",
    "            driver.execute_script(\"arguments[0].scrollIntoView();\", driver.find_element(By.XPATH,'//*[@id=\"page_8\"]'))\n",
    "            try:\n",
    "                time.sleep(2)\n",
    "                driver.find_element(By.CSS_SELECTOR,'.page-item.disabled') \n",
    "                break\n",
    "            except:\n",
    "                driver.find_element(By.XPATH,'//*[@id=\"page_8\"]').click()  \n",
    "        except:\n",
    "            break\n",
    "\n",
    "\n",
    "\n",
    "# Writing in the file\n",
    "data = {'Title/Author':titles, 'Price':prices, 'Availability':availability, \n",
    "        'Reviews':reviews, 'Links':links, 'StarRating': star_rates}\n",
    "df = pd.DataFrame(data, columns=['Title/Author', 'Price', 'Availability', 'Reviews', 'Links', 'StarRating'])\n",
    "df.to_csv('books4.csv', index=False)\n",
    "df = pd.read_csv('books4.csv')\n",
    "df\n"
   ]
  },
  {
   "cell_type": "code",
   "execution_count": 66,
   "id": "ebd8f064",
   "metadata": {},
   "outputs": [],
   "source": [
    "driver.quit()"
   ]
  },
  {
   "cell_type": "code",
   "execution_count": null,
   "id": "9915611d",
   "metadata": {},
   "outputs": [],
   "source": []
  },
  {
   "cell_type": "code",
   "execution_count": null,
   "id": "e158290c",
   "metadata": {},
   "outputs": [],
   "source": []
  },
  {
   "cell_type": "code",
   "execution_count": null,
   "id": "723ff7d2",
   "metadata": {},
   "outputs": [],
   "source": []
  },
  {
   "cell_type": "code",
   "execution_count": null,
   "id": "a3f71e40",
   "metadata": {},
   "outputs": [],
   "source": []
  },
  {
   "cell_type": "markdown",
   "id": "9a735ea7",
   "metadata": {},
   "source": [
    "## 7. Example 5: Handling Popups (https://arifpucit.github.io/bss2/popup/)\n",
    "- Pop-ups are kind of informational or promotional offers that displays on top of your content.\n",
    "- They are designed to capture user's attention quickly. "
   ]
  },
  {
   "cell_type": "code",
   "execution_count": null,
   "id": "2658b7d4",
   "metadata": {},
   "outputs": [],
   "source": []
  },
  {
   "cell_type": "code",
   "execution_count": null,
   "id": "eb0d00b6",
   "metadata": {},
   "outputs": [],
   "source": []
  },
  {
   "cell_type": "markdown",
   "id": "2a76eb3f",
   "metadata": {},
   "source": [
    "### a. Apply Above Pagination Bot on the Pop-Up Version"
   ]
  },
  {
   "cell_type": "code",
   "execution_count": 67,
   "id": "f093f743",
   "metadata": {},
   "outputs": [
    {
     "data": {
      "text/html": [
       "<div>\n",
       "<style scoped>\n",
       "    .dataframe tbody tr th:only-of-type {\n",
       "        vertical-align: middle;\n",
       "    }\n",
       "\n",
       "    .dataframe tbody tr th {\n",
       "        vertical-align: top;\n",
       "    }\n",
       "\n",
       "    .dataframe thead th {\n",
       "        text-align: right;\n",
       "    }\n",
       "</style>\n",
       "<table border=\"1\" class=\"dataframe\">\n",
       "  <thead>\n",
       "    <tr style=\"text-align: right;\">\n",
       "      <th></th>\n",
       "      <th>Title/Author</th>\n",
       "      <th>Price</th>\n",
       "      <th>Availability</th>\n",
       "      <th>Reviews</th>\n",
       "      <th>Links</th>\n",
       "      <th>StarRating</th>\n",
       "    </tr>\n",
       "  </thead>\n",
       "  <tbody>\n",
       "    <tr>\n",
       "      <th>0</th>\n",
       "      <td>Operating System Concepts\\nBy Avi Silberschatz</td>\n",
       "      <td>Rs.4968</td>\n",
       "      <td>Not in stock</td>\n",
       "      <td>67 Reviews</td>\n",
       "      <td>https://www.amazon.com/Operating-System-Concep...</td>\n",
       "      <td>0.00</td>\n",
       "    </tr>\n",
       "    <tr>\n",
       "      <th>1</th>\n",
       "      <td>UNIX The Textbook\\nBy Syed Mansoor Sarwar</td>\n",
       "      <td>Rs.7676</td>\n",
       "      <td>Not in stock</td>\n",
       "      <td>192 Reviews</td>\n",
       "      <td>https://www.google.com/search?q=Unix+the+textb...</td>\n",
       "      <td>1.21</td>\n",
       "    </tr>\n",
       "    <tr>\n",
       "      <th>2</th>\n",
       "      <td>Taxonomy of IDS\\nBy Dr. Arif Butt</td>\n",
       "      <td>Rs.9592</td>\n",
       "      <td>In stock</td>\n",
       "      <td>63 Reviews</td>\n",
       "      <td>https://www.amazon.in/Taxonomy-Ids-Arif-Butt/d...</td>\n",
       "      <td>0.00</td>\n",
       "    </tr>\n",
       "    <tr>\n",
       "      <th>3</th>\n",
       "      <td>Things Fall Apart\\nBy Chinua Achebe</td>\n",
       "      <td>Rs.5299</td>\n",
       "      <td>Not in stock</td>\n",
       "      <td>127 Reviews</td>\n",
       "      <td>https://en.wikipedia.org/wiki/Things_Fall_Apart</td>\n",
       "      <td>1.33</td>\n",
       "    </tr>\n",
       "    <tr>\n",
       "      <th>4</th>\n",
       "      <td>Fairy tales\\nBy Hans Christian Andersen</td>\n",
       "      <td>Rs.3157</td>\n",
       "      <td>In stock</td>\n",
       "      <td>192 Reviews</td>\n",
       "      <td>https://en.wikipedia.org/wiki/Fairy_Tales_Told...</td>\n",
       "      <td>5.00</td>\n",
       "    </tr>\n",
       "    <tr>\n",
       "      <th>5</th>\n",
       "      <td>The Divine Comedy\\nBy Dante Alighieri</td>\n",
       "      <td>Rs.6827</td>\n",
       "      <td>Not in stock</td>\n",
       "      <td>35 Reviews</td>\n",
       "      <td>https://en.wikipedia.org/wiki/Divine_Comedy</td>\n",
       "      <td>1.01</td>\n",
       "    </tr>\n",
       "    <tr>\n",
       "      <th>6</th>\n",
       "      <td>The Epic Of Gilgamesh\\nBy Unknown</td>\n",
       "      <td>Rs.6239</td>\n",
       "      <td>Not in stock</td>\n",
       "      <td>172 Reviews</td>\n",
       "      <td>https://en.wikipedia.org/wiki/Epic_of_Gilgamesh</td>\n",
       "      <td>3.97</td>\n",
       "    </tr>\n",
       "    <tr>\n",
       "      <th>7</th>\n",
       "      <td>The Book Of Job\\nBy Unknown</td>\n",
       "      <td>Rs.3520</td>\n",
       "      <td>In stock</td>\n",
       "      <td>6 Reviews</td>\n",
       "      <td>https://en.wikipedia.org/wiki/Book_of_Job</td>\n",
       "      <td>2.37</td>\n",
       "    </tr>\n",
       "    <tr>\n",
       "      <th>8</th>\n",
       "      <td>One Thousand and One Nights\\nBy Unknown</td>\n",
       "      <td>Rs.3862</td>\n",
       "      <td>In stock</td>\n",
       "      <td>100 Reviews</td>\n",
       "      <td>https://en.wikipedia.org/wiki/One_Thousand_and...</td>\n",
       "      <td>2.20</td>\n",
       "    </tr>\n",
       "    <tr>\n",
       "      <th>9</th>\n",
       "      <td>Njál's Saga\\nBy Unknown</td>\n",
       "      <td>Rs.9881</td>\n",
       "      <td>Not in stock</td>\n",
       "      <td>133 Reviews</td>\n",
       "      <td>https://en.wikipedia.org/wiki/Nj%C3%A1ls_saga</td>\n",
       "      <td>0.00</td>\n",
       "    </tr>\n",
       "    <tr>\n",
       "      <th>10</th>\n",
       "      <td>Pride and Prejudice\\nBy Jane Austen</td>\n",
       "      <td>Rs.5290</td>\n",
       "      <td>In stock</td>\n",
       "      <td>128 Reviews</td>\n",
       "      <td>https://en.wikipedia.org/wiki/Pride_and_Prejudice</td>\n",
       "      <td>3.00</td>\n",
       "    </tr>\n",
       "    <tr>\n",
       "      <th>11</th>\n",
       "      <td>Le Père Goriot\\nBy Honoré de Balzac</td>\n",
       "      <td>Rs.3811</td>\n",
       "      <td>Not in stock</td>\n",
       "      <td>12 Reviews</td>\n",
       "      <td>https://en.wikipedia.org/wiki/Le_P%C3%A8re_Goriot</td>\n",
       "      <td>5.00</td>\n",
       "    </tr>\n",
       "    <tr>\n",
       "      <th>12</th>\n",
       "      <td>Molloy, Malone Dies, The Unnamable, the trilog...</td>\n",
       "      <td>Rs.9075</td>\n",
       "      <td>Not in stock</td>\n",
       "      <td>58 Reviews</td>\n",
       "      <td>https://en.wikipedia.org/wiki/Molloy_(novel)</td>\n",
       "      <td>3.93</td>\n",
       "    </tr>\n",
       "    <tr>\n",
       "      <th>13</th>\n",
       "      <td>The Decameron\\nBy Giovanni Boccaccio</td>\n",
       "      <td>Rs.3967</td>\n",
       "      <td>Not in stock</td>\n",
       "      <td>197 Reviews</td>\n",
       "      <td>https://en.wikipedia.org/wiki/The_Decameron</td>\n",
       "      <td>0.00</td>\n",
       "    </tr>\n",
       "    <tr>\n",
       "      <th>14</th>\n",
       "      <td>Ficciones\\nBy Jorge Luis Borges</td>\n",
       "      <td>Rs.6398</td>\n",
       "      <td>Not in stock</td>\n",
       "      <td>169 Reviews</td>\n",
       "      <td>https://en.wikipedia.org/wiki/Ficciones</td>\n",
       "      <td>5.00</td>\n",
       "    </tr>\n",
       "  </tbody>\n",
       "</table>\n",
       "</div>"
      ],
      "text/plain": [
       "                                         Title/Author    Price  Availability  \\\n",
       "0      Operating System Concepts\\nBy Avi Silberschatz  Rs.4968  Not in stock   \n",
       "1           UNIX The Textbook\\nBy Syed Mansoor Sarwar  Rs.7676  Not in stock   \n",
       "2                   Taxonomy of IDS\\nBy Dr. Arif Butt  Rs.9592      In stock   \n",
       "3                 Things Fall Apart\\nBy Chinua Achebe  Rs.5299  Not in stock   \n",
       "4             Fairy tales\\nBy Hans Christian Andersen  Rs.3157      In stock   \n",
       "5               The Divine Comedy\\nBy Dante Alighieri  Rs.6827  Not in stock   \n",
       "6                   The Epic Of Gilgamesh\\nBy Unknown  Rs.6239  Not in stock   \n",
       "7                         The Book Of Job\\nBy Unknown  Rs.3520      In stock   \n",
       "8             One Thousand and One Nights\\nBy Unknown  Rs.3862      In stock   \n",
       "9                             Njál's Saga\\nBy Unknown  Rs.9881  Not in stock   \n",
       "10                Pride and Prejudice\\nBy Jane Austen  Rs.5290      In stock   \n",
       "11                Le Père Goriot\\nBy Honoré de Balzac  Rs.3811  Not in stock   \n",
       "12  Molloy, Malone Dies, The Unnamable, the trilog...  Rs.9075  Not in stock   \n",
       "13               The Decameron\\nBy Giovanni Boccaccio  Rs.3967  Not in stock   \n",
       "14                    Ficciones\\nBy Jorge Luis Borges  Rs.6398  Not in stock   \n",
       "\n",
       "        Reviews                                              Links  StarRating  \n",
       "0    67 Reviews  https://www.amazon.com/Operating-System-Concep...        0.00  \n",
       "1   192 Reviews  https://www.google.com/search?q=Unix+the+textb...        1.21  \n",
       "2    63 Reviews  https://www.amazon.in/Taxonomy-Ids-Arif-Butt/d...        0.00  \n",
       "3   127 Reviews    https://en.wikipedia.org/wiki/Things_Fall_Apart        1.33  \n",
       "4   192 Reviews  https://en.wikipedia.org/wiki/Fairy_Tales_Told...        5.00  \n",
       "5    35 Reviews        https://en.wikipedia.org/wiki/Divine_Comedy        1.01  \n",
       "6   172 Reviews    https://en.wikipedia.org/wiki/Epic_of_Gilgamesh        3.97  \n",
       "7     6 Reviews          https://en.wikipedia.org/wiki/Book_of_Job        2.37  \n",
       "8   100 Reviews  https://en.wikipedia.org/wiki/One_Thousand_and...        2.20  \n",
       "9   133 Reviews      https://en.wikipedia.org/wiki/Nj%C3%A1ls_saga        0.00  \n",
       "10  128 Reviews  https://en.wikipedia.org/wiki/Pride_and_Prejudice        3.00  \n",
       "11   12 Reviews  https://en.wikipedia.org/wiki/Le_P%C3%A8re_Goriot        5.00  \n",
       "12   58 Reviews       https://en.wikipedia.org/wiki/Molloy_(novel)        3.93  \n",
       "13  197 Reviews        https://en.wikipedia.org/wiki/The_Decameron        0.00  \n",
       "14  169 Reviews            https://en.wikipedia.org/wiki/Ficciones        5.00  "
      ]
     },
     "execution_count": 67,
     "metadata": {},
     "output_type": "execute_result"
    }
   ],
   "source": [
    "from selenium.webdriver import Chrome\n",
    "from selenium.webdriver.chrome.service import Service\n",
    "from selenium.webdriver.common.by import By\n",
    "import time\n",
    "import pandas as pd\n",
    "# new header files\n",
    "from selenium.webdriver.support.ui import WebDriverWait\n",
    "from selenium.webdriver.support import expected_conditions as EC\n",
    "\n",
    "titles = []\n",
    "prices = []\n",
    "availability=[]\n",
    "reviews=[]\n",
    "links=[]\n",
    "star_rates =[]\n",
    "\n",
    "def books():\n",
    "    time.sleep(2)\n",
    "    books = driver.find_elements(By.CLASS_NAME, 'col-sm-4')\n",
    "    books_count = len(books)\n",
    "    for i in range(1,books_count+1):\n",
    "        title = driver.find_element(By.XPATH,'//*[@id=\"container\"]/div[' +str(i)+ ']/p[1]').text\n",
    "        titles.append(title)\n",
    "        price = driver.find_element(By.XPATH,'//*[@id=\"container\"]/div[' +str(i)+ ']/div/p[1]').text\n",
    "        prices.append(price)\n",
    "        avail = driver.find_element(By.XPATH,'//*[@id=\"container\"]/div[' +str(i)+ ']/div/p[2]').text\n",
    "        availability.append(avail)\n",
    "        review = driver.find_element(By.XPATH,'//*[@id=\"container\"]/div[' +str(i)+ ']/div/p[3]').text\n",
    "        reviews.append(review)\n",
    "        link = driver.find_element(By.XPATH,'//*[@id=\"container\"]/div[' +str(i)+ ']/p[1]/a').get_attribute('href')\n",
    "        links.append(link)\n",
    "        star_rate = driver.find_element(By.XPATH,'//*[@id=\"container\"]/div[' +str(i)+ ']/div/div').get_attribute('data-rate-star')\n",
    "        star_rate = round(float(star_rate),2) # fixing our rating to only 2 floatng points\n",
    "        star_rates.append(star_rate)\n",
    "    \n",
    "\n",
    "s = Service('/Users/arif/Documents/chromedriver') \n",
    "driver = Chrome(service=s)       \n",
    "url  = 'https://arifpucit.github.io/bss2/popup'\n",
    "driver.get(url)\n",
    "driver.maximize_window()\n",
    "\n",
    "# Let us call the books() function and click the next button and repeat till it disappears/disabled \n",
    "while(True):\n",
    "        books()    \n",
    "        page = WebDriverWait(driver, 20).until(EC.presence_of_element_located((By.CSS_SELECTOR, '.page-item'))) ## this is what wait looks like and this is important otherwise this code dont even But github worked without wait as i loaded all the data very fast\n",
    "        try:    \n",
    "            driver.find_element(By.XPATH,'//*[@id=\"page_8\"]')\n",
    "            driver.execute_script(\"arguments[0].scrollIntoView();\", driver.find_element(By.XPATH,'//*[@id=\"page_8\"]'))\n",
    "            try:\n",
    "                time.sleep(2)\n",
    "                driver.find_element(By.CSS_SELECTOR,'.page-item.disabled') ## finding the disbale class which disable the last page if we get this then break otherwise exception will be throwed\n",
    "                break\n",
    "            except:\n",
    "                driver.find_element(By.XPATH,'//*[@id=\"page_8\"]').click()  ## as exception throwed now should to the next button i mean a tag of next page      \n",
    "        except:\n",
    "            break\n",
    "\n",
    "\n",
    "\n",
    "# Writing in the file\n",
    "data = {'Title/Author':titles, 'Price':prices, 'Availability':availability, \n",
    "        'Reviews':reviews, 'Links':links, 'StarRating': star_rates}\n",
    "df = pd.DataFrame(data, columns=['Title/Author', 'Price', 'Availability', 'Reviews', 'Links', 'StarRating'])\n",
    "df.to_csv('books5.csv', index=False)\n",
    "df = pd.read_csv('books5.csv')\n",
    "df\n"
   ]
  },
  {
   "cell_type": "code",
   "execution_count": 68,
   "id": "9d4ec2d8",
   "metadata": {},
   "outputs": [],
   "source": [
    "driver.quit()"
   ]
  },
  {
   "cell_type": "code",
   "execution_count": null,
   "id": "a01d55ec",
   "metadata": {},
   "outputs": [],
   "source": []
  },
  {
   "cell_type": "code",
   "execution_count": null,
   "id": "85e02e75",
   "metadata": {},
   "outputs": [],
   "source": []
  },
  {
   "cell_type": "code",
   "execution_count": null,
   "id": "c74c415e",
   "metadata": {},
   "outputs": [],
   "source": []
  },
  {
   "cell_type": "markdown",
   "id": "9e9daa15",
   "metadata": {},
   "source": [
    "### b. Solution"
   ]
  },
  {
   "cell_type": "code",
   "execution_count": 69,
   "id": "a2895c05",
   "metadata": {},
   "outputs": [
    {
     "data": {
      "text/html": [
       "<div>\n",
       "<style scoped>\n",
       "    .dataframe tbody tr th:only-of-type {\n",
       "        vertical-align: middle;\n",
       "    }\n",
       "\n",
       "    .dataframe tbody tr th {\n",
       "        vertical-align: top;\n",
       "    }\n",
       "\n",
       "    .dataframe thead th {\n",
       "        text-align: right;\n",
       "    }\n",
       "</style>\n",
       "<table border=\"1\" class=\"dataframe\">\n",
       "  <thead>\n",
       "    <tr style=\"text-align: right;\">\n",
       "      <th></th>\n",
       "      <th>Title/Author</th>\n",
       "      <th>Price</th>\n",
       "      <th>Availability</th>\n",
       "      <th>Reviews</th>\n",
       "      <th>Links</th>\n",
       "      <th>StarRating</th>\n",
       "    </tr>\n",
       "  </thead>\n",
       "  <tbody>\n",
       "    <tr>\n",
       "      <th>0</th>\n",
       "      <td>Operating System Concepts\\nBy Avi Silberschatz</td>\n",
       "      <td>Rs.8763</td>\n",
       "      <td>In stock</td>\n",
       "      <td>48 Reviews</td>\n",
       "      <td>https://www.amazon.com/Operating-System-Concep...</td>\n",
       "      <td>3.51</td>\n",
       "    </tr>\n",
       "    <tr>\n",
       "      <th>1</th>\n",
       "      <td>UNIX The Textbook\\nBy Syed Mansoor Sarwar</td>\n",
       "      <td>Rs.3162</td>\n",
       "      <td>Not in stock</td>\n",
       "      <td>166 Reviews</td>\n",
       "      <td>https://www.google.com/search?q=Unix+the+textb...</td>\n",
       "      <td>1.78</td>\n",
       "    </tr>\n",
       "    <tr>\n",
       "      <th>2</th>\n",
       "      <td>Taxonomy of IDS\\nBy Dr. Arif Butt</td>\n",
       "      <td>Rs.7289</td>\n",
       "      <td>In stock</td>\n",
       "      <td>83 Reviews</td>\n",
       "      <td>https://www.amazon.in/Taxonomy-Ids-Arif-Butt/d...</td>\n",
       "      <td>2.87</td>\n",
       "    </tr>\n",
       "    <tr>\n",
       "      <th>3</th>\n",
       "      <td>Things Fall Apart\\nBy Chinua Achebe</td>\n",
       "      <td>Rs.9015</td>\n",
       "      <td>Not in stock</td>\n",
       "      <td>8 Reviews</td>\n",
       "      <td>https://en.wikipedia.org/wiki/Things_Fall_Apart</td>\n",
       "      <td>4.58</td>\n",
       "    </tr>\n",
       "    <tr>\n",
       "      <th>4</th>\n",
       "      <td>Fairy tales\\nBy Hans Christian Andersen</td>\n",
       "      <td>Rs.6509</td>\n",
       "      <td>Not in stock</td>\n",
       "      <td>191 Reviews</td>\n",
       "      <td>https://en.wikipedia.org/wiki/Fairy_Tales_Told...</td>\n",
       "      <td>3.14</td>\n",
       "    </tr>\n",
       "    <tr>\n",
       "      <th>...</th>\n",
       "      <td>...</td>\n",
       "      <td>...</td>\n",
       "      <td>...</td>\n",
       "      <td>...</td>\n",
       "      <td>...</td>\n",
       "      <td>...</td>\n",
       "    </tr>\n",
       "    <tr>\n",
       "      <th>98</th>\n",
       "      <td>Mahabharata\\nBy Vyasa</td>\n",
       "      <td>Rs.8452</td>\n",
       "      <td>In stock</td>\n",
       "      <td>155 Reviews</td>\n",
       "      <td>https://en.wikipedia.org/wiki/Mahabharata</td>\n",
       "      <td>2.19</td>\n",
       "    </tr>\n",
       "    <tr>\n",
       "      <th>99</th>\n",
       "      <td>Leaves of Grass\\nBy Walt Whitman</td>\n",
       "      <td>Rs.8778</td>\n",
       "      <td>In stock</td>\n",
       "      <td>125 Reviews</td>\n",
       "      <td>https://en.wikipedia.org/wiki/Leaves_of_Grass</td>\n",
       "      <td>0.00</td>\n",
       "    </tr>\n",
       "    <tr>\n",
       "      <th>100</th>\n",
       "      <td>Mrs Dalloway\\nBy Virginia Woolf</td>\n",
       "      <td>Rs.4298</td>\n",
       "      <td>Not in stock</td>\n",
       "      <td>5 Reviews</td>\n",
       "      <td>https://en.wikipedia.org/wiki/Mrs_Dalloway</td>\n",
       "      <td>5.00</td>\n",
       "    </tr>\n",
       "    <tr>\n",
       "      <th>101</th>\n",
       "      <td>To the Lighthouse\\nBy Virginia Woolf</td>\n",
       "      <td>Rs.8597</td>\n",
       "      <td>Not in stock</td>\n",
       "      <td>142 Reviews</td>\n",
       "      <td>https://en.wikipedia.org/wiki/To_the_Lighthouse</td>\n",
       "      <td>5.00</td>\n",
       "    </tr>\n",
       "    <tr>\n",
       "      <th>102</th>\n",
       "      <td>Memoirs of Hadrian\\nBy Marguerite Yourcenar</td>\n",
       "      <td>Rs.7727</td>\n",
       "      <td>In stock</td>\n",
       "      <td>4 Reviews</td>\n",
       "      <td>https://en.wikipedia.org/wiki/Memoirs_of_Hadrian</td>\n",
       "      <td>3.41</td>\n",
       "    </tr>\n",
       "  </tbody>\n",
       "</table>\n",
       "<p>103 rows × 6 columns</p>\n",
       "</div>"
      ],
      "text/plain": [
       "                                       Title/Author    Price  Availability  \\\n",
       "0    Operating System Concepts\\nBy Avi Silberschatz  Rs.8763      In stock   \n",
       "1         UNIX The Textbook\\nBy Syed Mansoor Sarwar  Rs.3162  Not in stock   \n",
       "2                 Taxonomy of IDS\\nBy Dr. Arif Butt  Rs.7289      In stock   \n",
       "3               Things Fall Apart\\nBy Chinua Achebe  Rs.9015  Not in stock   \n",
       "4           Fairy tales\\nBy Hans Christian Andersen  Rs.6509  Not in stock   \n",
       "..                                              ...      ...           ...   \n",
       "98                            Mahabharata\\nBy Vyasa  Rs.8452      In stock   \n",
       "99                 Leaves of Grass\\nBy Walt Whitman  Rs.8778      In stock   \n",
       "100                 Mrs Dalloway\\nBy Virginia Woolf  Rs.4298  Not in stock   \n",
       "101            To the Lighthouse\\nBy Virginia Woolf  Rs.8597  Not in stock   \n",
       "102     Memoirs of Hadrian\\nBy Marguerite Yourcenar  Rs.7727      In stock   \n",
       "\n",
       "         Reviews                                              Links  \\\n",
       "0     48 Reviews  https://www.amazon.com/Operating-System-Concep...   \n",
       "1    166 Reviews  https://www.google.com/search?q=Unix+the+textb...   \n",
       "2     83 Reviews  https://www.amazon.in/Taxonomy-Ids-Arif-Butt/d...   \n",
       "3      8 Reviews    https://en.wikipedia.org/wiki/Things_Fall_Apart   \n",
       "4    191 Reviews  https://en.wikipedia.org/wiki/Fairy_Tales_Told...   \n",
       "..           ...                                                ...   \n",
       "98   155 Reviews          https://en.wikipedia.org/wiki/Mahabharata   \n",
       "99   125 Reviews      https://en.wikipedia.org/wiki/Leaves_of_Grass   \n",
       "100    5 Reviews         https://en.wikipedia.org/wiki/Mrs_Dalloway   \n",
       "101  142 Reviews    https://en.wikipedia.org/wiki/To_the_Lighthouse   \n",
       "102    4 Reviews   https://en.wikipedia.org/wiki/Memoirs_of_Hadrian   \n",
       "\n",
       "     StarRating  \n",
       "0          3.51  \n",
       "1          1.78  \n",
       "2          2.87  \n",
       "3          4.58  \n",
       "4          3.14  \n",
       "..          ...  \n",
       "98         2.19  \n",
       "99         0.00  \n",
       "100        5.00  \n",
       "101        5.00  \n",
       "102        3.41  \n",
       "\n",
       "[103 rows x 6 columns]"
      ]
     },
     "execution_count": 69,
     "metadata": {},
     "output_type": "execute_result"
    }
   ],
   "source": [
    "from selenium.webdriver import Chrome\n",
    "from selenium.webdriver.chrome.service import Service\n",
    "from selenium.webdriver.common.by import By\n",
    "import time\n",
    "import pandas as pd\n",
    "# new header files\n",
    "from selenium.webdriver.support.ui import WebDriverWait\n",
    "from selenium.webdriver.support import expected_conditions as EC\n",
    "\n",
    "titles = []\n",
    "prices = []\n",
    "availability=[]\n",
    "reviews=[]\n",
    "links=[]\n",
    "star_rates =[]\n",
    "\n",
    "def books():\n",
    "    time.sleep(2)\n",
    "    books = driver.find_elements(By.CLASS_NAME, 'col-sm-4')\n",
    "    books_count = len(books)\n",
    "    for i in range(1,books_count+1):\n",
    "        title = driver.find_element(By.XPATH,'//*[@id=\"container\"]/div[' +str(i)+ ']/p[1]').text\n",
    "        titles.append(title)\n",
    "        price = driver.find_element(By.XPATH,'//*[@id=\"container\"]/div[' +str(i)+ ']/div/p[1]').text\n",
    "        prices.append(price)\n",
    "        avail = driver.find_element(By.XPATH,'//*[@id=\"container\"]/div[' +str(i)+ ']/div/p[2]').text\n",
    "        availability.append(avail)\n",
    "        review = driver.find_element(By.XPATH,'//*[@id=\"container\"]/div[' +str(i)+ ']/div/p[3]').text\n",
    "        reviews.append(review)\n",
    "        link = driver.find_element(By.XPATH,'//*[@id=\"container\"]/div[' +str(i)+ ']/p[1]/a').get_attribute('href')\n",
    "        links.append(link)\n",
    "        star_rate = driver.find_element(By.XPATH,'//*[@id=\"container\"]/div[' +str(i)+ ']/div/div').get_attribute('data-rate-star')\n",
    "        star_rate = round(float(star_rate),2) # fixing our rating to only 2 floatng points\n",
    "        star_rates.append(star_rate)\n",
    "    \n",
    "\n",
    "s = Service('/Users/arif/Documents/chromedriver') \n",
    "driver = Chrome(service=s)       \n",
    "url  = 'https://arifpucit.github.io/bss2/popup'\n",
    "driver.get(url)\n",
    "driver.maximize_window()\n",
    "\n",
    "\n",
    "#### Lets close the pop up\n",
    "time.sleep(5)\n",
    "driver.switch_to.frame(driver.find_element(By.ID,'frame'))\n",
    "clos_button  = driver.find_element(By.XPATH,'//*[@id=\"staticBackdrop\"]/div/div/div[1]/button')\n",
    "clos_button.click()\n",
    "driver.switch_to.default_content()\n",
    "\n",
    "\n",
    "\n",
    "\n",
    "# Let us call the books() function and click the next button and repeat till it disappears/disabled \n",
    "while(True):\n",
    "        books()    \n",
    "        page = WebDriverWait(driver, 20).until(EC.presence_of_element_located((By.CSS_SELECTOR, '.page-item'))) ## this is what wait looks like and this is important otherwise this code dont even But github worked without wait as i loaded all the data very fast\n",
    "        try:    \n",
    "            driver.find_element(By.XPATH,'//*[@id=\"page_8\"]')\n",
    "            driver.execute_script(\"arguments[0].scrollIntoView();\", driver.find_element(By.XPATH,'//*[@id=\"page_8\"]'))\n",
    "            try:\n",
    "                time.sleep(2)\n",
    "                driver.find_element(By.CSS_SELECTOR,'.page-item.disabled') ## finding the disbale class which disable the last page if we get this then break otherwise exception will be throwed\n",
    "                break\n",
    "            except:\n",
    "                driver.find_element(By.XPATH,'//*[@id=\"page_8\"]').click()  ## as exception throwed now should to the next button i mean a tag of next page      \n",
    "        except:\n",
    "            break\n",
    "\n",
    "\n",
    "\n",
    "# Writing in the file\n",
    "data = {'Title/Author':titles, 'Price':prices, 'Availability':availability, \n",
    "        'Reviews':reviews, 'Links':links, 'StarRating': star_rates}\n",
    "df = pd.DataFrame(data, columns=['Title/Author', 'Price', 'Availability', 'Reviews', 'Links', 'StarRating'])\n",
    "df.to_csv('books5.csv', index=False)\n",
    "df = pd.read_csv('books5.csv')\n",
    "df\n"
   ]
  },
  {
   "cell_type": "code",
   "execution_count": null,
   "id": "a53c0648",
   "metadata": {},
   "outputs": [],
   "source": []
  },
  {
   "cell_type": "code",
   "execution_count": null,
   "id": "1cf16ef9",
   "metadata": {},
   "outputs": [],
   "source": []
  },
  {
   "cell_type": "code",
   "execution_count": null,
   "id": "42e7d128",
   "metadata": {},
   "outputs": [],
   "source": []
  },
  {
   "cell_type": "code",
   "execution_count": null,
   "id": "a5bce631",
   "metadata": {},
   "outputs": [],
   "source": []
  },
  {
   "cell_type": "code",
   "execution_count": null,
   "id": "73e95687",
   "metadata": {},
   "outputs": [],
   "source": []
  },
  {
   "cell_type": "code",
   "execution_count": null,
   "id": "ad98537c",
   "metadata": {},
   "outputs": [],
   "source": []
  },
  {
   "cell_type": "code",
   "execution_count": null,
   "id": "447fe617",
   "metadata": {},
   "outputs": [],
   "source": []
  },
  {
   "cell_type": "code",
   "execution_count": null,
   "id": "1042a34e",
   "metadata": {},
   "outputs": [],
   "source": []
  },
  {
   "cell_type": "markdown",
   "id": "cf9b750d",
   "metadata": {},
   "source": [
    "## 8. Bonus"
   ]
  },
  {
   "cell_type": "markdown",
   "id": "53bfb8b6",
   "metadata": {},
   "source": [
    "**How to Generate App Passwords in Gmail**\n",
    "- Before 30 May 2022, one could enable \"Less Secure Accounts option\" on his/her Google account and can send emails via 3rd party tools, eg., from Python code. For security reasons, Google has disabled the \"Less Secure Accounts option\".\n",
    "- The alternative solution is \"Google App Password\", using which you can sign in to your Google account from applications on devices that do not support 2-Step Verification\n",
    "- So we can use App Passwords feature to create separate passwords exclusively for the script instead of main password without sacrificing two-factor authentication.\n",
    "- The steps to generate app passwords in gmail are:\n",
    "    - Login to your google account and click ::: icon at top right, then click Accounts to open your account settings\n",
    "    - and visit google account page at accounts.google.com\n",
    "    - Click security tab and make sure two factor authentication is turned ON\n",
    "    - Click on App Passwords\n",
    "    - Generate an app password by selecting the app as ‘Mail’ and the device as Windows or Mac (whatever applies) and  and click Generate\n",
    "    - It will display a 16 character app password\n",
    "    - Copy and use the generated app password instead of original gmail password in python scripts"
   ]
  },
  {
   "cell_type": "markdown",
   "id": "07d0b296",
   "metadata": {},
   "source": [
    "- The smtplib is a Python library for sending emails using the Simple Mail Transfer Protocol (SMTP). The smtplib is a built-in module; we do not need to install it. It abstracts away all the complexities of SMTP\n",
    "\n",
    "- MIMEBase is just a base class. As the specification says: \"Ordinarily you won’t create instances specifically of MIMEBase\"\n",
    "- MIMEText is for text (e.g. text/plain or text/html), if the whole message is in text format, or if a part of it is.\n",
    "- MIMEMultipart is for saying \"I have more than one part\", and then listing the parts - you do that if you have attachments, you also do it to provide alternative versions of the same content (e.g. a plain text version plus an HTML version)"
   ]
  },
  {
   "cell_type": "code",
   "execution_count": null,
   "id": "fe6e14d0",
   "metadata": {},
   "outputs": [],
   "source": []
  },
  {
   "cell_type": "code",
   "execution_count": null,
   "id": "98df5f69",
   "metadata": {},
   "outputs": [],
   "source": []
  },
  {
   "cell_type": "code",
   "execution_count": null,
   "id": "9595e403",
   "metadata": {},
   "outputs": [],
   "source": []
  },
  {
   "cell_type": "markdown",
   "id": "efc0fb27",
   "metadata": {},
   "source": [
    "### a. Sending Scraped Data vis E-Mail from Python\n",
    "-- Last generated app password is: clqthhcveozaehuk"
   ]
  },
  {
   "cell_type": "code",
   "execution_count": 77,
   "id": "50d2fc49",
   "metadata": {},
   "outputs": [
    {
     "name": "stdout",
     "output_type": "stream",
     "text": [
      "Done..!!\n"
     ]
    }
   ],
   "source": [
    "import smtplib, ssl\n",
    "from email.mime.text import MIMEText\n",
    "from email.mime.base import MIMEBase\n",
    "from email.mime.multipart import MIMEMultipart\n",
    "from email import encoders\n",
    "\n",
    "sender = 'arifbuttscraper@gmail.com'\n",
    "passwd = 'kmmlblbruejbiszu'\n",
    "receiver = 'arifpucit@gmail.com'\n",
    "\n",
    "# create MIMEMultipart object, fill its header information and attach the body to it\n",
    "msg = MIMEMultipart()\n",
    "msg['From'] = sender\n",
    "msg['To'] = receiver\n",
    "msg['Subject'] = 'Books Data'\n",
    "msg.attach(MIMEText(\n",
    "'''\n",
    "AoA,\n",
    "Please see the attached file containing information about books.\n",
    "Best\n",
    "''', \n",
    "'plain'))\n",
    "\n",
    "\n",
    "# create MIMEBase object for creating an attachment and attach it with the MIMEMultipart object\n",
    "part = MIMEBase('application', 'octet-stream')\n",
    "fd = open('books4.csv', 'rb') \n",
    "file_contents = fd.read()\n",
    "part.set_payload(file_contents)\n",
    "encoders.encode_base64(part)\n",
    "part.add_header('Content-Disposition', 'attachment; filename =\"books4.csv\"')\n",
    "msg.attach(part)\n",
    "\n",
    "# Send message object as email using smptplib by first creating an smtp session\n",
    "s = smtplib.SMTP_SSL(host='smtp.gmail.com', port=465)\n",
    "s.login(user = sender, password = passwd)\n",
    "s.sendmail(sender, receiver, msg.as_string())\n",
    "s.quit()\n",
    "print('Done..!!')"
   ]
  },
  {
   "cell_type": "code",
   "execution_count": null,
   "id": "0270309e",
   "metadata": {},
   "outputs": [],
   "source": []
  },
  {
   "cell_type": "code",
   "execution_count": null,
   "id": "a826f8c1",
   "metadata": {},
   "outputs": [],
   "source": []
  },
  {
   "cell_type": "code",
   "execution_count": null,
   "id": "46693b42",
   "metadata": {},
   "outputs": [],
   "source": []
  },
  {
   "cell_type": "code",
   "execution_count": null,
   "id": "3f7c931c",
   "metadata": {},
   "outputs": [],
   "source": []
  },
  {
   "cell_type": "markdown",
   "id": "348b8cd5",
   "metadata": {},
   "source": [
    "### b. Schedule your E-Mail"
   ]
  },
  {
   "cell_type": "code",
   "execution_count": 71,
   "id": "f4258c5a",
   "metadata": {},
   "outputs": [],
   "source": [
    "import sys\n",
    "!{sys.executable} -m pip install schedule -q"
   ]
  },
  {
   "cell_type": "code",
   "execution_count": 78,
   "id": "5db53528",
   "metadata": {},
   "outputs": [],
   "source": [
    "import smtplib, ssl\n",
    "from email.mime.text import MIMEText\n",
    "from email.mime.base import MIMEBase\n",
    "from email.mime.multipart import MIMEMultipart\n",
    "from email import encoders\n",
    "import os\n",
    "sender = 'arifbuttscraper@gmail.com'\n",
    "receiver = 'arifpucit@gmail.com'\n",
    "passwd = 'kmmlblbruejbiszu'\n",
    "msg = MIMEMultipart()\n",
    "msg['From'] = sender\n",
    "msg['To'] = receiver\n",
    "msg['Subject'] = 'Scheduled Email'\n",
    "msg.attach(MIMEText('This is an email scheduled to be sent at a specific date and time', 'plain'))\n",
    "part = MIMEBase('application', 'octet-stream')\n",
    "fd = open('books4.csv', 'rb') \n",
    "file_contents = fd.read()\n",
    "part.set_payload(file_contents)\n",
    "encoders.encode_base64(part)\n",
    "part.add_header('Content-Disposition', 'attachment; filename =\"books.csv\"')\n",
    "msg.attach(part)"
   ]
  },
  {
   "cell_type": "code",
   "execution_count": 79,
   "id": "f6fa33c1",
   "metadata": {},
   "outputs": [],
   "source": [
    "def mail():\n",
    "    s = smtplib.SMTP_SSL(host='smtp.gmail.com', port=465)\n",
    "    s.login(user = sender, password = passwd)\n",
    "    s.sendmail(sender, receiver, msg.as_string())"
   ]
  },
  {
   "cell_type": "code",
   "execution_count": 80,
   "id": "ac79195b",
   "metadata": {},
   "outputs": [
    {
     "name": "stdout",
     "output_type": "stream",
     "text": [
      "Tue Jun 28 16:26:20 PKT 2022\r\n"
     ]
    }
   ],
   "source": [
    "!date"
   ]
  },
  {
   "cell_type": "code",
   "execution_count": 81,
   "id": "96e5adbc",
   "metadata": {},
   "outputs": [
    {
     "ename": "KeyboardInterrupt",
     "evalue": "",
     "output_type": "error",
     "traceback": [
      "\u001b[0;31m---------------------------------------------------------------------------\u001b[0m",
      "\u001b[0;31mKeyboardInterrupt\u001b[0m                         Traceback (most recent call last)",
      "\u001b[0;32m/var/folders/1t/g3ylw8h50cjdqmk5d6jh1qmm0000gn/T/ipykernel_8195/1383129370.py\u001b[0m in \u001b[0;36m<module>\u001b[0;34m\u001b[0m\n\u001b[1;32m      4\u001b[0m \u001b[0;32mwhile\u001b[0m \u001b[0;34m(\u001b[0m\u001b[0;32mTrue\u001b[0m\u001b[0;34m)\u001b[0m\u001b[0;34m:\u001b[0m\u001b[0;34m\u001b[0m\u001b[0;34m\u001b[0m\u001b[0m\n\u001b[1;32m      5\u001b[0m     \u001b[0mschedule\u001b[0m\u001b[0;34m.\u001b[0m\u001b[0mrun_pending\u001b[0m\u001b[0;34m(\u001b[0m\u001b[0;34m)\u001b[0m\u001b[0;34m\u001b[0m\u001b[0;34m\u001b[0m\u001b[0m\n\u001b[0;32m----> 6\u001b[0;31m     \u001b[0mtime\u001b[0m\u001b[0;34m.\u001b[0m\u001b[0msleep\u001b[0m\u001b[0;34m(\u001b[0m\u001b[0;36m1\u001b[0m\u001b[0;34m)\u001b[0m\u001b[0;34m\u001b[0m\u001b[0;34m\u001b[0m\u001b[0m\n\u001b[0m",
      "\u001b[0;31mKeyboardInterrupt\u001b[0m: "
     ]
    }
   ],
   "source": [
    "import schedule\n",
    "import time\n",
    "schedule.every().day.at(\"16:27\").do(mail)\n",
    "while (True):\n",
    "    schedule.run_pending()\n",
    "    time.sleep(1)"
   ]
  },
  {
   "cell_type": "code",
   "execution_count": null,
   "id": "310f661f",
   "metadata": {},
   "outputs": [],
   "source": []
  },
  {
   "cell_type": "code",
   "execution_count": null,
   "id": "1383377b",
   "metadata": {},
   "outputs": [],
   "source": []
  },
  {
   "cell_type": "markdown",
   "id": "0d23666b",
   "metadata": {},
   "source": [
    "# To Be Continued...\n",
    " - Web Scraping Best Practices and Scraping of Real Websites"
   ]
  },
  {
   "cell_type": "code",
   "execution_count": null,
   "id": "e272beb6",
   "metadata": {},
   "outputs": [],
   "source": []
  }
 ],
 "metadata": {
  "kernelspec": {
   "display_name": "Python 3 (ipykernel)",
   "language": "python",
   "name": "python3"
  },
  "language_info": {
   "codemirror_mode": {
    "name": "ipython",
    "version": 3
   },
   "file_extension": ".py",
   "mimetype": "text/x-python",
   "name": "python",
   "nbconvert_exporter": "python",
   "pygments_lexer": "ipython3",
   "version": "3.8.10"
  }
 },
 "nbformat": 4,
 "nbformat_minor": 5
}
