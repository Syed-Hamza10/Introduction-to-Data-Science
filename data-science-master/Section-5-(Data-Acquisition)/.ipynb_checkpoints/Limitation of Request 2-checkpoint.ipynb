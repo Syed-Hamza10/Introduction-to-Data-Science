{
 "cells": [
  {
   "cell_type": "code",
   "execution_count": null,
   "id": "a19b2b2c",
   "metadata": {},
   "outputs": [],
   "source": []
  },
  {
   "cell_type": "markdown",
   "id": "0bd7085f",
   "metadata": {},
   "source": [
    "## 6. Limitations of BeautifulSoup\n",
    "- When you load up a website you want to scrape using your browser, the browser will make a request to the page's server to retrieve the page content. That's usually some HTML code, some CSS, and some JavaScript.\n",
    "- A key difference between loading the page using your browser and getting the page contents using requests is that your browser executes any JavaScript code that the page comes with. Sometimes you will see the initial page content (before the JavaScript runs) for a few moments, and then the JavaScript kicks in."
   ]
  },
  {
   "cell_type": "markdown",
   "id": "9dc05306",
   "metadata": {},
   "source": [
    "**Example 1:**"
   ]
  },
  {
   "cell_type": "code",
   "execution_count": 8,
   "id": "fc9b86c8",
   "metadata": {},
   "outputs": [
    {
     "data": {
      "text/plain": [
       "[<p class=\"price green\">Rs.2000</p>,\n",
       " <p class=\"review green\" data-rating=\"20\">20 Reviews</p>,\n",
       " <p class=\"price green\">Rs.5000</p>,\n",
       " <p class=\"review green\" data-rating=\"100\">100 Reviews</p>,\n",
       " <p class=\"price green\">Rs.6900</p>,\n",
       " <p class=\"review green\" data-rating=\"20\">20 Reviews</p>,\n",
       " <p class=\"price green\">Rs.2700</p>,\n",
       " <p class=\"review green\" data-rating=\"60\">60 Reviews</p>,\n",
       " <p class=\"price green\">Rs.1700</p>,\n",
       " <p class=\"review green\" data-rating=\"25\">25 Reviews</p>,\n",
       " <p class=\"price green\">Rs.1800</p>,\n",
       " <p class=\"review green\" data-rating=\"21\">21 Reviews</p>,\n",
       " <p class=\"price green\">Rs.6000</p>,\n",
       " <p class=\"review green\" data-rating=\"40\">40 Reviews</p>,\n",
       " <p class=\"price green\">Rs.1000</p>,\n",
       " <p class=\"review green\" data-rating=\"90\">90 Reviews</p>,\n",
       " <p class=\"price green\">Rs.1800</p>,\n",
       " <p class=\"review green\" data-rating=\"70\">70 Reviews</p>]"
      ]
     },
     "execution_count": 8,
     "metadata": {},
     "output_type": "execute_result"
    }
   ],
   "source": [
    "import requests\n",
    "from bs4 import BeautifulSoup\n",
    "\n",
    "resp = requests.get(\"https://arifpucit.github.io/bss2/\")\n",
    "soup = BeautifulSoup(resp.text,'lxml')\n",
    "price = soup.find_all('p', class_='green')\n",
    "price"
   ]
  },
  {
   "cell_type": "code",
   "execution_count": 10,
   "id": "aa4a4530",
   "metadata": {},
   "outputs": [
    {
     "data": {
      "text/plain": [
       "[]"
      ]
     },
     "execution_count": 10,
     "metadata": {},
     "output_type": "execute_result"
    }
   ],
   "source": [
    "import requests\n",
    "from bs4 import BeautifulSoup\n",
    "\n",
    "resp = requests.get(\"https://hamsof.github.io/bss-js-verison/\")\n",
    "soup = BeautifulSoup(resp.text,'lxml')\n",
    "prices = soup.find_all('p', class_='green')\n",
    "prices"
   ]
  },
  {
   "cell_type": "code",
   "execution_count": null,
   "id": "412cfa4c",
   "metadata": {},
   "outputs": [],
   "source": []
  },
  {
   "cell_type": "code",
   "execution_count": 14,
   "id": "f05d843c",
   "metadata": {},
   "outputs": [
    {
     "data": {
      "text/plain": [
       "[<p class=\"price green\">Rs.2000</p>,\n",
       " <p class=\"review green\" data-rating=\"20\">20 Reviews</p>,\n",
       " <p class=\"price green\">Rs.5000</p>,\n",
       " <p class=\"review green\" data-rating=\"100\">100 Reviews</p>,\n",
       " <p class=\"price green\">Rs.6900</p>,\n",
       " <p class=\"review green\" data-rating=\"20\">20 Reviews</p>,\n",
       " <p class=\"price green\">Rs.2700</p>,\n",
       " <p class=\"review green\" data-rating=\"60\">60 Reviews</p>,\n",
       " <p class=\"price green\">Rs.1700</p>,\n",
       " <p class=\"review green\" data-rating=\"25\">25 Reviews</p>,\n",
       " <p class=\"price green\">Rs.1800</p>,\n",
       " <p class=\"review green\" data-rating=\"21\">21 Reviews</p>,\n",
       " <p class=\"price green\">Rs.6000</p>,\n",
       " <p class=\"review green\" data-rating=\"40\">40 Reviews</p>,\n",
       " <p class=\"price green\">Rs.1000</p>,\n",
       " <p class=\"review green\" data-rating=\"90\">90 Reviews</p>,\n",
       " <p class=\"price green\">Rs.1800</p>,\n",
       " <p class=\"review green\" data-rating=\"70\">70 Reviews</p>]"
      ]
     },
     "execution_count": 14,
     "metadata": {},
     "output_type": "execute_result"
    }
   ],
   "source": [
    "import selenium\n",
    "from selenium import webdriver\n",
    "from selenium.webdriver.chrome.service import Service\n",
    "\n",
    "\n",
    "\n",
    "s = selenium.webdriver.chrome.service.Service('/Users/arif/Documents/chromedriver')  \n",
    "chrome_options = selenium.webdriver.chrome.options.Options()\n",
    "chrome_options.add_argument('--headless')\n",
    "driver = selenium.webdriver.Chrome(service=s, options=chrome_options)       \n",
    "driver.get('https://hamsof.github.io/bss-js-verison/')\n",
    "\n",
    "\n",
    "soup = BeautifulSoup(driver.page_source,'lxml')\n",
    "prices = soup.find_all('p', class_='green')\n",
    "prices"
   ]
  },
  {
   "cell_type": "code",
   "execution_count": null,
   "id": "4e8ef68b",
   "metadata": {},
   "outputs": [],
   "source": []
  }
 ],
 "metadata": {
  "kernelspec": {
   "display_name": "Python 3 (ipykernel)",
   "language": "python",
   "name": "python3"
  },
  "language_info": {
   "codemirror_mode": {
    "name": "ipython",
    "version": 3
   },
   "file_extension": ".py",
   "mimetype": "text/x-python",
   "name": "python",
   "nbconvert_exporter": "python",
   "pygments_lexer": "ipython3",
   "version": "3.8.10"
  },
  "vscode": {
   "interpreter": {
    "hash": "aa0111cc17ecd8cafd660c5dc05e67a11774bcc00aacf3fcad162efe3a73f979"
   }
  }
 },
 "nbformat": 4,
 "nbformat_minor": 5
}
